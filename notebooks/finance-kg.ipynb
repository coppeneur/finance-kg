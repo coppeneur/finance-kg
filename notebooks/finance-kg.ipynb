{
 "cells": [
  {
   "cell_type": "markdown",
   "source": [
    "# Finance Knowledge Graph creation\n"
   ],
   "metadata": {
    "collapsed": false
   },
   "id": "b0df9c7732cb48f0"
  },
  {
   "cell_type": "code",
   "execution_count": 1,
   "outputs": [],
   "source": [
    "# imports\n",
    "import pandas as pd\n",
    "from rdflib import Graph, URIRef, Namespace, Literal\n",
    "from rdflib.namespace import FOAF, DCTERMS, XSD, RDF, SDO, RDFS, OWL\n",
    "from urllib.parse import quote\n",
    "import numpy as np"
   ],
   "metadata": {
    "collapsed": false,
    "ExecuteTime": {
     "end_time": "2024-03-30T00:15:04.222801200Z",
     "start_time": "2024-03-30T00:15:03.713371500Z"
    }
   },
   "id": "8241e43257f4444b"
  },
  {
   "cell_type": "code",
   "outputs": [],
   "source": [
    "from requests import Session\n",
    "from requests_cache import CacheMixin, SQLiteCache\n",
    "from requests_ratelimiter import LimiterMixin, MemoryQueueBucket\n",
    "from pyrate_limiter import Duration, RequestRate, Limiter\n",
    "class CachedLimiterSession(CacheMixin, LimiterMixin, Session):\n",
    "    pass\n",
    "\n",
    "session = CachedLimiterSession(\n",
    "    limiter=Limiter(RequestRate(2, Duration.SECOND*5)),  # max 2 requests per 5 seconds\n",
    "    bucket_class=MemoryQueueBucket,\n",
    "    backend=SQLiteCache(\"../yfinance.cache\"),\n",
    ")"
   ],
   "metadata": {
    "collapsed": false,
    "ExecuteTime": {
     "end_time": "2024-03-30T00:15:04.451008Z",
     "start_time": "2024-03-30T00:15:04.224802200Z"
    }
   },
   "id": "29e3bd428048aae5",
   "execution_count": 2
  },
  {
   "cell_type": "code",
   "outputs": [],
   "source": [
    "g = Graph()\n",
    "\n",
    "# namespaces\n",
    "FINANCE = Namespace(\"https://w3id.org/finance/\")\n",
    "\n",
    "COMPANY = Namespace(\"https://finance.yahoo.com/quote/\")\n",
    "SECTOR = Namespace(\"https://finance.yahoo.com/sectors/\")\n",
    "\n",
    "ETF = Namespace(\"https://w3id.org/finance/etf/\")\n",
    "# https://www.justetf.com/en/etf-profile.html?isin=\n",
    "\n",
    "PERSON = Namespace(\"https://schema.org/person/\")  \n",
    "\n",
    "# bind prefixes\n",
    "g.bind(\"finance\", FINANCE)\n",
    "g.bind(\"company\", COMPANY)\n",
    "g.bind(\"sector\", SECTOR)\n",
    "#g.bind(\"industry\", INDUSTRY)\n",
    "g.bind(\"etf\", ETF)\n",
    "g.bind(\"person\", PERSON)\n",
    "\n",
    "g.bind(\"earningsdate\", FINANCE.EarningDate)\n",
    "g.bind(\"recommendation\", FINANCE.Recommendation)"
   ],
   "metadata": {
    "collapsed": false,
    "ExecuteTime": {
     "end_time": "2024-03-30T00:15:04.467022400Z",
     "start_time": "2024-03-30T00:15:04.448005300Z"
    }
   },
   "id": "b4078c377bd627fb",
   "execution_count": 3
  },
  {
   "cell_type": "markdown",
   "source": [
    "# Binding\n",
    "\n",
    "## bind classes"
   ],
   "metadata": {
    "collapsed": false
   },
   "id": "1aa73856d635e104"
  },
  {
   "cell_type": "code",
   "outputs": [
    {
     "data": {
      "text/plain": "<Graph identifier=N3a1a25b0867e4e04a18b23cf7054181d (<class 'rdflib.graph.Graph'>)>"
     },
     "execution_count": 5,
     "metadata": {},
     "output_type": "execute_result"
    }
   ],
   "source": [
    "# bind classes\n",
    "g.add((FINANCE.Person, RDF.type, RDFS.Class))\n",
    "g.add((FINANCE.ETF, RDF.type, RDFS.Class))\n",
    "g.add((FINANCE.Company, RDF.type, RDFS.Class))\n",
    "g.add((FINANCE.Industry, RDF.type, RDFS.Class))\n",
    "g.add((FINANCE.Sector, RDF.type, RDFS.Class))\n",
    "g.add((FINANCE.Address, RDF.type, RDFS.Class))\n",
    "g.add((FINANCE.ContactInformation, RDF.type, RDFS.Class))\n",
    "g.add((FINANCE.EarningsDate, RDF.type, RDFS.Class))\n",
    "g.add((FINANCE.Recommendation, RDF.type, RDFS.Class))"
   ],
   "metadata": {
    "collapsed": false,
    "ExecuteTime": {
     "end_time": "2024-03-30T00:15:04.494047200Z",
     "start_time": "2024-03-30T00:15:04.481034900Z"
    }
   },
   "id": "ca7808d068418a2",
   "execution_count": 5
  },
  {
   "cell_type": "markdown",
   "source": [
    "# bind properties\n",
    "## ETF"
   ],
   "metadata": {
    "collapsed": false
   },
   "id": "5cf39126deb115ce"
  },
  {
   "cell_type": "code",
   "outputs": [
    {
     "data": {
      "text/plain": "<Graph identifier=N3a1a25b0867e4e04a18b23cf7054181d (<class 'rdflib.graph.Graph'>)>"
     },
     "execution_count": 6,
     "metadata": {},
     "output_type": "execute_result"
    }
   ],
   "source": [
    "# bind properties\n",
    "\n",
    "# etf\n",
    "## name\n",
    "g.add((FINANCE.hasName, RDF.type, OWL.DatatypeProperty))\n",
    "g.add((FINANCE.hasName, RDFS.domain, FINANCE.ETF))\n",
    "g.add((FINANCE.hasName, RDFS.range, XSD.string))\n",
    "\n",
    "g.add((FINANCE.hasTicker, RDF.type, OWL.DatatypeProperty))\n",
    "g.add((FINANCE.hasTicker, RDFS.domain, FINANCE.ETF))\n",
    "g.add((FINANCE.hasTicker, RDFS.range, XSD.string))\n",
    "\n",
    "g.add((FINANCE.hasCurrency, RDF.type, OWL.DatatypeProperty))\n",
    "g.add((FINANCE.hasCurrency, RDFS.domain, FINANCE.ETF))\n",
    "g.add((FINANCE.hasCurrency, RDFS.range, XSD.string))\n",
    "\n",
    "# company\n",
    "g.add((FINANCE.hasCompany, RDF.type, OWL.ObjectProperty))\n",
    "g.add((FINANCE.hasCompany, RDFS.domain, FINANCE.ETF))\n",
    "g.add((FINANCE.hasCompany, RDFS.range, FINANCE.Company))"
   ],
   "metadata": {
    "collapsed": false,
    "ExecuteTime": {
     "end_time": "2024-03-30T00:15:04.536589400Z",
     "start_time": "2024-03-30T00:15:04.495047600Z"
    }
   },
   "id": "45d67e29e4f4690a",
   "execution_count": 6
  },
  {
   "cell_type": "markdown",
   "source": [
    "## company"
   ],
   "metadata": {
    "collapsed": false
   },
   "id": "744a4844dde7b50f"
  },
  {
   "cell_type": "code",
   "outputs": [
    {
     "data": {
      "text/plain": "<Graph identifier=N3a1a25b0867e4e04a18b23cf7054181d (<class 'rdflib.graph.Graph'>)>"
     },
     "execution_count": 7,
     "metadata": {},
     "output_type": "execute_result"
    }
   ],
   "source": [
    "# company\n",
    "## name\n",
    "g.add((FINANCE.hasName, RDF.type, OWL.DatatypeProperty))\n",
    "g.add((FINANCE.hasName, RDFS.domain, FINANCE.Company))\n",
    "g.add((FINANCE.hasName, RDFS.range, XSD.string))\n",
    "\n",
    "## symbol\n",
    "g.add((FINANCE.hasTicker, RDF.type, OWL.DatatypeProperty))\n",
    "g.add((FINANCE.hasTicker, RDFS.domain, FINANCE.Company))\n",
    "g.add((FINANCE.hasTicker, RDFS.range, XSD.string))\n",
    "\n",
    "## employee\n",
    "g.add((FINANCE.hasKeyExecutive, RDF.type, OWL.ObjectProperty))\n",
    "g.add((FINANCE.hasKeyExecutive, RDFS.domain, FINANCE.Company))\n",
    "g.add((FINANCE.hasKeyExecutive, RDFS.range, FINANCE.Person))\n",
    "\n",
    "## url or sameAs website for the company\n",
    "g.add((FINANCE.hasWebsite, RDF.type, OWL.DatatypeProperty))\n",
    "g.add((FINANCE.hasWebsite, RDFS.domain, FINANCE.Company))\n",
    "g.add((FINANCE.hasWebsite, RDFS.range, XSD.string))\n",
    "\n",
    "## full time employees\n",
    "g.add((FINANCE.hasFullTimeEmployees, RDF.type, OWL.DatatypeProperty))\n",
    "g.add((FINANCE.hasFullTimeEmployees, RDFS.domain, FINANCE.Company))\n",
    "g.add((FINANCE.hasFullTimeEmployees, RDFS.range, XSD.integer))\n",
    "\n",
    "## industry\n",
    "g.add((FINANCE.hasIndustry, RDF.type, OWL.ObjectProperty))\n",
    "g.add((FINANCE.hasIndustry, RDFS.domain, FINANCE.Company))\n",
    "g.add((FINANCE.hasIndustry, RDFS.range, FINANCE.Industry))\n",
    "\n",
    "## earnings date\n",
    "g.add((FINANCE.hasEarningsDate, RDF.type, OWL.ObjectProperty))\n",
    "g.add((FINANCE.hasEarningsDate, RDFS.domain, FINANCE.Company))\n",
    "g.add((FINANCE.hasEarningsDate, RDFS.range, FINANCE.EarningsDate))\n",
    "\n",
    "# recommendation\n",
    "g.add((FINANCE.hasRecommendation, RDF.type, OWL.ObjectProperty))\n",
    "g.add((FINANCE.hasRecommendation, RDFS.domain, FINANCE.Company))\n",
    "g.add((FINANCE.hasRecommendation, RDFS.range, FINANCE.Recommendation))\n",
    "\n",
    "# address\n",
    "g.add((FINANCE.hasAddress, RDF.type, OWL.ObjectProperty))\n",
    "g.add((FINANCE.hasAddress, RDFS.domain, FINANCE.Company))\n",
    "g.add((FINANCE.hasAddress, RDFS.range, FINANCE.Address))\n",
    "\n",
    "# currency\n",
    "g.add((FINANCE.hasCurrency, RDF.type, OWL.DatatypeProperty))\n",
    "g.add((FINANCE.hasCurrency, RDFS.domain, FINANCE.Company))\n",
    "g.add((FINANCE.hasCurrency, RDFS.range, XSD.string))"
   ],
   "metadata": {
    "collapsed": false,
    "ExecuteTime": {
     "end_time": "2024-03-30T00:15:04.538591500Z",
     "start_time": "2024-03-30T00:15:04.511063300Z"
    }
   },
   "id": "cd377dc0f83644ea",
   "execution_count": 7
  },
  {
   "cell_type": "markdown",
   "source": [
    "## earning date"
   ],
   "metadata": {
    "collapsed": false
   },
   "id": "afc8b73e6a05d2de"
  },
  {
   "cell_type": "code",
   "outputs": [
    {
     "data": {
      "text/plain": "<Graph identifier=N3a1a25b0867e4e04a18b23cf7054181d (<class 'rdflib.graph.Graph'>)>"
     },
     "execution_count": 8,
     "metadata": {},
     "output_type": "execute_result"
    }
   ],
   "source": [
    "# earnings date has  ['EPS Estimate', 'Reported EPS', 'Surprise(%)']\n",
    "# EPS Estimate\n",
    "g.add((FINANCE.hasEstimatedEPS, RDF.type, OWL.DatatypeProperty))\n",
    "g.add((FINANCE.hasEstimatedEPS, RDFS.domain, FINANCE.EarningsDate))\n",
    "g.add((FINANCE.hasEstimatedEPS, RDFS.range, XSD.float))\n",
    "\n",
    "# Reported EPS\n",
    "g.add((FINANCE.hasReportedEPS, RDF.type, OWL.DatatypeProperty))\n",
    "g.add((FINANCE.hasReportedEPS, RDFS.domain, FINANCE.EarningsDate))\n",
    "g.add((FINANCE.hasReportedEPS, RDFS.range, XSD.float))\n",
    "\n",
    "# Surprise(%)\n",
    "g.add((FINANCE.hasSurprise, RDF.type, OWL.DatatypeProperty))\n",
    "g.add((FINANCE.hasSurprise, RDFS.domain, FINANCE.EarningsDate))\n",
    "g.add((FINANCE.hasSurprise, RDFS.range, XSD.float))\n",
    "\n",
    "# date\n",
    "g.add((FINANCE.hasDate, RDF.type, OWL.DatatypeProperty))\n",
    "g.add((FINANCE.hasDate, RDFS.domain, FINANCE.EarningsDate))\n",
    "g.add((FINANCE.hasDate, RDFS.range, XSD.date))"
   ],
   "metadata": {
    "collapsed": false,
    "ExecuteTime": {
     "end_time": "2024-03-30T00:15:04.554605700Z",
     "start_time": "2024-03-30T00:15:04.526580500Z"
    }
   },
   "id": "395d335039044288",
   "execution_count": 8
  },
  {
   "cell_type": "markdown",
   "source": [
    "## recommendation"
   ],
   "metadata": {
    "collapsed": false
   },
   "id": "98391dc4c49b18e6"
  },
  {
   "cell_type": "code",
   "outputs": [
    {
     "data": {
      "text/plain": "<Graph identifier=N3a1a25b0867e4e04a18b23cf7054181d (<class 'rdflib.graph.Graph'>)>"
     },
     "execution_count": 9,
     "metadata": {},
     "output_type": "execute_result"
    }
   ],
   "source": [
    "# recommendation\n",
    "\n",
    "# date\n",
    "g.add((FINANCE.hasDate, RDF.type, OWL.DatatypeProperty))\n",
    "g.add((FINANCE.hasDate, RDFS.domain, FINANCE.Recommendation))\n",
    "g.add((FINANCE.hasDate, RDFS.range, XSD.string))\n",
    "\n",
    "# strongbuycount\n",
    "g.add((FINANCE.hasStrongBuyCount, RDF.type, OWL.DatatypeProperty))\n",
    "g.add((FINANCE.hasStrongBuyCount, RDFS.domain, FINANCE.Recommendation))\n",
    "g.add((FINANCE.hasStrongBuyCount, RDFS.range, XSD.integer))\n",
    "\n",
    "# buycount\n",
    "g.add((FINANCE.hasBuyCount, RDF.type, OWL.DatatypeProperty))\n",
    "g.add((FINANCE.hasBuyCount, RDFS.domain, FINANCE.Recommendation))\n",
    "g.add((FINANCE.hasBuyCount, RDFS.range, XSD.integer))\n",
    "\n",
    "# holdcount\n",
    "g.add((FINANCE.hasHoldCount, RDF.type, OWL.DatatypeProperty))\n",
    "g.add((FINANCE.hasHoldCount, RDFS.domain, FINANCE.Recommendation))\n",
    "g.add((FINANCE.hasHoldCount, RDFS.range, XSD.integer))\n",
    "\n",
    "# sellcount\n",
    "g.add((FINANCE.hasSellCount, RDF.type, OWL.DatatypeProperty))\n",
    "g.add((FINANCE.hasSellCount, RDFS.domain, FINANCE.Recommendation))\n",
    "g.add((FINANCE.hasSellCount, RDFS.range, XSD.integer))\n",
    "\n",
    "# strongsellcount\n",
    "g.add((FINANCE.hasStrongSellCount, RDF.type, OWL.DatatypeProperty))\n",
    "g.add((FINANCE.hasStrongSellCount, RDFS.domain, FINANCE.Recommendation))\n",
    "g.add((FINANCE.hasStrongSellCount, RDFS.range, XSD.integer))"
   ],
   "metadata": {
    "collapsed": false,
    "ExecuteTime": {
     "end_time": "2024-03-30T00:15:04.599647500Z",
     "start_time": "2024-03-30T00:15:04.542595700Z"
    }
   },
   "id": "1f9afc07c4b10577",
   "execution_count": 9
  },
  {
   "cell_type": "markdown",
   "source": [
    "## industry"
   ],
   "metadata": {
    "collapsed": false
   },
   "id": "88ce59cb1b955d55"
  },
  {
   "cell_type": "code",
   "outputs": [
    {
     "data": {
      "text/plain": "<Graph identifier=N3a1a25b0867e4e04a18b23cf7054181d (<class 'rdflib.graph.Graph'>)>"
     },
     "execution_count": 13,
     "metadata": {},
     "output_type": "execute_result"
    }
   ],
   "source": [
    "# industry\n",
    "## name\n",
    "g.add((FINANCE.hasName, RDF.type, OWL.DatatypeProperty))\n",
    "g.add((FINANCE.hasName, RDFS.domain, FINANCE.Industry))\n",
    "g.add((FINANCE.hasName, RDFS.range, XSD.string))"
   ],
   "metadata": {
    "collapsed": false,
    "ExecuteTime": {
     "end_time": "2024-03-30T00:15:04.630078800Z",
     "start_time": "2024-03-30T00:15:04.606300700Z"
    }
   },
   "id": "bc6db0ec46ac712c",
   "execution_count": 13
  },
  {
   "cell_type": "markdown",
   "source": [
    "## sector"
   ],
   "metadata": {
    "collapsed": false
   },
   "id": "22a8009301a406f8"
  },
  {
   "cell_type": "code",
   "outputs": [
    {
     "data": {
      "text/plain": "<Graph identifier=N3a1a25b0867e4e04a18b23cf7054181d (<class 'rdflib.graph.Graph'>)>"
     },
     "execution_count": 14,
     "metadata": {},
     "output_type": "execute_result"
    }
   ],
   "source": [
    "# industry to sector\n",
    "g.add((FINANCE.belongsToSector, RDF.type, OWL.ObjectProperty))\n",
    "g.add((FINANCE.belongsToSector, RDFS.domain, FINANCE.Industry))\n",
    "g.add((FINANCE.belongsToSector, RDFS.range, FINANCE.Sector))"
   ],
   "metadata": {
    "collapsed": false,
    "ExecuteTime": {
     "end_time": "2024-03-30T00:15:04.676120300Z",
     "start_time": "2024-03-30T00:15:04.621917Z"
    }
   },
   "id": "ce39d75ab5f5de86",
   "execution_count": 14
  },
  {
   "cell_type": "markdown",
   "source": [
    "## person"
   ],
   "metadata": {
    "collapsed": false
   },
   "id": "24513a05c55bdf50"
  },
  {
   "cell_type": "code",
   "outputs": [
    {
     "data": {
      "text/plain": "<Graph identifier=N3a1a25b0867e4e04a18b23cf7054181d (<class 'rdflib.graph.Graph'>)>"
     },
     "execution_count": 15,
     "metadata": {},
     "output_type": "execute_result"
    }
   ],
   "source": [
    "# person\n",
    "## name\n",
    "g.add((FINANCE.hasName, RDF.type, OWL.DatatypeProperty))\n",
    "g.add((FINANCE.hasName, RDFS.domain, FINANCE.Person))\n",
    "g.add((FINANCE.hasName, RDFS.range, XSD.string))\n",
    "\n",
    "## gender\n",
    "g.add((FINANCE.hasGender, RDF.type, OWL.DatatypeProperty))\n",
    "g.add((FINANCE.hasGender, RDFS.domain, FINANCE.Person))\n",
    "g.add((FINANCE.hasGender, RDFS.range, XSD.string))\n",
    "\n",
    "## job title\n",
    "g.add((FINANCE.hasJobTitle, RDF.type, OWL.DatatypeProperty))\n",
    "g.add((FINANCE.hasJobTitle, RDFS.domain, FINANCE.Person))\n",
    "g.add((FINANCE.hasJobTitle, RDFS.range, XSD.string))\n",
    "\n",
    "## age\n",
    "g.add((FINANCE.hasAge, RDF.type, OWL.DatatypeProperty))\n",
    "g.add((FINANCE.hasAge, RDFS.domain, FINANCE.Person))\n",
    "g.add((FINANCE.hasAge, RDFS.range, XSD.integer))\n",
    "\n",
    "## yearborn\n",
    "g.add((FINANCE.hasYearBorn, RDF.type, OWL.DatatypeProperty))\n",
    "g.add((FINANCE.hasYearBorn, RDFS.domain, FINANCE.Person))\n",
    "g.add((FINANCE.hasYearBorn, RDFS.range, XSD.integer))\n",
    "\n",
    "## totalPay\n",
    "g.add((FINANCE.hasTotalPay, RDF.type, OWL.DatatypeProperty))\n",
    "g.add((FINANCE.hasTotalPay, RDFS.domain, FINANCE.Person))\n",
    "g.add((FINANCE.hasTotalPay, RDFS.range, XSD.float))\n",
    "\n",
    "## exercisedValue\n",
    "g.add((FINANCE.hasExercisedValue, RDF.type, OWL.DatatypeProperty))\n",
    "g.add((FINANCE.hasExercisedValue, RDFS.domain, FINANCE.Person))\n",
    "g.add((FINANCE.hasExercisedValue, RDFS.range, XSD.float))\n",
    "\n",
    "## unexercisedValue\n",
    "g.add((FINANCE.hasUnexercisedValue, RDF.type, OWL.DatatypeProperty))\n",
    "g.add((FINANCE.hasUnexercisedValue, RDFS.domain, FINANCE.Person))\n",
    "g.add((FINANCE.hasUnexercisedValue, RDFS.range, XSD.float))"
   ],
   "metadata": {
    "collapsed": false,
    "ExecuteTime": {
     "end_time": "2024-03-30T00:15:04.678122Z",
     "start_time": "2024-03-30T00:15:04.637085200Z"
    }
   },
   "id": "51deb75e96119455",
   "execution_count": 15
  },
  {
   "cell_type": "markdown",
   "source": [
    "## address"
   ],
   "metadata": {
    "collapsed": false
   },
   "id": "7ee8ff4245cc6aa6"
  },
  {
   "cell_type": "code",
   "outputs": [
    {
     "data": {
      "text/plain": "<Graph identifier=N3a1a25b0867e4e04a18b23cf7054181d (<class 'rdflib.graph.Graph'>)>"
     },
     "execution_count": 16,
     "metadata": {},
     "output_type": "execute_result"
    }
   ],
   "source": [
    "# address\n",
    "## street\n",
    "g.add((FINANCE.hasStreet, RDF.type, OWL.DatatypeProperty))\n",
    "g.add((FINANCE.hasStreet, RDFS.domain, FINANCE.Address))\n",
    "g.add((FINANCE.hasStreet, RDFS.range, XSD.string))\n",
    "\n",
    "## city\n",
    "g.add((FINANCE.hasCity, RDF.type, OWL.DatatypeProperty))\n",
    "g.add((FINANCE.hasCity, RDFS.domain, FINANCE.Address))\n",
    "g.add((FINANCE.hasCity, RDFS.range, XSD.string))\n",
    "\n",
    "## postal code\n",
    "g.add((FINANCE.hasPostalCode, RDF.type, OWL.DatatypeProperty))\n",
    "g.add((FINANCE.hasPostalCode, RDFS.domain, FINANCE.Address))\n",
    "g.add((FINANCE.hasPostalCode, RDFS.range, XSD.string))\n",
    "\n",
    "## country\n",
    "g.add((FINANCE.hasCountry, RDF.type, OWL.DatatypeProperty))\n",
    "g.add((FINANCE.hasCountry, RDFS.domain, FINANCE.Address))\n",
    "g.add((FINANCE.hasCountry, RDFS.range, XSD.string))\n",
    "\n",
    "## state\n",
    "g.add((FINANCE.hasState, RDF.type, OWL.DatatypeProperty))\n",
    "g.add((FINANCE.hasState, RDFS.domain, FINANCE.Address))\n",
    "g.add((FINANCE.hasState, RDFS.range, XSD.string))"
   ],
   "metadata": {
    "collapsed": false,
    "ExecuteTime": {
     "end_time": "2024-03-30T00:15:04.679122900Z",
     "start_time": "2024-03-30T00:15:04.653100400Z"
    }
   },
   "id": "f29b1add7b8f5c5d",
   "execution_count": 16
  },
  {
   "cell_type": "code",
   "outputs": [
    {
     "data": {
      "text/plain": "<Graph identifier=N3a1a25b0867e4e04a18b23cf7054181d (<class 'rdflib.graph.Graph'>)>"
     },
     "execution_count": 18,
     "metadata": {},
     "output_type": "execute_result"
    }
   ],
   "source": [
    "# safe ontology\n",
    "g.serialize(destination='../data/ontology.ttl', format='turtle')"
   ],
   "metadata": {
    "collapsed": false,
    "ExecuteTime": {
     "end_time": "2024-03-30T00:15:04.728167800Z",
     "start_time": "2024-03-30T00:15:04.685129900Z"
    }
   },
   "id": "76b2b5363aee4140",
   "execution_count": 18
  },
  {
   "cell_type": "markdown",
   "source": [
    "# insert data"
   ],
   "metadata": {
    "collapsed": false
   },
   "id": "219d0af641478d63"
  },
  {
   "cell_type": "code",
   "outputs": [],
   "source": [
    "import yfinance as yf\n",
    "import pandas as pd\n",
    "import regex as re"
   ],
   "metadata": {
    "collapsed": false,
    "ExecuteTime": {
     "end_time": "2024-03-30T00:15:04.863292500Z",
     "start_time": "2024-03-30T00:15:04.701143400Z"
    }
   },
   "id": "63b67bcd0aa954a1",
   "execution_count": 19
  },
  {
   "cell_type": "code",
   "outputs": [],
   "source": [
    "def prep_uri(namespace: Namespace, clazz: str):\n",
    "    \"\"\"\n",
    "    This function prepares a URI for a given class. It removes special chars like & and -.\n",
    "    After that it removes any amount of whitespaces and replaces them with a dash.\n",
    "    :param namespace: \n",
    "    :param clazz: \n",
    "    :return: \n",
    "    \"\"\"\n",
    "    return namespace[quote(re.sub(r'\\s+', '-', clazz.replace('&', '').replace('-', '').replace('.', '').lower()))]"
   ],
   "metadata": {
    "collapsed": false,
    "ExecuteTime": {
     "end_time": "2024-03-30T00:15:04.878305400Z",
     "start_time": "2024-03-30T00:15:04.858287900Z"
    }
   },
   "id": "b3d1575851f94022",
   "execution_count": 20
  },
  {
   "cell_type": "markdown",
   "source": [
    "## industry and sector data"
   ],
   "metadata": {
    "collapsed": false
   },
   "id": "848ee75ac262d3be"
  },
  {
   "cell_type": "code",
   "outputs": [
    {
     "data": {
      "text/plain": "                        Technology   Financial Services  \\\n0        Software - Infrastructure  Banks - Diversified   \n1                   Semiconductors      Credit Services   \n2             Consumer Electronics     Asset Management   \n3           Software - Application     Banks - Regional   \n4  Information Technology Services      Capital Markets   \n\n                     Healthcare        Consumer Cyclical  \\\n0  Drug Manufacturers - General          Internet Retail   \n1              Healthcare Plans       Auto Manufacturers   \n2               Medical Devices              Restaurants   \n3                 Biotechnology  Home Improvement Retail   \n4        Diagnostics & Research          Travel Services   \n\n                           Industrials          Communication Services  \\\n0       Specialty Industrial Machinery  Internet Content & Information   \n1                  Aerospace & Defense                Telecom Services   \n2                            Railroads                   Entertainment   \n3  Farm & Heavy Construction Machinery  Electronic Gaming & Multimedia   \n4        Building Products & Equipment            Advertising Agencies   \n\n              Consumer Defensive                          Energy  \\\n0                Discount Stores            Oil & Gas Integrated   \n1      Beverages - Non-Alcoholic                   Oil & Gas E&P   \n2  Household & Personal Products             Oil & Gas Midstream   \n3                 Packaged Foods  Oil & Gas Refining & Marketing   \n4                        Tobacco  Oil & Gas Equipment & Services   \n\n       Basic Materials           Real Estate                       Utilities  \n0  Specialty Chemicals      REIT - Specialty  Utilities - Regulated Electric  \n1                 Gold     REIT - Industrial           Utilities - Renewable  \n2   Building Materials         REIT - Retail         Utilities - Diversified  \n3               Copper    REIT - Residential       Utilities - Regulated Gas  \n4                Steel  Real Estate Services     Utilities - Regulated Water  ",
      "text/html": "<div>\n<style scoped>\n    .dataframe tbody tr th:only-of-type {\n        vertical-align: middle;\n    }\n\n    .dataframe tbody tr th {\n        vertical-align: top;\n    }\n\n    .dataframe thead th {\n        text-align: right;\n    }\n</style>\n<table border=\"1\" class=\"dataframe\">\n  <thead>\n    <tr style=\"text-align: right;\">\n      <th></th>\n      <th>Technology</th>\n      <th>Financial Services</th>\n      <th>Healthcare</th>\n      <th>Consumer Cyclical</th>\n      <th>Industrials</th>\n      <th>Communication Services</th>\n      <th>Consumer Defensive</th>\n      <th>Energy</th>\n      <th>Basic Materials</th>\n      <th>Real Estate</th>\n      <th>Utilities</th>\n    </tr>\n  </thead>\n  <tbody>\n    <tr>\n      <th>0</th>\n      <td>Software - Infrastructure</td>\n      <td>Banks - Diversified</td>\n      <td>Drug Manufacturers - General</td>\n      <td>Internet Retail</td>\n      <td>Specialty Industrial Machinery</td>\n      <td>Internet Content &amp; Information</td>\n      <td>Discount Stores</td>\n      <td>Oil &amp; Gas Integrated</td>\n      <td>Specialty Chemicals</td>\n      <td>REIT - Specialty</td>\n      <td>Utilities - Regulated Electric</td>\n    </tr>\n    <tr>\n      <th>1</th>\n      <td>Semiconductors</td>\n      <td>Credit Services</td>\n      <td>Healthcare Plans</td>\n      <td>Auto Manufacturers</td>\n      <td>Aerospace &amp; Defense</td>\n      <td>Telecom Services</td>\n      <td>Beverages - Non-Alcoholic</td>\n      <td>Oil &amp; Gas E&amp;P</td>\n      <td>Gold</td>\n      <td>REIT - Industrial</td>\n      <td>Utilities - Renewable</td>\n    </tr>\n    <tr>\n      <th>2</th>\n      <td>Consumer Electronics</td>\n      <td>Asset Management</td>\n      <td>Medical Devices</td>\n      <td>Restaurants</td>\n      <td>Railroads</td>\n      <td>Entertainment</td>\n      <td>Household &amp; Personal Products</td>\n      <td>Oil &amp; Gas Midstream</td>\n      <td>Building Materials</td>\n      <td>REIT - Retail</td>\n      <td>Utilities - Diversified</td>\n    </tr>\n    <tr>\n      <th>3</th>\n      <td>Software - Application</td>\n      <td>Banks - Regional</td>\n      <td>Biotechnology</td>\n      <td>Home Improvement Retail</td>\n      <td>Farm &amp; Heavy Construction Machinery</td>\n      <td>Electronic Gaming &amp; Multimedia</td>\n      <td>Packaged Foods</td>\n      <td>Oil &amp; Gas Refining &amp; Marketing</td>\n      <td>Copper</td>\n      <td>REIT - Residential</td>\n      <td>Utilities - Regulated Gas</td>\n    </tr>\n    <tr>\n      <th>4</th>\n      <td>Information Technology Services</td>\n      <td>Capital Markets</td>\n      <td>Diagnostics &amp; Research</td>\n      <td>Travel Services</td>\n      <td>Building Products &amp; Equipment</td>\n      <td>Advertising Agencies</td>\n      <td>Tobacco</td>\n      <td>Oil &amp; Gas Equipment &amp; Services</td>\n      <td>Steel</td>\n      <td>Real Estate Services</td>\n      <td>Utilities - Regulated Water</td>\n    </tr>\n  </tbody>\n</table>\n</div>"
     },
     "execution_count": 22,
     "metadata": {},
     "output_type": "execute_result"
    }
   ],
   "source": [
    "# read industry data\n",
    "sectors_industries_df = pd.read_excel('../data/sectors-industries.xlsx')\n",
    "sectors_industries_df.head()"
   ],
   "metadata": {
    "collapsed": false,
    "ExecuteTime": {
     "end_time": "2024-03-30T00:15:05.159541Z",
     "start_time": "2024-03-30T00:15:04.891317300Z"
    }
   },
   "id": "30e404136ffb039a",
   "execution_count": 22
  },
  {
   "cell_type": "code",
   "outputs": [],
   "source": [
    "# create industry and sector triples\n",
    "industry_uri_df = pd.DataFrame(columns=['industry', 'uri'])\n",
    "\n",
    "for sector in sectors_industries_df.columns:\n",
    "\n",
    "    sector_uri = prep_uri(SECTOR, sector)\n",
    "\n",
    "    g.add((sector_uri, RDF.type, FINANCE.Sector))\n",
    "    g.add((sector_uri, RDFS.label, Literal(sector, datatype=XSD.string)))\n",
    "\n",
    "    for industry in sectors_industries_df[sector]:\n",
    "        if pd.isna(industry):\n",
    "            continue\n",
    "\n",
    "        industry_uri = prep_uri(Namespace(sector_uri + '/'), industry)\n",
    "        # add industry uri to dataframe\n",
    "        row = pd.Series({'industry': industry, 'uri': industry_uri})\n",
    "        industry_uri_df = pd.concat([industry_uri_df, pd.DataFrame([row], columns=row.index)]).reset_index(drop=True)\n",
    "\n",
    "        g.add((industry_uri, RDF.type, FINANCE.Industry))\n",
    "        g.add((industry_uri, RDFS.label, Literal(industry, datatype=XSD.string)))\n",
    "        g.add((industry_uri, FINANCE.belongsToSector, sector_uri))"
   ],
   "metadata": {
    "collapsed": false,
    "ExecuteTime": {
     "end_time": "2024-03-30T00:15:05.251133800Z",
     "start_time": "2024-03-30T00:15:05.160541600Z"
    }
   },
   "id": "6e34af72f48e0a0b",
   "execution_count": 23
  },
  {
   "cell_type": "code",
   "outputs": [
    {
     "data": {
      "text/plain": "                                    industry  \\\n0                  Software - Infrastructure   \n1                             Semiconductors   \n2                       Consumer Electronics   \n3                     Software - Application   \n4            Information Technology Services   \n..                                       ...   \n140                    Utilities - Renewable   \n141                  Utilities - Diversified   \n142                Utilities - Regulated Gas   \n143              Utilities - Regulated Water   \n144  Utilities - Independent Power Producers   \n\n                                                   uri  \n0    https://finance.yahoo.com/sectors/technology/s...  \n1    https://finance.yahoo.com/sectors/technology/s...  \n2    https://finance.yahoo.com/sectors/technology/c...  \n3    https://finance.yahoo.com/sectors/technology/s...  \n4    https://finance.yahoo.com/sectors/technology/i...  \n..                                                 ...  \n140  https://finance.yahoo.com/sectors/utilities/ut...  \n141  https://finance.yahoo.com/sectors/utilities/ut...  \n142  https://finance.yahoo.com/sectors/utilities/ut...  \n143  https://finance.yahoo.com/sectors/utilities/ut...  \n144  https://finance.yahoo.com/sectors/utilities/ut...  \n\n[145 rows x 2 columns]",
      "text/html": "<div>\n<style scoped>\n    .dataframe tbody tr th:only-of-type {\n        vertical-align: middle;\n    }\n\n    .dataframe tbody tr th {\n        vertical-align: top;\n    }\n\n    .dataframe thead th {\n        text-align: right;\n    }\n</style>\n<table border=\"1\" class=\"dataframe\">\n  <thead>\n    <tr style=\"text-align: right;\">\n      <th></th>\n      <th>industry</th>\n      <th>uri</th>\n    </tr>\n  </thead>\n  <tbody>\n    <tr>\n      <th>0</th>\n      <td>Software - Infrastructure</td>\n      <td>https://finance.yahoo.com/sectors/technology/s...</td>\n    </tr>\n    <tr>\n      <th>1</th>\n      <td>Semiconductors</td>\n      <td>https://finance.yahoo.com/sectors/technology/s...</td>\n    </tr>\n    <tr>\n      <th>2</th>\n      <td>Consumer Electronics</td>\n      <td>https://finance.yahoo.com/sectors/technology/c...</td>\n    </tr>\n    <tr>\n      <th>3</th>\n      <td>Software - Application</td>\n      <td>https://finance.yahoo.com/sectors/technology/s...</td>\n    </tr>\n    <tr>\n      <th>4</th>\n      <td>Information Technology Services</td>\n      <td>https://finance.yahoo.com/sectors/technology/i...</td>\n    </tr>\n    <tr>\n      <th>...</th>\n      <td>...</td>\n      <td>...</td>\n    </tr>\n    <tr>\n      <th>140</th>\n      <td>Utilities - Renewable</td>\n      <td>https://finance.yahoo.com/sectors/utilities/ut...</td>\n    </tr>\n    <tr>\n      <th>141</th>\n      <td>Utilities - Diversified</td>\n      <td>https://finance.yahoo.com/sectors/utilities/ut...</td>\n    </tr>\n    <tr>\n      <th>142</th>\n      <td>Utilities - Regulated Gas</td>\n      <td>https://finance.yahoo.com/sectors/utilities/ut...</td>\n    </tr>\n    <tr>\n      <th>143</th>\n      <td>Utilities - Regulated Water</td>\n      <td>https://finance.yahoo.com/sectors/utilities/ut...</td>\n    </tr>\n    <tr>\n      <th>144</th>\n      <td>Utilities - Independent Power Producers</td>\n      <td>https://finance.yahoo.com/sectors/utilities/ut...</td>\n    </tr>\n  </tbody>\n</table>\n<p>145 rows × 2 columns</p>\n</div>"
     },
     "execution_count": 24,
     "metadata": {},
     "output_type": "execute_result"
    }
   ],
   "source": [
    "industry_uri_df"
   ],
   "metadata": {
    "collapsed": false,
    "ExecuteTime": {
     "end_time": "2024-03-30T00:15:05.260644700Z",
     "start_time": "2024-03-30T00:15:05.236861200Z"
    }
   },
   "id": "dda69d3770f1f1d5",
   "execution_count": 24
  },
  {
   "cell_type": "markdown",
   "source": [
    "## company data"
   ],
   "metadata": {
    "collapsed": false
   },
   "id": "84e4938836ab3055"
  },
  {
   "cell_type": "code",
   "outputs": [],
   "source": [
    "def is_valid_ticker(ticker: yf):\n",
    "    \"\"\"\n",
    "    This function checks if a given ticker symbol is valid.\n",
    "    :param ticker: \n",
    "    :return: boolean\n",
    "    \"\"\"\n",
    "    try:\n",
    "        if str(ticker.get_info()) == \"{'trailingPegRatio': None}\":\n",
    "            return False\n",
    "        return True\n",
    "    except Exception as e:\n",
    "        #print(e)\n",
    "        return False"
   ],
   "metadata": {
    "collapsed": false,
    "ExecuteTime": {
     "end_time": "2024-03-30T00:15:05.278660800Z",
     "start_time": "2024-03-30T00:15:05.253135400Z"
    }
   },
   "id": "5233ed1c14f31c38",
   "execution_count": 25
  },
  {
   "cell_type": "code",
   "outputs": [],
   "source": [
    "def grep_ticker_data(tickers: pd.Series, etf_uri: str):\n",
    "    \"\"\"\n",
    "    This function accumulates relevant stock data from yahoo finance with the corresponding ticker symbol.\n",
    "    :param tickers: column of ticker symbols\n",
    "    :return: TODO\n",
    "    \"\"\"\n",
    "    i = 0  # TODO remove\n",
    "    invalid_tickers = []\n",
    "\n",
    "    # get possible info data\n",
    "    tickers_metadata_df = pd.DataFrame()  \n",
    "    for ticker_value in tickers:\n",
    "        ticker = yf.Ticker(str(ticker_value), session=session)\n",
    "\n",
    "        if not is_valid_ticker(ticker):\n",
    "            # handling ticker like 'BRK/B', 'BF/B', 'HEI/A', 'UHAL/B'\n",
    "            if '/' in ticker_value:\n",
    "                ticker = yf.Ticker(str(ticker_value.replace('/', '-')), session=session)\n",
    "                if not is_valid_ticker(ticker):\n",
    "                    invalid_tickers.append(ticker_value)\n",
    "                    continue\n",
    "            else:\n",
    "                invalid_tickers.append(ticker_value)\n",
    "                continue\n",
    "        handle_info_data(ticker, etf_uri)\n",
    "\n",
    "    print(f\"a total of {len(invalid_tickers)} invalid tickers. \\n\"\n",
    "          f\"{invalid_tickers}\")\n",
    "\n",
    "    return tickers_metadata_df"
   ],
   "metadata": {
    "collapsed": false,
    "ExecuteTime": {
     "end_time": "2024-03-30T00:15:05.293674900Z",
     "start_time": "2024-03-30T00:15:05.268652Z"
    }
   },
   "id": "642388289c921ca3",
   "execution_count": 26
  },
  {
   "cell_type": "code",
   "outputs": [],
   "source": [
    "def handle_info_data(ticker: yf.Ticker, etf_uri: str):\n",
    "    \"\"\"\n",
    "    This function handles the info data of a given ticker.\n",
    "    :param ticker: \n",
    "    :return: \n",
    "    \"\"\"\n",
    "    info = ticker.get_info()\n",
    "    # if shortname is not available, skip and print shortname\n",
    "    if 'shortName' not in info:\n",
    "        print(f\"shortName not available for {ticker}\")\n",
    "        return\n",
    "    company_uri = URIRef(COMPANY + quote(info['symbol']))\n",
    "    g.add((etf_uri, FINANCE.hasCompany, company_uri))\n",
    "    g.add((company_uri, RDF.type, FINANCE.Company))\n",
    "    print(company_uri)\n",
    "    g.add((company_uri, FINANCE.hasName, Literal(info['shortName'], datatype=XSD.string)))\n",
    "    g.add((company_uri, FINANCE.hasTicker, Literal(info['symbol'], datatype=XSD.string)))\n",
    "    if 'website' in info:\n",
    "        g.add((company_uri, FINANCE.hasWebsite, Literal(info['website'], datatype=XSD.string)))\n",
    "    if 'industry' in info:\n",
    "        if info['industry'] in industry_uri_df['industry'].values:\n",
    "            g.add((company_uri, FINANCE.hasIndustry, industry_uri_df[industry_uri_df['industry'] == info['industry']]['uri'].values[0]))\n",
    "    if 'fullTimeEmployees' in info:\n",
    "        g.add((company_uri, FINANCE.hasFullTimeEmployees, Literal(info['fullTimeEmployees'], datatype=XSD.integer)))\n",
    "    if 'currency' in info:\n",
    "        g.add((company_uri, FINANCE.hasCurrency, Literal(info['currency'], datatype=XSD.string)))\n",
    "\n",
    "\n",
    "    # add earnings\n",
    "    base_earnings_uri = company_uri + '/earnings/'\n",
    "    try:\n",
    "        earnings_df = ticker.earnings_dates\n",
    "        if earnings_df is not None:\n",
    "            for index, row in earnings_df.iterrows():\n",
    "                date = index.date()\n",
    "                earnings_uri = URIRef(base_earnings_uri + quote(str(date)))\n",
    "                g.add((company_uri, FINANCE.hasEarningsDate, earnings_uri))\n",
    "                g.add((earnings_uri, RDF.type, FINANCE.EarningDate))\n",
    "                g.add((earnings_uri, FINANCE.hasDate, Literal(date, datatype=XSD.date)))\n",
    "                if 'EPS Estimate' in row.keys():\n",
    "                    if not pd.isna(row['EPS Estimate']):\n",
    "                        g.add((earnings_uri, FINANCE.hasEstimatedEPS, Literal(row['EPS Estimate'], datatype=XSD.float)))\n",
    "                if 'Reported EPS' in row.keys():\n",
    "                    if not pd.isna(row['Reported EPS']):\n",
    "                        g.add((earnings_uri, FINANCE.hasReportedEPS, Literal(row['Reported EPS'], datatype=XSD.float)))\n",
    "                if 'Surprise(%)' in row.keys():\n",
    "                    if not pd.isna(row['Surprise(%)']):\n",
    "                        g.add((earnings_uri, FINANCE.hasSurprise, Literal(row['Surprise(%)'], datatype=XSD.float)))\n",
    "    except KeyError as e:\n",
    "        print(f\"skipping earnings_dates for {str(company_uri)}\")\n",
    "    ## done adding earnings\n",
    "\n",
    "    # add recommendation\n",
    "    try:\n",
    "        base_recommendation_uri = company_uri + '/recommendation/'\n",
    "        recommendation_df = ticker.get_recommendations()\n",
    "        if recommendation_df is not None:\n",
    "            for index, row in recommendation_df.iterrows():\n",
    "                date = index\n",
    "                if 'period' in row.keys():\n",
    "                    if not pd.isna(row['period']):\n",
    "                        date = row['period']\n",
    "                        recommendation_uri = URIRef(base_recommendation_uri + quote(str(date)))\n",
    "                        g.add((company_uri, FINANCE.hasRecommendation, recommendation_uri))\n",
    "                        g.add((recommendation_uri, RDF.type, FINANCE.Recommendation))\n",
    "                        g.add((recommendation_uri, FINANCE.hasDate, Literal(date, datatype=XSD.string)))\n",
    "                    else:\n",
    "                        continue\n",
    "                else:\n",
    "                    continue\n",
    "    \n",
    "                if 'strongBuy' in row.keys():\n",
    "                    if not pd.isna(row['strongBuy']):\n",
    "                        g.add((recommendation_uri, FINANCE.hasStrongBuyCount, Literal(row['strongBuy'], datatype=XSD.integer)))\n",
    "                if 'buy' in row.keys():\n",
    "                    if not pd.isna(row['buy']):\n",
    "                        g.add((recommendation_uri, FINANCE.hasBuyCount, Literal(row['buy'], datatype=XSD.integer)))\n",
    "                if 'hold' in row.keys():\n",
    "                    if not pd.isna(row['hold']):\n",
    "                        g.add((recommendation_uri, FINANCE.hasHoldCount, Literal(row['hold'], datatype=XSD.integer)))\n",
    "                if 'sell' in row.keys():\n",
    "                    if not pd.isna(row['sell']):\n",
    "                        g.add((recommendation_uri, FINANCE.hasSellCount, Literal(row['sell'], datatype=XSD.integer)))\n",
    "                if 'strongSell' in row.keys():\n",
    "                    if not pd.isna(row['strongSell']):\n",
    "                        g.add((recommendation_uri, FINANCE.hasStrongSellCount, Literal(row['strongSell'], datatype=XSD.integer)))\n",
    "    except Exception as e:\n",
    "        print(f\"skipping earnings_dates for {str(company_uri)}\")\n",
    "    ## done adding recommendation\n",
    "\n",
    "    for key in info.keys():\n",
    "        # company officers\n",
    "        if key == 'companyOfficers':\n",
    "            for employee in info['companyOfficers']:\n",
    "                name = re.sub(r'Mr. |Mrs. |Ms. ', '', employee['name'])\n",
    "\n",
    "                person_uri = prep_uri(PERSON, name.lower().replace(' ', '-'))\n",
    "                g.add((person_uri, RDF.type, FINANCE.Person))\n",
    "\n",
    "                # remove Mr. and Mrs. from name\n",
    "                g.add((person_uri, FINANCE.hasName, Literal(name, datatype=XSD.string)))\n",
    "                # filter gender\n",
    "                if 'Mr.' in employee['name']:\n",
    "                    g.add((person_uri, FINANCE.hasGender, Literal('m', datatype=XSD.string)))\n",
    "                if 'Mrs.' in employee['name'] or 'Ms.' in employee['name']:\n",
    "                    g.add((person_uri, FINANCE.hasGender, Literal('w', datatype=XSD.string)))\n",
    "                if 'title' in employee:\n",
    "                    g.add((person_uri, FINANCE.hasJobTitle, Literal(employee['title'], datatype=XSD.string)))\n",
    "                if 'totalPay' in employee:\n",
    "                    g.add((person_uri, FINANCE.hasTotalPay, Literal(employee['totalPay'], datatype=XSD.float)))\n",
    "                if 'exercisedValue' in employee:\n",
    "                    g.add((person_uri, FINANCE.hasExercisedValue,\n",
    "                           Literal(employee['exercisedValue'], datatype=XSD.float)))\n",
    "                if 'unexercisedValue' in employee:\n",
    "                    g.add((person_uri, FINANCE.hasUnexercisedValue,\n",
    "                           Literal(employee['unexercisedValue'], datatype=XSD.float)))\n",
    "                if 'yearBorn' in employee:\n",
    "                    g.add((person_uri, FINANCE.hasYearBorn, Literal(employee['yearBorn'], datatype=XSD.integer)))\n",
    "                if 'age' in employee:\n",
    "                    g.add((person_uri, FINANCE.hasAge, Literal(employee['age'], datatype=XSD.integer)))\n",
    "                # add employee to company\n",
    "                g.add((company_uri, FINANCE.hasKeyExecutive, person_uri))\n",
    "        ## done adding company officers\n",
    "        # address\n",
    "        address_uri = URIRef(company_uri + '/address/')\n",
    "        g.add((company_uri, FINANCE.hasAddress, address_uri))\n",
    "        g.add((address_uri, RDF.type, FINANCE.Address))\n",
    "        if 'address1' in info:\n",
    "            g.add((address_uri, FINANCE.hasStreet, Literal(info['address1'], datatype=XSD.string)))\n",
    "        if 'city' in info:\n",
    "            g.add((address_uri, FINANCE.hasCity, Literal(info['city'], datatype=XSD.string)))\n",
    "        if 'zip' in info:\n",
    "            g.add((address_uri, FINANCE.hasPostalCode, Literal(info['zip'], datatype=XSD.string)))\n",
    "        if 'country' in info:\n",
    "            g.add((address_uri, FINANCE.hasCountry, Literal(info['country'], datatype=XSD.string)))\n",
    "        if 'state' in info:\n",
    "            g.add((address_uri, FINANCE.hasState, Literal(info['state'], datatype=XSD.string)))\n",
    "        # done adding address\n",
    "pass"
   ],
   "metadata": {
    "collapsed": false,
    "ExecuteTime": {
     "end_time": "2024-03-30T00:15:05.330708500Z",
     "start_time": "2024-03-30T00:15:05.284667400Z"
    }
   },
   "id": "7e0850934199c148",
   "execution_count": 27
  },
  {
   "cell_type": "code",
   "outputs": [],
   "source": [
    "# read companies in the msci world\n",
    "msci_world_companies_df = pd.read_excel('../data/msci-world-updated.xlsx')\n",
    "sp_500_companies_df = pd.read_excel('../data/sp-500-updated.xlsx')"
   ],
   "metadata": {
    "collapsed": false,
    "ExecuteTime": {
     "end_time": "2024-03-30T00:15:05.663694800Z",
     "start_time": "2024-03-30T00:15:05.331709200Z"
    }
   },
   "id": "5d5f5f6dbb9b932",
   "execution_count": 29
  },
  {
   "cell_type": "code",
   "outputs": [],
   "source": [
    "def add_etf(ticker: str):\n",
    "    \"\"\"\n",
    "    This function adds an ETF to the knowledge graph.\n",
    "    :param ticker: \n",
    "    :return: \n",
    "    \"\"\"\n",
    "    etf = yf.Ticker(ticker, session=session)\n",
    "    info = etf.get_info()\n",
    "    etf_uri = prep_uri(ETF, info['longName'])\n",
    "    g.add((etf_uri, RDF.type, FINANCE.ETF))\n",
    "    g.add((etf_uri, FINANCE.hasName, Literal(info['longName'], datatype=XSD.string))\n",
    "    )\n",
    "    g.add((etf_uri, FINANCE.hasTicker, Literal(info['symbol'], datatype=XSD.string))\n",
    "    )\n",
    "    if 'currency' in info:\n",
    "        g.add((etf_uri, FINANCE.hasCurrency, Literal(info['currency'], datatype=XSD.string))\n",
    "        )\n",
    "    return etf_uri"
   ],
   "metadata": {
    "collapsed": false,
    "ExecuteTime": {
     "end_time": "2024-03-30T00:15:05.678172Z",
     "start_time": "2024-03-30T00:15:05.662693400Z"
    }
   },
   "id": "6b4deb68b362a43a",
   "execution_count": 30
  },
  {
   "cell_type": "code",
   "outputs": [
    {
     "name": "stdout",
     "output_type": "stream",
     "text": [
      "WARNING: cookie & crumb does not work well with requests_cache. Am experimenting with 'expire_after=DO_NOT_CACHE', but you need to help stress-test.\n",
      "https://finance.yahoo.com/quote/MSFT\n",
      "https://finance.yahoo.com/quote/AAPL\n",
      "https://finance.yahoo.com/quote/NVDA\n",
      "https://finance.yahoo.com/quote/AMZN\n",
      "https://finance.yahoo.com/quote/META\n",
      "https://finance.yahoo.com/quote/GOOGL\n",
      "https://finance.yahoo.com/quote/GOOG\n",
      "https://finance.yahoo.com/quote/LLY\n",
      "https://finance.yahoo.com/quote/AVGO\n",
      "https://finance.yahoo.com/quote/TSLA\n",
      "https://finance.yahoo.com/quote/JPM\n"
     ]
    },
    {
     "name": "stderr",
     "output_type": "stream",
     "text": [
      "404 Client Error: Not Found for url: https://query2.finance.yahoo.com/v10/finance/quoteSummary/BRK/B?modules=financialData%2CquoteType%2CdefaultKeyStatistics%2CassetProfile%2CsummaryDetail&corsDomain=finance.yahoo.com&formatted=false&symbol=BRK%2FB&crumb=RvcHzk3Ziw6\n"
     ]
    },
    {
     "name": "stdout",
     "output_type": "stream",
     "text": [
      "https://finance.yahoo.com/quote/BRK-B\n",
      "https://finance.yahoo.com/quote/UNH\n",
      "https://finance.yahoo.com/quote/V\n",
      "https://finance.yahoo.com/quote/XOM\n",
      "https://finance.yahoo.com/quote/MA\n",
      "https://finance.yahoo.com/quote/JNJ\n",
      "https://finance.yahoo.com/quote/NONOF\n"
     ]
    },
    {
     "name": "stderr",
     "output_type": "stream",
     "text": [
      "404 Client Error: Not Found for url: https://query2.finance.yahoo.com/v10/finance/quoteSummary/NONOF?modules=recommendationTrend&corsDomain=finance.yahoo.com&formatted=false&symbol=NONOF&crumb=RvcHzk3Ziw6\n"
     ]
    },
    {
     "name": "stdout",
     "output_type": "stream",
     "text": [
      "https://finance.yahoo.com/quote/ASMLF\n"
     ]
    },
    {
     "name": "stderr",
     "output_type": "stream",
     "text": [
      "404 Client Error: Not Found for url: https://query2.finance.yahoo.com/v10/finance/quoteSummary/ASMLF?modules=recommendationTrend&corsDomain=finance.yahoo.com&formatted=false&symbol=ASMLF&crumb=RvcHzk3Ziw6\n"
     ]
    },
    {
     "name": "stdout",
     "output_type": "stream",
     "text": [
      "https://finance.yahoo.com/quote/HD\n",
      "https://finance.yahoo.com/quote/PG\n",
      "https://finance.yahoo.com/quote/COST\n",
      "https://finance.yahoo.com/quote/MRK\n",
      "https://finance.yahoo.com/quote/AMD\n",
      "https://finance.yahoo.com/quote/NAN\n"
     ]
    },
    {
     "name": "stderr",
     "output_type": "stream",
     "text": [
      "NAN: No earnings dates found, symbol may be delisted\n"
     ]
    },
    {
     "name": "stdout",
     "output_type": "stream",
     "text": [
      "https://finance.yahoo.com/quote/CRM\n",
      "https://finance.yahoo.com/quote/NSRGF\n"
     ]
    },
    {
     "name": "stderr",
     "output_type": "stream",
     "text": [
      "NSRGF: No earnings dates found, symbol may be delisted\n"
     ]
    },
    {
     "name": "stdout",
     "output_type": "stream",
     "text": [
      "https://finance.yahoo.com/quote/CVX\n",
      "https://finance.yahoo.com/quote/NFLX\n",
      "https://finance.yahoo.com/quote/WMT\n",
      "https://finance.yahoo.com/quote/TOYOF\n",
      "https://finance.yahoo.com/quote/ADBE\n",
      "https://finance.yahoo.com/quote/LVMHF\n"
     ]
    },
    {
     "name": "stderr",
     "output_type": "stream",
     "text": [
      "LVMHF: No earnings dates found, symbol may be delisted\n"
     ]
    },
    {
     "name": "stdout",
     "output_type": "stream",
     "text": [
      "https://finance.yahoo.com/quote/KO\n",
      "https://finance.yahoo.com/quote/BAC\n",
      "https://finance.yahoo.com/quote/ACN\n",
      "https://finance.yahoo.com/quote/PEP\n",
      "https://finance.yahoo.com/quote/TMO\n",
      "https://finance.yahoo.com/quote/LIN\n",
      "https://finance.yahoo.com/quote/MCD\n",
      "https://finance.yahoo.com/quote/NVSEF\n"
     ]
    },
    {
     "name": "stderr",
     "output_type": "stream",
     "text": [
      "404 Client Error: Not Found for url: https://query2.finance.yahoo.com/v10/finance/quoteSummary/NVSEF?modules=recommendationTrend&corsDomain=finance.yahoo.com&formatted=false&symbol=NVSEF&crumb=RvcHzk3Ziw6\n"
     ]
    },
    {
     "name": "stdout",
     "output_type": "stream",
     "text": [
      "https://finance.yahoo.com/quote/ABT\n",
      "https://finance.yahoo.com/quote/RYDAF\n"
     ]
    },
    {
     "name": "stderr",
     "output_type": "stream",
     "text": [
      "404 Client Error: Not Found for url: https://query2.finance.yahoo.com/v10/finance/quoteSummary/RYDAF?modules=recommendationTrend&corsDomain=finance.yahoo.com&formatted=false&symbol=RYDAF&crumb=RvcHzk3Ziw6\n",
      "NAN: No earnings dates found, symbol may be delisted\n"
     ]
    },
    {
     "name": "stdout",
     "output_type": "stream",
     "text": [
      "https://finance.yahoo.com/quote/NAN\n",
      "https://finance.yahoo.com/quote/WFC\n",
      "https://finance.yahoo.com/quote/SAPGF\n"
     ]
    },
    {
     "name": "stderr",
     "output_type": "stream",
     "text": [
      "404 Client Error: Not Found for url: https://query2.finance.yahoo.com/v10/finance/quoteSummary/SAPGF?modules=recommendationTrend&corsDomain=finance.yahoo.com&formatted=false&symbol=SAPGF&crumb=RvcHzk3Ziw6\n"
     ]
    },
    {
     "name": "stdout",
     "output_type": "stream",
     "text": [
      "https://finance.yahoo.com/quote/AZNCF\n"
     ]
    },
    {
     "name": "stderr",
     "output_type": "stream",
     "text": [
      "404 Client Error: Not Found for url: https://query2.finance.yahoo.com/v10/finance/quoteSummary/AZNCF?modules=recommendationTrend&corsDomain=finance.yahoo.com&formatted=false&symbol=AZNCF&crumb=RvcHzk3Ziw6\n"
     ]
    },
    {
     "name": "stdout",
     "output_type": "stream",
     "text": [
      "https://finance.yahoo.com/quote/CSCO\n",
      "https://finance.yahoo.com/quote/INTU\n",
      "https://finance.yahoo.com/quote/ORCL\n",
      "https://finance.yahoo.com/quote/RHHVF\n"
     ]
    },
    {
     "name": "stderr",
     "output_type": "stream",
     "text": [
      "RHHVF: No earnings dates found, symbol may be delisted\n"
     ]
    },
    {
     "name": "stdout",
     "output_type": "stream",
     "text": [
      "https://finance.yahoo.com/quote/INTC\n",
      "https://finance.yahoo.com/quote/DHR\n",
      "https://finance.yahoo.com/quote/QCOM\n",
      "https://finance.yahoo.com/quote/CMCSA\n",
      "https://finance.yahoo.com/quote/CAT\n",
      "https://finance.yahoo.com/quote/GE\n",
      "https://finance.yahoo.com/quote/VZ\n",
      "https://finance.yahoo.com/quote/IBM\n",
      "https://finance.yahoo.com/quote/AMAT\n",
      "https://finance.yahoo.com/quote/NOW\n",
      "https://finance.yahoo.com/quote/UNP\n",
      "https://finance.yahoo.com/quote/TXN\n",
      "https://finance.yahoo.com/quote/PFE\n",
      "https://finance.yahoo.com/quote/SMAWF\n",
      "https://finance.yahoo.com/quote/HBCYF\n"
     ]
    },
    {
     "name": "stderr",
     "output_type": "stream",
     "text": [
      "HBCYF: No earnings dates found, symbol may be delisted\n"
     ]
    },
    {
     "name": "stdout",
     "output_type": "stream",
     "text": [
      "https://finance.yahoo.com/quote/UBER\n",
      "https://finance.yahoo.com/quote/AMGN\n",
      "https://finance.yahoo.com/quote/BHPLF\n"
     ]
    },
    {
     "name": "stderr",
     "output_type": "stream",
     "text": [
      "BHPLF: No earnings dates found, symbol may be delisted\n",
      "404 Client Error: Not Found for url: https://query2.finance.yahoo.com/v10/finance/quoteSummary/BHPLF?modules=recommendationTrend&corsDomain=finance.yahoo.com&formatted=false&symbol=BHPLF&crumb=RvcHzk3Ziw6\n"
     ]
    },
    {
     "name": "stdout",
     "output_type": "stream",
     "text": [
      "https://finance.yahoo.com/quote/LOW\n",
      "https://finance.yahoo.com/quote/SPGI\n",
      "https://finance.yahoo.com/quote/TTFNF\n",
      "https://finance.yahoo.com/quote/PM\n",
      "https://finance.yahoo.com/quote/RY\n",
      "https://finance.yahoo.com/quote/ISRG\n",
      "https://finance.yahoo.com/quote/COP\n",
      "https://finance.yahoo.com/quote/HON\n",
      "https://finance.yahoo.com/quote/RTX\n",
      "https://finance.yahoo.com/quote/AXP\n",
      "https://finance.yahoo.com/quote/CBAUF\n"
     ]
    },
    {
     "name": "stderr",
     "output_type": "stream",
     "text": [
      "CBAUF: No earnings dates found, symbol may be delisted\n",
      "404 Client Error: Not Found for url: https://query2.finance.yahoo.com/v10/finance/quoteSummary/CBAUF?modules=recommendationTrend&corsDomain=finance.yahoo.com&formatted=false&symbol=CBAUF&crumb=RvcHzk3Ziw6\n",
      "NAN: No earnings dates found, symbol may be delisted\n"
     ]
    },
    {
     "name": "stdout",
     "output_type": "stream",
     "text": [
      "https://finance.yahoo.com/quote/NAN\n",
      "https://finance.yahoo.com/quote/NKE\n",
      "https://finance.yahoo.com/quote/LRCX\n",
      "https://finance.yahoo.com/quote/PLD\n",
      "https://finance.yahoo.com/quote/BKNG\n",
      "https://finance.yahoo.com/quote/UNLYF\n"
     ]
    },
    {
     "name": "stderr",
     "output_type": "stream",
     "text": [
      "404 Client Error: Not Found for url: https://query2.finance.yahoo.com/v10/finance/quoteSummary/UNLYF?modules=recommendationTrend&corsDomain=finance.yahoo.com&formatted=false&symbol=UNLYF&crumb=RvcHzk3Ziw6\n"
     ]
    },
    {
     "name": "stdout",
     "output_type": "stream",
     "text": [
      "https://finance.yahoo.com/quote/SBGSF\n"
     ]
    },
    {
     "name": "stderr",
     "output_type": "stream",
     "text": [
      "SBGSF: No earnings dates found, symbol may be delisted\n"
     ]
    },
    {
     "name": "stdout",
     "output_type": "stream",
     "text": [
      "https://finance.yahoo.com/quote/T\n",
      "https://finance.yahoo.com/quote/BLK\n",
      "https://finance.yahoo.com/quote/SYK\n",
      "https://finance.yahoo.com/quote/ELV\n",
      "https://finance.yahoo.com/quote/MBFJF\n"
     ]
    },
    {
     "name": "stderr",
     "output_type": "stream",
     "text": [
      "404 Client Error: Not Found for url: https://query2.finance.yahoo.com/v10/finance/quoteSummary/MBFJF?modules=recommendationTrend&corsDomain=finance.yahoo.com&formatted=false&symbol=MBFJF&crumb=RvcHzk3Ziw6\n"
     ]
    },
    {
     "name": "stdout",
     "output_type": "stream",
     "text": [
      "https://finance.yahoo.com/quote/TOELF\n",
      "https://finance.yahoo.com/quote/LRLCF\n"
     ]
    },
    {
     "name": "stderr",
     "output_type": "stream",
     "text": [
      "LRLCF: No earnings dates found, symbol may be delisted\n",
      "404 Client Error: Not Found for url: https://query2.finance.yahoo.com/v10/finance/quoteSummary/LRLCF?modules=recommendationTrend&corsDomain=finance.yahoo.com&formatted=false&symbol=LRLCF&crumb=RvcHzk3Ziw6\n"
     ]
    },
    {
     "name": "stdout",
     "output_type": "stream",
     "text": [
      "https://finance.yahoo.com/quote/BA\n",
      "https://finance.yahoo.com/quote/ETN\n",
      "https://finance.yahoo.com/quote/TJX\n",
      "https://finance.yahoo.com/quote/NEE\n",
      "https://finance.yahoo.com/quote/MDT\n",
      "https://finance.yahoo.com/quote/ALIZF\n"
     ]
    },
    {
     "name": "stderr",
     "output_type": "stream",
     "text": [
      "404 Client Error: Not Found for url: https://query2.finance.yahoo.com/v10/finance/quoteSummary/ALIZF?modules=recommendationTrend&corsDomain=finance.yahoo.com&formatted=false&symbol=ALIZF&crumb=RvcHzk3Ziw6\n"
     ]
    },
    {
     "name": "stdout",
     "output_type": "stream",
     "text": [
      "https://finance.yahoo.com/quote/PGR\n"
     ]
    },
    {
     "name": "stderr",
     "output_type": "stream",
     "text": [
      "NAN: No earnings dates found, symbol may be delisted\n"
     ]
    },
    {
     "name": "stdout",
     "output_type": "stream",
     "text": [
      "https://finance.yahoo.com/quote/NAN\n",
      "https://finance.yahoo.com/quote/TD\n"
     ]
    },
    {
     "name": "stderr",
     "output_type": "stream",
     "text": [
      "NAN: No earnings dates found, symbol may be delisted\n"
     ]
    },
    {
     "name": "stdout",
     "output_type": "stream",
     "text": [
      "https://finance.yahoo.com/quote/NAN\n",
      "https://finance.yahoo.com/quote/MS\n",
      "https://finance.yahoo.com/quote/SBUX\n",
      "https://finance.yahoo.com/quote/AIQUF\n"
     ]
    },
    {
     "name": "stderr",
     "output_type": "stream",
     "text": [
      "AIQUF: No earnings dates found, symbol may be delisted\n"
     ]
    },
    {
     "name": "stdout",
     "output_type": "stream",
     "text": [
      "https://finance.yahoo.com/quote/SNEJF\n"
     ]
    },
    {
     "name": "stderr",
     "output_type": "stream",
     "text": [
      "404 Client Error: Not Found for url: https://query2.finance.yahoo.com/v10/finance/quoteSummary/SNEJF?modules=recommendationTrend&corsDomain=finance.yahoo.com&formatted=false&symbol=SNEJF&crumb=RvcHzk3Ziw6\n"
     ]
    },
    {
     "name": "stdout",
     "output_type": "stream",
     "text": [
      "https://finance.yahoo.com/quote/SNYNF\n",
      "https://finance.yahoo.com/quote/BMY\n",
      "https://finance.yahoo.com/quote/C\n",
      "https://finance.yahoo.com/quote/CB\n",
      "https://finance.yahoo.com/quote/REGN\n",
      "https://finance.yahoo.com/quote/ADP\n",
      "https://finance.yahoo.com/quote/SCHW\n",
      "https://finance.yahoo.com/quote/MU\n",
      "https://finance.yahoo.com/quote/MMC\n",
      "https://finance.yahoo.com/quote/CI\n"
     ]
    },
    {
     "name": "stderr",
     "output_type": "stream",
     "text": [
      "NAN: No earnings dates found, symbol may be delisted\n"
     ]
    },
    {
     "name": "stdout",
     "output_type": "stream",
     "text": [
      "https://finance.yahoo.com/quote/NAN\n",
      "https://finance.yahoo.com/quote/NAN\n"
     ]
    },
    {
     "name": "stderr",
     "output_type": "stream",
     "text": [
      "NAN: No earnings dates found, symbol may be delisted\n",
      "NAN: No earnings dates found, symbol may be delisted\n"
     ]
    },
    {
     "name": "stdout",
     "output_type": "stream",
     "text": [
      "https://finance.yahoo.com/quote/NAN\n",
      "https://finance.yahoo.com/quote/DE\n",
      "https://finance.yahoo.com/quote/EADSF\n"
     ]
    },
    {
     "name": "stderr",
     "output_type": "stream",
     "text": [
      "404 Client Error: Not Found for url: https://query2.finance.yahoo.com/v10/finance/quoteSummary/EADSF?modules=recommendationTrend&corsDomain=finance.yahoo.com&formatted=false&symbol=EADSF&crumb=RvcHzk3Ziw6\n"
     ]
    },
    {
     "name": "stdout",
     "output_type": "stream",
     "text": [
      "https://finance.yahoo.com/quote/BSX\n",
      "https://finance.yahoo.com/quote/LMT\n",
      "https://finance.yahoo.com/quote/ADI\n",
      "https://finance.yahoo.com/quote/CVS\n",
      "https://finance.yahoo.com/quote/KLAC\n",
      "https://finance.yahoo.com/quote/AAIGF\n"
     ]
    },
    {
     "name": "stderr",
     "output_type": "stream",
     "text": [
      "AAIGF: No earnings dates found, symbol may be delisted\n",
      "404 Client Error: Not Found for url: https://query2.finance.yahoo.com/v10/finance/quoteSummary/AAIGF?modules=recommendationTrend&corsDomain=finance.yahoo.com&formatted=false&symbol=AAIGF&crumb=RvcHzk3Ziw6\n"
     ]
    },
    {
     "name": "stdout",
     "output_type": "stream",
     "text": [
      "https://finance.yahoo.com/quote/UBS\n",
      "https://finance.yahoo.com/quote/AMT\n",
      "https://finance.yahoo.com/quote/SHOP\n",
      "https://finance.yahoo.com/quote/FI\n",
      "https://finance.yahoo.com/quote/CMXHF\n"
     ]
    },
    {
     "name": "stderr",
     "output_type": "stream",
     "text": [
      "CMXHF: No earnings dates found, symbol may be delisted\n",
      "404 Client Error: Not Found for url: https://query2.finance.yahoo.com/v10/finance/quoteSummary/CMXHF?modules=recommendationTrend&corsDomain=finance.yahoo.com&formatted=false&symbol=CMXHF&crumb=RvcHzk3Ziw6\n"
     ]
    },
    {
     "name": "stdout",
     "output_type": "stream",
     "text": [
      "https://finance.yahoo.com/quote/GILD\n",
      "https://finance.yahoo.com/quote/ZTS\n"
     ]
    },
    {
     "name": "stderr",
     "output_type": "stream",
     "text": [
      "NAN: No earnings dates found, symbol may be delisted\n"
     ]
    },
    {
     "name": "stdout",
     "output_type": "stream",
     "text": [
      "https://finance.yahoo.com/quote/NAN\n",
      "https://finance.yahoo.com/quote/NAN\n"
     ]
    },
    {
     "name": "stderr",
     "output_type": "stream",
     "text": [
      "NAN: No earnings dates found, symbol may be delisted\n"
     ]
    },
    {
     "name": "stdout",
     "output_type": "stream",
     "text": [
      "https://finance.yahoo.com/quote/SNPS\n",
      "https://finance.yahoo.com/quote/TMUS\n",
      "https://finance.yahoo.com/quote/GLAXF\n",
      "https://finance.yahoo.com/quote/CFRHF\n"
     ]
    },
    {
     "name": "stderr",
     "output_type": "stream",
     "text": [
      "CFRHF: No earnings dates found, symbol may be delisted\n"
     ]
    },
    {
     "name": "stdout",
     "output_type": "stream",
     "text": [
      "https://finance.yahoo.com/quote/EQIX\n",
      "https://finance.yahoo.com/quote/WM\n",
      "https://finance.yahoo.com/quote/DGEAF\n"
     ]
    },
    {
     "name": "stderr",
     "output_type": "stream",
     "text": [
      "DGEAF: No earnings dates found, symbol may be delisted\n",
      "404 Client Error: Not Found for url: https://query2.finance.yahoo.com/v10/finance/quoteSummary/DGEAF?modules=recommendationTrend&corsDomain=finance.yahoo.com&formatted=false&symbol=DGEAF&crumb=RvcHzk3Ziw6\n"
     ]
    },
    {
     "name": "stdout",
     "output_type": "stream",
     "text": [
      "https://finance.yahoo.com/quote/CDNS\n",
      "https://finance.yahoo.com/quote/RLXXF\n"
     ]
    },
    {
     "name": "stderr",
     "output_type": "stream",
     "text": [
      "RLXXF: No earnings dates found, symbol may be delisted\n"
     ]
    },
    {
     "name": "stdout",
     "output_type": "stream",
     "text": [
      "https://finance.yahoo.com/quote/ZFSVF\n",
      "https://finance.yahoo.com/quote/SHW\n",
      "https://finance.yahoo.com/quote/HESAF\n"
     ]
    },
    {
     "name": "stderr",
     "output_type": "stream",
     "text": [
      "HESAF: No earnings dates found, symbol may be delisted\n",
      "404 Client Error: Not Found for url: https://query2.finance.yahoo.com/v10/finance/quoteSummary/HESAF?modules=recommendationTrend&corsDomain=finance.yahoo.com&formatted=false&symbol=HESAF&crumb=RvcHzk3Ziw6\n"
     ]
    },
    {
     "name": "stdout",
     "output_type": "stream",
     "text": [
      "https://finance.yahoo.com/quote/ITW\n",
      "https://finance.yahoo.com/quote/CP\n",
      "https://finance.yahoo.com/quote/CME\n",
      "https://finance.yahoo.com/quote/CSX\n",
      "https://finance.yahoo.com/quote/ICE\n",
      "https://finance.yahoo.com/quote/HTHIF\n"
     ]
    },
    {
     "name": "stderr",
     "output_type": "stream",
     "text": [
      "404 Client Error: Not Found for url: https://query2.finance.yahoo.com/v10/finance/quoteSummary/HTHIF?modules=recommendationTrend&corsDomain=finance.yahoo.com&formatted=false&symbol=HTHIF&crumb=RvcHzk3Ziw6\n"
     ]
    },
    {
     "name": "stdout",
     "output_type": "stream",
     "text": [
      "https://finance.yahoo.com/quote/SHECF\n"
     ]
    },
    {
     "name": "stderr",
     "output_type": "stream",
     "text": [
      "404 Client Error: Not Found for url: https://query2.finance.yahoo.com/v10/finance/quoteSummary/SHECF?modules=recommendationTrend&corsDomain=finance.yahoo.com&formatted=false&symbol=SHECF&crumb=RvcHzk3Ziw6\n"
     ]
    },
    {
     "name": "stdout",
     "output_type": "stream",
     "text": [
      "https://finance.yahoo.com/quote/DTEGF\n"
     ]
    },
    {
     "name": "stderr",
     "output_type": "stream",
     "text": [
      "404 Client Error: Not Found for url: https://query2.finance.yahoo.com/v10/finance/quoteSummary/DTEGF?modules=recommendationTrend&corsDomain=finance.yahoo.com&formatted=false&symbol=DTEGF&crumb=RvcHzk3Ziw6\n"
     ]
    },
    {
     "name": "stdout",
     "output_type": "stream",
     "text": [
      "https://finance.yahoo.com/quote/CNQ\n",
      "https://finance.yahoo.com/quote/CMG\n",
      "https://finance.yahoo.com/quote/ABLZF\n"
     ]
    },
    {
     "name": "stderr",
     "output_type": "stream",
     "text": [
      "404 Client Error: Not Found for url: https://query2.finance.yahoo.com/v10/finance/quoteSummary/ABLZF?modules=recommendationTrend&corsDomain=finance.yahoo.com&formatted=false&symbol=ABLZF&crumb=RvcHzk3Ziw6\n"
     ]
    },
    {
     "name": "stdout",
     "output_type": "stream",
     "text": [
      "https://finance.yahoo.com/quote/MSBHF\n"
     ]
    },
    {
     "name": "stderr",
     "output_type": "stream",
     "text": [
      "404 Client Error: Not Found for url: https://query2.finance.yahoo.com/v10/finance/quoteSummary/MSBHF?modules=recommendationTrend&corsDomain=finance.yahoo.com&formatted=false&symbol=MSBHF&crumb=RvcHzk3Ziw6\n"
     ]
    },
    {
     "name": "stdout",
     "output_type": "stream",
     "text": [
      "https://finance.yahoo.com/quote/CRWD\n",
      "https://finance.yahoo.com/quote/ANET\n",
      "https://finance.yahoo.com/quote/MO\n",
      "https://finance.yahoo.com/quote/SMFNF\n"
     ]
    },
    {
     "name": "stderr",
     "output_type": "stream",
     "text": [
      "404 Client Error: Not Found for url: https://query2.finance.yahoo.com/v10/finance/quoteSummary/SMFNF?modules=recommendationTrend&corsDomain=finance.yahoo.com&formatted=false&symbol=SMFNF&crumb=RvcHzk3Ziw6\n"
     ]
    },
    {
     "name": "stdout",
     "output_type": "stream",
     "text": [
      "https://finance.yahoo.com/quote/RTPPF\n"
     ]
    },
    {
     "name": "stderr",
     "output_type": "stream",
     "text": [
      "RTPPF: No earnings dates found, symbol may be delisted\n",
      "404 Client Error: Not Found for url: https://query2.finance.yahoo.com/v10/finance/quoteSummary/RTPPF?modules=recommendationTrend&corsDomain=finance.yahoo.com&formatted=false&symbol=RTPPF&crumb=RvcHzk3Ziw6\n"
     ]
    },
    {
     "name": "stdout",
     "output_type": "stream",
     "text": [
      "https://finance.yahoo.com/quote/SO\n",
      "https://finance.yahoo.com/quote/ENB\n",
      "https://finance.yahoo.com/quote/MELI\n",
      "https://finance.yahoo.com/quote/CNI\n",
      "https://finance.yahoo.com/quote/SAFRF\n"
     ]
    },
    {
     "name": "stderr",
     "output_type": "stream",
     "text": [
      "SAFRF: No earnings dates found, symbol may be delisted\n",
      "404 Client Error: Not Found for url: https://query2.finance.yahoo.com/v10/finance/quoteSummary/SAFRF?modules=recommendationTrend&corsDomain=finance.yahoo.com&formatted=false&symbol=SAFRF&crumb=RvcHzk3Ziw6\n"
     ]
    },
    {
     "name": "stdout",
     "output_type": "stream",
     "text": [
      "https://finance.yahoo.com/quote/IBDSF\n"
     ]
    },
    {
     "name": "stderr",
     "output_type": "stream",
     "text": [
      "404 Client Error: Not Found for url: https://query2.finance.yahoo.com/v10/finance/quoteSummary/IBDSF?modules=recommendationTrend&corsDomain=finance.yahoo.com&formatted=false&symbol=IBDSF&crumb=RvcHzk3Ziw6\n"
     ]
    },
    {
     "name": "stdout",
     "output_type": "stream",
     "text": [
      "https://finance.yahoo.com/quote/TGT\n",
      "https://finance.yahoo.com/quote/MCK\n",
      "https://finance.yahoo.com/quote/DUK\n",
      "https://finance.yahoo.com/quote/NAUBF\n"
     ]
    },
    {
     "name": "stderr",
     "output_type": "stream",
     "text": [
      "NAUBF: No earnings dates found, symbol may be delisted\n",
      "404 Client Error: Not Found for url: https://query2.finance.yahoo.com/v10/finance/quoteSummary/NAUBF?modules=recommendationTrend&corsDomain=finance.yahoo.com&formatted=false&symbol=NAUBF&crumb=RvcHzk3Ziw6\n"
     ]
    },
    {
     "name": "stdout",
     "output_type": "stream",
     "text": [
      "https://finance.yahoo.com/quote/PH\n",
      "https://finance.yahoo.com/quote/ABNB\n",
      "https://finance.yahoo.com/quote/BDX\n",
      "https://finance.yahoo.com/quote/SLB\n",
      "https://finance.yahoo.com/quote/MPC\n",
      "https://finance.yahoo.com/quote/NOC\n",
      "https://finance.yahoo.com/quote/BCDRF\n"
     ]
    },
    {
     "name": "stderr",
     "output_type": "stream",
     "text": [
      "404 Client Error: Not Found for url: https://query2.finance.yahoo.com/v10/finance/quoteSummary/BCDRF?modules=recommendationTrend&corsDomain=finance.yahoo.com&formatted=false&symbol=BCDRF&crumb=RvcHzk3Ziw6\n"
     ]
    },
    {
     "name": "stdout",
     "output_type": "stream",
     "text": [
      "https://finance.yahoo.com/quote/CL\n",
      "https://finance.yahoo.com/quote/EOG\n",
      "https://finance.yahoo.com/quote/VCISF\n"
     ]
    },
    {
     "name": "stderr",
     "output_type": "stream",
     "text": [
      "VCISF: No earnings dates found, symbol may be delisted\n"
     ]
    },
    {
     "name": "stdout",
     "output_type": "stream",
     "text": [
      "https://finance.yahoo.com/quote/PSX\n",
      "https://finance.yahoo.com/quote/USB\n",
      "https://finance.yahoo.com/quote/ORLY\n",
      "https://finance.yahoo.com/quote/APH\n",
      "https://finance.yahoo.com/quote/BMO\n",
      "https://finance.yahoo.com/quote/MBGAF\n"
     ]
    },
    {
     "name": "stderr",
     "output_type": "stream",
     "text": [
      "404 Client Error: Not Found for url: https://query2.finance.yahoo.com/v10/finance/quoteSummary/XTSLA?modules=financialData%2CquoteType%2CdefaultKeyStatistics%2CassetProfile%2CsummaryDetail&corsDomain=finance.yahoo.com&formatted=false&symbol=XTSLA&crumb=RvcHzk3Ziw6\n"
     ]
    },
    {
     "name": "stdout",
     "output_type": "stream",
     "text": [
      "https://finance.yahoo.com/quote/NXPI\n",
      "https://finance.yahoo.com/quote/TT\n",
      "https://finance.yahoo.com/quote/TDG\n",
      "https://finance.yahoo.com/quote/MAR\n",
      "https://finance.yahoo.com/quote/AXAHF\n"
     ]
    },
    {
     "name": "stderr",
     "output_type": "stream",
     "text": [
      "AXAHF: No earnings dates found, symbol may be delisted\n"
     ]
    },
    {
     "name": "stdout",
     "output_type": "stream",
     "text": [
      "https://finance.yahoo.com/quote/AON\n",
      "https://finance.yahoo.com/quote/PYPL\n",
      "https://finance.yahoo.com/quote/HCA\n",
      "https://finance.yahoo.com/quote/GD\n",
      "https://finance.yahoo.com/quote/MURGF\n"
     ]
    },
    {
     "name": "stderr",
     "output_type": "stream",
     "text": [
      "404 Client Error: Not Found for url: https://query2.finance.yahoo.com/v10/finance/quoteSummary/MURGF?modules=recommendationTrend&corsDomain=finance.yahoo.com&formatted=false&symbol=MURGF&crumb=RvcHzk3Ziw6\n"
     ]
    },
    {
     "name": "stdout",
     "output_type": "stream",
     "text": [
      "https://finance.yahoo.com/quote/BTAFF\n",
      "https://finance.yahoo.com/quote/MRVL\n",
      "https://finance.yahoo.com/quote/BNPQF\n"
     ]
    },
    {
     "name": "stderr",
     "output_type": "stream",
     "text": [
      "404 Client Error: Not Found for url: https://query2.finance.yahoo.com/v10/finance/quoteSummary/BNPQF?modules=recommendationTrend&corsDomain=finance.yahoo.com&formatted=false&symbol=BNPQF&crumb=RvcHzk3Ziw6\n"
     ]
    },
    {
     "name": "stdout",
     "output_type": "stream",
     "text": [
      "https://finance.yahoo.com/quote/MCO\n",
      "https://finance.yahoo.com/quote/ESLOF\n",
      "https://finance.yahoo.com/quote/DSKYF\n",
      "https://finance.yahoo.com/quote/WDAY\n",
      "https://finance.yahoo.com/quote/EMR\n",
      "https://finance.yahoo.com/quote/WEBNF\n"
     ]
    },
    {
     "name": "stderr",
     "output_type": "stream",
     "text": [
      "WEBNF: No earnings dates found, symbol may be delisted\n",
      "404 Client Error: Not Found for url: https://query2.finance.yahoo.com/v10/finance/quoteSummary/WEBNF?modules=recommendationTrend&corsDomain=finance.yahoo.com&formatted=false&symbol=WEBNF&crumb=RvcHzk3Ziw6\n"
     ]
    },
    {
     "name": "stdout",
     "output_type": "stream",
     "text": [
      "https://finance.yahoo.com/quote/SFTBF\n",
      "https://finance.yahoo.com/quote/BBVXF\n"
     ]
    },
    {
     "name": "stderr",
     "output_type": "stream",
     "text": [
      "404 Client Error: Not Found for url: https://query2.finance.yahoo.com/v10/finance/quoteSummary/BBVXF?modules=recommendationTrend&corsDomain=finance.yahoo.com&formatted=false&symbol=BBVXF&crumb=RvcHzk3Ziw6\n"
     ]
    },
    {
     "name": "stdout",
     "output_type": "stream",
     "text": [
      "https://finance.yahoo.com/quote/BNS\n",
      "https://finance.yahoo.com/quote/FDX\n",
      "https://finance.yahoo.com/quote/CRH\n",
      "https://finance.yahoo.com/quote/PCAR\n",
      "https://finance.yahoo.com/quote/RCRRF\n"
     ]
    },
    {
     "name": "stderr",
     "output_type": "stream",
     "text": [
      "404 Client Error: Not Found for url: https://query2.finance.yahoo.com/v10/finance/quoteSummary/RCRRF?modules=recommendationTrend&corsDomain=finance.yahoo.com&formatted=false&symbol=RCRRF&crumb=RvcHzk3Ziw6\n"
     ]
    },
    {
     "name": "stdout",
     "output_type": "stream",
     "text": [
      "https://finance.yahoo.com/quote/ECL\n",
      "https://finance.yahoo.com/quote/KKR\n",
      "https://finance.yahoo.com/quote/CTAS\n",
      "https://finance.yahoo.com/quote/ROP\n",
      "https://finance.yahoo.com/quote/PNC\n",
      "https://finance.yahoo.com/quote/CNSWF\n"
     ]
    },
    {
     "name": "stderr",
     "output_type": "stream",
     "text": [
      "404 Client Error: Not Found for url: https://query2.finance.yahoo.com/v10/finance/quoteSummary/CNSWF?modules=recommendationTrend&corsDomain=finance.yahoo.com&formatted=false&symbol=CNSWF&crumb=RvcHzk3Ziw6\n"
     ]
    },
    {
     "name": "stdout",
     "output_type": "stream",
     "text": [
      "https://finance.yahoo.com/quote/GM\n",
      "https://finance.yahoo.com/quote/NSC\n",
      "https://finance.yahoo.com/quote/MITSF\n"
     ]
    },
    {
     "name": "stderr",
     "output_type": "stream",
     "text": [
      "404 Client Error: Not Found for url: https://query2.finance.yahoo.com/v10/finance/quoteSummary/MITSF?modules=recommendationTrend&corsDomain=finance.yahoo.com&formatted=false&symbol=MITSF&crumb=RvcHzk3Ziw6\n"
     ]
    },
    {
     "name": "stdout",
     "output_type": "stream",
     "text": [
      "https://finance.yahoo.com/quote/STLA\n",
      "https://finance.yahoo.com/quote/NTDOF\n"
     ]
    },
    {
     "name": "stderr",
     "output_type": "stream",
     "text": [
      "404 Client Error: Not Found for url: https://query2.finance.yahoo.com/v10/finance/quoteSummary/NTDOF?modules=recommendationTrend&corsDomain=finance.yahoo.com&formatted=false&symbol=NTDOF&crumb=RvcHzk3Ziw6\n"
     ]
    },
    {
     "name": "stdout",
     "output_type": "stream",
     "text": [
      "https://finance.yahoo.com/quote/BN\n",
      "https://finance.yahoo.com/quote/ADSK\n",
      "https://finance.yahoo.com/quote/HLT\n",
      "https://finance.yahoo.com/quote/HNDAF\n"
     ]
    },
    {
     "name": "stderr",
     "output_type": "stream",
     "text": [
      "404 Client Error: Not Found for url: https://query2.finance.yahoo.com/v10/finance/quoteSummary/HNDAF?modules=recommendationTrend&corsDomain=finance.yahoo.com&formatted=false&symbol=HNDAF&crumb=RvcHzk3Ziw6\n"
     ]
    },
    {
     "name": "stdout",
     "output_type": "stream",
     "text": [
      "https://finance.yahoo.com/quote/PXD\n",
      "https://finance.yahoo.com/quote/ANZGF\n"
     ]
    },
    {
     "name": "stderr",
     "output_type": "stream",
     "text": [
      "ANZGF: No earnings dates found, symbol may be delisted\n",
      "404 Client Error: Not Found for url: https://query2.finance.yahoo.com/v10/finance/quoteSummary/ANZGF?modules=recommendationTrend&corsDomain=finance.yahoo.com&formatted=false&symbol=ANZGF&crumb=RvcHzk3Ziw6\n"
     ]
    },
    {
     "name": "stdout",
     "output_type": "stream",
     "text": [
      "https://finance.yahoo.com/quote/CEG\n",
      "https://finance.yahoo.com/quote/FCX\n",
      "https://finance.yahoo.com/quote/MSI\n",
      "https://finance.yahoo.com/quote/AIG\n",
      "https://finance.yahoo.com/quote/AZO\n",
      "https://finance.yahoo.com/quote/UNCFF\n",
      "https://finance.yahoo.com/quote/LULU\n",
      "https://finance.yahoo.com/quote/AJG\n",
      "https://finance.yahoo.com/quote/RACE\n",
      "https://finance.yahoo.com/quote/ITOCF\n"
     ]
    },
    {
     "name": "stderr",
     "output_type": "stream",
     "text": [
      "404 Client Error: Not Found for url: https://query2.finance.yahoo.com/v10/finance/quoteSummary/ITOCF?modules=recommendationTrend&corsDomain=finance.yahoo.com&formatted=false&symbol=ITOCF&crumb=RvcHzk3Ziw6\n"
     ]
    },
    {
     "name": "stdout",
     "output_type": "stream",
     "text": [
      "https://finance.yahoo.com/quote/SNOW\n",
      "https://finance.yahoo.com/quote/BUDFF\n"
     ]
    },
    {
     "name": "stderr",
     "output_type": "stream",
     "text": [
      "404 Client Error: Not Found for url: https://query2.finance.yahoo.com/v10/finance/quoteSummary/BUDFF?modules=recommendationTrend&corsDomain=finance.yahoo.com&formatted=false&symbol=BUDFF&crumb=RvcHzk3Ziw6\n"
     ]
    },
    {
     "name": "stdout",
     "output_type": "stream",
     "text": [
      "https://finance.yahoo.com/quote/COF\n",
      "https://finance.yahoo.com/quote/TKOMF\n"
     ]
    },
    {
     "name": "stderr",
     "output_type": "stream",
     "text": [
      "404 Client Error: Not Found for url: https://query2.finance.yahoo.com/v10/finance/quoteSummary/TKOMF?modules=recommendationTrend&corsDomain=finance.yahoo.com&formatted=false&symbol=TKOMF&crumb=RvcHzk3Ziw6\n"
     ]
    },
    {
     "name": "stdout",
     "output_type": "stream",
     "text": [
      "https://finance.yahoo.com/quote/ESOCF\n",
      "https://finance.yahoo.com/quote/APD\n",
      "https://finance.yahoo.com/quote/ROST\n",
      "https://finance.yahoo.com/quote/VLO\n",
      "https://finance.yahoo.com/quote/WELL\n",
      "https://finance.yahoo.com/quote/EW\n",
      "https://finance.yahoo.com/quote/FRCOF\n"
     ]
    },
    {
     "name": "stderr",
     "output_type": "stream",
     "text": [
      "404 Client Error: Not Found for url: https://query2.finance.yahoo.com/v10/finance/quoteSummary/FRCOF?modules=recommendationTrend&corsDomain=finance.yahoo.com&formatted=false&symbol=FRCOF&crumb=RvcHzk3Ziw6\n"
     ]
    },
    {
     "name": "stdout",
     "output_type": "stream",
     "text": [
      "https://finance.yahoo.com/quote/TRV\n",
      "https://finance.yahoo.com/quote/MMM\n",
      "https://finance.yahoo.com/quote/WFAFF\n"
     ]
    },
    {
     "name": "stderr",
     "output_type": "stream",
     "text": [
      "WFAFF: No earnings dates found, symbol may be delisted\n",
      "404 Client Error: Not Found for url: https://query2.finance.yahoo.com/v10/finance/quoteSummary/WFAFF?modules=recommendationTrend&corsDomain=finance.yahoo.com&formatted=false&symbol=WFAFF&crumb=RvcHzk3Ziw6\n"
     ]
    },
    {
     "name": "stdout",
     "output_type": "stream",
     "text": [
      "https://finance.yahoo.com/quote/GLCNF\n"
     ]
    },
    {
     "name": "stderr",
     "output_type": "stream",
     "text": [
      "GLCNF: No earnings dates found, symbol may be delisted\n",
      "404 Client Error: Not Found for url: https://query2.finance.yahoo.com/v10/finance/quoteSummary/GLCNF?modules=recommendationTrend&corsDomain=finance.yahoo.com&formatted=false&symbol=GLCNF&crumb=RvcHzk3Ziw6\n"
     ]
    },
    {
     "name": "stdout",
     "output_type": "stream",
     "text": [
      "https://finance.yahoo.com/quote/F\n",
      "https://finance.yahoo.com/quote/IDEXF\n",
      "https://finance.yahoo.com/quote/ANCTF\n"
     ]
    },
    {
     "name": "stderr",
     "output_type": "stream",
     "text": [
      "404 Client Error: Not Found for url: https://query2.finance.yahoo.com/v10/finance/quoteSummary/ANCTF?modules=recommendationTrend&corsDomain=finance.yahoo.com&formatted=false&symbol=ANCTF&crumb=RvcHzk3Ziw6\n"
     ]
    },
    {
     "name": "stdout",
     "output_type": "stream",
     "text": [
      "https://finance.yahoo.com/quote/IDXX\n",
      "https://finance.yahoo.com/quote/URI\n",
      "https://finance.yahoo.com/quote/CCI\n",
      "https://finance.yahoo.com/quote/BAESF\n"
     ]
    },
    {
     "name": "stderr",
     "output_type": "stream",
     "text": [
      "BAESF: No earnings dates found, symbol may be delisted\n",
      "404 Client Error: Not Found for url: https://query2.finance.yahoo.com/v10/finance/quoteSummary/BAESF?modules=recommendationTrend&corsDomain=finance.yahoo.com&formatted=false&symbol=BAESF&crumb=RvcHzk3Ziw6\n"
     ]
    },
    {
     "name": "stdout",
     "output_type": "stream",
     "text": [
      "https://finance.yahoo.com/quote/NGGTF\n"
     ]
    },
    {
     "name": "stderr",
     "output_type": "stream",
     "text": [
      "NGGTF: No earnings dates found, symbol may be delisted\n",
      "404 Client Error: Not Found for url: https://query2.finance.yahoo.com/v10/finance/quoteSummary/NGGTF?modules=recommendationTrend&corsDomain=finance.yahoo.com&formatted=false&symbol=NGGTF&crumb=RvcHzk3Ziw6\n"
     ]
    },
    {
     "name": "stdout",
     "output_type": "stream",
     "text": [
      "https://finance.yahoo.com/quote/SPG\n",
      "https://finance.yahoo.com/quote/CMPGF\n",
      "https://finance.yahoo.com/quote/ATLPF\n"
     ]
    },
    {
     "name": "stderr",
     "output_type": "stream",
     "text": [
      "404 Client Error: Not Found for url: https://query2.finance.yahoo.com/v10/finance/quoteSummary/ATLPF?modules=recommendationTrend&corsDomain=finance.yahoo.com&formatted=false&symbol=ATLPF&crumb=RvcHzk3Ziw6\n"
     ]
    },
    {
     "name": "stdout",
     "output_type": "stream",
     "text": [
      "https://finance.yahoo.com/quote/NUE\n",
      "https://finance.yahoo.com/quote/FTNT\n",
      "https://finance.yahoo.com/quote/AFL\n",
      "https://finance.yahoo.com/quote/LDNXF\n"
     ]
    },
    {
     "name": "stderr",
     "output_type": "stream",
     "text": [
      "LDNXF: No earnings dates found, symbol may be delisted\n",
      "404 Client Error: Not Found for url: https://query2.finance.yahoo.com/v10/finance/quoteSummary/LDNXF?modules=recommendationTrend&corsDomain=finance.yahoo.com&formatted=false&symbol=LDNXF&crumb=RvcHzk3Ziw6\n"
     ]
    },
    {
     "name": "stdout",
     "output_type": "stream",
     "text": [
      "https://finance.yahoo.com/quote/TFC\n",
      "https://finance.yahoo.com/quote/PLTR\n",
      "https://finance.yahoo.com/quote/IFNNF\n"
     ]
    },
    {
     "name": "stderr",
     "output_type": "stream",
     "text": [
      "404 Client Error: Not Found for url: https://query2.finance.yahoo.com/v10/finance/quoteSummary/IFNNF?modules=recommendationTrend&corsDomain=finance.yahoo.com&formatted=false&symbol=IFNNF&crumb=RvcHzk3Ziw6\n"
     ]
    },
    {
     "name": "stdout",
     "output_type": "stream",
     "text": [
      "https://finance.yahoo.com/quote/MCHP\n",
      "https://finance.yahoo.com/quote/CARR\n",
      "https://finance.yahoo.com/quote/CPRT\n",
      "https://finance.yahoo.com/quote/IITSF\n"
     ]
    },
    {
     "name": "stderr",
     "output_type": "stream",
     "text": [
      "404 Client Error: Not Found for url: https://query2.finance.yahoo.com/v10/finance/quoteSummary/IITSF?modules=recommendationTrend&corsDomain=finance.yahoo.com&formatted=false&symbol=IITSF&crumb=RvcHzk3Ziw6\n"
     ]
    },
    {
     "name": "stdout",
     "output_type": "stream",
     "text": [
      "https://finance.yahoo.com/quote/DPSTF\n",
      "https://finance.yahoo.com/quote/IQV\n",
      "https://finance.yahoo.com/quote/TKPHF\n",
      "https://finance.yahoo.com/quote/MCQEF\n"
     ]
    },
    {
     "name": "stderr",
     "output_type": "stream",
     "text": [
      "MCQEF: No earnings dates found, symbol may be delisted\n"
     ]
    },
    {
     "name": "stdout",
     "output_type": "stream",
     "text": [
      "https://finance.yahoo.com/quote/MZHOF\n"
     ]
    },
    {
     "name": "stderr",
     "output_type": "stream",
     "text": [
      "404 Client Error: Not Found for url: https://query2.finance.yahoo.com/v10/finance/quoteSummary/MZHOF?modules=recommendationTrend&corsDomain=finance.yahoo.com&formatted=false&symbol=MZHOF&crumb=RvcHzk3Ziw6\n"
     ]
    },
    {
     "name": "stdout",
     "output_type": "stream",
     "text": [
      "https://finance.yahoo.com/quote/HOCPF\n"
     ]
    },
    {
     "name": "stderr",
     "output_type": "stream",
     "text": [
      "404 Client Error: Not Found for url: https://query2.finance.yahoo.com/v10/finance/quoteSummary/HOCPF?modules=recommendationTrend&corsDomain=finance.yahoo.com&formatted=false&symbol=HOCPF&crumb=RvcHzk3Ziw6\n"
     ]
    },
    {
     "name": "stdout",
     "output_type": "stream",
     "text": [
      "https://finance.yahoo.com/quote/INGVF\n"
     ]
    },
    {
     "name": "stderr",
     "output_type": "stream",
     "text": [
      "404 Client Error: Not Found for url: https://query2.finance.yahoo.com/v10/finance/quoteSummary/INGVF?modules=recommendationTrend&corsDomain=finance.yahoo.com&formatted=false&symbol=INGVF&crumb=RvcHzk3Ziw6\n"
     ]
    },
    {
     "name": "stdout",
     "output_type": "stream",
     "text": [
      "https://finance.yahoo.com/quote/SU\n",
      "https://finance.yahoo.com/quote/DHI\n",
      "https://finance.yahoo.com/quote/PSA\n",
      "https://finance.yahoo.com/quote/HCMLF\n",
      "https://finance.yahoo.com/quote/KDDIF\n",
      "https://finance.yahoo.com/quote/MNST\n",
      "https://finance.yahoo.com/quote/AEP\n",
      "https://finance.yahoo.com/quote/RBGPF\n",
      "https://finance.yahoo.com/quote/MET\n",
      "https://finance.yahoo.com/quote/TEL\n",
      "https://finance.yahoo.com/quote/BFFAF\n"
     ]
    },
    {
     "name": "stderr",
     "output_type": "stream",
     "text": [
      "404 Client Error: Not Found for url: https://query2.finance.yahoo.com/v10/finance/quoteSummary/BFFAF?modules=recommendationTrend&corsDomain=finance.yahoo.com&formatted=false&symbol=BFFAF&crumb=RvcHzk3Ziw6\n"
     ]
    },
    {
     "name": "stdout",
     "output_type": "stream",
     "text": [
      "https://finance.yahoo.com/quote/MSCI\n",
      "https://finance.yahoo.com/quote/WMB\n",
      "https://finance.yahoo.com/quote/SITIF\n"
     ]
    },
    {
     "name": "stderr",
     "output_type": "stream",
     "text": [
      "404 Client Error: Not Found for url: https://query2.finance.yahoo.com/v10/finance/quoteSummary/SITIF?modules=recommendationTrend&corsDomain=finance.yahoo.com&formatted=false&symbol=SITIF&crumb=RvcHzk3Ziw6\n"
     ]
    },
    {
     "name": "stdout",
     "output_type": "stream",
     "text": [
      "https://finance.yahoo.com/quote/ODFL\n",
      "https://finance.yahoo.com/quote/IVSBF\n"
     ]
    },
    {
     "name": "stderr",
     "output_type": "stream",
     "text": [
      "404 Client Error: Not Found for url: https://query2.finance.yahoo.com/v10/finance/quoteSummary/IVSBF?modules=recommendationTrend&corsDomain=finance.yahoo.com&formatted=false&symbol=IVSBF&crumb=RvcHzk3Ziw6\n"
     ]
    },
    {
     "name": "stdout",
     "output_type": "stream",
     "text": [
      "https://finance.yahoo.com/quote/PROSF\n"
     ]
    },
    {
     "name": "stderr",
     "output_type": "stream",
     "text": [
      "404 Client Error: Not Found for url: https://query2.finance.yahoo.com/v10/finance/quoteSummary/PROSF?modules=recommendationTrend&corsDomain=finance.yahoo.com&formatted=false&symbol=PROSF&crumb=RvcHzk3Ziw6\n"
     ]
    },
    {
     "name": "stdout",
     "output_type": "stream",
     "text": [
      "https://finance.yahoo.com/quote/SQ\n",
      "https://finance.yahoo.com/quote/DBSDF\n"
     ]
    },
    {
     "name": "stderr",
     "output_type": "stream",
     "text": [
      "404 Client Error: Not Found for url: https://query2.finance.yahoo.com/v10/finance/quoteSummary/DBSDF?modules=recommendationTrend&corsDomain=finance.yahoo.com&formatted=false&symbol=DBSDF&crumb=RvcHzk3Ziw6\n"
     ]
    },
    {
     "name": "stdout",
     "output_type": "stream",
     "text": [
      "https://finance.yahoo.com/quote/SMCI\n",
      "https://finance.yahoo.com/quote/APO\n",
      "https://finance.yahoo.com/quote/SRE\n",
      "https://finance.yahoo.com/quote/DXCM\n",
      "https://finance.yahoo.com/quote/WCN\n",
      "https://finance.yahoo.com/quote/DLR\n",
      "https://finance.yahoo.com/quote/FERG\n",
      "https://finance.yahoo.com/quote/HUM\n",
      "https://finance.yahoo.com/quote/O\n",
      "https://finance.yahoo.com/quote/OKE\n",
      "https://finance.yahoo.com/quote/CM\n",
      "https://finance.yahoo.com/quote/SKFOF\n"
     ]
    },
    {
     "name": "stderr",
     "output_type": "stream",
     "text": [
      "SKFOF: No earnings dates found, symbol may be delisted\n",
      "404 Client Error: Not Found for url: https://query2.finance.yahoo.com/v10/finance/quoteSummary/SKFOF?modules=recommendationTrend&corsDomain=finance.yahoo.com&formatted=false&symbol=SKFOF&crumb=RvcHzk3Ziw6\n"
     ]
    },
    {
     "name": "stdout",
     "output_type": "stream",
     "text": [
      "https://finance.yahoo.com/quote/GWW\n",
      "https://finance.yahoo.com/quote/AME\n",
      "https://finance.yahoo.com/quote/VOLVF\n",
      "https://finance.yahoo.com/quote/MFC\n",
      "https://finance.yahoo.com/quote/CNC\n",
      "https://finance.yahoo.com/quote/ALC\n",
      "https://finance.yahoo.com/quote/AMP\n",
      "https://finance.yahoo.com/quote/ALL\n",
      "https://finance.yahoo.com/quote/WOLTF\n"
     ]
    },
    {
     "name": "stderr",
     "output_type": "stream",
     "text": [
      "WOLTF: No earnings dates found, symbol may be delisted\n",
      "404 Client Error: Not Found for url: https://query2.finance.yahoo.com/v10/finance/quoteSummary/WOLTF?modules=recommendationTrend&corsDomain=finance.yahoo.com&formatted=false&symbol=WOLTF&crumb=RvcHzk3Ziw6\n"
     ]
    },
    {
     "name": "stdout",
     "output_type": "stream",
     "text": [
      "https://finance.yahoo.com/quote/FIS\n",
      "https://finance.yahoo.com/quote/KMB\n",
      "https://finance.yahoo.com/quote/LEN\n",
      "https://finance.yahoo.com/quote/D\n",
      "https://finance.yahoo.com/quote/FAST\n",
      "https://finance.yahoo.com/quote/LHX\n",
      "https://finance.yahoo.com/quote/SYY\n",
      "https://finance.yahoo.com/quote/STZ\n",
      "https://finance.yahoo.com/quote/JCI\n",
      "https://finance.yahoo.com/quote/CAPMF\n"
     ]
    },
    {
     "name": "stderr",
     "output_type": "stream",
     "text": [
      "CAPMF: No earnings dates found, symbol may be delisted\n",
      "404 Client Error: Not Found for url: https://query2.finance.yahoo.com/v10/finance/quoteSummary/CAPMF?modules=recommendationTrend&corsDomain=finance.yahoo.com&formatted=false&symbol=CAPMF&crumb=RvcHzk3Ziw6\n"
     ]
    },
    {
     "name": "stdout",
     "output_type": "stream",
     "text": [
      "https://finance.yahoo.com/quote/CTSH\n",
      "https://finance.yahoo.com/quote/DBOEF\n"
     ]
    },
    {
     "name": "stderr",
     "output_type": "stream",
     "text": [
      "404 Client Error: Not Found for url: https://query2.finance.yahoo.com/v10/finance/quoteSummary/DBOEF?modules=recommendationTrend&corsDomain=finance.yahoo.com&formatted=false&symbol=DBOEF&crumb=RvcHzk3Ziw6\n"
     ]
    },
    {
     "name": "stdout",
     "output_type": "stream",
     "text": [
      "https://finance.yahoo.com/quote/A\n",
      "https://finance.yahoo.com/quote/GPDNF\n"
     ]
    },
    {
     "name": "stderr",
     "output_type": "stream",
     "text": [
      "404 Client Error: Not Found for url: https://query2.finance.yahoo.com/v10/finance/quoteSummary/GPDNF?modules=recommendationTrend&corsDomain=finance.yahoo.com&formatted=false&symbol=GPDNF&crumb=RvcHzk3Ziw6\n"
     ]
    },
    {
     "name": "stdout",
     "output_type": "stream",
     "text": [
      "https://finance.yahoo.com/quote/EXPGF\n"
     ]
    },
    {
     "name": "stderr",
     "output_type": "stream",
     "text": [
      "EXPGF: No earnings dates found, symbol may be delisted\n",
      "404 Client Error: Not Found for url: https://query2.finance.yahoo.com/v10/finance/quoteSummary/EXPGF?modules=recommendationTrend&corsDomain=finance.yahoo.com&formatted=false&symbol=EXPGF&crumb=RvcHzk3Ziw6\n"
     ]
    },
    {
     "name": "stdout",
     "output_type": "stream",
     "text": [
      "https://finance.yahoo.com/quote/COR\n",
      "https://finance.yahoo.com/quote/OXY\n",
      "https://finance.yahoo.com/quote/RYCEF\n"
     ]
    },
    {
     "name": "stderr",
     "output_type": "stream",
     "text": [
      "RYCEF: No earnings dates found, symbol may be delisted\n"
     ]
    },
    {
     "name": "stdout",
     "output_type": "stream",
     "text": [
      "https://finance.yahoo.com/quote/PRU\n",
      "https://finance.yahoo.com/quote/RSG\n",
      "https://finance.yahoo.com/quote/HES\n",
      "https://finance.yahoo.com/quote/GVDBF\n"
     ]
    },
    {
     "name": "stderr",
     "output_type": "stream",
     "text": [
      "GVDBF: No earnings dates found, symbol may be delisted\n"
     ]
    },
    {
     "name": "stdout",
     "output_type": "stream",
     "text": [
      "https://finance.yahoo.com/quote/TRP\n",
      "https://finance.yahoo.com/quote/PAYX\n",
      "https://finance.yahoo.com/quote/DOW\n",
      "https://finance.yahoo.com/quote/NBNKF\n"
     ]
    },
    {
     "name": "stderr",
     "output_type": "stream",
     "text": [
      "404 Client Error: Not Found for url: https://query2.finance.yahoo.com/v10/finance/quoteSummary/NBNKF?modules=recommendationTrend&corsDomain=finance.yahoo.com&formatted=false&symbol=NBNKF&crumb=RvcHzk3Ziw6\n"
     ]
    },
    {
     "name": "stdout",
     "output_type": "stream",
     "text": [
      "https://finance.yahoo.com/quote/EA\n",
      "https://finance.yahoo.com/quote/OTIS\n",
      "https://finance.yahoo.com/quote/OLCLF\n"
     ]
    },
    {
     "name": "stderr",
     "output_type": "stream",
     "text": [
      "404 Client Error: Not Found for url: https://query2.finance.yahoo.com/v10/finance/quoteSummary/OLCLF?modules=recommendationTrend&corsDomain=finance.yahoo.com&formatted=false&symbol=OLCLF&crumb=RvcHzk3Ziw6\n"
     ]
    },
    {
     "name": "stdout",
     "output_type": "stream",
     "text": [
      "https://finance.yahoo.com/quote/DKILF\n"
     ]
    },
    {
     "name": "stderr",
     "output_type": "stream",
     "text": [
      "404 Client Error: Not Found for url: https://query2.finance.yahoo.com/v10/finance/quoteSummary/DKILF?modules=recommendationTrend&corsDomain=finance.yahoo.com&formatted=false&symbol=DKILF&crumb=RvcHzk3Ziw6\n"
     ]
    },
    {
     "name": "stdout",
     "output_type": "stream",
     "text": [
      "https://finance.yahoo.com/quote/LZAGF\n"
     ]
    },
    {
     "name": "stderr",
     "output_type": "stream",
     "text": [
      "LZAGF: No earnings dates found, symbol may be delisted\n",
      "404 Client Error: Not Found for url: https://query2.finance.yahoo.com/v10/finance/quoteSummary/LZAGF?modules=recommendationTrend&corsDomain=finance.yahoo.com&formatted=false&symbol=LZAGF&crumb=RvcHzk3Ziw6\n"
     ]
    },
    {
     "name": "stdout",
     "output_type": "stream",
     "text": [
      "https://finance.yahoo.com/quote/CTVA\n",
      "https://finance.yahoo.com/quote/TTD\n",
      "https://finance.yahoo.com/quote/LLDTF\n",
      "https://finance.yahoo.com/quote/BAMXF\n",
      "https://finance.yahoo.com/quote/WOPEF\n"
     ]
    },
    {
     "name": "stderr",
     "output_type": "stream",
     "text": [
      "WOPEF: No earnings dates found, symbol may be delisted\n",
      "404 Client Error: Not Found for url: https://query2.finance.yahoo.com/v10/finance/quoteSummary/WOPEF?modules=recommendationTrend&corsDomain=finance.yahoo.com&formatted=false&symbol=WOPEF&crumb=RvcHzk3Ziw6\n"
     ]
    },
    {
     "name": "stdout",
     "output_type": "stream",
     "text": [
      "https://finance.yahoo.com/quote/FLUT\n"
     ]
    },
    {
     "name": "stderr",
     "output_type": "stream",
     "text": [
      "FLUT: No earnings dates found, symbol may be delisted\n"
     ]
    },
    {
     "name": "stdout",
     "output_type": "stream",
     "text": [
      "https://finance.yahoo.com/quote/IT\n",
      "https://finance.yahoo.com/quote/GIS\n",
      "https://finance.yahoo.com/quote/CODGF\n"
     ]
    },
    {
     "name": "stderr",
     "output_type": "stream",
     "text": [
      "CODGF: No earnings dates found, symbol may be delisted\n"
     ]
    },
    {
     "name": "stdout",
     "output_type": "stream",
     "text": [
      "https://finance.yahoo.com/quote/YUM\n",
      "https://finance.yahoo.com/quote/SFBQF\n"
     ]
    },
    {
     "name": "stderr",
     "output_type": "stream",
     "text": [
      "404 Client Error: Not Found for url: https://query2.finance.yahoo.com/v10/finance/quoteSummary/SFBQF?modules=recommendationTrend&corsDomain=finance.yahoo.com&formatted=false&symbol=SFBQF&crumb=RvcHzk3Ziw6\n"
     ]
    },
    {
     "name": "stdout",
     "output_type": "stream",
     "text": [
      "https://finance.yahoo.com/quote/LNG\n",
      "https://finance.yahoo.com/quote/CMI\n",
      "https://finance.yahoo.com/quote/GEHC\n",
      "https://finance.yahoo.com/quote/IR\n",
      "https://finance.yahoo.com/quote/NPPXF\n"
     ]
    },
    {
     "name": "stderr",
     "output_type": "stream",
     "text": [
      "404 Client Error: Not Found for url: https://query2.finance.yahoo.com/v10/finance/quoteSummary/NPPXF?modules=recommendationTrend&corsDomain=finance.yahoo.com&formatted=false&symbol=NPPXF&crumb=RvcHzk3Ziw6\n"
     ]
    },
    {
     "name": "stdout",
     "output_type": "stream",
     "text": [
      "https://finance.yahoo.com/quote/DDOG\n",
      "https://finance.yahoo.com/quote/EXC\n",
      "https://finance.yahoo.com/quote/CSGP\n",
      "https://finance.yahoo.com/quote/ADTTF\n"
     ]
    },
    {
     "name": "stderr",
     "output_type": "stream",
     "text": [
      "404 Client Error: Not Found for url: https://query2.finance.yahoo.com/v10/finance/quoteSummary/ADTTF?modules=recommendationTrend&corsDomain=finance.yahoo.com&formatted=false&symbol=ADTTF&crumb=RvcHzk3Ziw6\n"
     ]
    },
    {
     "name": "stdout",
     "output_type": "stream",
     "text": [
      "https://finance.yahoo.com/quote/NEM\n",
      "https://finance.yahoo.com/quote/MRAAF\n"
     ]
    },
    {
     "name": "stderr",
     "output_type": "stream",
     "text": [
      "404 Client Error: Not Found for url: https://query2.finance.yahoo.com/v10/finance/quoteSummary/MRAAF?modules=recommendationTrend&corsDomain=finance.yahoo.com&formatted=false&symbol=MRAAF&crumb=RvcHzk3Ziw6\n"
     ]
    },
    {
     "name": "stdout",
     "output_type": "stream",
     "text": [
      "https://finance.yahoo.com/quote/EL\n",
      "https://finance.yahoo.com/quote/COIN\n",
      "https://finance.yahoo.com/quote/PWR\n",
      "https://finance.yahoo.com/quote/PDRDF\n"
     ]
    },
    {
     "name": "stderr",
     "output_type": "stream",
     "text": [
      "404 Client Error: Not Found for url: https://query2.finance.yahoo.com/v10/finance/quoteSummary/PDRDF?modules=recommendationTrend&corsDomain=finance.yahoo.com&formatted=false&symbol=PDRDF&crumb=RvcHzk3Ziw6\n"
     ]
    },
    {
     "name": "stdout",
     "output_type": "stream",
     "text": [
      "https://finance.yahoo.com/quote/MLM\n",
      "https://finance.yahoo.com/quote/EIPAF\n"
     ]
    },
    {
     "name": "stderr",
     "output_type": "stream",
     "text": [
      "404 Client Error: Not Found for url: https://query2.finance.yahoo.com/v10/finance/quoteSummary/EIPAF?modules=recommendationTrend&corsDomain=finance.yahoo.com&formatted=false&symbol=EIPAF&crumb=RvcHzk3Ziw6\n"
     ]
    },
    {
     "name": "stdout",
     "output_type": "stream",
     "text": [
      "https://finance.yahoo.com/quote/HKXCF\n"
     ]
    },
    {
     "name": "stderr",
     "output_type": "stream",
     "text": [
      "404 Client Error: Not Found for url: https://query2.finance.yahoo.com/v10/finance/quoteSummary/HKXCF?modules=recommendationTrend&corsDomain=finance.yahoo.com&formatted=false&symbol=HKXCF&crumb=RvcHzk3Ziw6\n"
     ]
    },
    {
     "name": "stdout",
     "output_type": "stream",
     "text": [
      "https://finance.yahoo.com/quote/VEEV\n",
      "https://finance.yahoo.com/quote/DNZOF\n"
     ]
    },
    {
     "name": "stderr",
     "output_type": "stream",
     "text": [
      "404 Client Error: Not Found for url: https://query2.finance.yahoo.com/v10/finance/quoteSummary/DNZOF?modules=recommendationTrend&corsDomain=finance.yahoo.com&formatted=false&symbol=DNZOF&crumb=RvcHzk3Ziw6\n"
     ]
    },
    {
     "name": "stdout",
     "output_type": "stream",
     "text": [
      "https://finance.yahoo.com/quote/SSREF\n"
     ]
    },
    {
     "name": "stderr",
     "output_type": "stream",
     "text": [
      "404 Client Error: Not Found for url: https://query2.finance.yahoo.com/v10/finance/quoteSummary/SSREF?modules=recommendationTrend&corsDomain=finance.yahoo.com&formatted=false&symbol=SSREF&crumb=RvcHzk3Ziw6\n"
     ]
    },
    {
     "name": "stdout",
     "output_type": "stream",
     "text": [
      "https://finance.yahoo.com/quote/MPWR\n",
      "https://finance.yahoo.com/quote/VRSK\n",
      "https://finance.yahoo.com/quote/EFX\n",
      "https://finance.yahoo.com/quote/ADYYF\n"
     ]
    },
    {
     "name": "stderr",
     "output_type": "stream",
     "text": [
      "404 Client Error: Not Found for url: https://query2.finance.yahoo.com/v10/finance/quoteSummary/ADYYF?modules=recommendationTrend&corsDomain=finance.yahoo.com&formatted=false&symbol=ADYYF&crumb=RvcHzk3Ziw6\n"
     ]
    },
    {
     "name": "stdout",
     "output_type": "stream",
     "text": [
      "https://finance.yahoo.com/quote/KMI\n",
      "https://finance.yahoo.com/quote/VMC\n",
      "https://finance.yahoo.com/quote/SMECF\n"
     ]
    },
    {
     "name": "stderr",
     "output_type": "stream",
     "text": [
      "404 Client Error: Not Found for url: https://query2.finance.yahoo.com/v10/finance/quoteSummary/SMECF?modules=recommendationTrend&corsDomain=finance.yahoo.com&formatted=false&symbol=SMECF&crumb=RvcHzk3Ziw6\n"
     ]
    },
    {
     "name": "stdout",
     "output_type": "stream",
     "text": [
      "https://finance.yahoo.com/quote/KR\n",
      "https://finance.yahoo.com/quote/PGPHF\n"
     ]
    },
    {
     "name": "stderr",
     "output_type": "stream",
     "text": [
      "PGPHF: No earnings dates found, symbol may be delisted\n",
      "404 Client Error: Not Found for url: https://query2.finance.yahoo.com/v10/finance/quoteSummary/PGPHF?modules=recommendationTrend&corsDomain=finance.yahoo.com&formatted=false&symbol=PGPHF&crumb=RvcHzk3Ziw6\n"
     ]
    },
    {
     "name": "stdout",
     "output_type": "stream",
     "text": [
      "https://finance.yahoo.com/quote/ADDDF\n",
      "https://finance.yahoo.com/quote/GMGSF\n"
     ]
    },
    {
     "name": "stderr",
     "output_type": "stream",
     "text": [
      "GMGSF: No earnings dates found, symbol may be delisted\n",
      "404 Client Error: Not Found for url: https://query2.finance.yahoo.com/v10/finance/quoteSummary/GMGSF?modules=recommendationTrend&corsDomain=finance.yahoo.com&formatted=false&symbol=GMGSF&crumb=RvcHzk3Ziw6\n"
     ]
    },
    {
     "name": "stdout",
     "output_type": "stream",
     "text": [
      "https://finance.yahoo.com/quote/PCG\n",
      "https://finance.yahoo.com/quote/SVNDF\n"
     ]
    },
    {
     "name": "stderr",
     "output_type": "stream",
     "text": [
      "404 Client Error: Not Found for url: https://query2.finance.yahoo.com/v10/finance/quoteSummary/SVNDF?modules=recommendationTrend&corsDomain=finance.yahoo.com&formatted=false&symbol=SVNDF&crumb=RvcHzk3Ziw6\n"
     ]
    },
    {
     "name": "stdout",
     "output_type": "stream",
     "text": [
      "https://finance.yahoo.com/quote/ON\n",
      "https://finance.yahoo.com/quote/PPRUF\n"
     ]
    },
    {
     "name": "stderr",
     "output_type": "stream",
     "text": [
      "404 Client Error: Not Found for url: https://query2.finance.yahoo.com/v10/finance/quoteSummary/PPRUF?modules=recommendationTrend&corsDomain=finance.yahoo.com&formatted=false&symbol=PPRUF&crumb=RvcHzk3Ziw6\n"
     ]
    },
    {
     "name": "stdout",
     "output_type": "stream",
     "text": [
      "https://finance.yahoo.com/quote/PPG\n",
      "https://finance.yahoo.com/quote/CDW\n",
      "https://finance.yahoo.com/quote/TEAM\n",
      "https://finance.yahoo.com/quote/KVUE\n",
      "https://finance.yahoo.com/quote/GPN\n",
      "https://finance.yahoo.com/quote/MDB\n",
      "https://finance.yahoo.com/quote/ACGL\n",
      "https://finance.yahoo.com/quote/DASTF\n"
     ]
    },
    {
     "name": "stderr",
     "output_type": "stream",
     "text": [
      "404 Client Error: Not Found for url: https://query2.finance.yahoo.com/v10/finance/quoteSummary/DASTF?modules=recommendationTrend&corsDomain=finance.yahoo.com&formatted=false&symbol=DASTF&crumb=RvcHzk3Ziw6\n"
     ]
    },
    {
     "name": "stdout",
     "output_type": "stream",
     "text": [
      "https://finance.yahoo.com/quote/DASH\n",
      "https://finance.yahoo.com/quote/HAL\n",
      "https://finance.yahoo.com/quote/DFS\n",
      "https://finance.yahoo.com/quote/DLTR\n",
      "https://finance.yahoo.com/quote/ROK\n",
      "https://finance.yahoo.com/quote/BCLYF\n"
     ]
    },
    {
     "name": "stderr",
     "output_type": "stream",
     "text": [
      "404 Client Error: Not Found for url: https://query2.finance.yahoo.com/v10/finance/quoteSummary/BCLYF?modules=recommendationTrend&corsDomain=finance.yahoo.com&formatted=false&symbol=BCLYF&crumb=RvcHzk3Ziw6\n"
     ]
    },
    {
     "name": "stdout",
     "output_type": "stream",
     "text": [
      "https://finance.yahoo.com/quote/DD\n",
      "https://finance.yahoo.com/quote/TGOPF\n"
     ]
    },
    {
     "name": "stderr",
     "output_type": "stream",
     "text": [
      "TGOPF: No earnings dates found, symbol may be delisted\n",
      "404 Client Error: Not Found for url: https://query2.finance.yahoo.com/v10/finance/quoteSummary/TGOPF?modules=recommendationTrend&corsDomain=finance.yahoo.com&formatted=false&symbol=TGOPF&crumb=RvcHzk3Ziw6\n"
     ]
    },
    {
     "name": "stdout",
     "output_type": "stream",
     "text": [
      "https://finance.yahoo.com/quote/OVCHF\n"
     ]
    },
    {
     "name": "stderr",
     "output_type": "stream",
     "text": [
      "404 Client Error: Not Found for url: https://query2.finance.yahoo.com/v10/finance/quoteSummary/OVCHF?modules=recommendationTrend&corsDomain=finance.yahoo.com&formatted=false&symbol=OVCHF&crumb=RvcHzk3Ziw6\n"
     ]
    },
    {
     "name": "stdout",
     "output_type": "stream",
     "text": [
      "https://finance.yahoo.com/quote/JAPAF\n"
     ]
    },
    {
     "name": "stderr",
     "output_type": "stream",
     "text": [
      "404 Client Error: Not Found for url: https://query2.finance.yahoo.com/v10/finance/quoteSummary/JAPAF?modules=recommendationTrend&corsDomain=finance.yahoo.com&formatted=false&symbol=JAPAF&crumb=RvcHzk3Ziw6\n"
     ]
    },
    {
     "name": "stdout",
     "output_type": "stream",
     "text": [
      "https://finance.yahoo.com/quote/KDP\n",
      "https://finance.yahoo.com/quote/BIIB\n",
      "https://finance.yahoo.com/quote/MIELF\n"
     ]
    },
    {
     "name": "stderr",
     "output_type": "stream",
     "text": [
      "404 Client Error: Not Found for url: https://query2.finance.yahoo.com/v10/finance/quoteSummary/MIELF?modules=recommendationTrend&corsDomain=finance.yahoo.com&formatted=false&symbol=MIELF&crumb=RvcHzk3Ziw6\n"
     ]
    },
    {
     "name": "stdout",
     "output_type": "stream",
     "text": [
      "https://finance.yahoo.com/quote/RTNTF\n"
     ]
    },
    {
     "name": "stderr",
     "output_type": "stream",
     "text": [
      "RTNTF: No earnings dates found, symbol may be delisted\n",
      "404 Client Error: Not Found for url: https://query2.finance.yahoo.com/v10/finance/quoteSummary/RTNTF?modules=recommendationTrend&corsDomain=finance.yahoo.com&formatted=false&symbol=RTNTF&crumb=RvcHzk3Ziw6\n"
     ]
    },
    {
     "name": "stdout",
     "output_type": "stream",
     "text": [
      "https://finance.yahoo.com/quote/DG\n",
      "https://finance.yahoo.com/quote/ASHTF\n",
      "https://finance.yahoo.com/quote/FTV\n",
      "https://finance.yahoo.com/quote/PEG\n",
      "https://finance.yahoo.com/quote/FICO\n",
      "https://finance.yahoo.com/quote/BAYZF\n"
     ]
    },
    {
     "name": "stderr",
     "output_type": "stream",
     "text": [
      "404 Client Error: Not Found for url: https://query2.finance.yahoo.com/v10/finance/quoteSummary/BAYZF?modules=recommendationTrend&corsDomain=finance.yahoo.com&formatted=false&symbol=BAYZF&crumb=RvcHzk3Ziw6\n"
     ]
    },
    {
     "name": "stdout",
     "output_type": "stream",
     "text": [
      "https://finance.yahoo.com/quote/FANG\n",
      "https://finance.yahoo.com/quote/STMEF\n"
     ]
    },
    {
     "name": "stderr",
     "output_type": "stream",
     "text": [
      "404 Client Error: Not Found for url: https://query2.finance.yahoo.com/v10/finance/quoteSummary/STMEF?modules=recommendationTrend&corsDomain=finance.yahoo.com&formatted=false&symbol=STMEF&crumb=RvcHzk3Ziw6\n"
     ]
    },
    {
     "name": "stdout",
     "output_type": "stream",
     "text": [
      "https://finance.yahoo.com/quote/RCL\n",
      "https://finance.yahoo.com/quote/ENGQF\n"
     ]
    },
    {
     "name": "stderr",
     "output_type": "stream",
     "text": [
      "ENGQF: No earnings dates found, symbol may be delisted\n",
      "404 Client Error: Not Found for url: https://query2.finance.yahoo.com/v10/finance/quoteSummary/ENGQF?modules=recommendationTrend&corsDomain=finance.yahoo.com&formatted=false&symbol=ENGQF&crumb=RvcHzk3Ziw6\n"
     ]
    },
    {
     "name": "stdout",
     "output_type": "stream",
     "text": [
      "https://finance.yahoo.com/quote/SLF\n",
      "https://finance.yahoo.com/quote/XYL\n",
      "https://finance.yahoo.com/quote/VICI\n",
      "https://finance.yahoo.com/quote/BKR\n",
      "https://finance.yahoo.com/quote/ED\n",
      "https://finance.yahoo.com/quote/KHC\n",
      "https://finance.yahoo.com/quote/FSUMF\n"
     ]
    },
    {
     "name": "stderr",
     "output_type": "stream",
     "text": [
      "FSUMF: No earnings dates found, symbol may be delisted\n",
      "404 Client Error: Not Found for url: https://query2.finance.yahoo.com/v10/finance/quoteSummary/FSUMF?modules=recommendationTrend&corsDomain=finance.yahoo.com&formatted=false&symbol=FSUMF&crumb=RvcHzk3Ziw6\n"
     ]
    },
    {
     "name": "stdout",
     "output_type": "stream",
     "text": [
      "https://finance.yahoo.com/quote/XEL\n",
      "https://finance.yahoo.com/quote/ENAKF\n"
     ]
    },
    {
     "name": "stderr",
     "output_type": "stream",
     "text": [
      "404 Client Error: Not Found for url: https://query2.finance.yahoo.com/v10/finance/quoteSummary/ENAKF?modules=recommendationTrend&corsDomain=finance.yahoo.com&formatted=false&symbol=ENAKF&crumb=RvcHzk3Ziw6\n"
     ]
    },
    {
     "name": "stdout",
     "output_type": "stream",
     "text": [
      "https://finance.yahoo.com/quote/HUBS\n",
      "https://finance.yahoo.com/quote/NET\n",
      "https://finance.yahoo.com/quote/DSDVF\n"
     ]
    },
    {
     "name": "stderr",
     "output_type": "stream",
     "text": [
      "404 Client Error: Not Found for url: https://query2.finance.yahoo.com/v10/finance/quoteSummary/DSDVF?modules=recommendationTrend&corsDomain=finance.yahoo.com&formatted=false&symbol=DSDVF&crumb=RvcHzk3Ziw6\n"
     ]
    },
    {
     "name": "stdout",
     "output_type": "stream",
     "text": [
      "https://finance.yahoo.com/quote/EXR\n",
      "https://finance.yahoo.com/quote/MRNA\n",
      "https://finance.yahoo.com/quote/ADM\n",
      "https://finance.yahoo.com/quote/AHODF\n"
     ]
    },
    {
     "name": "stderr",
     "output_type": "stream",
     "text": [
      "404 Client Error: Not Found for url: https://query2.finance.yahoo.com/v10/finance/quoteSummary/AHODF?modules=recommendationTrend&corsDomain=finance.yahoo.com&formatted=false&symbol=AHODF&crumb=RvcHzk3Ziw6\n"
     ]
    },
    {
     "name": "stdout",
     "output_type": "stream",
     "text": [
      "https://finance.yahoo.com/quote/CHTR\n",
      "https://finance.yahoo.com/quote/CHGCF\n",
      "https://finance.yahoo.com/quote/DISPF\n"
     ]
    },
    {
     "name": "stderr",
     "output_type": "stream",
     "text": [
      "404 Client Error: Not Found for url: https://query2.finance.yahoo.com/v10/finance/quoteSummary/DISPF?modules=recommendationTrend&corsDomain=finance.yahoo.com&formatted=false&symbol=DISPF&crumb=RvcHzk3Ziw6\n"
     ]
    },
    {
     "name": "stdout",
     "output_type": "stream",
     "text": [
      "https://finance.yahoo.com/quote/CAH\n",
      "https://finance.yahoo.com/quote/HIG\n",
      "https://finance.yahoo.com/quote/WTW\n",
      "https://finance.yahoo.com/quote/ANSS\n",
      "https://finance.yahoo.com/quote/IFCZF\n"
     ]
    },
    {
     "name": "stderr",
     "output_type": "stream",
     "text": [
      "404 Client Error: Not Found for url: https://query2.finance.yahoo.com/v10/finance/quoteSummary/IFCZF?modules=recommendationTrend&corsDomain=finance.yahoo.com&formatted=false&symbol=IFCZF&crumb=RvcHzk3Ziw6\n"
     ]
    },
    {
     "name": "stdout",
     "output_type": "stream",
     "text": [
      "https://finance.yahoo.com/quote/TSCO\n",
      "https://finance.yahoo.com/quote/HSY\n",
      "https://finance.yahoo.com/quote/TRAUF\n",
      "https://finance.yahoo.com/quote/VLKPF\n"
     ]
    },
    {
     "name": "stderr",
     "output_type": "stream",
     "text": [
      "404 Client Error: Not Found for url: https://query2.finance.yahoo.com/v10/finance/quoteSummary/VLKPF?modules=recommendationTrend&corsDomain=finance.yahoo.com&formatted=false&symbol=VLKPF&crumb=RvcHzk3Ziw6\n"
     ]
    },
    {
     "name": "stdout",
     "output_type": "stream",
     "text": [
      "https://finance.yahoo.com/quote/MTD\n",
      "https://finance.yahoo.com/quote/CBRE\n",
      "https://finance.yahoo.com/quote/DVN\n",
      "https://finance.yahoo.com/quote/WST\n",
      "https://finance.yahoo.com/quote/KEYS\n",
      "https://finance.yahoo.com/quote/VWSYF\n"
     ]
    },
    {
     "name": "stderr",
     "output_type": "stream",
     "text": [
      "404 Client Error: Not Found for url: https://query2.finance.yahoo.com/v10/finance/quoteSummary/VWSYF?modules=recommendationTrend&corsDomain=finance.yahoo.com&formatted=false&symbol=VWSYF&crumb=RvcHzk3Ziw6\n"
     ]
    },
    {
     "name": "stdout",
     "output_type": "stream",
     "text": [
      "https://finance.yahoo.com/quote/CAJFF\n"
     ]
    },
    {
     "name": "stderr",
     "output_type": "stream",
     "text": [
      "404 Client Error: Not Found for url: https://query2.finance.yahoo.com/v10/finance/quoteSummary/CAJFF?modules=recommendationTrend&corsDomain=finance.yahoo.com&formatted=false&symbol=CAJFF&crumb=RvcHzk3Ziw6\n"
     ]
    },
    {
     "name": "stdout",
     "output_type": "stream",
     "text": [
      "https://finance.yahoo.com/quote/KMTUF\n"
     ]
    },
    {
     "name": "stderr",
     "output_type": "stream",
     "text": [
      "404 Client Error: Not Found for url: https://query2.finance.yahoo.com/v10/finance/quoteSummary/KMTUF?modules=recommendationTrend&corsDomain=finance.yahoo.com&formatted=false&symbol=KMTUF&crumb=RvcHzk3Ziw6\n"
     ]
    },
    {
     "name": "stdout",
     "output_type": "stream",
     "text": [
      "https://finance.yahoo.com/quote/ASAZF\n"
     ]
    },
    {
     "name": "stderr",
     "output_type": "stream",
     "text": [
      "404 Client Error: Not Found for url: https://query2.finance.yahoo.com/v10/finance/quoteSummary/ASAZF?modules=recommendationTrend&corsDomain=finance.yahoo.com&formatted=false&symbol=ASAZF&crumb=RvcHzk3Ziw6\n"
     ]
    },
    {
     "name": "stdout",
     "output_type": "stream",
     "text": [
      "https://finance.yahoo.com/quote/FANUF\n"
     ]
    },
    {
     "name": "stderr",
     "output_type": "stream",
     "text": [
      "404 Client Error: Not Found for url: https://query2.finance.yahoo.com/v10/finance/quoteSummary/FANUF?modules=recommendationTrend&corsDomain=finance.yahoo.com&formatted=false&symbol=FANUF&crumb=RvcHzk3Ziw6\n"
     ]
    },
    {
     "name": "stdout",
     "output_type": "stream",
     "text": [
      "https://finance.yahoo.com/quote/AMADF\n"
     ]
    },
    {
     "name": "stderr",
     "output_type": "stream",
     "text": [
      "404 Client Error: Not Found for url: https://query2.finance.yahoo.com/v10/finance/quoteSummary/AMADF?modules=recommendationTrend&corsDomain=finance.yahoo.com&formatted=false&symbol=AMADF&crumb=RvcHzk3Ziw6\n"
     ]
    },
    {
     "name": "stdout",
     "output_type": "stream",
     "text": [
      "https://finance.yahoo.com/quote/ULTA\n",
      "https://finance.yahoo.com/quote/DB\n",
      "https://finance.yahoo.com/quote/AAUKF\n"
     ]
    },
    {
     "name": "stderr",
     "output_type": "stream",
     "text": [
      "404 Client Error: Not Found for url: https://query2.finance.yahoo.com/v10/finance/quoteSummary/AAUKF?modules=recommendationTrend&corsDomain=finance.yahoo.com&formatted=false&symbol=AAUKF&crumb=RvcHzk3Ziw6\n"
     ]
    },
    {
     "name": "stdout",
     "output_type": "stream",
     "text": [
      "https://finance.yahoo.com/quote/HPQ\n",
      "https://finance.yahoo.com/quote/PUKPF\n"
     ]
    },
    {
     "name": "stderr",
     "output_type": "stream",
     "text": [
      "PUKPF: No earnings dates found, symbol may be delisted\n",
      "404 Client Error: Not Found for url: https://query2.finance.yahoo.com/v10/finance/quoteSummary/PUKPF?modules=recommendationTrend&corsDomain=finance.yahoo.com&formatted=false&symbol=PUKPF&crumb=RvcHzk3Ziw6\n"
     ]
    },
    {
     "name": "stdout",
     "output_type": "stream",
     "text": [
      "https://finance.yahoo.com/quote/ZBH\n",
      "https://finance.yahoo.com/quote/BLDR\n",
      "https://finance.yahoo.com/quote/TSCDF\n",
      "https://finance.yahoo.com/quote/NTR\n",
      "https://finance.yahoo.com/quote/ORXCF\n"
     ]
    },
    {
     "name": "stderr",
     "output_type": "stream",
     "text": [
      "404 Client Error: Not Found for url: https://query2.finance.yahoo.com/v10/finance/quoteSummary/ORXCF?modules=recommendationTrend&corsDomain=finance.yahoo.com&formatted=false&symbol=ORXCF&crumb=RvcHzk3Ziw6\n"
     ]
    },
    {
     "name": "stdout",
     "output_type": "stream",
     "text": [
      "https://finance.yahoo.com/quote/TRI\n",
      "https://finance.yahoo.com/quote/HINKF\n"
     ]
    },
    {
     "name": "stderr",
     "output_type": "stream",
     "text": [
      "HINKF: No earnings dates found, symbol may be delisted\n",
      "404 Client Error: Not Found for url: https://query2.finance.yahoo.com/v10/finance/quoteSummary/HINKF?modules=recommendationTrend&corsDomain=finance.yahoo.com&formatted=false&symbol=HINKF&crumb=RvcHzk3Ziw6\n"
     ]
    },
    {
     "name": "stdout",
     "output_type": "stream",
     "text": [
      "https://finance.yahoo.com/quote/ASMXF\n"
     ]
    },
    {
     "name": "stderr",
     "output_type": "stream",
     "text": [
      "404 Client Error: Not Found for url: https://query2.finance.yahoo.com/v10/finance/quoteSummary/ASMXF?modules=recommendationTrend&corsDomain=finance.yahoo.com&formatted=false&symbol=ASMXF&crumb=RvcHzk3Ziw6\n"
     ]
    },
    {
     "name": "stdout",
     "output_type": "stream",
     "text": [
      "https://finance.yahoo.com/quote/DELL\n",
      "https://finance.yahoo.com/quote/LGRVF\n"
     ]
    },
    {
     "name": "stderr",
     "output_type": "stream",
     "text": [
      "404 Client Error: Not Found for url: https://query2.finance.yahoo.com/v10/finance/quoteSummary/LGRVF?modules=recommendationTrend&corsDomain=finance.yahoo.com&formatted=false&symbol=LGRVF&crumb=RvcHzk3Ziw6\n"
     ]
    },
    {
     "name": "stdout",
     "output_type": "stream",
     "text": [
      "https://finance.yahoo.com/quote/TRUMF\n"
     ]
    },
    {
     "name": "stderr",
     "output_type": "stream",
     "text": [
      "404 Client Error: Not Found for url: https://query2.finance.yahoo.com/v10/finance/quoteSummary/TRUMF?modules=recommendationTrend&corsDomain=finance.yahoo.com&formatted=false&symbol=TRUMF&crumb=RvcHzk3Ziw6\n"
     ]
    },
    {
     "name": "stdout",
     "output_type": "stream",
     "text": [
      "https://finance.yahoo.com/quote/AVB\n",
      "https://finance.yahoo.com/quote/WOLWF\n"
     ]
    },
    {
     "name": "stderr",
     "output_type": "stream",
     "text": [
      "WOLWF: No earnings dates found, symbol may be delisted\n",
      "404 Client Error: Not Found for url: https://query2.finance.yahoo.com/v10/finance/quoteSummary/WOLWF?modules=recommendationTrend&corsDomain=finance.yahoo.com&formatted=false&symbol=WOLWF&crumb=RvcHzk3Ziw6\n"
     ]
    },
    {
     "name": "stdout",
     "output_type": "stream",
     "text": [
      "https://finance.yahoo.com/quote/FJTSF\n",
      "https://finance.yahoo.com/quote/LYB\n",
      "https://finance.yahoo.com/quote/UOVEF\n"
     ]
    },
    {
     "name": "stderr",
     "output_type": "stream",
     "text": [
      "404 Client Error: Not Found for url: https://query2.finance.yahoo.com/v10/finance/quoteSummary/UOVEF?modules=recommendationTrend&corsDomain=finance.yahoo.com&formatted=false&symbol=UOVEF&crumb=RvcHzk3Ziw6\n"
     ]
    },
    {
     "name": "stdout",
     "output_type": "stream",
     "text": [
      "https://finance.yahoo.com/quote/EIX\n",
      "https://finance.yahoo.com/quote/GLW\n",
      "https://finance.yahoo.com/quote/NTIOF\n",
      "https://finance.yahoo.com/quote/ARZGF\n"
     ]
    },
    {
     "name": "stderr",
     "output_type": "stream",
     "text": [
      "404 Client Error: Not Found for url: https://query2.finance.yahoo.com/v10/finance/quoteSummary/ARZGF?modules=recommendationTrend&corsDomain=finance.yahoo.com&formatted=false&symbol=ARZGF&crumb=RvcHzk3Ziw6\n"
     ]
    },
    {
     "name": "stdout",
     "output_type": "stream",
     "text": [
      "https://finance.yahoo.com/quote/TROW\n",
      "https://finance.yahoo.com/quote/HLNCF\n"
     ]
    },
    {
     "name": "stderr",
     "output_type": "stream",
     "text": [
      "404 Client Error: Not Found for url: https://query2.finance.yahoo.com/v10/finance/quoteSummary/HLNCF?modules=recommendationTrend&corsDomain=finance.yahoo.com&formatted=false&symbol=HLNCF&crumb=RvcHzk3Ziw6\n"
     ]
    },
    {
     "name": "stdout",
     "output_type": "stream",
     "text": [
      "https://finance.yahoo.com/quote/TTWO\n",
      "https://finance.yahoo.com/quote/EVGGF\n"
     ]
    },
    {
     "name": "stderr",
     "output_type": "stream",
     "text": [
      "404 Client Error: Not Found for url: https://query2.finance.yahoo.com/v10/finance/quoteSummary/EVGGF?modules=recommendationTrend&corsDomain=finance.yahoo.com&formatted=false&symbol=EVGGF&crumb=RvcHzk3Ziw6\n"
     ]
    },
    {
     "name": "stdout",
     "output_type": "stream",
     "text": [
      "https://finance.yahoo.com/quote/VRT\n",
      "https://finance.yahoo.com/quote/HWM\n",
      "https://finance.yahoo.com/quote/WY\n"
     ]
    },
    {
     "name": "stderr",
     "output_type": "stream",
     "text": [
      "NAN: No earnings dates found, symbol may be delisted\n"
     ]
    },
    {
     "name": "stdout",
     "output_type": "stream",
     "text": [
      "https://finance.yahoo.com/quote/NAN\n",
      "https://finance.yahoo.com/quote/BRDCF\n"
     ]
    },
    {
     "name": "stderr",
     "output_type": "stream",
     "text": [
      "404 Client Error: Not Found for url: https://query2.finance.yahoo.com/v10/finance/quoteSummary/BRDCF?modules=recommendationTrend&corsDomain=finance.yahoo.com&formatted=false&symbol=BRDCF&crumb=RvcHzk3Ziw6\n"
     ]
    },
    {
     "name": "stdout",
     "output_type": "stream",
     "text": [
      "https://finance.yahoo.com/quote/MARUF\n"
     ]
    },
    {
     "name": "stderr",
     "output_type": "stream",
     "text": [
      "404 Client Error: Not Found for url: https://query2.finance.yahoo.com/v10/finance/quoteSummary/MARUF?modules=recommendationTrend&corsDomain=finance.yahoo.com&formatted=false&symbol=MARUF&crumb=RvcHzk3Ziw6\n"
     ]
    },
    {
     "name": "stdout",
     "output_type": "stream",
     "text": [
      "https://finance.yahoo.com/quote/GOLD\n",
      "https://finance.yahoo.com/quote/STE\n",
      "https://finance.yahoo.com/quote/WAB\n",
      "https://finance.yahoo.com/quote/RJF\n",
      "https://finance.yahoo.com/quote/UMGNF\n"
     ]
    },
    {
     "name": "stderr",
     "output_type": "stream",
     "text": [
      "UMGNF: No earnings dates found, symbol may be delisted\n",
      "404 Client Error: Not Found for url: https://query2.finance.yahoo.com/v10/finance/quoteSummary/UMGNF?modules=recommendationTrend&corsDomain=finance.yahoo.com&formatted=false&symbol=UMGNF&crumb=RvcHzk3Ziw6\n"
     ]
    },
    {
     "name": "stdout",
     "output_type": "stream",
     "text": [
      "https://finance.yahoo.com/quote/RMD\n",
      "https://finance.yahoo.com/quote/FUJIF\n"
     ]
    },
    {
     "name": "stderr",
     "output_type": "stream",
     "text": [
      "404 Client Error: Not Found for url: https://query2.finance.yahoo.com/v10/finance/quoteSummary/FUJIF?modules=recommendationTrend&corsDomain=finance.yahoo.com&formatted=false&symbol=FUJIF&crumb=RvcHzk3Ziw6\n"
     ]
    },
    {
     "name": "stdout",
     "output_type": "stream",
     "text": [
      "https://finance.yahoo.com/quote/PHM\n",
      "https://finance.yahoo.com/quote/SDVKF\n"
     ]
    },
    {
     "name": "stderr",
     "output_type": "stream",
     "text": [
      "404 Client Error: Not Found for url: https://query2.finance.yahoo.com/v10/finance/quoteSummary/SDVKF?modules=recommendationTrend&corsDomain=finance.yahoo.com&formatted=false&symbol=SDVKF&crumb=RvcHzk3Ziw6\n"
     ]
    },
    {
     "name": "stdout",
     "output_type": "stream",
     "text": [
      "https://finance.yahoo.com/quote/HXGBF\n",
      "https://finance.yahoo.com/quote/EBAY\n",
      "https://finance.yahoo.com/quote/MTB\n",
      "https://finance.yahoo.com/quote/GIB\n",
      "https://finance.yahoo.com/quote/CVE\n",
      "https://finance.yahoo.com/quote/NVR\n",
      "https://finance.yahoo.com/quote/MGDDF\n"
     ]
    },
    {
     "name": "stderr",
     "output_type": "stream",
     "text": [
      "MGDDF: No earnings dates found, symbol may be delisted\n",
      "404 Client Error: Not Found for url: https://query2.finance.yahoo.com/v10/finance/quoteSummary/MGDDF?modules=recommendationTrend&corsDomain=finance.yahoo.com&formatted=false&symbol=MGDDF&crumb=RvcHzk3Ziw6\n"
     ]
    },
    {
     "name": "stdout",
     "output_type": "stream",
     "text": [
      "https://finance.yahoo.com/quote/MTSFF\n"
     ]
    },
    {
     "name": "stderr",
     "output_type": "stream",
     "text": [
      "404 Client Error: Not Found for url: https://query2.finance.yahoo.com/v10/finance/quoteSummary/MTSFF?modules=recommendationTrend&corsDomain=finance.yahoo.com&formatted=false&symbol=MTSFF&crumb=RvcHzk3Ziw6\n"
     ]
    },
    {
     "name": "stdout",
     "output_type": "stream",
     "text": [
      "https://finance.yahoo.com/quote/CHD\n",
      "https://finance.yahoo.com/quote/WEC\n",
      "https://finance.yahoo.com/quote/RNECF\n",
      "https://finance.yahoo.com/quote/STT\n",
      "https://finance.yahoo.com/quote/FRFHF\n",
      "https://finance.yahoo.com/quote/MHVYF\n",
      "https://finance.yahoo.com/quote/DOV\n",
      "https://finance.yahoo.com/quote/SSUMF\n"
     ]
    },
    {
     "name": "stderr",
     "output_type": "stream",
     "text": [
      "404 Client Error: Not Found for url: https://query2.finance.yahoo.com/v10/finance/quoteSummary/SSUMF?modules=recommendationTrend&corsDomain=finance.yahoo.com&formatted=false&symbol=SSUMF&crumb=RvcHzk3Ziw6\n"
     ]
    },
    {
     "name": "stdout",
     "output_type": "stream",
     "text": [
      "https://finance.yahoo.com/quote/BR\n",
      "https://finance.yahoo.com/quote/DECK\n",
      "https://finance.yahoo.com/quote/PGPEF\n"
     ]
    },
    {
     "name": "stderr",
     "output_type": "stream",
     "text": [
      "PGPEF: No earnings dates found, symbol may be delisted\n"
     ]
    },
    {
     "name": "stdout",
     "output_type": "stream",
     "text": [
      "https://finance.yahoo.com/quote/SVKEF\n"
     ]
    },
    {
     "name": "stderr",
     "output_type": "stream",
     "text": [
      "404 Client Error: Not Found for url: https://query2.finance.yahoo.com/v10/finance/quoteSummary/SVKEF?modules=recommendationTrend&corsDomain=finance.yahoo.com&formatted=false&symbol=SVKEF&crumb=RvcHzk3Ziw6\n"
     ]
    },
    {
     "name": "stdout",
     "output_type": "stream",
     "text": [
      "https://finance.yahoo.com/quote/AEM\n",
      "https://finance.yahoo.com/quote/FITB\n",
      "https://finance.yahoo.com/quote/JPHLF\n"
     ]
    },
    {
     "name": "stderr",
     "output_type": "stream",
     "text": [
      "404 Client Error: Not Found for url: https://query2.finance.yahoo.com/v10/finance/quoteSummary/JPHLF?modules=recommendationTrend&corsDomain=finance.yahoo.com&formatted=false&symbol=JPHLF&crumb=RvcHzk3Ziw6\n"
     ]
    },
    {
     "name": "stdout",
     "output_type": "stream",
     "text": [
      "https://finance.yahoo.com/quote/DTGHF\n"
     ]
    },
    {
     "name": "stderr",
     "output_type": "stream",
     "text": [
      "404 Client Error: Not Found for url: https://query2.finance.yahoo.com/v10/finance/quoteSummary/DTGHF?modules=recommendationTrend&corsDomain=finance.yahoo.com&formatted=false&symbol=DTGHF&crumb=RvcHzk3Ziw6\n"
     ]
    },
    {
     "name": "stdout",
     "output_type": "stream",
     "text": [
      "https://finance.yahoo.com/quote/SSEZF\n"
     ]
    },
    {
     "name": "stderr",
     "output_type": "stream",
     "text": [
      "SSEZF: No earnings dates found, symbol may be delisted\n",
      "404 Client Error: Not Found for url: https://query2.finance.yahoo.com/v10/finance/quoteSummary/SSEZF?modules=recommendationTrend&corsDomain=finance.yahoo.com&formatted=false&symbol=SSEZF&crumb=RvcHzk3Ziw6\n"
     ]
    },
    {
     "name": "stdout",
     "output_type": "stream",
     "text": [
      "https://finance.yahoo.com/quote/GRMN\n",
      "https://finance.yahoo.com/quote/AXON\n",
      "https://finance.yahoo.com/quote/AWK\n",
      "https://finance.yahoo.com/quote/ATLFF\n"
     ]
    },
    {
     "name": "stderr",
     "output_type": "stream",
     "text": [
      "ATLFF: No earnings dates found, symbol may be delisted\n",
      "404 Client Error: Not Found for url: https://query2.finance.yahoo.com/v10/finance/quoteSummary/ATLFF?modules=recommendationTrend&corsDomain=finance.yahoo.com&formatted=false&symbol=ATLFF&crumb=RvcHzk3Ziw6\n"
     ]
    },
    {
     "name": "stdout",
     "output_type": "stream",
     "text": [
      "https://finance.yahoo.com/quote/ZS\n",
      "https://finance.yahoo.com/quote/PTC\n",
      "https://finance.yahoo.com/quote/APTV\n",
      "https://finance.yahoo.com/quote/IRM\n",
      "https://finance.yahoo.com/quote/MOH\n",
      "https://finance.yahoo.com/quote/DTE\n",
      "https://finance.yahoo.com/quote/REPYF\n"
     ]
    },
    {
     "name": "stderr",
     "output_type": "stream",
     "text": [
      "404 Client Error: Not Found for url: https://query2.finance.yahoo.com/v10/finance/quoteSummary/REPYF?modules=recommendationTrend&corsDomain=finance.yahoo.com&formatted=false&symbol=REPYF&crumb=RvcHzk3Ziw6\n"
     ]
    },
    {
     "name": "stdout",
     "output_type": "stream",
     "text": [
      "https://finance.yahoo.com/quote/PCRFF\n"
     ]
    },
    {
     "name": "stderr",
     "output_type": "stream",
     "text": [
      "404 Client Error: Not Found for url: https://query2.finance.yahoo.com/v10/finance/quoteSummary/PCRFF?modules=recommendationTrend&corsDomain=finance.yahoo.com&formatted=false&symbol=PCRFF&crumb=RvcHzk3Ziw6\n"
     ]
    },
    {
     "name": "stdout",
     "output_type": "stream",
     "text": [
      "https://finance.yahoo.com/quote/PINS\n",
      "https://finance.yahoo.com/quote/SBAC\n",
      "https://finance.yahoo.com/quote/ARES\n",
      "https://finance.yahoo.com/quote/ETR\n",
      "https://finance.yahoo.com/quote/FNCTF\n"
     ]
    },
    {
     "name": "stderr",
     "output_type": "stream",
     "text": [
      "FNCTF: No earnings dates found, symbol may be delisted\n",
      "404 Client Error: Not Found for url: https://query2.finance.yahoo.com/v10/finance/quoteSummary/FNCTF?modules=recommendationTrend&corsDomain=finance.yahoo.com&formatted=false&symbol=FNCTF&crumb=RvcHzk3Ziw6\n"
     ]
    },
    {
     "name": "stdout",
     "output_type": "stream",
     "text": [
      "https://finance.yahoo.com/quote/STOHF\n"
     ]
    },
    {
     "name": "stderr",
     "output_type": "stream",
     "text": [
      "404 Client Error: Not Found for url: https://query2.finance.yahoo.com/v10/finance/quoteSummary/STOHF?modules=recommendationTrend&corsDomain=finance.yahoo.com&formatted=false&symbol=STOHF&crumb=RvcHzk3Ziw6\n"
     ]
    },
    {
     "name": "stdout",
     "output_type": "stream",
     "text": [
      "https://finance.yahoo.com/quote/ALGN\n",
      "https://finance.yahoo.com/quote/ARGNF\n"
     ]
    },
    {
     "name": "stderr",
     "output_type": "stream",
     "text": [
      "404 Client Error: Not Found for url: https://query2.finance.yahoo.com/v10/finance/quoteSummary/ARGNF?modules=recommendationTrend&corsDomain=finance.yahoo.com&formatted=false&symbol=ARGNF&crumb=RvcHzk3Ziw6\n"
     ]
    },
    {
     "name": "stdout",
     "output_type": "stream",
     "text": [
      "https://finance.yahoo.com/quote/NISTF\n"
     ]
    },
    {
     "name": "stderr",
     "output_type": "stream",
     "text": [
      "404 Client Error: Not Found for url: https://query2.finance.yahoo.com/v10/finance/quoteSummary/NISTF?modules=recommendationTrend&corsDomain=finance.yahoo.com&formatted=false&symbol=NISTF&crumb=RvcHzk3Ziw6\n"
     ]
    },
    {
     "name": "stdout",
     "output_type": "stream",
     "text": [
      "https://finance.yahoo.com/quote/VEOEF\n"
     ]
    },
    {
     "name": "stderr",
     "output_type": "stream",
     "text": [
      "VEOEF: No earnings dates found, symbol may be delisted\n",
      "404 Client Error: Not Found for url: https://query2.finance.yahoo.com/v10/finance/quoteSummary/VEOEF?modules=recommendationTrend&corsDomain=finance.yahoo.com&formatted=false&symbol=VEOEF&crumb=RvcHzk3Ziw6\n"
     ]
    },
    {
     "name": "stdout",
     "output_type": "stream",
     "text": [
      "https://finance.yahoo.com/quote/DLMAF\n"
     ]
    },
    {
     "name": "stderr",
     "output_type": "stream",
     "text": [
      "404 Client Error: Not Found for url: https://query2.finance.yahoo.com/v10/finance/quoteSummary/DLMAF?modules=recommendationTrend&corsDomain=finance.yahoo.com&formatted=false&symbol=DLMAF&crumb=RvcHzk3Ziw6\n"
     ]
    },
    {
     "name": "stdout",
     "output_type": "stream",
     "text": [
      "https://finance.yahoo.com/quote/HUBB\n",
      "https://finance.yahoo.com/quote/MSADF\n"
     ]
    },
    {
     "name": "stderr",
     "output_type": "stream",
     "text": [
      "404 Client Error: Not Found for url: https://query2.finance.yahoo.com/v10/finance/quoteSummary/MSADF?modules=recommendationTrend&corsDomain=finance.yahoo.com&formatted=false&symbol=MSADF&crumb=RvcHzk3Ziw6\n"
     ]
    },
    {
     "name": "stdout",
     "output_type": "stream",
     "text": [
      "https://finance.yahoo.com/quote/SWSDF\n"
     ]
    },
    {
     "name": "stderr",
     "output_type": "stream",
     "text": [
      "SWSDF: No earnings dates found, symbol may be delisted\n",
      "404 Client Error: Not Found for url: https://query2.finance.yahoo.com/v10/finance/quoteSummary/SWSDF?modules=recommendationTrend&corsDomain=finance.yahoo.com&formatted=false&symbol=SWSDF&crumb=RvcHzk3Ziw6\n"
     ]
    },
    {
     "name": "stdout",
     "output_type": "stream",
     "text": [
      "https://finance.yahoo.com/quote/SAXPF\n",
      "https://finance.yahoo.com/quote/KYOCF\n"
     ]
    },
    {
     "name": "stderr",
     "output_type": "stream",
     "text": [
      "404 Client Error: Not Found for url: https://query2.finance.yahoo.com/v10/finance/quoteSummary/KYOCF?modules=recommendationTrend&corsDomain=finance.yahoo.com&formatted=false&symbol=KYOCF&crumb=RvcHzk3Ziw6\n"
     ]
    },
    {
     "name": "stdout",
     "output_type": "stream",
     "text": [
      "https://finance.yahoo.com/quote/QSR\n",
      "https://finance.yahoo.com/quote/INVH\n",
      "https://finance.yahoo.com/quote/ILMN\n",
      "https://finance.yahoo.com/quote/ARE\n",
      "https://finance.yahoo.com/quote/LVS\n",
      "https://finance.yahoo.com/quote/MKGAF\n",
      "https://finance.yahoo.com/quote/DCNSF\n"
     ]
    },
    {
     "name": "stderr",
     "output_type": "stream",
     "text": [
      "404 Client Error: Not Found for url: https://query2.finance.yahoo.com/v10/finance/quoteSummary/DCNSF?modules=recommendationTrend&corsDomain=finance.yahoo.com&formatted=false&symbol=DCNSF&crumb=RvcHzk3Ziw6\n"
     ]
    },
    {
     "name": "stdout",
     "output_type": "stream",
     "text": [
      "https://finance.yahoo.com/quote/STLD\n",
      "https://finance.yahoo.com/quote/EQR\n",
      "https://finance.yahoo.com/quote/CBOE\n",
      "https://finance.yahoo.com/quote/TTDKF\n"
     ]
    },
    {
     "name": "stderr",
     "output_type": "stream",
     "text": [
      "404 Client Error: Not Found for url: https://query2.finance.yahoo.com/v10/finance/quoteSummary/TTDKF?modules=recommendationTrend&corsDomain=finance.yahoo.com&formatted=false&symbol=TTDKF&crumb=RvcHzk3Ziw6\n"
     ]
    },
    {
     "name": "stdout",
     "output_type": "stream",
     "text": [
      "https://finance.yahoo.com/quote/GPC\n",
      "https://finance.yahoo.com/quote/TEFOF\n",
      "https://finance.yahoo.com/quote/RWNFF\n",
      "https://finance.yahoo.com/quote/BAH\n",
      "https://finance.yahoo.com/quote/BALL\n",
      "https://finance.yahoo.com/quote/NVZMF\n",
      "https://finance.yahoo.com/quote/NOKBF\n"
     ]
    },
    {
     "name": "stderr",
     "output_type": "stream",
     "text": [
      "404 Client Error: Not Found for url: https://query2.finance.yahoo.com/v10/finance/quoteSummary/NOKBF?modules=recommendationTrend&corsDomain=finance.yahoo.com&formatted=false&symbol=NOKBF&crumb=RvcHzk3Ziw6\n"
     ]
    },
    {
     "name": "stdout",
     "output_type": "stream",
     "text": [
      "https://finance.yahoo.com/quote/WBD\n",
      "https://finance.yahoo.com/quote/FNV\n",
      "https://finance.yahoo.com/quote/PFG\n",
      "https://finance.yahoo.com/quote/WSPOF\n"
     ]
    },
    {
     "name": "stderr",
     "output_type": "stream",
     "text": [
      "404 Client Error: Not Found for url: https://query2.finance.yahoo.com/v10/finance/quoteSummary/WSPOF?modules=recommendationTrend&corsDomain=finance.yahoo.com&formatted=false&symbol=WSPOF&crumb=RvcHzk3Ziw6\n"
     ]
    },
    {
     "name": "stdout",
     "output_type": "stream",
     "text": [
      "https://finance.yahoo.com/quote/LPLA\n",
      "https://finance.yahoo.com/quote/PPL\n",
      "https://finance.yahoo.com/quote/WAT\n",
      "https://finance.yahoo.com/quote/ALPMF\n",
      "https://finance.yahoo.com/quote/VLTO\n",
      "https://finance.yahoo.com/quote/BAX\n",
      "https://finance.yahoo.com/quote/GBERF\n"
     ]
    },
    {
     "name": "stderr",
     "output_type": "stream",
     "text": [
      "404 Client Error: Not Found for url: https://query2.finance.yahoo.com/v10/finance/quoteSummary/GBERF?modules=recommendationTrend&corsDomain=finance.yahoo.com&formatted=false&symbol=GBERF&crumb=RvcHzk3Ziw6\n"
     ]
    },
    {
     "name": "stdout",
     "output_type": "stream",
     "text": [
      "https://finance.yahoo.com/quote/NTAP\n",
      "https://finance.yahoo.com/quote/BRO\n",
      "https://finance.yahoo.com/quote/ES\n",
      "https://finance.yahoo.com/quote/VODPF\n"
     ]
    },
    {
     "name": "stderr",
     "output_type": "stream",
     "text": [
      "VODPF: No earnings dates found, symbol may be delisted\n",
      "404 Client Error: Not Found for url: https://query2.finance.yahoo.com/v10/finance/quoteSummary/VODPF?modules=recommendationTrend&corsDomain=finance.yahoo.com&formatted=false&symbol=VODPF&crumb=RvcHzk3Ziw6\n"
     ]
    },
    {
     "name": "stdout",
     "output_type": "stream",
     "text": [
      "https://finance.yahoo.com/quote/FE\n",
      "https://finance.yahoo.com/quote/MKL\n",
      "https://finance.yahoo.com/quote/TRGP\n",
      "https://finance.yahoo.com/quote/CLNXF\n"
     ]
    },
    {
     "name": "stderr",
     "output_type": "stream",
     "text": [
      "404 Client Error: Not Found for url: https://query2.finance.yahoo.com/v10/finance/quoteSummary/CLNXF?modules=recommendationTrend&corsDomain=finance.yahoo.com&formatted=false&symbol=CLNXF&crumb=RvcHzk3Ziw6\n"
     ]
    },
    {
     "name": "stdout",
     "output_type": "stream",
     "text": [
      "https://finance.yahoo.com/quote/DRI\n",
      "https://finance.yahoo.com/quote/HPE\n",
      "https://finance.yahoo.com/quote/TXT\n",
      "https://finance.yahoo.com/quote/VNNVF\n"
     ]
    },
    {
     "name": "stderr",
     "output_type": "stream",
     "text": [
      "404 Client Error: Not Found for url: https://query2.finance.yahoo.com/v10/finance/quoteSummary/VNNVF?modules=recommendationTrend&corsDomain=finance.yahoo.com&formatted=false&symbol=VNNVF&crumb=RvcHzk3Ziw6\n"
     ]
    },
    {
     "name": "stdout",
     "output_type": "stream",
     "text": [
      "https://finance.yahoo.com/quote/EXPE\n",
      "https://finance.yahoo.com/quote/FTS\n",
      "https://finance.yahoo.com/quote/LSRCF\n"
     ]
    },
    {
     "name": "stderr",
     "output_type": "stream",
     "text": [
      "404 Client Error: Not Found for url: https://query2.finance.yahoo.com/v10/finance/quoteSummary/LSRCF?modules=recommendationTrend&corsDomain=finance.yahoo.com&formatted=false&symbol=LSRCF&crumb=RvcHzk3Ziw6\n"
     ]
    },
    {
     "name": "stdout",
     "output_type": "stream",
     "text": [
      "https://finance.yahoo.com/quote/CIXPF\n",
      "https://finance.yahoo.com/quote/GNMSF\n",
      "https://finance.yahoo.com/quote/ENTG\n",
      "https://finance.yahoo.com/quote/CJPRF\n"
     ]
    },
    {
     "name": "stderr",
     "output_type": "stream",
     "text": [
      "404 Client Error: Not Found for url: https://query2.finance.yahoo.com/v10/finance/quoteSummary/CJPRF?modules=recommendationTrend&corsDomain=finance.yahoo.com&formatted=false&symbol=CJPRF&crumb=RvcHzk3Ziw6\n"
     ]
    },
    {
     "name": "stdout",
     "output_type": "stream",
     "text": [
      "https://finance.yahoo.com/quote/NDAQ\n",
      "https://finance.yahoo.com/quote/SWDBF\n"
     ]
    },
    {
     "name": "stderr",
     "output_type": "stream",
     "text": [
      "404 Client Error: Not Found for url: https://query2.finance.yahoo.com/v10/finance/quoteSummary/SWDBF?modules=recommendationTrend&corsDomain=finance.yahoo.com&formatted=false&symbol=SWDBF&crumb=RvcHzk3Ziw6\n"
     ]
    },
    {
     "name": "stdout",
     "output_type": "stream",
     "text": [
      "https://finance.yahoo.com/quote/TYL\n",
      "https://finance.yahoo.com/quote/SCBFF\n"
     ]
    },
    {
     "name": "stderr",
     "output_type": "stream",
     "text": [
      "SCBFF: No earnings dates found, symbol may be delisted\n"
     ]
    },
    {
     "name": "stdout",
     "output_type": "stream",
     "text": [
      "https://finance.yahoo.com/quote/DNSKF\n"
     ]
    },
    {
     "name": "stderr",
     "output_type": "stream",
     "text": [
      "404 Client Error: Not Found for url: https://query2.finance.yahoo.com/v10/finance/quoteSummary/DNSKF?modules=recommendationTrend&corsDomain=finance.yahoo.com&formatted=false&symbol=DNSKF&crumb=RvcHzk3Ziw6\n"
     ]
    },
    {
     "name": "stdout",
     "output_type": "stream",
     "text": [
      "https://finance.yahoo.com/quote/NRSCF\n",
      "https://finance.yahoo.com/quote/VRSN\n",
      "https://finance.yahoo.com/quote/TDY\n",
      "https://finance.yahoo.com/quote/IMBBF\n"
     ]
    },
    {
     "name": "stderr",
     "output_type": "stream",
     "text": [
      "IMBBF: No earnings dates found, symbol may be delisted\n",
      "404 Client Error: Not Found for url: https://query2.finance.yahoo.com/v10/finance/quoteSummary/IMBBF?modules=recommendationTrend&corsDomain=finance.yahoo.com&formatted=false&symbol=IMBBF&crumb=RvcHzk3Ziw6\n"
     ]
    },
    {
     "name": "stdout",
     "output_type": "stream",
     "text": [
      "https://finance.yahoo.com/quote/CTRA\n",
      "https://finance.yahoo.com/quote/ALNY\n",
      "https://finance.yahoo.com/quote/CCJ\n",
      "https://finance.yahoo.com/quote/J\n"
     ]
    },
    {
     "name": "stderr",
     "output_type": "stream",
     "text": [
      "NAN: No earnings dates found, symbol may be delisted\n"
     ]
    },
    {
     "name": "stdout",
     "output_type": "stream",
     "text": [
      "https://finance.yahoo.com/quote/NAN\n",
      "https://finance.yahoo.com/quote/HBAN\n",
      "https://finance.yahoo.com/quote/RNMBF\n"
     ]
    },
    {
     "name": "stderr",
     "output_type": "stream",
     "text": [
      "404 Client Error: Not Found for url: https://query2.finance.yahoo.com/v10/finance/quoteSummary/RNMBF?modules=recommendationTrend&corsDomain=finance.yahoo.com&formatted=false&symbol=RNMBF&crumb=RvcHzk3Ziw6\n"
     ]
    },
    {
     "name": "stdout",
     "output_type": "stream",
     "text": [
      "https://finance.yahoo.com/quote/MAS\n",
      "https://finance.yahoo.com/quote/ICHGF\n"
     ]
    },
    {
     "name": "stderr",
     "output_type": "stream",
     "text": [
      "ICHGF: No earnings dates found, symbol may be delisted\n",
      "404 Client Error: Not Found for url: https://query2.finance.yahoo.com/v10/finance/quoteSummary/ICHGF?modules=recommendationTrend&corsDomain=finance.yahoo.com&formatted=false&symbol=ICHGF&crumb=RvcHzk3Ziw6\n"
     ]
    },
    {
     "name": "stdout",
     "output_type": "stream",
     "text": [
      "https://finance.yahoo.com/quote/OCPNF\n"
     ]
    },
    {
     "name": "stderr",
     "output_type": "stream",
     "text": [
      "404 Client Error: Not Found for url: https://query2.finance.yahoo.com/v10/finance/quoteSummary/OCPNF?modules=recommendationTrend&corsDomain=finance.yahoo.com&formatted=false&symbol=OCPNF&crumb=RvcHzk3Ziw6\n"
     ]
    },
    {
     "name": "stdout",
     "output_type": "stream",
     "text": [
      "https://finance.yahoo.com/quote/DSMFF\n"
     ]
    },
    {
     "name": "stderr",
     "output_type": "stream",
     "text": [
      "DSMFF: No earnings dates found, symbol may be delisted\n",
      "404 Client Error: Not Found for url: https://query2.finance.yahoo.com/v10/finance/quoteSummary/DSMFF?modules=recommendationTrend&corsDomain=finance.yahoo.com&formatted=false&symbol=DSMFF&crumb=RvcHzk3Ziw6\n"
     ]
    },
    {
     "name": "stdout",
     "output_type": "stream",
     "text": [
      "https://finance.yahoo.com/quote/JBL\n",
      "https://finance.yahoo.com/quote/PBA\n",
      "https://finance.yahoo.com/quote/RS\n",
      "https://finance.yahoo.com/quote/STX\n",
      "https://finance.yahoo.com/quote/OMC\n",
      "https://finance.yahoo.com/quote/NHOLF\n"
     ]
    },
    {
     "name": "stderr",
     "output_type": "stream",
     "text": [
      "404 Client Error: Not Found for url: https://query2.finance.yahoo.com/v10/finance/quoteSummary/NHOLF?modules=recommendationTrend&corsDomain=finance.yahoo.com&formatted=false&symbol=NHOLF&crumb=RvcHzk3Ziw6\n"
     ]
    },
    {
     "name": "stdout",
     "output_type": "stream",
     "text": [
      "https://finance.yahoo.com/quote/CLX\n",
      "https://finance.yahoo.com/quote/IFF\n",
      "https://finance.yahoo.com/quote/HOLX\n"
     ]
    },
    {
     "name": "stderr",
     "output_type": "stream",
     "text": [
      "404 Client Error: Not Found for url: https://query2.finance.yahoo.com/v10/finance/quoteSummary/BF/B?modules=financialData%2CquoteType%2CdefaultKeyStatistics%2CassetProfile%2CsummaryDetail&corsDomain=finance.yahoo.com&formatted=false&symbol=BF%2FB&crumb=RvcHzk3Ziw6\n"
     ]
    },
    {
     "name": "stdout",
     "output_type": "stream",
     "text": [
      "https://finance.yahoo.com/quote/BF-B\n",
      "https://finance.yahoo.com/quote/EJPRF\n"
     ]
    },
    {
     "name": "stderr",
     "output_type": "stream",
     "text": [
      "404 Client Error: Not Found for url: https://query2.finance.yahoo.com/v10/finance/quoteSummary/EJPRF?modules=recommendationTrend&corsDomain=finance.yahoo.com&formatted=false&symbol=EJPRF&crumb=RvcHzk3Ziw6\n"
     ]
    },
    {
     "name": "stdout",
     "output_type": "stream",
     "text": [
      "https://finance.yahoo.com/quote/FERVF\n"
     ]
    },
    {
     "name": "stderr",
     "output_type": "stream",
     "text": [
      "FERVF: No earnings dates found, symbol may be delisted\n",
      "404 Client Error: Not Found for url: https://query2.finance.yahoo.com/v10/finance/quoteSummary/FERVF?modules=recommendationTrend&corsDomain=finance.yahoo.com&formatted=false&symbol=FERVF&crumb=RvcHzk3Ziw6\n"
     ]
    },
    {
     "name": "stdout",
     "output_type": "stream",
     "text": [
      "https://finance.yahoo.com/quote/COO\n",
      "https://finance.yahoo.com/quote/CNP\n",
      "https://finance.yahoo.com/quote/LH\n",
      "https://finance.yahoo.com/quote/DNBBF\n",
      "https://finance.yahoo.com/quote/VST\n",
      "https://finance.yahoo.com/quote/WPM\n",
      "https://finance.yahoo.com/quote/AKAM\n",
      "https://finance.yahoo.com/quote/LBLCF\n"
     ]
    },
    {
     "name": "stderr",
     "output_type": "stream",
     "text": [
      "404 Client Error: Not Found for url: https://query2.finance.yahoo.com/v10/finance/quoteSummary/LBLCF?modules=recommendationTrend&corsDomain=finance.yahoo.com&formatted=false&symbol=LBLCF&crumb=RvcHzk3Ziw6\n"
     ]
    },
    {
     "name": "stdout",
     "output_type": "stream",
     "text": [
      "https://finance.yahoo.com/quote/AEE\n",
      "https://finance.yahoo.com/quote/CLPBF\n",
      "https://finance.yahoo.com/quote/WDC\n",
      "https://finance.yahoo.com/quote/RBSPF\n"
     ]
    },
    {
     "name": "stderr",
     "output_type": "stream",
     "text": [
      "404 Client Error: Not Found for url: https://query2.finance.yahoo.com/v10/finance/quoteSummary/RBSPF?modules=recommendationTrend&corsDomain=finance.yahoo.com&formatted=false&symbol=RBSPF&crumb=RvcHzk3Ziw6\n"
     ]
    },
    {
     "name": "stdout",
     "output_type": "stream",
     "text": [
      "https://finance.yahoo.com/quote/DKNG\n",
      "https://finance.yahoo.com/quote/SEMHF\n"
     ]
    },
    {
     "name": "stderr",
     "output_type": "stream",
     "text": [
      "404 Client Error: Not Found for url: https://query2.finance.yahoo.com/v10/finance/quoteSummary/SEMHF?modules=recommendationTrend&corsDomain=finance.yahoo.com&formatted=false&symbol=SEMHF&crumb=RvcHzk3Ziw6\n"
     ]
    },
    {
     "name": "stdout",
     "output_type": "stream",
     "text": [
      "https://finance.yahoo.com/quote/IEX\n",
      "https://finance.yahoo.com/quote/ARLUF\n",
      "https://finance.yahoo.com/quote/SE\n",
      "https://finance.yahoo.com/quote/EXPD\n",
      "https://finance.yahoo.com/quote/TECK\n",
      "https://finance.yahoo.com/quote/SAUHF\n"
     ]
    },
    {
     "name": "stderr",
     "output_type": "stream",
     "text": [
      "SAUHF: No earnings dates found, symbol may be delisted\n",
      "404 Client Error: Not Found for url: https://query2.finance.yahoo.com/v10/finance/quoteSummary/SAUHF?modules=recommendationTrend&corsDomain=finance.yahoo.com&formatted=false&symbol=SAUHF&crumb=RvcHzk3Ziw6\n"
     ]
    },
    {
     "name": "stdout",
     "output_type": "stream",
     "text": [
      "https://finance.yahoo.com/quote/WRB\n",
      "https://finance.yahoo.com/quote/AVY\n",
      "https://finance.yahoo.com/quote/RF\n",
      "https://finance.yahoo.com/quote/SUI\n",
      "https://finance.yahoo.com/quote/CINF\n",
      "https://finance.yahoo.com/quote/SYF\n",
      "https://finance.yahoo.com/quote/AVTR\n",
      "https://finance.yahoo.com/quote/LDOS\n",
      "https://finance.yahoo.com/quote/UPMKF\n"
     ]
    },
    {
     "name": "stderr",
     "output_type": "stream",
     "text": [
      "404 Client Error: Not Found for url: https://query2.finance.yahoo.com/v10/finance/quoteSummary/UPMKF?modules=recommendationTrend&corsDomain=finance.yahoo.com&formatted=false&symbol=UPMKF&crumb=RvcHzk3Ziw6\n"
     ]
    },
    {
     "name": "stdout",
     "output_type": "stream",
     "text": [
      "https://finance.yahoo.com/quote/JHIUF\n"
     ]
    },
    {
     "name": "stderr",
     "output_type": "stream",
     "text": [
      "404 Client Error: Not Found for url: https://query2.finance.yahoo.com/v10/finance/quoteSummary/JHIUF?modules=recommendationTrend&corsDomain=finance.yahoo.com&formatted=false&symbol=JHIUF&crumb=RvcHzk3Ziw6\n"
     ]
    },
    {
     "name": "stdout",
     "output_type": "stream",
     "text": [
      "https://finance.yahoo.com/quote/KAOCF\n"
     ]
    },
    {
     "name": "stderr",
     "output_type": "stream",
     "text": [
      "404 Client Error: Not Found for url: https://query2.finance.yahoo.com/v10/finance/quoteSummary/KAOCF?modules=recommendationTrend&corsDomain=finance.yahoo.com&formatted=false&symbol=KAOCF&crumb=RvcHzk3Ziw6\n"
     ]
    },
    {
     "name": "stdout",
     "output_type": "stream",
     "text": [
      "https://finance.yahoo.com/quote/SZKMF\n",
      "https://finance.yahoo.com/quote/KBCSF\n"
     ]
    },
    {
     "name": "stderr",
     "output_type": "stream",
     "text": [
      "404 Client Error: Not Found for url: https://query2.finance.yahoo.com/v10/finance/quoteSummary/KBCSF?modules=recommendationTrend&corsDomain=finance.yahoo.com&formatted=false&symbol=KBCSF&crumb=RvcHzk3Ziw6\n"
     ]
    },
    {
     "name": "stdout",
     "output_type": "stream",
     "text": [
      "https://finance.yahoo.com/quote/KHNGF\n",
      "https://finance.yahoo.com/quote/DWAHF\n"
     ]
    },
    {
     "name": "stderr",
     "output_type": "stream",
     "text": [
      "404 Client Error: Not Found for url: https://query2.finance.yahoo.com/v10/finance/quoteSummary/DWAHF?modules=recommendationTrend&corsDomain=finance.yahoo.com&formatted=false&symbol=DWAHF&crumb=RvcHzk3Ziw6\n"
     ]
    },
    {
     "name": "stdout",
     "output_type": "stream",
     "text": [
      "https://finance.yahoo.com/quote/LGGNF\n"
     ]
    },
    {
     "name": "stderr",
     "output_type": "stream",
     "text": [
      "LGGNF: No earnings dates found, symbol may be delisted\n",
      "404 Client Error: Not Found for url: https://query2.finance.yahoo.com/v10/finance/quoteSummary/LGGNF?modules=recommendationTrend&corsDomain=finance.yahoo.com&formatted=false&symbol=LGGNF&crumb=RvcHzk3Ziw6\n"
     ]
    },
    {
     "name": "stdout",
     "output_type": "stream",
     "text": [
      "https://finance.yahoo.com/quote/ZM\n",
      "https://finance.yahoo.com/quote/SWKS\n",
      "https://finance.yahoo.com/quote/ERIXF\n"
     ]
    },
    {
     "name": "stderr",
     "output_type": "stream",
     "text": [
      "404 Client Error: Not Found for url: https://query2.finance.yahoo.com/v10/finance/quoteSummary/ERIXF?modules=recommendationTrend&corsDomain=finance.yahoo.com&formatted=false&symbol=ERIXF&crumb=RvcHzk3Ziw6\n"
     ]
    },
    {
     "name": "stdout",
     "output_type": "stream",
     "text": [
      "https://finance.yahoo.com/quote/MITEF\n"
     ]
    },
    {
     "name": "stderr",
     "output_type": "stream",
     "text": [
      "404 Client Error: Not Found for url: https://query2.finance.yahoo.com/v10/finance/quoteSummary/MITEF?modules=recommendationTrend&corsDomain=finance.yahoo.com&formatted=false&symbol=MITEF&crumb=RvcHzk3Ziw6\n"
     ]
    },
    {
     "name": "stdout",
     "output_type": "stream",
     "text": [
      "https://finance.yahoo.com/quote/JBHT\n",
      "https://finance.yahoo.com/quote/SCGLF\n"
     ]
    },
    {
     "name": "stderr",
     "output_type": "stream",
     "text": [
      "404 Client Error: Not Found for url: https://query2.finance.yahoo.com/v10/finance/quoteSummary/SCGLF?modules=recommendationTrend&corsDomain=finance.yahoo.com&formatted=false&symbol=SCGLF&crumb=RvcHzk3Ziw6\n"
     ]
    },
    {
     "name": "stdout",
     "output_type": "stream",
     "text": [
      "https://finance.yahoo.com/quote/ENPH\n",
      "https://finance.yahoo.com/quote/FDS\n",
      "https://finance.yahoo.com/quote/MKC\n",
      "https://finance.yahoo.com/quote/SVNLF\n"
     ]
    },
    {
     "name": "stderr",
     "output_type": "stream",
     "text": [
      "404 Client Error: Not Found for url: https://query2.finance.yahoo.com/v10/finance/quoteSummary/SVNLF?modules=recommendationTrend&corsDomain=finance.yahoo.com&formatted=false&symbol=SVNLF&crumb=RvcHzk3Ziw6\n"
     ]
    },
    {
     "name": "stdout",
     "output_type": "stream",
     "text": [
      "https://finance.yahoo.com/quote/ATO\n",
      "https://finance.yahoo.com/quote/BBY\n",
      "https://finance.yahoo.com/quote/SGGEF\n"
     ]
    },
    {
     "name": "stderr",
     "output_type": "stream",
     "text": [
      "SGGEF: No earnings dates found, symbol may be delisted\n",
      "404 Client Error: Not Found for url: https://query2.finance.yahoo.com/v10/finance/quoteSummary/SGGEF?modules=recommendationTrend&corsDomain=finance.yahoo.com&formatted=false&symbol=SGGEF&crumb=RvcHzk3Ziw6\n"
     ]
    },
    {
     "name": "stdout",
     "output_type": "stream",
     "text": [
      "https://finance.yahoo.com/quote/CCL\n",
      "https://finance.yahoo.com/quote/CMS\n",
      "https://finance.yahoo.com/quote/NNDNF\n"
     ]
    },
    {
     "name": "stderr",
     "output_type": "stream",
     "text": [
      "404 Client Error: Not Found for url: https://query2.finance.yahoo.com/v10/finance/quoteSummary/NNDNF?modules=recommendationTrend&corsDomain=finance.yahoo.com&formatted=false&symbol=NNDNF&crumb=RvcHzk3Ziw6\n"
     ]
    },
    {
     "name": "stdout",
     "output_type": "stream",
     "text": [
      "https://finance.yahoo.com/quote/SONVF\n"
     ]
    },
    {
     "name": "stderr",
     "output_type": "stream",
     "text": [
      "SONVF: No earnings dates found, symbol may be delisted\n",
      "404 Client Error: Not Found for url: https://query2.finance.yahoo.com/v10/finance/quoteSummary/SONVF?modules=recommendationTrend&corsDomain=finance.yahoo.com&formatted=false&symbol=SONVF&crumb=RvcHzk3Ziw6\n"
     ]
    },
    {
     "name": "stdout",
     "output_type": "stream",
     "text": [
      "https://finance.yahoo.com/quote/RBLX\n",
      "https://finance.yahoo.com/quote/CE\n",
      "https://finance.yahoo.com/quote/TER\n",
      "https://finance.yahoo.com/quote/TTNDF\n"
     ]
    },
    {
     "name": "stderr",
     "output_type": "stream",
     "text": [
      "TTNDF: No earnings dates found, symbol may be delisted\n",
      "404 Client Error: Not Found for url: https://query2.finance.yahoo.com/v10/finance/quoteSummary/TTNDF?modules=recommendationTrend&corsDomain=finance.yahoo.com&formatted=false&symbol=TTNDF&crumb=RvcHzk3Ziw6\n"
     ]
    },
    {
     "name": "stdout",
     "output_type": "stream",
     "text": [
      "https://finance.yahoo.com/quote/EPAM\n",
      "https://finance.yahoo.com/quote/AJINF\n",
      "https://finance.yahoo.com/quote/OTSKF\n"
     ]
    },
    {
     "name": "stderr",
     "output_type": "stream",
     "text": [
      "404 Client Error: Not Found for url: https://query2.finance.yahoo.com/v10/finance/quoteSummary/OTSKF?modules=recommendationTrend&corsDomain=finance.yahoo.com&formatted=false&symbol=OTSKF&crumb=RvcHzk3Ziw6\n"
     ]
    },
    {
     "name": "stdout",
     "output_type": "stream",
     "text": [
      "https://finance.yahoo.com/quote/FSLR\n",
      "https://finance.yahoo.com/quote/CHKP\n",
      "https://finance.yahoo.com/quote/CRARF\n"
     ]
    },
    {
     "name": "stderr",
     "output_type": "stream",
     "text": [
      "404 Client Error: Not Found for url: https://query2.finance.yahoo.com/v10/finance/quoteSummary/CRARF?modules=recommendationTrend&corsDomain=finance.yahoo.com&formatted=false&symbol=CRARF&crumb=RvcHzk3Ziw6\n"
     ]
    },
    {
     "name": "stdout",
     "output_type": "stream",
     "text": [
      "https://finance.yahoo.com/quote/SITIF\n"
     ]
    },
    {
     "name": "stderr",
     "output_type": "stream",
     "text": [
      "404 Client Error: Not Found for url: https://query2.finance.yahoo.com/v10/finance/quoteSummary/SITIF?modules=recommendationTrend&corsDomain=finance.yahoo.com&formatted=false&symbol=SITIF&crumb=RvcHzk3Ziw6\n"
     ]
    },
    {
     "name": "stdout",
     "output_type": "stream",
     "text": [
      "https://finance.yahoo.com/quote/VTR\n",
      "https://finance.yahoo.com/quote/FCNCA\n",
      "https://finance.yahoo.com/quote/NIPNF\n",
      "https://finance.yahoo.com/quote/CSL\n",
      "https://finance.yahoo.com/quote/AIVAF\n",
      "https://finance.yahoo.com/quote/KNYJF\n",
      "https://finance.yahoo.com/quote/BMRN\n",
      "https://finance.yahoo.com/quote/NTRS\n",
      "https://finance.yahoo.com/quote/GDDY\n",
      "https://finance.yahoo.com/quote/DPZ\n",
      "https://finance.yahoo.com/quote/ALB\n",
      "https://finance.yahoo.com/quote/K\n",
      "https://finance.yahoo.com/quote/RYLPF\n",
      "https://finance.yahoo.com/quote/POOL\n",
      "https://finance.yahoo.com/quote/LW\n",
      "https://finance.yahoo.com/quote/JPSTF\n"
     ]
    },
    {
     "name": "stderr",
     "output_type": "stream",
     "text": [
      "404 Client Error: Not Found for url: https://query2.finance.yahoo.com/v10/finance/quoteSummary/JPSTF?modules=recommendationTrend&corsDomain=finance.yahoo.com&formatted=false&symbol=JPSTF&crumb=RvcHzk3Ziw6\n"
     ]
    },
    {
     "name": "stdout",
     "output_type": "stream",
     "text": [
      "https://finance.yahoo.com/quote/LYV\n",
      "https://finance.yahoo.com/quote/OKTA\n",
      "https://finance.yahoo.com/quote/TSN\n",
      "https://finance.yahoo.com/quote/AONNF\n"
     ]
    },
    {
     "name": "stderr",
     "output_type": "stream",
     "text": [
      "404 Client Error: Not Found for url: https://query2.finance.yahoo.com/v10/finance/quoteSummary/AONNF?modules=recommendationTrend&corsDomain=finance.yahoo.com&formatted=false&symbol=AONNF&crumb=RvcHzk3Ziw6\n"
     ]
    },
    {
     "name": "stdout",
     "output_type": "stream",
     "text": [
      "https://finance.yahoo.com/quote/EG\n",
      "https://finance.yahoo.com/quote/PNDZF\n"
     ]
    },
    {
     "name": "stderr",
     "output_type": "stream",
     "text": [
      "404 Client Error: Not Found for url: https://query2.finance.yahoo.com/v10/finance/quoteSummary/PNDZF?modules=recommendationTrend&corsDomain=finance.yahoo.com&formatted=false&symbol=PNDZF&crumb=RvcHzk3Ziw6\n"
     ]
    },
    {
     "name": "stdout",
     "output_type": "stream",
     "text": [
      "https://finance.yahoo.com/quote/MANH\n",
      "https://finance.yahoo.com/quote/WBA\n",
      "https://finance.yahoo.com/quote/CFG\n",
      "https://finance.yahoo.com/quote/MGA\n",
      "https://finance.yahoo.com/quote/AER\n",
      "https://finance.yahoo.com/quote/PWCDF\n"
     ]
    },
    {
     "name": "stderr",
     "output_type": "stream",
     "text": [
      "404 Client Error: Not Found for url: https://query2.finance.yahoo.com/v10/finance/quoteSummary/PWCDF?modules=recommendationTrend&corsDomain=finance.yahoo.com&formatted=false&symbol=PWCDF&crumb=RvcHzk3Ziw6\n"
     ]
    },
    {
     "name": "stdout",
     "output_type": "stream",
     "text": [
      "https://finance.yahoo.com/quote/RCI\n",
      "https://finance.yahoo.com/quote/ASBRF\n",
      "https://finance.yahoo.com/quote/LII\n",
      "https://finance.yahoo.com/quote/THLEF\n"
     ]
    },
    {
     "name": "stderr",
     "output_type": "stream",
     "text": [
      "THLEF: No earnings dates found, symbol may be delisted\n"
     ]
    },
    {
     "name": "stdout",
     "output_type": "stream",
     "text": [
      "https://finance.yahoo.com/quote/NDSN\n",
      "https://finance.yahoo.com/quote/TRMB\n",
      "https://finance.yahoo.com/quote/VTTGF\n"
     ]
    },
    {
     "name": "stderr",
     "output_type": "stream",
     "text": [
      "404 Client Error: Not Found for url: https://query2.finance.yahoo.com/v10/finance/quoteSummary/VTTGF?modules=recommendationTrend&corsDomain=finance.yahoo.com&formatted=false&symbol=VTTGF&crumb=RvcHzk3Ziw6\n"
     ]
    },
    {
     "name": "stdout",
     "output_type": "stream",
     "text": [
      "https://finance.yahoo.com/quote/CMTDF\n",
      "https://finance.yahoo.com/quote/GGG\n",
      "https://finance.yahoo.com/quote/NCSYF\n",
      "https://finance.yahoo.com/quote/SOMLF\n"
     ]
    },
    {
     "name": "stderr",
     "output_type": "stream",
     "text": [
      "404 Client Error: Not Found for url: https://query2.finance.yahoo.com/v10/finance/quoteSummary/SOMLF?modules=recommendationTrend&corsDomain=finance.yahoo.com&formatted=false&symbol=SOMLF&crumb=RvcHzk3Ziw6\n"
     ]
    },
    {
     "name": "stdout",
     "output_type": "stream",
     "text": [
      "https://finance.yahoo.com/quote/PKG\n",
      "https://finance.yahoo.com/quote/HST\n",
      "https://finance.yahoo.com/quote/CF\n",
      "https://finance.yahoo.com/quote/DGX\n",
      "https://finance.yahoo.com/quote/SSNC\n",
      "https://finance.yahoo.com/quote/SNA\n",
      "https://finance.yahoo.com/quote/HVRRF\n"
     ]
    },
    {
     "name": "stderr",
     "output_type": "stream",
     "text": [
      "404 Client Error: Not Found for url: https://query2.finance.yahoo.com/v10/finance/quoteSummary/HVRRF?modules=recommendationTrend&corsDomain=finance.yahoo.com&formatted=false&symbol=HVRRF&crumb=RvcHzk3Ziw6\n"
     ]
    },
    {
     "name": "stdout",
     "output_type": "stream",
     "text": [
      "https://finance.yahoo.com/quote/VTRS\n",
      "https://finance.yahoo.com/quote/SGSOF\n"
     ]
    },
    {
     "name": "stderr",
     "output_type": "stream",
     "text": [
      "SGSOF: No earnings dates found, symbol may be delisted\n",
      "404 Client Error: Not Found for url: https://query2.finance.yahoo.com/v10/finance/quoteSummary/SGSOF?modules=recommendationTrend&corsDomain=finance.yahoo.com&formatted=false&symbol=SGSOF&crumb=RvcHzk3Ziw6\n"
     ]
    },
    {
     "name": "stdout",
     "output_type": "stream",
     "text": [
      "https://finance.yahoo.com/quote/IFPJF\n"
     ]
    },
    {
     "name": "stderr",
     "output_type": "stream",
     "text": [
      "IFPJF: No earnings dates found, symbol may be delisted\n",
      "404 Client Error: Not Found for url: https://query2.finance.yahoo.com/v10/finance/quoteSummary/IFPJF?modules=recommendationTrend&corsDomain=finance.yahoo.com&formatted=false&symbol=IFPJF&crumb=RvcHzk3Ziw6\n"
     ]
    },
    {
     "name": "stdout",
     "output_type": "stream",
     "text": [
      "https://finance.yahoo.com/quote/ZBRA\n",
      "https://finance.yahoo.com/quote/RPM\n",
      "https://finance.yahoo.com/quote/TRU\n",
      "https://finance.yahoo.com/quote/TYIDF\n"
     ]
    },
    {
     "name": "stderr",
     "output_type": "stream",
     "text": [
      "404 Client Error: Not Found for url: https://query2.finance.yahoo.com/v10/finance/quoteSummary/TYIDF?modules=recommendationTrend&corsDomain=finance.yahoo.com&formatted=false&symbol=TYIDF&crumb=RvcHzk3Ziw6\n"
     ]
    },
    {
     "name": "stdout",
     "output_type": "stream",
     "text": [
      "https://finance.yahoo.com/quote/TEVA\n",
      "https://finance.yahoo.com/quote/SUHJF\n"
     ]
    },
    {
     "name": "stderr",
     "output_type": "stream",
     "text": [
      "SUHJF: No earnings dates found, symbol may be delisted\n",
      "404 Client Error: Not Found for url: https://query2.finance.yahoo.com/v10/finance/quoteSummary/SUHJF?modules=recommendationTrend&corsDomain=finance.yahoo.com&formatted=false&symbol=SUHJF&crumb=RvcHzk3Ziw6\n"
     ]
    },
    {
     "name": "stdout",
     "output_type": "stream",
     "text": [
      "https://finance.yahoo.com/quote/JXHGF\n"
     ]
    },
    {
     "name": "stderr",
     "output_type": "stream",
     "text": [
      "404 Client Error: Not Found for url: https://query2.finance.yahoo.com/v10/finance/quoteSummary/JXHGF?modules=recommendationTrend&corsDomain=finance.yahoo.com&formatted=false&symbol=JXHGF&crumb=RvcHzk3Ziw6\n"
     ]
    },
    {
     "name": "stdout",
     "output_type": "stream",
     "text": [
      "https://finance.yahoo.com/quote/NYUKF\n"
     ]
    },
    {
     "name": "stderr",
     "output_type": "stream",
     "text": [
      "404 Client Error: Not Found for url: https://query2.finance.yahoo.com/v10/finance/quoteSummary/NYUKF?modules=recommendationTrend&corsDomain=finance.yahoo.com&formatted=false&symbol=NYUKF&crumb=RvcHzk3Ziw6\n"
     ]
    },
    {
     "name": "stdout",
     "output_type": "stream",
     "text": [
      "https://finance.yahoo.com/quote/ESS\n",
      "https://finance.yahoo.com/quote/LKQ\n",
      "https://finance.yahoo.com/quote/WSM\n",
      "https://finance.yahoo.com/quote/SYIEF\n"
     ]
    },
    {
     "name": "stderr",
     "output_type": "stream",
     "text": [
      "404 Client Error: Not Found for url: https://query2.finance.yahoo.com/v10/finance/quoteSummary/SYIEF?modules=recommendationTrend&corsDomain=finance.yahoo.com&formatted=false&symbol=SYIEF&crumb=RvcHzk3Ziw6\n"
     ]
    },
    {
     "name": "stdout",
     "output_type": "stream",
     "text": [
      "https://finance.yahoo.com/quote/CHEOF\n"
     ]
    },
    {
     "name": "stderr",
     "output_type": "stream",
     "text": [
      "CHEOF: No earnings dates found, symbol may be delisted\n",
      "404 Client Error: Not Found for url: https://query2.finance.yahoo.com/v10/finance/quoteSummary/CHEOF?modules=recommendationTrend&corsDomain=finance.yahoo.com&formatted=false&symbol=CHEOF&crumb=RvcHzk3Ziw6\n"
     ]
    },
    {
     "name": "stdout",
     "output_type": "stream",
     "text": [
      "https://finance.yahoo.com/quote/MONRF\n"
     ]
    },
    {
     "name": "stderr",
     "output_type": "stream",
     "text": [
      "404 Client Error: Not Found for url: https://query2.finance.yahoo.com/v10/finance/quoteSummary/MONRF?modules=recommendationTrend&corsDomain=finance.yahoo.com&formatted=false&symbol=MONRF&crumb=RvcHzk3Ziw6\n"
     ]
    },
    {
     "name": "stdout",
     "output_type": "stream",
     "text": [
      "https://finance.yahoo.com/quote/MAA\n",
      "https://finance.yahoo.com/quote/SNGNF\n"
     ]
    },
    {
     "name": "stderr",
     "output_type": "stream",
     "text": [
      "404 Client Error: Not Found for url: https://query2.finance.yahoo.com/v10/finance/quoteSummary/SNGNF?modules=recommendationTrend&corsDomain=finance.yahoo.com&formatted=false&symbol=SNGNF&crumb=RvcHzk3Ziw6\n"
     ]
    },
    {
     "name": "stdout",
     "output_type": "stream",
     "text": [
      "https://finance.yahoo.com/quote/LOGI\n",
      "https://finance.yahoo.com/quote/SWK\n",
      "https://finance.yahoo.com/quote/COCXF\n"
     ]
    },
    {
     "name": "stderr",
     "output_type": "stream",
     "text": [
      "COCXF: No earnings dates found, symbol may be delisted\n",
      "404 Client Error: Not Found for url: https://query2.finance.yahoo.com/v10/finance/quoteSummary/COCXF?modules=recommendationTrend&corsDomain=finance.yahoo.com&formatted=false&symbol=COCXF&crumb=RvcHzk3Ziw6\n"
     ]
    },
    {
     "name": "stdout",
     "output_type": "stream",
     "text": [
      "https://finance.yahoo.com/quote/CLEGF\n"
     ]
    },
    {
     "name": "stderr",
     "output_type": "stream",
     "text": [
      "404 Client Error: Not Found for url: https://query2.finance.yahoo.com/v10/finance/quoteSummary/CLEGF?modules=recommendationTrend&corsDomain=finance.yahoo.com&formatted=false&symbol=CLEGF&crumb=RvcHzk3Ziw6\n"
     ]
    },
    {
     "name": "stdout",
     "output_type": "stream",
     "text": [
      "https://finance.yahoo.com/quote/CKHUF\n"
     ]
    },
    {
     "name": "stderr",
     "output_type": "stream",
     "text": [
      "CKHUF: No earnings dates found, symbol may be delisted\n",
      "404 Client Error: Not Found for url: https://query2.finance.yahoo.com/v10/finance/quoteSummary/CKHUF?modules=recommendationTrend&corsDomain=finance.yahoo.com&formatted=false&symbol=CKHUF&crumb=RvcHzk3Ziw6\n"
     ]
    },
    {
     "name": "stdout",
     "output_type": "stream",
     "text": [
      "https://finance.yahoo.com/quote/ETTYF\n"
     ]
    },
    {
     "name": "stderr",
     "output_type": "stream",
     "text": [
      "404 Client Error: Not Found for url: https://query2.finance.yahoo.com/v10/finance/quoteSummary/ETTYF?modules=recommendationTrend&corsDomain=finance.yahoo.com&formatted=false&symbol=ETTYF&crumb=RvcHzk3Ziw6\n"
     ]
    },
    {
     "name": "stdout",
     "output_type": "stream",
     "text": [
      "https://finance.yahoo.com/quote/FUJHF\n"
     ]
    },
    {
     "name": "stderr",
     "output_type": "stream",
     "text": [
      "404 Client Error: Not Found for url: https://query2.finance.yahoo.com/v10/finance/quoteSummary/FUJHF?modules=recommendationTrend&corsDomain=finance.yahoo.com&formatted=false&symbol=FUJHF&crumb=RvcHzk3Ziw6\n"
     ]
    },
    {
     "name": "stdout",
     "output_type": "stream",
     "text": [
      "https://finance.yahoo.com/quote/EQT\n",
      "https://finance.yahoo.com/quote/MRO\n",
      "https://finance.yahoo.com/quote/UCBJF\n"
     ]
    },
    {
     "name": "stderr",
     "output_type": "stream",
     "text": [
      "UCBJF: No earnings dates found, symbol may be delisted\n",
      "404 Client Error: Not Found for url: https://query2.finance.yahoo.com/v10/finance/quoteSummary/UCBJF?modules=recommendationTrend&corsDomain=finance.yahoo.com&formatted=false&symbol=UCBJF&crumb=RvcHzk3Ziw6\n"
     ]
    },
    {
     "name": "stdout",
     "output_type": "stream",
     "text": [
      "https://finance.yahoo.com/quote/STOSF\n"
     ]
    },
    {
     "name": "stderr",
     "output_type": "stream",
     "text": [
      "STOSF: No earnings dates found, symbol may be delisted\n",
      "404 Client Error: Not Found for url: https://query2.finance.yahoo.com/v10/finance/quoteSummary/STOSF?modules=recommendationTrend&corsDomain=finance.yahoo.com&formatted=false&symbol=STOSF&crumb=RvcHzk3Ziw6\n"
     ]
    },
    {
     "name": "stdout",
     "output_type": "stream",
     "text": [
      "https://finance.yahoo.com/quote/BDRFF\n"
     ]
    },
    {
     "name": "stderr",
     "output_type": "stream",
     "text": [
      "404 Client Error: Not Found for url: https://query2.finance.yahoo.com/v10/finance/quoteSummary/BDRFF?modules=recommendationTrend&corsDomain=finance.yahoo.com&formatted=false&symbol=BDRFF&crumb=RvcHzk3Ziw6\n"
     ]
    },
    {
     "name": "stdout",
     "output_type": "stream",
     "text": [
      "https://finance.yahoo.com/quote/KUBTF\n"
     ]
    },
    {
     "name": "stderr",
     "output_type": "stream",
     "text": [
      "404 Client Error: Not Found for url: https://query2.finance.yahoo.com/v10/finance/quoteSummary/KUBTF?modules=recommendationTrend&corsDomain=finance.yahoo.com&formatted=false&symbol=KUBTF&crumb=RvcHzk3Ziw6\n"
     ]
    },
    {
     "name": "stdout",
     "output_type": "stream",
     "text": [
      "https://finance.yahoo.com/quote/BAM\n",
      "https://finance.yahoo.com/quote/TYHOF\n"
     ]
    },
    {
     "name": "stderr",
     "output_type": "stream",
     "text": [
      "404 Client Error: Not Found for url: https://query2.finance.yahoo.com/v10/finance/quoteSummary/TYHOF?modules=recommendationTrend&corsDomain=finance.yahoo.com&formatted=false&symbol=TYHOF&crumb=RvcHzk3Ziw6\n"
     ]
    },
    {
     "name": "stdout",
     "output_type": "stream",
     "text": [
      "https://finance.yahoo.com/quote/AMCR\n",
      "https://finance.yahoo.com/quote/DT\n",
      "https://finance.yahoo.com/quote/KIM\n",
      "https://finance.yahoo.com/quote/BESVF\n"
     ]
    },
    {
     "name": "stderr",
     "output_type": "stream",
     "text": [
      "404 Client Error: Not Found for url: https://query2.finance.yahoo.com/v10/finance/quoteSummary/BESVF?modules=recommendationTrend&corsDomain=finance.yahoo.com&formatted=false&symbol=BESVF&crumb=RvcHzk3Ziw6\n"
     ]
    },
    {
     "name": "stdout",
     "output_type": "stream",
     "text": [
      "https://finance.yahoo.com/quote/FWONK\n",
      "https://finance.yahoo.com/quote/BMBLF\n"
     ]
    },
    {
     "name": "stderr",
     "output_type": "stream",
     "text": [
      "BMBLF: No earnings dates found, symbol may be delisted\n",
      "404 Client Error: Not Found for url: https://query2.finance.yahoo.com/v10/finance/quoteSummary/BMBLF?modules=recommendationTrend&corsDomain=finance.yahoo.com&formatted=false&symbol=BMBLF&crumb=RvcHzk3Ziw6\n"
     ]
    },
    {
     "name": "stdout",
     "output_type": "stream",
     "text": [
      "https://finance.yahoo.com/quote/UNCHF\n"
     ]
    },
    {
     "name": "stderr",
     "output_type": "stream",
     "text": [
      "404 Client Error: Not Found for url: https://query2.finance.yahoo.com/v10/finance/quoteSummary/UNCHF?modules=recommendationTrend&corsDomain=finance.yahoo.com&formatted=false&symbol=UNCHF&crumb=RvcHzk3Ziw6\n"
     ]
    },
    {
     "name": "stdout",
     "output_type": "stream",
     "text": [
      "https://finance.yahoo.com/quote/KGSPF\n"
     ]
    },
    {
     "name": "stderr",
     "output_type": "stream",
     "text": [
      "KGSPF: No earnings dates found, symbol may be delisted\n",
      "404 Client Error: Not Found for url: https://query2.finance.yahoo.com/v10/finance/quoteSummary/KGSPF?modules=recommendationTrend&corsDomain=finance.yahoo.com&formatted=false&symbol=KGSPF&crumb=RvcHzk3Ziw6\n"
     ]
    },
    {
     "name": "stdout",
     "output_type": "stream",
     "text": [
      "https://finance.yahoo.com/quote/CCEP\n",
      "https://finance.yahoo.com/quote/TRMLF\n"
     ]
    },
    {
     "name": "stderr",
     "output_type": "stream",
     "text": [
      "404 Client Error: Not Found for url: https://query2.finance.yahoo.com/v10/finance/quoteSummary/TRMLF?modules=recommendationTrend&corsDomain=finance.yahoo.com&formatted=false&symbol=TRMLF&crumb=RvcHzk3Ziw6\n"
     ]
    },
    {
     "name": "stdout",
     "output_type": "stream",
     "text": [
      "https://finance.yahoo.com/quote/BNTGF\n"
     ]
    },
    {
     "name": "stderr",
     "output_type": "stream",
     "text": [
      "404 Client Error: Not Found for url: https://query2.finance.yahoo.com/v10/finance/quoteSummary/BNTGF?modules=recommendationTrend&corsDomain=finance.yahoo.com&formatted=false&symbol=BNTGF&crumb=RvcHzk3Ziw6\n"
     ]
    },
    {
     "name": "stdout",
     "output_type": "stream",
     "text": [
      "https://finance.yahoo.com/quote/ANNSF\n"
     ]
    },
    {
     "name": "stderr",
     "output_type": "stream",
     "text": [
      "404 Client Error: Not Found for url: https://query2.finance.yahoo.com/v10/finance/quoteSummary/ANNSF?modules=recommendationTrend&corsDomain=finance.yahoo.com&formatted=false&symbol=ANNSF&crumb=RvcHzk3Ziw6\n"
     ]
    },
    {
     "name": "stdout",
     "output_type": "stream",
     "text": [
      "https://finance.yahoo.com/quote/CAG\n",
      "https://finance.yahoo.com/quote/KRYAF\n"
     ]
    },
    {
     "name": "stderr",
     "output_type": "stream",
     "text": [
      "KRYAF: No earnings dates found, symbol may be delisted\n",
      "404 Client Error: Not Found for url: https://query2.finance.yahoo.com/v10/finance/quoteSummary/KRYAF?modules=recommendationTrend&corsDomain=finance.yahoo.com&formatted=false&symbol=KRYAF&crumb=RvcHzk3Ziw6\n"
     ]
    },
    {
     "name": "stdout",
     "output_type": "stream",
     "text": [
      "https://finance.yahoo.com/quote/RVTY\n",
      "https://finance.yahoo.com/quote/L\n",
      "https://finance.yahoo.com/quote/RKLIF\n"
     ]
    },
    {
     "name": "stderr",
     "output_type": "stream",
     "text": [
      "RKLIF: No earnings dates found, symbol may be delisted\n",
      "404 Client Error: Not Found for url: https://query2.finance.yahoo.com/v10/finance/quoteSummary/RKLIF?modules=recommendationTrend&corsDomain=finance.yahoo.com&formatted=false&symbol=RKLIF&crumb=RvcHzk3Ziw6\n"
     ]
    },
    {
     "name": "stdout",
     "output_type": "stream",
     "text": [
      "https://finance.yahoo.com/quote/HLBZF\n"
     ]
    },
    {
     "name": "stderr",
     "output_type": "stream",
     "text": [
      "404 Client Error: Not Found for url: https://query2.finance.yahoo.com/v10/finance/quoteSummary/HLBZF?modules=recommendationTrend&corsDomain=finance.yahoo.com&formatted=false&symbol=HLBZF&crumb=RvcHzk3Ziw6\n"
     ]
    },
    {
     "name": "stdout",
     "output_type": "stream",
     "text": [
      "https://finance.yahoo.com/quote/NRG\n",
      "https://finance.yahoo.com/quote/RBA\n",
      "https://finance.yahoo.com/quote/BURL\n",
      "https://finance.yahoo.com/quote/NDEKF\n"
     ]
    },
    {
     "name": "stderr",
     "output_type": "stream",
     "text": [
      "404 Client Error: Not Found for url: https://query2.finance.yahoo.com/v10/finance/quoteSummary/NDEKF?modules=recommendationTrend&corsDomain=finance.yahoo.com&formatted=false&symbol=NDEKF&crumb=RvcHzk3Ziw6\n"
     ]
    },
    {
     "name": "stdout",
     "output_type": "stream",
     "text": [
      "https://finance.yahoo.com/quote/CABJF\n"
     ]
    },
    {
     "name": "stderr",
     "output_type": "stream",
     "text": [
      "404 Client Error: Not Found for url: https://query2.finance.yahoo.com/v10/finance/quoteSummary/CABJF?modules=recommendationTrend&corsDomain=finance.yahoo.com&formatted=false&symbol=CABJF&crumb=RvcHzk3Ziw6\n"
     ]
    },
    {
     "name": "stdout",
     "output_type": "stream",
     "text": [
      "https://finance.yahoo.com/quote/AMSYF\n"
     ]
    },
    {
     "name": "stderr",
     "output_type": "stream",
     "text": [
      "404 Client Error: Not Found for url: https://query2.finance.yahoo.com/v10/finance/quoteSummary/AMSYF?modules=recommendationTrend&corsDomain=finance.yahoo.com&formatted=false&symbol=AMSYF&crumb=RvcHzk3Ziw6\n"
     ]
    },
    {
     "name": "stdout",
     "output_type": "stream",
     "text": [
      "https://finance.yahoo.com/quote/NXGPF\n"
     ]
    },
    {
     "name": "stderr",
     "output_type": "stream",
     "text": [
      "NXGPF: No earnings dates found, symbol may be delisted\n",
      "404 Client Error: Not Found for url: https://query2.finance.yahoo.com/v10/finance/quoteSummary/NXGPF?modules=recommendationTrend&corsDomain=finance.yahoo.com&formatted=false&symbol=NXGPF&crumb=RvcHzk3Ziw6\n"
     ]
    },
    {
     "name": "stdout",
     "output_type": "stream",
     "text": [
      "https://finance.yahoo.com/quote/SWZCF\n",
      "https://finance.yahoo.com/quote/KEY\n",
      "https://finance.yahoo.com/quote/BG\n",
      "https://finance.yahoo.com/quote/OVV\n",
      "https://finance.yahoo.com/quote/CRZBF\n"
     ]
    },
    {
     "name": "stderr",
     "output_type": "stream",
     "text": [
      "404 Client Error: Not Found for url: https://query2.finance.yahoo.com/v10/finance/quoteSummary/CRZBF?modules=recommendationTrend&corsDomain=finance.yahoo.com&formatted=false&symbol=CRZBF&crumb=RvcHzk3Ziw6\n"
     ]
    },
    {
     "name": "stdout",
     "output_type": "stream",
     "text": [
      "https://finance.yahoo.com/quote/EBKOF\n"
     ]
    },
    {
     "name": "stderr",
     "output_type": "stream",
     "text": [
      "404 Client Error: Not Found for url: https://query2.finance.yahoo.com/v10/finance/quoteSummary/EBKOF?modules=recommendationTrend&corsDomain=finance.yahoo.com&formatted=false&symbol=EBKOF&crumb=RvcHzk3Ziw6\n"
     ]
    },
    {
     "name": "stdout",
     "output_type": "stream",
     "text": [
      "https://finance.yahoo.com/quote/AKZOF\n",
      "https://finance.yahoo.com/quote/LKREF\n"
     ]
    },
    {
     "name": "stderr",
     "output_type": "stream",
     "text": [
      "LKREF: No earnings dates found, symbol may be delisted\n",
      "404 Client Error: Not Found for url: https://query2.finance.yahoo.com/v10/finance/quoteSummary/LKREF?modules=recommendationTrend&corsDomain=finance.yahoo.com&formatted=false&symbol=LKREF&crumb=RvcHzk3Ziw6\n"
     ]
    },
    {
     "name": "stdout",
     "output_type": "stream",
     "text": [
      "https://finance.yahoo.com/quote/SGIOF\n",
      "https://finance.yahoo.com/quote/CLPHF\n"
     ]
    },
    {
     "name": "stderr",
     "output_type": "stream",
     "text": [
      "CLPHF: No earnings dates found, symbol may be delisted\n",
      "404 Client Error: Not Found for url: https://query2.finance.yahoo.com/v10/finance/quoteSummary/CLPHF?modules=recommendationTrend&corsDomain=finance.yahoo.com&formatted=false&symbol=CLPHF&crumb=RvcHzk3Ziw6\n"
     ]
    },
    {
     "name": "stdout",
     "output_type": "stream",
     "text": [
      "https://finance.yahoo.com/quote/JKHY\n",
      "https://finance.yahoo.com/quote/IP\n",
      "https://finance.yahoo.com/quote/WSO\n",
      "https://finance.yahoo.com/quote/HENOF\n"
     ]
    },
    {
     "name": "stderr",
     "output_type": "stream",
     "text": [
      "404 Client Error: Not Found for url: https://query2.finance.yahoo.com/v10/finance/quoteSummary/HENOF?modules=recommendationTrend&corsDomain=finance.yahoo.com&formatted=false&symbol=HENOF&crumb=RvcHzk3Ziw6\n"
     ]
    },
    {
     "name": "stdout",
     "output_type": "stream",
     "text": [
      "https://finance.yahoo.com/quote/BZLFF\n",
      "https://finance.yahoo.com/quote/SDZXF\n"
     ]
    },
    {
     "name": "stderr",
     "output_type": "stream",
     "text": [
      "SDZXF: No earnings dates found, symbol may be delisted\n",
      "404 Client Error: Not Found for url: https://query2.finance.yahoo.com/v10/finance/quoteSummary/SDZXF?modules=recommendationTrend&corsDomain=finance.yahoo.com&formatted=false&symbol=SDZXF&crumb=RvcHzk3Ziw6\n"
     ]
    },
    {
     "name": "stdout",
     "output_type": "stream",
     "text": [
      "https://finance.yahoo.com/quote/MTRAF\n"
     ]
    },
    {
     "name": "stderr",
     "output_type": "stream",
     "text": [
      "404 Client Error: Not Found for url: https://query2.finance.yahoo.com/v10/finance/quoteSummary/MTRAF?modules=recommendationTrend&corsDomain=finance.yahoo.com&formatted=false&symbol=MTRAF&crumb=RvcHzk3Ziw6\n"
     ]
    },
    {
     "name": "stdout",
     "output_type": "stream",
     "text": [
      "https://finance.yahoo.com/quote/FSNUF\n",
      "https://finance.yahoo.com/quote/OC\n",
      "https://finance.yahoo.com/quote/FNF\n",
      "https://finance.yahoo.com/quote/IPXHF\n"
     ]
    },
    {
     "name": "stderr",
     "output_type": "stream",
     "text": [
      "404 Client Error: Not Found for url: https://query2.finance.yahoo.com/v10/finance/quoteSummary/IPXHF?modules=recommendationTrend&corsDomain=finance.yahoo.com&formatted=false&symbol=IPXHF&crumb=RvcHzk3Ziw6\n"
     ]
    },
    {
     "name": "stdout",
     "output_type": "stream",
     "text": [
      "https://finance.yahoo.com/quote/BLMIF\n"
     ]
    },
    {
     "name": "stderr",
     "output_type": "stream",
     "text": [
      "404 Client Error: Not Found for url: https://query2.finance.yahoo.com/v10/finance/quoteSummary/BLMIF?modules=recommendationTrend&corsDomain=finance.yahoo.com&formatted=false&symbol=BLMIF&crumb=RvcHzk3Ziw6\n"
     ]
    },
    {
     "name": "stdout",
     "output_type": "stream",
     "text": [
      "https://finance.yahoo.com/quote/ROL\n",
      "https://finance.yahoo.com/quote/SJM\n",
      "https://finance.yahoo.com/quote/GEN\n",
      "https://finance.yahoo.com/quote/MTUAF\n",
      "https://finance.yahoo.com/quote/GLPI\n",
      "https://finance.yahoo.com/quote/KMX\n",
      "https://finance.yahoo.com/quote/NBIX\n",
      "https://finance.yahoo.com/quote/QRVO\n",
      "https://finance.yahoo.com/quote/PNR\n",
      "https://finance.yahoo.com/quote/EQH\n",
      "https://finance.yahoo.com/quote/MGM\n",
      "https://finance.yahoo.com/quote/RPRX\n",
      "https://finance.yahoo.com/quote/SNMYF\n"
     ]
    },
    {
     "name": "stderr",
     "output_type": "stream",
     "text": [
      "SNMYF: No earnings dates found, symbol may be delisted\n",
      "404 Client Error: Not Found for url: https://query2.finance.yahoo.com/v10/finance/quoteSummary/SNMYF?modules=recommendationTrend&corsDomain=finance.yahoo.com&formatted=false&symbol=SNMYF&crumb=RvcHzk3Ziw6\n"
     ]
    },
    {
     "name": "stdout",
     "output_type": "stream",
     "text": [
      "https://finance.yahoo.com/quote/ELCPF\n"
     ]
    },
    {
     "name": "stderr",
     "output_type": "stream",
     "text": [
      "404 Client Error: Not Found for url: https://query2.finance.yahoo.com/v10/finance/quoteSummary/ELCPF?modules=recommendationTrend&corsDomain=finance.yahoo.com&formatted=false&symbol=ELCPF&crumb=RvcHzk3Ziw6\n"
     ]
    },
    {
     "name": "stdout",
     "output_type": "stream",
     "text": [
      "https://finance.yahoo.com/quote/MSLOF\n"
     ]
    },
    {
     "name": "stderr",
     "output_type": "stream",
     "text": [
      "404 Client Error: Not Found for url: https://query2.finance.yahoo.com/v10/finance/quoteSummary/MSLOF?modules=recommendationTrend&corsDomain=finance.yahoo.com&formatted=false&symbol=MSLOF&crumb=RvcHzk3Ziw6\n"
     ]
    },
    {
     "name": "stdout",
     "output_type": "stream",
     "text": [
      "https://finance.yahoo.com/quote/OSCUF\n"
     ]
    },
    {
     "name": "stderr",
     "output_type": "stream",
     "text": [
      "404 Client Error: Not Found for url: https://query2.finance.yahoo.com/v10/finance/quoteSummary/OSCUF?modules=recommendationTrend&corsDomain=finance.yahoo.com&formatted=false&symbol=OSCUF&crumb=RvcHzk3Ziw6\n"
     ]
    },
    {
     "name": "stdout",
     "output_type": "stream",
     "text": [
      "https://finance.yahoo.com/quote/SEGXF\n"
     ]
    },
    {
     "name": "stderr",
     "output_type": "stream",
     "text": [
      "SEGXF: No earnings dates found, symbol may be delisted\n",
      "404 Client Error: Not Found for url: https://query2.finance.yahoo.com/v10/finance/quoteSummary/SEGXF?modules=recommendationTrend&corsDomain=finance.yahoo.com&formatted=false&symbol=SEGXF&crumb=RvcHzk3Ziw6\n"
     ]
    },
    {
     "name": "stdout",
     "output_type": "stream",
     "text": [
      "https://finance.yahoo.com/quote/PRYMF\n"
     ]
    },
    {
     "name": "stderr",
     "output_type": "stream",
     "text": [
      "404 Client Error: Not Found for url: https://query2.finance.yahoo.com/v10/finance/quoteSummary/PRYMF?modules=recommendationTrend&corsDomain=finance.yahoo.com&formatted=false&symbol=PRYMF&crumb=RvcHzk3Ziw6\n"
     ]
    },
    {
     "name": "stdout",
     "output_type": "stream",
     "text": [
      "https://finance.yahoo.com/quote/IMO\n",
      "https://finance.yahoo.com/quote/KKPNF\n"
     ]
    },
    {
     "name": "stderr",
     "output_type": "stream",
     "text": [
      "404 Client Error: Not Found for url: https://query2.finance.yahoo.com/v10/finance/quoteSummary/KKPNF?modules=recommendationTrend&corsDomain=finance.yahoo.com&formatted=false&symbol=KKPNF&crumb=RvcHzk3Ziw6\n"
     ]
    },
    {
     "name": "stdout",
     "output_type": "stream",
     "text": [
      "https://finance.yahoo.com/quote/IPG\n",
      "https://finance.yahoo.com/quote/RSNHF\n"
     ]
    },
    {
     "name": "stderr",
     "output_type": "stream",
     "text": [
      "404 Client Error: Not Found for url: https://query2.finance.yahoo.com/v10/finance/quoteSummary/RSNHF?modules=recommendationTrend&corsDomain=finance.yahoo.com&formatted=false&symbol=RSNHF&crumb=RvcHzk3Ziw6\n"
     ]
    },
    {
     "name": "stdout",
     "output_type": "stream",
     "text": [
      "https://finance.yahoo.com/quote/GL\n",
      "https://finance.yahoo.com/quote/CRL\n",
      "https://finance.yahoo.com/quote/CELH\n",
      "https://finance.yahoo.com/quote/NI\n",
      "https://finance.yahoo.com/quote/WRK\n",
      "https://finance.yahoo.com/quote/SHLAF\n"
     ]
    },
    {
     "name": "stderr",
     "output_type": "stream",
     "text": [
      "404 Client Error: Not Found for url: https://query2.finance.yahoo.com/v10/finance/quoteSummary/SHLAF?modules=recommendationTrend&corsDomain=finance.yahoo.com&formatted=false&symbol=SHLAF&crumb=RvcHzk3Ziw6\n"
     ]
    },
    {
     "name": "stdout",
     "output_type": "stream",
     "text": [
      "https://finance.yahoo.com/quote/LNT\n",
      "https://finance.yahoo.com/quote/JNPR\n",
      "https://finance.yahoo.com/quote/NNGPF\n"
     ]
    },
    {
     "name": "stderr",
     "output_type": "stream",
     "text": [
      "404 Client Error: Not Found for url: https://query2.finance.yahoo.com/v10/finance/quoteSummary/NNGPF?modules=recommendationTrend&corsDomain=finance.yahoo.com&formatted=false&symbol=NNGPF&crumb=RvcHzk3Ziw6\n"
     ]
    },
    {
     "name": "stdout",
     "output_type": "stream",
     "text": [
      "https://finance.yahoo.com/quote/EDNMF\n"
     ]
    },
    {
     "name": "stderr",
     "output_type": "stream",
     "text": [
      "EDNMF: No earnings dates found, symbol may be delisted\n",
      "404 Client Error: Not Found for url: https://query2.finance.yahoo.com/v10/finance/quoteSummary/EDNMF?modules=recommendationTrend&corsDomain=finance.yahoo.com&formatted=false&symbol=EDNMF&crumb=RvcHzk3Ziw6\n"
     ]
    },
    {
     "name": "stdout",
     "output_type": "stream",
     "text": [
      "https://finance.yahoo.com/quote/TFII\n",
      "https://finance.yahoo.com/quote/WPC\n",
      "https://finance.yahoo.com/quote/TAP\n",
      "https://finance.yahoo.com/quote/SKHSF\n"
     ]
    },
    {
     "name": "stderr",
     "output_type": "stream",
     "text": [
      "404 Client Error: Not Found for url: https://query2.finance.yahoo.com/v10/finance/quoteSummary/SKHSF?modules=recommendationTrend&corsDomain=finance.yahoo.com&formatted=false&symbol=SKHSF&crumb=RvcHzk3Ziw6\n"
     ]
    },
    {
     "name": "stdout",
     "output_type": "stream",
     "text": [
      "https://finance.yahoo.com/quote/ELS\n",
      "https://finance.yahoo.com/quote/CNHI\n",
      "https://finance.yahoo.com/quote/SMTOF\n",
      "https://finance.yahoo.com/quote/AMH\n",
      "https://finance.yahoo.com/quote/WTCHF\n"
     ]
    },
    {
     "name": "stderr",
     "output_type": "stream",
     "text": [
      "WTCHF: No earnings dates found, symbol may be delisted\n",
      "404 Client Error: Not Found for url: https://query2.finance.yahoo.com/v10/finance/quoteSummary/WTCHF?modules=recommendationTrend&corsDomain=finance.yahoo.com&formatted=false&symbol=WTCHF&crumb=RvcHzk3Ziw6\n"
     ]
    },
    {
     "name": "stdout",
     "output_type": "stream",
     "text": [
      "https://finance.yahoo.com/quote/OBIIF\n"
     ]
    },
    {
     "name": "stderr",
     "output_type": "stream",
     "text": [
      "404 Client Error: Not Found for url: https://query2.finance.yahoo.com/v10/finance/quoteSummary/OBIIF?modules=recommendationTrend&corsDomain=finance.yahoo.com&formatted=false&symbol=OBIIF&crumb=RvcHzk3Ziw6\n"
     ]
    },
    {
     "name": "stdout",
     "output_type": "stream",
     "text": [
      "https://finance.yahoo.com/quote/DOC\n",
      "https://finance.yahoo.com/quote/EXXRF\n"
     ]
    },
    {
     "name": "stderr",
     "output_type": "stream",
     "text": [
      "404 Client Error: Not Found for url: https://query2.finance.yahoo.com/v10/finance/quoteSummary/EXXRF?modules=recommendationTrend&corsDomain=finance.yahoo.com&formatted=false&symbol=EXXRF&crumb=RvcHzk3Ziw6\n"
     ]
    },
    {
     "name": "stdout",
     "output_type": "stream",
     "text": [
      "https://finance.yahoo.com/quote/KNBWF\n"
     ]
    },
    {
     "name": "stderr",
     "output_type": "stream",
     "text": [
      "404 Client Error: Not Found for url: https://query2.finance.yahoo.com/v10/finance/quoteSummary/KNBWF?modules=recommendationTrend&corsDomain=finance.yahoo.com&formatted=false&symbol=KNBWF&crumb=RvcHzk3Ziw6\n"
     ]
    },
    {
     "name": "stdout",
     "output_type": "stream",
     "text": [
      "https://finance.yahoo.com/quote/EPIAF\n"
     ]
    },
    {
     "name": "stderr",
     "output_type": "stream",
     "text": [
      "404 Client Error: Not Found for url: https://query2.finance.yahoo.com/v10/finance/quoteSummary/EPIAF?modules=recommendationTrend&corsDomain=finance.yahoo.com&formatted=false&symbol=EPIAF&crumb=RvcHzk3Ziw6\n"
     ]
    },
    {
     "name": "stdout",
     "output_type": "stream",
     "text": [
      "https://finance.yahoo.com/quote/HII\n",
      "https://finance.yahoo.com/quote/LDSVF\n"
     ]
    },
    {
     "name": "stderr",
     "output_type": "stream",
     "text": [
      "LDSVF: No earnings dates found, symbol may be delisted\n",
      "404 Client Error: Not Found for url: https://query2.finance.yahoo.com/v10/finance/quoteSummary/LDSVF?modules=recommendationTrend&corsDomain=finance.yahoo.com&formatted=false&symbol=LDSVF&crumb=RvcHzk3Ziw6\n"
     ]
    },
    {
     "name": "stdout",
     "output_type": "stream",
     "text": [
      "https://finance.yahoo.com/quote/ACM\n",
      "https://finance.yahoo.com/quote/AETUF\n"
     ]
    },
    {
     "name": "stderr",
     "output_type": "stream",
     "text": [
      "404 Client Error: Not Found for url: https://query2.finance.yahoo.com/v10/finance/quoteSummary/AETUF?modules=recommendationTrend&corsDomain=finance.yahoo.com&formatted=false&symbol=AETUF&crumb=RvcHzk3Ziw6\n"
     ]
    },
    {
     "name": "stdout",
     "output_type": "stream",
     "text": [
      "https://finance.yahoo.com/quote/ALFVF\n",
      "https://finance.yahoo.com/quote/SNAP\n",
      "https://finance.yahoo.com/quote/REG\n",
      "https://finance.yahoo.com/quote/SITIF\n"
     ]
    },
    {
     "name": "stderr",
     "output_type": "stream",
     "text": [
      "404 Client Error: Not Found for url: https://query2.finance.yahoo.com/v10/finance/quoteSummary/SITIF?modules=recommendationTrend&corsDomain=finance.yahoo.com&formatted=false&symbol=SITIF&crumb=RvcHzk3Ziw6\n"
     ]
    },
    {
     "name": "stdout",
     "output_type": "stream",
     "text": [
      "https://finance.yahoo.com/quote/ESALF\n",
      "https://finance.yahoo.com/quote/DSECF\n"
     ]
    },
    {
     "name": "stderr",
     "output_type": "stream",
     "text": [
      "404 Client Error: Not Found for url: https://query2.finance.yahoo.com/v10/finance/quoteSummary/DSECF?modules=recommendationTrend&corsDomain=finance.yahoo.com&formatted=false&symbol=DSECF&crumb=RvcHzk3Ziw6\n",
      "404 Client Error: Not Found for url: https://query2.finance.yahoo.com/v10/finance/quoteSummary/HEI/A?modules=financialData%2CquoteType%2CdefaultKeyStatistics%2CassetProfile%2CsummaryDetail&corsDomain=finance.yahoo.com&formatted=false&symbol=HEI%2FA&crumb=RvcHzk3Ziw6\n"
     ]
    },
    {
     "name": "stdout",
     "output_type": "stream",
     "text": [
      "https://finance.yahoo.com/quote/HEI-A\n",
      "https://finance.yahoo.com/quote/MOS\n",
      "https://finance.yahoo.com/quote/BSY\n",
      "https://finance.yahoo.com/quote/WYNN\n",
      "https://finance.yahoo.com/quote/ALLE\n",
      "https://finance.yahoo.com/quote/TW\n",
      "https://finance.yahoo.com/quote/NTOIF\n"
     ]
    },
    {
     "name": "stderr",
     "output_type": "stream",
     "text": [
      "404 Client Error: Not Found for url: https://query2.finance.yahoo.com/v10/finance/quoteSummary/NTOIF?modules=recommendationTrend&corsDomain=finance.yahoo.com&formatted=false&symbol=NTOIF&crumb=RvcHzk3Ziw6\n"
     ]
    },
    {
     "name": "stdout",
     "output_type": "stream",
     "text": [
      "https://finance.yahoo.com/quote/FBIN\n",
      "https://finance.yahoo.com/quote/WJRYF\n"
     ]
    },
    {
     "name": "stderr",
     "output_type": "stream",
     "text": [
      "404 Client Error: Not Found for url: https://query2.finance.yahoo.com/v10/finance/quoteSummary/WJRYF?modules=recommendationTrend&corsDomain=finance.yahoo.com&formatted=false&symbol=WJRYF&crumb=RvcHzk3Ziw6\n"
     ]
    },
    {
     "name": "stdout",
     "output_type": "stream",
     "text": [
      "https://finance.yahoo.com/quote/EQBBF\n"
     ]
    },
    {
     "name": "stderr",
     "output_type": "stream",
     "text": [
      "404 Client Error: Not Found for url: https://query2.finance.yahoo.com/v10/finance/quoteSummary/EQBBF?modules=recommendationTrend&corsDomain=finance.yahoo.com&formatted=false&symbol=EQBBF&crumb=RvcHzk3Ziw6\n"
     ]
    },
    {
     "name": "stdout",
     "output_type": "stream",
     "text": [
      "https://finance.yahoo.com/quote/AOS\n",
      "https://finance.yahoo.com/quote/FFIV\n",
      "https://finance.yahoo.com/quote/TECH\n",
      "https://finance.yahoo.com/quote/JBARF\n"
     ]
    },
    {
     "name": "stderr",
     "output_type": "stream",
     "text": [
      "JBARF: No earnings dates found, symbol may be delisted\n",
      "404 Client Error: Not Found for url: https://query2.finance.yahoo.com/v10/finance/quoteSummary/JBARF?modules=recommendationTrend&corsDomain=finance.yahoo.com&formatted=false&symbol=JBARF&crumb=RvcHzk3Ziw6\n"
     ]
    },
    {
     "name": "stdout",
     "output_type": "stream",
     "text": [
      "https://finance.yahoo.com/quote/SNNUF\n",
      "https://finance.yahoo.com/quote/SSDOF\n"
     ]
    },
    {
     "name": "stderr",
     "output_type": "stream",
     "text": [
      "404 Client Error: Not Found for url: https://query2.finance.yahoo.com/v10/finance/quoteSummary/SSDOF?modules=recommendationTrend&corsDomain=finance.yahoo.com&formatted=false&symbol=SSDOF&crumb=RvcHzk3Ziw6\n"
     ]
    },
    {
     "name": "stdout",
     "output_type": "stream",
     "text": [
      "https://finance.yahoo.com/quote/INCY\n",
      "https://finance.yahoo.com/quote/PODD\n",
      "https://finance.yahoo.com/quote/DKS\n",
      "https://finance.yahoo.com/quote/BKHPF\n"
     ]
    },
    {
     "name": "stderr",
     "output_type": "stream",
     "text": [
      "404 Client Error: Not Found for url: https://query2.finance.yahoo.com/v10/finance/quoteSummary/BKHPF?modules=recommendationTrend&corsDomain=finance.yahoo.com&formatted=false&symbol=BKHPF&crumb=RvcHzk3Ziw6\n"
     ]
    },
    {
     "name": "stdout",
     "output_type": "stream",
     "text": [
      "https://finance.yahoo.com/quote/GXYEF\n"
     ]
    },
    {
     "name": "stderr",
     "output_type": "stream",
     "text": [
      "GXYEF: No earnings dates found, symbol may be delisted\n",
      "404 Client Error: Not Found for url: https://query2.finance.yahoo.com/v10/finance/quoteSummary/GXYEF?modules=recommendationTrend&corsDomain=finance.yahoo.com&formatted=false&symbol=GXYEF&crumb=RvcHzk3Ziw6\n"
     ]
    },
    {
     "name": "stdout",
     "output_type": "stream",
     "text": [
      "https://finance.yahoo.com/quote/CG\n",
      "https://finance.yahoo.com/quote/NCBDF\n"
     ]
    },
    {
     "name": "stderr",
     "output_type": "stream",
     "text": [
      "404 Client Error: Not Found for url: https://query2.finance.yahoo.com/v10/finance/quoteSummary/NCBDF?modules=recommendationTrend&corsDomain=finance.yahoo.com&formatted=false&symbol=NCBDF&crumb=RvcHzk3Ziw6\n"
     ]
    },
    {
     "name": "stdout",
     "output_type": "stream",
     "text": [
      "https://finance.yahoo.com/quote/MLSPF\n"
     ]
    },
    {
     "name": "stderr",
     "output_type": "stream",
     "text": [
      "MLSPF: No earnings dates found, symbol may be delisted\n",
      "404 Client Error: Not Found for url: https://query2.finance.yahoo.com/v10/finance/quoteSummary/MLSPF?modules=recommendationTrend&corsDomain=finance.yahoo.com&formatted=false&symbol=MLSPF&crumb=RvcHzk3Ziw6\n"
     ]
    },
    {
     "name": "stdout",
     "output_type": "stream",
     "text": [
      "https://finance.yahoo.com/quote/SITIF\n"
     ]
    },
    {
     "name": "stderr",
     "output_type": "stream",
     "text": [
      "404 Client Error: Not Found for url: https://query2.finance.yahoo.com/v10/finance/quoteSummary/SITIF?modules=recommendationTrend&corsDomain=finance.yahoo.com&formatted=false&symbol=SITIF&crumb=RvcHzk3Ziw6\n"
     ]
    },
    {
     "name": "stdout",
     "output_type": "stream",
     "text": [
      "https://finance.yahoo.com/quote/XROLF\n"
     ]
    },
    {
     "name": "stderr",
     "output_type": "stream",
     "text": [
      "404 Client Error: Not Found for url: https://query2.finance.yahoo.com/v10/finance/quoteSummary/XROLF?modules=recommendationTrend&corsDomain=finance.yahoo.com&formatted=false&symbol=XROLF&crumb=RvcHzk3Ziw6\n"
     ]
    },
    {
     "name": "stdout",
     "output_type": "stream",
     "text": [
      "https://finance.yahoo.com/quote/NWSA\n",
      "https://finance.yahoo.com/quote/UDR\n",
      "https://finance.yahoo.com/quote/HLMAF\n"
     ]
    },
    {
     "name": "stderr",
     "output_type": "stream",
     "text": [
      "HLMAF: No earnings dates found, symbol may be delisted\n",
      "404 Client Error: Not Found for url: https://query2.finance.yahoo.com/v10/finance/quoteSummary/HLMAF?modules=recommendationTrend&corsDomain=finance.yahoo.com&formatted=false&symbol=HLMAF&crumb=RvcHzk3Ziw6\n"
     ]
    },
    {
     "name": "stdout",
     "output_type": "stream",
     "text": [
      "https://finance.yahoo.com/quote/SURDF\n"
     ]
    },
    {
     "name": "stderr",
     "output_type": "stream",
     "text": [
      "404 Client Error: Not Found for url: https://query2.finance.yahoo.com/v10/finance/quoteSummary/SURDF?modules=recommendationTrend&corsDomain=finance.yahoo.com&formatted=false&symbol=SURDF&crumb=RvcHzk3Ziw6\n"
     ]
    },
    {
     "name": "stdout",
     "output_type": "stream",
     "text": [
      "https://finance.yahoo.com/quote/HSIC\n",
      "https://finance.yahoo.com/quote/ERIE\n",
      "https://finance.yahoo.com/quote/LSCC\n",
      "https://finance.yahoo.com/quote/NURAF\n"
     ]
    },
    {
     "name": "stderr",
     "output_type": "stream",
     "text": [
      "404 Client Error: Not Found for url: https://query2.finance.yahoo.com/v10/finance/quoteSummary/NURAF?modules=recommendationTrend&corsDomain=finance.yahoo.com&formatted=false&symbol=NURAF&crumb=RvcHzk3Ziw6\n"
     ]
    },
    {
     "name": "stdout",
     "output_type": "stream",
     "text": [
      "https://finance.yahoo.com/quote/EMRAF\n"
     ]
    },
    {
     "name": "stderr",
     "output_type": "stream",
     "text": [
      "404 Client Error: Not Found for url: https://query2.finance.yahoo.com/v10/finance/quoteSummary/EMRAF?modules=recommendationTrend&corsDomain=finance.yahoo.com&formatted=false&symbol=EMRAF&crumb=RvcHzk3Ziw6\n"
     ]
    },
    {
     "name": "stdout",
     "output_type": "stream",
     "text": [
      "https://finance.yahoo.com/quote/HRL\n",
      "https://finance.yahoo.com/quote/CYBR\n",
      "https://finance.yahoo.com/quote/DRPRF\n"
     ]
    },
    {
     "name": "stderr",
     "output_type": "stream",
     "text": [
      "404 Client Error: Not Found for url: https://query2.finance.yahoo.com/v10/finance/quoteSummary/DRPRF?modules=recommendationTrend&corsDomain=finance.yahoo.com&formatted=false&symbol=DRPRF&crumb=RvcHzk3Ziw6\n"
     ]
    },
    {
     "name": "stdout",
     "output_type": "stream",
     "text": [
      "https://finance.yahoo.com/quote/NCLTF\n"
     ]
    },
    {
     "name": "stderr",
     "output_type": "stream",
     "text": [
      "404 Client Error: Not Found for url: https://query2.finance.yahoo.com/v10/finance/quoteSummary/NCLTF?modules=recommendationTrend&corsDomain=finance.yahoo.com&formatted=false&symbol=NCLTF&crumb=RvcHzk3Ziw6\n"
     ]
    },
    {
     "name": "stdout",
     "output_type": "stream",
     "text": [
      "https://finance.yahoo.com/quote/CLF\n",
      "https://finance.yahoo.com/quote/DINRF\n"
     ]
    },
    {
     "name": "stderr",
     "output_type": "stream",
     "text": [
      "404 Client Error: Not Found for url: https://query2.finance.yahoo.com/v10/finance/quoteSummary/DINRF?modules=recommendationTrend&corsDomain=finance.yahoo.com&formatted=false&symbol=DINRF&crumb=RvcHzk3Ziw6\n"
     ]
    },
    {
     "name": "stdout",
     "output_type": "stream",
     "text": [
      "https://finance.yahoo.com/quote/DOGEF\n"
     ]
    },
    {
     "name": "stderr",
     "output_type": "stream",
     "text": [
      "404 Client Error: Not Found for url: https://query2.finance.yahoo.com/v10/finance/quoteSummary/DOGEF?modules=recommendationTrend&corsDomain=finance.yahoo.com&formatted=false&symbol=DOGEF&crumb=RvcHzk3Ziw6\n"
     ]
    },
    {
     "name": "stdout",
     "output_type": "stream",
     "text": [
      "https://finance.yahoo.com/quote/HKHHF\n"
     ]
    },
    {
     "name": "stderr",
     "output_type": "stream",
     "text": [
      "404 Client Error: Not Found for url: https://query2.finance.yahoo.com/v10/finance/quoteSummary/HKHHF?modules=recommendationTrend&corsDomain=finance.yahoo.com&formatted=false&symbol=HKHHF&crumb=RvcHzk3Ziw6\n"
     ]
    },
    {
     "name": "stdout",
     "output_type": "stream",
     "text": [
      "https://finance.yahoo.com/quote/BNKHF\n"
     ]
    },
    {
     "name": "stderr",
     "output_type": "stream",
     "text": [
      "BNKHF: No earnings dates found, symbol may be delisted\n",
      "404 Client Error: Not Found for url: https://query2.finance.yahoo.com/v10/finance/quoteSummary/BNKHF?modules=recommendationTrend&corsDomain=finance.yahoo.com&formatted=false&symbol=BNKHF&crumb=RvcHzk3Ziw6\n"
     ]
    },
    {
     "name": "stdout",
     "output_type": "stream",
     "text": [
      "https://finance.yahoo.com/quote/SMFTF\n"
     ]
    },
    {
     "name": "stderr",
     "output_type": "stream",
     "text": [
      "404 Client Error: Not Found for url: https://query2.finance.yahoo.com/v10/finance/quoteSummary/SMFTF?modules=recommendationTrend&corsDomain=finance.yahoo.com&formatted=false&symbol=SMFTF&crumb=RvcHzk3Ziw6\n"
     ]
    },
    {
     "name": "stdout",
     "output_type": "stream",
     "text": [
      "https://finance.yahoo.com/quote/TFX\n",
      "https://finance.yahoo.com/quote/CRERF\n"
     ]
    },
    {
     "name": "stderr",
     "output_type": "stream",
     "text": [
      "CRERF: No earnings dates found, symbol may be delisted\n"
     ]
    },
    {
     "name": "stdout",
     "output_type": "stream",
     "text": [
      "https://finance.yahoo.com/quote/DOCU\n",
      "https://finance.yahoo.com/quote/EMN\n",
      "https://finance.yahoo.com/quote/HMRZF\n"
     ]
    },
    {
     "name": "stderr",
     "output_type": "stream",
     "text": [
      "404 Client Error: Not Found for url: https://query2.finance.yahoo.com/v10/finance/quoteSummary/HMRZF?modules=recommendationTrend&corsDomain=finance.yahoo.com&formatted=false&symbol=HMRZF&crumb=RvcHzk3Ziw6\n"
     ]
    },
    {
     "name": "stdout",
     "output_type": "stream",
     "text": [
      "https://finance.yahoo.com/quote/UTHR\n",
      "https://finance.yahoo.com/quote/OGFGF\n",
      "https://finance.yahoo.com/quote/SITIF\n"
     ]
    },
    {
     "name": "stderr",
     "output_type": "stream",
     "text": [
      "404 Client Error: Not Found for url: https://query2.finance.yahoo.com/v10/finance/quoteSummary/SITIF?modules=recommendationTrend&corsDomain=finance.yahoo.com&formatted=false&symbol=SITIF&crumb=RvcHzk3Ziw6\n"
     ]
    },
    {
     "name": "stdout",
     "output_type": "stream",
     "text": [
      "https://finance.yahoo.com/quote/TTRAF\n"
     ]
    },
    {
     "name": "stderr",
     "output_type": "stream",
     "text": [
      "TTRAF: No earnings dates found, symbol may be delisted\n"
     ]
    },
    {
     "name": "stdout",
     "output_type": "stream",
     "text": [
      "https://finance.yahoo.com/quote/IAUGF\n"
     ]
    },
    {
     "name": "stderr",
     "output_type": "stream",
     "text": [
      "IAUGF: No earnings dates found, symbol may be delisted\n",
      "404 Client Error: Not Found for url: https://query2.finance.yahoo.com/v10/finance/quoteSummary/IAUGF?modules=recommendationTrend&corsDomain=finance.yahoo.com&formatted=false&symbol=IAUGF&crumb=RvcHzk3Ziw6\n"
     ]
    },
    {
     "name": "stdout",
     "output_type": "stream",
     "text": [
      "https://finance.yahoo.com/quote/EXAS\n",
      "https://finance.yahoo.com/quote/AHKSF\n"
     ]
    },
    {
     "name": "stderr",
     "output_type": "stream",
     "text": [
      "404 Client Error: Not Found for url: https://query2.finance.yahoo.com/v10/finance/quoteSummary/AHKSF?modules=recommendationTrend&corsDomain=finance.yahoo.com&formatted=false&symbol=AHKSF&crumb=RvcHzk3Ziw6\n"
     ]
    },
    {
     "name": "stdout",
     "output_type": "stream",
     "text": [
      "https://finance.yahoo.com/quote/CHK\n",
      "https://finance.yahoo.com/quote/UHS\n",
      "https://finance.yahoo.com/quote/STGPF\n"
     ]
    },
    {
     "name": "stderr",
     "output_type": "stream",
     "text": [
      "STGPF: No earnings dates found, symbol may be delisted\n",
      "404 Client Error: Not Found for url: https://query2.finance.yahoo.com/v10/finance/quoteSummary/STGPF?modules=recommendationTrend&corsDomain=finance.yahoo.com&formatted=false&symbol=STGPF&crumb=RvcHzk3Ziw6\n"
     ]
    },
    {
     "name": "stdout",
     "output_type": "stream",
     "text": [
      "https://finance.yahoo.com/quote/AES\n",
      "https://finance.yahoo.com/quote/CCK\n",
      "https://finance.yahoo.com/quote/TKECF\n",
      "https://finance.yahoo.com/quote/ASBFF\n"
     ]
    },
    {
     "name": "stderr",
     "output_type": "stream",
     "text": [
      "ASBFF: No earnings dates found, symbol may be delisted\n",
      "404 Client Error: Not Found for url: https://query2.finance.yahoo.com/v10/finance/quoteSummary/ASBFF?modules=recommendationTrend&corsDomain=finance.yahoo.com&formatted=false&symbol=ASBFF&crumb=RvcHzk3Ziw6\n"
     ]
    },
    {
     "name": "stdout",
     "output_type": "stream",
     "text": [
      "https://finance.yahoo.com/quote/TWLO\n",
      "https://finance.yahoo.com/quote/KAEPF\n"
     ]
    },
    {
     "name": "stderr",
     "output_type": "stream",
     "text": [
      "404 Client Error: Not Found for url: https://query2.finance.yahoo.com/v10/finance/quoteSummary/KAEPF?modules=recommendationTrend&corsDomain=finance.yahoo.com&formatted=false&symbol=KAEPF&crumb=RvcHzk3Ziw6\n"
     ]
    },
    {
     "name": "stdout",
     "output_type": "stream",
     "text": [
      "https://finance.yahoo.com/quote/CVVTF\n",
      "https://finance.yahoo.com/quote/DQJCF\n"
     ]
    },
    {
     "name": "stderr",
     "output_type": "stream",
     "text": [
      "404 Client Error: Not Found for url: https://query2.finance.yahoo.com/v10/finance/quoteSummary/DQJCF?modules=recommendationTrend&corsDomain=finance.yahoo.com&formatted=false&symbol=DQJCF&crumb=RvcHzk3Ziw6\n"
     ]
    },
    {
     "name": "stdout",
     "output_type": "stream",
     "text": [
      "https://finance.yahoo.com/quote/YASKF\n"
     ]
    },
    {
     "name": "stderr",
     "output_type": "stream",
     "text": [
      "404 Client Error: Not Found for url: https://query2.finance.yahoo.com/v10/finance/quoteSummary/YASKF?modules=recommendationTrend&corsDomain=finance.yahoo.com&formatted=false&symbol=YASKF&crumb=RvcHzk3Ziw6\n"
     ]
    },
    {
     "name": "stdout",
     "output_type": "stream",
     "text": [
      "https://finance.yahoo.com/quote/SUVPF\n"
     ]
    },
    {
     "name": "stderr",
     "output_type": "stream",
     "text": [
      "404 Client Error: Not Found for url: https://query2.finance.yahoo.com/v10/finance/quoteSummary/SUVPF?modules=recommendationTrend&corsDomain=finance.yahoo.com&formatted=false&symbol=SUVPF&crumb=RvcHzk3Ziw6\n"
     ]
    },
    {
     "name": "stdout",
     "output_type": "stream",
     "text": [
      "https://finance.yahoo.com/quote/APA\n",
      "https://finance.yahoo.com/quote/JFEEF\n"
     ]
    },
    {
     "name": "stderr",
     "output_type": "stream",
     "text": [
      "404 Client Error: Not Found for url: https://query2.finance.yahoo.com/v10/finance/quoteSummary/JFEEF?modules=recommendationTrend&corsDomain=finance.yahoo.com&formatted=false&symbol=JFEEF&crumb=RvcHzk3Ziw6\n"
     ]
    },
    {
     "name": "stdout",
     "output_type": "stream",
     "text": [
      "https://finance.yahoo.com/quote/HRNNF\n"
     ]
    },
    {
     "name": "stderr",
     "output_type": "stream",
     "text": [
      "404 Client Error: Not Found for url: https://query2.finance.yahoo.com/v10/finance/quoteSummary/HRNNF?modules=recommendationTrend&corsDomain=finance.yahoo.com&formatted=false&symbol=HRNNF&crumb=RvcHzk3Ziw6\n"
     ]
    },
    {
     "name": "stdout",
     "output_type": "stream",
     "text": [
      "https://finance.yahoo.com/quote/RGEN\n",
      "https://finance.yahoo.com/quote/HOKCF\n"
     ]
    },
    {
     "name": "stderr",
     "output_type": "stream",
     "text": [
      "HOKCF: No earnings dates found, symbol may be delisted\n",
      "404 Client Error: Not Found for url: https://query2.finance.yahoo.com/v10/finance/quoteSummary/HOKCF?modules=recommendationTrend&corsDomain=finance.yahoo.com&formatted=false&symbol=HOKCF&crumb=RvcHzk3Ziw6\n"
     ]
    },
    {
     "name": "stdout",
     "output_type": "stream",
     "text": [
      "https://finance.yahoo.com/quote/DAY\n",
      "https://finance.yahoo.com/quote/CHKGF\n"
     ]
    },
    {
     "name": "stderr",
     "output_type": "stream",
     "text": [
      "404 Client Error: Not Found for url: https://query2.finance.yahoo.com/v10/finance/quoteSummary/CHKGF?modules=recommendationTrend&corsDomain=finance.yahoo.com&formatted=false&symbol=CHKGF&crumb=RvcHzk3Ziw6\n"
     ]
    },
    {
     "name": "stdout",
     "output_type": "stream",
     "text": [
      "https://finance.yahoo.com/quote/Z\n",
      "https://finance.yahoo.com/quote/APP\n",
      "https://finance.yahoo.com/quote/BBWI\n",
      "https://finance.yahoo.com/quote/CTLT\n",
      "https://finance.yahoo.com/quote/MNHVF\n"
     ]
    },
    {
     "name": "stderr",
     "output_type": "stream",
     "text": [
      "404 Client Error: Not Found for url: https://query2.finance.yahoo.com/v10/finance/quoteSummary/MNHVF?modules=recommendationTrend&corsDomain=finance.yahoo.com&formatted=false&symbol=MNHVF&crumb=RvcHzk3Ziw6\n"
     ]
    },
    {
     "name": "stdout",
     "output_type": "stream",
     "text": [
      "https://finance.yahoo.com/quote/NSANF\n"
     ]
    },
    {
     "name": "stderr",
     "output_type": "stream",
     "text": [
      "404 Client Error: Not Found for url: https://query2.finance.yahoo.com/v10/finance/quoteSummary/NSANF?modules=recommendationTrend&corsDomain=finance.yahoo.com&formatted=false&symbol=NSANF&crumb=RvcHzk3Ziw6\n"
     ]
    },
    {
     "name": "stdout",
     "output_type": "stream",
     "text": [
      "https://finance.yahoo.com/quote/BXP\n",
      "https://finance.yahoo.com/quote/TTC\n",
      "https://finance.yahoo.com/quote/AIZ\n",
      "https://finance.yahoo.com/quote/QGEN\n",
      "https://finance.yahoo.com/quote/ALLY\n",
      "https://finance.yahoo.com/quote/YAMHF\n"
     ]
    },
    {
     "name": "stderr",
     "output_type": "stream",
     "text": [
      "404 Client Error: Not Found for url: https://query2.finance.yahoo.com/v10/finance/quoteSummary/YAMHF?modules=recommendationTrend&corsDomain=finance.yahoo.com&formatted=false&symbol=YAMHF&crumb=RvcHzk3Ziw6\n"
     ]
    },
    {
     "name": "stdout",
     "output_type": "stream",
     "text": [
      "https://finance.yahoo.com/quote/RHHBF\n",
      "https://finance.yahoo.com/quote/TPL\n",
      "https://finance.yahoo.com/quote/SHMDF\n"
     ]
    },
    {
     "name": "stderr",
     "output_type": "stream",
     "text": [
      "404 Client Error: Not Found for url: https://query2.finance.yahoo.com/v10/finance/quoteSummary/SHMDF?modules=recommendationTrend&corsDomain=finance.yahoo.com&formatted=false&symbol=SHMDF&crumb=RvcHzk3Ziw6\n"
     ]
    },
    {
     "name": "stdout",
     "output_type": "stream",
     "text": [
      "https://finance.yahoo.com/quote/FCBBF\n"
     ]
    },
    {
     "name": "stderr",
     "output_type": "stream",
     "text": [
      "404 Client Error: Not Found for url: https://query2.finance.yahoo.com/v10/finance/quoteSummary/FCBBF?modules=recommendationTrend&corsDomain=finance.yahoo.com&formatted=false&symbol=FCBBF&crumb=RvcHzk3Ziw6\n"
     ]
    },
    {
     "name": "stdout",
     "output_type": "stream",
     "text": [
      "https://finance.yahoo.com/quote/MTCH\n",
      "https://finance.yahoo.com/quote/NESRF\n"
     ]
    },
    {
     "name": "stderr",
     "output_type": "stream",
     "text": [
      "NESRF: No earnings dates found, symbol may be delisted\n",
      "404 Client Error: Not Found for url: https://query2.finance.yahoo.com/v10/finance/quoteSummary/NESRF?modules=recommendationTrend&corsDomain=finance.yahoo.com&formatted=false&symbol=NESRF&crumb=RvcHzk3Ziw6\n"
     ]
    },
    {
     "name": "stdout",
     "output_type": "stream",
     "text": [
      "https://finance.yahoo.com/quote/CZR\n",
      "https://finance.yahoo.com/quote/PAYC\n",
      "https://finance.yahoo.com/quote/CPT\n",
      "https://finance.yahoo.com/quote/BKRIF\n",
      "https://finance.yahoo.com/quote/STN\n",
      "https://finance.yahoo.com/quote/SSMXF\n"
     ]
    },
    {
     "name": "stderr",
     "output_type": "stream",
     "text": [
      "404 Client Error: Not Found for url: https://query2.finance.yahoo.com/v10/finance/quoteSummary/SSMXF?modules=recommendationTrend&corsDomain=finance.yahoo.com&formatted=false&symbol=SSMXF&crumb=RvcHzk3Ziw6\n"
     ]
    },
    {
     "name": "stdout",
     "output_type": "stream",
     "text": [
      "https://finance.yahoo.com/quote/SNMRF\n"
     ]
    },
    {
     "name": "stderr",
     "output_type": "stream",
     "text": [
      "404 Client Error: Not Found for url: https://query2.finance.yahoo.com/v10/finance/quoteSummary/SNMRF?modules=recommendationTrend&corsDomain=finance.yahoo.com&formatted=false&symbol=SNMRF&crumb=RvcHzk3Ziw6\n"
     ]
    },
    {
     "name": "stdout",
     "output_type": "stream",
     "text": [
      "https://finance.yahoo.com/quote/SPXSF\n",
      "https://finance.yahoo.com/quote/HSNGF\n"
     ]
    },
    {
     "name": "stderr",
     "output_type": "stream",
     "text": [
      "HSNGF: No earnings dates found, symbol may be delisted\n"
     ]
    },
    {
     "name": "stdout",
     "output_type": "stream",
     "text": [
      "https://finance.yahoo.com/quote/CPAMF\n"
     ]
    },
    {
     "name": "stderr",
     "output_type": "stream",
     "text": [
      "404 Client Error: Not Found for url: https://query2.finance.yahoo.com/v10/finance/quoteSummary/CPAMF?modules=recommendationTrend&corsDomain=finance.yahoo.com&formatted=false&symbol=CPAMF&crumb=RvcHzk3Ziw6\n"
     ]
    },
    {
     "name": "stdout",
     "output_type": "stream",
     "text": [
      "https://finance.yahoo.com/quote/IKTSF\n"
     ]
    },
    {
     "name": "stderr",
     "output_type": "stream",
     "text": [
      "IKTSF: No earnings dates found, symbol may be delisted\n"
     ]
    },
    {
     "name": "stdout",
     "output_type": "stream",
     "text": [
      "https://finance.yahoo.com/quote/MTN\n",
      "https://finance.yahoo.com/quote/GWLIF\n",
      "https://finance.yahoo.com/quote/FOXA\n",
      "https://finance.yahoo.com/quote/BTGOF\n",
      "https://finance.yahoo.com/quote/HYUHF\n"
     ]
    },
    {
     "name": "stderr",
     "output_type": "stream",
     "text": [
      "404 Client Error: Not Found for url: https://query2.finance.yahoo.com/v10/finance/quoteSummary/HYUHF?modules=recommendationTrend&corsDomain=finance.yahoo.com&formatted=false&symbol=HYUHF&crumb=RvcHzk3Ziw6\n"
     ]
    },
    {
     "name": "stdout",
     "output_type": "stream",
     "text": [
      "https://finance.yahoo.com/quote/UNBLF\n"
     ]
    },
    {
     "name": "stderr",
     "output_type": "stream",
     "text": [
      "UNBLF: No earnings dates found, symbol may be delisted\n"
     ]
    },
    {
     "name": "stdout",
     "output_type": "stream",
     "text": [
      "https://finance.yahoo.com/quote/KNX\n",
      "https://finance.yahoo.com/quote/CPYYF\n"
     ]
    },
    {
     "name": "stderr",
     "output_type": "stream",
     "text": [
      "CPYYF: No earnings dates found, symbol may be delisted\n",
      "404 Client Error: Not Found for url: https://query2.finance.yahoo.com/v10/finance/quoteSummary/CPYYF?modules=recommendationTrend&corsDomain=finance.yahoo.com&formatted=false&symbol=CPYYF&crumb=RvcHzk3Ziw6\n"
     ]
    },
    {
     "name": "stdout",
     "output_type": "stream",
     "text": [
      "https://finance.yahoo.com/quote/CMSQF\n"
     ]
    },
    {
     "name": "stderr",
     "output_type": "stream",
     "text": [
      "CMSQF: No earnings dates found, symbol may be delisted\n",
      "404 Client Error: Not Found for url: https://query2.finance.yahoo.com/v10/finance/quoteSummary/CMSQF?modules=recommendationTrend&corsDomain=finance.yahoo.com&formatted=false&symbol=CMSQF&crumb=RvcHzk3Ziw6\n"
     ]
    },
    {
     "name": "stdout",
     "output_type": "stream",
     "text": [
      "https://finance.yahoo.com/quote/RHI\n",
      "https://finance.yahoo.com/quote/ETSY\n",
      "https://finance.yahoo.com/quote/ACSAF\n"
     ]
    },
    {
     "name": "stderr",
     "output_type": "stream",
     "text": [
      "404 Client Error: Not Found for url: https://query2.finance.yahoo.com/v10/finance/quoteSummary/ACSAF?modules=recommendationTrend&corsDomain=finance.yahoo.com&formatted=false&symbol=ACSAF&crumb=RvcHzk3Ziw6\n"
     ]
    },
    {
     "name": "stdout",
     "output_type": "stream",
     "text": [
      "https://finance.yahoo.com/quote/BOUYF\n",
      "https://finance.yahoo.com/quote/NTTDF\n"
     ]
    },
    {
     "name": "stderr",
     "output_type": "stream",
     "text": [
      "404 Client Error: Not Found for url: https://query2.finance.yahoo.com/v10/finance/quoteSummary/NTTDF?modules=recommendationTrend&corsDomain=finance.yahoo.com&formatted=false&symbol=NTTDF&crumb=RvcHzk3Ziw6\n"
     ]
    },
    {
     "name": "stdout",
     "output_type": "stream",
     "text": [
      "https://finance.yahoo.com/quote/CHUEF\n"
     ]
    },
    {
     "name": "stderr",
     "output_type": "stream",
     "text": [
      "404 Client Error: Not Found for url: https://query2.finance.yahoo.com/v10/finance/quoteSummary/CHUEF?modules=recommendationTrend&corsDomain=finance.yahoo.com&formatted=false&symbol=CHUEF&crumb=RvcHzk3Ziw6\n"
     ]
    },
    {
     "name": "stdout",
     "output_type": "stream",
     "text": [
      "https://finance.yahoo.com/quote/PILBF\n"
     ]
    },
    {
     "name": "stderr",
     "output_type": "stream",
     "text": [
      "404 Client Error: Not Found for url: https://query2.finance.yahoo.com/v10/finance/quoteSummary/PILBF?modules=recommendationTrend&corsDomain=finance.yahoo.com&formatted=false&symbol=PILBF&crumb=RvcHzk3Ziw6\n"
     ]
    },
    {
     "name": "stdout",
     "output_type": "stream",
     "text": [
      "https://finance.yahoo.com/quote/PSORF\n"
     ]
    },
    {
     "name": "stderr",
     "output_type": "stream",
     "text": [
      "PSORF: No earnings dates found, symbol may be delisted\n"
     ]
    },
    {
     "name": "stdout",
     "output_type": "stream",
     "text": [
      "https://finance.yahoo.com/quote/FSPKF\n"
     ]
    },
    {
     "name": "stderr",
     "output_type": "stream",
     "text": [
      "FSPKF: No earnings dates found, symbol may be delisted\n",
      "404 Client Error: Not Found for url: https://query2.finance.yahoo.com/v10/finance/quoteSummary/FSPKF?modules=recommendationTrend&corsDomain=finance.yahoo.com&formatted=false&symbol=FSPKF&crumb=RvcHzk3Ziw6\n"
     ]
    },
    {
     "name": "stdout",
     "output_type": "stream",
     "text": [
      "https://finance.yahoo.com/quote/AEGOF\n",
      "https://finance.yahoo.com/quote/AMIGF\n"
     ]
    },
    {
     "name": "stderr",
     "output_type": "stream",
     "text": [
      "AMIGF: No earnings dates found, symbol may be delisted\n",
      "404 Client Error: Not Found for url: https://query2.finance.yahoo.com/v10/finance/quoteSummary/AMIGF?modules=recommendationTrend&corsDomain=finance.yahoo.com&formatted=false&symbol=AMIGF&crumb=RvcHzk3Ziw6\n"
     ]
    },
    {
     "name": "stdout",
     "output_type": "stream",
     "text": [
      "https://finance.yahoo.com/quote/SMEGF\n"
     ]
    },
    {
     "name": "stderr",
     "output_type": "stream",
     "text": [
      "404 Client Error: Not Found for url: https://query2.finance.yahoo.com/v10/finance/quoteSummary/SMEGF?modules=recommendationTrend&corsDomain=finance.yahoo.com&formatted=false&symbol=SMEGF&crumb=RvcHzk3Ziw6\n"
     ]
    },
    {
     "name": "stdout",
     "output_type": "stream",
     "text": [
      "https://finance.yahoo.com/quote/CPB\n",
      "https://finance.yahoo.com/quote/EFGSF\n"
     ]
    },
    {
     "name": "stderr",
     "output_type": "stream",
     "text": [
      "EFGSF: No earnings dates found, symbol may be delisted\n",
      "404 Client Error: Not Found for url: https://query2.finance.yahoo.com/v10/finance/quoteSummary/EFGSF?modules=recommendationTrend&corsDomain=finance.yahoo.com&formatted=false&symbol=EFGSF&crumb=RvcHzk3Ziw6\n"
     ]
    },
    {
     "name": "stdout",
     "output_type": "stream",
     "text": [
      "https://finance.yahoo.com/quote/ANFGF\n",
      "https://finance.yahoo.com/quote/SHTLF\n"
     ]
    },
    {
     "name": "stderr",
     "output_type": "stream",
     "text": [
      "SHTLF: No earnings dates found, symbol may be delisted\n",
      "404 Client Error: Not Found for url: https://query2.finance.yahoo.com/v10/finance/quoteSummary/SHTLF?modules=recommendationTrend&corsDomain=finance.yahoo.com&formatted=false&symbol=SHTLF&crumb=RvcHzk3Ziw6\n"
     ]
    },
    {
     "name": "stdout",
     "output_type": "stream",
     "text": [
      "https://finance.yahoo.com/quote/TKGSF\n"
     ]
    },
    {
     "name": "stderr",
     "output_type": "stream",
     "text": [
      "404 Client Error: Not Found for url: https://query2.finance.yahoo.com/v10/finance/quoteSummary/TKGSF?modules=recommendationTrend&corsDomain=finance.yahoo.com&formatted=false&symbol=TKGSF&crumb=RvcHzk3Ziw6\n"
     ]
    },
    {
     "name": "stdout",
     "output_type": "stream",
     "text": [
      "https://finance.yahoo.com/quote/ACDSF\n"
     ]
    },
    {
     "name": "stderr",
     "output_type": "stream",
     "text": [
      "404 Client Error: Not Found for url: https://query2.finance.yahoo.com/v10/finance/quoteSummary/ACDSF?modules=recommendationTrend&corsDomain=finance.yahoo.com&formatted=false&symbol=ACDSF&crumb=RvcHzk3Ziw6\n"
     ]
    },
    {
     "name": "stdout",
     "output_type": "stream",
     "text": [
      "https://finance.yahoo.com/quote/IMDZF\n"
     ]
    },
    {
     "name": "stderr",
     "output_type": "stream",
     "text": [
      "404 Client Error: Not Found for url: https://query2.finance.yahoo.com/v10/finance/quoteSummary/IMDZF?modules=recommendationTrend&corsDomain=finance.yahoo.com&formatted=false&symbol=IMDZF&crumb=RvcHzk3Ziw6\n"
     ]
    },
    {
     "name": "stdout",
     "output_type": "stream",
     "text": [
      "https://finance.yahoo.com/quote/ATDRF\n"
     ]
    },
    {
     "name": "stderr",
     "output_type": "stream",
     "text": [
      "ATDRF: No earnings dates found, symbol may be delisted\n",
      "404 Client Error: Not Found for url: https://query2.finance.yahoo.com/v10/finance/quoteSummary/ATDRF?modules=recommendationTrend&corsDomain=finance.yahoo.com&formatted=false&symbol=ATDRF&crumb=RvcHzk3Ziw6\n"
     ]
    },
    {
     "name": "stdout",
     "output_type": "stream",
     "text": [
      "https://finance.yahoo.com/quote/SHMZF\n"
     ]
    },
    {
     "name": "stderr",
     "output_type": "stream",
     "text": [
      "404 Client Error: Not Found for url: https://query2.finance.yahoo.com/v10/finance/quoteSummary/SHMZF?modules=recommendationTrend&corsDomain=finance.yahoo.com&formatted=false&symbol=SHMZF&crumb=RvcHzk3Ziw6\n"
     ]
    },
    {
     "name": "stdout",
     "output_type": "stream",
     "text": [
      "https://finance.yahoo.com/quote/SBHGF\n"
     ]
    },
    {
     "name": "stderr",
     "output_type": "stream",
     "text": [
      "404 Client Error: Not Found for url: https://query2.finance.yahoo.com/v10/finance/quoteSummary/SBHGF?modules=recommendationTrend&corsDomain=finance.yahoo.com&formatted=false&symbol=SBHGF&crumb=RvcHzk3Ziw6\n"
     ]
    },
    {
     "name": "stdout",
     "output_type": "stream",
     "text": [
      "https://finance.yahoo.com/quote/SKHCF\n"
     ]
    },
    {
     "name": "stderr",
     "output_type": "stream",
     "text": [
      "SKHCF: No earnings dates found, symbol may be delisted\n",
      "404 Client Error: Not Found for url: https://query2.finance.yahoo.com/v10/finance/quoteSummary/SKHCF?modules=recommendationTrend&corsDomain=finance.yahoo.com&formatted=false&symbol=SKHCF&crumb=RvcHzk3Ziw6\n"
     ]
    },
    {
     "name": "stdout",
     "output_type": "stream",
     "text": [
      "https://finance.yahoo.com/quote/NLY\n",
      "https://finance.yahoo.com/quote/WPPGF\n"
     ]
    },
    {
     "name": "stderr",
     "output_type": "stream",
     "text": [
      "WPPGF: No earnings dates found, symbol may be delisted\n",
      "404 Client Error: Not Found for url: https://query2.finance.yahoo.com/v10/finance/quoteSummary/WPPGF?modules=recommendationTrend&corsDomain=finance.yahoo.com&formatted=false&symbol=WPPGF&crumb=RvcHzk3Ziw6\n"
     ]
    },
    {
     "name": "stdout",
     "output_type": "stream",
     "text": [
      "https://finance.yahoo.com/quote/SINGF\n",
      "shortName not available for yfinance.Ticker object <CRSLF>\n",
      "https://finance.yahoo.com/quote/VIVEF\n",
      "https://finance.yahoo.com/quote/TDHOF\n"
     ]
    },
    {
     "name": "stderr",
     "output_type": "stream",
     "text": [
      "404 Client Error: Not Found for url: https://query2.finance.yahoo.com/v10/finance/quoteSummary/TDHOF?modules=recommendationTrend&corsDomain=finance.yahoo.com&formatted=false&symbol=TDHOF&crumb=RvcHzk3Ziw6\n"
     ]
    },
    {
     "name": "stdout",
     "output_type": "stream",
     "text": [
      "https://finance.yahoo.com/quote/UUGWF\n",
      "https://finance.yahoo.com/quote/PATH\n",
      "https://finance.yahoo.com/quote/HEI\n",
      "https://finance.yahoo.com/quote/BEN\n",
      "https://finance.yahoo.com/quote/CTTAF\n"
     ]
    },
    {
     "name": "stderr",
     "output_type": "stream",
     "text": [
      "404 Client Error: Not Found for url: https://query2.finance.yahoo.com/v10/finance/quoteSummary/CTTAF?modules=recommendationTrend&corsDomain=finance.yahoo.com&formatted=false&symbol=CTTAF&crumb=RvcHzk3Ziw6\n"
     ]
    },
    {
     "name": "stdout",
     "output_type": "stream",
     "text": [
      "https://finance.yahoo.com/quote/TOST\n",
      "https://finance.yahoo.com/quote/DINO\n",
      "https://finance.yahoo.com/quote/MTLHF\n"
     ]
    },
    {
     "name": "stderr",
     "output_type": "stream",
     "text": [
      "404 Client Error: Not Found for url: https://query2.finance.yahoo.com/v10/finance/quoteSummary/MTLHF?modules=recommendationTrend&corsDomain=finance.yahoo.com&formatted=false&symbol=MTLHF&crumb=RvcHzk3Ziw6\n"
     ]
    },
    {
     "name": "stdout",
     "output_type": "stream",
     "text": [
      "https://finance.yahoo.com/quote/BVRDF\n"
     ]
    },
    {
     "name": "stderr",
     "output_type": "stream",
     "text": [
      "BVRDF: No earnings dates found, symbol may be delisted\n",
      "404 Client Error: Not Found for url: https://query2.finance.yahoo.com/v10/finance/quoteSummary/BVRDF?modules=recommendationTrend&corsDomain=finance.yahoo.com&formatted=false&symbol=BVRDF&crumb=RvcHzk3Ziw6\n"
     ]
    },
    {
     "name": "stdout",
     "output_type": "stream",
     "text": [
      "https://finance.yahoo.com/quote/MDIBF\n"
     ]
    },
    {
     "name": "stderr",
     "output_type": "stream",
     "text": [
      "404 Client Error: Not Found for url: https://query2.finance.yahoo.com/v10/finance/quoteSummary/MDIBF?modules=recommendationTrend&corsDomain=finance.yahoo.com&formatted=false&symbol=MDIBF&crumb=RvcHzk3Ziw6\n"
     ]
    },
    {
     "name": "stdout",
     "output_type": "stream",
     "text": [
      "https://finance.yahoo.com/quote/BLHEF\n"
     ]
    },
    {
     "name": "stderr",
     "output_type": "stream",
     "text": [
      "BLHEF: No earnings dates found, symbol may be delisted\n",
      "404 Client Error: Not Found for url: https://query2.finance.yahoo.com/v10/finance/quoteSummary/BLHEF?modules=recommendationTrend&corsDomain=finance.yahoo.com&formatted=false&symbol=BLHEF&crumb=RvcHzk3Ziw6\n"
     ]
    },
    {
     "name": "stdout",
     "output_type": "stream",
     "text": [
      "https://finance.yahoo.com/quote/DSGX\n",
      "https://finance.yahoo.com/quote/MKTX\n",
      "https://finance.yahoo.com/quote/KIKOF\n"
     ]
    },
    {
     "name": "stderr",
     "output_type": "stream",
     "text": [
      "404 Client Error: Not Found for url: https://query2.finance.yahoo.com/v10/finance/quoteSummary/KIKOF?modules=recommendationTrend&corsDomain=finance.yahoo.com&formatted=false&symbol=KIKOF&crumb=RvcHzk3Ziw6\n"
     ]
    },
    {
     "name": "stdout",
     "output_type": "stream",
     "text": [
      "https://finance.yahoo.com/quote/GBLBF\n"
     ]
    },
    {
     "name": "stderr",
     "output_type": "stream",
     "text": [
      "404 Client Error: Not Found for url: https://query2.finance.yahoo.com/v10/finance/quoteSummary/GBLBF?modules=recommendationTrend&corsDomain=finance.yahoo.com&formatted=false&symbol=GBLBF&crumb=RvcHzk3Ziw6\n"
     ]
    },
    {
     "name": "stdout",
     "output_type": "stream",
     "text": [
      "https://finance.yahoo.com/quote/AFG\n",
      "https://finance.yahoo.com/quote/RKUNF\n"
     ]
    },
    {
     "name": "stderr",
     "output_type": "stream",
     "text": [
      "404 Client Error: Not Found for url: https://query2.finance.yahoo.com/v10/finance/quoteSummary/RKUNF?modules=recommendationTrend&corsDomain=finance.yahoo.com&formatted=false&symbol=RKUNF&crumb=RvcHzk3Ziw6\n"
     ]
    },
    {
     "name": "stdout",
     "output_type": "stream",
     "text": [
      "https://finance.yahoo.com/quote/SEIC\n",
      "https://finance.yahoo.com/quote/TNRSF\n"
     ]
    },
    {
     "name": "stderr",
     "output_type": "stream",
     "text": [
      "404 Client Error: Not Found for url: https://query2.finance.yahoo.com/v10/finance/quoteSummary/TNRSF?modules=recommendationTrend&corsDomain=finance.yahoo.com&formatted=false&symbol=TNRSF&crumb=RvcHzk3Ziw6\n"
     ]
    },
    {
     "name": "stdout",
     "output_type": "stream",
     "text": [
      "https://finance.yahoo.com/quote/LEA\n",
      "https://finance.yahoo.com/quote/SWPRF\n"
     ]
    },
    {
     "name": "stderr",
     "output_type": "stream",
     "text": [
      "404 Client Error: Not Found for url: https://query2.finance.yahoo.com/v10/finance/quoteSummary/SWPRF?modules=recommendationTrend&corsDomain=finance.yahoo.com&formatted=false&symbol=SWPRF&crumb=RvcHzk3Ziw6\n"
     ]
    },
    {
     "name": "stdout",
     "output_type": "stream",
     "text": [
      "https://finance.yahoo.com/quote/SVCBF\n"
     ]
    },
    {
     "name": "stderr",
     "output_type": "stream",
     "text": [
      "404 Client Error: Not Found for url: https://query2.finance.yahoo.com/v10/finance/quoteSummary/SVCBF?modules=recommendationTrend&corsDomain=finance.yahoo.com&formatted=false&symbol=SVCBF&crumb=RvcHzk3Ziw6\n"
     ]
    },
    {
     "name": "stdout",
     "output_type": "stream",
     "text": [
      "https://finance.yahoo.com/quote/SKUFF\n"
     ]
    },
    {
     "name": "stderr",
     "output_type": "stream",
     "text": [
      "404 Client Error: Not Found for url: https://query2.finance.yahoo.com/v10/finance/quoteSummary/SKUFF?modules=recommendationTrend&corsDomain=finance.yahoo.com&formatted=false&symbol=SKUFF&crumb=RvcHzk3Ziw6\n"
     ]
    },
    {
     "name": "stdout",
     "output_type": "stream",
     "text": [
      "https://finance.yahoo.com/quote/CCHBF\n"
     ]
    },
    {
     "name": "stderr",
     "output_type": "stream",
     "text": [
      "404 Client Error: Not Found for url: https://query2.finance.yahoo.com/v10/finance/quoteSummary/CCHBF?modules=recommendationTrend&corsDomain=finance.yahoo.com&formatted=false&symbol=CCHBF&crumb=RvcHzk3Ziw6\n"
     ]
    },
    {
     "name": "stdout",
     "output_type": "stream",
     "text": [
      "https://finance.yahoo.com/quote/KAJMF\n"
     ]
    },
    {
     "name": "stderr",
     "output_type": "stream",
     "text": [
      "404 Client Error: Not Found for url: https://query2.finance.yahoo.com/v10/finance/quoteSummary/KAJMF?modules=recommendationTrend&corsDomain=finance.yahoo.com&formatted=false&symbol=KAJMF&crumb=RvcHzk3Ziw6\n"
     ]
    },
    {
     "name": "stdout",
     "output_type": "stream",
     "text": [
      "https://finance.yahoo.com/quote/WTBCF\n"
     ]
    },
    {
     "name": "stderr",
     "output_type": "stream",
     "text": [
      "WTBCF: No earnings dates found, symbol may be delisted\n",
      "404 Client Error: Not Found for url: https://query2.finance.yahoo.com/v10/finance/quoteSummary/WTBCF?modules=recommendationTrend&corsDomain=finance.yahoo.com&formatted=false&symbol=WTBCF&crumb=RvcHzk3Ziw6\n"
     ]
    },
    {
     "name": "stdout",
     "output_type": "stream",
     "text": [
      "https://finance.yahoo.com/quote/WTRG\n",
      "https://finance.yahoo.com/quote/YAHOF\n"
     ]
    },
    {
     "name": "stderr",
     "output_type": "stream",
     "text": [
      "404 Client Error: Not Found for url: https://query2.finance.yahoo.com/v10/finance/quoteSummary/YAHOF?modules=recommendationTrend&corsDomain=finance.yahoo.com&formatted=false&symbol=YAHOF&crumb=RvcHzk3Ziw6\n"
     ]
    },
    {
     "name": "stdout",
     "output_type": "stream",
     "text": [
      "https://finance.yahoo.com/quote/COIHF\n"
     ]
    },
    {
     "name": "stderr",
     "output_type": "stream",
     "text": [
      "COIHF: No earnings dates found, symbol may be delisted\n",
      "404 Client Error: Not Found for url: https://query2.finance.yahoo.com/v10/finance/quoteSummary/COIHF?modules=recommendationTrend&corsDomain=finance.yahoo.com&formatted=false&symbol=COIHF&crumb=RvcHzk3Ziw6\n"
     ]
    },
    {
     "name": "stdout",
     "output_type": "stream",
     "text": [
      "https://finance.yahoo.com/quote/CHRW\n",
      "https://finance.yahoo.com/quote/MNBEF\n"
     ]
    },
    {
     "name": "stderr",
     "output_type": "stream",
     "text": [
      "404 Client Error: Not Found for url: https://query2.finance.yahoo.com/v10/finance/quoteSummary/MNBEF?modules=recommendationTrend&corsDomain=finance.yahoo.com&formatted=false&symbol=MNBEF&crumb=RvcHzk3Ziw6\n"
     ]
    },
    {
     "name": "stdout",
     "output_type": "stream",
     "text": [
      "https://finance.yahoo.com/quote/ASXFF\n"
     ]
    },
    {
     "name": "stderr",
     "output_type": "stream",
     "text": [
      "ASXFF: No earnings dates found, symbol may be delisted\n"
     ]
    },
    {
     "name": "stdout",
     "output_type": "stream",
     "text": [
      "https://finance.yahoo.com/quote/HGKGF\n"
     ]
    },
    {
     "name": "stderr",
     "output_type": "stream",
     "text": [
      "HGKGF: No earnings dates found, symbol may be delisted\n",
      "404 Client Error: Not Found for url: https://query2.finance.yahoo.com/v10/finance/quoteSummary/HGKGF?modules=recommendationTrend&corsDomain=finance.yahoo.com&formatted=false&symbol=HGKGF&crumb=RvcHzk3Ziw6\n"
     ]
    },
    {
     "name": "stdout",
     "output_type": "stream",
     "text": [
      "https://finance.yahoo.com/quote/ERFSF\n"
     ]
    },
    {
     "name": "stderr",
     "output_type": "stream",
     "text": [
      "404 Client Error: Not Found for url: https://query2.finance.yahoo.com/v10/finance/quoteSummary/ERFSF?modules=recommendationTrend&corsDomain=finance.yahoo.com&formatted=false&symbol=ERFSF&crumb=RvcHzk3Ziw6\n"
     ]
    },
    {
     "name": "stdout",
     "output_type": "stream",
     "text": [
      "https://finance.yahoo.com/quote/RNSDF\n"
     ]
    },
    {
     "name": "stderr",
     "output_type": "stream",
     "text": [
      "RNSDF: No earnings dates found, symbol may be delisted\n"
     ]
    },
    {
     "name": "stdout",
     "output_type": "stream",
     "text": [
      "https://finance.yahoo.com/quote/OSGSF\n"
     ]
    },
    {
     "name": "stderr",
     "output_type": "stream",
     "text": [
      "404 Client Error: Not Found for url: https://query2.finance.yahoo.com/v10/finance/quoteSummary/OSGSF?modules=recommendationTrend&corsDomain=finance.yahoo.com&formatted=false&symbol=OSGSF&crumb=RvcHzk3Ziw6\n"
     ]
    },
    {
     "name": "stdout",
     "output_type": "stream",
     "text": [
      "https://finance.yahoo.com/quote/POAHF\n"
     ]
    },
    {
     "name": "stderr",
     "output_type": "stream",
     "text": [
      "POAHF: No earnings dates found, symbol may be delisted\n",
      "404 Client Error: Not Found for url: https://query2.finance.yahoo.com/v10/finance/quoteSummary/POAHF?modules=recommendationTrend&corsDomain=finance.yahoo.com&formatted=false&symbol=POAHF&crumb=RvcHzk3Ziw6\n"
     ]
    },
    {
     "name": "stdout",
     "output_type": "stream",
     "text": [
      "https://finance.yahoo.com/quote/TONPF\n"
     ]
    },
    {
     "name": "stderr",
     "output_type": "stream",
     "text": [
      "404 Client Error: Not Found for url: https://query2.finance.yahoo.com/v10/finance/quoteSummary/TONPF?modules=recommendationTrend&corsDomain=finance.yahoo.com&formatted=false&symbol=TONPF&crumb=RvcHzk3Ziw6\n"
     ]
    },
    {
     "name": "stdout",
     "output_type": "stream",
     "text": [
      "https://finance.yahoo.com/quote/EUXTF\n"
     ]
    },
    {
     "name": "stderr",
     "output_type": "stream",
     "text": [
      "404 Client Error: Not Found for url: https://query2.finance.yahoo.com/v10/finance/quoteSummary/EUXTF?modules=recommendationTrend&corsDomain=finance.yahoo.com&formatted=false&symbol=EUXTF&crumb=RvcHzk3Ziw6\n"
     ]
    },
    {
     "name": "stdout",
     "output_type": "stream",
     "text": [
      "https://finance.yahoo.com/quote/NDRBF\n"
     ]
    },
    {
     "name": "stderr",
     "output_type": "stream",
     "text": [
      "404 Client Error: Not Found for url: https://query2.finance.yahoo.com/v10/finance/quoteSummary/NDRBF?modules=recommendationTrend&corsDomain=finance.yahoo.com&formatted=false&symbol=NDRBF&crumb=RvcHzk3Ziw6\n"
     ]
    },
    {
     "name": "stdout",
     "output_type": "stream",
     "text": [
      "https://finance.yahoo.com/quote/SMGKF\n",
      "https://finance.yahoo.com/quote/GLPEF\n",
      "https://finance.yahoo.com/quote/U\n",
      "https://finance.yahoo.com/quote/GFL\n",
      "https://finance.yahoo.com/quote/FMCQF\n"
     ]
    },
    {
     "name": "stderr",
     "output_type": "stream",
     "text": [
      "404 Client Error: Not Found for url: https://query2.finance.yahoo.com/v10/finance/quoteSummary/FMCQF?modules=recommendationTrend&corsDomain=finance.yahoo.com&formatted=false&symbol=FMCQF&crumb=RvcHzk3Ziw6\n"
     ]
    },
    {
     "name": "stdout",
     "output_type": "stream",
     "text": [
      "https://finance.yahoo.com/quote/SVTRF\n"
     ]
    },
    {
     "name": "stderr",
     "output_type": "stream",
     "text": [
      "SVTRF: No earnings dates found, symbol may be delisted\n",
      "404 Client Error: Not Found for url: https://query2.finance.yahoo.com/v10/finance/quoteSummary/SVTRF?modules=recommendationTrend&corsDomain=finance.yahoo.com&formatted=false&symbol=SVTRF&crumb=RvcHzk3Ziw6\n"
     ]
    },
    {
     "name": "stdout",
     "output_type": "stream",
     "text": [
      "https://finance.yahoo.com/quote/CCDBF\n"
     ]
    },
    {
     "name": "stderr",
     "output_type": "stream",
     "text": [
      "404 Client Error: Not Found for url: https://query2.finance.yahoo.com/v10/finance/quoteSummary/CCDBF?modules=recommendationTrend&corsDomain=finance.yahoo.com&formatted=false&symbol=CCDBF&crumb=RvcHzk3Ziw6\n"
     ]
    },
    {
     "name": "stdout",
     "output_type": "stream",
     "text": [
      "https://finance.yahoo.com/quote/SWGAF\n"
     ]
    },
    {
     "name": "stderr",
     "output_type": "stream",
     "text": [
      "SWGAF: No earnings dates found, symbol may be delisted\n",
      "404 Client Error: Not Found for url: https://query2.finance.yahoo.com/v10/finance/quoteSummary/SWGAF?modules=recommendationTrend&corsDomain=finance.yahoo.com&formatted=false&symbol=SWGAF&crumb=RvcHzk3Ziw6\n"
     ]
    },
    {
     "name": "stdout",
     "output_type": "stream",
     "text": [
      "https://finance.yahoo.com/quote/ACI\n",
      "https://finance.yahoo.com/quote/ELEEF\n"
     ]
    },
    {
     "name": "stderr",
     "output_type": "stream",
     "text": [
      "404 Client Error: Not Found for url: https://query2.finance.yahoo.com/v10/finance/quoteSummary/ELEEF?modules=recommendationTrend&corsDomain=finance.yahoo.com&formatted=false&symbol=ELEEF&crumb=RvcHzk3Ziw6\n"
     ]
    },
    {
     "name": "stdout",
     "output_type": "stream",
     "text": [
      "https://finance.yahoo.com/quote/MNODF\n"
     ]
    },
    {
     "name": "stderr",
     "output_type": "stream",
     "text": [
      "MNODF: No earnings dates found, symbol may be delisted\n"
     ]
    },
    {
     "name": "stdout",
     "output_type": "stream",
     "text": [
      "https://finance.yahoo.com/quote/BWA\n",
      "https://finance.yahoo.com/quote/NPCPF\n"
     ]
    },
    {
     "name": "stderr",
     "output_type": "stream",
     "text": [
      "404 Client Error: Not Found for url: https://query2.finance.yahoo.com/v10/finance/quoteSummary/NPCPF?modules=recommendationTrend&corsDomain=finance.yahoo.com&formatted=false&symbol=NPCPF&crumb=RvcHzk3Ziw6\n"
     ]
    },
    {
     "name": "stdout",
     "output_type": "stream",
     "text": [
      "https://finance.yahoo.com/quote/NEXOF\n"
     ]
    },
    {
     "name": "stderr",
     "output_type": "stream",
     "text": [
      "404 Client Error: Not Found for url: https://query2.finance.yahoo.com/v10/finance/quoteSummary/NEXOF?modules=recommendationTrend&corsDomain=finance.yahoo.com&formatted=false&symbol=NEXOF&crumb=RvcHzk3Ziw6\n"
     ]
    },
    {
     "name": "stdout",
     "output_type": "stream",
     "text": [
      "https://finance.yahoo.com/quote/WNGRF\n"
     ]
    },
    {
     "name": "stderr",
     "output_type": "stream",
     "text": [
      "404 Client Error: Not Found for url: https://query2.finance.yahoo.com/v10/finance/quoteSummary/WNGRF?modules=recommendationTrend&corsDomain=finance.yahoo.com&formatted=false&symbol=WNGRF&crumb=RvcHzk3Ziw6\n"
     ]
    },
    {
     "name": "stdout",
     "output_type": "stream",
     "text": [
      "https://finance.yahoo.com/quote/KPELF\n",
      "https://finance.yahoo.com/quote/TELNF\n"
     ]
    },
    {
     "name": "stderr",
     "output_type": "stream",
     "text": [
      "404 Client Error: Not Found for url: https://query2.finance.yahoo.com/v10/finance/quoteSummary/TELNF?modules=recommendationTrend&corsDomain=finance.yahoo.com&formatted=false&symbol=TELNF&crumb=RvcHzk3Ziw6\n"
     ]
    },
    {
     "name": "stdout",
     "output_type": "stream",
     "text": [
      "https://finance.yahoo.com/quote/TGVSF\n"
     ]
    },
    {
     "name": "stderr",
     "output_type": "stream",
     "text": [
      "404 Client Error: Not Found for url: https://query2.finance.yahoo.com/v10/finance/quoteSummary/TGVSF?modules=recommendationTrend&corsDomain=finance.yahoo.com&formatted=false&symbol=TGVSF&crumb=RvcHzk3Ziw6\n"
     ]
    },
    {
     "name": "stdout",
     "output_type": "stream",
     "text": [
      "https://finance.yahoo.com/quote/AKRBF\n"
     ]
    },
    {
     "name": "stderr",
     "output_type": "stream",
     "text": [
      "404 Client Error: Not Found for url: https://query2.finance.yahoo.com/v10/finance/quoteSummary/AKRBF?modules=recommendationTrend&corsDomain=finance.yahoo.com&formatted=false&symbol=AKRBF&crumb=RvcHzk3Ziw6\n"
     ]
    },
    {
     "name": "stdout",
     "output_type": "stream",
     "text": [
      "https://finance.yahoo.com/quote/LBRDK\n",
      "https://finance.yahoo.com/quote/TU\n",
      "https://finance.yahoo.com/quote/JARLF\n"
     ]
    },
    {
     "name": "stderr",
     "output_type": "stream",
     "text": [
      "JARLF: No earnings dates found, symbol may be delisted\n",
      "404 Client Error: Not Found for url: https://query2.finance.yahoo.com/v10/finance/quoteSummary/JARLF?modules=recommendationTrend&corsDomain=finance.yahoo.com&formatted=false&symbol=JARLF&crumb=RvcHzk3Ziw6\n"
     ]
    },
    {
     "name": "stdout",
     "output_type": "stream",
     "text": [
      "https://finance.yahoo.com/quote/WIX\n",
      "https://finance.yahoo.com/quote/NHYKF\n"
     ]
    },
    {
     "name": "stderr",
     "output_type": "stream",
     "text": [
      "404 Client Error: Not Found for url: https://query2.finance.yahoo.com/v10/finance/quoteSummary/NHYKF?modules=recommendationTrend&corsDomain=finance.yahoo.com&formatted=false&symbol=NHYKF&crumb=RvcHzk3Ziw6\n"
     ]
    },
    {
     "name": "stdout",
     "output_type": "stream",
     "text": [
      "https://finance.yahoo.com/quote/FMC\n",
      "https://finance.yahoo.com/quote/GRPTF\n"
     ]
    },
    {
     "name": "stderr",
     "output_type": "stream",
     "text": [
      "GRPTF: No earnings dates found, symbol may be delisted\n",
      "404 Client Error: Not Found for url: https://query2.finance.yahoo.com/v10/finance/quoteSummary/GRPTF?modules=recommendationTrend&corsDomain=finance.yahoo.com&formatted=false&symbol=GRPTF&crumb=RvcHzk3Ziw6\n"
     ]
    },
    {
     "name": "stdout",
     "output_type": "stream",
     "text": [
      "https://finance.yahoo.com/quote/TMTNF\n",
      "https://finance.yahoo.com/quote/WRTBF\n"
     ]
    },
    {
     "name": "stderr",
     "output_type": "stream",
     "text": [
      "404 Client Error: Not Found for url: https://query2.finance.yahoo.com/v10/finance/quoteSummary/WRTBF?modules=recommendationTrend&corsDomain=finance.yahoo.com&formatted=false&symbol=WRTBF&crumb=RvcHzk3Ziw6\n"
     ]
    },
    {
     "name": "stdout",
     "output_type": "stream",
     "text": [
      "https://finance.yahoo.com/quote/SDMHF\n"
     ]
    },
    {
     "name": "stderr",
     "output_type": "stream",
     "text": [
      "404 Client Error: Not Found for url: https://query2.finance.yahoo.com/v10/finance/quoteSummary/SDMHF?modules=recommendationTrend&corsDomain=finance.yahoo.com&formatted=false&symbol=SDMHF&crumb=RvcHzk3Ziw6\n"
     ]
    },
    {
     "name": "stdout",
     "output_type": "stream",
     "text": [
      "https://finance.yahoo.com/quote/BLSFF\n"
     ]
    },
    {
     "name": "stderr",
     "output_type": "stream",
     "text": [
      "BLSFF: No earnings dates found, symbol may be delisted\n",
      "404 Client Error: Not Found for url: https://query2.finance.yahoo.com/v10/finance/quoteSummary/BLSFF?modules=recommendationTrend&corsDomain=finance.yahoo.com&formatted=false&symbol=BLSFF&crumb=RvcHzk3Ziw6\n"
     ]
    },
    {
     "name": "stdout",
     "output_type": "stream",
     "text": [
      "https://finance.yahoo.com/quote/ISUZF\n"
     ]
    },
    {
     "name": "stderr",
     "output_type": "stream",
     "text": [
      "404 Client Error: Not Found for url: https://query2.finance.yahoo.com/v10/finance/quoteSummary/ISUZF?modules=recommendationTrend&corsDomain=finance.yahoo.com&formatted=false&symbol=ISUZF&crumb=RvcHzk3Ziw6\n"
     ]
    },
    {
     "name": "stdout",
     "output_type": "stream",
     "text": [
      "https://finance.yahoo.com/quote/GIL\n",
      "https://finance.yahoo.com/quote/DAIUF\n"
     ]
    },
    {
     "name": "stderr",
     "output_type": "stream",
     "text": [
      "404 Client Error: Not Found for url: https://query2.finance.yahoo.com/v10/finance/quoteSummary/DAIUF?modules=recommendationTrend&corsDomain=finance.yahoo.com&formatted=false&symbol=DAIUF&crumb=RvcHzk3Ziw6\n"
     ]
    },
    {
     "name": "stdout",
     "output_type": "stream",
     "text": [
      "shortName not available for yfinance.Ticker object <ASRRF>\n",
      "https://finance.yahoo.com/quote/ACRFF\n"
     ]
    },
    {
     "name": "stderr",
     "output_type": "stream",
     "text": [
      "ACRFF: No earnings dates found, symbol may be delisted\n"
     ]
    },
    {
     "name": "stdout",
     "output_type": "stream",
     "text": [
      "https://finance.yahoo.com/quote/ROKU\n",
      "https://finance.yahoo.com/quote/H\n",
      "https://finance.yahoo.com/quote/RIVN\n",
      "https://finance.yahoo.com/quote/BIO\n",
      "https://finance.yahoo.com/quote/DITTF\n"
     ]
    },
    {
     "name": "stderr",
     "output_type": "stream",
     "text": [
      "404 Client Error: Not Found for url: https://query2.finance.yahoo.com/v10/finance/quoteSummary/DITTF?modules=recommendationTrend&corsDomain=finance.yahoo.com&formatted=false&symbol=DITTF&crumb=RvcHzk3Ziw6\n"
     ]
    },
    {
     "name": "stdout",
     "output_type": "stream",
     "text": [
      "https://finance.yahoo.com/quote/LTRCF\n"
     ]
    },
    {
     "name": "stderr",
     "output_type": "stream",
     "text": [
      "LTRCF: No earnings dates found, symbol may be delisted\n",
      "404 Client Error: Not Found for url: https://query2.finance.yahoo.com/v10/finance/quoteSummary/LTRCF?modules=recommendationTrend&corsDomain=finance.yahoo.com&formatted=false&symbol=LTRCF&crumb=RvcHzk3Ziw6\n"
     ]
    },
    {
     "name": "stdout",
     "output_type": "stream",
     "text": [
      "https://finance.yahoo.com/quote/MALRF\n"
     ]
    },
    {
     "name": "stderr",
     "output_type": "stream",
     "text": [
      "MALRF: No earnings dates found, symbol may be delisted\n",
      "404 Client Error: Not Found for url: https://query2.finance.yahoo.com/v10/finance/quoteSummary/MALRF?modules=recommendationTrend&corsDomain=finance.yahoo.com&formatted=false&symbol=MALRF&crumb=RvcHzk3Ziw6\n"
     ]
    },
    {
     "name": "stdout",
     "output_type": "stream",
     "text": [
      "https://finance.yahoo.com/quote/SEOJF\n"
     ]
    },
    {
     "name": "stderr",
     "output_type": "stream",
     "text": [
      "404 Client Error: Not Found for url: https://query2.finance.yahoo.com/v10/finance/quoteSummary/SEOJF?modules=recommendationTrend&corsDomain=finance.yahoo.com&formatted=false&symbol=SEOJF&crumb=RvcHzk3Ziw6\n"
     ]
    },
    {
     "name": "stdout",
     "output_type": "stream",
     "text": [
      "https://finance.yahoo.com/quote/STKAF\n"
     ]
    },
    {
     "name": "stderr",
     "output_type": "stream",
     "text": [
      "STKAF: No earnings dates found, symbol may be delisted\n",
      "404 Client Error: Not Found for url: https://query2.finance.yahoo.com/v10/finance/quoteSummary/STKAF?modules=recommendationTrend&corsDomain=finance.yahoo.com&formatted=false&symbol=STKAF&crumb=RvcHzk3Ziw6\n"
     ]
    },
    {
     "name": "stdout",
     "output_type": "stream",
     "text": [
      "https://finance.yahoo.com/quote/DVDCF\n"
     ]
    },
    {
     "name": "stderr",
     "output_type": "stream",
     "text": [
      "404 Client Error: Not Found for url: https://query2.finance.yahoo.com/v10/finance/quoteSummary/DVDCF?modules=recommendationTrend&corsDomain=finance.yahoo.com&formatted=false&symbol=DVDCF&crumb=RvcHzk3Ziw6\n"
     ]
    },
    {
     "name": "stdout",
     "output_type": "stream",
     "text": [
      "https://finance.yahoo.com/quote/AGESF\n"
     ]
    },
    {
     "name": "stderr",
     "output_type": "stream",
     "text": [
      "404 Client Error: Not Found for url: https://query2.finance.yahoo.com/v10/finance/quoteSummary/AGESF?modules=recommendationTrend&corsDomain=finance.yahoo.com&formatted=false&symbol=AGESF&crumb=RvcHzk3Ziw6\n"
     ]
    },
    {
     "name": "stdout",
     "output_type": "stream",
     "text": [
      "https://finance.yahoo.com/quote/CCOEF\n"
     ]
    },
    {
     "name": "stderr",
     "output_type": "stream",
     "text": [
      "404 Client Error: Not Found for url: https://query2.finance.yahoo.com/v10/finance/quoteSummary/CCOEF?modules=recommendationTrend&corsDomain=finance.yahoo.com&formatted=false&symbol=CCOEF&crumb=RvcHzk3Ziw6\n"
     ]
    },
    {
     "name": "stdout",
     "output_type": "stream",
     "text": [
      "https://finance.yahoo.com/quote/TMXXF\n"
     ]
    },
    {
     "name": "stderr",
     "output_type": "stream",
     "text": [
      "404 Client Error: Not Found for url: https://query2.finance.yahoo.com/v10/finance/quoteSummary/TMXXF?modules=recommendationTrend&corsDomain=finance.yahoo.com&formatted=false&symbol=TMXXF&crumb=RvcHzk3Ziw6\n"
     ]
    },
    {
     "name": "stdout",
     "output_type": "stream",
     "text": [
      "https://finance.yahoo.com/quote/MGPUF\n"
     ]
    },
    {
     "name": "stderr",
     "output_type": "stream",
     "text": [
      "MGPUF: No earnings dates found, symbol may be delisted\n",
      "404 Client Error: Not Found for url: https://query2.finance.yahoo.com/v10/finance/quoteSummary/MGPUF?modules=recommendationTrend&corsDomain=finance.yahoo.com&formatted=false&symbol=MGPUF&crumb=RvcHzk3Ziw6\n"
     ]
    },
    {
     "name": "stdout",
     "output_type": "stream",
     "text": [
      "https://finance.yahoo.com/quote/TLPFF\n",
      "https://finance.yahoo.com/quote/WPLCF\n"
     ]
    },
    {
     "name": "stderr",
     "output_type": "stream",
     "text": [
      "404 Client Error: Not Found for url: https://query2.finance.yahoo.com/v10/finance/quoteSummary/WPLCF?modules=recommendationTrend&corsDomain=finance.yahoo.com&formatted=false&symbol=WPLCF&crumb=RvcHzk3Ziw6\n"
     ]
    },
    {
     "name": "stdout",
     "output_type": "stream",
     "text": [
      "https://finance.yahoo.com/quote/BNCZF\n",
      "https://finance.yahoo.com/quote/AHEXF\n",
      "https://finance.yahoo.com/quote/JAZZ\n",
      "https://finance.yahoo.com/quote/TRYIF\n"
     ]
    },
    {
     "name": "stderr",
     "output_type": "stream",
     "text": [
      "404 Client Error: Not Found for url: https://query2.finance.yahoo.com/v10/finance/quoteSummary/TRYIF?modules=recommendationTrend&corsDomain=finance.yahoo.com&formatted=false&symbol=TRYIF&crumb=RvcHzk3Ziw6\n"
     ]
    },
    {
     "name": "stdout",
     "output_type": "stream",
     "text": [
      "https://finance.yahoo.com/quote/OUKPF\n",
      "https://finance.yahoo.com/quote/DAL\n",
      "https://finance.yahoo.com/quote/AMKBF\n",
      "https://finance.yahoo.com/quote/HOOD\n",
      "https://finance.yahoo.com/quote/DNPCF\n"
     ]
    },
    {
     "name": "stderr",
     "output_type": "stream",
     "text": [
      "404 Client Error: Not Found for url: https://query2.finance.yahoo.com/v10/finance/quoteSummary/DNPCF?modules=recommendationTrend&corsDomain=finance.yahoo.com&formatted=false&symbol=DNPCF&crumb=RvcHzk3Ziw6\n"
     ]
    },
    {
     "name": "stdout",
     "output_type": "stream",
     "text": [
      "https://finance.yahoo.com/quote/ABMRF\n"
     ]
    },
    {
     "name": "stderr",
     "output_type": "stream",
     "text": [
      "404 Client Error: Not Found for url: https://query2.finance.yahoo.com/v10/finance/quoteSummary/ABMRF?modules=recommendationTrend&corsDomain=finance.yahoo.com&formatted=false&symbol=ABMRF&crumb=RvcHzk3Ziw6\n"
     ]
    },
    {
     "name": "stdout",
     "output_type": "stream",
     "text": [
      "https://finance.yahoo.com/quote/IDDWF\n"
     ]
    },
    {
     "name": "stderr",
     "output_type": "stream",
     "text": [
      "404 Client Error: Not Found for url: https://query2.finance.yahoo.com/v10/finance/quoteSummary/IDDWF?modules=recommendationTrend&corsDomain=finance.yahoo.com&formatted=false&symbol=IDDWF&crumb=RvcHzk3Ziw6\n"
     ]
    },
    {
     "name": "stdout",
     "output_type": "stream",
     "text": [
      "https://finance.yahoo.com/quote/HELKF\n"
     ]
    },
    {
     "name": "stderr",
     "output_type": "stream",
     "text": [
      "404 Client Error: Not Found for url: https://query2.finance.yahoo.com/v10/finance/quoteSummary/HELKF?modules=recommendationTrend&corsDomain=finance.yahoo.com&formatted=false&symbol=HELKF&crumb=RvcHzk3Ziw6\n"
     ]
    },
    {
     "name": "stdout",
     "output_type": "stream",
     "text": [
      "https://finance.yahoo.com/quote/RMSYF\n"
     ]
    },
    {
     "name": "stderr",
     "output_type": "stream",
     "text": [
      "RMSYF: No earnings dates found, symbol may be delisted\n",
      "404 Client Error: Not Found for url: https://query2.finance.yahoo.com/v10/finance/quoteSummary/RMSYF?modules=recommendationTrend&corsDomain=finance.yahoo.com&formatted=false&symbol=RMSYF&crumb=RvcHzk3Ziw6\n"
     ]
    },
    {
     "name": "stdout",
     "output_type": "stream",
     "text": [
      "https://finance.yahoo.com/quote/SDXOF\n"
     ]
    },
    {
     "name": "stderr",
     "output_type": "stream",
     "text": [
      "SDXOF: No earnings dates found, symbol may be delisted\n",
      "404 Client Error: Not Found for url: https://query2.finance.yahoo.com/v10/finance/quoteSummary/SDXOF?modules=recommendationTrend&corsDomain=finance.yahoo.com&formatted=false&symbol=SDXOF&crumb=RvcHzk3Ziw6\n"
     ]
    },
    {
     "name": "stdout",
     "output_type": "stream",
     "text": [
      "https://finance.yahoo.com/quote/RANJF\n"
     ]
    },
    {
     "name": "stderr",
     "output_type": "stream",
     "text": [
      "404 Client Error: Not Found for url: https://query2.finance.yahoo.com/v10/finance/quoteSummary/RANJF?modules=recommendationTrend&corsDomain=finance.yahoo.com&formatted=false&symbol=RANJF&crumb=RvcHzk3Ziw6\n"
     ]
    },
    {
     "name": "stdout",
     "output_type": "stream",
     "text": [
      "https://finance.yahoo.com/quote/MNDY\n",
      "https://finance.yahoo.com/quote/GMVHF\n"
     ]
    },
    {
     "name": "stderr",
     "output_type": "stream",
     "text": [
      "GMVHF: No earnings dates found, symbol may be delisted\n",
      "404 Client Error: Not Found for url: https://query2.finance.yahoo.com/v10/finance/quoteSummary/GMVHF?modules=recommendationTrend&corsDomain=finance.yahoo.com&formatted=false&symbol=GMVHF&crumb=RvcHzk3Ziw6\n"
     ]
    },
    {
     "name": "stdout",
     "output_type": "stream",
     "text": [
      "https://finance.yahoo.com/quote/PCTY\n",
      "https://finance.yahoo.com/quote/DCCPF\n"
     ]
    },
    {
     "name": "stderr",
     "output_type": "stream",
     "text": [
      "DCCPF: No earnings dates found, symbol may be delisted\n",
      "404 Client Error: Not Found for url: https://query2.finance.yahoo.com/v10/finance/quoteSummary/DCCPF?modules=recommendationTrend&corsDomain=finance.yahoo.com&formatted=false&symbol=DCCPF&crumb=RvcHzk3Ziw6\n"
     ]
    },
    {
     "name": "stdout",
     "output_type": "stream",
     "text": [
      "https://finance.yahoo.com/quote/WLK\n",
      "https://finance.yahoo.com/quote/KYKOF\n",
      "https://finance.yahoo.com/quote/JRONF\n"
     ]
    },
    {
     "name": "stderr",
     "output_type": "stream",
     "text": [
      "404 Client Error: Not Found for url: https://query2.finance.yahoo.com/v10/finance/quoteSummary/JRONF?modules=recommendationTrend&corsDomain=finance.yahoo.com&formatted=false&symbol=JRONF&crumb=RvcHzk3Ziw6\n"
     ]
    },
    {
     "name": "stdout",
     "output_type": "stream",
     "text": [
      "https://finance.yahoo.com/quote/TWODF\n"
     ]
    },
    {
     "name": "stderr",
     "output_type": "stream",
     "text": [
      "TWODF: No earnings dates found, symbol may be delisted\n",
      "404 Client Error: Not Found for url: https://query2.finance.yahoo.com/v10/finance/quoteSummary/TWODF?modules=recommendationTrend&corsDomain=finance.yahoo.com&formatted=false&symbol=TWODF&crumb=RvcHzk3Ziw6\n"
     ]
    },
    {
     "name": "stdout",
     "output_type": "stream",
     "text": [
      "https://finance.yahoo.com/quote/AIBRF\n"
     ]
    },
    {
     "name": "stderr",
     "output_type": "stream",
     "text": [
      "AIBRF: No earnings dates found, symbol may be delisted\n"
     ]
    },
    {
     "name": "stdout",
     "output_type": "stream",
     "text": [
      "https://finance.yahoo.com/quote/BLIDF\n"
     ]
    },
    {
     "name": "stderr",
     "output_type": "stream",
     "text": [
      "BLIDF: No earnings dates found, symbol may be delisted\n",
      "404 Client Error: Not Found for url: https://query2.finance.yahoo.com/v10/finance/quoteSummary/BLIDF?modules=recommendationTrend&corsDomain=finance.yahoo.com&formatted=false&symbol=BLIDF&crumb=RvcHzk3Ziw6\n"
     ]
    },
    {
     "name": "stdout",
     "output_type": "stream",
     "text": [
      "https://finance.yahoo.com/quote/YOKEF\n"
     ]
    },
    {
     "name": "stderr",
     "output_type": "stream",
     "text": [
      "404 Client Error: Not Found for url: https://query2.finance.yahoo.com/v10/finance/quoteSummary/YOKEF?modules=recommendationTrend&corsDomain=finance.yahoo.com&formatted=false&symbol=YOKEF&crumb=RvcHzk3Ziw6\n"
     ]
    },
    {
     "name": "stdout",
     "output_type": "stream",
     "text": [
      "https://finance.yahoo.com/quote/HAS\n",
      "https://finance.yahoo.com/quote/OPHLF\n",
      "https://finance.yahoo.com/quote/IAFNF\n"
     ]
    },
    {
     "name": "stderr",
     "output_type": "stream",
     "text": [
      "404 Client Error: Not Found for url: https://query2.finance.yahoo.com/v10/finance/quoteSummary/IAFNF?modules=recommendationTrend&corsDomain=finance.yahoo.com&formatted=false&symbol=IAFNF&crumb=RvcHzk3Ziw6\n"
     ]
    },
    {
     "name": "stdout",
     "output_type": "stream",
     "text": [
      "https://finance.yahoo.com/quote/TSRYF\n"
     ]
    },
    {
     "name": "stderr",
     "output_type": "stream",
     "text": [
      "TSRYF: No earnings dates found, symbol may be delisted\n",
      "404 Client Error: Not Found for url: https://query2.finance.yahoo.com/v10/finance/quoteSummary/TSRYF?modules=recommendationTrend&corsDomain=finance.yahoo.com&formatted=false&symbol=TSRYF&crumb=RvcHzk3Ziw6\n"
     ]
    },
    {
     "name": "stdout",
     "output_type": "stream",
     "text": [
      "https://finance.yahoo.com/quote/RPGRF\n"
     ]
    },
    {
     "name": "stderr",
     "output_type": "stream",
     "text": [
      "RPGRF: No earnings dates found, symbol may be delisted\n",
      "404 Client Error: Not Found for url: https://query2.finance.yahoo.com/v10/finance/quoteSummary/RPGRF?modules=recommendationTrend&corsDomain=finance.yahoo.com&formatted=false&symbol=RPGRF&crumb=RvcHzk3Ziw6\n"
     ]
    },
    {
     "name": "stdout",
     "output_type": "stream",
     "text": [
      "https://finance.yahoo.com/quote/STMNF\n"
     ]
    },
    {
     "name": "stderr",
     "output_type": "stream",
     "text": [
      "404 Client Error: Not Found for url: https://query2.finance.yahoo.com/v10/finance/quoteSummary/STMNF?modules=recommendationTrend&corsDomain=finance.yahoo.com&formatted=false&symbol=STMNF&crumb=RvcHzk3Ziw6\n"
     ]
    },
    {
     "name": "stdout",
     "output_type": "stream",
     "text": [
      "https://finance.yahoo.com/quote/SCOTF\n"
     ]
    },
    {
     "name": "stderr",
     "output_type": "stream",
     "text": [
      "404 Client Error: Not Found for url: https://query2.finance.yahoo.com/v10/finance/quoteSummary/SCOTF?modules=recommendationTrend&corsDomain=finance.yahoo.com&formatted=false&symbol=SCOTF&crumb=RvcHzk3Ziw6\n"
     ]
    },
    {
     "name": "stdout",
     "output_type": "stream",
     "text": [
      "https://finance.yahoo.com/quote/SGGKF\n"
     ]
    },
    {
     "name": "stderr",
     "output_type": "stream",
     "text": [
      "404 Client Error: Not Found for url: https://query2.finance.yahoo.com/v10/finance/quoteSummary/SGGKF?modules=recommendationTrend&corsDomain=finance.yahoo.com&formatted=false&symbol=SGGKF&crumb=RvcHzk3Ziw6\n"
     ]
    },
    {
     "name": "stdout",
     "output_type": "stream",
     "text": [
      "https://finance.yahoo.com/quote/SHBBF\n"
     ]
    },
    {
     "name": "stderr",
     "output_type": "stream",
     "text": [
      "SHBBF: No earnings dates found, symbol may be delisted\n",
      "404 Client Error: Not Found for url: https://query2.finance.yahoo.com/v10/finance/quoteSummary/SHBBF?modules=recommendationTrend&corsDomain=finance.yahoo.com&formatted=false&symbol=SHBBF&crumb=RvcHzk3Ziw6\n"
     ]
    },
    {
     "name": "stdout",
     "output_type": "stream",
     "text": [
      "https://finance.yahoo.com/quote/DVA\n",
      "https://finance.yahoo.com/quote/IVPAF\n"
     ]
    },
    {
     "name": "stderr",
     "output_type": "stream",
     "text": [
      "404 Client Error: Not Found for url: https://query2.finance.yahoo.com/v10/finance/quoteSummary/IVPAF?modules=recommendationTrend&corsDomain=finance.yahoo.com&formatted=false&symbol=IVPAF&crumb=RvcHzk3Ziw6\n"
     ]
    },
    {
     "name": "stdout",
     "output_type": "stream",
     "text": [
      "https://finance.yahoo.com/quote/FSV\n",
      "https://finance.yahoo.com/quote/SITIF\n"
     ]
    },
    {
     "name": "stderr",
     "output_type": "stream",
     "text": [
      "404 Client Error: Not Found for url: https://query2.finance.yahoo.com/v10/finance/quoteSummary/SITIF?modules=recommendationTrend&corsDomain=finance.yahoo.com&formatted=false&symbol=SITIF&crumb=RvcHzk3Ziw6\n"
     ]
    },
    {
     "name": "stdout",
     "output_type": "stream",
     "text": [
      "https://finance.yahoo.com/quote/MDBPF\n"
     ]
    },
    {
     "name": "stderr",
     "output_type": "stream",
     "text": [
      "MDBPF: No earnings dates found, symbol may be delisted\n",
      "404 Client Error: Not Found for url: https://query2.finance.yahoo.com/v10/finance/quoteSummary/MDBPF?modules=recommendationTrend&corsDomain=finance.yahoo.com&formatted=false&symbol=MDBPF&crumb=RvcHzk3Ziw6\n"
     ]
    },
    {
     "name": "stdout",
     "output_type": "stream",
     "text": [
      "https://finance.yahoo.com/quote/BBRYF\n"
     ]
    },
    {
     "name": "stderr",
     "output_type": "stream",
     "text": [
      "BBRYF: No earnings dates found, symbol may be delisted\n"
     ]
    },
    {
     "name": "stdout",
     "output_type": "stream",
     "text": [
      "https://finance.yahoo.com/quote/DAR\n",
      "https://finance.yahoo.com/quote/EPIPF\n"
     ]
    },
    {
     "name": "stderr",
     "output_type": "stream",
     "text": [
      "404 Client Error: Not Found for url: https://query2.finance.yahoo.com/v10/finance/quoteSummary/EPIPF?modules=recommendationTrend&corsDomain=finance.yahoo.com&formatted=false&symbol=EPIPF&crumb=RvcHzk3Ziw6\n"
     ]
    },
    {
     "name": "stdout",
     "output_type": "stream",
     "text": [
      "https://finance.yahoo.com/quote/OMVJF\n"
     ]
    },
    {
     "name": "stderr",
     "output_type": "stream",
     "text": [
      "404 Client Error: Not Found for url: https://query2.finance.yahoo.com/v10/finance/quoteSummary/OMVJF?modules=recommendationTrend&corsDomain=finance.yahoo.com&formatted=false&symbol=OMVJF&crumb=RvcHzk3Ziw6\n"
     ]
    },
    {
     "name": "stdout",
     "output_type": "stream",
     "text": [
      "https://finance.yahoo.com/quote/SAABF\n"
     ]
    },
    {
     "name": "stderr",
     "output_type": "stream",
     "text": [
      "404 Client Error: Not Found for url: https://query2.finance.yahoo.com/v10/finance/quoteSummary/SAABF?modules=recommendationTrend&corsDomain=finance.yahoo.com&formatted=false&symbol=SAABF&crumb=RvcHzk3Ziw6\n"
     ]
    },
    {
     "name": "stdout",
     "output_type": "stream",
     "text": [
      "https://finance.yahoo.com/quote/TLSNF\n",
      "https://finance.yahoo.com/quote/MTHRF\n"
     ]
    },
    {
     "name": "stderr",
     "output_type": "stream",
     "text": [
      "404 Client Error: Not Found for url: https://query2.finance.yahoo.com/v10/finance/quoteSummary/MTHRF?modules=recommendationTrend&corsDomain=finance.yahoo.com&formatted=false&symbol=MTHRF&crumb=RvcHzk3Ziw6\n"
     ]
    },
    {
     "name": "stdout",
     "output_type": "stream",
     "text": [
      "https://finance.yahoo.com/quote/NBFJF\n"
     ]
    },
    {
     "name": "stderr",
     "output_type": "stream",
     "text": [
      "NBFJF: No earnings dates found, symbol may be delisted\n",
      "404 Client Error: Not Found for url: https://query2.finance.yahoo.com/v10/finance/quoteSummary/NBFJF?modules=recommendationTrend&corsDomain=finance.yahoo.com&formatted=false&symbol=NBFJF&crumb=RvcHzk3Ziw6\n"
     ]
    },
    {
     "name": "stdout",
     "output_type": "stream",
     "text": [
      "https://finance.yahoo.com/quote/FELTF\n",
      "https://finance.yahoo.com/quote/ELMUF\n"
     ]
    },
    {
     "name": "stderr",
     "output_type": "stream",
     "text": [
      "404 Client Error: Not Found for url: https://query2.finance.yahoo.com/v10/finance/quoteSummary/ELMUF?modules=recommendationTrend&corsDomain=finance.yahoo.com&formatted=false&symbol=ELMUF&crumb=RvcHzk3Ziw6\n"
     ]
    },
    {
     "name": "stdout",
     "output_type": "stream",
     "text": [
      "https://finance.yahoo.com/quote/KAKKF\n"
     ]
    },
    {
     "name": "stderr",
     "output_type": "stream",
     "text": [
      "404 Client Error: Not Found for url: https://query2.finance.yahoo.com/v10/finance/quoteSummary/KAKKF?modules=recommendationTrend&corsDomain=finance.yahoo.com&formatted=false&symbol=KAKKF&crumb=RvcHzk3Ziw6\n"
     ]
    },
    {
     "name": "stdout",
     "output_type": "stream",
     "text": [
      "https://finance.yahoo.com/quote/IDKOF\n"
     ]
    },
    {
     "name": "stderr",
     "output_type": "stream",
     "text": [
      "404 Client Error: Not Found for url: https://query2.finance.yahoo.com/v10/finance/quoteSummary/IDKOF?modules=recommendationTrend&corsDomain=finance.yahoo.com&formatted=false&symbol=IDKOF&crumb=RvcHzk3Ziw6\n"
     ]
    },
    {
     "name": "stdout",
     "output_type": "stream",
     "text": [
      "https://finance.yahoo.com/quote/BYMOF\n"
     ]
    },
    {
     "name": "stderr",
     "output_type": "stream",
     "text": [
      "404 Client Error: Not Found for url: https://query2.finance.yahoo.com/v10/finance/quoteSummary/BYMOF?modules=recommendationTrend&corsDomain=finance.yahoo.com&formatted=false&symbol=BYMOF&crumb=RvcHzk3Ziw6\n"
     ]
    },
    {
     "name": "stdout",
     "output_type": "stream",
     "text": [
      "https://finance.yahoo.com/quote/SKSBF\n"
     ]
    },
    {
     "name": "stderr",
     "output_type": "stream",
     "text": [
      "404 Client Error: Not Found for url: https://query2.finance.yahoo.com/v10/finance/quoteSummary/SKSBF?modules=recommendationTrend&corsDomain=finance.yahoo.com&formatted=false&symbol=SKSBF&crumb=RvcHzk3Ziw6\n"
     ]
    },
    {
     "name": "stdout",
     "output_type": "stream",
     "text": [
      "https://finance.yahoo.com/quote/KGC\n",
      "https://finance.yahoo.com/quote/LFABF\n"
     ]
    },
    {
     "name": "stderr",
     "output_type": "stream",
     "text": [
      "LFABF: No earnings dates found, symbol may be delisted\n",
      "404 Client Error: Not Found for url: https://query2.finance.yahoo.com/v10/finance/quoteSummary/LFABF?modules=recommendationTrend&corsDomain=finance.yahoo.com&formatted=false&symbol=LFABF&crumb=RvcHzk3Ziw6\n"
     ]
    },
    {
     "name": "stdout",
     "output_type": "stream",
     "text": [
      "https://finance.yahoo.com/quote/MEGEF\n"
     ]
    },
    {
     "name": "stderr",
     "output_type": "stream",
     "text": [
      "404 Client Error: Not Found for url: https://query2.finance.yahoo.com/v10/finance/quoteSummary/MEGEF?modules=recommendationTrend&corsDomain=finance.yahoo.com&formatted=false&symbol=MEGEF&crumb=RvcHzk3Ziw6\n"
     ]
    },
    {
     "name": "stdout",
     "output_type": "stream",
     "text": [
      "https://finance.yahoo.com/quote/APAJF\n"
     ]
    },
    {
     "name": "stderr",
     "output_type": "stream",
     "text": [
      "APAJF: No earnings dates found, symbol may be delisted\n",
      "404 Client Error: Not Found for url: https://query2.finance.yahoo.com/v10/finance/quoteSummary/APAJF?modules=recommendationTrend&corsDomain=finance.yahoo.com&formatted=false&symbol=APAJF&crumb=RvcHzk3Ziw6\n"
     ]
    },
    {
     "name": "stdout",
     "output_type": "stream",
     "text": [
      "https://finance.yahoo.com/quote/ARKAF\n"
     ]
    },
    {
     "name": "stderr",
     "output_type": "stream",
     "text": [
      "404 Client Error: Not Found for url: https://query2.finance.yahoo.com/v10/finance/quoteSummary/ARKAF?modules=recommendationTrend&corsDomain=finance.yahoo.com&formatted=false&symbol=ARKAF&crumb=RvcHzk3Ziw6\n"
     ]
    },
    {
     "name": "stdout",
     "output_type": "stream",
     "text": [
      "https://finance.yahoo.com/quote/ACKDF\n"
     ]
    },
    {
     "name": "stderr",
     "output_type": "stream",
     "text": [
      "ACKDF: No earnings dates found, symbol may be delisted\n",
      "404 Client Error: Not Found for url: https://query2.finance.yahoo.com/v10/finance/quoteSummary/ACKDF?modules=recommendationTrend&corsDomain=finance.yahoo.com&formatted=false&symbol=ACKDF&crumb=RvcHzk3Ziw6\n"
     ]
    },
    {
     "name": "stdout",
     "output_type": "stream",
     "text": [
      "https://finance.yahoo.com/quote/ROHCF\n"
     ]
    },
    {
     "name": "stderr",
     "output_type": "stream",
     "text": [
      "404 Client Error: Not Found for url: https://query2.finance.yahoo.com/v10/finance/quoteSummary/ROHCF?modules=recommendationTrend&corsDomain=finance.yahoo.com&formatted=false&symbol=ROHCF&crumb=RvcHzk3Ziw6\n"
     ]
    },
    {
     "name": "stdout",
     "output_type": "stream",
     "text": [
      "https://finance.yahoo.com/quote/GEAGF\n",
      "https://finance.yahoo.com/quote/PITAF\n"
     ]
    },
    {
     "name": "stderr",
     "output_type": "stream",
     "text": [
      "404 Client Error: Not Found for url: https://query2.finance.yahoo.com/v10/finance/quoteSummary/PITAF?modules=recommendationTrend&corsDomain=finance.yahoo.com&formatted=false&symbol=PITAF&crumb=RvcHzk3Ziw6\n"
     ]
    },
    {
     "name": "stdout",
     "output_type": "stream",
     "text": [
      "https://finance.yahoo.com/quote/CTXAF\n"
     ]
    },
    {
     "name": "stderr",
     "output_type": "stream",
     "text": [
      "CTXAF: No earnings dates found, symbol may be delisted\n",
      "404 Client Error: Not Found for url: https://query2.finance.yahoo.com/v10/finance/quoteSummary/CTXAF?modules=recommendationTrend&corsDomain=finance.yahoo.com&formatted=false&symbol=CTXAF&crumb=RvcHzk3Ziw6\n"
     ]
    },
    {
     "name": "stdout",
     "output_type": "stream",
     "text": [
      "https://finance.yahoo.com/quote/BOIVF\n"
     ]
    },
    {
     "name": "stderr",
     "output_type": "stream",
     "text": [
      "404 Client Error: Not Found for url: https://query2.finance.yahoo.com/v10/finance/quoteSummary/BOIVF?modules=recommendationTrend&corsDomain=finance.yahoo.com&formatted=false&symbol=BOIVF&crumb=RvcHzk3Ziw6\n"
     ]
    },
    {
     "name": "stdout",
     "output_type": "stream",
     "text": [
      "https://finance.yahoo.com/quote/SCHYF\n"
     ]
    },
    {
     "name": "stderr",
     "output_type": "stream",
     "text": [
      "404 Client Error: Not Found for url: https://query2.finance.yahoo.com/v10/finance/quoteSummary/SCHYF?modules=recommendationTrend&corsDomain=finance.yahoo.com&formatted=false&symbol=SCHYF&crumb=RvcHzk3Ziw6\n"
     ]
    },
    {
     "name": "stdout",
     "output_type": "stream",
     "text": [
      "https://finance.yahoo.com/quote/BILL\n",
      "https://finance.yahoo.com/quote/KGFHF\n"
     ]
    },
    {
     "name": "stderr",
     "output_type": "stream",
     "text": [
      "KGFHF: No earnings dates found, symbol may be delisted\n",
      "404 Client Error: Not Found for url: https://query2.finance.yahoo.com/v10/finance/quoteSummary/KGFHF?modules=recommendationTrend&corsDomain=finance.yahoo.com&formatted=false&symbol=KGFHF&crumb=RvcHzk3Ziw6\n"
     ]
    },
    {
     "name": "stdout",
     "output_type": "stream",
     "text": [
      "https://finance.yahoo.com/quote/TISNF\n"
     ]
    },
    {
     "name": "stderr",
     "output_type": "stream",
     "text": [
      "404 Client Error: Not Found for url: https://query2.finance.yahoo.com/v10/finance/quoteSummary/TISNF?modules=recommendationTrend&corsDomain=finance.yahoo.com&formatted=false&symbol=TISNF&crumb=RvcHzk3Ziw6\n"
     ]
    },
    {
     "name": "stdout",
     "output_type": "stream",
     "text": [
      "https://finance.yahoo.com/quote/IOT\n",
      "https://finance.yahoo.com/quote/KELRF\n"
     ]
    },
    {
     "name": "stderr",
     "output_type": "stream",
     "text": [
      "404 Client Error: Not Found for url: https://query2.finance.yahoo.com/v10/finance/quoteSummary/KELRF?modules=recommendationTrend&corsDomain=finance.yahoo.com&formatted=false&symbol=KELRF&crumb=RvcHzk3Ziw6\n"
     ]
    },
    {
     "name": "stdout",
     "output_type": "stream",
     "text": [
      "https://finance.yahoo.com/quote/ATGFF\n"
     ]
    },
    {
     "name": "stderr",
     "output_type": "stream",
     "text": [
      "404 Client Error: Not Found for url: https://query2.finance.yahoo.com/v10/finance/quoteSummary/ATGFF?modules=recommendationTrend&corsDomain=finance.yahoo.com&formatted=false&symbol=ATGFF&crumb=RvcHzk3Ziw6\n"
     ]
    },
    {
     "name": "stdout",
     "output_type": "stream",
     "text": [
      "https://finance.yahoo.com/quote/MZDAF\n",
      "https://finance.yahoo.com/quote/MTRJF\n"
     ]
    },
    {
     "name": "stderr",
     "output_type": "stream",
     "text": [
      "MTRJF: No earnings dates found, symbol may be delisted\n",
      "404 Client Error: Not Found for url: https://query2.finance.yahoo.com/v10/finance/quoteSummary/MTRJF?modules=recommendationTrend&corsDomain=finance.yahoo.com&formatted=false&symbol=MTRJF&crumb=RvcHzk3Ziw6\n"
     ]
    },
    {
     "name": "stdout",
     "output_type": "stream",
     "text": [
      "https://finance.yahoo.com/quote/ISDAF\n"
     ]
    },
    {
     "name": "stderr",
     "output_type": "stream",
     "text": [
      "404 Client Error: Not Found for url: https://query2.finance.yahoo.com/v10/finance/quoteSummary/ISDAF?modules=recommendationTrend&corsDomain=finance.yahoo.com&formatted=false&symbol=ISDAF&crumb=RvcHzk3Ziw6\n"
     ]
    },
    {
     "name": "stdout",
     "output_type": "stream",
     "text": [
      "https://finance.yahoo.com/quote/MSMKF\n"
     ]
    },
    {
     "name": "stderr",
     "output_type": "stream",
     "text": [
      "404 Client Error: Not Found for url: https://query2.finance.yahoo.com/v10/finance/quoteSummary/MSMKF?modules=recommendationTrend&corsDomain=finance.yahoo.com&formatted=false&symbol=MSMKF&crumb=RvcHzk3Ziw6\n"
     ]
    },
    {
     "name": "stdout",
     "output_type": "stream",
     "text": [
      "https://finance.yahoo.com/quote/NFPDF\n"
     ]
    },
    {
     "name": "stderr",
     "output_type": "stream",
     "text": [
      "404 Client Error: Not Found for url: https://query2.finance.yahoo.com/v10/finance/quoteSummary/NFPDF?modules=recommendationTrend&corsDomain=finance.yahoo.com&formatted=false&symbol=NFPDF&crumb=RvcHzk3Ziw6\n"
     ]
    },
    {
     "name": "stdout",
     "output_type": "stream",
     "text": [
      "https://finance.yahoo.com/quote/SAGXF\n"
     ]
    },
    {
     "name": "stderr",
     "output_type": "stream",
     "text": [
      "404 Client Error: Not Found for url: https://query2.finance.yahoo.com/v10/finance/quoteSummary/SAGXF?modules=recommendationTrend&corsDomain=finance.yahoo.com&formatted=false&symbol=SAGXF&crumb=RvcHzk3Ziw6\n"
     ]
    },
    {
     "name": "stdout",
     "output_type": "stream",
     "text": [
      "https://finance.yahoo.com/quote/MIUFF\n"
     ]
    },
    {
     "name": "stderr",
     "output_type": "stream",
     "text": [
      "404 Client Error: Not Found for url: https://query2.finance.yahoo.com/v10/finance/quoteSummary/MIUFF?modules=recommendationTrend&corsDomain=finance.yahoo.com&formatted=false&symbol=MIUFF&crumb=RvcHzk3Ziw6\n"
     ]
    },
    {
     "name": "stdout",
     "output_type": "stream",
     "text": [
      "https://finance.yahoo.com/quote/CAE\n",
      "https://finance.yahoo.com/quote/ASGLF\n"
     ]
    },
    {
     "name": "stderr",
     "output_type": "stream",
     "text": [
      "404 Client Error: Not Found for url: https://query2.finance.yahoo.com/v10/finance/quoteSummary/ASGLF?modules=recommendationTrend&corsDomain=finance.yahoo.com&formatted=false&symbol=ASGLF&crumb=RvcHzk3Ziw6\n"
     ]
    },
    {
     "name": "stdout",
     "output_type": "stream",
     "text": [
      "https://finance.yahoo.com/quote/TOKUF\n"
     ]
    },
    {
     "name": "stderr",
     "output_type": "stream",
     "text": [
      "404 Client Error: Not Found for url: https://query2.finance.yahoo.com/v10/finance/quoteSummary/TOKUF?modules=recommendationTrend&corsDomain=finance.yahoo.com&formatted=false&symbol=TOKUF&crumb=RvcHzk3Ziw6\n"
     ]
    },
    {
     "name": "stdout",
     "output_type": "stream",
     "text": [
      "https://finance.yahoo.com/quote/KNAMF\n"
     ]
    },
    {
     "name": "stderr",
     "output_type": "stream",
     "text": [
      "404 Client Error: Not Found for url: https://query2.finance.yahoo.com/v10/finance/quoteSummary/KNAMF?modules=recommendationTrend&corsDomain=finance.yahoo.com&formatted=false&symbol=KNAMF&crumb=RvcHzk3Ziw6\n"
     ]
    },
    {
     "name": "stdout",
     "output_type": "stream",
     "text": [
      "https://finance.yahoo.com/quote/SUMCF\n"
     ]
    },
    {
     "name": "stderr",
     "output_type": "stream",
     "text": [
      "404 Client Error: Not Found for url: https://query2.finance.yahoo.com/v10/finance/quoteSummary/SUMCF?modules=recommendationTrend&corsDomain=finance.yahoo.com&formatted=false&symbol=SUMCF&crumb=RvcHzk3Ziw6\n"
     ]
    },
    {
     "name": "stdout",
     "output_type": "stream",
     "text": [
      "https://finance.yahoo.com/quote/RXLSF\n"
     ]
    },
    {
     "name": "stderr",
     "output_type": "stream",
     "text": [
      "404 Client Error: Not Found for url: https://query2.finance.yahoo.com/v10/finance/quoteSummary/RXLSF?modules=recommendationTrend&corsDomain=finance.yahoo.com&formatted=false&symbol=RXLSF&crumb=RvcHzk3Ziw6\n"
     ]
    },
    {
     "name": "stdout",
     "output_type": "stream",
     "text": [
      "https://finance.yahoo.com/quote/TISCF\n"
     ]
    },
    {
     "name": "stderr",
     "output_type": "stream",
     "text": [
      "404 Client Error: Not Found for url: https://query2.finance.yahoo.com/v10/finance/quoteSummary/TISCF?modules=recommendationTrend&corsDomain=finance.yahoo.com&formatted=false&symbol=TISCF&crumb=RvcHzk3Ziw6\n"
     ]
    },
    {
     "name": "stdout",
     "output_type": "stream",
     "text": [
      "https://finance.yahoo.com/quote/BTDPF\n"
     ]
    },
    {
     "name": "stderr",
     "output_type": "stream",
     "text": [
      "BTDPF: No earnings dates found, symbol may be delisted\n",
      "404 Client Error: Not Found for url: https://query2.finance.yahoo.com/v10/finance/quoteSummary/BTDPF?modules=recommendationTrend&corsDomain=finance.yahoo.com&formatted=false&symbol=BTDPF&crumb=RvcHzk3Ziw6\n"
     ]
    },
    {
     "name": "stdout",
     "output_type": "stream",
     "text": [
      "https://finance.yahoo.com/quote/ESLT\n",
      "https://finance.yahoo.com/quote/CDNAF\n"
     ]
    },
    {
     "name": "stderr",
     "output_type": "stream",
     "text": [
      "404 Client Error: Not Found for url: https://query2.finance.yahoo.com/v10/finance/quoteSummary/CDNAF?modules=recommendationTrend&corsDomain=finance.yahoo.com&formatted=false&symbol=CDNAF&crumb=RvcHzk3Ziw6\n"
     ]
    },
    {
     "name": "stdout",
     "output_type": "stream",
     "text": [
      "https://finance.yahoo.com/quote/MKEWF\n"
     ]
    },
    {
     "name": "stderr",
     "output_type": "stream",
     "text": [
      "404 Client Error: Not Found for url: https://query2.finance.yahoo.com/v10/finance/quoteSummary/MKEWF?modules=recommendationTrend&corsDomain=finance.yahoo.com&formatted=false&symbol=MKEWF&crumb=RvcHzk3Ziw6\n"
     ]
    },
    {
     "name": "stdout",
     "output_type": "stream",
     "text": [
      "https://finance.yahoo.com/quote/SCBGF\n"
     ]
    },
    {
     "name": "stderr",
     "output_type": "stream",
     "text": [
      "404 Client Error: Not Found for url: https://query2.finance.yahoo.com/v10/finance/quoteSummary/SCBGF?modules=recommendationTrend&corsDomain=finance.yahoo.com&formatted=false&symbol=SCBGF&crumb=RvcHzk3Ziw6\n"
     ]
    },
    {
     "name": "stdout",
     "output_type": "stream",
     "text": [
      "https://finance.yahoo.com/quote/YKLTF\n"
     ]
    },
    {
     "name": "stderr",
     "output_type": "stream",
     "text": [
      "404 Client Error: Not Found for url: https://query2.finance.yahoo.com/v10/finance/quoteSummary/YKLTF?modules=recommendationTrend&corsDomain=finance.yahoo.com&formatted=false&symbol=YKLTF&crumb=RvcHzk3Ziw6\n"
     ]
    },
    {
     "name": "stdout",
     "output_type": "stream",
     "text": [
      "https://finance.yahoo.com/quote/TMNSF\n",
      "https://finance.yahoo.com/quote/RCDTF\n"
     ]
    },
    {
     "name": "stderr",
     "output_type": "stream",
     "text": [
      "404 Client Error: Not Found for url: https://query2.finance.yahoo.com/v10/finance/quoteSummary/RCDTF?modules=recommendationTrend&corsDomain=finance.yahoo.com&formatted=false&symbol=RCDTF&crumb=RvcHzk3Ziw6\n"
     ]
    },
    {
     "name": "stdout",
     "output_type": "stream",
     "text": [
      "https://finance.yahoo.com/quote/TYNPF\n"
     ]
    },
    {
     "name": "stderr",
     "output_type": "stream",
     "text": [
      "404 Client Error: Not Found for url: https://query2.finance.yahoo.com/v10/finance/quoteSummary/TYNPF?modules=recommendationTrend&corsDomain=finance.yahoo.com&formatted=false&symbol=TYNPF&crumb=RvcHzk3Ziw6\n"
     ]
    },
    {
     "name": "stdout",
     "output_type": "stream",
     "text": [
      "https://finance.yahoo.com/quote/NZTCF\n"
     ]
    },
    {
     "name": "stderr",
     "output_type": "stream",
     "text": [
      "NZTCF: No earnings dates found, symbol may be delisted\n",
      "404 Client Error: Not Found for url: https://query2.finance.yahoo.com/v10/finance/quoteSummary/NZTCF?modules=recommendationTrend&corsDomain=finance.yahoo.com&formatted=false&symbol=NZTCF&crumb=RvcHzk3Ziw6\n"
     ]
    },
    {
     "name": "stdout",
     "output_type": "stream",
     "text": [
      "https://finance.yahoo.com/quote/GRAB\n",
      "https://finance.yahoo.com/quote/FINMF\n",
      "https://finance.yahoo.com/quote/SKLTF\n"
     ]
    },
    {
     "name": "stderr",
     "output_type": "stream",
     "text": [
      "SKLTF: No earnings dates found, symbol may be delisted\n",
      "404 Client Error: Not Found for url: https://query2.finance.yahoo.com/v10/finance/quoteSummary/SKLTF?modules=recommendationTrend&corsDomain=finance.yahoo.com&formatted=false&symbol=SKLTF&crumb=RvcHzk3Ziw6\n"
     ]
    },
    {
     "name": "stdout",
     "output_type": "stream",
     "text": [
      "https://finance.yahoo.com/quote/DBX\n",
      "https://finance.yahoo.com/quote/SKSUF\n"
     ]
    },
    {
     "name": "stderr",
     "output_type": "stream",
     "text": [
      "404 Client Error: Not Found for url: https://query2.finance.yahoo.com/v10/finance/quoteSummary/SKSUF?modules=recommendationTrend&corsDomain=finance.yahoo.com&formatted=false&symbol=SKSUF&crumb=RvcHzk3Ziw6\n"
     ]
    },
    {
     "name": "stdout",
     "output_type": "stream",
     "text": [
      "https://finance.yahoo.com/quote/ELEZF\n",
      "https://finance.yahoo.com/quote/ONEXF\n"
     ]
    },
    {
     "name": "stderr",
     "output_type": "stream",
     "text": [
      "404 Client Error: Not Found for url: https://query2.finance.yahoo.com/v10/finance/quoteSummary/ONEXF?modules=recommendationTrend&corsDomain=finance.yahoo.com&formatted=false&symbol=ONEXF&crumb=RvcHzk3Ziw6\n"
     ]
    },
    {
     "name": "stdout",
     "output_type": "stream",
     "text": [
      "https://finance.yahoo.com/quote/NSKFF\n"
     ]
    },
    {
     "name": "stderr",
     "output_type": "stream",
     "text": [
      "404 Client Error: Not Found for url: https://query2.finance.yahoo.com/v10/finance/quoteSummary/NSKFF?modules=recommendationTrend&corsDomain=finance.yahoo.com&formatted=false&symbol=NSKFF&crumb=RvcHzk3Ziw6\n"
     ]
    },
    {
     "name": "stdout",
     "output_type": "stream",
     "text": [
      "https://finance.yahoo.com/quote/TMICF\n",
      "https://finance.yahoo.com/quote/SITIF\n"
     ]
    },
    {
     "name": "stderr",
     "output_type": "stream",
     "text": [
      "404 Client Error: Not Found for url: https://query2.finance.yahoo.com/v10/finance/quoteSummary/SITIF?modules=recommendationTrend&corsDomain=finance.yahoo.com&formatted=false&symbol=SITIF&crumb=RvcHzk3Ziw6\n"
     ]
    },
    {
     "name": "stdout",
     "output_type": "stream",
     "text": [
      "https://finance.yahoo.com/quote/VOLAF\n"
     ]
    },
    {
     "name": "stderr",
     "output_type": "stream",
     "text": [
      "VOLAF: No earnings dates found, symbol may be delisted\n",
      "404 Client Error: Not Found for url: https://query2.finance.yahoo.com/v10/finance/quoteSummary/VOLAF?modules=recommendationTrend&corsDomain=finance.yahoo.com&formatted=false&symbol=VOLAF&crumb=RvcHzk3Ziw6\n"
     ]
    },
    {
     "name": "stdout",
     "output_type": "stream",
     "text": [
      "https://finance.yahoo.com/quote/AZPN\n",
      "https://finance.yahoo.com/quote/SHLRF\n"
     ]
    },
    {
     "name": "stderr",
     "output_type": "stream",
     "text": [
      "404 Client Error: Not Found for url: https://query2.finance.yahoo.com/v10/finance/quoteSummary/SHLRF?modules=recommendationTrend&corsDomain=finance.yahoo.com&formatted=false&symbol=SHLRF&crumb=RvcHzk3Ziw6\n"
     ]
    },
    {
     "name": "stdout",
     "output_type": "stream",
     "text": [
      "https://finance.yahoo.com/quote/SEKEF\n"
     ]
    },
    {
     "name": "stderr",
     "output_type": "stream",
     "text": [
      "404 Client Error: Not Found for url: https://query2.finance.yahoo.com/v10/finance/quoteSummary/SEKEF?modules=recommendationTrend&corsDomain=finance.yahoo.com&formatted=false&symbol=SEKEF&crumb=RvcHzk3Ziw6\n"
     ]
    },
    {
     "name": "stdout",
     "output_type": "stream",
     "text": [
      "https://finance.yahoo.com/quote/CLILF\n"
     ]
    },
    {
     "name": "stderr",
     "output_type": "stream",
     "text": [
      "CLILF: No earnings dates found, symbol may be delisted\n",
      "404 Client Error: Not Found for url: https://query2.finance.yahoo.com/v10/finance/quoteSummary/CLILF?modules=recommendationTrend&corsDomain=finance.yahoo.com&formatted=false&symbol=CLILF&crumb=RvcHzk3Ziw6\n"
     ]
    },
    {
     "name": "stdout",
     "output_type": "stream",
     "text": [
      "https://finance.yahoo.com/quote/MZTFF\n"
     ]
    },
    {
     "name": "stderr",
     "output_type": "stream",
     "text": [
      "404 Client Error: Not Found for url: https://query2.finance.yahoo.com/v10/finance/quoteSummary/MZTFF?modules=recommendationTrend&corsDomain=finance.yahoo.com&formatted=false&symbol=MZTFF&crumb=RvcHzk3Ziw6\n"
     ]
    },
    {
     "name": "stdout",
     "output_type": "stream",
     "text": [
      "https://finance.yahoo.com/quote/AHICF\n"
     ]
    },
    {
     "name": "stderr",
     "output_type": "stream",
     "text": [
      "404 Client Error: Not Found for url: https://query2.finance.yahoo.com/v10/finance/quoteSummary/AHICF?modules=recommendationTrend&corsDomain=finance.yahoo.com&formatted=false&symbol=AHICF&crumb=RvcHzk3Ziw6\n"
     ]
    },
    {
     "name": "stdout",
     "output_type": "stream",
     "text": [
      "https://finance.yahoo.com/quote/BYCBF\n"
     ]
    },
    {
     "name": "stderr",
     "output_type": "stream",
     "text": [
      "404 Client Error: Not Found for url: https://query2.finance.yahoo.com/v10/finance/quoteSummary/BYCBF?modules=recommendationTrend&corsDomain=finance.yahoo.com&formatted=false&symbol=BYCBF&crumb=RvcHzk3Ziw6\n"
     ]
    },
    {
     "name": "stdout",
     "output_type": "stream",
     "text": [
      "https://finance.yahoo.com/quote/FQVLF\n",
      "https://finance.yahoo.com/quote/FOJCF\n"
     ]
    },
    {
     "name": "stderr",
     "output_type": "stream",
     "text": [
      "404 Client Error: Not Found for url: https://query2.finance.yahoo.com/v10/finance/quoteSummary/FOJCF?modules=recommendationTrend&corsDomain=finance.yahoo.com&formatted=false&symbol=FOJCF&crumb=RvcHzk3Ziw6\n"
     ]
    },
    {
     "name": "stdout",
     "output_type": "stream",
     "text": [
      "https://finance.yahoo.com/quote/MEJHF\n"
     ]
    },
    {
     "name": "stderr",
     "output_type": "stream",
     "text": [
      "404 Client Error: Not Found for url: https://query2.finance.yahoo.com/v10/finance/quoteSummary/MEJHF?modules=recommendationTrend&corsDomain=finance.yahoo.com&formatted=false&symbol=MEJHF&crumb=RvcHzk3Ziw6\n"
     ]
    },
    {
     "name": "stdout",
     "output_type": "stream",
     "text": [
      "https://finance.yahoo.com/quote/KEYUF\n"
     ]
    },
    {
     "name": "stderr",
     "output_type": "stream",
     "text": [
      "404 Client Error: Not Found for url: https://query2.finance.yahoo.com/v10/finance/quoteSummary/KEYUF?modules=recommendationTrend&corsDomain=finance.yahoo.com&formatted=false&symbol=KEYUF&crumb=RvcHzk3Ziw6\n",
      "404 Client Error: Not Found for url: https://query2.finance.yahoo.com/v10/finance/quoteSummary/UHAL/B?modules=financialData%2CquoteType%2CdefaultKeyStatistics%2CassetProfile%2CsummaryDetail&corsDomain=finance.yahoo.com&formatted=false&symbol=UHAL%2FB&crumb=RvcHzk3Ziw6\n"
     ]
    },
    {
     "name": "stdout",
     "output_type": "stream",
     "text": [
      "https://finance.yahoo.com/quote/UHAL-B\n"
     ]
    },
    {
     "name": "stderr",
     "output_type": "stream",
     "text": [
      "UHAL-B: No earnings dates found, symbol may be delisted\n",
      "404 Client Error: Not Found for url: https://query2.finance.yahoo.com/v10/finance/quoteSummary/UHAL-B?modules=recommendationTrend&corsDomain=finance.yahoo.com&formatted=false&symbol=UHAL-B&crumb=RvcHzk3Ziw6\n"
     ]
    },
    {
     "name": "stdout",
     "output_type": "stream",
     "text": [
      "https://finance.yahoo.com/quote/MRVGF\n"
     ]
    },
    {
     "name": "stderr",
     "output_type": "stream",
     "text": [
      "MRVGF: No earnings dates found, symbol may be delisted\n",
      "404 Client Error: Not Found for url: https://query2.finance.yahoo.com/v10/finance/quoteSummary/MRVGF?modules=recommendationTrend&corsDomain=finance.yahoo.com&formatted=false&symbol=MRVGF&crumb=RvcHzk3Ziw6\n"
     ]
    },
    {
     "name": "stdout",
     "output_type": "stream",
     "text": [
      "https://finance.yahoo.com/quote/IDDTF\n"
     ]
    },
    {
     "name": "stderr",
     "output_type": "stream",
     "text": [
      "IDDTF: No earnings dates found, symbol may be delisted\n",
      "404 Client Error: Not Found for url: https://query2.finance.yahoo.com/v10/finance/quoteSummary/IDDTF?modules=recommendationTrend&corsDomain=finance.yahoo.com&formatted=false&symbol=IDDTF&crumb=RvcHzk3Ziw6\n"
     ]
    },
    {
     "name": "stdout",
     "output_type": "stream",
     "text": [
      "https://finance.yahoo.com/quote/OBYCF\n"
     ]
    },
    {
     "name": "stderr",
     "output_type": "stream",
     "text": [
      "404 Client Error: Not Found for url: https://query2.finance.yahoo.com/v10/finance/quoteSummary/OBYCF?modules=recommendationTrend&corsDomain=finance.yahoo.com&formatted=false&symbol=OBYCF&crumb=RvcHzk3Ziw6\n"
     ]
    },
    {
     "name": "stdout",
     "output_type": "stream",
     "text": [
      "https://finance.yahoo.com/quote/PSMMF\n"
     ]
    },
    {
     "name": "stderr",
     "output_type": "stream",
     "text": [
      "PSMMF: No earnings dates found, symbol may be delisted\n",
      "404 Client Error: Not Found for url: https://query2.finance.yahoo.com/v10/finance/quoteSummary/PSMMF?modules=recommendationTrend&corsDomain=finance.yahoo.com&formatted=false&symbol=PSMMF&crumb=RvcHzk3Ziw6\n"
     ]
    },
    {
     "name": "stdout",
     "output_type": "stream",
     "text": [
      "https://finance.yahoo.com/quote/NEMTF\n"
     ]
    },
    {
     "name": "stderr",
     "output_type": "stream",
     "text": [
      "404 Client Error: Not Found for url: https://query2.finance.yahoo.com/v10/finance/quoteSummary/NEMTF?modules=recommendationTrend&corsDomain=finance.yahoo.com&formatted=false&symbol=NEMTF&crumb=RvcHzk3Ziw6\n"
     ]
    },
    {
     "name": "stdout",
     "output_type": "stream",
     "text": [
      "https://finance.yahoo.com/quote/NEXPF\n"
     ]
    },
    {
     "name": "stderr",
     "output_type": "stream",
     "text": [
      "404 Client Error: Not Found for url: https://query2.finance.yahoo.com/v10/finance/quoteSummary/NEXPF?modules=recommendationTrend&corsDomain=finance.yahoo.com&formatted=false&symbol=NEXPF&crumb=RvcHzk3Ziw6\n"
     ]
    },
    {
     "name": "stdout",
     "output_type": "stream",
     "text": [
      "https://finance.yahoo.com/quote/EMSHF\n"
     ]
    },
    {
     "name": "stderr",
     "output_type": "stream",
     "text": [
      "404 Client Error: Not Found for url: https://query2.finance.yahoo.com/v10/finance/quoteSummary/EMSHF?modules=recommendationTrend&corsDomain=finance.yahoo.com&formatted=false&symbol=EMSHF&crumb=RvcHzk3Ziw6\n"
     ]
    },
    {
     "name": "stdout",
     "output_type": "stream",
     "text": [
      "https://finance.yahoo.com/quote/WHGRF\n"
     ]
    },
    {
     "name": "stderr",
     "output_type": "stream",
     "text": [
      "404 Client Error: Not Found for url: https://query2.finance.yahoo.com/v10/finance/quoteSummary/WHGRF?modules=recommendationTrend&corsDomain=finance.yahoo.com&formatted=false&symbol=WHGRF&crumb=RvcHzk3Ziw6\n"
     ]
    },
    {
     "name": "stdout",
     "output_type": "stream",
     "text": [
      "https://finance.yahoo.com/quote/JSNSF\n"
     ]
    },
    {
     "name": "stderr",
     "output_type": "stream",
     "text": [
      "JSNSF: No earnings dates found, symbol may be delisted\n",
      "404 Client Error: Not Found for url: https://query2.finance.yahoo.com/v10/finance/quoteSummary/JSNSF?modules=recommendationTrend&corsDomain=finance.yahoo.com&formatted=false&symbol=JSNSF&crumb=RvcHzk3Ziw6\n"
     ]
    },
    {
     "name": "stdout",
     "output_type": "stream",
     "text": [
      "https://finance.yahoo.com/quote/WILLF\n"
     ]
    },
    {
     "name": "stderr",
     "output_type": "stream",
     "text": [
      "WILLF: No earnings dates found, symbol may be delisted\n",
      "404 Client Error: Not Found for url: https://query2.finance.yahoo.com/v10/finance/quoteSummary/WILLF?modules=recommendationTrend&corsDomain=finance.yahoo.com&formatted=false&symbol=WILLF&crumb=RvcHzk3Ziw6\n"
     ]
    },
    {
     "name": "stdout",
     "output_type": "stream",
     "text": [
      "https://finance.yahoo.com/quote/LSGOF\n"
     ]
    },
    {
     "name": "stderr",
     "output_type": "stream",
     "text": [
      "LSGOF: No earnings dates found, symbol may be delisted\n",
      "404 Client Error: Not Found for url: https://query2.finance.yahoo.com/v10/finance/quoteSummary/LSGOF?modules=recommendationTrend&corsDomain=finance.yahoo.com&formatted=false&symbol=LSGOF&crumb=RvcHzk3Ziw6\n"
     ]
    },
    {
     "name": "stdout",
     "output_type": "stream",
     "text": [
      "https://finance.yahoo.com/quote/KLPEF\n"
     ]
    },
    {
     "name": "stderr",
     "output_type": "stream",
     "text": [
      "KLPEF: No earnings dates found, symbol may be delisted\n",
      "404 Client Error: Not Found for url: https://query2.finance.yahoo.com/v10/finance/quoteSummary/KLPEF?modules=recommendationTrend&corsDomain=finance.yahoo.com&formatted=false&symbol=KLPEF&crumb=RvcHzk3Ziw6\n"
     ]
    },
    {
     "name": "stdout",
     "output_type": "stream",
     "text": [
      "https://finance.yahoo.com/quote/BRTHF\n"
     ]
    },
    {
     "name": "stderr",
     "output_type": "stream",
     "text": [
      "404 Client Error: Not Found for url: https://query2.finance.yahoo.com/v10/finance/quoteSummary/BRTHF?modules=recommendationTrend&corsDomain=finance.yahoo.com&formatted=false&symbol=BRTHF&crumb=RvcHzk3Ziw6\n"
     ]
    },
    {
     "name": "stdout",
     "output_type": "stream",
     "text": [
      "https://finance.yahoo.com/quote/MITUF\n"
     ]
    },
    {
     "name": "stderr",
     "output_type": "stream",
     "text": [
      "404 Client Error: Not Found for url: https://query2.finance.yahoo.com/v10/finance/quoteSummary/MITUF?modules=recommendationTrend&corsDomain=finance.yahoo.com&formatted=false&symbol=MITUF&crumb=RvcHzk3Ziw6\n"
     ]
    },
    {
     "name": "stdout",
     "output_type": "stream",
     "text": [
      "https://finance.yahoo.com/quote/YATRF\n"
     ]
    },
    {
     "name": "stderr",
     "output_type": "stream",
     "text": [
      "404 Client Error: Not Found for url: https://query2.finance.yahoo.com/v10/finance/quoteSummary/YATRF?modules=recommendationTrend&corsDomain=finance.yahoo.com&formatted=false&symbol=YATRF&crumb=RvcHzk3Ziw6\n"
     ]
    },
    {
     "name": "stdout",
     "output_type": "stream",
     "text": [
      "https://finance.yahoo.com/quote/HELNF\n"
     ]
    },
    {
     "name": "stderr",
     "output_type": "stream",
     "text": [
      "HELNF: No earnings dates found, symbol may be delisted\n",
      "404 Client Error: Not Found for url: https://query2.finance.yahoo.com/v10/finance/quoteSummary/HELNF?modules=recommendationTrend&corsDomain=finance.yahoo.com&formatted=false&symbol=HELNF&crumb=RvcHzk3Ziw6\n"
     ]
    },
    {
     "name": "stdout",
     "output_type": "stream",
     "text": [
      "https://finance.yahoo.com/quote/ORKLF\n"
     ]
    },
    {
     "name": "stderr",
     "output_type": "stream",
     "text": [
      "404 Client Error: Not Found for url: https://query2.finance.yahoo.com/v10/finance/quoteSummary/ORKLF?modules=recommendationTrend&corsDomain=finance.yahoo.com&formatted=false&symbol=ORKLF&crumb=RvcHzk3Ziw6\n"
     ]
    },
    {
     "name": "stdout",
     "output_type": "stream",
     "text": [
      "https://finance.yahoo.com/quote/ASEKF\n"
     ]
    },
    {
     "name": "stderr",
     "output_type": "stream",
     "text": [
      "404 Client Error: Not Found for url: https://query2.finance.yahoo.com/v10/finance/quoteSummary/ASEKF?modules=recommendationTrend&corsDomain=finance.yahoo.com&formatted=false&symbol=ASEKF&crumb=RvcHzk3Ziw6\n"
     ]
    },
    {
     "name": "stdout",
     "output_type": "stream",
     "text": [
      "https://finance.yahoo.com/quote/MSUXF\n"
     ]
    },
    {
     "name": "stderr",
     "output_type": "stream",
     "text": [
      "404 Client Error: Not Found for url: https://query2.finance.yahoo.com/v10/finance/quoteSummary/MSUXF?modules=recommendationTrend&corsDomain=finance.yahoo.com&formatted=false&symbol=MSUXF&crumb=RvcHzk3Ziw6\n"
     ]
    },
    {
     "name": "stdout",
     "output_type": "stream",
     "text": [
      "https://finance.yahoo.com/quote/LUNMF\n",
      "https://finance.yahoo.com/quote/DNTUF\n"
     ]
    },
    {
     "name": "stderr",
     "output_type": "stream",
     "text": [
      "404 Client Error: Not Found for url: https://query2.finance.yahoo.com/v10/finance/quoteSummary/DNTUF?modules=recommendationTrend&corsDomain=finance.yahoo.com&formatted=false&symbol=DNTUF&crumb=RvcHzk3Ziw6\n"
     ]
    },
    {
     "name": "stdout",
     "output_type": "stream",
     "text": [
      "https://finance.yahoo.com/quote/LUV\n",
      "https://finance.yahoo.com/quote/SCTBF\n"
     ]
    },
    {
     "name": "stderr",
     "output_type": "stream",
     "text": [
      "404 Client Error: Not Found for url: https://query2.finance.yahoo.com/v10/finance/quoteSummary/SCTBF?modules=recommendationTrend&corsDomain=finance.yahoo.com&formatted=false&symbol=SCTBF&crumb=RvcHzk3Ziw6\n"
     ]
    },
    {
     "name": "stdout",
     "output_type": "stream",
     "text": [
      "https://finance.yahoo.com/quote/GPTGF\n"
     ]
    },
    {
     "name": "stderr",
     "output_type": "stream",
     "text": [
      "GPTGF: No earnings dates found, symbol may be delisted\n",
      "404 Client Error: Not Found for url: https://query2.finance.yahoo.com/v10/finance/quoteSummary/GPTGF?modules=recommendationTrend&corsDomain=finance.yahoo.com&formatted=false&symbol=GPTGF&crumb=RvcHzk3Ziw6\n"
     ]
    },
    {
     "name": "stdout",
     "output_type": "stream",
     "text": [
      "https://finance.yahoo.com/quote/LEGIF\n"
     ]
    },
    {
     "name": "stderr",
     "output_type": "stream",
     "text": [
      "404 Client Error: Not Found for url: https://query2.finance.yahoo.com/v10/finance/quoteSummary/LEGIF?modules=recommendationTrend&corsDomain=finance.yahoo.com&formatted=false&symbol=LEGIF&crumb=RvcHzk3Ziw6\n"
     ]
    },
    {
     "name": "stdout",
     "output_type": "stream",
     "text": [
      "https://finance.yahoo.com/quote/PARA\n",
      "https://finance.yahoo.com/quote/JSCPF\n"
     ]
    },
    {
     "name": "stderr",
     "output_type": "stream",
     "text": [
      "404 Client Error: Not Found for url: https://query2.finance.yahoo.com/v10/finance/quoteSummary/JSCPF?modules=recommendationTrend&corsDomain=finance.yahoo.com&formatted=false&symbol=JSCPF&crumb=RvcHzk3Ziw6\n"
     ]
    },
    {
     "name": "stdout",
     "output_type": "stream",
     "text": [
      "https://finance.yahoo.com/quote/OSUKF\n"
     ]
    },
    {
     "name": "stderr",
     "output_type": "stream",
     "text": [
      "404 Client Error: Not Found for url: https://query2.finance.yahoo.com/v10/finance/quoteSummary/OSUKF?modules=recommendationTrend&corsDomain=finance.yahoo.com&formatted=false&symbol=OSUKF&crumb=RvcHzk3Ziw6\n"
     ]
    },
    {
     "name": "stdout",
     "output_type": "stream",
     "text": [
      "https://finance.yahoo.com/quote/NPONF\n"
     ]
    },
    {
     "name": "stderr",
     "output_type": "stream",
     "text": [
      "NPONF: No earnings dates found, symbol may be delisted\n",
      "404 Client Error: Not Found for url: https://query2.finance.yahoo.com/v10/finance/quoteSummary/NPONF?modules=recommendationTrend&corsDomain=finance.yahoo.com&formatted=false&symbol=NPONF&crumb=RvcHzk3Ziw6\n"
     ]
    },
    {
     "name": "stdout",
     "output_type": "stream",
     "text": [
      "https://finance.yahoo.com/quote/OMRNF\n"
     ]
    },
    {
     "name": "stderr",
     "output_type": "stream",
     "text": [
      "404 Client Error: Not Found for url: https://query2.finance.yahoo.com/v10/finance/quoteSummary/OMRNF?modules=recommendationTrend&corsDomain=finance.yahoo.com&formatted=false&symbol=OMRNF&crumb=RvcHzk3Ziw6\n"
     ]
    },
    {
     "name": "stdout",
     "output_type": "stream",
     "text": [
      "https://finance.yahoo.com/quote/HPHTF\n"
     ]
    },
    {
     "name": "stderr",
     "output_type": "stream",
     "text": [
      "404 Client Error: Not Found for url: https://query2.finance.yahoo.com/v10/finance/quoteSummary/HPHTF?modules=recommendationTrend&corsDomain=finance.yahoo.com&formatted=false&symbol=HPHTF&crumb=RvcHzk3Ziw6\n"
     ]
    },
    {
     "name": "stdout",
     "output_type": "stream",
     "text": [
      "https://finance.yahoo.com/quote/KINUF\n"
     ]
    },
    {
     "name": "stderr",
     "output_type": "stream",
     "text": [
      "404 Client Error: Not Found for url: https://query2.finance.yahoo.com/v10/finance/quoteSummary/KINUF?modules=recommendationTrend&corsDomain=finance.yahoo.com&formatted=false&symbol=KINUF&crumb=RvcHzk3Ziw6\n"
     ]
    },
    {
     "name": "stdout",
     "output_type": "stream",
     "text": [
      "https://finance.yahoo.com/quote/REECF\n"
     ]
    },
    {
     "name": "stderr",
     "output_type": "stream",
     "text": [
      "REECF: No earnings dates found, symbol may be delisted\n",
      "404 Client Error: Not Found for url: https://query2.finance.yahoo.com/v10/finance/quoteSummary/REECF?modules=recommendationTrend&corsDomain=finance.yahoo.com&formatted=false&symbol=REECF&crumb=RvcHzk3Ziw6\n"
     ]
    },
    {
     "name": "stdout",
     "output_type": "stream",
     "text": [
      "https://finance.yahoo.com/quote/YRAIF\n"
     ]
    },
    {
     "name": "stderr",
     "output_type": "stream",
     "text": [
      "404 Client Error: Not Found for url: https://query2.finance.yahoo.com/v10/finance/quoteSummary/YRAIF?modules=recommendationTrend&corsDomain=finance.yahoo.com&formatted=false&symbol=YRAIF&crumb=RvcHzk3Ziw6\n"
     ]
    },
    {
     "name": "stdout",
     "output_type": "stream",
     "text": [
      "https://finance.yahoo.com/quote/DLAKF\n"
     ]
    },
    {
     "name": "stderr",
     "output_type": "stream",
     "text": [
      "404 Client Error: Not Found for url: https://query2.finance.yahoo.com/v10/finance/quoteSummary/DLAKF?modules=recommendationTrend&corsDomain=finance.yahoo.com&formatted=false&symbol=DLAKF&crumb=RvcHzk3Ziw6\n"
     ]
    },
    {
     "name": "stdout",
     "output_type": "stream",
     "text": [
      "https://finance.yahoo.com/quote/SAPIF\n",
      "https://finance.yahoo.com/quote/LSXMK\n",
      "https://finance.yahoo.com/quote/KKOYF\n"
     ]
    },
    {
     "name": "stderr",
     "output_type": "stream",
     "text": [
      "404 Client Error: Not Found for url: https://query2.finance.yahoo.com/v10/finance/quoteSummary/KKOYF?modules=recommendationTrend&corsDomain=finance.yahoo.com&formatted=false&symbol=KKOYF&crumb=RvcHzk3Ziw6\n"
     ]
    },
    {
     "name": "stdout",
     "output_type": "stream",
     "text": [
      "https://finance.yahoo.com/quote/ODERF\n"
     ]
    },
    {
     "name": "stderr",
     "output_type": "stream",
     "text": [
      "404 Client Error: Not Found for url: https://query2.finance.yahoo.com/v10/finance/quoteSummary/ODERF?modules=recommendationTrend&corsDomain=finance.yahoo.com&formatted=false&symbol=ODERF&crumb=RvcHzk3Ziw6\n"
     ]
    },
    {
     "name": "stdout",
     "output_type": "stream",
     "text": [
      "https://finance.yahoo.com/quote/KNBHF\n"
     ]
    },
    {
     "name": "stderr",
     "output_type": "stream",
     "text": [
      "404 Client Error: Not Found for url: https://query2.finance.yahoo.com/v10/finance/quoteSummary/KNBHF?modules=recommendationTrend&corsDomain=finance.yahoo.com&formatted=false&symbol=KNBHF&crumb=RvcHzk3Ziw6\n"
     ]
    },
    {
     "name": "stdout",
     "output_type": "stream",
     "text": [
      "https://finance.yahoo.com/quote/WRFRF\n"
     ]
    },
    {
     "name": "stderr",
     "output_type": "stream",
     "text": [
      "WRFRF: No earnings dates found, symbol may be delisted\n",
      "404 Client Error: Not Found for url: https://query2.finance.yahoo.com/v10/finance/quoteSummary/WRFRF?modules=recommendationTrend&corsDomain=finance.yahoo.com&formatted=false&symbol=WRFRF&crumb=RvcHzk3Ziw6\n"
     ]
    },
    {
     "name": "stdout",
     "output_type": "stream",
     "text": [
      "https://finance.yahoo.com/quote/CKISF\n"
     ]
    },
    {
     "name": "stderr",
     "output_type": "stream",
     "text": [
      "CKISF: No earnings dates found, symbol may be delisted\n",
      "404 Client Error: Not Found for url: https://query2.finance.yahoo.com/v10/finance/quoteSummary/CKISF?modules=recommendationTrend&corsDomain=finance.yahoo.com&formatted=false&symbol=CKISF&crumb=RvcHzk3Ziw6\n"
     ]
    },
    {
     "name": "stdout",
     "output_type": "stream",
     "text": [
      "https://finance.yahoo.com/quote/VLKAF\n"
     ]
    },
    {
     "name": "stderr",
     "output_type": "stream",
     "text": [
      "VLKAF: No earnings dates found, symbol may be delisted\n",
      "404 Client Error: Not Found for url: https://query2.finance.yahoo.com/v10/finance/quoteSummary/VLKAF?modules=recommendationTrend&corsDomain=finance.yahoo.com&formatted=false&symbol=VLKAF&crumb=RvcHzk3Ziw6\n"
     ]
    },
    {
     "name": "stdout",
     "output_type": "stream",
     "text": [
      "https://finance.yahoo.com/quote/CCRDF\n"
     ]
    },
    {
     "name": "stderr",
     "output_type": "stream",
     "text": [
      "404 Client Error: Not Found for url: https://query2.finance.yahoo.com/v10/finance/quoteSummary/CCRDF?modules=recommendationTrend&corsDomain=finance.yahoo.com&formatted=false&symbol=CCRDF&crumb=RvcHzk3Ziw6\n"
     ]
    },
    {
     "name": "stdout",
     "output_type": "stream",
     "text": [
      "https://finance.yahoo.com/quote/DEXSF\n"
     ]
    },
    {
     "name": "stderr",
     "output_type": "stream",
     "text": [
      "DEXSF: No earnings dates found, symbol may be delisted\n",
      "404 Client Error: Not Found for url: https://query2.finance.yahoo.com/v10/finance/quoteSummary/DEXSF?modules=recommendationTrend&corsDomain=finance.yahoo.com&formatted=false&symbol=DEXSF&crumb=RvcHzk3Ziw6\n"
     ]
    },
    {
     "name": "stdout",
     "output_type": "stream",
     "text": [
      "https://finance.yahoo.com/quote/PKIUF\n"
     ]
    },
    {
     "name": "stderr",
     "output_type": "stream",
     "text": [
      "404 Client Error: Not Found for url: https://query2.finance.yahoo.com/v10/finance/quoteSummary/PKIUF?modules=recommendationTrend&corsDomain=finance.yahoo.com&formatted=false&symbol=PKIUF&crumb=RvcHzk3Ziw6\n"
     ]
    },
    {
     "name": "stdout",
     "output_type": "stream",
     "text": [
      "https://finance.yahoo.com/quote/HKTTF\n"
     ]
    },
    {
     "name": "stderr",
     "output_type": "stream",
     "text": [
      "HKTTF: No earnings dates found, symbol may be delisted\n",
      "404 Client Error: Not Found for url: https://query2.finance.yahoo.com/v10/finance/quoteSummary/HKTTF?modules=recommendationTrend&corsDomain=finance.yahoo.com&formatted=false&symbol=HKTTF&crumb=RvcHzk3Ziw6\n"
     ]
    },
    {
     "name": "stdout",
     "output_type": "stream",
     "text": [
      "https://finance.yahoo.com/quote/CZMWF\n",
      "https://finance.yahoo.com/quote/CNRAF\n"
     ]
    },
    {
     "name": "stderr",
     "output_type": "stream",
     "text": [
      "CNRAF: No earnings dates found, symbol may be delisted\n",
      "404 Client Error: Not Found for url: https://query2.finance.yahoo.com/v10/finance/quoteSummary/CNRAF?modules=recommendationTrend&corsDomain=finance.yahoo.com&formatted=false&symbol=CNRAF&crumb=RvcHzk3Ziw6\n"
     ]
    },
    {
     "name": "stdout",
     "output_type": "stream",
     "text": [
      "https://finance.yahoo.com/quote/WSOUF\n"
     ]
    },
    {
     "name": "stderr",
     "output_type": "stream",
     "text": [
      "WSOUF: No earnings dates found, symbol may be delisted\n",
      "404 Client Error: Not Found for url: https://query2.finance.yahoo.com/v10/finance/quoteSummary/WSOUF?modules=recommendationTrend&corsDomain=finance.yahoo.com&formatted=false&symbol=WSOUF&crumb=RvcHzk3Ziw6\n"
     ]
    },
    {
     "name": "stdout",
     "output_type": "stream",
     "text": [
      "https://finance.yahoo.com/quote/WFG\n",
      "https://finance.yahoo.com/quote/IBIDF\n"
     ]
    },
    {
     "name": "stderr",
     "output_type": "stream",
     "text": [
      "404 Client Error: Not Found for url: https://query2.finance.yahoo.com/v10/finance/quoteSummary/IBIDF?modules=recommendationTrend&corsDomain=finance.yahoo.com&formatted=false&symbol=IBIDF&crumb=RvcHzk3Ziw6\n"
     ]
    },
    {
     "name": "stdout",
     "output_type": "stream",
     "text": [
      "https://finance.yahoo.com/quote/OEZVF\n"
     ]
    },
    {
     "name": "stderr",
     "output_type": "stream",
     "text": [
      "404 Client Error: Not Found for url: https://query2.finance.yahoo.com/v10/finance/quoteSummary/OEZVF?modules=recommendationTrend&corsDomain=finance.yahoo.com&formatted=false&symbol=OEZVF&crumb=RvcHzk3Ziw6\n"
     ]
    },
    {
     "name": "stdout",
     "output_type": "stream",
     "text": [
      "https://finance.yahoo.com/quote/HLDVF\n"
     ]
    },
    {
     "name": "stderr",
     "output_type": "stream",
     "text": [
      "404 Client Error: Not Found for url: https://query2.finance.yahoo.com/v10/finance/quoteSummary/HLDVF?modules=recommendationTrend&corsDomain=finance.yahoo.com&formatted=false&symbol=HLDVF&crumb=RvcHzk3Ziw6\n",
      "NAN: No earnings dates found, symbol may be delisted\n"
     ]
    },
    {
     "name": "stdout",
     "output_type": "stream",
     "text": [
      "https://finance.yahoo.com/quote/NAN\n",
      "https://finance.yahoo.com/quote/DUAVF\n"
     ]
    },
    {
     "name": "stderr",
     "output_type": "stream",
     "text": [
      "DUAVF: No earnings dates found, symbol may be delisted\n",
      "404 Client Error: Not Found for url: https://query2.finance.yahoo.com/v10/finance/quoteSummary/DUAVF?modules=recommendationTrend&corsDomain=finance.yahoo.com&formatted=false&symbol=DUAVF&crumb=RvcHzk3Ziw6\n"
     ]
    },
    {
     "name": "stdout",
     "output_type": "stream",
     "text": [
      "https://finance.yahoo.com/quote/BIOVF\n"
     ]
    },
    {
     "name": "stderr",
     "output_type": "stream",
     "text": [
      "404 Client Error: Not Found for url: https://query2.finance.yahoo.com/v10/finance/quoteSummary/BIOVF?modules=recommendationTrend&corsDomain=finance.yahoo.com&formatted=false&symbol=BIOVF&crumb=RvcHzk3Ziw6\n"
     ]
    },
    {
     "name": "stdout",
     "output_type": "stream",
     "text": [
      "https://finance.yahoo.com/quote/PMMAF\n",
      "https://finance.yahoo.com/quote/RICOF\n"
     ]
    },
    {
     "name": "stderr",
     "output_type": "stream",
     "text": [
      "404 Client Error: Not Found for url: https://query2.finance.yahoo.com/v10/finance/quoteSummary/RICOF?modules=recommendationTrend&corsDomain=finance.yahoo.com&formatted=false&symbol=RICOF&crumb=RvcHzk3Ziw6\n"
     ]
    },
    {
     "name": "stdout",
     "output_type": "stream",
     "text": [
      "https://finance.yahoo.com/quote/AMKAF\n"
     ]
    },
    {
     "name": "stderr",
     "output_type": "stream",
     "text": [
      "404 Client Error: Not Found for url: https://query2.finance.yahoo.com/v10/finance/quoteSummary/AMKAF?modules=recommendationTrend&corsDomain=finance.yahoo.com&formatted=false&symbol=AMKAF&crumb=RvcHzk3Ziw6\n"
     ]
    },
    {
     "name": "stdout",
     "output_type": "stream",
     "text": [
      "https://finance.yahoo.com/quote/SWRAF\n"
     ]
    },
    {
     "name": "stderr",
     "output_type": "stream",
     "text": [
      "SWRAF: No earnings dates found, symbol may be delisted\n",
      "404 Client Error: Not Found for url: https://query2.finance.yahoo.com/v10/finance/quoteSummary/SWRAF?modules=recommendationTrend&corsDomain=finance.yahoo.com&formatted=false&symbol=SWRAF&crumb=RvcHzk3Ziw6\n"
     ]
    },
    {
     "name": "stdout",
     "output_type": "stream",
     "text": [
      "https://finance.yahoo.com/quote/MDDNF\n"
     ]
    },
    {
     "name": "stderr",
     "output_type": "stream",
     "text": [
      "404 Client Error: Not Found for url: https://query2.finance.yahoo.com/v10/finance/quoteSummary/MDDNF?modules=recommendationTrend&corsDomain=finance.yahoo.com&formatted=false&symbol=MDDNF&crumb=RvcHzk3Ziw6\n"
     ]
    },
    {
     "name": "stdout",
     "output_type": "stream",
     "text": [
      "https://finance.yahoo.com/quote/EDVGF\n"
     ]
    },
    {
     "name": "stderr",
     "output_type": "stream",
     "text": [
      "EDVGF: No earnings dates found, symbol may be delisted\n",
      "404 Client Error: Not Found for url: https://query2.finance.yahoo.com/v10/finance/quoteSummary/EDVGF?modules=recommendationTrend&corsDomain=finance.yahoo.com&formatted=false&symbol=EDVGF&crumb=RvcHzk3Ziw6\n"
     ]
    },
    {
     "name": "stdout",
     "output_type": "stream",
     "text": [
      "https://finance.yahoo.com/quote/WLMIF\n"
     ]
    },
    {
     "name": "stderr",
     "output_type": "stream",
     "text": [
      "404 Client Error: Not Found for url: https://query2.finance.yahoo.com/v10/finance/quoteSummary/WLMIF?modules=recommendationTrend&corsDomain=finance.yahoo.com&formatted=false&symbol=WLMIF&crumb=RvcHzk3Ziw6\n"
     ]
    },
    {
     "name": "stdout",
     "output_type": "stream",
     "text": [
      "https://finance.yahoo.com/quote/OCLDF\n",
      "https://finance.yahoo.com/quote/ZLDSF\n"
     ]
    },
    {
     "name": "stderr",
     "output_type": "stream",
     "text": [
      "404 Client Error: Not Found for url: https://query2.finance.yahoo.com/v10/finance/quoteSummary/ZLDSF?modules=recommendationTrend&corsDomain=finance.yahoo.com&formatted=false&symbol=ZLDSF&crumb=RvcHzk3Ziw6\n"
     ]
    },
    {
     "name": "stdout",
     "output_type": "stream",
     "text": [
      "https://finance.yahoo.com/quote/SGHHF\n"
     ]
    },
    {
     "name": "stderr",
     "output_type": "stream",
     "text": [
      "404 Client Error: Not Found for url: https://query2.finance.yahoo.com/v10/finance/quoteSummary/SGHHF?modules=recommendationTrend&corsDomain=finance.yahoo.com&formatted=false&symbol=SGHHF&crumb=RvcHzk3Ziw6\n"
     ]
    },
    {
     "name": "stdout",
     "output_type": "stream",
     "text": [
      "https://finance.yahoo.com/quote/LBTYK\n",
      "https://finance.yahoo.com/quote/QRNNF\n"
     ]
    },
    {
     "name": "stderr",
     "output_type": "stream",
     "text": [
      "QRNNF: No earnings dates found, symbol may be delisted\n",
      "404 Client Error: Not Found for url: https://query2.finance.yahoo.com/v10/finance/quoteSummary/QRNNF?modules=recommendationTrend&corsDomain=finance.yahoo.com&formatted=false&symbol=QRNNF&crumb=RvcHzk3Ziw6\n"
     ]
    },
    {
     "name": "stdout",
     "output_type": "stream",
     "text": [
      "https://finance.yahoo.com/quote/JRFIF\n"
     ]
    },
    {
     "name": "stderr",
     "output_type": "stream",
     "text": [
      "JRFIF: No earnings dates found, symbol may be delisted\n",
      "404 Client Error: Not Found for url: https://query2.finance.yahoo.com/v10/finance/quoteSummary/JRFIF?modules=recommendationTrend&corsDomain=finance.yahoo.com&formatted=false&symbol=JRFIF&crumb=RvcHzk3Ziw6\n"
     ]
    },
    {
     "name": "stdout",
     "output_type": "stream",
     "text": [
      "https://finance.yahoo.com/quote/TNXXF\n"
     ]
    },
    {
     "name": "stderr",
     "output_type": "stream",
     "text": [
      "404 Client Error: Not Found for url: https://query2.finance.yahoo.com/v10/finance/quoteSummary/TNXXF?modules=recommendationTrend&corsDomain=finance.yahoo.com&formatted=false&symbol=TNXXF&crumb=RvcHzk3Ziw6\n"
     ]
    },
    {
     "name": "stdout",
     "output_type": "stream",
     "text": [
      "https://finance.yahoo.com/quote/PAAS\n",
      "https://finance.yahoo.com/quote/STBFF\n"
     ]
    },
    {
     "name": "stderr",
     "output_type": "stream",
     "text": [
      "404 Client Error: Not Found for url: https://query2.finance.yahoo.com/v10/finance/quoteSummary/STBFF?modules=recommendationTrend&corsDomain=finance.yahoo.com&formatted=false&symbol=STBFF&crumb=RvcHzk3Ziw6\n"
     ]
    },
    {
     "name": "stdout",
     "output_type": "stream",
     "text": [
      "https://finance.yahoo.com/quote/GNGBF\n"
     ]
    },
    {
     "name": "stderr",
     "output_type": "stream",
     "text": [
      "404 Client Error: Not Found for url: https://query2.finance.yahoo.com/v10/finance/quoteSummary/GNGBF?modules=recommendationTrend&corsDomain=finance.yahoo.com&formatted=false&symbol=GNGBF&crumb=RvcHzk3Ziw6\n"
     ]
    },
    {
     "name": "stdout",
     "output_type": "stream",
     "text": [
      "https://finance.yahoo.com/quote/BMXMF\n"
     ]
    },
    {
     "name": "stderr",
     "output_type": "stream",
     "text": [
      "BMXMF: No earnings dates found, symbol may be delisted\n",
      "404 Client Error: Not Found for url: https://query2.finance.yahoo.com/v10/finance/quoteSummary/BMXMF?modules=recommendationTrend&corsDomain=finance.yahoo.com&formatted=false&symbol=BMXMF&crumb=RvcHzk3Ziw6\n"
     ]
    },
    {
     "name": "stdout",
     "output_type": "stream",
     "text": [
      "https://finance.yahoo.com/quote/SIEVF\n"
     ]
    },
    {
     "name": "stderr",
     "output_type": "stream",
     "text": [
      "SIEVF: No earnings dates found, symbol may be delisted\n",
      "404 Client Error: Not Found for url: https://query2.finance.yahoo.com/v10/finance/quoteSummary/SIEVF?modules=recommendationTrend&corsDomain=finance.yahoo.com&formatted=false&symbol=SIEVF&crumb=RvcHzk3Ziw6\n"
     ]
    },
    {
     "name": "stdout",
     "output_type": "stream",
     "text": [
      "https://finance.yahoo.com/quote/SALRF\n"
     ]
    },
    {
     "name": "stderr",
     "output_type": "stream",
     "text": [
      "404 Client Error: Not Found for url: https://query2.finance.yahoo.com/v10/finance/quoteSummary/SALRF?modules=recommendationTrend&corsDomain=finance.yahoo.com&formatted=false&symbol=SALRF&crumb=RvcHzk3Ziw6\n"
     ]
    },
    {
     "name": "stdout",
     "output_type": "stream",
     "text": [
      "https://finance.yahoo.com/quote/FOX\n"
     ]
    },
    {
     "name": "stderr",
     "output_type": "stream",
     "text": [
      "FOX: No earnings dates found, symbol may be delisted\n",
      "404 Client Error: Not Found for url: https://query2.finance.yahoo.com/v10/finance/quoteSummary/FOX?modules=recommendationTrend&corsDomain=finance.yahoo.com&formatted=false&symbol=FOX&crumb=RvcHzk3Ziw6\n"
     ]
    },
    {
     "name": "stdout",
     "output_type": "stream",
     "text": [
      "https://finance.yahoo.com/quote/MDNDF\n"
     ]
    },
    {
     "name": "stderr",
     "output_type": "stream",
     "text": [
      "404 Client Error: Not Found for url: https://query2.finance.yahoo.com/v10/finance/quoteSummary/MDNDF?modules=recommendationTrend&corsDomain=finance.yahoo.com&formatted=false&symbol=MDNDF&crumb=RvcHzk3Ziw6\n"
     ]
    },
    {
     "name": "stdout",
     "output_type": "stream",
     "text": [
      "https://finance.yahoo.com/quote/GECFF\n"
     ]
    },
    {
     "name": "stderr",
     "output_type": "stream",
     "text": [
      "GECFF: No earnings dates found, symbol may be delisted\n",
      "404 Client Error: Not Found for url: https://query2.finance.yahoo.com/v10/finance/quoteSummary/GECFF?modules=recommendationTrend&corsDomain=finance.yahoo.com&formatted=false&symbol=GECFF&crumb=RvcHzk3Ziw6\n"
     ]
    },
    {
     "name": "stdout",
     "output_type": "stream",
     "text": [
      "https://finance.yahoo.com/quote/SFGIF\n"
     ]
    },
    {
     "name": "stderr",
     "output_type": "stream",
     "text": [
      "404 Client Error: Not Found for url: https://query2.finance.yahoo.com/v10/finance/quoteSummary/SFGIF?modules=recommendationTrend&corsDomain=finance.yahoo.com&formatted=false&symbol=SFGIF&crumb=RvcHzk3Ziw6\n"
     ]
    },
    {
     "name": "stdout",
     "output_type": "stream",
     "text": [
      "https://finance.yahoo.com/quote/SITIF\n"
     ]
    },
    {
     "name": "stderr",
     "output_type": "stream",
     "text": [
      "404 Client Error: Not Found for url: https://query2.finance.yahoo.com/v10/finance/quoteSummary/SITIF?modules=recommendationTrend&corsDomain=finance.yahoo.com&formatted=false&symbol=SITIF&crumb=RvcHzk3Ziw6\n"
     ]
    },
    {
     "name": "stdout",
     "output_type": "stream",
     "text": [
      "https://finance.yahoo.com/quote/PNXGF\n"
     ]
    },
    {
     "name": "stderr",
     "output_type": "stream",
     "text": [
      "404 Client Error: Not Found for url: https://query2.finance.yahoo.com/v10/finance/quoteSummary/PNXGF?modules=recommendationTrend&corsDomain=finance.yahoo.com&formatted=false&symbol=PNXGF&crumb=RvcHzk3Ziw6\n"
     ]
    },
    {
     "name": "stdout",
     "output_type": "stream",
     "text": [
      "https://finance.yahoo.com/quote/NMMRF\n"
     ]
    },
    {
     "name": "stderr",
     "output_type": "stream",
     "text": [
      "NMMRF: No earnings dates found, symbol may be delisted\n",
      "404 Client Error: Not Found for url: https://query2.finance.yahoo.com/v10/finance/quoteSummary/NMMRF?modules=recommendationTrend&corsDomain=finance.yahoo.com&formatted=false&symbol=NMMRF&crumb=RvcHzk3Ziw6\n"
     ]
    },
    {
     "name": "stdout",
     "output_type": "stream",
     "text": [
      "https://finance.yahoo.com/quote/EMLAF\n"
     ]
    },
    {
     "name": "stderr",
     "output_type": "stream",
     "text": [
      "404 Client Error: Not Found for url: https://query2.finance.yahoo.com/v10/finance/quoteSummary/EMLAF?modules=recommendationTrend&corsDomain=finance.yahoo.com&formatted=false&symbol=EMLAF&crumb=RvcHzk3Ziw6\n"
     ]
    },
    {
     "name": "stdout",
     "output_type": "stream",
     "text": [
      "https://finance.yahoo.com/quote/TLTZF\n"
     ]
    },
    {
     "name": "stderr",
     "output_type": "stream",
     "text": [
      "404 Client Error: Not Found for url: https://query2.finance.yahoo.com/v10/finance/quoteSummary/TLTZF?modules=recommendationTrend&corsDomain=finance.yahoo.com&formatted=false&symbol=TLTZF&crumb=RvcHzk3Ziw6\n"
     ]
    },
    {
     "name": "stdout",
     "output_type": "stream",
     "text": [
      "https://finance.yahoo.com/quote/BHTLF\n"
     ]
    },
    {
     "name": "stderr",
     "output_type": "stream",
     "text": [
      "404 Client Error: Not Found for url: https://query2.finance.yahoo.com/v10/finance/quoteSummary/BHTLF?modules=recommendationTrend&corsDomain=finance.yahoo.com&formatted=false&symbol=BHTLF&crumb=RvcHzk3Ziw6\n"
     ]
    },
    {
     "name": "stdout",
     "output_type": "stream",
     "text": [
      "https://finance.yahoo.com/quote/HKMPF\n"
     ]
    },
    {
     "name": "stderr",
     "output_type": "stream",
     "text": [
      "HKMPF: No earnings dates found, symbol may be delisted\n",
      "NAN: No earnings dates found, symbol may be delisted\n"
     ]
    },
    {
     "name": "stdout",
     "output_type": "stream",
     "text": [
      "https://finance.yahoo.com/quote/NAN\n",
      "https://finance.yahoo.com/quote/AOMFF\n"
     ]
    },
    {
     "name": "stderr",
     "output_type": "stream",
     "text": [
      "AOMFF: No earnings dates found, symbol may be delisted\n",
      "404 Client Error: Not Found for url: https://query2.finance.yahoo.com/v10/finance/quoteSummary/AOMFF?modules=recommendationTrend&corsDomain=finance.yahoo.com&formatted=false&symbol=AOMFF&crumb=RvcHzk3Ziw6\n"
     ]
    },
    {
     "name": "stdout",
     "output_type": "stream",
     "text": [
      "shortName not available for yfinance.Ticker object <KDXRF>\n",
      "https://finance.yahoo.com/quote/SPXCF\n",
      "https://finance.yahoo.com/quote/HKHGF\n"
     ]
    },
    {
     "name": "stderr",
     "output_type": "stream",
     "text": [
      "HKHGF: No earnings dates found, symbol may be delisted\n"
     ]
    },
    {
     "name": "stdout",
     "output_type": "stream",
     "text": [
      "https://finance.yahoo.com/quote/ORINF\n"
     ]
    },
    {
     "name": "stderr",
     "output_type": "stream",
     "text": [
      "404 Client Error: Not Found for url: https://query2.finance.yahoo.com/v10/finance/quoteSummary/ORINF?modules=recommendationTrend&corsDomain=finance.yahoo.com&formatted=false&symbol=ORINF&crumb=RvcHzk3Ziw6\n"
     ]
    },
    {
     "name": "stdout",
     "output_type": "stream",
     "text": [
      "https://finance.yahoo.com/quote/AMFPF\n"
     ]
    },
    {
     "name": "stderr",
     "output_type": "stream",
     "text": [
      "404 Client Error: Not Found for url: https://query2.finance.yahoo.com/v10/finance/quoteSummary/AMFPF?modules=recommendationTrend&corsDomain=finance.yahoo.com&formatted=false&symbol=AMFPF&crumb=RvcHzk3Ziw6\n"
     ]
    },
    {
     "name": "stdout",
     "output_type": "stream",
     "text": [
      "https://finance.yahoo.com/quote/HSHIF\n"
     ]
    },
    {
     "name": "stderr",
     "output_type": "stream",
     "text": [
      "404 Client Error: Not Found for url: https://query2.finance.yahoo.com/v10/finance/quoteSummary/HSHIF?modules=recommendationTrend&corsDomain=finance.yahoo.com&formatted=false&symbol=HSHIF&crumb=RvcHzk3Ziw6\n"
     ]
    },
    {
     "name": "stdout",
     "output_type": "stream",
     "text": [
      "https://finance.yahoo.com/quote/LBGUF\n"
     ]
    },
    {
     "name": "stderr",
     "output_type": "stream",
     "text": [
      "404 Client Error: Not Found for url: https://query2.finance.yahoo.com/v10/finance/quoteSummary/LBGUF?modules=recommendationTrend&corsDomain=finance.yahoo.com&formatted=false&symbol=LBGUF&crumb=RvcHzk3Ziw6\n"
     ]
    },
    {
     "name": "stdout",
     "output_type": "stream",
     "text": [
      "https://finance.yahoo.com/quote/KOBNF\n"
     ]
    },
    {
     "name": "stderr",
     "output_type": "stream",
     "text": [
      "404 Client Error: Not Found for url: https://query2.finance.yahoo.com/v10/finance/quoteSummary/KOBNF?modules=recommendationTrend&corsDomain=finance.yahoo.com&formatted=false&symbol=KOBNF&crumb=RvcHzk3Ziw6\n"
     ]
    },
    {
     "name": "stdout",
     "output_type": "stream",
     "text": [
      "https://finance.yahoo.com/quote/GIGNF\n"
     ]
    },
    {
     "name": "stderr",
     "output_type": "stream",
     "text": [
      "404 Client Error: Not Found for url: https://query2.finance.yahoo.com/v10/finance/quoteSummary/GIGNF?modules=recommendationTrend&corsDomain=finance.yahoo.com&formatted=false&symbol=GIGNF&crumb=RvcHzk3Ziw6\n"
     ]
    },
    {
     "name": "stdout",
     "output_type": "stream",
     "text": [
      "https://finance.yahoo.com/quote/BKWAF\n"
     ]
    },
    {
     "name": "stderr",
     "output_type": "stream",
     "text": [
      "BKWAF: No earnings dates found, symbol may be delisted\n",
      "404 Client Error: Not Found for url: https://query2.finance.yahoo.com/v10/finance/quoteSummary/BKWAF?modules=recommendationTrend&corsDomain=finance.yahoo.com&formatted=false&symbol=BKWAF&crumb=RvcHzk3Ziw6\n"
     ]
    },
    {
     "name": "stdout",
     "output_type": "stream",
     "text": [
      "https://finance.yahoo.com/quote/HULCF\n"
     ]
    },
    {
     "name": "stderr",
     "output_type": "stream",
     "text": [
      "404 Client Error: Not Found for url: https://query2.finance.yahoo.com/v10/finance/quoteSummary/HULCF?modules=recommendationTrend&corsDomain=finance.yahoo.com&formatted=false&symbol=HULCF&crumb=RvcHzk3Ziw6\n"
     ]
    },
    {
     "name": "stdout",
     "output_type": "stream",
     "text": [
      "https://finance.yahoo.com/quote/JREIF\n"
     ]
    },
    {
     "name": "stderr",
     "output_type": "stream",
     "text": [
      "JREIF: No earnings dates found, symbol may be delisted\n",
      "404 Client Error: Not Found for url: https://query2.finance.yahoo.com/v10/finance/quoteSummary/JREIF?modules=recommendationTrend&corsDomain=finance.yahoo.com&formatted=false&symbol=JREIF&crumb=RvcHzk3Ziw6\n"
     ]
    },
    {
     "name": "stdout",
     "output_type": "stream",
     "text": [
      "https://finance.yahoo.com/quote/IPSEF\n"
     ]
    },
    {
     "name": "stderr",
     "output_type": "stream",
     "text": [
      "IPSEF: No earnings dates found, symbol may be delisted\n"
     ]
    },
    {
     "name": "stdout",
     "output_type": "stream",
     "text": [
      "https://finance.yahoo.com/quote/WDPSF\n"
     ]
    },
    {
     "name": "stderr",
     "output_type": "stream",
     "text": [
      "404 Client Error: Not Found for url: https://query2.finance.yahoo.com/v10/finance/quoteSummary/WDPSF?modules=recommendationTrend&corsDomain=finance.yahoo.com&formatted=false&symbol=WDPSF&crumb=RvcHzk3Ziw6\n"
     ]
    },
    {
     "name": "stdout",
     "output_type": "stream",
     "text": [
      "https://finance.yahoo.com/quote/LFDJF\n"
     ]
    },
    {
     "name": "stderr",
     "output_type": "stream",
     "text": [
      "LFDJF: No earnings dates found, symbol may be delisted\n",
      "404 Client Error: Not Found for url: https://query2.finance.yahoo.com/v10/finance/quoteSummary/LFDJF?modules=recommendationTrend&corsDomain=finance.yahoo.com&formatted=false&symbol=LFDJF&crumb=RvcHzk3Ziw6\n"
     ]
    },
    {
     "name": "stdout",
     "output_type": "stream",
     "text": [
      "https://finance.yahoo.com/quote/AMDUF\n"
     ]
    },
    {
     "name": "stderr",
     "output_type": "stream",
     "text": [
      "404 Client Error: Not Found for url: https://query2.finance.yahoo.com/v10/finance/quoteSummary/AMDUF?modules=recommendationTrend&corsDomain=finance.yahoo.com&formatted=false&symbol=AMDUF&crumb=RvcHzk3Ziw6\n"
     ]
    },
    {
     "name": "stdout",
     "output_type": "stream",
     "text": [
      "https://finance.yahoo.com/quote/NNCHF\n"
     ]
    },
    {
     "name": "stderr",
     "output_type": "stream",
     "text": [
      "NNCHF: No earnings dates found, symbol may be delisted\n",
      "404 Client Error: Not Found for url: https://query2.finance.yahoo.com/v10/finance/quoteSummary/NNCHF?modules=recommendationTrend&corsDomain=finance.yahoo.com&formatted=false&symbol=NNCHF&crumb=RvcHzk3Ziw6\n"
     ]
    },
    {
     "name": "stdout",
     "output_type": "stream",
     "text": [
      "https://finance.yahoo.com/quote/QBCRF\n"
     ]
    },
    {
     "name": "stderr",
     "output_type": "stream",
     "text": [
      "404 Client Error: Not Found for url: https://query2.finance.yahoo.com/v10/finance/quoteSummary/QBCRF?modules=recommendationTrend&corsDomain=finance.yahoo.com&formatted=false&symbol=QBCRF&crumb=RvcHzk3Ziw6\n"
     ]
    },
    {
     "name": "stdout",
     "output_type": "stream",
     "text": [
      "https://finance.yahoo.com/quote/CHBAF\n"
     ]
    },
    {
     "name": "stderr",
     "output_type": "stream",
     "text": [
      "404 Client Error: Not Found for url: https://query2.finance.yahoo.com/v10/finance/quoteSummary/CHBAF?modules=recommendationTrend&corsDomain=finance.yahoo.com&formatted=false&symbol=CHBAF&crumb=RvcHzk3Ziw6\n"
     ]
    },
    {
     "name": "stdout",
     "output_type": "stream",
     "text": [
      "https://finance.yahoo.com/quote/UMICF\n"
     ]
    },
    {
     "name": "stderr",
     "output_type": "stream",
     "text": [
      "UMICF: No earnings dates found, symbol may be delisted\n",
      "404 Client Error: Not Found for url: https://query2.finance.yahoo.com/v10/finance/quoteSummary/UMICF?modules=recommendationTrend&corsDomain=finance.yahoo.com&formatted=false&symbol=UMICF&crumb=RvcHzk3Ziw6\n"
     ]
    },
    {
     "name": "stdout",
     "output_type": "stream",
     "text": [
      "https://finance.yahoo.com/quote/TKCOF\n"
     ]
    },
    {
     "name": "stderr",
     "output_type": "stream",
     "text": [
      "404 Client Error: Not Found for url: https://query2.finance.yahoo.com/v10/finance/quoteSummary/TKCOF?modules=recommendationTrend&corsDomain=finance.yahoo.com&formatted=false&symbol=TKCOF&crumb=RvcHzk3Ziw6\n"
     ]
    },
    {
     "name": "stdout",
     "output_type": "stream",
     "text": [
      "https://finance.yahoo.com/quote/RTLLF\n"
     ]
    },
    {
     "name": "stderr",
     "output_type": "stream",
     "text": [
      "404 Client Error: Not Found for url: https://query2.finance.yahoo.com/v10/finance/quoteSummary/RTLLF?modules=recommendationTrend&corsDomain=finance.yahoo.com&formatted=false&symbol=RTLLF&crumb=RvcHzk3Ziw6\n"
     ]
    },
    {
     "name": "stdout",
     "output_type": "stream",
     "text": [
      "https://finance.yahoo.com/quote/DFRYF\n"
     ]
    },
    {
     "name": "stderr",
     "output_type": "stream",
     "text": [
      "404 Client Error: Not Found for url: https://query2.finance.yahoo.com/v10/finance/quoteSummary/DFRYF?modules=recommendationTrend&corsDomain=finance.yahoo.com&formatted=false&symbol=DFRYF&crumb=RvcHzk3Ziw6\n"
     ]
    },
    {
     "name": "stdout",
     "output_type": "stream",
     "text": [
      "https://finance.yahoo.com/quote/BALDF\n"
     ]
    },
    {
     "name": "stderr",
     "output_type": "stream",
     "text": [
      "404 Client Error: Not Found for url: https://query2.finance.yahoo.com/v10/finance/quoteSummary/BALDF?modules=recommendationTrend&corsDomain=finance.yahoo.com&formatted=false&symbol=BALDF&crumb=RvcHzk3Ziw6\n"
     ]
    },
    {
     "name": "stdout",
     "output_type": "stream",
     "text": [
      "https://finance.yahoo.com/quote/IDTVF\n"
     ]
    },
    {
     "name": "stderr",
     "output_type": "stream",
     "text": [
      "404 Client Error: Not Found for url: https://query2.finance.yahoo.com/v10/finance/quoteSummary/IDTVF?modules=recommendationTrend&corsDomain=finance.yahoo.com&formatted=false&symbol=IDTVF&crumb=RvcHzk3Ziw6\n"
     ]
    },
    {
     "name": "stdout",
     "output_type": "stream",
     "text": [
      "https://finance.yahoo.com/quote/EVKIF\n"
     ]
    },
    {
     "name": "stderr",
     "output_type": "stream",
     "text": [
      "404 Client Error: Not Found for url: https://query2.finance.yahoo.com/v10/finance/quoteSummary/EVKIF?modules=recommendationTrend&corsDomain=finance.yahoo.com&formatted=false&symbol=EVKIF&crumb=RvcHzk3Ziw6\n"
     ]
    },
    {
     "name": "stdout",
     "output_type": "stream",
     "text": [
      "https://finance.yahoo.com/quote/AEOXF\n"
     ]
    },
    {
     "name": "stderr",
     "output_type": "stream",
     "text": [
      "AEOXF: No earnings dates found, symbol may be delisted\n",
      "404 Client Error: Not Found for url: https://query2.finance.yahoo.com/v10/finance/quoteSummary/AEOXF?modules=recommendationTrend&corsDomain=finance.yahoo.com&formatted=false&symbol=AEOXF&crumb=RvcHzk3Ziw6\n"
     ]
    },
    {
     "name": "stdout",
     "output_type": "stream",
     "text": [
      "https://finance.yahoo.com/quote/ZSHOF\n"
     ]
    },
    {
     "name": "stderr",
     "output_type": "stream",
     "text": [
      "ZSHOF: No earnings dates found, symbol may be delisted\n",
      "404 Client Error: Not Found for url: https://query2.finance.yahoo.com/v10/finance/quoteSummary/ZSHOF?modules=recommendationTrend&corsDomain=finance.yahoo.com&formatted=false&symbol=ZSHOF&crumb=RvcHzk3Ziw6\n"
     ]
    },
    {
     "name": "stdout",
     "output_type": "stream",
     "text": [
      "https://finance.yahoo.com/quote/WARFF\n"
     ]
    },
    {
     "name": "stderr",
     "output_type": "stream",
     "text": [
      "WARFF: No earnings dates found, symbol may be delisted\n",
      "404 Client Error: Not Found for url: https://query2.finance.yahoo.com/v10/finance/quoteSummary/WARFF?modules=recommendationTrend&corsDomain=finance.yahoo.com&formatted=false&symbol=WARFF&crumb=RvcHzk3Ziw6\n"
     ]
    },
    {
     "name": "stdout",
     "output_type": "stream",
     "text": [
      "https://finance.yahoo.com/quote/NPIFF\n"
     ]
    },
    {
     "name": "stderr",
     "output_type": "stream",
     "text": [
      "404 Client Error: Not Found for url: https://query2.finance.yahoo.com/v10/finance/quoteSummary/NPIFF?modules=recommendationTrend&corsDomain=finance.yahoo.com&formatted=false&symbol=NPIFF&crumb=RvcHzk3Ziw6\n"
     ]
    },
    {
     "name": "stdout",
     "output_type": "stream",
     "text": [
      "https://finance.yahoo.com/quote/TOTDF\n"
     ]
    },
    {
     "name": "stderr",
     "output_type": "stream",
     "text": [
      "404 Client Error: Not Found for url: https://query2.finance.yahoo.com/v10/finance/quoteSummary/TOTDF?modules=recommendationTrend&corsDomain=finance.yahoo.com&formatted=false&symbol=TOTDF&crumb=RvcHzk3Ziw6\n"
     ]
    },
    {
     "name": "stdout",
     "output_type": "stream",
     "text": [
      "https://finance.yahoo.com/quote/SQNXF\n"
     ]
    },
    {
     "name": "stderr",
     "output_type": "stream",
     "text": [
      "404 Client Error: Not Found for url: https://query2.finance.yahoo.com/v10/finance/quoteSummary/SQNXF?modules=recommendationTrend&corsDomain=finance.yahoo.com&formatted=false&symbol=SQNXF&crumb=RvcHzk3Ziw6\n"
     ]
    },
    {
     "name": "stdout",
     "output_type": "stream",
     "text": [
      "https://finance.yahoo.com/quote/IVTBF\n"
     ]
    },
    {
     "name": "stderr",
     "output_type": "stream",
     "text": [
      "404 Client Error: Not Found for url: https://query2.finance.yahoo.com/v10/finance/quoteSummary/IVTBF?modules=recommendationTrend&corsDomain=finance.yahoo.com&formatted=false&symbol=IVTBF&crumb=RvcHzk3Ziw6\n"
     ]
    },
    {
     "name": "stdout",
     "output_type": "stream",
     "text": [
      "https://finance.yahoo.com/quote/IFSUF\n"
     ]
    },
    {
     "name": "stderr",
     "output_type": "stream",
     "text": [
      "404 Client Error: Not Found for url: https://query2.finance.yahoo.com/v10/finance/quoteSummary/IFSUF?modules=recommendationTrend&corsDomain=finance.yahoo.com&formatted=false&symbol=IFSUF&crumb=RvcHzk3Ziw6\n"
     ]
    },
    {
     "name": "stdout",
     "output_type": "stream",
     "text": [
      "https://finance.yahoo.com/quote/EDRVF\n"
     ]
    },
    {
     "name": "stderr",
     "output_type": "stream",
     "text": [
      "404 Client Error: Not Found for url: https://query2.finance.yahoo.com/v10/finance/quoteSummary/EDRVF?modules=recommendationTrend&corsDomain=finance.yahoo.com&formatted=false&symbol=EDRVF&crumb=RvcHzk3Ziw6\n"
     ]
    },
    {
     "name": "stdout",
     "output_type": "stream",
     "text": [
      "https://finance.yahoo.com/quote/JDDSF\n"
     ]
    },
    {
     "name": "stderr",
     "output_type": "stream",
     "text": [
      "JDDSF: No earnings dates found, symbol may be delisted\n",
      "404 Client Error: Not Found for url: https://query2.finance.yahoo.com/v10/finance/quoteSummary/JDDSF?modules=recommendationTrend&corsDomain=finance.yahoo.com&formatted=false&symbol=JDDSF&crumb=RvcHzk3Ziw6\n"
     ]
    },
    {
     "name": "stdout",
     "output_type": "stream",
     "text": [
      "https://finance.yahoo.com/quote/ICL\n",
      "https://finance.yahoo.com/quote/DLVHF\n"
     ]
    },
    {
     "name": "stderr",
     "output_type": "stream",
     "text": [
      "404 Client Error: Not Found for url: https://query2.finance.yahoo.com/v10/finance/quoteSummary/DLVHF?modules=recommendationTrend&corsDomain=finance.yahoo.com&formatted=false&symbol=DLVHF&crumb=RvcHzk3Ziw6\n"
     ]
    },
    {
     "name": "stdout",
     "output_type": "stream",
     "text": [
      "https://finance.yahoo.com/quote/ELIAF\n"
     ]
    },
    {
     "name": "stderr",
     "output_type": "stream",
     "text": [
      "404 Client Error: Not Found for url: https://query2.finance.yahoo.com/v10/finance/quoteSummary/ELIAF?modules=recommendationTrend&corsDomain=finance.yahoo.com&formatted=false&symbol=ELIAF&crumb=RvcHzk3Ziw6\n"
     ]
    },
    {
     "name": "stdout",
     "output_type": "stream",
     "text": [
      "https://finance.yahoo.com/quote/SHNWF\n"
     ]
    },
    {
     "name": "stderr",
     "output_type": "stream",
     "text": [
      "SHNWF: No earnings dates found, symbol may be delisted\n",
      "404 Client Error: Not Found for url: https://query2.finance.yahoo.com/v10/finance/quoteSummary/SHNWF?modules=recommendationTrend&corsDomain=finance.yahoo.com&formatted=false&symbol=SHNWF&crumb=RvcHzk3Ziw6\n"
     ]
    },
    {
     "name": "stdout",
     "output_type": "stream",
     "text": [
      "shortName not available for yfinance.Ticker object <LTSSF>\n",
      "https://finance.yahoo.com/quote/EBOSF\n"
     ]
    },
    {
     "name": "stderr",
     "output_type": "stream",
     "text": [
      "EBOSF: No earnings dates found, symbol may be delisted\n",
      "404 Client Error: Not Found for url: https://query2.finance.yahoo.com/v10/finance/quoteSummary/EBOSF?modules=recommendationTrend&corsDomain=finance.yahoo.com&formatted=false&symbol=EBOSF&crumb=RvcHzk3Ziw6\n"
     ]
    },
    {
     "name": "stdout",
     "output_type": "stream",
     "text": [
      "https://finance.yahoo.com/quote/SLFPF\n"
     ]
    },
    {
     "name": "stderr",
     "output_type": "stream",
     "text": [
      "SLFPF: No earnings dates found, symbol may be delisted\n",
      "404 Client Error: Not Found for url: https://query2.finance.yahoo.com/v10/finance/quoteSummary/SLFPF?modules=recommendationTrend&corsDomain=finance.yahoo.com&formatted=false&symbol=SLFPF&crumb=RvcHzk3Ziw6\n"
     ]
    },
    {
     "name": "stdout",
     "output_type": "stream",
     "text": [
      "https://finance.yahoo.com/quote/MAPGF\n"
     ]
    },
    {
     "name": "stderr",
     "output_type": "stream",
     "text": [
      "404 Client Error: Not Found for url: https://query2.finance.yahoo.com/v10/finance/quoteSummary/MAPGF?modules=recommendationTrend&corsDomain=finance.yahoo.com&formatted=false&symbol=MAPGF&crumb=RvcHzk3Ziw6\n"
     ]
    },
    {
     "name": "stdout",
     "output_type": "stream",
     "text": [
      "https://finance.yahoo.com/quote/GLPJF\n"
     ]
    },
    {
     "name": "stderr",
     "output_type": "stream",
     "text": [
      "GLPJF: No earnings dates found, symbol may be delisted\n",
      "404 Client Error: Not Found for url: https://query2.finance.yahoo.com/v10/finance/quoteSummary/GLPJF?modules=recommendationTrend&corsDomain=finance.yahoo.com&formatted=false&symbol=GLPJF&crumb=RvcHzk3Ziw6\n"
     ]
    },
    {
     "name": "stdout",
     "output_type": "stream",
     "text": [
      "https://finance.yahoo.com/quote/SMBMF\n"
     ]
    },
    {
     "name": "stderr",
     "output_type": "stream",
     "text": [
      "404 Client Error: Not Found for url: https://query2.finance.yahoo.com/v10/finance/quoteSummary/SMBMF?modules=recommendationTrend&corsDomain=finance.yahoo.com&formatted=false&symbol=SMBMF&crumb=RvcHzk3Ziw6\n"
     ]
    },
    {
     "name": "stdout",
     "output_type": "stream",
     "text": [
      "https://finance.yahoo.com/quote/SCRPF\n"
     ]
    },
    {
     "name": "stderr",
     "output_type": "stream",
     "text": [
      "404 Client Error: Not Found for url: https://query2.finance.yahoo.com/v10/finance/quoteSummary/SCRPF?modules=recommendationTrend&corsDomain=finance.yahoo.com&formatted=false&symbol=SCRPF&crumb=RvcHzk3Ziw6\n"
     ]
    },
    {
     "name": "stdout",
     "output_type": "stream",
     "text": [
      "https://finance.yahoo.com/quote/BQCNF\n"
     ]
    },
    {
     "name": "stderr",
     "output_type": "stream",
     "text": [
      "404 Client Error: Not Found for url: https://query2.finance.yahoo.com/v10/finance/quoteSummary/BQCNF?modules=recommendationTrend&corsDomain=finance.yahoo.com&formatted=false&symbol=BQCNF&crumb=RvcHzk3Ziw6\n"
     ]
    },
    {
     "name": "stdout",
     "output_type": "stream",
     "text": [
      "https://finance.yahoo.com/quote/STJPF\n"
     ]
    },
    {
     "name": "stderr",
     "output_type": "stream",
     "text": [
      "STJPF: No earnings dates found, symbol may be delisted\n",
      "404 Client Error: Not Found for url: https://query2.finance.yahoo.com/v10/finance/quoteSummary/STJPF?modules=recommendationTrend&corsDomain=finance.yahoo.com&formatted=false&symbol=STJPF&crumb=RvcHzk3Ziw6\n"
     ]
    },
    {
     "name": "stdout",
     "output_type": "stream",
     "text": [
      "https://finance.yahoo.com/quote/EUZOF\n",
      "https://finance.yahoo.com/quote/SFNXF\n"
     ]
    },
    {
     "name": "stderr",
     "output_type": "stream",
     "text": [
      "404 Client Error: Not Found for url: https://query2.finance.yahoo.com/v10/finance/quoteSummary/SFNXF?modules=recommendationTrend&corsDomain=finance.yahoo.com&formatted=false&symbol=SFNXF&crumb=RvcHzk3Ziw6\n"
     ]
    },
    {
     "name": "stdout",
     "output_type": "stream",
     "text": [
      "https://finance.yahoo.com/quote/BEPC\n",
      "https://finance.yahoo.com/quote/HUSQF\n",
      "https://finance.yahoo.com/quote/SEBYF\n"
     ]
    },
    {
     "name": "stderr",
     "output_type": "stream",
     "text": [
      "404 Client Error: Not Found for url: https://query2.finance.yahoo.com/v10/finance/quoteSummary/SEBYF?modules=recommendationTrend&corsDomain=finance.yahoo.com&formatted=false&symbol=SEBYF&crumb=RvcHzk3Ziw6\n"
     ]
    },
    {
     "name": "stdout",
     "output_type": "stream",
     "text": [
      "https://finance.yahoo.com/quote/HRGLF\n"
     ]
    },
    {
     "name": "stderr",
     "output_type": "stream",
     "text": [
      "HRGLF: No earnings dates found, symbol may be delisted\n",
      "404 Client Error: Not Found for url: https://query2.finance.yahoo.com/v10/finance/quoteSummary/HRGLF?modules=recommendationTrend&corsDomain=finance.yahoo.com&formatted=false&symbol=HRGLF&crumb=RvcHzk3Ziw6\n"
     ]
    },
    {
     "name": "stdout",
     "output_type": "stream",
     "text": [
      "https://finance.yahoo.com/quote/VLPNF\n"
     ]
    },
    {
     "name": "stderr",
     "output_type": "stream",
     "text": [
      "404 Client Error: Not Found for url: https://query2.finance.yahoo.com/v10/finance/quoteSummary/VLPNF?modules=recommendationTrend&corsDomain=finance.yahoo.com&formatted=false&symbol=VLPNF&crumb=RvcHzk3Ziw6\n"
     ]
    },
    {
     "name": "stdout",
     "output_type": "stream",
     "text": [
      "https://finance.yahoo.com/quote/GJNSF\n"
     ]
    },
    {
     "name": "stderr",
     "output_type": "stream",
     "text": [
      "404 Client Error: Not Found for url: https://query2.finance.yahoo.com/v10/finance/quoteSummary/GJNSF?modules=recommendationTrend&corsDomain=finance.yahoo.com&formatted=false&symbol=GJNSF&crumb=RvcHzk3Ziw6\n"
     ]
    },
    {
     "name": "stdout",
     "output_type": "stream",
     "text": [
      "https://finance.yahoo.com/quote/MONOF\n"
     ]
    },
    {
     "name": "stderr",
     "output_type": "stream",
     "text": [
      "404 Client Error: Not Found for url: https://query2.finance.yahoo.com/v10/finance/quoteSummary/MONOF?modules=recommendationTrend&corsDomain=finance.yahoo.com&formatted=false&symbol=MONOF&crumb=RvcHzk3Ziw6\n"
     ]
    },
    {
     "name": "stdout",
     "output_type": "stream",
     "text": [
      "https://finance.yahoo.com/quote/QUBSF\n"
     ]
    },
    {
     "name": "stderr",
     "output_type": "stream",
     "text": [
      "QUBSF: No earnings dates found, symbol may be delisted\n",
      "404 Client Error: Not Found for url: https://query2.finance.yahoo.com/v10/finance/quoteSummary/QUBSF?modules=recommendationTrend&corsDomain=finance.yahoo.com&formatted=false&symbol=QUBSF&crumb=RvcHzk3Ziw6\n"
     ]
    },
    {
     "name": "stdout",
     "output_type": "stream",
     "text": [
      "https://finance.yahoo.com/quote/CLZNF\n"
     ]
    },
    {
     "name": "stderr",
     "output_type": "stream",
     "text": [
      "404 Client Error: Not Found for url: https://query2.finance.yahoo.com/v10/finance/quoteSummary/CLZNF?modules=recommendationTrend&corsDomain=finance.yahoo.com&formatted=false&symbol=CLZNF&crumb=RvcHzk3Ziw6\n"
     ]
    },
    {
     "name": "stdout",
     "output_type": "stream",
     "text": [
      "https://finance.yahoo.com/quote/GLBE\n",
      "https://finance.yahoo.com/quote/HLMMF\n"
     ]
    },
    {
     "name": "stderr",
     "output_type": "stream",
     "text": [
      "404 Client Error: Not Found for url: https://query2.finance.yahoo.com/v10/finance/quoteSummary/HLMMF?modules=recommendationTrend&corsDomain=finance.yahoo.com&formatted=false&symbol=HLMMF&crumb=RvcHzk3Ziw6\n"
     ]
    },
    {
     "name": "stdout",
     "output_type": "stream",
     "text": [
      "https://finance.yahoo.com/quote/CDPYF\n"
     ]
    },
    {
     "name": "stderr",
     "output_type": "stream",
     "text": [
      "404 Client Error: Not Found for url: https://query2.finance.yahoo.com/v10/finance/quoteSummary/CDPYF?modules=recommendationTrend&corsDomain=finance.yahoo.com&formatted=false&symbol=CDPYF&crumb=RvcHzk3Ziw6\n"
     ]
    },
    {
     "name": "stdout",
     "output_type": "stream",
     "text": [
      "https://finance.yahoo.com/quote/OCDGF\n"
     ]
    },
    {
     "name": "stderr",
     "output_type": "stream",
     "text": [
      "404 Client Error: Not Found for url: https://query2.finance.yahoo.com/v10/finance/quoteSummary/OCDGF?modules=recommendationTrend&corsDomain=finance.yahoo.com&formatted=false&symbol=OCDGF&crumb=RvcHzk3Ziw6\n"
     ]
    },
    {
     "name": "stdout",
     "output_type": "stream",
     "text": [
      "https://finance.yahoo.com/quote/FUTU\n",
      "https://finance.yahoo.com/quote/EDVMF\n"
     ]
    },
    {
     "name": "stderr",
     "output_type": "stream",
     "text": [
      "404 Client Error: Not Found for url: https://query2.finance.yahoo.com/v10/finance/quoteSummary/EDVMF?modules=recommendationTrend&corsDomain=finance.yahoo.com&formatted=false&symbol=EDVMF&crumb=RvcHzk3Ziw6\n"
     ]
    },
    {
     "name": "stdout",
     "output_type": "stream",
     "text": [
      "https://finance.yahoo.com/quote/SIRI\n",
      "https://finance.yahoo.com/quote/AZRGF\n"
     ]
    },
    {
     "name": "stderr",
     "output_type": "stream",
     "text": [
      "404 Client Error: Not Found for url: https://query2.finance.yahoo.com/v10/finance/quoteSummary/AZRGF?modules=recommendationTrend&corsDomain=finance.yahoo.com&formatted=false&symbol=AZRGF&crumb=RvcHzk3Ziw6\n"
     ]
    },
    {
     "name": "stdout",
     "output_type": "stream",
     "text": [
      "https://finance.yahoo.com/quote/TIAOF\n",
      "https://finance.yahoo.com/quote/YAMCF\n"
     ]
    },
    {
     "name": "stderr",
     "output_type": "stream",
     "text": [
      "404 Client Error: Not Found for url: https://query2.finance.yahoo.com/v10/finance/quoteSummary/YAMCF?modules=recommendationTrend&corsDomain=finance.yahoo.com&formatted=false&symbol=YAMCF&crumb=RvcHzk3Ziw6\n"
     ]
    },
    {
     "name": "stdout",
     "output_type": "stream",
     "text": [
      "https://finance.yahoo.com/quote/SHMUF\n"
     ]
    },
    {
     "name": "stderr",
     "output_type": "stream",
     "text": [
      "404 Client Error: Not Found for url: https://query2.finance.yahoo.com/v10/finance/quoteSummary/SHMUF?modules=recommendationTrend&corsDomain=finance.yahoo.com&formatted=false&symbol=SHMUF&crumb=RvcHzk3Ziw6\n"
     ]
    },
    {
     "name": "stdout",
     "output_type": "stream",
     "text": [
      "https://finance.yahoo.com/quote/CDUAF\n"
     ]
    },
    {
     "name": "stderr",
     "output_type": "stream",
     "text": [
      "404 Client Error: Not Found for url: https://query2.finance.yahoo.com/v10/finance/quoteSummary/CDUAF?modules=recommendationTrend&corsDomain=finance.yahoo.com&formatted=false&symbol=CDUAF&crumb=RvcHzk3Ziw6\n"
     ]
    },
    {
     "name": "stdout",
     "output_type": "stream",
     "text": [
      "https://finance.yahoo.com/quote/ACXIF\n",
      "https://finance.yahoo.com/quote/MGHTF\n"
     ]
    },
    {
     "name": "stderr",
     "output_type": "stream",
     "text": [
      "MGHTF: No earnings dates found, symbol may be delisted\n",
      "404 Client Error: Not Found for url: https://query2.finance.yahoo.com/v10/finance/quoteSummary/MGHTF?modules=recommendationTrend&corsDomain=finance.yahoo.com&formatted=false&symbol=MGHTF&crumb=RvcHzk3Ziw6\n"
     ]
    },
    {
     "name": "stdout",
     "output_type": "stream",
     "text": [
      "https://finance.yahoo.com/quote/TBURF\n"
     ]
    },
    {
     "name": "stderr",
     "output_type": "stream",
     "text": [
      "404 Client Error: Not Found for url: https://query2.finance.yahoo.com/v10/finance/quoteSummary/TBURF?modules=recommendationTrend&corsDomain=finance.yahoo.com&formatted=false&symbol=TBURF&crumb=RvcHzk3Ziw6\n"
     ]
    },
    {
     "name": "stdout",
     "output_type": "stream",
     "text": [
      "https://finance.yahoo.com/quote/BCE\n",
      "https://finance.yahoo.com/quote/SWGNF\n"
     ]
    },
    {
     "name": "stderr",
     "output_type": "stream",
     "text": [
      "SWGNF: No earnings dates found, symbol may be delisted\n",
      "404 Client Error: Not Found for url: https://query2.finance.yahoo.com/v10/finance/quoteSummary/SWGNF?modules=recommendationTrend&corsDomain=finance.yahoo.com&formatted=false&symbol=SWGNF&crumb=RvcHzk3Ziw6\n"
     ]
    },
    {
     "name": "stdout",
     "output_type": "stream",
     "text": [
      "https://finance.yahoo.com/quote/RKWBF\n"
     ]
    },
    {
     "name": "stderr",
     "output_type": "stream",
     "text": [
      "404 Client Error: Not Found for url: https://query2.finance.yahoo.com/v10/finance/quoteSummary/RKWBF?modules=recommendationTrend&corsDomain=finance.yahoo.com&formatted=false&symbol=RKWBF&crumb=RvcHzk3Ziw6\n"
     ]
    },
    {
     "name": "stdout",
     "output_type": "stream",
     "text": [
      "https://finance.yahoo.com/quote/WWLNF\n"
     ]
    },
    {
     "name": "stderr",
     "output_type": "stream",
     "text": [
      "404 Client Error: Not Found for url: https://query2.finance.yahoo.com/v10/finance/quoteSummary/WWLNF?modules=recommendationTrend&corsDomain=finance.yahoo.com&formatted=false&symbol=WWLNF&crumb=RvcHzk3Ziw6\n"
     ]
    },
    {
     "name": "stdout",
     "output_type": "stream",
     "text": [
      "https://finance.yahoo.com/quote/HLPPF\n"
     ]
    },
    {
     "name": "stderr",
     "output_type": "stream",
     "text": [
      "HLPPF: No earnings dates found, symbol may be delisted\n",
      "404 Client Error: Not Found for url: https://query2.finance.yahoo.com/v10/finance/quoteSummary/HLPPF?modules=recommendationTrend&corsDomain=finance.yahoo.com&formatted=false&symbol=HLPPF&crumb=RvcHzk3Ziw6\n"
     ]
    },
    {
     "name": "stdout",
     "output_type": "stream",
     "text": [
      "https://finance.yahoo.com/quote/ADEVF\n"
     ]
    },
    {
     "name": "stderr",
     "output_type": "stream",
     "text": [
      "404 Client Error: Not Found for url: https://query2.finance.yahoo.com/v10/finance/quoteSummary/ADEVF?modules=recommendationTrend&corsDomain=finance.yahoo.com&formatted=false&symbol=ADEVF&crumb=RvcHzk3Ziw6\n"
     ]
    },
    {
     "name": "stdout",
     "output_type": "stream",
     "text": [
      "https://finance.yahoo.com/quote/ESRCF\n"
     ]
    },
    {
     "name": "stderr",
     "output_type": "stream",
     "text": [
      "ESRCF: No earnings dates found, symbol may be delisted\n",
      "404 Client Error: Not Found for url: https://query2.finance.yahoo.com/v10/finance/quoteSummary/ESRCF?modules=recommendationTrend&corsDomain=finance.yahoo.com&formatted=false&symbol=ESRCF&crumb=RvcHzk3Ziw6\n"
     ]
    },
    {
     "name": "stdout",
     "output_type": "stream",
     "text": [
      "https://finance.yahoo.com/quote/IDPUF\n"
     ]
    },
    {
     "name": "stderr",
     "output_type": "stream",
     "text": [
      "404 Client Error: Not Found for url: https://query2.finance.yahoo.com/v10/finance/quoteSummary/IDPUF?modules=recommendationTrend&corsDomain=finance.yahoo.com&formatted=false&symbol=IDPUF&crumb=RvcHzk3Ziw6\n"
     ]
    },
    {
     "name": "stdout",
     "output_type": "stream",
     "text": [
      "https://finance.yahoo.com/quote/SNLAF\n"
     ]
    },
    {
     "name": "stderr",
     "output_type": "stream",
     "text": [
      "SNLAF: No earnings dates found, symbol may be delisted\n"
     ]
    },
    {
     "name": "stdout",
     "output_type": "stream",
     "text": [
      "https://finance.yahoo.com/quote/BCHMF\n"
     ]
    },
    {
     "name": "stderr",
     "output_type": "stream",
     "text": [
      "BCHMF: No earnings dates found, symbol may be delisted\n",
      "404 Client Error: Not Found for url: https://query2.finance.yahoo.com/v10/finance/quoteSummary/BCHMF?modules=recommendationTrend&corsDomain=finance.yahoo.com&formatted=false&symbol=BCHMF&crumb=RvcHzk3Ziw6\n"
     ]
    },
    {
     "name": "stdout",
     "output_type": "stream",
     "text": [
      "https://finance.yahoo.com/quote/GIFLF\n"
     ]
    },
    {
     "name": "stderr",
     "output_type": "stream",
     "text": [
      "404 Client Error: Not Found for url: https://query2.finance.yahoo.com/v10/finance/quoteSummary/GIFLF?modules=recommendationTrend&corsDomain=finance.yahoo.com&formatted=false&symbol=GIFLF&crumb=RvcHzk3Ziw6\n"
     ]
    },
    {
     "name": "stdout",
     "output_type": "stream",
     "text": [
      "https://finance.yahoo.com/quote/ACDVF\n",
      "https://finance.yahoo.com/quote/JDEPF\n"
     ]
    },
    {
     "name": "stderr",
     "output_type": "stream",
     "text": [
      "404 Client Error: Not Found for url: https://query2.finance.yahoo.com/v10/finance/quoteSummary/JDEPF?modules=recommendationTrend&corsDomain=finance.yahoo.com&formatted=false&symbol=JDEPF&crumb=RvcHzk3Ziw6\n"
     ]
    },
    {
     "name": "stdout",
     "output_type": "stream",
     "text": [
      "https://finance.yahoo.com/quote/DSRLF\n"
     ]
    },
    {
     "name": "stderr",
     "output_type": "stream",
     "text": [
      "404 Client Error: Not Found for url: https://query2.finance.yahoo.com/v10/finance/quoteSummary/DSRLF?modules=recommendationTrend&corsDomain=finance.yahoo.com&formatted=false&symbol=DSRLF&crumb=RvcHzk3Ziw6\n"
     ]
    },
    {
     "name": "stdout",
     "output_type": "stream",
     "text": [
      "https://finance.yahoo.com/quote/REMYF\n"
     ]
    },
    {
     "name": "stderr",
     "output_type": "stream",
     "text": [
      "REMYF: No earnings dates found, symbol may be delisted\n"
     ]
    },
    {
     "name": "stdout",
     "output_type": "stream",
     "text": [
      "https://finance.yahoo.com/quote/GSEFF\n"
     ]
    },
    {
     "name": "stderr",
     "output_type": "stream",
     "text": [
      "GSEFF: No earnings dates found, symbol may be delisted\n",
      "404 Client Error: Not Found for url: https://query2.finance.yahoo.com/v10/finance/quoteSummary/GSEFF?modules=recommendationTrend&corsDomain=finance.yahoo.com&formatted=false&symbol=GSEFF&crumb=RvcHzk3Ziw6\n"
     ]
    },
    {
     "name": "stdout",
     "output_type": "stream",
     "text": [
      "https://finance.yahoo.com/quote/OCINF\n"
     ]
    },
    {
     "name": "stderr",
     "output_type": "stream",
     "text": [
      "404 Client Error: Not Found for url: https://query2.finance.yahoo.com/v10/finance/quoteSummary/OCINF?modules=recommendationTrend&corsDomain=finance.yahoo.com&formatted=false&symbol=OCINF&crumb=RvcHzk3Ziw6\n"
     ]
    },
    {
     "name": "stdout",
     "output_type": "stream",
     "text": [
      "https://finance.yahoo.com/quote/HRSEF\n"
     ]
    },
    {
     "name": "stderr",
     "output_type": "stream",
     "text": [
      "404 Client Error: Not Found for url: https://query2.finance.yahoo.com/v10/finance/quoteSummary/HRSEF?modules=recommendationTrend&corsDomain=finance.yahoo.com&formatted=false&symbol=HRSEF&crumb=RvcHzk3Ziw6\n"
     ]
    },
    {
     "name": "stdout",
     "output_type": "stream",
     "text": [
      "https://finance.yahoo.com/quote/DOOO\n",
      "https://finance.yahoo.com/quote/IGIFF\n"
     ]
    },
    {
     "name": "stderr",
     "output_type": "stream",
     "text": [
      "404 Client Error: Not Found for url: https://query2.finance.yahoo.com/v10/finance/quoteSummary/IGIFF?modules=recommendationTrend&corsDomain=finance.yahoo.com&formatted=false&symbol=IGIFF&crumb=RvcHzk3Ziw6\n"
     ]
    },
    {
     "name": "stdout",
     "output_type": "stream",
     "text": [
      "https://finance.yahoo.com/quote/USSJF\n"
     ]
    },
    {
     "name": "stderr",
     "output_type": "stream",
     "text": [
      "404 Client Error: Not Found for url: https://query2.finance.yahoo.com/v10/finance/quoteSummary/USSJF?modules=recommendationTrend&corsDomain=finance.yahoo.com&formatted=false&symbol=USSJF&crumb=RvcHzk3Ziw6\n"
     ]
    },
    {
     "name": "stdout",
     "output_type": "stream",
     "text": [
      "https://finance.yahoo.com/quote/RIOCF\n"
     ]
    },
    {
     "name": "stderr",
     "output_type": "stream",
     "text": [
      "404 Client Error: Not Found for url: https://query2.finance.yahoo.com/v10/finance/quoteSummary/RIOCF?modules=recommendationTrend&corsDomain=finance.yahoo.com&formatted=false&symbol=RIOCF&crumb=RvcHzk3Ziw6\n"
     ]
    },
    {
     "name": "stdout",
     "output_type": "stream",
     "text": [
      "https://finance.yahoo.com/quote/MPCMF\n"
     ]
    },
    {
     "name": "stderr",
     "output_type": "stream",
     "text": [
      "404 Client Error: Not Found for url: https://query2.finance.yahoo.com/v10/finance/quoteSummary/MPCMF?modules=recommendationTrend&corsDomain=finance.yahoo.com&formatted=false&symbol=MPCMF&crumb=RvcHzk3Ziw6\n"
     ]
    },
    {
     "name": "stdout",
     "output_type": "stream",
     "text": [
      "https://finance.yahoo.com/quote/HKTGF\n"
     ]
    },
    {
     "name": "stderr",
     "output_type": "stream",
     "text": [
      "404 Client Error: Not Found for url: https://query2.finance.yahoo.com/v10/finance/quoteSummary/HKTGF?modules=recommendationTrend&corsDomain=finance.yahoo.com&formatted=false&symbol=HKTGF&crumb=RvcHzk3Ziw6\n"
     ]
    },
    {
     "name": "stdout",
     "output_type": "stream",
     "text": [
      "https://finance.yahoo.com/quote/SWPFF\n"
     ]
    },
    {
     "name": "stderr",
     "output_type": "stream",
     "text": [
      "SWPFF: No earnings dates found, symbol may be delisted\n",
      "404 Client Error: Not Found for url: https://query2.finance.yahoo.com/v10/finance/quoteSummary/SWPFF?modules=recommendationTrend&corsDomain=finance.yahoo.com&formatted=false&symbol=SWPFF&crumb=RvcHzk3Ziw6\n"
     ]
    },
    {
     "name": "stdout",
     "output_type": "stream",
     "text": [
      "https://finance.yahoo.com/quote/VLVOF\n"
     ]
    },
    {
     "name": "stderr",
     "output_type": "stream",
     "text": [
      "404 Client Error: Not Found for url: https://query2.finance.yahoo.com/v10/finance/quoteSummary/VLVOF?modules=recommendationTrend&corsDomain=finance.yahoo.com&formatted=false&symbol=VLVOF&crumb=RvcHzk3Ziw6\n"
     ]
    },
    {
     "name": "stdout",
     "output_type": "stream",
     "text": [
      "https://finance.yahoo.com/quote/JPPIF\n"
     ]
    },
    {
     "name": "stderr",
     "output_type": "stream",
     "text": [
      "404 Client Error: Not Found for url: https://query2.finance.yahoo.com/v10/finance/quoteSummary/JPPIF?modules=recommendationTrend&corsDomain=finance.yahoo.com&formatted=false&symbol=JPPIF&crumb=RvcHzk3Ziw6\n"
     ]
    },
    {
     "name": "stdout",
     "output_type": "stream",
     "text": [
      "https://finance.yahoo.com/quote/YMATF\n"
     ]
    },
    {
     "name": "stderr",
     "output_type": "stream",
     "text": [
      "404 Client Error: Not Found for url: https://query2.finance.yahoo.com/v10/finance/quoteSummary/YMATF?modules=recommendationTrend&corsDomain=finance.yahoo.com&formatted=false&symbol=YMATF&crumb=RvcHzk3Ziw6\n"
     ]
    },
    {
     "name": "stdout",
     "output_type": "stream",
     "text": [
      "https://finance.yahoo.com/quote/ALNPF\n"
     ]
    },
    {
     "name": "stderr",
     "output_type": "stream",
     "text": [
      "404 Client Error: Not Found for url: https://query2.finance.yahoo.com/v10/finance/quoteSummary/ALNPF?modules=recommendationTrend&corsDomain=finance.yahoo.com&formatted=false&symbol=ALNPF&crumb=RvcHzk3Ziw6\n"
     ]
    },
    {
     "name": "stdout",
     "output_type": "stream",
     "text": [
      "https://finance.yahoo.com/quote/JCYCF\n"
     ]
    },
    {
     "name": "stderr",
     "output_type": "stream",
     "text": [
      "404 Client Error: Not Found for url: https://query2.finance.yahoo.com/v10/finance/quoteSummary/JCYCF?modules=recommendationTrend&corsDomain=finance.yahoo.com&formatted=false&symbol=JCYCF&crumb=RvcHzk3Ziw6\n"
     ]
    },
    {
     "name": "stdout",
     "output_type": "stream",
     "text": [
      "https://finance.yahoo.com/quote/RDEIF\n"
     ]
    },
    {
     "name": "stderr",
     "output_type": "stream",
     "text": [
      "404 Client Error: Not Found for url: https://query2.finance.yahoo.com/v10/finance/quoteSummary/RDEIF?modules=recommendationTrend&corsDomain=finance.yahoo.com&formatted=false&symbol=RDEIF&crumb=RvcHzk3Ziw6\n"
     ]
    },
    {
     "name": "stdout",
     "output_type": "stream",
     "text": [
      "https://finance.yahoo.com/quote/HTCMF\n"
     ]
    },
    {
     "name": "stderr",
     "output_type": "stream",
     "text": [
      "404 Client Error: Not Found for url: https://query2.finance.yahoo.com/v10/finance/quoteSummary/HTCMF?modules=recommendationTrend&corsDomain=finance.yahoo.com&formatted=false&symbol=HTCMF&crumb=RvcHzk3Ziw6\n"
     ]
    },
    {
     "name": "stdout",
     "output_type": "stream",
     "text": [
      "https://finance.yahoo.com/quote/CDEVF\n"
     ]
    },
    {
     "name": "stderr",
     "output_type": "stream",
     "text": [
      "404 Client Error: Not Found for url: https://query2.finance.yahoo.com/v10/finance/quoteSummary/CDEVF?modules=recommendationTrend&corsDomain=finance.yahoo.com&formatted=false&symbol=CDEVF&crumb=RvcHzk3Ziw6\n"
     ]
    },
    {
     "name": "stdout",
     "output_type": "stream",
     "text": [
      "https://finance.yahoo.com/quote/SITIF\n"
     ]
    },
    {
     "name": "stderr",
     "output_type": "stream",
     "text": [
      "404 Client Error: Not Found for url: https://query2.finance.yahoo.com/v10/finance/quoteSummary/SITIF?modules=recommendationTrend&corsDomain=finance.yahoo.com&formatted=false&symbol=SITIF&crumb=RvcHzk3Ziw6\n"
     ]
    },
    {
     "name": "stdout",
     "output_type": "stream",
     "text": [
      "https://finance.yahoo.com/quote/SCSKF\n"
     ]
    },
    {
     "name": "stderr",
     "output_type": "stream",
     "text": [
      "404 Client Error: Not Found for url: https://query2.finance.yahoo.com/v10/finance/quoteSummary/SCSKF?modules=recommendationTrend&corsDomain=finance.yahoo.com&formatted=false&symbol=SCSKF&crumb=RvcHzk3Ziw6\n"
     ]
    },
    {
     "name": "stdout",
     "output_type": "stream",
     "text": [
      "https://finance.yahoo.com/quote/OCLCF\n"
     ]
    },
    {
     "name": "stderr",
     "output_type": "stream",
     "text": [
      "404 Client Error: Not Found for url: https://query2.finance.yahoo.com/v10/finance/quoteSummary/OCLCF?modules=recommendationTrend&corsDomain=finance.yahoo.com&formatted=false&symbol=OCLCF&crumb=RvcHzk3Ziw6\n"
     ]
    },
    {
     "name": "stdout",
     "output_type": "stream",
     "text": [
      "https://finance.yahoo.com/quote/SATLF\n"
     ]
    },
    {
     "name": "stderr",
     "output_type": "stream",
     "text": [
      "404 Client Error: Not Found for url: https://query2.finance.yahoo.com/v10/finance/quoteSummary/SATLF?modules=recommendationTrend&corsDomain=finance.yahoo.com&formatted=false&symbol=SATLF&crumb=RvcHzk3Ziw6\n"
     ]
    },
    {
     "name": "stdout",
     "output_type": "stream",
     "text": [
      "https://finance.yahoo.com/quote/JPNRF\n"
     ]
    },
    {
     "name": "stderr",
     "output_type": "stream",
     "text": [
      "404 Client Error: Not Found for url: https://query2.finance.yahoo.com/v10/finance/quoteSummary/JPNRF?modules=recommendationTrend&corsDomain=finance.yahoo.com&formatted=false&symbol=JPNRF&crumb=RvcHzk3Ziw6\n"
     ]
    },
    {
     "name": "stdout",
     "output_type": "stream",
     "text": [
      "https://finance.yahoo.com/quote/KOTMF\n"
     ]
    },
    {
     "name": "stderr",
     "output_type": "stream",
     "text": [
      "404 Client Error: Not Found for url: https://query2.finance.yahoo.com/v10/finance/quoteSummary/KOTMF?modules=recommendationTrend&corsDomain=finance.yahoo.com&formatted=false&symbol=KOTMF&crumb=RvcHzk3Ziw6\n"
     ]
    },
    {
     "name": "stdout",
     "output_type": "stream",
     "text": [
      "https://finance.yahoo.com/quote/SITIF\n"
     ]
    },
    {
     "name": "stderr",
     "output_type": "stream",
     "text": [
      "404 Client Error: Not Found for url: https://query2.finance.yahoo.com/v10/finance/quoteSummary/SITIF?modules=recommendationTrend&corsDomain=finance.yahoo.com&formatted=false&symbol=SITIF&crumb=RvcHzk3Ziw6\n"
     ]
    },
    {
     "name": "stdout",
     "output_type": "stream",
     "text": [
      "https://finance.yahoo.com/quote/ANTOF\n"
     ]
    },
    {
     "name": "stderr",
     "output_type": "stream",
     "text": [
      "404 Client Error: Not Found for url: https://query2.finance.yahoo.com/v10/finance/quoteSummary/ANTOF?modules=recommendationTrend&corsDomain=finance.yahoo.com&formatted=false&symbol=ANTOF&crumb=RvcHzk3Ziw6\n"
     ]
    },
    {
     "name": "stdout",
     "output_type": "stream",
     "text": [
      "https://finance.yahoo.com/quote/SHCAF\n"
     ]
    },
    {
     "name": "stderr",
     "output_type": "stream",
     "text": [
      "404 Client Error: Not Found for url: https://query2.finance.yahoo.com/v10/finance/quoteSummary/SHCAF?modules=recommendationTrend&corsDomain=finance.yahoo.com&formatted=false&symbol=SHCAF&crumb=RvcHzk3Ziw6\n"
     ]
    },
    {
     "name": "stdout",
     "output_type": "stream",
     "text": [
      "https://finance.yahoo.com/quote/ENGGF\n",
      "https://finance.yahoo.com/quote/CRPAF\n"
     ]
    },
    {
     "name": "stderr",
     "output_type": "stream",
     "text": [
      "CRPAF: No earnings dates found, symbol may be delisted\n",
      "404 Client Error: Not Found for url: https://query2.finance.yahoo.com/v10/finance/quoteSummary/CRPAF?modules=recommendationTrend&corsDomain=finance.yahoo.com&formatted=false&symbol=CRPAF&crumb=RvcHzk3Ziw6\n"
     ]
    },
    {
     "name": "stdout",
     "output_type": "stream",
     "text": [
      "https://finance.yahoo.com/quote/ISCDF\n"
     ]
    },
    {
     "name": "stderr",
     "output_type": "stream",
     "text": [
      "404 Client Error: Not Found for url: https://query2.finance.yahoo.com/v10/finance/quoteSummary/ISCDF?modules=recommendationTrend&corsDomain=finance.yahoo.com&formatted=false&symbol=ISCDF&crumb=RvcHzk3Ziw6\n",
      "NAN: No earnings dates found, symbol may be delisted\n"
     ]
    },
    {
     "name": "stdout",
     "output_type": "stream",
     "text": [
      "https://finance.yahoo.com/quote/NAN\n",
      "https://finance.yahoo.com/quote/NAN\n"
     ]
    },
    {
     "name": "stderr",
     "output_type": "stream",
     "text": [
      "NAN: No earnings dates found, symbol may be delisted\n",
      "NAN: No earnings dates found, symbol may be delisted\n"
     ]
    },
    {
     "name": "stdout",
     "output_type": "stream",
     "text": [
      "https://finance.yahoo.com/quote/NAN\n",
      "https://finance.yahoo.com/quote/NAN\n"
     ]
    },
    {
     "name": "stderr",
     "output_type": "stream",
     "text": [
      "NAN: No earnings dates found, symbol may be delisted\n",
      "NAN: No earnings dates found, symbol may be delisted\n"
     ]
    },
    {
     "name": "stdout",
     "output_type": "stream",
     "text": [
      "https://finance.yahoo.com/quote/NAN\n",
      "https://finance.yahoo.com/quote/SITIF\n"
     ]
    },
    {
     "name": "stderr",
     "output_type": "stream",
     "text": [
      "404 Client Error: Not Found for url: https://query2.finance.yahoo.com/v10/finance/quoteSummary/SITIF?modules=recommendationTrend&corsDomain=finance.yahoo.com&formatted=false&symbol=SITIF&crumb=RvcHzk3Ziw6\n"
     ]
    },
    {
     "name": "stdout",
     "output_type": "stream",
     "text": [
      "https://finance.yahoo.com/quote/SITIF\n"
     ]
    },
    {
     "name": "stderr",
     "output_type": "stream",
     "text": [
      "404 Client Error: Not Found for url: https://query2.finance.yahoo.com/v10/finance/quoteSummary/SITIF?modules=recommendationTrend&corsDomain=finance.yahoo.com&formatted=false&symbol=SITIF&crumb=RvcHzk3Ziw6\n",
      "NAN: No earnings dates found, symbol may be delisted\n"
     ]
    },
    {
     "name": "stdout",
     "output_type": "stream",
     "text": [
      "https://finance.yahoo.com/quote/NAN\n",
      "https://finance.yahoo.com/quote/SITIF\n"
     ]
    },
    {
     "name": "stderr",
     "output_type": "stream",
     "text": [
      "404 Client Error: Not Found for url: https://query2.finance.yahoo.com/v10/finance/quoteSummary/SITIF?modules=recommendationTrend&corsDomain=finance.yahoo.com&formatted=false&symbol=SITIF&crumb=RvcHzk3Ziw6\n"
     ]
    },
    {
     "name": "stdout",
     "output_type": "stream",
     "text": [
      "https://finance.yahoo.com/quote/SITIF\n"
     ]
    },
    {
     "name": "stderr",
     "output_type": "stream",
     "text": [
      "404 Client Error: Not Found for url: https://query2.finance.yahoo.com/v10/finance/quoteSummary/SITIF?modules=recommendationTrend&corsDomain=finance.yahoo.com&formatted=false&symbol=SITIF&crumb=RvcHzk3Ziw6\n",
      "NAN: No earnings dates found, symbol may be delisted\n"
     ]
    },
    {
     "name": "stdout",
     "output_type": "stream",
     "text": [
      "https://finance.yahoo.com/quote/NAN\n",
      "https://finance.yahoo.com/quote/NAN\n"
     ]
    },
    {
     "name": "stderr",
     "output_type": "stream",
     "text": [
      "NAN: No earnings dates found, symbol may be delisted\n"
     ]
    },
    {
     "name": "stdout",
     "output_type": "stream",
     "text": [
      "https://finance.yahoo.com/quote/SITIF\n"
     ]
    },
    {
     "name": "stderr",
     "output_type": "stream",
     "text": [
      "404 Client Error: Not Found for url: https://query2.finance.yahoo.com/v10/finance/quoteSummary/SITIF?modules=recommendationTrend&corsDomain=finance.yahoo.com&formatted=false&symbol=SITIF&crumb=RvcHzk3Ziw6\n",
      "NAN: No earnings dates found, symbol may be delisted\n"
     ]
    },
    {
     "name": "stdout",
     "output_type": "stream",
     "text": [
      "https://finance.yahoo.com/quote/NAN\n",
      "https://finance.yahoo.com/quote/NAN\n"
     ]
    },
    {
     "name": "stderr",
     "output_type": "stream",
     "text": [
      "NAN: No earnings dates found, symbol may be delisted\n"
     ]
    },
    {
     "name": "stdout",
     "output_type": "stream",
     "text": [
      "https://finance.yahoo.com/quote/SITIF\n"
     ]
    },
    {
     "name": "stderr",
     "output_type": "stream",
     "text": [
      "404 Client Error: Not Found for url: https://query2.finance.yahoo.com/v10/finance/quoteSummary/SITIF?modules=recommendationTrend&corsDomain=finance.yahoo.com&formatted=false&symbol=SITIF&crumb=RvcHzk3Ziw6\n",
      "NAN: No earnings dates found, symbol may be delisted\n"
     ]
    },
    {
     "name": "stdout",
     "output_type": "stream",
     "text": [
      "https://finance.yahoo.com/quote/NAN\n",
      "https://finance.yahoo.com/quote/NAN\n"
     ]
    },
    {
     "name": "stderr",
     "output_type": "stream",
     "text": [
      "NAN: No earnings dates found, symbol may be delisted\n"
     ]
    },
    {
     "name": "stdout",
     "output_type": "stream",
     "text": [
      "https://finance.yahoo.com/quote/SITIF\n"
     ]
    },
    {
     "name": "stderr",
     "output_type": "stream",
     "text": [
      "404 Client Error: Not Found for url: https://query2.finance.yahoo.com/v10/finance/quoteSummary/SITIF?modules=recommendationTrend&corsDomain=finance.yahoo.com&formatted=false&symbol=SITIF&crumb=RvcHzk3Ziw6\n"
     ]
    },
    {
     "name": "stdout",
     "output_type": "stream",
     "text": [
      "https://finance.yahoo.com/quote/SITIF\n"
     ]
    },
    {
     "name": "stderr",
     "output_type": "stream",
     "text": [
      "404 Client Error: Not Found for url: https://query2.finance.yahoo.com/v10/finance/quoteSummary/SITIF?modules=recommendationTrend&corsDomain=finance.yahoo.com&formatted=false&symbol=SITIF&crumb=RvcHzk3Ziw6\n"
     ]
    },
    {
     "name": "stdout",
     "output_type": "stream",
     "text": [
      "https://finance.yahoo.com/quote/SITIF\n"
     ]
    },
    {
     "name": "stderr",
     "output_type": "stream",
     "text": [
      "404 Client Error: Not Found for url: https://query2.finance.yahoo.com/v10/finance/quoteSummary/SITIF?modules=recommendationTrend&corsDomain=finance.yahoo.com&formatted=false&symbol=SITIF&crumb=RvcHzk3Ziw6\n"
     ]
    },
    {
     "name": "stdout",
     "output_type": "stream",
     "text": [
      "https://finance.yahoo.com/quote/SITIF\n"
     ]
    },
    {
     "name": "stderr",
     "output_type": "stream",
     "text": [
      "404 Client Error: Not Found for url: https://query2.finance.yahoo.com/v10/finance/quoteSummary/SITIF?modules=recommendationTrend&corsDomain=finance.yahoo.com&formatted=false&symbol=SITIF&crumb=RvcHzk3Ziw6\n"
     ]
    },
    {
     "name": "stdout",
     "output_type": "stream",
     "text": [
      "https://finance.yahoo.com/quote/SITIF\n"
     ]
    },
    {
     "name": "stderr",
     "output_type": "stream",
     "text": [
      "404 Client Error: Not Found for url: https://query2.finance.yahoo.com/v10/finance/quoteSummary/SITIF?modules=recommendationTrend&corsDomain=finance.yahoo.com&formatted=false&symbol=SITIF&crumb=RvcHzk3Ziw6\n"
     ]
    },
    {
     "name": "stdout",
     "output_type": "stream",
     "text": [
      "https://finance.yahoo.com/quote/SITIF\n"
     ]
    },
    {
     "name": "stderr",
     "output_type": "stream",
     "text": [
      "404 Client Error: Not Found for url: https://query2.finance.yahoo.com/v10/finance/quoteSummary/SITIF?modules=recommendationTrend&corsDomain=finance.yahoo.com&formatted=false&symbol=SITIF&crumb=RvcHzk3Ziw6\n"
     ]
    },
    {
     "name": "stdout",
     "output_type": "stream",
     "text": [
      "https://finance.yahoo.com/quote/SITIF\n"
     ]
    },
    {
     "name": "stderr",
     "output_type": "stream",
     "text": [
      "404 Client Error: Not Found for url: https://query2.finance.yahoo.com/v10/finance/quoteSummary/SITIF?modules=recommendationTrend&corsDomain=finance.yahoo.com&formatted=false&symbol=SITIF&crumb=RvcHzk3Ziw6\n",
      "NAN: No earnings dates found, symbol may be delisted\n"
     ]
    },
    {
     "name": "stdout",
     "output_type": "stream",
     "text": [
      "https://finance.yahoo.com/quote/NAN\n",
      "https://finance.yahoo.com/quote/SITIF\n"
     ]
    },
    {
     "name": "stderr",
     "output_type": "stream",
     "text": [
      "404 Client Error: Not Found for url: https://query2.finance.yahoo.com/v10/finance/quoteSummary/SITIF?modules=recommendationTrend&corsDomain=finance.yahoo.com&formatted=false&symbol=SITIF&crumb=RvcHzk3Ziw6\n"
     ]
    },
    {
     "name": "stdout",
     "output_type": "stream",
     "text": [
      "https://finance.yahoo.com/quote/SITIF\n"
     ]
    },
    {
     "name": "stderr",
     "output_type": "stream",
     "text": [
      "404 Client Error: Not Found for url: https://query2.finance.yahoo.com/v10/finance/quoteSummary/SITIF?modules=recommendationTrend&corsDomain=finance.yahoo.com&formatted=false&symbol=SITIF&crumb=RvcHzk3Ziw6\n"
     ]
    },
    {
     "name": "stdout",
     "output_type": "stream",
     "text": [
      "https://finance.yahoo.com/quote/SITIF\n"
     ]
    },
    {
     "name": "stderr",
     "output_type": "stream",
     "text": [
      "404 Client Error: Not Found for url: https://query2.finance.yahoo.com/v10/finance/quoteSummary/SITIF?modules=recommendationTrend&corsDomain=finance.yahoo.com&formatted=false&symbol=SITIF&crumb=RvcHzk3Ziw6\n"
     ]
    },
    {
     "name": "stdout",
     "output_type": "stream",
     "text": [
      "a total of 1 invalid tickers. \n",
      "['XTSLA']\n"
     ]
    },
    {
     "data": {
      "text/plain": "Empty DataFrame\nColumns: []\nIndex: []",
      "text/html": "<div>\n<style scoped>\n    .dataframe tbody tr th:only-of-type {\n        vertical-align: middle;\n    }\n\n    .dataframe tbody tr th {\n        vertical-align: top;\n    }\n\n    .dataframe thead th {\n        text-align: right;\n    }\n</style>\n<table border=\"1\" class=\"dataframe\">\n  <thead>\n    <tr style=\"text-align: right;\">\n      <th></th>\n    </tr>\n  </thead>\n  <tbody>\n  </tbody>\n</table>\n</div>"
     },
     "execution_count": 31,
     "metadata": {},
     "output_type": "execute_result"
    }
   ],
   "source": [
    "# https://www.ishares.com/us/products/239696/\n",
    "msci_world_uri = add_etf('URTH')\n",
    "grep_ticker_data(msci_world_companies_df['Ticker'], msci_world_uri)"
   ],
   "metadata": {
    "collapsed": false,
    "ExecuteTime": {
     "end_time": "2024-03-30T03:27:23.819943600Z",
     "start_time": "2024-03-30T00:15:05.679172700Z"
    }
   },
   "id": "8be8df93c203cf9",
   "execution_count": 31
  },
  {
   "cell_type": "markdown",
   "source": [
    "\n",
    "try:\n",
    "    earnings_df = ticker.earnings_dates\n",
    "    earnings_df = earnings_df.fillna(0)  # Fill NaN values with 0\n",
    "    earnings_df = earnings_df.dropna()\n",
    "    print(earnings_df)\n",
    "    if earnings_df is not None:\n",
    "        for row in earnings_df.iterrows():\n",
    "            print(row[0])\n",
    "\n",
    "except KeyError as e:\n",
    "    print(f\"skipping earnings_dates for\")"
   ],
   "metadata": {
    "collapsed": false
   },
   "id": "cd515dd4dcf9289e"
  },
  {
   "cell_type": "markdown",
   "source": [
    "managed to reduce from around 500 invalid tickers to less than 10 because of fetching tickers from a different API."
   ],
   "metadata": {
    "collapsed": false
   },
   "id": "d8861190e2cd0c5c"
  },
  {
   "cell_type": "code",
   "outputs": [
    {
     "name": "stdout",
     "output_type": "stream",
     "text": [
      "https://finance.yahoo.com/quote/MSFT\n",
      "https://finance.yahoo.com/quote/AAPL\n",
      "https://finance.yahoo.com/quote/NVDA\n",
      "https://finance.yahoo.com/quote/AMZN\n",
      "https://finance.yahoo.com/quote/META\n",
      "https://finance.yahoo.com/quote/GOOGL\n"
     ]
    },
    {
     "name": "stderr",
     "output_type": "stream",
     "text": [
      "404 Client Error: Not Found for url: https://query2.finance.yahoo.com/v10/finance/quoteSummary/BRK/B?modules=financialData%2CquoteType%2CdefaultKeyStatistics%2CassetProfile%2CsummaryDetail&corsDomain=finance.yahoo.com&formatted=false&symbol=BRK%2FB&crumb=RvcHzk3Ziw6\n"
     ]
    },
    {
     "name": "stdout",
     "output_type": "stream",
     "text": [
      "https://finance.yahoo.com/quote/BRK-B\n",
      "https://finance.yahoo.com/quote/GOOG\n",
      "https://finance.yahoo.com/quote/LLY\n",
      "https://finance.yahoo.com/quote/AVGO\n",
      "https://finance.yahoo.com/quote/TSLA\n",
      "https://finance.yahoo.com/quote/JPM\n",
      "https://finance.yahoo.com/quote/UNH\n",
      "https://finance.yahoo.com/quote/V\n",
      "https://finance.yahoo.com/quote/XOM\n",
      "https://finance.yahoo.com/quote/MA\n",
      "https://finance.yahoo.com/quote/JNJ\n",
      "https://finance.yahoo.com/quote/HD\n",
      "https://finance.yahoo.com/quote/PG\n",
      "https://finance.yahoo.com/quote/COST\n",
      "https://finance.yahoo.com/quote/MRK\n",
      "https://finance.yahoo.com/quote/AMD\n",
      "https://finance.yahoo.com/quote/ABBV\n",
      "https://finance.yahoo.com/quote/CRM\n",
      "https://finance.yahoo.com/quote/CVX\n",
      "https://finance.yahoo.com/quote/NFLX\n",
      "https://finance.yahoo.com/quote/ADBE\n",
      "https://finance.yahoo.com/quote/WMT\n",
      "https://finance.yahoo.com/quote/BAC\n",
      "https://finance.yahoo.com/quote/ACN\n",
      "https://finance.yahoo.com/quote/KO\n",
      "https://finance.yahoo.com/quote/PEP\n",
      "https://finance.yahoo.com/quote/TMO\n",
      "https://finance.yahoo.com/quote/LIN\n",
      "https://finance.yahoo.com/quote/MCD\n",
      "https://finance.yahoo.com/quote/ABT\n",
      "https://finance.yahoo.com/quote/DIS\n",
      "https://finance.yahoo.com/quote/WFC\n",
      "https://finance.yahoo.com/quote/CSCO\n",
      "https://finance.yahoo.com/quote/INTU\n",
      "https://finance.yahoo.com/quote/INTC\n",
      "https://finance.yahoo.com/quote/ORCL\n",
      "https://finance.yahoo.com/quote/QCOM\n",
      "https://finance.yahoo.com/quote/CMCSA\n",
      "https://finance.yahoo.com/quote/GE\n",
      "https://finance.yahoo.com/quote/CAT\n",
      "https://finance.yahoo.com/quote/IBM\n",
      "https://finance.yahoo.com/quote/AMAT\n",
      "https://finance.yahoo.com/quote/VZ\n",
      "https://finance.yahoo.com/quote/DHR\n",
      "https://finance.yahoo.com/quote/UBER\n",
      "https://finance.yahoo.com/quote/NOW\n",
      "https://finance.yahoo.com/quote/UNP\n",
      "https://finance.yahoo.com/quote/TXN\n",
      "https://finance.yahoo.com/quote/PFE\n",
      "https://finance.yahoo.com/quote/AMGN\n",
      "https://finance.yahoo.com/quote/PM\n",
      "https://finance.yahoo.com/quote/LOW\n",
      "https://finance.yahoo.com/quote/SPGI\n",
      "https://finance.yahoo.com/quote/ISRG\n",
      "https://finance.yahoo.com/quote/COP\n",
      "https://finance.yahoo.com/quote/HON\n",
      "https://finance.yahoo.com/quote/RTX\n",
      "https://finance.yahoo.com/quote/NKE\n",
      "https://finance.yahoo.com/quote/GS\n",
      "https://finance.yahoo.com/quote/AXP\n",
      "https://finance.yahoo.com/quote/LRCX\n",
      "https://finance.yahoo.com/quote/PLD\n",
      "https://finance.yahoo.com/quote/T\n",
      "https://finance.yahoo.com/quote/BKNG\n",
      "https://finance.yahoo.com/quote/SYK\n",
      "https://finance.yahoo.com/quote/ELV\n",
      "https://finance.yahoo.com/quote/BA\n",
      "https://finance.yahoo.com/quote/ETN\n",
      "https://finance.yahoo.com/quote/BLK\n",
      "https://finance.yahoo.com/quote/TJX\n",
      "https://finance.yahoo.com/quote/NEE\n",
      "https://finance.yahoo.com/quote/MDT\n",
      "https://finance.yahoo.com/quote/PGR\n",
      "https://finance.yahoo.com/quote/MS\n",
      "https://finance.yahoo.com/quote/SBUX\n",
      "https://finance.yahoo.com/quote/VRTX\n",
      "https://finance.yahoo.com/quote/UPS\n",
      "https://finance.yahoo.com/quote/C\n",
      "https://finance.yahoo.com/quote/REGN\n",
      "https://finance.yahoo.com/quote/ADP\n",
      "https://finance.yahoo.com/quote/BMY\n",
      "https://finance.yahoo.com/quote/CB\n",
      "https://finance.yahoo.com/quote/MMC\n",
      "https://finance.yahoo.com/quote/MU\n",
      "https://finance.yahoo.com/quote/MDLZ\n",
      "https://finance.yahoo.com/quote/SCHW\n",
      "https://finance.yahoo.com/quote/CI\n",
      "https://finance.yahoo.com/quote/DE\n",
      "https://finance.yahoo.com/quote/BSX\n",
      "https://finance.yahoo.com/quote/PANW\n",
      "https://finance.yahoo.com/quote/ADI\n",
      "https://finance.yahoo.com/quote/CVS\n",
      "https://finance.yahoo.com/quote/LMT\n",
      "https://finance.yahoo.com/quote/KLAC\n",
      "https://finance.yahoo.com/quote/AMT\n"
     ]
    },
    {
     "name": "stderr",
     "output_type": "stream",
     "text": [
      "404 Client Error: Not Found for url: https://query2.finance.yahoo.com/v10/finance/quoteSummary/XTSLA?modules=financialData%2CquoteType%2CdefaultKeyStatistics%2CassetProfile%2CsummaryDetail&corsDomain=finance.yahoo.com&formatted=false&symbol=XTSLA&crumb=RvcHzk3Ziw6\n"
     ]
    },
    {
     "name": "stdout",
     "output_type": "stream",
     "text": [
      "https://finance.yahoo.com/quote/ZTS\n",
      "https://finance.yahoo.com/quote/BX\n",
      "https://finance.yahoo.com/quote/GILD\n",
      "https://finance.yahoo.com/quote/FI\n",
      "https://finance.yahoo.com/quote/SNPS\n",
      "https://finance.yahoo.com/quote/EQIX\n",
      "https://finance.yahoo.com/quote/TMUS\n",
      "https://finance.yahoo.com/quote/CDNS\n",
      "https://finance.yahoo.com/quote/CME\n",
      "https://finance.yahoo.com/quote/ICE\n",
      "https://finance.yahoo.com/quote/SHW\n",
      "https://finance.yahoo.com/quote/WM\n",
      "https://finance.yahoo.com/quote/CSX\n",
      "https://finance.yahoo.com/quote/CMG\n",
      "https://finance.yahoo.com/quote/SO\n",
      "https://finance.yahoo.com/quote/MO\n",
      "https://finance.yahoo.com/quote/ITW\n",
      "https://finance.yahoo.com/quote/CL\n",
      "https://finance.yahoo.com/quote/DUK\n",
      "https://finance.yahoo.com/quote/TGT\n",
      "https://finance.yahoo.com/quote/ANET\n",
      "https://finance.yahoo.com/quote/MCK\n",
      "https://finance.yahoo.com/quote/SLB\n",
      "https://finance.yahoo.com/quote/PH\n",
      "https://finance.yahoo.com/quote/ABNB\n",
      "https://finance.yahoo.com/quote/BDX\n",
      "https://finance.yahoo.com/quote/EOG\n",
      "https://finance.yahoo.com/quote/APH\n",
      "https://finance.yahoo.com/quote/NOC\n",
      "https://finance.yahoo.com/quote/USB\n",
      "https://finance.yahoo.com/quote/TDG\n",
      "https://finance.yahoo.com/quote/PYPL\n",
      "https://finance.yahoo.com/quote/TT\n",
      "https://finance.yahoo.com/quote/NXPI\n",
      "https://finance.yahoo.com/quote/ORLY\n",
      "https://finance.yahoo.com/quote/MPC\n",
      "https://finance.yahoo.com/quote/AON\n",
      "https://finance.yahoo.com/quote/PSX\n",
      "https://finance.yahoo.com/quote/GD\n",
      "https://finance.yahoo.com/quote/HCA\n",
      "https://finance.yahoo.com/quote/MAR\n",
      "https://finance.yahoo.com/quote/EMR\n",
      "https://finance.yahoo.com/quote/MCO\n",
      "https://finance.yahoo.com/quote/PNC\n",
      "https://finance.yahoo.com/quote/ROP\n",
      "https://finance.yahoo.com/quote/PCAR\n",
      "https://finance.yahoo.com/quote/FDX\n",
      "https://finance.yahoo.com/quote/NSC\n",
      "https://finance.yahoo.com/quote/ECL\n",
      "https://finance.yahoo.com/quote/GM\n",
      "https://finance.yahoo.com/quote/ADSK\n",
      "https://finance.yahoo.com/quote/PXD\n",
      "https://finance.yahoo.com/quote/MSI\n",
      "https://finance.yahoo.com/quote/CTAS\n",
      "https://finance.yahoo.com/quote/FCX\n",
      "https://finance.yahoo.com/quote/CEG\n",
      "https://finance.yahoo.com/quote/LULU\n",
      "https://finance.yahoo.com/quote/AZO\n",
      "https://finance.yahoo.com/quote/AJG\n",
      "https://finance.yahoo.com/quote/COF\n",
      "https://finance.yahoo.com/quote/HLT\n",
      "https://finance.yahoo.com/quote/APD\n",
      "https://finance.yahoo.com/quote/EW\n",
      "https://finance.yahoo.com/quote/AIG\n",
      "https://finance.yahoo.com/quote/WELL\n",
      "https://finance.yahoo.com/quote/MMM\n",
      "https://finance.yahoo.com/quote/TRV\n",
      "https://finance.yahoo.com/quote/ROST\n",
      "https://finance.yahoo.com/quote/F\n",
      "https://finance.yahoo.com/quote/SPG\n",
      "https://finance.yahoo.com/quote/VLO\n",
      "https://finance.yahoo.com/quote/IDXX\n",
      "https://finance.yahoo.com/quote/CCI\n",
      "https://finance.yahoo.com/quote/NUE\n",
      "https://finance.yahoo.com/quote/URI\n",
      "https://finance.yahoo.com/quote/TFC\n",
      "https://finance.yahoo.com/quote/CARR\n",
      "https://finance.yahoo.com/quote/CPRT\n",
      "https://finance.yahoo.com/quote/MCHP\n",
      "https://finance.yahoo.com/quote/IQV\n",
      "https://finance.yahoo.com/quote/DHI\n",
      "https://finance.yahoo.com/quote/PSA\n",
      "https://finance.yahoo.com/quote/AEP\n",
      "https://finance.yahoo.com/quote/TEL\n",
      "https://finance.yahoo.com/quote/DXCM\n",
      "https://finance.yahoo.com/quote/DLR\n",
      "https://finance.yahoo.com/quote/SRE\n",
      "https://finance.yahoo.com/quote/MSCI\n",
      "https://finance.yahoo.com/quote/FTNT\n",
      "https://finance.yahoo.com/quote/OKE\n",
      "https://finance.yahoo.com/quote/WMB\n",
      "https://finance.yahoo.com/quote/MNST\n",
      "https://finance.yahoo.com/quote/MET\n",
      "https://finance.yahoo.com/quote/O\n",
      "https://finance.yahoo.com/quote/BK\n",
      "https://finance.yahoo.com/quote/HUM\n",
      "https://finance.yahoo.com/quote/GWW\n",
      "https://finance.yahoo.com/quote/AFL\n",
      "https://finance.yahoo.com/quote/CNC\n",
      "https://finance.yahoo.com/quote/ALL\n",
      "https://finance.yahoo.com/quote/FAST\n",
      "https://finance.yahoo.com/quote/AME\n",
      "https://finance.yahoo.com/quote/AMP\n",
      "https://finance.yahoo.com/quote/FIS\n",
      "https://finance.yahoo.com/quote/KMB\n",
      "https://finance.yahoo.com/quote/SYY\n",
      "https://finance.yahoo.com/quote/JCI\n",
      "https://finance.yahoo.com/quote/HES\n",
      "https://finance.yahoo.com/quote/A\n",
      "https://finance.yahoo.com/quote/STZ\n",
      "https://finance.yahoo.com/quote/LHX\n",
      "https://finance.yahoo.com/quote/D\n",
      "https://finance.yahoo.com/quote/OXY\n",
      "https://finance.yahoo.com/quote/LEN\n",
      "https://finance.yahoo.com/quote/CTSH\n",
      "https://finance.yahoo.com/quote/ODFL\n",
      "https://finance.yahoo.com/quote/PAYX\n",
      "https://finance.yahoo.com/quote/PRU\n",
      "https://finance.yahoo.com/quote/COR\n",
      "https://finance.yahoo.com/quote/DOW\n",
      "https://finance.yahoo.com/quote/OTIS\n",
      "https://finance.yahoo.com/quote/YUM\n",
      "https://finance.yahoo.com/quote/CMI\n",
      "https://finance.yahoo.com/quote/CTVA\n",
      "https://finance.yahoo.com/quote/RSG\n",
      "https://finance.yahoo.com/quote/GIS\n",
      "https://finance.yahoo.com/quote/GEHC\n",
      "https://finance.yahoo.com/quote/IR\n",
      "https://finance.yahoo.com/quote/IT\n",
      "https://finance.yahoo.com/quote/NEM\n",
      "https://finance.yahoo.com/quote/MLM\n",
      "https://finance.yahoo.com/quote/EXC\n",
      "https://finance.yahoo.com/quote/PCG\n",
      "https://finance.yahoo.com/quote/CSGP\n",
      "https://finance.yahoo.com/quote/VMC\n",
      "https://finance.yahoo.com/quote/PWR\n",
      "https://finance.yahoo.com/quote/VRSK\n",
      "https://finance.yahoo.com/quote/EL\n",
      "https://finance.yahoo.com/quote/MPWR\n",
      "https://finance.yahoo.com/quote/EA\n",
      "https://finance.yahoo.com/quote/ON\n",
      "https://finance.yahoo.com/quote/GPN\n",
      "https://finance.yahoo.com/quote/EFX\n",
      "https://finance.yahoo.com/quote/KMI\n",
      "https://finance.yahoo.com/quote/PPG\n",
      "https://finance.yahoo.com/quote/CDW\n",
      "https://finance.yahoo.com/quote/KR\n",
      "https://finance.yahoo.com/quote/KVUE\n",
      "https://finance.yahoo.com/quote/ROK\n",
      "https://finance.yahoo.com/quote/ACGL\n",
      "https://finance.yahoo.com/quote/FANG\n",
      "https://finance.yahoo.com/quote/DG\n",
      "https://finance.yahoo.com/quote/BIIB\n",
      "https://finance.yahoo.com/quote/HAL\n",
      "https://finance.yahoo.com/quote/FICO\n",
      "https://finance.yahoo.com/quote/PEG\n",
      "https://finance.yahoo.com/quote/VICI\n",
      "https://finance.yahoo.com/quote/DLTR\n",
      "https://finance.yahoo.com/quote/XYL\n",
      "https://finance.yahoo.com/quote/MRNA\n",
      "https://finance.yahoo.com/quote/DFS\n",
      "https://finance.yahoo.com/quote/KDP\n",
      "https://finance.yahoo.com/quote/ED\n",
      "https://finance.yahoo.com/quote/FTV\n",
      "https://finance.yahoo.com/quote/EXR\n",
      "https://finance.yahoo.com/quote/BKR\n",
      "https://finance.yahoo.com/quote/DD\n",
      "https://finance.yahoo.com/quote/CHTR\n",
      "https://finance.yahoo.com/quote/RCL\n",
      "https://finance.yahoo.com/quote/XEL\n",
      "https://finance.yahoo.com/quote/ANSS\n",
      "https://finance.yahoo.com/quote/HIG\n",
      "https://finance.yahoo.com/quote/ADM\n",
      "https://finance.yahoo.com/quote/DVN\n",
      "https://finance.yahoo.com/quote/HSY\n",
      "https://finance.yahoo.com/quote/KHC\n",
      "https://finance.yahoo.com/quote/WTW\n",
      "https://finance.yahoo.com/quote/CBRE\n",
      "https://finance.yahoo.com/quote/CAH\n",
      "https://finance.yahoo.com/quote/TSCO\n",
      "https://finance.yahoo.com/quote/KEYS\n",
      "https://finance.yahoo.com/quote/DAL\n",
      "https://finance.yahoo.com/quote/MTD\n",
      "https://finance.yahoo.com/quote/ULTA\n",
      "https://finance.yahoo.com/quote/WST\n",
      "https://finance.yahoo.com/quote/EIX\n",
      "https://finance.yahoo.com/quote/HWM\n",
      "https://finance.yahoo.com/quote/ZBH\n",
      "https://finance.yahoo.com/quote/LYB\n",
      "https://finance.yahoo.com/quote/RMD\n",
      "https://finance.yahoo.com/quote/TROW\n",
      "https://finance.yahoo.com/quote/WAB\n",
      "https://finance.yahoo.com/quote/AVB\n",
      "https://finance.yahoo.com/quote/WY\n",
      "https://finance.yahoo.com/quote/WEC\n",
      "https://finance.yahoo.com/quote/GLW\n",
      "https://finance.yahoo.com/quote/CHD\n",
      "https://finance.yahoo.com/quote/HPQ\n",
      "https://finance.yahoo.com/quote/EBAY\n",
      "https://finance.yahoo.com/quote/NVR\n",
      "https://finance.yahoo.com/quote/BLDR\n",
      "https://finance.yahoo.com/quote/BR\n",
      "https://finance.yahoo.com/quote/FITB\n",
      "https://finance.yahoo.com/quote/PHM\n",
      "https://finance.yahoo.com/quote/TTWO\n",
      "https://finance.yahoo.com/quote/MTB\n",
      "https://finance.yahoo.com/quote/DOV\n",
      "https://finance.yahoo.com/quote/AWK\n",
      "https://finance.yahoo.com/quote/STE\n",
      "https://finance.yahoo.com/quote/MOH\n",
      "https://finance.yahoo.com/quote/IRM\n",
      "https://finance.yahoo.com/quote/STT\n",
      "https://finance.yahoo.com/quote/RJF\n",
      "https://finance.yahoo.com/quote/SBAC\n",
      "https://finance.yahoo.com/quote/APTV\n",
      "https://finance.yahoo.com/quote/DTE\n",
      "https://finance.yahoo.com/quote/ILMN\n",
      "https://finance.yahoo.com/quote/TRGP\n",
      "https://finance.yahoo.com/quote/PTC\n",
      "https://finance.yahoo.com/quote/AXON\n",
      "https://finance.yahoo.com/quote/ALGN\n",
      "https://finance.yahoo.com/quote/ETR\n",
      "https://finance.yahoo.com/quote/GRMN\n",
      "https://finance.yahoo.com/quote/GPC\n",
      "https://finance.yahoo.com/quote/EQR\n",
      "https://finance.yahoo.com/quote/BAX\n",
      "https://finance.yahoo.com/quote/DRI\n",
      "https://finance.yahoo.com/quote/ES\n",
      "https://finance.yahoo.com/quote/LUV\n",
      "https://finance.yahoo.com/quote/HUBB\n",
      "https://finance.yahoo.com/quote/STLD\n",
      "https://finance.yahoo.com/quote/CBOE\n",
      "https://finance.yahoo.com/quote/BALL\n"
     ]
    },
    {
     "name": "stderr",
     "output_type": "stream",
     "text": [
      "NAN: No earnings dates found, symbol may be delisted\n"
     ]
    },
    {
     "name": "stdout",
     "output_type": "stream",
     "text": [
      "https://finance.yahoo.com/quote/NAN\n",
      "https://finance.yahoo.com/quote/TDY\n",
      "https://finance.yahoo.com/quote/LVS\n",
      "https://finance.yahoo.com/quote/WAT\n",
      "https://finance.yahoo.com/quote/BRO\n",
      "https://finance.yahoo.com/quote/INVH\n",
      "https://finance.yahoo.com/quote/HPE\n",
      "https://finance.yahoo.com/quote/ARE\n",
      "https://finance.yahoo.com/quote/WBD\n",
      "https://finance.yahoo.com/quote/PPL\n",
      "https://finance.yahoo.com/quote/CTRA\n",
      "https://finance.yahoo.com/quote/WDC\n",
      "https://finance.yahoo.com/quote/IFF\n",
      "https://finance.yahoo.com/quote/NDAQ\n",
      "https://finance.yahoo.com/quote/CLX\n",
      "https://finance.yahoo.com/quote/VLTO\n",
      "https://finance.yahoo.com/quote/FE\n",
      "https://finance.yahoo.com/quote/HBAN\n",
      "https://finance.yahoo.com/quote/AEE\n",
      "https://finance.yahoo.com/quote/NTAP\n",
      "https://finance.yahoo.com/quote/COO\n",
      "https://finance.yahoo.com/quote/J\n",
      "https://finance.yahoo.com/quote/JBL\n",
      "https://finance.yahoo.com/quote/TYL\n",
      "https://finance.yahoo.com/quote/LH\n",
      "https://finance.yahoo.com/quote/EXPE\n",
      "https://finance.yahoo.com/quote/STX\n",
      "https://finance.yahoo.com/quote/HOLX\n",
      "https://finance.yahoo.com/quote/CINF\n",
      "https://finance.yahoo.com/quote/IEX\n",
      "https://finance.yahoo.com/quote/PFG\n",
      "https://finance.yahoo.com/quote/LDOS\n",
      "https://finance.yahoo.com/quote/FDS\n",
      "https://finance.yahoo.com/quote/EPAM\n",
      "https://finance.yahoo.com/quote/OMC\n",
      "https://finance.yahoo.com/quote/TXT\n",
      "https://finance.yahoo.com/quote/AVY\n",
      "https://finance.yahoo.com/quote/EXPD\n",
      "https://finance.yahoo.com/quote/CNP\n",
      "https://finance.yahoo.com/quote/VRSN\n",
      "https://finance.yahoo.com/quote/ENPH\n",
      "https://finance.yahoo.com/quote/RF\n",
      "https://finance.yahoo.com/quote/MKC\n",
      "https://finance.yahoo.com/quote/MAS\n",
      "https://finance.yahoo.com/quote/SYF\n",
      "https://finance.yahoo.com/quote/WRB\n",
      "https://finance.yahoo.com/quote/VTR\n",
      "https://finance.yahoo.com/quote/NTRS\n",
      "https://finance.yahoo.com/quote/JBHT\n",
      "https://finance.yahoo.com/quote/ATO\n",
      "https://finance.yahoo.com/quote/CMS\n",
      "https://finance.yahoo.com/quote/AKAM\n",
      "https://finance.yahoo.com/quote/SWKS\n",
      "https://finance.yahoo.com/quote/FSLR\n",
      "https://finance.yahoo.com/quote/PKG\n",
      "https://finance.yahoo.com/quote/ALB\n",
      "https://finance.yahoo.com/quote/EG\n",
      "https://finance.yahoo.com/quote/CCL\n",
      "https://finance.yahoo.com/quote/TER\n",
      "https://finance.yahoo.com/quote/BBY\n",
      "https://finance.yahoo.com/quote/DPZ\n",
      "https://finance.yahoo.com/quote/TSN\n",
      "https://finance.yahoo.com/quote/CF\n",
      "https://finance.yahoo.com/quote/POOL\n",
      "https://finance.yahoo.com/quote/EQT\n",
      "https://finance.yahoo.com/quote/WBA\n",
      "https://finance.yahoo.com/quote/TRMB\n",
      "https://finance.yahoo.com/quote/CE\n",
      "https://finance.yahoo.com/quote/UAL\n",
      "https://finance.yahoo.com/quote/ESS\n",
      "https://finance.yahoo.com/quote/VTRS\n",
      "https://finance.yahoo.com/quote/LW\n",
      "https://finance.yahoo.com/quote/MAA\n",
      "https://finance.yahoo.com/quote/CFG\n",
      "https://finance.yahoo.com/quote/HST\n",
      "https://finance.yahoo.com/quote/SNA\n",
      "https://finance.yahoo.com/quote/K\n",
      "https://finance.yahoo.com/quote/NDSN\n",
      "https://finance.yahoo.com/quote/ZBRA\n",
      "https://finance.yahoo.com/quote/MRO\n",
      "https://finance.yahoo.com/quote/DGX\n",
      "https://finance.yahoo.com/quote/LKQ\n",
      "https://finance.yahoo.com/quote/LYV\n",
      "https://finance.yahoo.com/quote/L\n",
      "https://finance.yahoo.com/quote/BG\n",
      "https://finance.yahoo.com/quote/SWK\n",
      "https://finance.yahoo.com/quote/RVTY\n",
      "https://finance.yahoo.com/quote/CAG\n",
      "https://finance.yahoo.com/quote/KEY\n",
      "https://finance.yahoo.com/quote/KIM\n",
      "https://finance.yahoo.com/quote/AMCR\n",
      "https://finance.yahoo.com/quote/CRL\n",
      "https://finance.yahoo.com/quote/PNR\n",
      "https://finance.yahoo.com/quote/SJM\n",
      "https://finance.yahoo.com/quote/JKHY\n",
      "https://finance.yahoo.com/quote/KMX\n",
      "https://finance.yahoo.com/quote/NRG\n",
      "https://finance.yahoo.com/quote/ROL\n",
      "https://finance.yahoo.com/quote/IP\n",
      "https://finance.yahoo.com/quote/LNT\n",
      "https://finance.yahoo.com/quote/GEN\n",
      "https://finance.yahoo.com/quote/IPG\n",
      "https://finance.yahoo.com/quote/DOC\n",
      "https://finance.yahoo.com/quote/MGM\n",
      "https://finance.yahoo.com/quote/JNPR\n",
      "https://finance.yahoo.com/quote/TECH\n",
      "https://finance.yahoo.com/quote/WRK\n",
      "https://finance.yahoo.com/quote/HII\n",
      "https://finance.yahoo.com/quote/TAP\n",
      "https://finance.yahoo.com/quote/PODD\n",
      "https://finance.yahoo.com/quote/EVRG\n",
      "https://finance.yahoo.com/quote/ALLE\n",
      "https://finance.yahoo.com/quote/FFIV\n",
      "https://finance.yahoo.com/quote/QRVO\n"
     ]
    },
    {
     "name": "stderr",
     "output_type": "stream",
     "text": [
      "404 Client Error: Not Found for url: https://query2.finance.yahoo.com/v10/finance/quoteSummary/BF/B?modules=financialData%2CquoteType%2CdefaultKeyStatistics%2CassetProfile%2CsummaryDetail&corsDomain=finance.yahoo.com&formatted=false&symbol=BF%2FB&crumb=RvcHzk3Ziw6\n"
     ]
    },
    {
     "name": "stdout",
     "output_type": "stream",
     "text": [
      "https://finance.yahoo.com/quote/BF-B\n",
      "https://finance.yahoo.com/quote/TPR\n",
      "https://finance.yahoo.com/quote/DAY\n",
      "https://finance.yahoo.com/quote/GL\n",
      "https://finance.yahoo.com/quote/INCY\n",
      "https://finance.yahoo.com/quote/NI\n",
      "https://finance.yahoo.com/quote/UDR\n",
      "https://finance.yahoo.com/quote/TFX\n",
      "https://finance.yahoo.com/quote/EMN\n",
      "https://finance.yahoo.com/quote/BBWI\n",
      "https://finance.yahoo.com/quote/CTLT\n",
      "https://finance.yahoo.com/quote/AAL\n",
      "https://finance.yahoo.com/quote/HRL\n",
      "https://finance.yahoo.com/quote/NWSA\n",
      "https://finance.yahoo.com/quote/UHS\n",
      "https://finance.yahoo.com/quote/REG\n",
      "https://finance.yahoo.com/quote/AOS\n",
      "https://finance.yahoo.com/quote/MOS\n",
      "https://finance.yahoo.com/quote/AES\n",
      "https://finance.yahoo.com/quote/WYNN\n",
      "https://finance.yahoo.com/quote/CPT\n",
      "https://finance.yahoo.com/quote/HSIC\n",
      "https://finance.yahoo.com/quote/MTCH\n",
      "https://finance.yahoo.com/quote/AIZ\n",
      "https://finance.yahoo.com/quote/CZR\n",
      "https://finance.yahoo.com/quote/BXP\n",
      "https://finance.yahoo.com/quote/APA\n",
      "https://finance.yahoo.com/quote/PAYC\n",
      "https://finance.yahoo.com/quote/CHRW\n",
      "https://finance.yahoo.com/quote/ETSY\n",
      "https://finance.yahoo.com/quote/RHI\n",
      "https://finance.yahoo.com/quote/CPB\n",
      "https://finance.yahoo.com/quote/NWS\n"
     ]
    },
    {
     "name": "stderr",
     "output_type": "stream",
     "text": [
      "NWS: No earnings dates found, symbol may be delisted\n",
      "404 Client Error: Not Found for url: https://query2.finance.yahoo.com/v10/finance/quoteSummary/NWS?modules=recommendationTrend&corsDomain=finance.yahoo.com&formatted=false&symbol=NWS&crumb=RvcHzk3Ziw6\n"
     ]
    },
    {
     "name": "stdout",
     "output_type": "stream",
     "text": [
      "https://finance.yahoo.com/quote/MKTX\n",
      "https://finance.yahoo.com/quote/PNW\n",
      "https://finance.yahoo.com/quote/BEN\n",
      "https://finance.yahoo.com/quote/FRT\n",
      "https://finance.yahoo.com/quote/RL\n",
      "https://finance.yahoo.com/quote/FOXA\n",
      "https://finance.yahoo.com/quote/BWA\n",
      "https://finance.yahoo.com/quote/FMC\n",
      "https://finance.yahoo.com/quote/XRAY\n",
      "https://finance.yahoo.com/quote/IVZ\n",
      "https://finance.yahoo.com/quote/GNRC\n",
      "https://finance.yahoo.com/quote/DVA\n",
      "https://finance.yahoo.com/quote/BIO\n",
      "https://finance.yahoo.com/quote/HAS\n",
      "https://finance.yahoo.com/quote/CMA\n",
      "https://finance.yahoo.com/quote/MHK\n",
      "https://finance.yahoo.com/quote/WHR\n",
      "https://finance.yahoo.com/quote/ZION\n",
      "https://finance.yahoo.com/quote/VFC\n"
     ]
    },
    {
     "name": "stderr",
     "output_type": "stream",
     "text": [
      "FOX: No earnings dates found, symbol may be delisted\n"
     ]
    },
    {
     "name": "stdout",
     "output_type": "stream",
     "text": [
      "https://finance.yahoo.com/quote/PARA\n",
      "https://finance.yahoo.com/quote/FOX\n"
     ]
    },
    {
     "name": "stderr",
     "output_type": "stream",
     "text": [
      "404 Client Error: Not Found for url: https://query2.finance.yahoo.com/v10/finance/quoteSummary/FOX?modules=recommendationTrend&corsDomain=finance.yahoo.com&formatted=false&symbol=FOX&crumb=RvcHzk3Ziw6\n",
      "NWS: No earnings dates found, symbol may be delisted\n"
     ]
    },
    {
     "name": "stdout",
     "output_type": "stream",
     "text": [
      "https://finance.yahoo.com/quote/NWS\n"
     ]
    },
    {
     "name": "stderr",
     "output_type": "stream",
     "text": [
      "404 Client Error: Not Found for url: https://query2.finance.yahoo.com/v10/finance/quoteSummary/NWS?modules=recommendationTrend&corsDomain=finance.yahoo.com&formatted=false&symbol=NWS&crumb=RvcHzk3Ziw6\n",
      "NAN: No earnings dates found, symbol may be delisted\n"
     ]
    },
    {
     "name": "stdout",
     "output_type": "stream",
     "text": [
      "https://finance.yahoo.com/quote/NAN\n",
      "https://finance.yahoo.com/quote/NAN\n"
     ]
    },
    {
     "name": "stderr",
     "output_type": "stream",
     "text": [
      "NAN: No earnings dates found, symbol may be delisted\n",
      "NWS: No earnings dates found, symbol may be delisted\n"
     ]
    },
    {
     "name": "stdout",
     "output_type": "stream",
     "text": [
      "https://finance.yahoo.com/quote/NWS\n"
     ]
    },
    {
     "name": "stderr",
     "output_type": "stream",
     "text": [
      "404 Client Error: Not Found for url: https://query2.finance.yahoo.com/v10/finance/quoteSummary/NWS?modules=recommendationTrend&corsDomain=finance.yahoo.com&formatted=false&symbol=NWS&crumb=RvcHzk3Ziw6\n"
     ]
    },
    {
     "name": "stdout",
     "output_type": "stream",
     "text": [
      "a total of 1 invalid tickers. \n",
      "['XTSLA']\n"
     ]
    },
    {
     "data": {
      "text/plain": "Empty DataFrame\nColumns: []\nIndex: []",
      "text/html": "<div>\n<style scoped>\n    .dataframe tbody tr th:only-of-type {\n        vertical-align: middle;\n    }\n\n    .dataframe tbody tr th {\n        vertical-align: top;\n    }\n\n    .dataframe thead th {\n        text-align: right;\n    }\n</style>\n<table border=\"1\" class=\"dataframe\">\n  <thead>\n    <tr style=\"text-align: right;\">\n      <th></th>\n    </tr>\n  </thead>\n  <tbody>\n  </tbody>\n</table>\n</div>"
     },
     "execution_count": 32,
     "metadata": {},
     "output_type": "execute_result"
    }
   ],
   "source": [
    "# https://www.ishares.com/us/products/239726/  | TICKER IVV\n",
    "sp_500_uri = add_etf('IVV')\n",
    "grep_ticker_data(sp_500_companies_df['Ticker'], sp_500_uri)"
   ],
   "metadata": {
    "collapsed": false,
    "ExecuteTime": {
     "end_time": "2024-03-30T03:31:20.958485900Z",
     "start_time": "2024-03-30T03:27:23.792674600Z"
    }
   },
   "id": "76a26f6bffa3717c",
   "execution_count": 32
  },
  {
   "cell_type": "code",
   "outputs": [
    {
     "data": {
      "text/plain": "<Graph identifier=N3a1a25b0867e4e04a18b23cf7054181d (<class 'rdflib.graph.Graph'>)>"
     },
     "execution_count": 34,
     "metadata": {},
     "output_type": "execute_result"
    }
   ],
   "source": [
    "# safe kg\n",
    "g.serialize(destination='../data/finance-kg.ttl', format='turtle')"
   ],
   "metadata": {
    "collapsed": false,
    "ExecuteTime": {
     "end_time": "2024-03-30T03:31:29.380043200Z",
     "start_time": "2024-03-30T03:31:20.954450700Z"
    }
   },
   "id": "f5cb8705bfed0081",
   "execution_count": 34
  }
 ],
 "metadata": {
  "kernelspec": {
   "display_name": "Python 3",
   "language": "python",
   "name": "python3"
  },
  "language_info": {
   "codemirror_mode": {
    "name": "ipython",
    "version": 2
   },
   "file_extension": ".py",
   "mimetype": "text/x-python",
   "name": "python",
   "nbconvert_exporter": "python",
   "pygments_lexer": "ipython2",
   "version": "2.7.6"
  }
 },
 "nbformat": 4,
 "nbformat_minor": 5
}
