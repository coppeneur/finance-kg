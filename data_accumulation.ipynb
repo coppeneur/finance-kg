{
 "cells": [
  {
   "cell_type": "markdown",
   "source": [
    "This notebook will perform api calls to accumulate sample data that can be used to build a finance knowledge graph.\n",
    "\n",
    "used sources:\n",
    "1. YAHOO FINANCE for stock data\n",
    "2. for etf data https://www.ishares.com/us/products/239696/ishares-msci-world-etf\n",
    "3. "
   ],
   "metadata": {
    "collapsed": false
   },
   "id": "721f153a65fb5edf"
  },
  {
   "cell_type": "markdown",
   "source": [
    "# YAHOO FINANCE API\n",
    "yfinance access     "
   ],
   "metadata": {
    "collapsed": false
   },
   "id": "f385887183341999"
  },
  {
   "cell_type": "code",
   "execution_count": 10,
   "outputs": [],
   "source": [
    "#pip install yfinance --upgrade --no-cache-dir"
   ],
   "metadata": {
    "collapsed": false,
    "ExecuteTime": {
     "end_time": "2024-03-25T18:33:01.820319900Z",
     "start_time": "2024-03-25T18:33:01.817152Z"
    }
   },
   "id": "acc3a4f28608534b"
  },
  {
   "cell_type": "code",
   "execution_count": 11,
   "outputs": [],
   "source": [
    "import yfinance as yf\n",
    "from datetime import datetime\n",
    "import pandas as pd"
   ],
   "metadata": {
    "collapsed": false,
    "ExecuteTime": {
     "end_time": "2024-03-25T18:33:01.829587200Z",
     "start_time": "2024-03-25T18:33:01.819318900Z"
    }
   },
   "id": "95cffdfa6e7dbfc7"
  },
  {
   "cell_type": "code",
   "execution_count": 12,
   "outputs": [],
   "source": [
    "#msci_world_df = pd.read_csv('data/ishares-msci-world-etf-holdings-29.02.2024.xlsx')\n",
    "msci_world_df= pd.read_excel('data/ishares-msci-world-etf-holdings-29.02.2024.xlsx')"
   ],
   "metadata": {
    "collapsed": false,
    "ExecuteTime": {
     "end_time": "2024-03-25T18:33:02.267247900Z",
     "start_time": "2024-03-25T18:33:01.826080200Z"
    }
   },
   "id": "948c47c67659e4df"
  },
  {
   "cell_type": "code",
   "execution_count": 13,
   "outputs": [
    {
     "data": {
      "text/plain": "pandas.core.series.Series"
     },
     "execution_count": 13,
     "metadata": {},
     "output_type": "execute_result"
    }
   ],
   "source": [
    "type(msci_world_df[\"Ticker\"])"
   ],
   "metadata": {
    "collapsed": false,
    "ExecuteTime": {
     "end_time": "2024-03-25T18:33:02.276606800Z",
     "start_time": "2024-03-25T18:33:02.268248200Z"
    }
   },
   "id": "ccd316eb78b74387"
  },
  {
   "cell_type": "code",
   "execution_count": 14,
   "outputs": [],
   "source": [
    "def grep_ticker_data(tickers:pd.Series):\n",
    "    \"\"\"\n",
    "    This function accumulates relevant stock data from yahoo finance with the corresponding ticker symbol.\n",
    "    :param tickers: column of ticker symbols\n",
    "    :return: TODO\n",
    "    \"\"\"\n",
    "    i=0\n",
    "    # get possible info data\n",
    "    tickers_metadata_df = pd.DataFrame()#columns=yf.Ticker('').get_fast_info())\n",
    "    for ticker_value in tickers:\n",
    "        \n",
    "        ticker = yf.Ticker(str(ticker_value))\n",
    "        \n",
    "        # deprecated\n",
    "        # tickers_metadata_df.append(ticker.get_info(), ignore_index=True)\n",
    "        \n",
    "        tickers_metadata_df = pd.concat([tickers_metadata_df, pd.DataFrame(ticker.get_info())])\n",
    "        \n",
    "        #tickers_metadata_df.loc[str(ticker_value)] = new_row_dict\n",
    "        # for info in ticker.get_fast_info():\n",
    "        #     #info_data_dict = yf.Ticker(str(info)).get_info()\n",
    "        #     tickers_metadata_df.append(info, ignore_index=True)\n",
    "            \n",
    "        print(ticker_value)\n",
    "        i=i+1\n",
    "        if i==2:\n",
    "            break\n",
    "    return tickers_metadata_df"
   ],
   "metadata": {
    "collapsed": false,
    "ExecuteTime": {
     "end_time": "2024-03-25T18:33:02.277608300Z",
     "start_time": "2024-03-25T18:33:02.273603400Z"
    }
   },
   "id": "2e88530810c88a51"
  },
  {
   "cell_type": "code",
   "execution_count": 15,
   "outputs": [],
   "source": [
    "# define a function that calculate the mean\n"
   ],
   "metadata": {
    "collapsed": false,
    "ExecuteTime": {
     "end_time": "2024-03-25T18:33:02.284319700Z",
     "start_time": "2024-03-25T18:33:02.277608300Z"
    }
   },
   "id": "da1f22e50783e24e"
  },
  {
   "cell_type": "code",
   "execution_count": 16,
   "outputs": [
    {
     "name": "stdout",
     "output_type": "stream",
     "text": [
      "MSFT\n",
      "AAPL\n"
     ]
    },
    {
     "data": {
      "text/plain": "             address1       city state         zip        country  \\\n0   One Microsoft Way    Redmond    WA  98052-6399  United States   \n1   One Microsoft Way    Redmond    WA  98052-6399  United States   \n2   One Microsoft Way    Redmond    WA  98052-6399  United States   \n3   One Microsoft Way    Redmond    WA  98052-6399  United States   \n4   One Microsoft Way    Redmond    WA  98052-6399  United States   \n5   One Microsoft Way    Redmond    WA  98052-6399  United States   \n6   One Microsoft Way    Redmond    WA  98052-6399  United States   \n7   One Microsoft Way    Redmond    WA  98052-6399  United States   \n8   One Microsoft Way    Redmond    WA  98052-6399  United States   \n9   One Microsoft Way    Redmond    WA  98052-6399  United States   \n0  One Apple Park Way  Cupertino    CA       95014  United States   \n1  One Apple Park Way  Cupertino    CA       95014  United States   \n2  One Apple Park Way  Cupertino    CA       95014  United States   \n3  One Apple Park Way  Cupertino    CA       95014  United States   \n4  One Apple Park Way  Cupertino    CA       95014  United States   \n5  One Apple Park Way  Cupertino    CA       95014  United States   \n6  One Apple Park Way  Cupertino    CA       95014  United States   \n7  One Apple Park Way  Cupertino    CA       95014  United States   \n8  One Apple Park Way  Cupertino    CA       95014  United States   \n9  One Apple Park Way  Cupertino    CA       95014  United States   \n\n          phone                    website                   industry  \\\n0  425 882 8080  https://www.microsoft.com  Software - Infrastructure   \n1  425 882 8080  https://www.microsoft.com  Software - Infrastructure   \n2  425 882 8080  https://www.microsoft.com  Software - Infrastructure   \n3  425 882 8080  https://www.microsoft.com  Software - Infrastructure   \n4  425 882 8080  https://www.microsoft.com  Software - Infrastructure   \n5  425 882 8080  https://www.microsoft.com  Software - Infrastructure   \n6  425 882 8080  https://www.microsoft.com  Software - Infrastructure   \n7  425 882 8080  https://www.microsoft.com  Software - Infrastructure   \n8  425 882 8080  https://www.microsoft.com  Software - Infrastructure   \n9  425 882 8080  https://www.microsoft.com  Software - Infrastructure   \n0  408 996 1010      https://www.apple.com       Consumer Electronics   \n1  408 996 1010      https://www.apple.com       Consumer Electronics   \n2  408 996 1010      https://www.apple.com       Consumer Electronics   \n3  408 996 1010      https://www.apple.com       Consumer Electronics   \n4  408 996 1010      https://www.apple.com       Consumer Electronics   \n5  408 996 1010      https://www.apple.com       Consumer Electronics   \n6  408 996 1010      https://www.apple.com       Consumer Electronics   \n7  408 996 1010      https://www.apple.com       Consumer Electronics   \n8  408 996 1010      https://www.apple.com       Consumer Electronics   \n9  408 996 1010      https://www.apple.com       Consumer Electronics   \n\n               industryKey               industryDisp  ... returnOnEquity  \\\n0  software-infrastructure  Software - Infrastructure  ...        0.39174   \n1  software-infrastructure  Software - Infrastructure  ...        0.39174   \n2  software-infrastructure  Software - Infrastructure  ...        0.39174   \n3  software-infrastructure  Software - Infrastructure  ...        0.39174   \n4  software-infrastructure  Software - Infrastructure  ...        0.39174   \n5  software-infrastructure  Software - Infrastructure  ...        0.39174   \n6  software-infrastructure  Software - Infrastructure  ...        0.39174   \n7  software-infrastructure  Software - Infrastructure  ...        0.39174   \n8  software-infrastructure  Software - Infrastructure  ...        0.39174   \n9  software-infrastructure  Software - Infrastructure  ...        0.39174   \n0     consumer-electronics       Consumer Electronics  ...        1.54269   \n1     consumer-electronics       Consumer Electronics  ...        1.54269   \n2     consumer-electronics       Consumer Electronics  ...        1.54269   \n3     consumer-electronics       Consumer Electronics  ...        1.54269   \n4     consumer-electronics       Consumer Electronics  ...        1.54269   \n5     consumer-electronics       Consumer Electronics  ...        1.54269   \n6     consumer-electronics       Consumer Electronics  ...        1.54269   \n7     consumer-electronics       Consumer Electronics  ...        1.54269   \n8     consumer-electronics       Consumer Electronics  ...        1.54269   \n9     consumer-electronics       Consumer Electronics  ...        1.54269   \n\n  freeCashflow operatingCashflow earningsGrowth  revenueGrowth grossMargins  \\\n0  58680999936      102646996992          0.332          0.176      0.69815   \n1  58680999936      102646996992          0.332          0.176      0.69815   \n2  58680999936      102646996992          0.332          0.176      0.69815   \n3  58680999936      102646996992          0.332          0.176      0.69815   \n4  58680999936      102646996992          0.332          0.176      0.69815   \n5  58680999936      102646996992          0.332          0.176      0.69815   \n6  58680999936      102646996992          0.332          0.176      0.69815   \n7  58680999936      102646996992          0.332          0.176      0.69815   \n8  58680999936      102646996992          0.332          0.176      0.69815   \n9  58680999936      102646996992          0.332          0.176      0.69815   \n0  86563127296      116433002496          0.160          0.021      0.45027   \n1  86563127296      116433002496          0.160          0.021      0.45027   \n2  86563127296      116433002496          0.160          0.021      0.45027   \n3  86563127296      116433002496          0.160          0.021      0.45027   \n4  86563127296      116433002496          0.160          0.021      0.45027   \n5  86563127296      116433002496          0.160          0.021      0.45027   \n6  86563127296      116433002496          0.160          0.021      0.45027   \n7  86563127296      116433002496          0.160          0.021      0.45027   \n8  86563127296      116433002496          0.160          0.021      0.45027   \n9  86563127296      116433002496          0.160          0.021      0.45027   \n\n   ebitdaMargins  operatingMargins  financialCurrency  trailingPegRatio  \n0        0.52037           0.43586                USD            2.1730  \n1        0.52037           0.43586                USD            2.1730  \n2        0.52037           0.43586                USD            2.1730  \n3        0.52037           0.43586                USD            2.1730  \n4        0.52037           0.43586                USD            2.1730  \n5        0.52037           0.43586                USD            2.1730  \n6        0.52037           0.43586                USD            2.1730  \n7        0.52037           0.43586                USD            2.1730  \n8        0.52037           0.43586                USD            2.1730  \n9        0.52037           0.43586                USD            2.1730  \n0        0.33733           0.33764                USD            2.1203  \n1        0.33733           0.33764                USD            2.1203  \n2        0.33733           0.33764                USD            2.1203  \n3        0.33733           0.33764                USD            2.1203  \n4        0.33733           0.33764                USD            2.1203  \n5        0.33733           0.33764                USD            2.1203  \n6        0.33733           0.33764                USD            2.1203  \n7        0.33733           0.33764                USD            2.1203  \n8        0.33733           0.33764                USD            2.1203  \n9        0.33733           0.33764                USD            2.1203  \n\n[20 rows x 131 columns]",
      "text/html": "<div>\n<style scoped>\n    .dataframe tbody tr th:only-of-type {\n        vertical-align: middle;\n    }\n\n    .dataframe tbody tr th {\n        vertical-align: top;\n    }\n\n    .dataframe thead th {\n        text-align: right;\n    }\n</style>\n<table border=\"1\" class=\"dataframe\">\n  <thead>\n    <tr style=\"text-align: right;\">\n      <th></th>\n      <th>address1</th>\n      <th>city</th>\n      <th>state</th>\n      <th>zip</th>\n      <th>country</th>\n      <th>phone</th>\n      <th>website</th>\n      <th>industry</th>\n      <th>industryKey</th>\n      <th>industryDisp</th>\n      <th>...</th>\n      <th>returnOnEquity</th>\n      <th>freeCashflow</th>\n      <th>operatingCashflow</th>\n      <th>earningsGrowth</th>\n      <th>revenueGrowth</th>\n      <th>grossMargins</th>\n      <th>ebitdaMargins</th>\n      <th>operatingMargins</th>\n      <th>financialCurrency</th>\n      <th>trailingPegRatio</th>\n    </tr>\n  </thead>\n  <tbody>\n    <tr>\n      <th>0</th>\n      <td>One Microsoft Way</td>\n      <td>Redmond</td>\n      <td>WA</td>\n      <td>98052-6399</td>\n      <td>United States</td>\n      <td>425 882 8080</td>\n      <td>https://www.microsoft.com</td>\n      <td>Software - Infrastructure</td>\n      <td>software-infrastructure</td>\n      <td>Software - Infrastructure</td>\n      <td>...</td>\n      <td>0.39174</td>\n      <td>58680999936</td>\n      <td>102646996992</td>\n      <td>0.332</td>\n      <td>0.176</td>\n      <td>0.69815</td>\n      <td>0.52037</td>\n      <td>0.43586</td>\n      <td>USD</td>\n      <td>2.1730</td>\n    </tr>\n    <tr>\n      <th>1</th>\n      <td>One Microsoft Way</td>\n      <td>Redmond</td>\n      <td>WA</td>\n      <td>98052-6399</td>\n      <td>United States</td>\n      <td>425 882 8080</td>\n      <td>https://www.microsoft.com</td>\n      <td>Software - Infrastructure</td>\n      <td>software-infrastructure</td>\n      <td>Software - Infrastructure</td>\n      <td>...</td>\n      <td>0.39174</td>\n      <td>58680999936</td>\n      <td>102646996992</td>\n      <td>0.332</td>\n      <td>0.176</td>\n      <td>0.69815</td>\n      <td>0.52037</td>\n      <td>0.43586</td>\n      <td>USD</td>\n      <td>2.1730</td>\n    </tr>\n    <tr>\n      <th>2</th>\n      <td>One Microsoft Way</td>\n      <td>Redmond</td>\n      <td>WA</td>\n      <td>98052-6399</td>\n      <td>United States</td>\n      <td>425 882 8080</td>\n      <td>https://www.microsoft.com</td>\n      <td>Software - Infrastructure</td>\n      <td>software-infrastructure</td>\n      <td>Software - Infrastructure</td>\n      <td>...</td>\n      <td>0.39174</td>\n      <td>58680999936</td>\n      <td>102646996992</td>\n      <td>0.332</td>\n      <td>0.176</td>\n      <td>0.69815</td>\n      <td>0.52037</td>\n      <td>0.43586</td>\n      <td>USD</td>\n      <td>2.1730</td>\n    </tr>\n    <tr>\n      <th>3</th>\n      <td>One Microsoft Way</td>\n      <td>Redmond</td>\n      <td>WA</td>\n      <td>98052-6399</td>\n      <td>United States</td>\n      <td>425 882 8080</td>\n      <td>https://www.microsoft.com</td>\n      <td>Software - Infrastructure</td>\n      <td>software-infrastructure</td>\n      <td>Software - Infrastructure</td>\n      <td>...</td>\n      <td>0.39174</td>\n      <td>58680999936</td>\n      <td>102646996992</td>\n      <td>0.332</td>\n      <td>0.176</td>\n      <td>0.69815</td>\n      <td>0.52037</td>\n      <td>0.43586</td>\n      <td>USD</td>\n      <td>2.1730</td>\n    </tr>\n    <tr>\n      <th>4</th>\n      <td>One Microsoft Way</td>\n      <td>Redmond</td>\n      <td>WA</td>\n      <td>98052-6399</td>\n      <td>United States</td>\n      <td>425 882 8080</td>\n      <td>https://www.microsoft.com</td>\n      <td>Software - Infrastructure</td>\n      <td>software-infrastructure</td>\n      <td>Software - Infrastructure</td>\n      <td>...</td>\n      <td>0.39174</td>\n      <td>58680999936</td>\n      <td>102646996992</td>\n      <td>0.332</td>\n      <td>0.176</td>\n      <td>0.69815</td>\n      <td>0.52037</td>\n      <td>0.43586</td>\n      <td>USD</td>\n      <td>2.1730</td>\n    </tr>\n    <tr>\n      <th>5</th>\n      <td>One Microsoft Way</td>\n      <td>Redmond</td>\n      <td>WA</td>\n      <td>98052-6399</td>\n      <td>United States</td>\n      <td>425 882 8080</td>\n      <td>https://www.microsoft.com</td>\n      <td>Software - Infrastructure</td>\n      <td>software-infrastructure</td>\n      <td>Software - Infrastructure</td>\n      <td>...</td>\n      <td>0.39174</td>\n      <td>58680999936</td>\n      <td>102646996992</td>\n      <td>0.332</td>\n      <td>0.176</td>\n      <td>0.69815</td>\n      <td>0.52037</td>\n      <td>0.43586</td>\n      <td>USD</td>\n      <td>2.1730</td>\n    </tr>\n    <tr>\n      <th>6</th>\n      <td>One Microsoft Way</td>\n      <td>Redmond</td>\n      <td>WA</td>\n      <td>98052-6399</td>\n      <td>United States</td>\n      <td>425 882 8080</td>\n      <td>https://www.microsoft.com</td>\n      <td>Software - Infrastructure</td>\n      <td>software-infrastructure</td>\n      <td>Software - Infrastructure</td>\n      <td>...</td>\n      <td>0.39174</td>\n      <td>58680999936</td>\n      <td>102646996992</td>\n      <td>0.332</td>\n      <td>0.176</td>\n      <td>0.69815</td>\n      <td>0.52037</td>\n      <td>0.43586</td>\n      <td>USD</td>\n      <td>2.1730</td>\n    </tr>\n    <tr>\n      <th>7</th>\n      <td>One Microsoft Way</td>\n      <td>Redmond</td>\n      <td>WA</td>\n      <td>98052-6399</td>\n      <td>United States</td>\n      <td>425 882 8080</td>\n      <td>https://www.microsoft.com</td>\n      <td>Software - Infrastructure</td>\n      <td>software-infrastructure</td>\n      <td>Software - Infrastructure</td>\n      <td>...</td>\n      <td>0.39174</td>\n      <td>58680999936</td>\n      <td>102646996992</td>\n      <td>0.332</td>\n      <td>0.176</td>\n      <td>0.69815</td>\n      <td>0.52037</td>\n      <td>0.43586</td>\n      <td>USD</td>\n      <td>2.1730</td>\n    </tr>\n    <tr>\n      <th>8</th>\n      <td>One Microsoft Way</td>\n      <td>Redmond</td>\n      <td>WA</td>\n      <td>98052-6399</td>\n      <td>United States</td>\n      <td>425 882 8080</td>\n      <td>https://www.microsoft.com</td>\n      <td>Software - Infrastructure</td>\n      <td>software-infrastructure</td>\n      <td>Software - Infrastructure</td>\n      <td>...</td>\n      <td>0.39174</td>\n      <td>58680999936</td>\n      <td>102646996992</td>\n      <td>0.332</td>\n      <td>0.176</td>\n      <td>0.69815</td>\n      <td>0.52037</td>\n      <td>0.43586</td>\n      <td>USD</td>\n      <td>2.1730</td>\n    </tr>\n    <tr>\n      <th>9</th>\n      <td>One Microsoft Way</td>\n      <td>Redmond</td>\n      <td>WA</td>\n      <td>98052-6399</td>\n      <td>United States</td>\n      <td>425 882 8080</td>\n      <td>https://www.microsoft.com</td>\n      <td>Software - Infrastructure</td>\n      <td>software-infrastructure</td>\n      <td>Software - Infrastructure</td>\n      <td>...</td>\n      <td>0.39174</td>\n      <td>58680999936</td>\n      <td>102646996992</td>\n      <td>0.332</td>\n      <td>0.176</td>\n      <td>0.69815</td>\n      <td>0.52037</td>\n      <td>0.43586</td>\n      <td>USD</td>\n      <td>2.1730</td>\n    </tr>\n    <tr>\n      <th>0</th>\n      <td>One Apple Park Way</td>\n      <td>Cupertino</td>\n      <td>CA</td>\n      <td>95014</td>\n      <td>United States</td>\n      <td>408 996 1010</td>\n      <td>https://www.apple.com</td>\n      <td>Consumer Electronics</td>\n      <td>consumer-electronics</td>\n      <td>Consumer Electronics</td>\n      <td>...</td>\n      <td>1.54269</td>\n      <td>86563127296</td>\n      <td>116433002496</td>\n      <td>0.160</td>\n      <td>0.021</td>\n      <td>0.45027</td>\n      <td>0.33733</td>\n      <td>0.33764</td>\n      <td>USD</td>\n      <td>2.1203</td>\n    </tr>\n    <tr>\n      <th>1</th>\n      <td>One Apple Park Way</td>\n      <td>Cupertino</td>\n      <td>CA</td>\n      <td>95014</td>\n      <td>United States</td>\n      <td>408 996 1010</td>\n      <td>https://www.apple.com</td>\n      <td>Consumer Electronics</td>\n      <td>consumer-electronics</td>\n      <td>Consumer Electronics</td>\n      <td>...</td>\n      <td>1.54269</td>\n      <td>86563127296</td>\n      <td>116433002496</td>\n      <td>0.160</td>\n      <td>0.021</td>\n      <td>0.45027</td>\n      <td>0.33733</td>\n      <td>0.33764</td>\n      <td>USD</td>\n      <td>2.1203</td>\n    </tr>\n    <tr>\n      <th>2</th>\n      <td>One Apple Park Way</td>\n      <td>Cupertino</td>\n      <td>CA</td>\n      <td>95014</td>\n      <td>United States</td>\n      <td>408 996 1010</td>\n      <td>https://www.apple.com</td>\n      <td>Consumer Electronics</td>\n      <td>consumer-electronics</td>\n      <td>Consumer Electronics</td>\n      <td>...</td>\n      <td>1.54269</td>\n      <td>86563127296</td>\n      <td>116433002496</td>\n      <td>0.160</td>\n      <td>0.021</td>\n      <td>0.45027</td>\n      <td>0.33733</td>\n      <td>0.33764</td>\n      <td>USD</td>\n      <td>2.1203</td>\n    </tr>\n    <tr>\n      <th>3</th>\n      <td>One Apple Park Way</td>\n      <td>Cupertino</td>\n      <td>CA</td>\n      <td>95014</td>\n      <td>United States</td>\n      <td>408 996 1010</td>\n      <td>https://www.apple.com</td>\n      <td>Consumer Electronics</td>\n      <td>consumer-electronics</td>\n      <td>Consumer Electronics</td>\n      <td>...</td>\n      <td>1.54269</td>\n      <td>86563127296</td>\n      <td>116433002496</td>\n      <td>0.160</td>\n      <td>0.021</td>\n      <td>0.45027</td>\n      <td>0.33733</td>\n      <td>0.33764</td>\n      <td>USD</td>\n      <td>2.1203</td>\n    </tr>\n    <tr>\n      <th>4</th>\n      <td>One Apple Park Way</td>\n      <td>Cupertino</td>\n      <td>CA</td>\n      <td>95014</td>\n      <td>United States</td>\n      <td>408 996 1010</td>\n      <td>https://www.apple.com</td>\n      <td>Consumer Electronics</td>\n      <td>consumer-electronics</td>\n      <td>Consumer Electronics</td>\n      <td>...</td>\n      <td>1.54269</td>\n      <td>86563127296</td>\n      <td>116433002496</td>\n      <td>0.160</td>\n      <td>0.021</td>\n      <td>0.45027</td>\n      <td>0.33733</td>\n      <td>0.33764</td>\n      <td>USD</td>\n      <td>2.1203</td>\n    </tr>\n    <tr>\n      <th>5</th>\n      <td>One Apple Park Way</td>\n      <td>Cupertino</td>\n      <td>CA</td>\n      <td>95014</td>\n      <td>United States</td>\n      <td>408 996 1010</td>\n      <td>https://www.apple.com</td>\n      <td>Consumer Electronics</td>\n      <td>consumer-electronics</td>\n      <td>Consumer Electronics</td>\n      <td>...</td>\n      <td>1.54269</td>\n      <td>86563127296</td>\n      <td>116433002496</td>\n      <td>0.160</td>\n      <td>0.021</td>\n      <td>0.45027</td>\n      <td>0.33733</td>\n      <td>0.33764</td>\n      <td>USD</td>\n      <td>2.1203</td>\n    </tr>\n    <tr>\n      <th>6</th>\n      <td>One Apple Park Way</td>\n      <td>Cupertino</td>\n      <td>CA</td>\n      <td>95014</td>\n      <td>United States</td>\n      <td>408 996 1010</td>\n      <td>https://www.apple.com</td>\n      <td>Consumer Electronics</td>\n      <td>consumer-electronics</td>\n      <td>Consumer Electronics</td>\n      <td>...</td>\n      <td>1.54269</td>\n      <td>86563127296</td>\n      <td>116433002496</td>\n      <td>0.160</td>\n      <td>0.021</td>\n      <td>0.45027</td>\n      <td>0.33733</td>\n      <td>0.33764</td>\n      <td>USD</td>\n      <td>2.1203</td>\n    </tr>\n    <tr>\n      <th>7</th>\n      <td>One Apple Park Way</td>\n      <td>Cupertino</td>\n      <td>CA</td>\n      <td>95014</td>\n      <td>United States</td>\n      <td>408 996 1010</td>\n      <td>https://www.apple.com</td>\n      <td>Consumer Electronics</td>\n      <td>consumer-electronics</td>\n      <td>Consumer Electronics</td>\n      <td>...</td>\n      <td>1.54269</td>\n      <td>86563127296</td>\n      <td>116433002496</td>\n      <td>0.160</td>\n      <td>0.021</td>\n      <td>0.45027</td>\n      <td>0.33733</td>\n      <td>0.33764</td>\n      <td>USD</td>\n      <td>2.1203</td>\n    </tr>\n    <tr>\n      <th>8</th>\n      <td>One Apple Park Way</td>\n      <td>Cupertino</td>\n      <td>CA</td>\n      <td>95014</td>\n      <td>United States</td>\n      <td>408 996 1010</td>\n      <td>https://www.apple.com</td>\n      <td>Consumer Electronics</td>\n      <td>consumer-electronics</td>\n      <td>Consumer Electronics</td>\n      <td>...</td>\n      <td>1.54269</td>\n      <td>86563127296</td>\n      <td>116433002496</td>\n      <td>0.160</td>\n      <td>0.021</td>\n      <td>0.45027</td>\n      <td>0.33733</td>\n      <td>0.33764</td>\n      <td>USD</td>\n      <td>2.1203</td>\n    </tr>\n    <tr>\n      <th>9</th>\n      <td>One Apple Park Way</td>\n      <td>Cupertino</td>\n      <td>CA</td>\n      <td>95014</td>\n      <td>United States</td>\n      <td>408 996 1010</td>\n      <td>https://www.apple.com</td>\n      <td>Consumer Electronics</td>\n      <td>consumer-electronics</td>\n      <td>Consumer Electronics</td>\n      <td>...</td>\n      <td>1.54269</td>\n      <td>86563127296</td>\n      <td>116433002496</td>\n      <td>0.160</td>\n      <td>0.021</td>\n      <td>0.45027</td>\n      <td>0.33733</td>\n      <td>0.33764</td>\n      <td>USD</td>\n      <td>2.1203</td>\n    </tr>\n  </tbody>\n</table>\n<p>20 rows × 131 columns</p>\n</div>"
     },
     "execution_count": 16,
     "metadata": {},
     "output_type": "execute_result"
    }
   ],
   "source": [
    "grep_ticker_data(msci_world_df[\"Ticker\"])"
   ],
   "metadata": {
    "collapsed": false,
    "ExecuteTime": {
     "end_time": "2024-03-25T18:33:03.627404700Z",
     "start_time": "2024-03-25T18:33:02.283323200Z"
    }
   },
   "id": "47c9b8c783787dfd"
  },
  {
   "cell_type": "code",
   "execution_count": 17,
   "outputs": [],
   "source": [
    "tickers_metadata_df1 = pd.DataFrame(columns=yf.Ticker('AMZN').get_fast_info())"
   ],
   "metadata": {
    "collapsed": false,
    "ExecuteTime": {
     "end_time": "2024-03-25T18:33:03.628406100Z",
     "start_time": "2024-03-25T18:33:03.623400600Z"
    }
   },
   "id": "112969ae2c650910"
  },
  {
   "cell_type": "code",
   "execution_count": 18,
   "outputs": [
    {
     "name": "stdout",
     "output_type": "stream",
     "text": [
      "Empty DataFrame\n",
      "Columns: [currency, dayHigh, dayLow, exchange, fiftyDayAverage, lastPrice, lastVolume, marketCap, open, previousClose, quoteType, regularMarketPreviousClose, shares, tenDayAverageVolume, threeMonthAverageVolume, timezone, twoHundredDayAverage, yearChange, yearHigh, yearLow]\n",
      "Index: []\n"
     ]
    }
   ],
   "source": [
    "print(tickers_metadata_df1)"
   ],
   "metadata": {
    "collapsed": false,
    "ExecuteTime": {
     "end_time": "2024-03-25T18:33:03.633272400Z",
     "start_time": "2024-03-25T18:33:03.627404700Z"
    }
   },
   "id": "9cf26ee40e433fb6"
  },
  {
   "cell_type": "code",
   "execution_count": 19,
   "outputs": [
    {
     "data": {
      "text/plain": "{'address1': '410 Terry Avenue North',\n 'city': 'Seattle',\n 'state': 'WA',\n 'zip': '98109-5210',\n 'country': 'United States',\n 'phone': '206 266 1000',\n 'website': 'https://www.aboutamazon.com',\n 'industry': 'Internet Retail',\n 'industryKey': 'internet-retail',\n 'industryDisp': 'Internet Retail',\n 'sector': 'Consumer Cyclical',\n 'sectorKey': 'consumer-cyclical',\n 'sectorDisp': 'Consumer Cyclical',\n 'longBusinessSummary': \"Amazon.com, Inc. engages in the retail sale of consumer products, advertising, and subscriptions service through online and physical stores in North America and internationally. The company operates through three segments: North America, International, and Amazon Web Services (AWS). It also manufactures and sells electronic devices, including Kindle, Fire tablets, Fire TVs, Echo, Ring, Blink, and eero; and develops and produces media content. In addition, the company offers programs that enable sellers to sell their products in its stores; and programs that allow authors, independent publishers, musicians, filmmakers, Twitch streamers, skill and app developers, and others to publish and sell content. Further, it provides compute, storage, database, analytics, machine learning, and other services, as well as advertising services through programs, such as sponsored ads, display, and video advertising. Additionally, the company offers Amazon Prime, a membership program. The company's products offered through its stores include merchandise and content purchased for resale and products offered by third-party sellers. It serves consumers, sellers, developers, enterprises, content creators, advertisers, and employees. Amazon.com, Inc. was incorporated in 1994 and is headquartered in Seattle, Washington.\",\n 'fullTimeEmployees': 1525000,\n 'companyOfficers': [{'maxAge': 1,\n   'name': 'Mr. Jeffrey P. Bezos',\n   'age': 59,\n   'title': 'Founder & Executive Chairman',\n   'yearBorn': 1964,\n   'fiscalYear': 2022,\n   'totalPay': 1681840,\n   'exercisedValue': 0,\n   'unexercisedValue': 0},\n  {'maxAge': 1,\n   'name': 'Mr. Andrew R. Jassy',\n   'age': 55,\n   'title': 'President, CEO & Director',\n   'yearBorn': 1968,\n   'fiscalYear': 2022,\n   'totalPay': 1298723,\n   'exercisedValue': 0,\n   'unexercisedValue': 0},\n  {'maxAge': 1,\n   'name': 'Mr. Brian T. Olsavsky',\n   'age': 59,\n   'title': 'Senior VP & CFO',\n   'yearBorn': 1964,\n   'fiscalYear': 2022,\n   'totalPay': 319850,\n   'exercisedValue': 0,\n   'unexercisedValue': 0},\n  {'maxAge': 1,\n   'name': 'Mr. David A. Zapolsky',\n   'age': 59,\n   'title': 'Senior VP of Global Public Policy & General Counsel',\n   'yearBorn': 1964,\n   'fiscalYear': 2022,\n   'totalPay': 319850,\n   'exercisedValue': 0,\n   'unexercisedValue': 0},\n  {'maxAge': 1,\n   'name': 'Mr. Douglas J. Herrington',\n   'age': 56,\n   'title': 'Chief Executive Officer of Worldwide Amazon Stores',\n   'yearBorn': 1967,\n   'fiscalYear': 2022,\n   'totalPay': 335438,\n   'exercisedValue': 0,\n   'unexercisedValue': 0},\n  {'maxAge': 1,\n   'name': 'Mr. Adam N. Selipsky',\n   'age': 56,\n   'title': 'Chief Executive Officer of Amazon Web Services, Inc.',\n   'yearBorn': 1967,\n   'fiscalYear': 2022,\n   'totalPay': 360613,\n   'exercisedValue': 0,\n   'unexercisedValue': 0},\n  {'maxAge': 1,\n   'name': 'Ms. Shelley L. Reynolds',\n   'age': 58,\n   'title': 'VP, Worldwide Controller & Principal Accounting Officer',\n   'yearBorn': 1965,\n   'fiscalYear': 2022,\n   'totalPay': 163200,\n   'exercisedValue': 0,\n   'unexercisedValue': 0},\n  {'maxAge': 1,\n   'name': 'Dr. Werner  Vogels',\n   'title': 'Chief Technology Officer',\n   'fiscalYear': 2022,\n   'exercisedValue': 0,\n   'unexercisedValue': 0},\n  {'maxAge': 1,\n   'name': 'Mr. Dave  Fildes',\n   'title': 'Director of Investor Relations',\n   'fiscalYear': 2022,\n   'exercisedValue': 0,\n   'unexercisedValue': 0},\n  {'maxAge': 1,\n   'name': 'Ms. Anuradha  Aggarwal',\n   'title': 'CMO & Director of User Growth',\n   'fiscalYear': 2022,\n   'exercisedValue': 0,\n   'unexercisedValue': 0}],\n 'auditRisk': 4,\n 'boardRisk': 10,\n 'compensationRisk': 10,\n 'shareHolderRightsRisk': 2,\n 'overallRisk': 10,\n 'governanceEpochDate': 1709251200,\n 'compensationAsOfEpochDate': 1672444800,\n 'maxAge': 86400,\n 'priceHint': 2,\n 'previousClose': 178.87,\n 'open': 177.93,\n 'dayLow': 177.24,\n 'dayHigh': 180.99,\n 'regularMarketPreviousClose': 178.87,\n 'regularMarketOpen': 177.93,\n 'regularMarketDayLow': 177.24,\n 'regularMarketDayHigh': 180.99,\n 'beta': 1.171,\n 'trailingPE': 62.100063,\n 'forwardPE': 37.754757,\n 'volume': 18587785,\n 'regularMarketVolume': 18587785,\n 'averageVolume': 44145642,\n 'averageVolume10days': 36055650,\n 'averageDailyVolume10Day': 36055650,\n 'bid': 180.01,\n 'ask': 180.28,\n 'bidSize': 100,\n 'askSize': 100,\n 'marketCap': 1870668890112,\n 'fiftyTwoWeekLow': 96.29,\n 'fiftyTwoWeekHigh': 181.42,\n 'priceToSalesTrailing12Months': 3.254554,\n 'fiftyDayAverage': 168.4362,\n 'twoHundredDayAverage': 144.46104,\n 'currency': 'USD',\n 'enterpriseValue': 1932784828416,\n 'profitMargins': 0.05293,\n 'floatShares': 9224410082,\n 'sharesOutstanding': 10387399680,\n 'sharesShort': 66872027,\n 'sharesShortPriorMonth': 75175053,\n 'sharesShortPreviousMonthDate': 1706659200,\n 'dateShortInterest': 1709164800,\n 'sharesPercentSharesOut': 0.0064,\n 'heldPercentInsiders': 0.091850005,\n 'heldPercentInstitutions': 0.62838,\n 'shortRatio': 1.3,\n 'shortPercentOfFloat': 0.0085,\n 'impliedSharesOutstanding': 10387399680,\n 'bookValue': 19.443,\n 'priceToBook': 9.262469,\n 'lastFiscalYearEnd': 1703980800,\n 'nextFiscalYearEnd': 1735603200,\n 'mostRecentQuarter': 1703980800,\n 'earningsQuarterlyGrowth': 37.216,\n 'netIncomeToCommon': 30424999936,\n 'trailingEps': 2.9,\n 'forwardEps': 4.77,\n 'pegRatio': 3.2,\n 'lastSplitFactor': '20:1',\n 'lastSplitDate': 1654473600,\n 'enterpriseToRevenue': 3.363,\n 'enterpriseToEbitda': 22.602,\n '52WeekChange': 0.82445943,\n 'SandP52WeekChange': 0.31593728,\n 'exchange': 'NMS',\n 'quoteType': 'EQUITY',\n 'symbol': 'AMZN',\n 'underlyingSymbol': 'AMZN',\n 'shortName': 'Amazon.com, Inc.',\n 'longName': 'Amazon.com, Inc.',\n 'firstTradeDateEpochUtc': 863703000,\n 'timeZoneFullName': 'America/New_York',\n 'timeZoneShortName': 'EDT',\n 'uuid': '261fd26b-0151-3813-b0d0-97e4ed4c6505',\n 'messageBoardId': 'finmb_18749',\n 'gmtOffSetMilliseconds': -14400000,\n 'currentPrice': 180.0902,\n 'targetHighPrice': 211.69,\n 'targetLowPrice': 147.26,\n 'targetMeanPrice': 191.11,\n 'targetMedianPrice': 188.68,\n 'recommendationMean': 1.7,\n 'recommendationKey': 'buy',\n 'numberOfAnalystOpinions': 50,\n 'totalCash': 86780002304,\n 'totalCashPerShare': 8.354,\n 'ebitda': 85515001856,\n 'totalDebt': 161573994496,\n 'quickRatio': 0.807,\n 'currentRatio': 1.045,\n 'totalRevenue': 574784995328,\n 'debtToEquity': 80.037,\n 'revenuePerShare': 55.783,\n 'returnOnAssets': 0.04651,\n 'returnOnEquity': 0.1749,\n 'freeCashflow': 45475749888,\n 'operatingCashflow': 84946001920,\n 'earningsGrowth': 50.693,\n 'revenueGrowth': 0.139,\n 'grossMargins': 0.46982,\n 'ebitdaMargins': 0.14878,\n 'operatingMargins': 0.07525,\n 'financialCurrency': 'USD',\n 'trailingPegRatio': 2.4181}"
     },
     "execution_count": 19,
     "metadata": {},
     "output_type": "execute_result"
    }
   ],
   "source": [
    "ticker = yf.Ticker('AMZN')\n",
    "ticker.get_info()"
   ],
   "metadata": {
    "collapsed": false,
    "ExecuteTime": {
     "end_time": "2024-03-25T18:33:03.747321700Z",
     "start_time": "2024-03-25T18:33:03.634266800Z"
    }
   },
   "id": "6acc44927284d7be"
  },
  {
   "cell_type": "code",
   "outputs": [],
   "source": [
    "ticker"
   ],
   "metadata": {
    "collapsed": false
   },
   "id": "bed2e2b3893488d0"
  }
 ],
 "metadata": {
  "kernelspec": {
   "display_name": "Python 3",
   "language": "python",
   "name": "python3"
  },
  "language_info": {
   "codemirror_mode": {
    "name": "ipython",
    "version": 2
   },
   "file_extension": ".py",
   "mimetype": "text/x-python",
   "name": "python",
   "nbconvert_exporter": "python",
   "pygments_lexer": "ipython2",
   "version": "2.7.6"
  }
 },
 "nbformat": 4,
 "nbformat_minor": 5
}
