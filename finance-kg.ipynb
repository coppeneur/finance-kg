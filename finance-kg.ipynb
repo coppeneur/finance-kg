{
 "cells": [
  {
   "cell_type": "markdown",
   "source": [
    "# Finance Knowledge Graph creation\n"
   ],
   "metadata": {
    "collapsed": false
   },
   "id": "b0df9c7732cb48f0"
  },
  {
   "cell_type": "code",
   "execution_count": 8,
   "outputs": [],
   "source": [
    "# imports\n",
    "import pandas as pd\n",
    "from rdflib import Graph, URIRef, Namespace, Literal\n",
    "from rdflib.namespace import FOAF, DCTERMS, XSD, RDF, SDO, RDFS, OWL\n",
    "from urllib.parse import quote"
   ],
   "metadata": {
    "collapsed": false,
    "ExecuteTime": {
     "end_time": "2024-03-27T11:49:06.226082300Z",
     "start_time": "2024-03-27T11:49:06.198947700Z"
    }
   },
   "id": "8241e43257f4444b"
  },
  {
   "cell_type": "code",
   "outputs": [],
   "source": [
    "g = Graph()\n",
    "\n",
    "# namespaces\n",
    "finance = Namespace(\"https://w3id.org/finance/\")\n",
    "\n",
    "company = Namespace(\"https://finance.yahoo.com/quote/\")\n",
    "sector = Namespace(\"https://finance.yahoo.com/sectors/\")\n",
    "industry = Namespace(\"https://finance.yahoo.com/industries/\")\n",
    "\n",
    "justetf = Namespace(\"https://www.justetf.com/en/\")\n",
    "# https://www.justetf.com/en/etf-profile.html?isin=\n",
    "\n",
    "person = Namespace(\"https://schema.org/Person\") # jobTitle (https://schema.org/jobTitle), name\n",
    "\n",
    "#schema = Namespace(\"http://schema.org/\")\n",
    "#organization = Namespace(\"https://schema.org/Organization\")\n",
    "\n",
    "#company = Namespace(\"https://dbpedia.org/ontology/Company\")\n",
    "#industry = Namespace(\"https://dbpedia.org/ontology/industry\")\n",
    "#sector = Namespace(\"https://dbpedia.org/ontology/sector\")\n",
    "# https://dbpedia.org/page/Stock\n",
    "\n",
    "\n",
    "# bind prefixes\n",
    "g.bind(\"finance\", finance)\n",
    "g.bind(\"company\", company)\n",
    "g.bind(\"sector\", sector)\n",
    "g.bind(\"industry\", industry)\n",
    "g.bind(\"justetf\", justetf)\n",
    "\n",
    "\n",
    "# https://schema.org/Person\n",
    "# https://schema.org/InvestmentFund\n",
    "# https://dbpedia.org/page/Stock\n",
    "# dbo:industy https://dbpedia.org/ontology/industry \n",
    "\n",
    "# https://schema.org/Organization"
   ],
   "metadata": {
    "collapsed": false,
    "ExecuteTime": {
     "end_time": "2024-03-27T11:49:06.247696100Z",
     "start_time": "2024-03-27T11:49:06.229084800Z"
    }
   },
   "id": "fb4645bf686ef372",
   "execution_count": 9
  },
  {
   "cell_type": "markdown",
   "source": [
    "# Binding"
   ],
   "metadata": {
    "collapsed": false
   },
   "id": "1aa73856d635e104"
  },
  {
   "cell_type": "code",
   "outputs": [
    {
     "data": {
      "text/plain": "<Graph identifier=N7e32e093db1b408eb1a01f8817c04954 (<class 'rdflib.graph.Graph'>)>"
     },
     "execution_count": 10,
     "metadata": {},
     "output_type": "execute_result"
    }
   ],
   "source": [
    "# bind classes\n",
    "\n",
    "g.add((finance.Person, RDF.type, RDFS.Class))\n",
    "g.add((finance.InvestmentFund, RDF.type, RDFS.Class))\n",
    "g.add((finance.Company, RDF.type, RDFS.Class))\n",
    "g.add((finance.Industry, RDF.type, RDFS.Class))\n",
    "g.add((finance.Sector, RDF.type, RDFS.Class))\n",
    "g.add((finance.Job, RDF.type, RDFS.Class))\n",
    "g.add((finance.Address, RDF.type, RDFS.Class))\n",
    "g.add((finance.ContactInformation, RDF.type, RDFS.Class))\n",
    "g.add((finance.FinancialData, RDF.type, RDFS.Class))\n"
   ],
   "metadata": {
    "collapsed": false,
    "ExecuteTime": {
     "end_time": "2024-03-27T11:49:06.264042500Z",
     "start_time": "2024-03-27T11:49:06.250698800Z"
    }
   },
   "id": "4f074e1d1e0c884b",
   "execution_count": 10
  },
  {
   "cell_type": "code",
   "outputs": [
    {
     "data": {
      "text/plain": "<Graph identifier=N7e32e093db1b408eb1a01f8817c04954 (<class 'rdflib.graph.Graph'>)>"
     },
     "execution_count": 11,
     "metadata": {},
     "output_type": "execute_result"
    }
   ],
   "source": [
    "# bind properties\n",
    "\n",
    "# investmendfund\n",
    "## name\n",
    "g.add((finance.hasName, RDF.type, OWL.DatatypeProperty))\n",
    "g.add((finance.hasName, RDFS.domain, finance.InvestmentFund))\n",
    "g.add((finance.hasName, RDFS.range, XSD.string))\n",
    "\n",
    "\n",
    "\n",
    "# company\n",
    "## name\n",
    "g.add((finance.hasName, RDF.type, OWL.DatatypeProperty))\n",
    "g.add((finance.hasName, RDFS.domain, finance.Company))\n",
    "g.add((finance.hasName, RDFS.range, XSD.string))\n",
    "\n",
    "## symbol\n",
    "g.add((finance.hasSymbol, RDF.type, OWL.DatatypeProperty))\n",
    "g.add((finance.hasSymbol, RDFS.domain, finance.Company))\n",
    "g.add((finance.hasSymbol, RDFS.range, XSD.string))\n",
    "\n",
    "# use schema.org employee as property for person in company\n",
    "#https://schema.org/employee\n",
    "## employee\n",
    "g.add((finance.hasEmployee, RDF.type, OWL.ObjectProperty))\n",
    "g.add((finance.hasEmployee, RDFS.domain, finance.Company))\n",
    "g.add((finance.hasEmployee, RDFS.range, finance.Person))\n",
    "\n",
    "## url or sameAs website for the company\n",
    "g.add((finance.hasWebsite, RDF.type, OWL.DatatypeProperty))\n",
    "g.add((finance.hasWebsite, RDFS.domain, finance.Company))\n",
    "g.add((finance.hasWebsite, RDFS.range, XSD.string))\n",
    "\n",
    "## industry\n",
    "g.add((finance.hasIndustry, RDF.type, OWL.ObjectProperty))\n",
    "g.add((finance.hasIndustry, RDFS.domain, finance.Company))\n",
    "g.add((finance.hasIndustry, RDFS.range, finance.Industry))\n",
    "\n",
    "# sector\n",
    "g.add((finance.belongsToSector, RDF.type, OWL.ObjectProperty))\n",
    "g.add((finance.belongsToSector, RDFS.domain, finance.Industry))\n",
    "g.add((finance.belongsToSector, RDFS.range, finance.Sector))\n",
    "\n",
    "# address\n",
    "g.add((finance.hasAddress, RDF.type, OWL.ObjectProperty))\n",
    "g.add((finance.hasAddress, RDFS.domain, finance.Company))\n",
    "g.add((finance.hasAddress, RDFS.range, finance.Address))\n",
    "\n",
    "# contact information\n",
    "g.add((finance.hasContactInformation, RDF.type, OWL.ObjectProperty))\n",
    "g.add((finance.hasContactInformation, RDFS.domain, finance.Company))\n",
    "g.add((finance.hasContactInformation, RDFS.range, finance.ContactInformation))\n",
    "\n",
    "# financial data\n",
    "g.add((finance.hasFinancialData, RDF.type, OWL.ObjectProperty))\n",
    "g.add((finance.hasFinancialData, RDFS.domain, finance.Company))\n",
    "g.add((finance.hasFinancialData, RDFS.range, finance.FinancialData))\n",
    "\n",
    "\n",
    "\n",
    "#g.add((finance.hasJob, RDF.type, OWL.ObjectProperty))"
   ],
   "metadata": {
    "collapsed": false,
    "ExecuteTime": {
     "end_time": "2024-03-27T11:49:06.265043800Z",
     "start_time": "2024-03-27T11:49:06.256035500Z"
    }
   },
   "id": "20d2dd76f1d24c75",
   "execution_count": 11
  },
  {
   "cell_type": "code",
   "outputs": [
    {
     "data": {
      "text/plain": "<Graph identifier=N7e32e093db1b408eb1a01f8817c04954 (<class 'rdflib.graph.Graph'>)>"
     },
     "execution_count": 12,
     "metadata": {},
     "output_type": "execute_result"
    }
   ],
   "source": [
    "# sector\n",
    "g.add((finance.belongsToSector, RDF.type, OWL.ObjectProperty))\n",
    "g.add((finance.belongsToSector, RDFS.domain, finance.Industry))\n",
    "g.add((finance.belongsToSector, RDFS.range, finance.Sector))"
   ],
   "metadata": {
    "collapsed": false,
    "ExecuteTime": {
     "end_time": "2024-03-27T11:49:06.278887300Z",
     "start_time": "2024-03-27T11:49:06.265043800Z"
    }
   },
   "id": "ce39d75ab5f5de86",
   "execution_count": 12
  },
  {
   "cell_type": "code",
   "outputs": [
    {
     "data": {
      "text/plain": "<Graph identifier=N7e32e093db1b408eb1a01f8817c04954 (<class 'rdflib.graph.Graph'>)>"
     },
     "execution_count": 13,
     "metadata": {},
     "output_type": "execute_result"
    }
   ],
   "source": [
    "# person\n",
    "## name\n",
    "g.add((finance.hasName, RDF.type, OWL.DatatypeProperty))\n",
    "g.add((finance.hasName, RDFS.domain, finance.Person))\n",
    "g.add((finance.hasName, RDFS.range, XSD.string))\n",
    "\n",
    "## job title\n",
    "g.add((finance.hasJobTitle, RDF.type, OWL.DatatypeProperty))\n",
    "g.add((finance.hasJobTitle, RDFS.domain, finance.Person))\n",
    "g.add((finance.hasJobTitle, RDFS.range, XSD.string))\n",
    "\n",
    "## age\n",
    "g.add((finance.hasAge, RDF.type, OWL.DatatypeProperty))\n",
    "g.add((finance.hasAge, RDFS.domain, finance.Person))\n",
    "g.add((finance.hasAge, RDFS.range, XSD.integer))\n",
    "\n",
    "## yearborn\n",
    "g.add((finance.hasYearBorn, RDF.type, OWL.DatatypeProperty))\n",
    "g.add((finance.hasYearBorn, RDFS.domain, finance.Person))\n",
    "g.add((finance.hasYearBorn, RDFS.range, XSD.integer))\n",
    "\n",
    "## totalPay\n",
    "g.add((finance.hasTotalPay, RDF.type, OWL.DatatypeProperty))\n",
    "g.add((finance.hasTotalPay, RDFS.domain, finance.Person))\n",
    "g.add((finance.hasTotalPay, RDFS.range, XSD.float))\n",
    "\n",
    "## exercisedValue\n",
    "g.add((finance.hasExercisedValue, RDF.type, OWL.DatatypeProperty))\n",
    "g.add((finance.hasExercisedValue, RDFS.domain, finance.Person))\n",
    "g.add((finance.hasExercisedValue, RDFS.range, XSD.float))\n",
    "\n",
    "## unexercisedValue\n",
    "g.add((finance.hasUnexercisedValue, RDF.type, OWL.DatatypeProperty))\n",
    "g.add((finance.hasUnexercisedValue, RDFS.domain, finance.Person))\n",
    "g.add((finance.hasUnexercisedValue, RDFS.range, XSD.float))"
   ],
   "metadata": {
    "collapsed": false,
    "ExecuteTime": {
     "end_time": "2024-03-27T11:49:06.278887300Z",
     "start_time": "2024-03-27T11:49:06.269785200Z"
    }
   },
   "id": "51deb75e96119455",
   "execution_count": 13
  },
  {
   "cell_type": "code",
   "outputs": [
    {
     "data": {
      "text/plain": "<Graph identifier=N7e32e093db1b408eb1a01f8817c04954 (<class 'rdflib.graph.Graph'>)>"
     },
     "execution_count": 14,
     "metadata": {},
     "output_type": "execute_result"
    }
   ],
   "source": [
    "# address\n",
    "## street\n",
    "g.add((finance.hasStreet, RDF.type, OWL.DatatypeProperty))\n",
    "g.add((finance.hasStreet, RDFS.domain, finance.Address))\n",
    "g.add((finance.hasStreet, RDFS.range, XSD.string))\n",
    "\n",
    "## city\n",
    "g.add((finance.hasCity, RDF.type, OWL.DatatypeProperty))\n",
    "g.add((finance.hasCity, RDFS.domain, finance.Address))\n",
    "g.add((finance.hasCity, RDFS.range, XSD.string))\n",
    "\n",
    "## postal code\n",
    "g.add((finance.hasPostalCode, RDF.type, OWL.DatatypeProperty))\n",
    "g.add((finance.hasPostalCode, RDFS.domain, finance.Address))\n",
    "g.add((finance.hasPostalCode, RDFS.range, XSD.string))\n",
    "\n",
    "## country\n",
    "g.add((finance.hasCountry, RDF.type, OWL.DatatypeProperty))\n",
    "g.add((finance.hasCountry, RDFS.domain, finance.Address))\n",
    "g.add((finance.hasCountry, RDFS.range, XSD.string))\n",
    "\n",
    "## state\n",
    "g.add((finance.hasState, RDF.type, OWL.DatatypeProperty))\n",
    "g.add((finance.hasState, RDFS.domain, finance.Address))\n",
    "g.add((finance.hasState, RDFS.range, XSD.string))"
   ],
   "metadata": {
    "collapsed": false,
    "ExecuteTime": {
     "end_time": "2024-03-27T11:49:06.334483800Z",
     "start_time": "2024-03-27T11:49:06.275884400Z"
    }
   },
   "id": "f29b1add7b8f5c5d",
   "execution_count": 14
  },
  {
   "cell_type": "code",
   "outputs": [
    {
     "data": {
      "text/plain": "<Graph identifier=N7e32e093db1b408eb1a01f8817c04954 (<class 'rdflib.graph.Graph'>)>"
     },
     "execution_count": 15,
     "metadata": {},
     "output_type": "execute_result"
    }
   ],
   "source": [
    "# contact information\n",
    "## phone\n",
    "#TODO put to company\n",
    "g.add((finance.hasPhone, RDF.type, OWL.DatatypeProperty))\n",
    "g.add((finance.hasPhone, RDFS.domain, finance.ContactInformation))\n",
    "g.add((finance.hasPhone, RDFS.range, XSD.string))\n",
    "\n",
    "\n"
   ],
   "metadata": {
    "collapsed": false,
    "ExecuteTime": {
     "end_time": "2024-03-27T11:49:06.335485200Z",
     "start_time": "2024-03-27T11:49:06.283367900Z"
    }
   },
   "id": "2eb96fe5ba8320",
   "execution_count": 15
  },
  {
   "cell_type": "code",
   "outputs": [
    {
     "data": {
      "text/plain": "<Graph identifier=N7e32e093db1b408eb1a01f8817c04954 (<class 'rdflib.graph.Graph'>)>"
     },
     "execution_count": 16,
     "metadata": {},
     "output_type": "execute_result"
    }
   ],
   "source": [
    "# safe ontology\n",
    "g.serialize(destination='data/ontology.ttl', format='turtle')"
   ],
   "metadata": {
    "collapsed": false,
    "ExecuteTime": {
     "end_time": "2024-03-27T11:49:06.336486300Z",
     "start_time": "2024-03-27T11:49:06.288420300Z"
    }
   },
   "id": "76b2b5363aee4140",
   "execution_count": 16
  },
  {
   "cell_type": "code",
   "outputs": [],
   "source": [
    "# financial data\n"
   ],
   "metadata": {
    "collapsed": false,
    "ExecuteTime": {
     "end_time": "2024-03-27T11:49:06.336486300Z",
     "start_time": "2024-03-27T11:49:06.299694600Z"
    }
   },
   "id": "a1cda807328b3b",
   "execution_count": 17
  },
  {
   "cell_type": "code",
   "outputs": [],
   "source": [
    "# insert data\n",
    "# company"
   ],
   "metadata": {
    "collapsed": false,
    "ExecuteTime": {
     "end_time": "2024-03-27T11:49:06.336486300Z",
     "start_time": "2024-03-27T11:49:06.302769600Z"
    }
   },
   "id": "db4573ee0f787fe5",
   "execution_count": 18
  },
  {
   "cell_type": "code",
   "outputs": [],
   "source": [
    "# safe kg\n",
    "g.serialize(destination='finance-kg.ttl', format='turtle')"
   ],
   "metadata": {
    "collapsed": false,
    "ExecuteTime": {
     "end_time": "2024-03-27T11:49:06.375523300Z",
     "start_time": "2024-03-27T11:49:06.308022200Z"
    }
   },
   "id": "8a8f43fddc645fb0",
   "execution_count": 19
  }
 ],
 "metadata": {
  "kernelspec": {
   "display_name": "Python 3",
   "language": "python",
   "name": "python3"
  },
  "language_info": {
   "codemirror_mode": {
    "name": "ipython",
    "version": 2
   },
   "file_extension": ".py",
   "mimetype": "text/x-python",
   "name": "python",
   "nbconvert_exporter": "python",
   "pygments_lexer": "ipython2",
   "version": "2.7.6"
  }
 },
 "nbformat": 4,
 "nbformat_minor": 5
}
