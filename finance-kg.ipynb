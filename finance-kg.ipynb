{
 "cells": [
  {
   "cell_type": "markdown",
   "source": [
    "# Finance Knowledge Graph creation\n"
   ],
   "metadata": {
    "collapsed": false
   },
   "id": "b0df9c7732cb48f0"
  },
  {
   "cell_type": "code",
   "execution_count": 1,
   "outputs": [],
   "source": [
    "# imports\n",
    "import pandas as pd\n",
    "from rdflib import Graph, URIRef, Namespace, Literal\n",
    "from rdflib.namespace import FOAF, DCTERMS, XSD, RDF, SDO, RDFS, OWL\n",
    "from urllib.parse import quote"
   ],
   "metadata": {
    "collapsed": false,
    "ExecuteTime": {
     "end_time": "2024-03-28T23:00:05.582639700Z",
     "start_time": "2024-03-28T23:00:05.045288900Z"
    }
   },
   "id": "8241e43257f4444b"
  },
  {
   "cell_type": "code",
   "outputs": [],
   "source": [
    "g = Graph()\n",
    "\n",
    "# namespaces\n",
    "FINANCE = Namespace(\"https://w3id.org/finance/\")\n",
    "\n",
    "COMPANY = Namespace(\"https://finance.yahoo.com/quote/\")\n",
    "SECTOR = Namespace(\"https://finance.yahoo.com/sectors/\")\n",
    "INDUSTRY = Namespace(\"https://finance.yahoo.com/sectors/industry/\")\n",
    "\n",
    "JUSTETF = Namespace(\"https://www.justetf.com/en/\")\n",
    "# https://www.justetf.com/en/etf-profile.html?isin=\n",
    "\n",
    "PERSON = Namespace(\"https://schema.org/person/\")  # jobTitle (https://schema.org/jobTitle), name\n",
    "\n",
    "#schema = Namespace(\"http://schema.org/\")\n",
    "#organization = Namespace(\"https://schema.org/Organization\")\n",
    "\n",
    "#company = Namespace(\"https://dbpedia.org/ontology/Company\")\n",
    "#industry = Namespace(\"https://dbpedia.org/ontology/industry\")\n",
    "#sector = Namespace(\"https://dbpedia.org/ontology/sector\")\n",
    "# https://dbpedia.org/page/Stock\n",
    "\n",
    "\n",
    "# bind prefixes\n",
    "g.bind(\"finance\", FINANCE)\n",
    "g.bind(\"company\", COMPANY)\n",
    "g.bind(\"sector\", SECTOR)\n",
    "g.bind(\"industry\", INDUSTRY)\n",
    "g.bind(\"justetf\", JUSTETF)\n",
    "\n",
    "\n",
    "# https://schema.org/Person\n",
    "# https://schema.org/InvestmentFund\n",
    "# https://dbpedia.org/page/Stock\n",
    "# dbo:industy https://dbpedia.org/ontology/industry \n",
    "\n",
    "# https://schema.org/Organization"
   ],
   "metadata": {
    "collapsed": false,
    "ExecuteTime": {
     "end_time": "2024-03-28T23:00:05.592328700Z",
     "start_time": "2024-03-28T23:00:05.583640500Z"
    }
   },
   "id": "fb4645bf686ef372",
   "execution_count": 2
  },
  {
   "cell_type": "markdown",
   "source": [
    "# Binding"
   ],
   "metadata": {
    "collapsed": false
   },
   "id": "1aa73856d635e104"
  },
  {
   "cell_type": "code",
   "outputs": [
    {
     "data": {
      "text/plain": "<Graph identifier=N6b7fb8da321241adb2bf6bb22a103fb9 (<class 'rdflib.graph.Graph'>)>"
     },
     "execution_count": 3,
     "metadata": {},
     "output_type": "execute_result"
    }
   ],
   "source": [
    "# bind classes\n",
    "\n",
    "g.add((FINANCE.Person, RDF.type, RDFS.Class))\n",
    "g.add((FINANCE.InvestmentFund, RDF.type, RDFS.Class))\n",
    "g.add((FINANCE.Company, RDF.type, RDFS.Class))\n",
    "g.add((FINANCE.Industry, RDF.type, RDFS.Class))\n",
    "g.add((FINANCE.Sector, RDF.type, RDFS.Class))\n",
    "g.add((FINANCE.Job, RDF.type, RDFS.Class))\n",
    "g.add((FINANCE.Address, RDF.type, RDFS.Class))\n",
    "g.add((FINANCE.ContactInformation, RDF.type, RDFS.Class))\n",
    "g.add((FINANCE.FinancialData, RDF.type, RDFS.Class))\n"
   ],
   "metadata": {
    "collapsed": false,
    "ExecuteTime": {
     "end_time": "2024-03-28T23:00:05.599334600Z",
     "start_time": "2024-03-28T23:00:05.589326500Z"
    }
   },
   "id": "4f074e1d1e0c884b",
   "execution_count": 3
  },
  {
   "cell_type": "code",
   "outputs": [
    {
     "data": {
      "text/plain": "<Graph identifier=N6b7fb8da321241adb2bf6bb22a103fb9 (<class 'rdflib.graph.Graph'>)>"
     },
     "execution_count": 4,
     "metadata": {},
     "output_type": "execute_result"
    }
   ],
   "source": [
    "# bind properties\n",
    "\n",
    "# investmendfund\n",
    "## name\n",
    "g.add((FINANCE.hasName, RDF.type, OWL.DatatypeProperty))\n",
    "g.add((FINANCE.hasName, RDFS.domain, FINANCE.InvestmentFund))\n",
    "g.add((FINANCE.hasName, RDFS.range, XSD.string))\n",
    "\n",
    "## company is in investment fund\n",
    "\n",
    "\n",
    "# company\n",
    "## name\n",
    "g.add((FINANCE.hasName, RDF.type, OWL.DatatypeProperty))\n",
    "g.add((FINANCE.hasName, RDFS.domain, FINANCE.Company))\n",
    "g.add((FINANCE.hasName, RDFS.range, XSD.string))\n",
    "\n",
    "## symbol\n",
    "g.add((FINANCE.hasTicker, RDF.type, OWL.DatatypeProperty))\n",
    "g.add((FINANCE.hasTicker, RDFS.domain, FINANCE.Company))\n",
    "g.add((FINANCE.hasTicker, RDFS.range, XSD.string))\n",
    "\n",
    "# use schema.org employee as property for person in company\n",
    "#https://schema.org/employee\n",
    "## employee\n",
    "g.add((FINANCE.hasKeyExecutive, RDF.type, OWL.ObjectProperty))\n",
    "g.add((FINANCE.hasKeyExecutive, RDFS.domain, FINANCE.Company))\n",
    "g.add((FINANCE.hasKeyExecutive, RDFS.range, FINANCE.Person))\n",
    "\n",
    "## url or sameAs website for the company\n",
    "g.add((FINANCE.hasWebsite, RDF.type, OWL.DatatypeProperty))\n",
    "g.add((FINANCE.hasWebsite, RDFS.domain, FINANCE.Company))\n",
    "g.add((FINANCE.hasWebsite, RDFS.range, XSD.string))\n",
    "\n",
    "## industry\n",
    "g.add((FINANCE.hasIndustry, RDF.type, OWL.ObjectProperty))\n",
    "g.add((FINANCE.hasIndustry, RDFS.domain, FINANCE.Company))\n",
    "g.add((FINANCE.hasIndustry, RDFS.range, FINANCE.Industry))\n",
    "\n",
    "# address\n",
    "g.add((FINANCE.hasAddress, RDF.type, OWL.ObjectProperty))\n",
    "g.add((FINANCE.hasAddress, RDFS.domain, FINANCE.Company))\n",
    "g.add((FINANCE.hasAddress, RDFS.range, FINANCE.Address))\n",
    "\n",
    "# contact information\n",
    "g.add((FINANCE.hasContactInformation, RDF.type, OWL.ObjectProperty))\n",
    "g.add((FINANCE.hasContactInformation, RDFS.domain, FINANCE.Company))\n",
    "g.add((FINANCE.hasContactInformation, RDFS.range, FINANCE.ContactInformation))\n",
    "\n",
    "# financial data\n",
    "g.add((FINANCE.hasFinancialData, RDF.type, OWL.ObjectProperty))\n",
    "g.add((FINANCE.hasFinancialData, RDFS.domain, FINANCE.Company))\n",
    "g.add((FINANCE.hasFinancialData, RDFS.range, FINANCE.FinancialData))\n",
    "\n",
    "\n",
    "\n",
    "#g.add((finance.hasJob, RDF.type, OWL.ObjectProperty))"
   ],
   "metadata": {
    "collapsed": false,
    "ExecuteTime": {
     "end_time": "2024-03-28T23:00:05.606387400Z",
     "start_time": "2024-03-28T23:00:05.596331800Z"
    }
   },
   "id": "20d2dd76f1d24c75",
   "execution_count": 4
  },
  {
   "cell_type": "code",
   "outputs": [
    {
     "data": {
      "text/plain": "<Graph identifier=N6b7fb8da321241adb2bf6bb22a103fb9 (<class 'rdflib.graph.Graph'>)>"
     },
     "execution_count": 5,
     "metadata": {},
     "output_type": "execute_result"
    }
   ],
   "source": [
    "# industry\n",
    "## name\n",
    "g.add((FINANCE.hasName, RDF.type, OWL.DatatypeProperty))\n",
    "g.add((FINANCE.hasName, RDFS.domain, FINANCE.Industry))\n",
    "g.add((FINANCE.hasName, RDFS.range, XSD.string))"
   ],
   "metadata": {
    "collapsed": false,
    "ExecuteTime": {
     "end_time": "2024-03-28T23:00:05.624579400Z",
     "start_time": "2024-03-28T23:00:05.603385300Z"
    }
   },
   "id": "bc6db0ec46ac712c",
   "execution_count": 5
  },
  {
   "cell_type": "code",
   "outputs": [
    {
     "data": {
      "text/plain": "<Graph identifier=N6b7fb8da321241adb2bf6bb22a103fb9 (<class 'rdflib.graph.Graph'>)>"
     },
     "execution_count": 6,
     "metadata": {},
     "output_type": "execute_result"
    }
   ],
   "source": [
    "# industry to sector\n",
    "g.add((FINANCE.belongsToSector, RDF.type, OWL.ObjectProperty))\n",
    "g.add((FINANCE.belongsToSector, RDFS.domain, FINANCE.Industry))\n",
    "g.add((FINANCE.belongsToSector, RDFS.range, FINANCE.Sector))"
   ],
   "metadata": {
    "collapsed": false,
    "ExecuteTime": {
     "end_time": "2024-03-28T23:00:05.624579400Z",
     "start_time": "2024-03-28T23:00:05.608499500Z"
    }
   },
   "id": "ce39d75ab5f5de86",
   "execution_count": 6
  },
  {
   "cell_type": "code",
   "outputs": [
    {
     "data": {
      "text/plain": "<Graph identifier=N6b7fb8da321241adb2bf6bb22a103fb9 (<class 'rdflib.graph.Graph'>)>"
     },
     "execution_count": 7,
     "metadata": {},
     "output_type": "execute_result"
    }
   ],
   "source": [
    "# person\n",
    "## name\n",
    "g.add((FINANCE.hasName, RDF.type, OWL.DatatypeProperty))\n",
    "g.add((FINANCE.hasName, RDFS.domain, FINANCE.Person))\n",
    "g.add((FINANCE.hasName, RDFS.range, XSD.string))\n",
    "\n",
    "## gender\n",
    "g.add((FINANCE.hasGender, RDF.type, OWL.DatatypeProperty))\n",
    "g.add((FINANCE.hasGender, RDFS.domain, FINANCE.Person))\n",
    "g.add((FINANCE.hasGender, RDFS.range, XSD.string))\n",
    "\n",
    "## job title\n",
    "g.add((FINANCE.hasJobTitle, RDF.type, OWL.DatatypeProperty))\n",
    "g.add((FINANCE.hasJobTitle, RDFS.domain, FINANCE.Person))\n",
    "g.add((FINANCE.hasJobTitle, RDFS.range, XSD.string))\n",
    "\n",
    "## age\n",
    "g.add((FINANCE.hasAge, RDF.type, OWL.DatatypeProperty))\n",
    "g.add((FINANCE.hasAge, RDFS.domain, FINANCE.Person))\n",
    "g.add((FINANCE.hasAge, RDFS.range, XSD.integer))\n",
    "\n",
    "## yearborn\n",
    "g.add((FINANCE.hasYearBorn, RDF.type, OWL.DatatypeProperty))\n",
    "g.add((FINANCE.hasYearBorn, RDFS.domain, FINANCE.Person))\n",
    "g.add((FINANCE.hasYearBorn, RDFS.range, XSD.integer))\n",
    "\n",
    "## totalPay\n",
    "g.add((FINANCE.hasTotalPay, RDF.type, OWL.DatatypeProperty))\n",
    "g.add((FINANCE.hasTotalPay, RDFS.domain, FINANCE.Person))\n",
    "g.add((FINANCE.hasTotalPay, RDFS.range, XSD.float))\n",
    "\n",
    "## exercisedValue\n",
    "g.add((FINANCE.hasExercisedValue, RDF.type, OWL.DatatypeProperty))\n",
    "g.add((FINANCE.hasExercisedValue, RDFS.domain, FINANCE.Person))\n",
    "g.add((FINANCE.hasExercisedValue, RDFS.range, XSD.float))\n",
    "\n",
    "## unexercisedValue\n",
    "g.add((FINANCE.hasUnexercisedValue, RDF.type, OWL.DatatypeProperty))\n",
    "g.add((FINANCE.hasUnexercisedValue, RDFS.domain, FINANCE.Person))\n",
    "g.add((FINANCE.hasUnexercisedValue, RDFS.range, XSD.float))"
   ],
   "metadata": {
    "collapsed": false,
    "ExecuteTime": {
     "end_time": "2024-03-28T23:00:05.625580100Z",
     "start_time": "2024-03-28T23:00:05.613828800Z"
    }
   },
   "id": "51deb75e96119455",
   "execution_count": 7
  },
  {
   "cell_type": "code",
   "outputs": [
    {
     "data": {
      "text/plain": "<Graph identifier=N6b7fb8da321241adb2bf6bb22a103fb9 (<class 'rdflib.graph.Graph'>)>"
     },
     "execution_count": 8,
     "metadata": {},
     "output_type": "execute_result"
    }
   ],
   "source": [
    "# address\n",
    "## street\n",
    "g.add((FINANCE.hasStreet, RDF.type, OWL.DatatypeProperty))\n",
    "g.add((FINANCE.hasStreet, RDFS.domain, FINANCE.Address))\n",
    "g.add((FINANCE.hasStreet, RDFS.range, XSD.string))\n",
    "\n",
    "## city\n",
    "g.add((FINANCE.hasCity, RDF.type, OWL.DatatypeProperty))\n",
    "g.add((FINANCE.hasCity, RDFS.domain, FINANCE.Address))\n",
    "g.add((FINANCE.hasCity, RDFS.range, XSD.string))\n",
    "\n",
    "## postal code\n",
    "g.add((FINANCE.hasPostalCode, RDF.type, OWL.DatatypeProperty))\n",
    "g.add((FINANCE.hasPostalCode, RDFS.domain, FINANCE.Address))\n",
    "g.add((FINANCE.hasPostalCode, RDFS.range, XSD.string))\n",
    "\n",
    "## country\n",
    "g.add((FINANCE.hasCountry, RDF.type, OWL.DatatypeProperty))\n",
    "g.add((FINANCE.hasCountry, RDFS.domain, FINANCE.Address))\n",
    "g.add((FINANCE.hasCountry, RDFS.range, XSD.string))\n",
    "\n",
    "## state\n",
    "g.add((FINANCE.hasState, RDF.type, OWL.DatatypeProperty))\n",
    "g.add((FINANCE.hasState, RDFS.domain, FINANCE.Address))\n",
    "g.add((FINANCE.hasState, RDFS.range, XSD.string))"
   ],
   "metadata": {
    "collapsed": false,
    "ExecuteTime": {
     "end_time": "2024-03-28T23:00:05.628583200Z",
     "start_time": "2024-03-28T23:00:05.620576700Z"
    }
   },
   "id": "f29b1add7b8f5c5d",
   "execution_count": 8
  },
  {
   "cell_type": "code",
   "outputs": [
    {
     "data": {
      "text/plain": "<Graph identifier=N6b7fb8da321241adb2bf6bb22a103fb9 (<class 'rdflib.graph.Graph'>)>"
     },
     "execution_count": 9,
     "metadata": {},
     "output_type": "execute_result"
    }
   ],
   "source": [
    "# contact information\n",
    "## phone\n",
    "#TODO put to company\n",
    "g.add((FINANCE.hasPhone, RDF.type, OWL.DatatypeProperty))\n",
    "g.add((FINANCE.hasPhone, RDFS.domain, FINANCE.ContactInformation))\n",
    "g.add((FINANCE.hasPhone, RDFS.range, XSD.string))\n",
    "\n",
    "\n"
   ],
   "metadata": {
    "collapsed": false,
    "ExecuteTime": {
     "end_time": "2024-03-28T23:00:05.639638500Z",
     "start_time": "2024-03-28T23:00:05.627581800Z"
    }
   },
   "id": "2eb96fe5ba8320",
   "execution_count": 9
  },
  {
   "cell_type": "code",
   "outputs": [
    {
     "data": {
      "text/plain": "<Graph identifier=N6b7fb8da321241adb2bf6bb22a103fb9 (<class 'rdflib.graph.Graph'>)>"
     },
     "execution_count": 10,
     "metadata": {},
     "output_type": "execute_result"
    }
   ],
   "source": [
    "# safe ontology\n",
    "g.serialize(destination='data/ontology.ttl', format='turtle')"
   ],
   "metadata": {
    "collapsed": false,
    "ExecuteTime": {
     "end_time": "2024-03-28T23:00:05.679564Z",
     "start_time": "2024-03-28T23:00:05.633634400Z"
    }
   },
   "id": "76b2b5363aee4140",
   "execution_count": 10
  },
  {
   "cell_type": "markdown",
   "source": [
    "# insert data"
   ],
   "metadata": {
    "collapsed": false
   },
   "id": "219d0af641478d63"
  },
  {
   "cell_type": "code",
   "outputs": [],
   "source": [
    "import yfinance as yf\n",
    "import pandas as pd\n",
    "import regex as re"
   ],
   "metadata": {
    "collapsed": false,
    "ExecuteTime": {
     "end_time": "2024-03-28T23:00:05.854025800Z",
     "start_time": "2024-03-28T23:00:05.642531Z"
    }
   },
   "id": "63b67bcd0aa954a1",
   "execution_count": 11
  },
  {
   "cell_type": "code",
   "outputs": [],
   "source": [
    "def prep_uri(namespace: Namespace, clazz: str):\n",
    "    \"\"\"\n",
    "    This function prepares a URI for a given class. It removes special chars like & and -.\n",
    "    After that it removes any amount of whitespaces and replaces them with a dash.\n",
    "    :param namespace: \n",
    "    :param clazz: \n",
    "    :return: \n",
    "    \"\"\"\n",
    "    return namespace[quote(re.sub(r'\\s+', '-', clazz.replace('&', '').replace('-', '').replace('.','').lower()))]"
   ],
   "metadata": {
    "collapsed": false,
    "ExecuteTime": {
     "end_time": "2024-03-28T23:00:05.863599500Z",
     "start_time": "2024-03-28T23:00:05.855025500Z"
    }
   },
   "id": "b3d1575851f94022",
   "execution_count": 12
  },
  {
   "cell_type": "markdown",
   "source": [
    "## industry and sector data"
   ],
   "metadata": {
    "collapsed": false
   },
   "id": "848ee75ac262d3be"
  },
  {
   "cell_type": "code",
   "outputs": [
    {
     "data": {
      "text/plain": "                        Technology  Financial Services  \\\n0        Software - Infrastructure  Bank - Diversified   \n1                   Semiconductors     Credit Services   \n2             Consumer Electronics    Asset Management   \n3           Software - Application    Banks - Regional   \n4  Information Technology Services     Capital Markets   \n\n                     Healthcare        Consumer Cyclical  \\\n0  Drug Manufacturers - General          Internet Retail   \n1              Healthcare Plans       Auto Manufacturers   \n2               Medical Devices              Restaurants   \n3                 Biotechnology  Home Improvement Retail   \n4        Diagnostics & Research          Travel Services   \n\n                           Industrials          Communication Services  \\\n0       Specialty Industrial Machinery  Internet Content & Information   \n1                  Aerospace & Defense                Telecom Services   \n2                            Railroads                   Entertainment   \n3  Farm & Heavy Construction Machinery  Electronic Gaming & Multimedia   \n4        Building Products & Equipment            Advertising Agencies   \n\n              Consumer Defensive                          Energy  \\\n0                Discount Stores            Oil & Gas Integrated   \n1      Beverages - Non-Alcoholic                   Oil & Gas E&P   \n2  Household & Personal Products             Oil & Gas Midstream   \n3                 Packaged Foods  Oil & Gas Refining & Marketing   \n4                        Tobacco  Oil & Gas Equipment & Services   \n\n       Basic Materials           Real Estate                       Utilities  \n0  Specialty Chemicals      REIT - Specialty  Utilities - Regulated Electric  \n1                 Gold     REIT - Industrial           Utilities - Renewable  \n2   Building Materials         REIT - Retail         Utilities - Diversified  \n3               Copper    REIT - Residential       Utilities - Regulated Gas  \n4                Steel  Real Estate Services     Utilities - Regulated Water  ",
      "text/html": "<div>\n<style scoped>\n    .dataframe tbody tr th:only-of-type {\n        vertical-align: middle;\n    }\n\n    .dataframe tbody tr th {\n        vertical-align: top;\n    }\n\n    .dataframe thead th {\n        text-align: right;\n    }\n</style>\n<table border=\"1\" class=\"dataframe\">\n  <thead>\n    <tr style=\"text-align: right;\">\n      <th></th>\n      <th>Technology</th>\n      <th>Financial Services</th>\n      <th>Healthcare</th>\n      <th>Consumer Cyclical</th>\n      <th>Industrials</th>\n      <th>Communication Services</th>\n      <th>Consumer Defensive</th>\n      <th>Energy</th>\n      <th>Basic Materials</th>\n      <th>Real Estate</th>\n      <th>Utilities</th>\n    </tr>\n  </thead>\n  <tbody>\n    <tr>\n      <th>0</th>\n      <td>Software - Infrastructure</td>\n      <td>Bank - Diversified</td>\n      <td>Drug Manufacturers - General</td>\n      <td>Internet Retail</td>\n      <td>Specialty Industrial Machinery</td>\n      <td>Internet Content &amp; Information</td>\n      <td>Discount Stores</td>\n      <td>Oil &amp; Gas Integrated</td>\n      <td>Specialty Chemicals</td>\n      <td>REIT - Specialty</td>\n      <td>Utilities - Regulated Electric</td>\n    </tr>\n    <tr>\n      <th>1</th>\n      <td>Semiconductors</td>\n      <td>Credit Services</td>\n      <td>Healthcare Plans</td>\n      <td>Auto Manufacturers</td>\n      <td>Aerospace &amp; Defense</td>\n      <td>Telecom Services</td>\n      <td>Beverages - Non-Alcoholic</td>\n      <td>Oil &amp; Gas E&amp;P</td>\n      <td>Gold</td>\n      <td>REIT - Industrial</td>\n      <td>Utilities - Renewable</td>\n    </tr>\n    <tr>\n      <th>2</th>\n      <td>Consumer Electronics</td>\n      <td>Asset Management</td>\n      <td>Medical Devices</td>\n      <td>Restaurants</td>\n      <td>Railroads</td>\n      <td>Entertainment</td>\n      <td>Household &amp; Personal Products</td>\n      <td>Oil &amp; Gas Midstream</td>\n      <td>Building Materials</td>\n      <td>REIT - Retail</td>\n      <td>Utilities - Diversified</td>\n    </tr>\n    <tr>\n      <th>3</th>\n      <td>Software - Application</td>\n      <td>Banks - Regional</td>\n      <td>Biotechnology</td>\n      <td>Home Improvement Retail</td>\n      <td>Farm &amp; Heavy Construction Machinery</td>\n      <td>Electronic Gaming &amp; Multimedia</td>\n      <td>Packaged Foods</td>\n      <td>Oil &amp; Gas Refining &amp; Marketing</td>\n      <td>Copper</td>\n      <td>REIT - Residential</td>\n      <td>Utilities - Regulated Gas</td>\n    </tr>\n    <tr>\n      <th>4</th>\n      <td>Information Technology Services</td>\n      <td>Capital Markets</td>\n      <td>Diagnostics &amp; Research</td>\n      <td>Travel Services</td>\n      <td>Building Products &amp; Equipment</td>\n      <td>Advertising Agencies</td>\n      <td>Tobacco</td>\n      <td>Oil &amp; Gas Equipment &amp; Services</td>\n      <td>Steel</td>\n      <td>Real Estate Services</td>\n      <td>Utilities - Regulated Water</td>\n    </tr>\n  </tbody>\n</table>\n</div>"
     },
     "execution_count": 13,
     "metadata": {},
     "output_type": "execute_result"
    }
   ],
   "source": [
    "# read industry data\n",
    "sectors_industries_df = pd.read_excel('data/sectors-industries.xlsx')\n",
    "sectors_industries_df.head()"
   ],
   "metadata": {
    "collapsed": false,
    "ExecuteTime": {
     "end_time": "2024-03-28T23:00:06.088721Z",
     "start_time": "2024-03-28T23:00:05.858595100Z"
    }
   },
   "id": "30e404136ffb039a",
   "execution_count": 13
  },
  {
   "cell_type": "code",
   "outputs": [],
   "source": [
    "# create industry and sector triples\n",
    "for sector in sectors_industries_df.columns:\n",
    "\n",
    "    sector_uri = prep_uri(SECTOR, sector)\n",
    "\n",
    "    g.add((sector_uri, RDF.type, FINANCE.Sector))\n",
    "    g.add((sector_uri, RDFS.label, Literal(sector, datatype=XSD.string)))\n",
    "\n",
    "    for industry in sectors_industries_df[sector]:\n",
    "        if pd.isna(industry):\n",
    "            continue\n",
    "\n",
    "        industry_uri = prep_uri(Namespace(sector_uri + '/'), industry)\n",
    "\n",
    "        g.add((industry_uri, RDF.type, FINANCE.Industry))\n",
    "        g.add((industry_uri, RDFS.label, Literal(industry, datatype=XSD.string)))\n",
    "        g.add((industry_uri, FINANCE.belongsToSector, sector_uri))"
   ],
   "metadata": {
    "collapsed": false,
    "ExecuteTime": {
     "end_time": "2024-03-28T23:00:06.095728300Z",
     "start_time": "2024-03-28T23:00:06.083716700Z"
    }
   },
   "id": "6e34af72f48e0a0b",
   "execution_count": 14
  },
  {
   "cell_type": "markdown",
   "source": [
    "## company data"
   ],
   "metadata": {
    "collapsed": false
   },
   "id": "84e4938836ab3055"
  },
  {
   "cell_type": "code",
   "outputs": [],
   "source": [
    "def is_valid_ticker(ticker: yf):\n",
    "    \"\"\"\n",
    "    This function checks if a given ticker symbol is valid.\n",
    "    :param ticker: \n",
    "    :return: boolean\n",
    "    \"\"\"\n",
    "    try:\n",
    "        if str(ticker.get_info()) == \"{'trailingPegRatio': None}\":\n",
    "            return False\n",
    "        return True\n",
    "    except Exception as e:\n",
    "        #print(e)\n",
    "        return False"
   ],
   "metadata": {
    "collapsed": false,
    "ExecuteTime": {
     "end_time": "2024-03-28T23:00:06.102682300Z",
     "start_time": "2024-03-28T23:00:06.095728300Z"
    }
   },
   "id": "5233ed1c14f31c38",
   "execution_count": 15
  },
  {
   "cell_type": "code",
   "outputs": [],
   "source": [
    "def grep_ticker_data(tickers: pd.Series):\n",
    "    \"\"\"\n",
    "    This function accumulates relevant stock data from yahoo finance with the corresponding ticker symbol.\n",
    "    :param tickers: column of ticker symbols\n",
    "    :return: TODO\n",
    "    \"\"\"\n",
    "    i = 0  # TODO remove\n",
    "    invalid_tickers = []\n",
    "\n",
    "    # get possible info data\n",
    "    tickers_metadata_df = pd.DataFrame()  #columns=yf.Ticker('').get_fast_info())\n",
    "    for ticker_value in tickers:\n",
    "        ticker = yf.Ticker(str(ticker_value))\n",
    "\n",
    "        if not is_valid_ticker(ticker):\n",
    "            invalid_tickers.append(ticker_value)\n",
    "            continue\n",
    "\n",
    "        # deprecated\n",
    "        # tickers_metadata_df.append(ticker.get_info(), ignore_index=True)\n",
    "\n",
    "        #tickers_metadata_df = pd.concat([tickers_metadata_df, pd.DataFrame(ticker.get_info())])\n",
    "        \n",
    "        handle_info_data(ticker)\n",
    "        \n",
    "        # ticker.get_info()  is a dict get its keys\n",
    "        #print(ticker.get_info().keys())\n",
    "\n",
    "        #tickers_metadata_df.loc[str(ticker_value)] = new_row_dict\n",
    "        # for info in ticker.get_fast_info():\n",
    "        #     #info_data_dict = yf.Ticker(str(info)).get_info()\n",
    "        #     tickers_metadata_df.append(info, ignore_index=True)\n",
    "\n",
    "        # TODO remove\n",
    "        # i = i + 1\n",
    "        # if i == 2:\n",
    "        #     break\n",
    "\n",
    "    print(f\"a total of {len(invalid_tickers)} invalid tickers. \\n\"\n",
    "          f\"{invalid_tickers}\")\n",
    "\n",
    "    return tickers_metadata_df"
   ],
   "metadata": {
    "collapsed": false,
    "ExecuteTime": {
     "end_time": "2024-03-28T23:00:06.112238300Z",
     "start_time": "2024-03-28T23:00:06.098125100Z"
    }
   },
   "id": "642388289c921ca3",
   "execution_count": 16
  },
  {
   "cell_type": "code",
   "outputs": [],
   "source": [
    "def handle_info_data(ticker: yf.Ticker):\n",
    "    \"\"\"\n",
    "    This function handles the info data of a given ticker.\n",
    "    :param ticker: \n",
    "    :return: \n",
    "    \"\"\"\n",
    "    ## handle persons\n",
    "    info = ticker.get_info()\n",
    "    # if shortname is not available, skip and print shortname\n",
    "    if 'shortName' not in info:\n",
    "        print(f\"shortName not available for {ticker}\")\n",
    "        return\n",
    "    company_uri = prep_uri(COMPANY, info['shortName'])\n",
    "    \n",
    "    g.add((company_uri, RDF.type, FINANCE.Company))\n",
    "    g.add((company_uri, FINANCE.hasName, Literal(info['shortName'], datatype=XSD.string)))\n",
    "    g.add((company_uri, FINANCE.hasTicker, Literal(info['symbol'], datatype=XSD.string),))\n",
    "    g.add((company_uri, FINANCE.hasWebsite, Literal(info['website'], datatype=XSD.string)))\n",
    "    \n",
    "    \n",
    "    \n",
    "    for key in info.keys():\n",
    "        if key == 'companyOfficers':\n",
    "            for employee in info['companyOfficers']:\n",
    "                name = re.sub(r'Mr. |Mrs. |Ms. ', '', employee['name'])\n",
    "            \n",
    "                person_uri = prep_uri(PERSON, name.lower().replace(' ', '-'))\n",
    "                #print(person_uri)\n",
    "                g.add((person_uri, RDF.type, FINANCE.Person))\n",
    "                \n",
    "                # remove Mr. and Mrs. from name\n",
    "                g.add((person_uri, FINANCE.hasName, Literal(name, datatype=XSD.string)))\n",
    "                # filter gender\n",
    "                if 'Mr.' in employee['name']:\n",
    "                    g.add((person_uri, FINANCE.hasGender, Literal('m', datatype=XSD.string)))\n",
    "                if 'Mrs.' in employee['name'] or 'Ms.' in employee['name']:\n",
    "                    g.add((person_uri, FINANCE.hasGender, Literal('w', datatype=XSD.string)))\n",
    "                if 'title' in employee:\n",
    "                    g.add((person_uri, FINANCE.hasJobTitle, Literal(employee['title'], datatype=XSD.string)))\n",
    "                if 'totalPay' in employee:\n",
    "                    g.add((person_uri, FINANCE.hasTotalPay, Literal(employee['totalPay'], datatype=XSD.float)))\n",
    "                if 'exercisedValue' in employee:\n",
    "                    g.add((person_uri, FINANCE.hasExercisedValue, Literal(employee['exercisedValue'], datatype=XSD.float)))\n",
    "                if 'unexercisedValue' in employee:\n",
    "                    g.add((person_uri, FINANCE.hasUnexercisedValue, Literal(employee['unexercisedValue'], datatype=XSD.float)))\n",
    "                if 'yearBorn' in employee:\n",
    "                    g.add((person_uri, FINANCE.hasYearBorn, Literal(employee['yearBorn'], datatype=XSD.integer)))\n",
    "                if 'age' in employee:\n",
    "                    g.add((person_uri, FINANCE.hasAge, Literal(employee['age'], datatype=XSD.integer)))\n",
    "                # add employee to company\n",
    "                g.add((company_uri, FINANCE.hasKeyExecutive, person_uri))\n",
    "        \n",
    "        # address\n",
    "        # address_uri = prep_uri(FINANCE.Address, info['shortName'])\n",
    "        # g.add((address_uri, RDF.type, FINANCE.Address))\n",
    "        # if key == 'address1':\n",
    "        #     g.add((address_uri, FINANCE.hasStreet, Literal(info['address1'], datatype=XSD.string)))\n",
    "        # if key == 'city':\n",
    "        #     g.add((address_uri, FINANCE.hasCity, Literal(info['city'], datatype=XSD.string)))\n",
    "        # if key == 'zip':\n",
    "        #     g.add((address_uri, FINANCE.hasPostalCode, Literal(info['zip'], datatype=XSD.string)))\n",
    "        # if key == 'country':\n",
    "        #     g.add((address_uri, FINANCE.hasCountry, Literal(info['country'], datatype=XSD.string)))\n",
    "        # if key == 'state':\n",
    "        #     g.add((address_uri, FINANCE.hasState, Literal(info['state'], datatype=XSD.string)))\n",
    "        \n",
    "        \n",
    "    pass"
   ],
   "metadata": {
    "collapsed": false,
    "ExecuteTime": {
     "end_time": "2024-03-28T23:00:06.125406800Z",
     "start_time": "2024-03-28T23:00:06.104187700Z"
    }
   },
   "id": "7e0850934199c148",
   "execution_count": 17
  },
  {
   "cell_type": "code",
   "outputs": [],
   "source": [
    "# read companies in the msci world\n",
    "companies_df = pd.read_excel('data/msci-world-updated.xlsx')"
   ],
   "metadata": {
    "collapsed": false,
    "ExecuteTime": {
     "end_time": "2024-03-28T23:00:06.337860Z",
     "start_time": "2024-03-28T23:00:06.111237300Z"
    }
   },
   "id": "5d5f5f6dbb9b932",
   "execution_count": 18
  },
  {
   "cell_type": "code",
   "outputs": [
    {
     "data": {
      "text/plain": "{'address1': 'Novo Alle 1',\n 'city': 'Bagsvaerd',\n 'zip': '2880',\n 'country': 'Denmark',\n 'phone': '45 44 44 88 88',\n 'website': 'https://www.novonordisk.com',\n 'industry': 'Biotechnology',\n 'sector': 'Healthcare',\n 'longBusinessSummary': 'Novo Nordisk A/S, together with its subsidiaries, engages in the research and development, manufacture, and distribution of pharmaceutical products in Europe, the Middle East, Africa, Mainland China, Hong Kong, Taiwan, North America, and internationally. It operates in two segments, Diabetes and Obesity Care, and Rare Disease. The Diabetes and Obesity care segment provides products for diabetes, obesity, cardiovascular, and other emerging therapy areas. The Rare Disease segment offers products in the areas of rare blood disorders, rare endocrine disorders, and hormone replacement therapy. The company also provides insulin pens, growth hormone pens, and injection needles. In addition, it offers smart solutions for diabetes treatment, such as smart insulin pens and Dose Check, an insulin dose guidance application. The company has a collaboration agreement with Aspen Pharmaceuticals to produce insulin products. Novo Nordisk A/S was founded in 1923 and is headquartered in Bagsvaerd, Denmark.',\n 'fullTimeEmployees': 63370,\n 'companyOfficers': [{'maxAge': 1,\n   'name': 'Mr. Lars Fruergaard Jorgensen',\n   'age': 57,\n   'title': 'President, CEO & Member of Management Board',\n   'yearBorn': 1966,\n   'fiscalYear': 2022,\n   'totalPay': 4682531,\n   'exercisedValue': 0,\n   'unexercisedValue': 0},\n  {'maxAge': 1,\n   'name': 'Mr. Karsten Munk Knudsen',\n   'age': 52,\n   'title': 'Executive VP, CFO & Member of the Management Board',\n   'yearBorn': 1971,\n   'fiscalYear': 2022,\n   'totalPay': 1855616,\n   'exercisedValue': 0,\n   'unexercisedValue': 0},\n  {'maxAge': 1,\n   'name': 'Mr. Henrik Ehlers Wulff',\n   'age': 53,\n   'title': 'Executive VP of Product Supply, Quality & IT and Member of the Management Board',\n   'yearBorn': 1970,\n   'fiscalYear': 2022,\n   'totalPay': 1870113,\n   'exercisedValue': 0,\n   'unexercisedValue': 0},\n  {'maxAge': 1,\n   'name': 'Ms. Camilla  Sylvest',\n   'age': 51,\n   'title': 'Executive VP of Commercial Strategy & Corporate Affairs and Member of the Management Board',\n   'yearBorn': 1972,\n   'fiscalYear': 2022,\n   'totalPay': 1826622,\n   'exercisedValue': 0,\n   'unexercisedValue': 0},\n  {'maxAge': 1,\n   'name': 'Dr. Martin Holst Lange',\n   'age': 53,\n   'title': 'Executive VP of Development & Member of the Management Board',\n   'yearBorn': 1970,\n   'fiscalYear': 2022,\n   'totalPay': 1768634,\n   'exercisedValue': 0,\n   'unexercisedValue': 0},\n  {'maxAge': 1,\n   'name': 'Dr. Marcus  Schindler Ph.D.',\n   'age': 57,\n   'title': 'EVP of Research & Early Development, Chief Scientific Officer & Member of the Management Board',\n   'yearBorn': 1966,\n   'fiscalYear': 2022,\n   'totalPay': 1768634,\n   'exercisedValue': 0,\n   'unexercisedValue': 0},\n  {'maxAge': 1,\n   'name': 'Mr. Maziar Mike Doustdar',\n   'age': 53,\n   'title': 'Executive VP of International Operations & Member of the Management Board',\n   'yearBorn': 1970,\n   'fiscalYear': 2022,\n   'exercisedValue': 0,\n   'unexercisedValue': 0},\n  {'maxAge': 1,\n   'name': 'Mr. Douglas J. Langa',\n   'age': 57,\n   'title': 'Executive VP of North America Operations & Member of Management Board',\n   'yearBorn': 1966,\n   'fiscalYear': 2022,\n   'exercisedValue': 0,\n   'unexercisedValue': 0},\n  {'maxAge': 1,\n   'name': 'Mr. Ludovic  Helfgott',\n   'age': 49,\n   'title': 'Executive VP, Head of Rare Disease & Member of Management Board',\n   'yearBorn': 1974,\n   'fiscalYear': 2022,\n   'exercisedValue': 0,\n   'unexercisedValue': 0},\n  {'maxAge': 1,\n   'name': 'Ms. Tania  Sabroe',\n   'age': 46,\n   'title': 'Executive VP of Global People & Organisation and Member of Management Board',\n   'yearBorn': 1977,\n   'fiscalYear': 2022,\n   'exercisedValue': 0,\n   'unexercisedValue': 0}],\n 'auditRisk': 2,\n 'boardRisk': 2,\n 'compensationRisk': 1,\n 'shareHolderRightsRisk': 9,\n 'overallRisk': 1,\n 'governanceEpochDate': 1709251200,\n 'compensationAsOfEpochDate': 1672444800,\n 'maxAge': 86400,\n 'priceHint': 2,\n 'previousClose': 127.45,\n 'open': 131.65,\n 'dayLow': 124.5,\n 'dayHigh': 131.65,\n 'regularMarketPreviousClose': 127.45,\n 'regularMarketOpen': 131.65,\n 'regularMarketDayLow': 124.5,\n 'regularMarketDayHigh': 131.65,\n 'dividendRate': 1.86,\n 'dividendYield': 0.0146,\n 'exDividendDate': 1711065600,\n 'payoutRatio': 0.38,\n 'fiveYearAvgDividendYield': 1.47,\n 'beta': 0.175,\n 'trailingPE': 46.851852,\n 'volume': 4343,\n 'regularMarketVolume': 4343,\n 'averageVolume': 43059,\n 'averageVolume10days': 19800,\n 'averageDailyVolume10Day': 19800,\n 'marketCap': 566728851456,\n 'fiftyTwoWeekLow': 74.7,\n 'fiftyTwoWeekHigh': 140.32,\n 'priceToSalesTrailing12Months': 2.4400518,\n 'fiftyDayAverage': 121.2518,\n 'twoHundredDayAverage': 100.03185,\n 'trailingAnnualDividendRate': 9.4,\n 'trailingAnnualDividendYield': 0.073754415,\n 'currency': 'USD',\n 'enterpriseValue': 564984807424,\n 'profitMargins': 0.36029997,\n 'floatShares': 3193025827,\n 'sharesOutstanding': 3387160064,\n 'heldPercentInsiders': 0.05978,\n 'heldPercentInstitutions': 0.3822,\n 'bookValue': 23.902,\n 'priceToBook': 5.292444,\n 'lastFiscalYearEnd': 1703980800,\n 'nextFiscalYearEnd': 1735603200,\n 'mostRecentQuarter': 1703980800,\n 'earningsQuarterlyGrowth': 0.616,\n 'netIncomeToCommon': 83683000320,\n 'trailingEps': 2.7,\n 'lastSplitFactor': '5:1',\n 'lastSplitDate': 1388620800,\n 'enterpriseToRevenue': 2.433,\n 'enterpriseToEbitda': 5.145,\n 'exchange': 'PNK',\n 'quoteType': 'EQUITY',\n 'symbol': 'NONOF',\n 'underlyingSymbol': 'NONOF',\n 'shortName': 'NOVO NORDISK A/S',\n 'longName': 'Novo Nordisk A/S',\n 'firstTradeDateEpochUtc': 1266849000,\n 'timeZoneFullName': 'America/New_York',\n 'timeZoneShortName': 'EDT',\n 'uuid': 'c5103154-3ca2-3d69-aa59-a1ba1a0b1ced',\n 'gmtOffSetMilliseconds': -14400000,\n 'currentPrice': 126.5,\n 'recommendationKey': 'none',\n 'totalCash': 30229999616,\n 'totalCashPerShare': 6.781,\n 'ebitda': 109812998144,\n 'totalDebt': 27005999104,\n 'quickRatio': 0.622,\n 'currentRatio': 0.823,\n 'totalRevenue': 232260993024,\n 'debtToEquity': 25.343,\n 'revenuePerShare': 51.812,\n 'returnOnAssets': 0.23389,\n 'returnOnEquity': 0.88066,\n 'freeCashflow': 54102749184,\n 'operatingCashflow': 108908003328,\n 'earningsGrowth': 0.631,\n 'revenueGrowth': 0.37,\n 'grossMargins': 0.84600997,\n 'ebitdaMargins': 0.4728,\n 'operatingMargins': 0.42786,\n 'financialCurrency': 'DKK',\n 'trailingPegRatio': 2.3347}"
     },
     "execution_count": 19,
     "metadata": {},
     "output_type": "execute_result"
    }
   ],
   "source": [
    "yf.Ticker('NONOF').get_info()"
   ],
   "metadata": {
    "collapsed": false,
    "ExecuteTime": {
     "end_time": "2024-03-28T23:00:07.297313500Z",
     "start_time": "2024-03-28T23:00:06.338860600Z"
    }
   },
   "id": "855085843ec87730",
   "execution_count": 19
  },
  {
   "cell_type": "code",
   "outputs": [
    {
     "data": {
      "text/plain": "{'address1': 'One Apple Park Way',\n 'city': 'Cupertino',\n 'state': 'CA',\n 'zip': '95014',\n 'country': 'United States',\n 'phone': '408 996 1010',\n 'website': 'https://www.apple.com',\n 'industry': 'Consumer Electronics',\n 'sector': 'Technology',\n 'longBusinessSummary': 'Apple Inc. designs, manufactures, and markets smartphones, personal computers, tablets, wearables, and accessories worldwide. The company offers iPhone, a line of smartphones; Mac, a line of personal computers; iPad, a line of multi-purpose tablets; and wearables, home, and accessories comprising AirPods, Apple TV, Apple Watch, Beats products, and HomePod. It also provides AppleCare support and cloud services; and operates various platforms, including the App Store that allow customers to discover and download applications and digital content, such as books, music, video, games, and podcasts. In addition, the company offers various services, such as Apple Arcade, a game subscription service; Apple Fitness+, a personalized fitness service; Apple Music, which offers users a curated listening experience with on-demand radio stations; Apple News+, a subscription news and magazine service; Apple TV+, which offers exclusive original content; Apple Card, a co-branded credit card; and Apple Pay, a cashless payment service, as well as licenses its intellectual property. The company serves consumers, and small and mid-sized businesses; and the education, enterprise, and government markets. It distributes third-party applications for its products through the App Store. The company also sells its products through its retail and online stores, and direct sales force; and third-party cellular network carriers, wholesalers, retailers, and resellers. Apple Inc. was founded in 1976 and is headquartered in Cupertino, California.',\n 'fullTimeEmployees': 161000,\n 'companyOfficers': [{'maxAge': 1,\n   'name': 'Mr. Timothy D. Cook',\n   'age': 62,\n   'title': 'CEO & Director',\n   'yearBorn': 1961,\n   'fiscalYear': 2023,\n   'totalPay': 16239562,\n   'exercisedValue': 0,\n   'unexercisedValue': 0},\n  {'maxAge': 1,\n   'name': 'Mr. Luca  Maestri',\n   'age': 60,\n   'title': 'CFO & Senior VP',\n   'yearBorn': 1963,\n   'fiscalYear': 2023,\n   'totalPay': 4612242,\n   'exercisedValue': 0,\n   'unexercisedValue': 0},\n  {'maxAge': 1,\n   'name': 'Mr. Jeffrey E. Williams',\n   'age': 59,\n   'title': 'Chief Operating Officer',\n   'yearBorn': 1964,\n   'fiscalYear': 2023,\n   'totalPay': 4637585,\n   'exercisedValue': 0,\n   'unexercisedValue': 0},\n  {'maxAge': 1,\n   'name': 'Ms. Katherine L. Adams',\n   'age': 59,\n   'title': 'Senior VP, General Counsel & Secretary',\n   'yearBorn': 1964,\n   'fiscalYear': 2023,\n   'totalPay': 4618064,\n   'exercisedValue': 0,\n   'unexercisedValue': 0},\n  {'maxAge': 1,\n   'name': \"Ms. Deirdre  O'Brien\",\n   'age': 56,\n   'title': 'Senior Vice President of Retail',\n   'yearBorn': 1967,\n   'fiscalYear': 2023,\n   'totalPay': 4613369,\n   'exercisedValue': 0,\n   'unexercisedValue': 0},\n  {'maxAge': 1,\n   'name': 'Mr. Chris  Kondo',\n   'title': 'Senior Director of Corporate Accounting',\n   'fiscalYear': 2023,\n   'exercisedValue': 0,\n   'unexercisedValue': 0},\n  {'maxAge': 1,\n   'name': 'Mr. James  Wilson',\n   'title': 'Chief Technology Officer',\n   'fiscalYear': 2023,\n   'exercisedValue': 0,\n   'unexercisedValue': 0},\n  {'maxAge': 1,\n   'name': 'Suhasini  Chandramouli',\n   'title': 'Director of Investor Relations',\n   'fiscalYear': 2023,\n   'exercisedValue': 0,\n   'unexercisedValue': 0},\n  {'maxAge': 1,\n   'name': 'Mr. Greg  Joswiak',\n   'title': 'Senior Vice President of Worldwide Marketing',\n   'fiscalYear': 2023,\n   'exercisedValue': 0,\n   'unexercisedValue': 0},\n  {'maxAge': 1,\n   'name': 'Mr. Adrian  Perica',\n   'age': 49,\n   'title': 'Head of Corporate Development',\n   'yearBorn': 1974,\n   'fiscalYear': 2023,\n   'exercisedValue': 0,\n   'unexercisedValue': 0}],\n 'auditRisk': 5,\n 'boardRisk': 1,\n 'compensationRisk': 4,\n 'shareHolderRightsRisk': 1,\n 'overallRisk': 1,\n 'governanceEpochDate': 1709251200,\n 'compensationAsOfEpochDate': 1703980800,\n 'maxAge': 86400,\n 'priceHint': 2,\n 'previousClose': 173.31,\n 'open': 171.7,\n 'dayLow': 170.51,\n 'dayHigh': 172.23,\n 'regularMarketPreviousClose': 173.31,\n 'regularMarketOpen': 171.7,\n 'regularMarketDayLow': 170.51,\n 'regularMarketDayHigh': 172.23,\n 'dividendRate': 0.96,\n 'dividendYield': 0.0055,\n 'exDividendDate': 1707436800,\n 'payoutRatio': 0.14770001,\n 'fiveYearAvgDividendYield': 0.76,\n 'beta': 1.289,\n 'trailingPE': 26.668741,\n 'forwardPE': 25.94251,\n 'volume': 64574490,\n 'regularMarketVolume': 64574490,\n 'averageVolume': 61614808,\n 'averageVolume10days': 72797670,\n 'averageDailyVolume10Day': 72797670,\n 'bid': 171.76,\n 'ask': 171.91,\n 'bidSize': 100,\n 'askSize': 800,\n 'marketCap': 2647976837120,\n 'fiftyTwoWeekLow': 159.78,\n 'fiftyTwoWeekHigh': 199.62,\n 'priceToSalesTrailing12Months': 6.8652725,\n 'fiftyDayAverage': 181.5032,\n 'twoHundredDayAverage': 183.5825,\n 'trailingAnnualDividendRate': 0.95,\n 'trailingAnnualDividendYield': 0.005481507,\n 'currency': 'USD',\n 'enterpriseValue': 2711172415488,\n 'profitMargins': 0.26163,\n 'floatShares': 15414548871,\n 'sharesOutstanding': 15441899520,\n 'sharesShort': 110863064,\n 'sharesShortPriorMonth': 97665956,\n 'sharesShortPreviousMonthDate': 1707955200,\n 'dateShortInterest': 1710460800,\n 'sharesPercentSharesOut': 0.0072000003,\n 'heldPercentInsiders': 0.059359998,\n 'heldPercentInstitutions': 0.56702,\n 'shortRatio': 1.64,\n 'shortPercentOfFloat': 0.0072000003,\n 'bookValue': 4.793,\n 'priceToBook': 35.777172,\n 'lastFiscalYearEnd': 1696032000,\n 'nextFiscalYearEnd': 1727654400,\n 'mostRecentQuarter': 1703894400,\n 'earningsQuarterlyGrowth': 0.131,\n 'netIncomeToCommon': 100912996352,\n 'trailingEps': 6.43,\n 'forwardEps': 6.61,\n 'pegRatio': 2.82,\n 'lastSplitFactor': '4:1',\n 'lastSplitDate': 1598832000,\n 'enterpriseToRevenue': 7.029,\n 'enterpriseToEbitda': 20.838,\n 'exchange': 'NMS',\n 'quoteType': 'EQUITY',\n 'symbol': 'AAPL',\n 'underlyingSymbol': 'AAPL',\n 'shortName': 'Apple Inc.',\n 'longName': 'Apple Inc.',\n 'firstTradeDateEpochUtc': 345479400,\n 'timeZoneFullName': 'America/New_York',\n 'timeZoneShortName': 'EDT',\n 'uuid': '8b10e4ae-9eeb-3684-921a-9ab27e4d87aa',\n 'gmtOffSetMilliseconds': -14400000,\n 'currentPrice': 171.48,\n 'targetHighPrice': 230.79,\n 'targetLowPrice': 145.86,\n 'targetMeanPrice': 185.81,\n 'targetMedianPrice': 184.63,\n 'recommendationMean': 2.1,\n 'recommendationKey': 'buy',\n 'numberOfAnalystOpinions': 39,\n 'totalCash': 73100001280,\n 'totalCashPerShare': 4.734,\n 'ebitda': 130108997632,\n 'totalDebt': 108040003584,\n 'quickRatio': 0.92,\n 'currentRatio': 1.073,\n 'totalRevenue': 385706000384,\n 'debtToEquity': 145.803,\n 'revenuePerShare': 24.648,\n 'returnOnAssets': 0.21181,\n 'returnOnEquity': 1.5426899,\n 'freeCashflow': 86563127296,\n 'operatingCashflow': 116433002496,\n 'earningsGrowth': 0.16,\n 'revenueGrowth': 0.021,\n 'grossMargins': 0.45027,\n 'ebitdaMargins': 0.33733,\n 'operatingMargins': 0.33764,\n 'financialCurrency': 'USD',\n 'trailingPegRatio': 2.1346}"
     },
     "execution_count": 20,
     "metadata": {},
     "output_type": "execute_result"
    }
   ],
   "source": [
    "yf.Ticker('AAPL').get_info()"
   ],
   "metadata": {
    "collapsed": false,
    "ExecuteTime": {
     "end_time": "2024-03-28T23:00:07.417229Z",
     "start_time": "2024-03-28T23:00:07.298305900Z"
    }
   },
   "id": "8c7f3d311935fe0c",
   "execution_count": 20
  },
  {
   "cell_type": "code",
   "outputs": [
    {
     "name": "stderr",
     "output_type": "stream",
     "text": [
      "404 Client Error: Not Found for url: https://query2.finance.yahoo.com/v10/finance/quoteSummary/BRK/B?modules=financialData%2CquoteType%2CdefaultKeyStatistics%2CassetProfile%2CsummaryDetail&corsDomain=finance.yahoo.com&formatted=false&symbol=BRK%2FB&crumb=BNLUo1Q1nAD\n",
      "404 Client Error: Not Found for url: https://query2.finance.yahoo.com/v10/finance/quoteSummary/XTSLA?modules=financialData%2CquoteType%2CdefaultKeyStatistics%2CassetProfile%2CsummaryDetail&corsDomain=finance.yahoo.com&formatted=false&symbol=XTSLA&crumb=BNLUo1Q1nAD\n",
      "404 Client Error: Not Found for url: https://query2.finance.yahoo.com/v10/finance/quoteSummary/BF/B?modules=financialData%2CquoteType%2CdefaultKeyStatistics%2CassetProfile%2CsummaryDetail&corsDomain=finance.yahoo.com&formatted=false&symbol=BF%2FB&crumb=BNLUo1Q1nAD\n",
      "404 Client Error: Not Found for url: https://query2.finance.yahoo.com/v10/finance/quoteSummary/HEI/A?modules=financialData%2CquoteType%2CdefaultKeyStatistics%2CassetProfile%2CsummaryDetail&corsDomain=finance.yahoo.com&formatted=false&symbol=HEI%2FA&crumb=BNLUo1Q1nAD\n"
     ]
    },
    {
     "name": "stdout",
     "output_type": "stream",
     "text": [
      "shortName not available for yfinance.Ticker object <CRSLF>\n",
      "shortName not available for yfinance.Ticker object <ASRRF>\n"
     ]
    },
    {
     "name": "stderr",
     "output_type": "stream",
     "text": [
      "404 Client Error: Not Found for url: https://query2.finance.yahoo.com/v10/finance/quoteSummary/UHAL/B?modules=financialData%2CquoteType%2CdefaultKeyStatistics%2CassetProfile%2CsummaryDetail&corsDomain=finance.yahoo.com&formatted=false&symbol=UHAL%2FB&crumb=BNLUo1Q1nAD\n"
     ]
    },
    {
     "name": "stdout",
     "output_type": "stream",
     "text": [
      "shortName not available for yfinance.Ticker object <KDXRF>\n",
      "shortName not available for yfinance.Ticker object <LTSSF>\n",
      "a total of 5 invalid tickers. \n",
      "['BRK/B', 'XTSLA', 'BF/B', 'HEI/A', 'UHAL/B']\n"
     ]
    },
    {
     "data": {
      "text/plain": "Empty DataFrame\nColumns: []\nIndex: []",
      "text/html": "<div>\n<style scoped>\n    .dataframe tbody tr th:only-of-type {\n        vertical-align: middle;\n    }\n\n    .dataframe tbody tr th {\n        vertical-align: top;\n    }\n\n    .dataframe thead th {\n        text-align: right;\n    }\n</style>\n<table border=\"1\" class=\"dataframe\">\n  <thead>\n    <tr style=\"text-align: right;\">\n      <th></th>\n    </tr>\n  </thead>\n  <tbody>\n  </tbody>\n</table>\n</div>"
     },
     "execution_count": 21,
     "metadata": {},
     "output_type": "execute_result"
    }
   ],
   "source": [
    "grep_ticker_data(companies_df['Ticker'])"
   ],
   "metadata": {
    "collapsed": false,
    "ExecuteTime": {
     "end_time": "2024-03-28T23:02:54.399457600Z",
     "start_time": "2024-03-28T23:00:07.410223600Z"
    }
   },
   "id": "8be8df93c203cf9",
   "execution_count": 21
  },
  {
   "cell_type": "markdown",
   "source": [
    "managed to reduce from around 500 invalid tickers to less than 10 because of fetching tickers from a different API."
   ],
   "metadata": {
    "collapsed": false
   },
   "id": "ce3f71118cea12bd"
  },
  {
   "cell_type": "code",
   "outputs": [],
   "source": [],
   "metadata": {
    "collapsed": false,
    "ExecuteTime": {
     "end_time": "2024-03-28T23:02:54.399457600Z",
     "start_time": "2024-03-28T23:02:54.388923300Z"
    }
   },
   "id": "ec3548a7d82d9d19",
   "execution_count": 21
  },
  {
   "cell_type": "code",
   "outputs": [],
   "source": [
    "# write code an api request to get the data"
   ],
   "metadata": {
    "collapsed": false,
    "ExecuteTime": {
     "end_time": "2024-03-28T23:02:54.400457800Z",
     "start_time": "2024-03-28T23:02:54.391430600Z"
    }
   },
   "id": "e2fd3b53b9f3ec66",
   "execution_count": 22
  },
  {
   "cell_type": "code",
   "outputs": [
    {
     "data": {
      "text/plain": "<Graph identifier=N6b7fb8da321241adb2bf6bb22a103fb9 (<class 'rdflib.graph.Graph'>)>"
     },
     "execution_count": 23,
     "metadata": {},
     "output_type": "execute_result"
    }
   ],
   "source": [
    "# safe kg\n",
    "g.serialize(destination='data/finance-kg.ttl', format='turtle')"
   ],
   "metadata": {
    "collapsed": false,
    "ExecuteTime": {
     "end_time": "2024-03-28T23:02:57.537106400Z",
     "start_time": "2024-03-28T23:02:54.393452200Z"
    }
   },
   "id": "f5cb8705bfed0081",
   "execution_count": 23
  }
 ],
 "metadata": {
  "kernelspec": {
   "display_name": "Python 3",
   "language": "python",
   "name": "python3"
  },
  "language_info": {
   "codemirror_mode": {
    "name": "ipython",
    "version": 2
   },
   "file_extension": ".py",
   "mimetype": "text/x-python",
   "name": "python",
   "nbconvert_exporter": "python",
   "pygments_lexer": "ipython2",
   "version": "2.7.6"
  }
 },
 "nbformat": 4,
 "nbformat_minor": 5
}
