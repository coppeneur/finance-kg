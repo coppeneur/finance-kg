{
 "cells": [
  {
   "cell_type": "markdown",
   "source": [
    "# Finance Knowledge Graph creation\n"
   ],
   "metadata": {
    "collapsed": false
   },
   "id": "b0df9c7732cb48f0"
  },
  {
   "cell_type": "code",
   "execution_count": 2,
   "outputs": [],
   "source": [
    "# imports\n",
    "import pandas as pd\n",
    "from rdflib import Graph, URIRef, Namespace, Literal\n",
    "from rdflib.namespace import FOAF, DCTERMS, XSD, RDF, SDO, RDFS, OWL\n",
    "from urllib.parse import quote"
   ],
   "metadata": {
    "collapsed": false,
    "ExecuteTime": {
     "end_time": "2024-03-26T17:23:07.355811900Z",
     "start_time": "2024-03-26T17:23:07.237785700Z"
    }
   },
   "id": "8241e43257f4444b"
  },
  {
   "cell_type": "code",
   "outputs": [],
   "source": [
    "g = Graph()\n",
    "\n",
    "# namespaces\n",
    "finance = Namespace(\"https://w3id.org/finance/\")\n",
    "\n",
    "company = Namespace(\"https://finance.yahoo.com/quote/\")\n",
    "sector = Namespace(\"https://finance.yahoo.com/sectors/\")\n",
    "industry = Namespace(\"https://finance.yahoo.com/industries/\")\n",
    "\n",
    "justetf = Namespace(\"https://www.justetf.com/en/\")\n",
    "# https://www.justetf.com/en/etf-profile.html?isin=\n",
    "\n",
    "person = Namespace(\"https://schema.org/Person\") # jobTitle (https://schema.org/jobTitle), name\n",
    "\n",
    "#schema = Namespace(\"http://schema.org/\")\n",
    "#organization = Namespace(\"https://schema.org/Organization\")\n",
    "\n",
    "#company = Namespace(\"https://dbpedia.org/ontology/Company\")\n",
    "#industry = Namespace(\"https://dbpedia.org/ontology/industry\")\n",
    "#sector = Namespace(\"https://dbpedia.org/ontology/sector\")\n",
    "# https://dbpedia.org/page/Stock\n",
    "\n",
    "\n",
    "# bind prefixes\n",
    "g.bind(\"finance\", finance)\n",
    "g.bind(\"company\", company)\n",
    "g.bind(\"sector\", sector)\n",
    "g.bind(\"industry\", industry)\n",
    "g.bind(\"justetf\", justetf)\n",
    "\n",
    "\n",
    "# https://schema.org/Person\n",
    "# https://schema.org/InvestmentFund\n",
    "# https://dbpedia.org/page/Stock\n",
    "# dbo:industy https://dbpedia.org/ontology/industry \n",
    "\n",
    "# https://schema.org/Organization"
   ],
   "metadata": {
    "collapsed": false
   },
   "id": "fb4645bf686ef372"
  },
  {
   "cell_type": "code",
   "outputs": [],
   "source": [
    "# bind classes\n",
    "\n",
    "g.add((finance.Person, RDF.type, RDFS.Class))\n",
    "g.add((finance.InvestmentFund, RDF.type, RDFS.Class))\n",
    "g.add((finance.Company, RDF.type, RDFS.Class))\n",
    "g.add((finance.Industry, RDF.type, RDFS.Class))\n",
    "g.add((finance.Sector, RDF.type, RDFS.Class))\n",
    "g.add((finance.Job, RDF.type, RDFS.Class))\n",
    "g.add((finance.Address, RDF.type, RDFS.Class))\n"
   ],
   "metadata": {
    "collapsed": false
   },
   "id": "4f074e1d1e0c884b"
  },
  {
   "cell_type": "code",
   "outputs": [],
   "source": [
    "# bind properties\n",
    "\n",
    "g.add((finance.hasIndustry, RDF.type, OWL.ObjectProperty))\n",
    "g.add((finance.hasIndustry, RDFS.domain, finance.Company))\n",
    "g.add((finance.hasIndustry, RDFS.range, finance.Industry))\n",
    "\n",
    "g.add((finance.belongsToSector, RDF.type, OWL.ObjectProperty))\n",
    "g.add((finance.belongsToSector, RDFS.domain, finance.Industry))\n",
    "g.add((finance.belongsToSector, RDFS.range, finance.Sector))\n"
   ],
   "metadata": {
    "collapsed": false
   },
   "id": "20d2dd76f1d24c75"
  },
  {
   "cell_type": "code",
   "outputs": [],
   "source": [
    "# safe ontology\n",
    "#g.serialize(destination='ontology.ttl', format='turtle')"
   ],
   "metadata": {
    "collapsed": false
   },
   "id": "8a8f43fddc645fb0"
  }
 ],
 "metadata": {
  "kernelspec": {
   "display_name": "Python 3",
   "language": "python",
   "name": "python3"
  },
  "language_info": {
   "codemirror_mode": {
    "name": "ipython",
    "version": 2
   },
   "file_extension": ".py",
   "mimetype": "text/x-python",
   "name": "python",
   "nbconvert_exporter": "python",
   "pygments_lexer": "ipython2",
   "version": "2.7.6"
  }
 },
 "nbformat": 4,
 "nbformat_minor": 5
}
