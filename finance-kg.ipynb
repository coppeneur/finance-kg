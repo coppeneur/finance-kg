{
 "cells": [
  {
   "cell_type": "markdown",
   "source": [
    "# Finance Knowledge Graph creation\n"
   ],
   "metadata": {
    "collapsed": false
   },
   "id": "b0df9c7732cb48f0"
  },
  {
   "cell_type": "code",
   "execution_count": 1,
   "outputs": [],
   "source": [
    "# imports\n",
    "import pandas as pd\n",
    "from rdflib import Graph, URIRef, Namespace, Literal\n",
    "from rdflib.namespace import FOAF, DCTERMS, XSD, RDF, SDO, RDFS\n",
    "from urllib.parse import quote"
   ],
   "metadata": {
    "collapsed": false,
    "ExecuteTime": {
     "end_time": "2024-03-24T17:33:08.293659500Z",
     "start_time": "2024-03-24T17:33:06.170974200Z"
    }
   },
   "id": "8241e43257f4444b"
  },
  {
   "cell_type": "code",
   "execution_count": null,
   "outputs": [],
   "source": [
    "# namespace for person from schema.org\n",
    "schema = Namespace(\"http://schema.org/\")\n",
    "# https://schema.org/Person\n",
    "# https://schema.org/InvestmentFund\n",
    "# https://dbpedia.org/page/Stock\n",
    "# dbo:industy https://dbpedia.org/ontology/industry \n",
    "\n",
    "# https://schema.org/Organization"
   ],
   "metadata": {
    "collapsed": false
   },
   "id": "ebad2f628b65e2db"
  }
 ],
 "metadata": {
  "kernelspec": {
   "display_name": "Python 3",
   "language": "python",
   "name": "python3"
  },
  "language_info": {
   "codemirror_mode": {
    "name": "ipython",
    "version": 2
   },
   "file_extension": ".py",
   "mimetype": "text/x-python",
   "name": "python",
   "nbconvert_exporter": "python",
   "pygments_lexer": "ipython2",
   "version": "2.7.6"
  }
 },
 "nbformat": 4,
 "nbformat_minor": 5
}
