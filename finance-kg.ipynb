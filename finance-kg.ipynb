{
 "cells": [
  {
   "cell_type": "markdown",
   "source": [
    "# Finance Knowledge Graph creation\n"
   ],
   "metadata": {
    "collapsed": false
   },
   "id": "b0df9c7732cb48f0"
  },
  {
   "cell_type": "code",
   "execution_count": 93,
   "outputs": [],
   "source": [
    "# imports\n",
    "import pandas as pd\n",
    "from rdflib import Graph, URIRef, Namespace, Literal\n",
    "from rdflib.namespace import FOAF, DCTERMS, XSD, RDF, SDO, RDFS, OWL\n",
    "from urllib.parse import quote\n",
    "import regex as re"
   ],
   "metadata": {
    "collapsed": false,
    "ExecuteTime": {
     "end_time": "2024-03-28T16:14:20.019843100Z",
     "start_time": "2024-03-28T16:14:19.954192600Z"
    }
   },
   "id": "8241e43257f4444b"
  },
  {
   "cell_type": "code",
   "outputs": [],
   "source": [
    "g = Graph()\n",
    "\n",
    "# namespaces\n",
    "FINANCE = Namespace(\"https://w3id.org/finance/\")\n",
    "\n",
    "COMPANY = Namespace(\"https://finance.yahoo.com/quote/\")\n",
    "SECTOR = Namespace(\"https://finance.yahoo.com/sectors/\")\n",
    "INDUSTRY = Namespace(\"https://finance.yahoo.com/sectors/industry/\")\n",
    "\n",
    "JUSTETF = Namespace(\"https://www.justetf.com/en/\")\n",
    "# https://www.justetf.com/en/etf-profile.html?isin=\n",
    "\n",
    "PERSON = Namespace(\"https://schema.org/Person\")  # jobTitle (https://schema.org/jobTitle), name\n",
    "\n",
    "#schema = Namespace(\"http://schema.org/\")\n",
    "#organization = Namespace(\"https://schema.org/Organization\")\n",
    "\n",
    "#company = Namespace(\"https://dbpedia.org/ontology/Company\")\n",
    "#industry = Namespace(\"https://dbpedia.org/ontology/industry\")\n",
    "#sector = Namespace(\"https://dbpedia.org/ontology/sector\")\n",
    "# https://dbpedia.org/page/Stock\n",
    "\n",
    "\n",
    "# bind prefixes\n",
    "g.bind(\"finance\", FINANCE)\n",
    "g.bind(\"company\", COMPANY)\n",
    "g.bind(\"sector\", SECTOR)\n",
    "g.bind(\"industry\", INDUSTRY)\n",
    "g.bind(\"justetf\", JUSTETF)\n",
    "\n",
    "\n",
    "# https://schema.org/Person\n",
    "# https://schema.org/InvestmentFund\n",
    "# https://dbpedia.org/page/Stock\n",
    "# dbo:industy https://dbpedia.org/ontology/industry \n",
    "\n",
    "# https://schema.org/Organization"
   ],
   "metadata": {
    "collapsed": false,
    "ExecuteTime": {
     "end_time": "2024-03-28T16:14:20.074605100Z",
     "start_time": "2024-03-28T16:14:20.021844Z"
    }
   },
   "id": "fb4645bf686ef372",
   "execution_count": 94
  },
  {
   "cell_type": "markdown",
   "source": [
    "# Binding"
   ],
   "metadata": {
    "collapsed": false
   },
   "id": "1aa73856d635e104"
  },
  {
   "cell_type": "code",
   "outputs": [
    {
     "data": {
      "text/plain": "<Graph identifier=N782a8039f6ff4e90886a5fb08b59d13a (<class 'rdflib.graph.Graph'>)>"
     },
     "execution_count": 95,
     "metadata": {},
     "output_type": "execute_result"
    }
   ],
   "source": [
    "# bind classes\n",
    "\n",
    "g.add((FINANCE.Person, RDF.type, RDFS.Class))\n",
    "g.add((FINANCE.InvestmentFund, RDF.type, RDFS.Class))\n",
    "g.add((FINANCE.Company, RDF.type, RDFS.Class))\n",
    "g.add((FINANCE.Industry, RDF.type, RDFS.Class))\n",
    "g.add((FINANCE.Sector, RDF.type, RDFS.Class))\n",
    "g.add((FINANCE.Job, RDF.type, RDFS.Class))\n",
    "g.add((FINANCE.Address, RDF.type, RDFS.Class))\n",
    "g.add((FINANCE.ContactInformation, RDF.type, RDFS.Class))\n",
    "g.add((FINANCE.FinancialData, RDF.type, RDFS.Class))\n"
   ],
   "metadata": {
    "collapsed": false,
    "ExecuteTime": {
     "end_time": "2024-03-28T16:14:20.104857500Z",
     "start_time": "2024-03-28T16:14:20.075606100Z"
    }
   },
   "id": "4f074e1d1e0c884b",
   "execution_count": 95
  },
  {
   "cell_type": "code",
   "outputs": [
    {
     "data": {
      "text/plain": "<Graph identifier=N782a8039f6ff4e90886a5fb08b59d13a (<class 'rdflib.graph.Graph'>)>"
     },
     "execution_count": 96,
     "metadata": {},
     "output_type": "execute_result"
    }
   ],
   "source": [
    "# bind properties\n",
    "\n",
    "# investmendfund\n",
    "## name\n",
    "g.add((FINANCE.hasName, RDF.type, OWL.DatatypeProperty))\n",
    "g.add((FINANCE.hasName, RDFS.domain, FINANCE.InvestmentFund))\n",
    "g.add((FINANCE.hasName, RDFS.range, XSD.string))\n",
    "\n",
    "## company is in investment fund\n",
    "\n",
    "\n",
    "# company\n",
    "## name\n",
    "g.add((FINANCE.hasName, RDF.type, OWL.DatatypeProperty))\n",
    "g.add((FINANCE.hasName, RDFS.domain, FINANCE.Company))\n",
    "g.add((FINANCE.hasName, RDFS.range, XSD.string))\n",
    "\n",
    "## symbol\n",
    "g.add((FINANCE.hasSymbol, RDF.type, OWL.DatatypeProperty))\n",
    "g.add((FINANCE.hasSymbol, RDFS.domain, FINANCE.Company))\n",
    "g.add((FINANCE.hasSymbol, RDFS.range, XSD.string))\n",
    "\n",
    "# use schema.org employee as property for person in company\n",
    "#https://schema.org/employee\n",
    "## employee\n",
    "g.add((FINANCE.hasEmployee, RDF.type, OWL.ObjectProperty))\n",
    "g.add((FINANCE.hasEmployee, RDFS.domain, FINANCE.Company))\n",
    "g.add((FINANCE.hasEmployee, RDFS.range, FINANCE.Person))\n",
    "\n",
    "## url or sameAs website for the company\n",
    "g.add((FINANCE.hasWebsite, RDF.type, OWL.DatatypeProperty))\n",
    "g.add((FINANCE.hasWebsite, RDFS.domain, FINANCE.Company))\n",
    "g.add((FINANCE.hasWebsite, RDFS.range, XSD.string))\n",
    "\n",
    "## industry\n",
    "g.add((FINANCE.hasIndustry, RDF.type, OWL.ObjectProperty))\n",
    "g.add((FINANCE.hasIndustry, RDFS.domain, FINANCE.Company))\n",
    "g.add((FINANCE.hasIndustry, RDFS.range, FINANCE.Industry))\n",
    "\n",
    "# address\n",
    "g.add((FINANCE.hasAddress, RDF.type, OWL.ObjectProperty))\n",
    "g.add((FINANCE.hasAddress, RDFS.domain, FINANCE.Company))\n",
    "g.add((FINANCE.hasAddress, RDFS.range, FINANCE.Address))\n",
    "\n",
    "# contact information\n",
    "g.add((FINANCE.hasContactInformation, RDF.type, OWL.ObjectProperty))\n",
    "g.add((FINANCE.hasContactInformation, RDFS.domain, FINANCE.Company))\n",
    "g.add((FINANCE.hasContactInformation, RDFS.range, FINANCE.ContactInformation))\n",
    "\n",
    "# financial data\n",
    "g.add((FINANCE.hasFinancialData, RDF.type, OWL.ObjectProperty))\n",
    "g.add((FINANCE.hasFinancialData, RDFS.domain, FINANCE.Company))\n",
    "g.add((FINANCE.hasFinancialData, RDFS.range, FINANCE.FinancialData))\n",
    "\n",
    "\n",
    "\n",
    "#g.add((finance.hasJob, RDF.type, OWL.ObjectProperty))"
   ],
   "metadata": {
    "collapsed": false,
    "ExecuteTime": {
     "end_time": "2024-03-28T16:14:20.121115Z",
     "start_time": "2024-03-28T16:14:20.106919Z"
    }
   },
   "id": "20d2dd76f1d24c75",
   "execution_count": 96
  },
  {
   "cell_type": "code",
   "outputs": [],
   "source": [
    "# industry\n",
    "## name\n",
    "g.add((FINANCE.hasName, RDF.type, OWL.DatatypeProperty))\n",
    "g.add((FINANCE.hasName, RDFS.domain, FINANCE.Industry))\n",
    "g.add((FINANCE.hasName, RDFS.range, XSD.string))"
   ],
   "metadata": {
    "collapsed": false
   },
   "id": "bc6db0ec46ac712c"
  },
  {
   "cell_type": "code",
   "outputs": [
    {
     "data": {
      "text/plain": "<Graph identifier=N782a8039f6ff4e90886a5fb08b59d13a (<class 'rdflib.graph.Graph'>)>"
     },
     "execution_count": 97,
     "metadata": {},
     "output_type": "execute_result"
    }
   ],
   "source": [
    "# industry to sector\n",
    "g.add((FINANCE.belongsToSector, RDF.type, OWL.ObjectProperty))\n",
    "g.add((FINANCE.belongsToSector, RDFS.domain, FINANCE.Industry))\n",
    "g.add((FINANCE.belongsToSector, RDFS.range, FINANCE.Sector))"
   ],
   "metadata": {
    "collapsed": false,
    "ExecuteTime": {
     "end_time": "2024-03-28T16:14:20.144926900Z",
     "start_time": "2024-03-28T16:14:20.121115Z"
    }
   },
   "id": "ce39d75ab5f5de86",
   "execution_count": 97
  },
  {
   "cell_type": "code",
   "outputs": [
    {
     "data": {
      "text/plain": "<Graph identifier=N782a8039f6ff4e90886a5fb08b59d13a (<class 'rdflib.graph.Graph'>)>"
     },
     "execution_count": 98,
     "metadata": {},
     "output_type": "execute_result"
    }
   ],
   "source": [
    "# person\n",
    "## name\n",
    "g.add((FINANCE.hasName, RDF.type, OWL.DatatypeProperty))\n",
    "g.add((FINANCE.hasName, RDFS.domain, FINANCE.Person))\n",
    "g.add((FINANCE.hasName, RDFS.range, XSD.string))\n",
    "\n",
    "## job title\n",
    "g.add((FINANCE.hasJobTitle, RDF.type, OWL.DatatypeProperty))\n",
    "g.add((FINANCE.hasJobTitle, RDFS.domain, FINANCE.Person))\n",
    "g.add((FINANCE.hasJobTitle, RDFS.range, XSD.string))\n",
    "\n",
    "## age\n",
    "g.add((FINANCE.hasAge, RDF.type, OWL.DatatypeProperty))\n",
    "g.add((FINANCE.hasAge, RDFS.domain, FINANCE.Person))\n",
    "g.add((FINANCE.hasAge, RDFS.range, XSD.integer))\n",
    "\n",
    "## yearborn\n",
    "g.add((FINANCE.hasYearBorn, RDF.type, OWL.DatatypeProperty))\n",
    "g.add((FINANCE.hasYearBorn, RDFS.domain, FINANCE.Person))\n",
    "g.add((FINANCE.hasYearBorn, RDFS.range, XSD.integer))\n",
    "\n",
    "## totalPay\n",
    "g.add((FINANCE.hasTotalPay, RDF.type, OWL.DatatypeProperty))\n",
    "g.add((FINANCE.hasTotalPay, RDFS.domain, FINANCE.Person))\n",
    "g.add((FINANCE.hasTotalPay, RDFS.range, XSD.float))\n",
    "\n",
    "## exercisedValue\n",
    "g.add((FINANCE.hasExercisedValue, RDF.type, OWL.DatatypeProperty))\n",
    "g.add((FINANCE.hasExercisedValue, RDFS.domain, FINANCE.Person))\n",
    "g.add((FINANCE.hasExercisedValue, RDFS.range, XSD.float))\n",
    "\n",
    "## unexercisedValue\n",
    "g.add((FINANCE.hasUnexercisedValue, RDF.type, OWL.DatatypeProperty))\n",
    "g.add((FINANCE.hasUnexercisedValue, RDFS.domain, FINANCE.Person))\n",
    "g.add((FINANCE.hasUnexercisedValue, RDFS.range, XSD.float))"
   ],
   "metadata": {
    "collapsed": false,
    "ExecuteTime": {
     "end_time": "2024-03-28T16:14:20.145927600Z",
     "start_time": "2024-03-28T16:14:20.125739100Z"
    }
   },
   "id": "51deb75e96119455",
   "execution_count": 98
  },
  {
   "cell_type": "code",
   "outputs": [
    {
     "data": {
      "text/plain": "<Graph identifier=N782a8039f6ff4e90886a5fb08b59d13a (<class 'rdflib.graph.Graph'>)>"
     },
     "execution_count": 99,
     "metadata": {},
     "output_type": "execute_result"
    }
   ],
   "source": [
    "# address\n",
    "## street\n",
    "g.add((FINANCE.hasStreet, RDF.type, OWL.DatatypeProperty))\n",
    "g.add((FINANCE.hasStreet, RDFS.domain, FINANCE.Address))\n",
    "g.add((FINANCE.hasStreet, RDFS.range, XSD.string))\n",
    "\n",
    "## city\n",
    "g.add((FINANCE.hasCity, RDF.type, OWL.DatatypeProperty))\n",
    "g.add((FINANCE.hasCity, RDFS.domain, FINANCE.Address))\n",
    "g.add((FINANCE.hasCity, RDFS.range, XSD.string))\n",
    "\n",
    "## postal code\n",
    "g.add((FINANCE.hasPostalCode, RDF.type, OWL.DatatypeProperty))\n",
    "g.add((FINANCE.hasPostalCode, RDFS.domain, FINANCE.Address))\n",
    "g.add((FINANCE.hasPostalCode, RDFS.range, XSD.string))\n",
    "\n",
    "## country\n",
    "g.add((FINANCE.hasCountry, RDF.type, OWL.DatatypeProperty))\n",
    "g.add((FINANCE.hasCountry, RDFS.domain, FINANCE.Address))\n",
    "g.add((FINANCE.hasCountry, RDFS.range, XSD.string))\n",
    "\n",
    "## state\n",
    "g.add((FINANCE.hasState, RDF.type, OWL.DatatypeProperty))\n",
    "g.add((FINANCE.hasState, RDFS.domain, FINANCE.Address))\n",
    "g.add((FINANCE.hasState, RDFS.range, XSD.string))"
   ],
   "metadata": {
    "collapsed": false,
    "ExecuteTime": {
     "end_time": "2024-03-28T16:14:20.182275800Z",
     "start_time": "2024-03-28T16:14:20.146928400Z"
    }
   },
   "id": "f29b1add7b8f5c5d",
   "execution_count": 99
  },
  {
   "cell_type": "code",
   "outputs": [
    {
     "data": {
      "text/plain": "<Graph identifier=N782a8039f6ff4e90886a5fb08b59d13a (<class 'rdflib.graph.Graph'>)>"
     },
     "execution_count": 100,
     "metadata": {},
     "output_type": "execute_result"
    }
   ],
   "source": [
    "# contact information\n",
    "## phone\n",
    "#TODO put to company\n",
    "g.add((FINANCE.hasPhone, RDF.type, OWL.DatatypeProperty))\n",
    "g.add((FINANCE.hasPhone, RDFS.domain, FINANCE.ContactInformation))\n",
    "g.add((FINANCE.hasPhone, RDFS.range, XSD.string))\n",
    "\n",
    "\n"
   ],
   "metadata": {
    "collapsed": false,
    "ExecuteTime": {
     "end_time": "2024-03-28T16:14:20.228915300Z",
     "start_time": "2024-03-28T16:14:20.181275Z"
    }
   },
   "id": "2eb96fe5ba8320",
   "execution_count": 100
  },
  {
   "cell_type": "code",
   "outputs": [
    {
     "data": {
      "text/plain": "<Graph identifier=N782a8039f6ff4e90886a5fb08b59d13a (<class 'rdflib.graph.Graph'>)>"
     },
     "execution_count": 101,
     "metadata": {},
     "output_type": "execute_result"
    }
   ],
   "source": [
    "# safe ontology\n",
    "g.serialize(destination='data/ontology.ttl', format='turtle')"
   ],
   "metadata": {
    "collapsed": false,
    "ExecuteTime": {
     "end_time": "2024-03-28T16:14:20.272998300Z",
     "start_time": "2024-03-28T16:14:20.229916200Z"
    }
   },
   "id": "76b2b5363aee4140",
   "execution_count": 101
  },
  {
   "cell_type": "code",
   "outputs": [],
   "source": [
    "# financial data\n"
   ],
   "metadata": {
    "collapsed": false,
    "ExecuteTime": {
     "end_time": "2024-03-28T16:14:20.319600700Z",
     "start_time": "2024-03-28T16:14:20.252421200Z"
    }
   },
   "id": "a1cda807328b3b",
   "execution_count": 102
  },
  {
   "cell_type": "code",
   "outputs": [],
   "source": [
    "# insert data\n",
    "# company"
   ],
   "metadata": {
    "collapsed": false,
    "ExecuteTime": {
     "end_time": "2024-03-28T16:14:20.342127400Z",
     "start_time": "2024-03-28T16:14:20.278002300Z"
    }
   },
   "id": "db4573ee0f787fe5",
   "execution_count": 103
  },
  {
   "cell_type": "code",
   "outputs": [],
   "source": [],
   "metadata": {
    "collapsed": false,
    "ExecuteTime": {
     "end_time": "2024-03-28T16:14:20.346131600Z",
     "start_time": "2024-03-28T16:14:20.326607500Z"
    }
   },
   "id": "67cd7d25b177559e",
   "execution_count": 103
  },
  {
   "cell_type": "code",
   "outputs": [],
   "source": [],
   "metadata": {
    "collapsed": false,
    "ExecuteTime": {
     "end_time": "2024-03-28T16:14:20.369151500Z",
     "start_time": "2024-03-28T16:14:20.347131600Z"
    }
   },
   "id": "5180de57b1b1ee42",
   "execution_count": 103
  },
  {
   "cell_type": "markdown",
   "source": [
    "# insert data"
   ],
   "metadata": {
    "collapsed": false
   },
   "id": "219d0af641478d63"
  },
  {
   "cell_type": "code",
   "outputs": [],
   "source": [
    "import yfinance as yf\n",
    "import pandas as pd"
   ],
   "metadata": {
    "collapsed": false,
    "ExecuteTime": {
     "end_time": "2024-03-28T16:14:20.386148900Z",
     "start_time": "2024-03-28T16:14:20.369151500Z"
    }
   },
   "id": "63b67bcd0aa954a1",
   "execution_count": 104
  },
  {
   "cell_type": "code",
   "outputs": [],
   "source": [
    "def is_valid_ticker(ticker: yf):\n",
    "    \"\"\"\n",
    "    This function checks if a given ticker symbol is valid.\n",
    "    :param ticker: \n",
    "    :return: boolean\n",
    "    \"\"\"\n",
    "    try:\n",
    "        if str(ticker.get_info()) == \"{'trailingPegRatio': None}\":\n",
    "            return False\n",
    "        return True\n",
    "    except Exception as e:\n",
    "        # If an exception is raised, the ticker is invalid\n",
    "        print(e)\n",
    "        return False"
   ],
   "metadata": {
    "collapsed": false,
    "ExecuteTime": {
     "end_time": "2024-03-28T16:14:20.407168300Z",
     "start_time": "2024-03-28T16:14:20.373881600Z"
    }
   },
   "id": "9d5cd7b402a1220d",
   "execution_count": 105
  },
  {
   "cell_type": "code",
   "outputs": [
    {
     "name": "stderr",
     "output_type": "stream",
     "text": [
      "404 Client Error: Not Found for url: https://query2.finance.yahoo.com/v10/finance/quoteSummary/ASDASDASD?modules=financialData%2CquoteType%2CdefaultKeyStatistics%2CassetProfile%2CsummaryDetail&corsDomain=finance.yahoo.com&formatted=false&symbol=ASDASDASD&crumb=BNLUo1Q1nAD\n"
     ]
    },
    {
     "data": {
      "text/plain": "False"
     },
     "execution_count": 106,
     "metadata": {},
     "output_type": "execute_result"
    }
   ],
   "source": [
    "# invalid ticker test\n",
    "is_valid_ticker(yf.Ticker('ASDASDASd'))\n"
   ],
   "metadata": {
    "collapsed": false,
    "ExecuteTime": {
     "end_time": "2024-03-28T16:14:21.217198900Z",
     "start_time": "2024-03-28T16:14:20.388151500Z"
    }
   },
   "id": "1e0e36e246c3a9b8",
   "execution_count": 106
  },
  {
   "cell_type": "code",
   "outputs": [],
   "source": [
    "def grep_ticker_data(tickers: pd.Series):\n",
    "    \"\"\"\n",
    "    This function accumulates relevant stock data from yahoo finance with the corresponding ticker symbol.\n",
    "    :param tickers: column of ticker symbols\n",
    "    :return: TODO\n",
    "    \"\"\"\n",
    "    i = 0  # TODO remove\n",
    "    invalid_tickers = []\n",
    "\n",
    "    # get possible info data\n",
    "    tickers_metadata_df = pd.DataFrame()  #columns=yf.Ticker('').get_fast_info())\n",
    "    for ticker_value in tickers:\n",
    "        ticker = yf.Ticker(str(ticker_value))\n",
    "\n",
    "        if not is_valid_ticker(ticker):\n",
    "            invalid_tickers.append(ticker_value)\n",
    "            continue\n",
    "\n",
    "        # deprecated\n",
    "        # tickers_metadata_df.append(ticker.get_info(), ignore_index=True)\n",
    "\n",
    "        tickers_metadata_df = pd.concat([tickers_metadata_df, pd.DataFrame(ticker.get_info())])\n",
    "\n",
    "        #tickers_metadata_df.loc[str(ticker_value)] = new_row_dict\n",
    "        # for info in ticker.get_fast_info():\n",
    "        #     #info_data_dict = yf.Ticker(str(info)).get_info()\n",
    "        #     tickers_metadata_df.append(info, ignore_index=True)\n",
    "\n",
    "        # TODO remove\n",
    "        i = i + 1\n",
    "        if i == 2:\n",
    "            break\n",
    "\n",
    "    print(f\"a total of {len(invalid_tickers)} invalid tickers. \\n\"\n",
    "          f\"{invalid_tickers}\")\n",
    "\n",
    "    return tickers_metadata_df"
   ],
   "metadata": {
    "collapsed": false,
    "ExecuteTime": {
     "end_time": "2024-03-28T16:14:21.219200200Z",
     "start_time": "2024-03-28T16:14:21.212654500Z"
    }
   },
   "id": "f05e1a2b1dbfb01f",
   "execution_count": 107
  },
  {
   "cell_type": "code",
   "outputs": [
    {
     "data": {
      "text/plain": "                             Technology                Financial Services  \\\n0             Software - Infrastructure                Bank - Diversified   \n1                        Semiconductors                   Credit Services   \n2                  Consumer Electronics                  Asset Management   \n3                Software - Application                  Banks - Regional   \n4       Information Technology Services                   Capital Markets   \n5   Semiconductor Equipment & Materials           Insurance - Diversified   \n6                     Computer Hardware  Financial Data & Stock Exchanges   \n7               Communication Equipment                 Insurance Brokers   \n8                 Electronic Components   Insurance - Property & Casualty   \n9    Scientific & Technical Instruments                  Insurance - Life   \n10                                Solar             Insurance - Specialty   \n11  Electronics & Computer Distribution                   Mortage Finance   \n12                                  NaN           Insurance - Reinsurance   \n13                                  NaN                   Shell Companies   \n14                                  NaN           Financial Conglomerates   \n15                                  NaN                               NaN   \n16                                  NaN                               NaN   \n17                                  NaN                               NaN   \n18                                  NaN                               NaN   \n19                                  NaN                               NaN   \n20                                  NaN                               NaN   \n21                                  NaN                               NaN   \n22                                  NaN                               NaN   \n23                                  NaN                               NaN   \n24                                  NaN                               NaN   \n\n                                  Healthcare  \\\n0               Drug Manufacturers - General   \n1                           Healthcare Plans   \n2                            Medical Devices   \n3                              Biotechnology   \n4                     Diagnostics & Research   \n5             Medical Instruments & Supplies   \n6                    Medical Care Facilities   \n7   Drug Manufacturers - Specialty & Generic   \n8                       Medical Distribution   \n9                Health Information Services   \n10                  Pharmaceutical Retailers   \n11                                       NaN   \n12                                       NaN   \n13                                       NaN   \n14                                       NaN   \n15                                       NaN   \n16                                       NaN   \n17                                       NaN   \n18                                       NaN   \n19                                       NaN   \n20                                       NaN   \n21                                       NaN   \n22                                       NaN   \n23                                       NaN   \n24                                       NaN   \n\n                     Consumer Cyclical                          Industrials  \\\n0                      Internet Retail       Specialty Industrial Machinery   \n1                   Auto Manufacturers                  Aerospace & Defense   \n2                          Restaurants                            Railroads   \n3              Home Improvement Retail  Farm & Heavy Construction Machinery   \n4                      Travel Services        Building Products & Equipment   \n5                     Specialty Retail          Specialty Business Services   \n6                       Apparel Retail       Integrated Freight & Logistics   \n7             Residential Construction                     Waste Management   \n8               Footwear & Accessories              Industrial Distribution   \n9                           Auto Parts                        Conglomerates   \n10                             Lodging           Engineering & Construction   \n11              Packaging & Containers       Staffing & Employment Services   \n12                   Resorts & Casinos            Rental & Leasing Services   \n13            Auto & Truck Dealerships                             Trucking   \n14                            Gambling                  Consulting Services   \n15               Apparel Manufacturing         Electrical Equipment & Parts   \n16                             Leisure                             Airlines   \n17                   Personal Services                  Tools & Accessories   \n18  Furnishings, Fixtures & Appliances       Security & Protection Services   \n19               Recreational Vehicles       Pollution & Treatment Controls   \n20                        Luxury Goods                    Metal Fabrication   \n21                   Department Stores                      Marine Shipping   \n22               Textile Manufacturing              Airports & Air Services   \n23                                 NaN        Business Equipment & Supplies   \n24                                 NaN            Infrastructure Operations   \n\n            Communication Services                   Consumer Defensive  \\\n0   Internet Content & Information                      Discount Stores   \n1                 Telecom Services            Beverages - Non-Alcoholic   \n2                    Entertainment        Household & Personal Products   \n3   Electronic Gaming & Multimedia                       Packaged Foods   \n4             Advertising Agencies                              Tobacco   \n5                     Broadcasting                        Confectioners   \n6                       Publishing  Beverages - Wineries & Distilleries   \n7                              NaN                        Farm Products   \n8                              NaN                    Food Distribution   \n9                              NaN                       Grocery Stores   \n10                             NaN        Education & Training Services   \n11                             NaN                  Beverages - Brewers   \n12                             NaN                                  NaN   \n13                             NaN                                  NaN   \n14                             NaN                                  NaN   \n15                             NaN                                  NaN   \n16                             NaN                                  NaN   \n17                             NaN                                  NaN   \n18                             NaN                                  NaN   \n19                             NaN                                  NaN   \n20                             NaN                                  NaN   \n21                             NaN                                  NaN   \n22                             NaN                                  NaN   \n23                             NaN                                  NaN   \n24                             NaN                                  NaN   \n\n                            Energy                   Basic Materials  \\\n0             Oil & Gas Integrated               Specialty Chemicals   \n1                    Oil & Gas E&P                              Gold   \n2              Oil & Gas Midstream                Building Materials   \n3   Oil & Gas Refining & Marketing                            Copper   \n4   Oil & Gas Equipment & Services                             Steel   \n5                          Uranium               Agricultural Inputs   \n6               Oil & Gas Drilling                         Chemicals   \n7                     Thermal Coal  Other Industrial Metals & Mining   \n8                              NaN          Lumber & Wood Production   \n9                              NaN                       Coking Coal   \n10                             NaN                          Aluminum   \n11                             NaN    Other Precious Metals & Mining   \n12                             NaN            Paper & Paper Products   \n13                             NaN                            Silver   \n14                             NaN                               NaN   \n15                             NaN                               NaN   \n16                             NaN                               NaN   \n17                             NaN                               NaN   \n18                             NaN                               NaN   \n19                             NaN                               NaN   \n20                             NaN                               NaN   \n21                             NaN                               NaN   \n22                             NaN                               NaN   \n23                             NaN                               NaN   \n24                             NaN                               NaN   \n\n                     Real Estate                                Utilities  \n0               REIT - Specialty           Utilities - Regulated Electric  \n1              REIT - Industrial                    Utilities - Renewable  \n2                  REIT - Retail                  Utilities - Diversified  \n3             REIT - Residential                Utilities - Regulated Gas  \n4           Real Estate Services              Utilities - Regulated Water  \n5   REIT - Healthcare Facilities  Utilities - Independent Power Producers  \n6                  REIT - Office                                      NaN  \n7             REIT - Diversified                                      NaN  \n8                REIT - Mortgage                                      NaN  \n9           REIT - Hotel & Motel                                      NaN  \n10     Real Estate - Development                                      NaN  \n11     Real Estate - Diversified                                      NaN  \n12                           NaN                                      NaN  \n13                           NaN                                      NaN  \n14                           NaN                                      NaN  \n15                           NaN                                      NaN  \n16                           NaN                                      NaN  \n17                           NaN                                      NaN  \n18                           NaN                                      NaN  \n19                           NaN                                      NaN  \n20                           NaN                                      NaN  \n21                           NaN                                      NaN  \n22                           NaN                                      NaN  \n23                           NaN                                      NaN  \n24                           NaN                                      NaN  ",
      "text/html": "<div>\n<style scoped>\n    .dataframe tbody tr th:only-of-type {\n        vertical-align: middle;\n    }\n\n    .dataframe tbody tr th {\n        vertical-align: top;\n    }\n\n    .dataframe thead th {\n        text-align: right;\n    }\n</style>\n<table border=\"1\" class=\"dataframe\">\n  <thead>\n    <tr style=\"text-align: right;\">\n      <th></th>\n      <th>Technology</th>\n      <th>Financial Services</th>\n      <th>Healthcare</th>\n      <th>Consumer Cyclical</th>\n      <th>Industrials</th>\n      <th>Communication Services</th>\n      <th>Consumer Defensive</th>\n      <th>Energy</th>\n      <th>Basic Materials</th>\n      <th>Real Estate</th>\n      <th>Utilities</th>\n    </tr>\n  </thead>\n  <tbody>\n    <tr>\n      <th>0</th>\n      <td>Software - Infrastructure</td>\n      <td>Bank - Diversified</td>\n      <td>Drug Manufacturers - General</td>\n      <td>Internet Retail</td>\n      <td>Specialty Industrial Machinery</td>\n      <td>Internet Content &amp; Information</td>\n      <td>Discount Stores</td>\n      <td>Oil &amp; Gas Integrated</td>\n      <td>Specialty Chemicals</td>\n      <td>REIT - Specialty</td>\n      <td>Utilities - Regulated Electric</td>\n    </tr>\n    <tr>\n      <th>1</th>\n      <td>Semiconductors</td>\n      <td>Credit Services</td>\n      <td>Healthcare Plans</td>\n      <td>Auto Manufacturers</td>\n      <td>Aerospace &amp; Defense</td>\n      <td>Telecom Services</td>\n      <td>Beverages - Non-Alcoholic</td>\n      <td>Oil &amp; Gas E&amp;P</td>\n      <td>Gold</td>\n      <td>REIT - Industrial</td>\n      <td>Utilities - Renewable</td>\n    </tr>\n    <tr>\n      <th>2</th>\n      <td>Consumer Electronics</td>\n      <td>Asset Management</td>\n      <td>Medical Devices</td>\n      <td>Restaurants</td>\n      <td>Railroads</td>\n      <td>Entertainment</td>\n      <td>Household &amp; Personal Products</td>\n      <td>Oil &amp; Gas Midstream</td>\n      <td>Building Materials</td>\n      <td>REIT - Retail</td>\n      <td>Utilities - Diversified</td>\n    </tr>\n    <tr>\n      <th>3</th>\n      <td>Software - Application</td>\n      <td>Banks - Regional</td>\n      <td>Biotechnology</td>\n      <td>Home Improvement Retail</td>\n      <td>Farm &amp; Heavy Construction Machinery</td>\n      <td>Electronic Gaming &amp; Multimedia</td>\n      <td>Packaged Foods</td>\n      <td>Oil &amp; Gas Refining &amp; Marketing</td>\n      <td>Copper</td>\n      <td>REIT - Residential</td>\n      <td>Utilities - Regulated Gas</td>\n    </tr>\n    <tr>\n      <th>4</th>\n      <td>Information Technology Services</td>\n      <td>Capital Markets</td>\n      <td>Diagnostics &amp; Research</td>\n      <td>Travel Services</td>\n      <td>Building Products &amp; Equipment</td>\n      <td>Advertising Agencies</td>\n      <td>Tobacco</td>\n      <td>Oil &amp; Gas Equipment &amp; Services</td>\n      <td>Steel</td>\n      <td>Real Estate Services</td>\n      <td>Utilities - Regulated Water</td>\n    </tr>\n    <tr>\n      <th>5</th>\n      <td>Semiconductor Equipment &amp; Materials</td>\n      <td>Insurance - Diversified</td>\n      <td>Medical Instruments &amp; Supplies</td>\n      <td>Specialty Retail</td>\n      <td>Specialty Business Services</td>\n      <td>Broadcasting</td>\n      <td>Confectioners</td>\n      <td>Uranium</td>\n      <td>Agricultural Inputs</td>\n      <td>REIT - Healthcare Facilities</td>\n      <td>Utilities - Independent Power Producers</td>\n    </tr>\n    <tr>\n      <th>6</th>\n      <td>Computer Hardware</td>\n      <td>Financial Data &amp; Stock Exchanges</td>\n      <td>Medical Care Facilities</td>\n      <td>Apparel Retail</td>\n      <td>Integrated Freight &amp; Logistics</td>\n      <td>Publishing</td>\n      <td>Beverages - Wineries &amp; Distilleries</td>\n      <td>Oil &amp; Gas Drilling</td>\n      <td>Chemicals</td>\n      <td>REIT - Office</td>\n      <td>NaN</td>\n    </tr>\n    <tr>\n      <th>7</th>\n      <td>Communication Equipment</td>\n      <td>Insurance Brokers</td>\n      <td>Drug Manufacturers - Specialty &amp; Generic</td>\n      <td>Residential Construction</td>\n      <td>Waste Management</td>\n      <td>NaN</td>\n      <td>Farm Products</td>\n      <td>Thermal Coal</td>\n      <td>Other Industrial Metals &amp; Mining</td>\n      <td>REIT - Diversified</td>\n      <td>NaN</td>\n    </tr>\n    <tr>\n      <th>8</th>\n      <td>Electronic Components</td>\n      <td>Insurance - Property &amp; Casualty</td>\n      <td>Medical Distribution</td>\n      <td>Footwear &amp; Accessories</td>\n      <td>Industrial Distribution</td>\n      <td>NaN</td>\n      <td>Food Distribution</td>\n      <td>NaN</td>\n      <td>Lumber &amp; Wood Production</td>\n      <td>REIT - Mortgage</td>\n      <td>NaN</td>\n    </tr>\n    <tr>\n      <th>9</th>\n      <td>Scientific &amp; Technical Instruments</td>\n      <td>Insurance - Life</td>\n      <td>Health Information Services</td>\n      <td>Auto Parts</td>\n      <td>Conglomerates</td>\n      <td>NaN</td>\n      <td>Grocery Stores</td>\n      <td>NaN</td>\n      <td>Coking Coal</td>\n      <td>REIT - Hotel &amp; Motel</td>\n      <td>NaN</td>\n    </tr>\n    <tr>\n      <th>10</th>\n      <td>Solar</td>\n      <td>Insurance - Specialty</td>\n      <td>Pharmaceutical Retailers</td>\n      <td>Lodging</td>\n      <td>Engineering &amp; Construction</td>\n      <td>NaN</td>\n      <td>Education &amp; Training Services</td>\n      <td>NaN</td>\n      <td>Aluminum</td>\n      <td>Real Estate - Development</td>\n      <td>NaN</td>\n    </tr>\n    <tr>\n      <th>11</th>\n      <td>Electronics &amp; Computer Distribution</td>\n      <td>Mortage Finance</td>\n      <td>NaN</td>\n      <td>Packaging &amp; Containers</td>\n      <td>Staffing &amp; Employment Services</td>\n      <td>NaN</td>\n      <td>Beverages - Brewers</td>\n      <td>NaN</td>\n      <td>Other Precious Metals &amp; Mining</td>\n      <td>Real Estate - Diversified</td>\n      <td>NaN</td>\n    </tr>\n    <tr>\n      <th>12</th>\n      <td>NaN</td>\n      <td>Insurance - Reinsurance</td>\n      <td>NaN</td>\n      <td>Resorts &amp; Casinos</td>\n      <td>Rental &amp; Leasing Services</td>\n      <td>NaN</td>\n      <td>NaN</td>\n      <td>NaN</td>\n      <td>Paper &amp; Paper Products</td>\n      <td>NaN</td>\n      <td>NaN</td>\n    </tr>\n    <tr>\n      <th>13</th>\n      <td>NaN</td>\n      <td>Shell Companies</td>\n      <td>NaN</td>\n      <td>Auto &amp; Truck Dealerships</td>\n      <td>Trucking</td>\n      <td>NaN</td>\n      <td>NaN</td>\n      <td>NaN</td>\n      <td>Silver</td>\n      <td>NaN</td>\n      <td>NaN</td>\n    </tr>\n    <tr>\n      <th>14</th>\n      <td>NaN</td>\n      <td>Financial Conglomerates</td>\n      <td>NaN</td>\n      <td>Gambling</td>\n      <td>Consulting Services</td>\n      <td>NaN</td>\n      <td>NaN</td>\n      <td>NaN</td>\n      <td>NaN</td>\n      <td>NaN</td>\n      <td>NaN</td>\n    </tr>\n    <tr>\n      <th>15</th>\n      <td>NaN</td>\n      <td>NaN</td>\n      <td>NaN</td>\n      <td>Apparel Manufacturing</td>\n      <td>Electrical Equipment &amp; Parts</td>\n      <td>NaN</td>\n      <td>NaN</td>\n      <td>NaN</td>\n      <td>NaN</td>\n      <td>NaN</td>\n      <td>NaN</td>\n    </tr>\n    <tr>\n      <th>16</th>\n      <td>NaN</td>\n      <td>NaN</td>\n      <td>NaN</td>\n      <td>Leisure</td>\n      <td>Airlines</td>\n      <td>NaN</td>\n      <td>NaN</td>\n      <td>NaN</td>\n      <td>NaN</td>\n      <td>NaN</td>\n      <td>NaN</td>\n    </tr>\n    <tr>\n      <th>17</th>\n      <td>NaN</td>\n      <td>NaN</td>\n      <td>NaN</td>\n      <td>Personal Services</td>\n      <td>Tools &amp; Accessories</td>\n      <td>NaN</td>\n      <td>NaN</td>\n      <td>NaN</td>\n      <td>NaN</td>\n      <td>NaN</td>\n      <td>NaN</td>\n    </tr>\n    <tr>\n      <th>18</th>\n      <td>NaN</td>\n      <td>NaN</td>\n      <td>NaN</td>\n      <td>Furnishings, Fixtures &amp; Appliances</td>\n      <td>Security &amp; Protection Services</td>\n      <td>NaN</td>\n      <td>NaN</td>\n      <td>NaN</td>\n      <td>NaN</td>\n      <td>NaN</td>\n      <td>NaN</td>\n    </tr>\n    <tr>\n      <th>19</th>\n      <td>NaN</td>\n      <td>NaN</td>\n      <td>NaN</td>\n      <td>Recreational Vehicles</td>\n      <td>Pollution &amp; Treatment Controls</td>\n      <td>NaN</td>\n      <td>NaN</td>\n      <td>NaN</td>\n      <td>NaN</td>\n      <td>NaN</td>\n      <td>NaN</td>\n    </tr>\n    <tr>\n      <th>20</th>\n      <td>NaN</td>\n      <td>NaN</td>\n      <td>NaN</td>\n      <td>Luxury Goods</td>\n      <td>Metal Fabrication</td>\n      <td>NaN</td>\n      <td>NaN</td>\n      <td>NaN</td>\n      <td>NaN</td>\n      <td>NaN</td>\n      <td>NaN</td>\n    </tr>\n    <tr>\n      <th>21</th>\n      <td>NaN</td>\n      <td>NaN</td>\n      <td>NaN</td>\n      <td>Department Stores</td>\n      <td>Marine Shipping</td>\n      <td>NaN</td>\n      <td>NaN</td>\n      <td>NaN</td>\n      <td>NaN</td>\n      <td>NaN</td>\n      <td>NaN</td>\n    </tr>\n    <tr>\n      <th>22</th>\n      <td>NaN</td>\n      <td>NaN</td>\n      <td>NaN</td>\n      <td>Textile Manufacturing</td>\n      <td>Airports &amp; Air Services</td>\n      <td>NaN</td>\n      <td>NaN</td>\n      <td>NaN</td>\n      <td>NaN</td>\n      <td>NaN</td>\n      <td>NaN</td>\n    </tr>\n    <tr>\n      <th>23</th>\n      <td>NaN</td>\n      <td>NaN</td>\n      <td>NaN</td>\n      <td>NaN</td>\n      <td>Business Equipment &amp; Supplies</td>\n      <td>NaN</td>\n      <td>NaN</td>\n      <td>NaN</td>\n      <td>NaN</td>\n      <td>NaN</td>\n      <td>NaN</td>\n    </tr>\n    <tr>\n      <th>24</th>\n      <td>NaN</td>\n      <td>NaN</td>\n      <td>NaN</td>\n      <td>NaN</td>\n      <td>Infrastructure Operations</td>\n      <td>NaN</td>\n      <td>NaN</td>\n      <td>NaN</td>\n      <td>NaN</td>\n      <td>NaN</td>\n      <td>NaN</td>\n    </tr>\n  </tbody>\n</table>\n</div>"
     },
     "execution_count": 108,
     "metadata": {},
     "output_type": "execute_result"
    }
   ],
   "source": [
    "sectors_industries_df = pd.read_excel('data/sectors-industries.xlsx')\n",
    "sectors_industries_df"
   ],
   "metadata": {
    "collapsed": false,
    "ExecuteTime": {
     "end_time": "2024-03-28T16:14:21.237741400Z",
     "start_time": "2024-03-28T16:14:21.218198900Z"
    }
   },
   "id": "3c9a168c007dc126",
   "execution_count": 108
  },
  {
   "cell_type": "code",
   "outputs": [],
   "source": [
    "def prep_uri(namespace: Namespace, clazz: str):\n",
    "    #replace special chars like & with '' from the clazz\n",
    "    return namespace[re.sub(r'\\s+', '-', clazz.replace('&', '').replace('-', '').lower())]"
   ],
   "metadata": {
    "collapsed": false,
    "ExecuteTime": {
     "end_time": "2024-03-28T16:14:21.260040900Z",
     "start_time": "2024-03-28T16:14:21.238743200Z"
    }
   },
   "id": "b3d1575851f94022",
   "execution_count": 109
  },
  {
   "cell_type": "code",
   "outputs": [],
   "source": [
    "# iterate thorugh sector_indsutries_df per column\n",
    "for sector in sectors_industries_df.columns:\n",
    "\n",
    "    sector_uri = prep_uri(SECTOR, sector)\n",
    "\n",
    "    g.add((sector_uri, RDF.type, FINANCE.Sector))\n",
    "    g.add((sector_uri, RDFS.label, Literal(sector, datatype=XSD.string)))\n",
    "\n",
    "    for industry in sectors_industries_df[sector]:\n",
    "        if pd.isna(industry):\n",
    "            continue\n",
    "\n",
    "        industry_uri = prep_uri(Namespace(sector_uri + '/'), industry)\n",
    "\n",
    "        g.add((industry_uri, RDF.type, FINANCE.Industry))\n",
    "        g.add((industry_uri, RDFS.label, Literal(industry, datatype=XSD.string)))\n",
    "        g.add((industry_uri, FINANCE.belongsToSector, sector_uri))"
   ],
   "metadata": {
    "collapsed": false,
    "ExecuteTime": {
     "end_time": "2024-03-28T16:14:21.261041800Z",
     "start_time": "2024-03-28T16:14:21.242520200Z"
    }
   },
   "id": "6e34af72f48e0a0b",
   "execution_count": 110
  },
  {
   "cell_type": "code",
   "outputs": [
    {
     "data": {
      "text/plain": "<Graph identifier=N782a8039f6ff4e90886a5fb08b59d13a (<class 'rdflib.graph.Graph'>)>"
     },
     "execution_count": 111,
     "metadata": {},
     "output_type": "execute_result"
    }
   ],
   "source": [
    "# safe kg\n",
    "g.serialize(destination='data/finance-kg.ttl', format='turtle')"
   ],
   "metadata": {
    "collapsed": false,
    "ExecuteTime": {
     "end_time": "2024-03-28T16:14:21.317153300Z",
     "start_time": "2024-03-28T16:14:21.254036400Z"
    }
   },
   "id": "f5cb8705bfed0081",
   "execution_count": 111
  }
 ],
 "metadata": {
  "kernelspec": {
   "display_name": "Python 3",
   "language": "python",
   "name": "python3"
  },
  "language_info": {
   "codemirror_mode": {
    "name": "ipython",
    "version": 2
   },
   "file_extension": ".py",
   "mimetype": "text/x-python",
   "name": "python",
   "nbconvert_exporter": "python",
   "pygments_lexer": "ipython2",
   "version": "2.7.6"
  }
 },
 "nbformat": 4,
 "nbformat_minor": 5
}
