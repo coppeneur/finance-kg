{
 "cells": [
  {
   "cell_type": "markdown",
   "source": [
    "# Finance Knowledge Graph creation\n"
   ],
   "metadata": {
    "collapsed": false
   },
   "id": "b0df9c7732cb48f0"
  },
  {
   "cell_type": "code",
   "execution_count": 1,
   "outputs": [],
   "source": [
    "# imports\n",
    "import pandas as pd\n",
    "from rdflib import Graph, URIRef, Namespace, Literal\n",
    "from rdflib.namespace import FOAF, DCTERMS, XSD, RDF, SDO, RDFS, OWL\n",
    "from urllib.parse import quote\n",
    "import numpy as np"
   ],
   "metadata": {
    "collapsed": false,
    "ExecuteTime": {
     "end_time": "2024-03-29T20:52:45.826723300Z",
     "start_time": "2024-03-29T20:52:45.268689900Z"
    }
   },
   "id": "8241e43257f4444b"
  },
  {
   "cell_type": "code",
   "outputs": [],
   "source": [
    "g = Graph()\n",
    "\n",
    "# namespaces\n",
    "FINANCE = Namespace(\"https://w3id.org/finance/\")\n",
    "\n",
    "COMPANY = Namespace(\"https://finance.yahoo.com/quote/\")\n",
    "SECTOR = Namespace(\"https://finance.yahoo.com/sectors/\")\n",
    "#INDUSTRY = Namespace(\"https://finance.yahoo.com/sectors/industry/\")\n",
    "\n",
    "ETF = Namespace(\"https://w3id.org/finance/etf/\")\n",
    "# https://www.justetf.com/en/etf-profile.html?isin=\n",
    "\n",
    "PERSON = Namespace(\"https://schema.org/person/\")  # jobTitle (https://schema.org/jobTitle), name\n",
    "\n",
    "FINANCIALDATA = Namespace(\"https://w3id.org/finance/financialdata/\")\n",
    "QUARTERLYFIGURES = Namespace(\"https://w3id.org/finance/financialdata/quarterlyfigures/\")  # quarterly figures\n",
    "\n",
    "#schema = Namespace(\"http://schema.org/\")\n",
    "#organization = Namespace(\"https://schema.org/Organization\")\n",
    "\n",
    "#company = Namespace(\"https://dbpedia.org/ontology/Company\")\n",
    "#industry = Namespace(\"https://dbpedia.org/ontology/industry\")\n",
    "#sector = Namespace(\"https://dbpedia.org/ontology/sector\")\n",
    "# https://dbpedia.org/page/Stock\n",
    "\n",
    "\n",
    "# bind prefixes\n",
    "g.bind(\"finance\", FINANCE)\n",
    "g.bind(\"company\", COMPANY)\n",
    "g.bind(\"sector\", SECTOR)\n",
    "#g.bind(\"industry\", INDUSTRY)\n",
    "g.bind(\"etf\", ETF)\n",
    "g.bind(\"person\", PERSON)\n",
    "\n",
    "g.bind(\"earningsdate\", FINANCE.EarningDate)\n",
    "g.bind(\"recommendation\", FINANCE.Recommendation)\n",
    "\n",
    "g.bind(\"financialdata\", FINANCIALDATA)\n",
    "g.bind(\"quarterlyfigures\", QUARTERLYFIGURES)"
   ],
   "metadata": {
    "collapsed": false,
    "ExecuteTime": {
     "end_time": "2024-03-29T20:52:45.841405400Z",
     "start_time": "2024-03-29T20:52:45.829725600Z"
    }
   },
   "id": "b4078c377bd627fb",
   "execution_count": 2
  },
  {
   "cell_type": "code",
   "outputs": [],
   "source": [
    "\n",
    "\n",
    "# https://schema.org/Person\n",
    "# https://schema.org/InvestmentFund\n",
    "# https://dbpedia.org/page/Stock\n",
    "# dbo:industy https://dbpedia.org/ontology/industry \n",
    "\n",
    "# https://schema.org/Organization"
   ],
   "metadata": {
    "collapsed": false,
    "ExecuteTime": {
     "end_time": "2024-03-29T20:52:45.842405100Z",
     "start_time": "2024-03-29T20:52:45.832866700Z"
    }
   },
   "id": "6de944f82d4240e6",
   "execution_count": 3
  },
  {
   "cell_type": "markdown",
   "source": [
    "# Binding\n",
    "\n",
    "## bind classes"
   ],
   "metadata": {
    "collapsed": false
   },
   "id": "1aa73856d635e104"
  },
  {
   "cell_type": "code",
   "outputs": [
    {
     "data": {
      "text/plain": "<Graph identifier=N569ccb52709b4607834e33db72a24389 (<class 'rdflib.graph.Graph'>)>"
     },
     "execution_count": 4,
     "metadata": {},
     "output_type": "execute_result"
    }
   ],
   "source": [
    "# bind classes\n",
    "g.add((FINANCE.Person, RDF.type, RDFS.Class))\n",
    "g.add((FINANCE.ETF, RDF.type, RDFS.Class))\n",
    "g.add((FINANCE.Company, RDF.type, RDFS.Class))\n",
    "g.add((FINANCE.Industry, RDF.type, RDFS.Class))\n",
    "g.add((FINANCE.Sector, RDF.type, RDFS.Class))\n",
    "g.add((FINANCE.Job, RDF.type, RDFS.Class))\n",
    "g.add((FINANCE.Address, RDF.type, RDFS.Class))\n",
    "g.add((FINANCE.ContactInformation, RDF.type, RDFS.Class))\n",
    "g.add((FINANCE.EarningsDate, RDF.type, RDFS.Class))\n",
    "g.add((FINANCE.Recommendation, RDF.type, RDFS.Class))\n",
    "# g.add((FINANCE.FinancialData, RDF.type, RDFS.Class))\n",
    "# g.add((FINANCE.QuarterlyFigures, RDF.type, RDFS.Class))\n"
   ],
   "metadata": {
    "collapsed": false,
    "ExecuteTime": {
     "end_time": "2024-03-29T20:52:45.844498700Z",
     "start_time": "2024-03-29T20:52:45.836597900Z"
    }
   },
   "id": "ca7808d068418a2",
   "execution_count": 4
  },
  {
   "cell_type": "markdown",
   "source": [
    "# bind properties\n",
    "## investment fund"
   ],
   "metadata": {
    "collapsed": false
   },
   "id": "5cf39126deb115ce"
  },
  {
   "cell_type": "code",
   "outputs": [
    {
     "data": {
      "text/plain": "<Graph identifier=N569ccb52709b4607834e33db72a24389 (<class 'rdflib.graph.Graph'>)>"
     },
     "execution_count": 5,
     "metadata": {},
     "output_type": "execute_result"
    }
   ],
   "source": [
    "# bind properties\n",
    "\n",
    "# etf\n",
    "## name\n",
    "g.add((FINANCE.hasName, RDF.type, OWL.DatatypeProperty))\n",
    "g.add((FINANCE.hasName, RDFS.domain, FINANCE.ETF))\n",
    "g.add((FINANCE.hasName, RDFS.range, XSD.string))\n",
    "\n",
    "g.add((FINANCE.hasTicker, RDF.type, OWL.DatatypeProperty))\n",
    "g.add((FINANCE.hasTicker, RDFS.domain, FINANCE.ETF))\n",
    "g.add((FINANCE.hasTicker, RDFS.range, XSD.string))\n",
    "\n",
    "g.add((FINANCE.hasCurrency, RDF.type, OWL.DatatypeProperty))\n",
    "g.add((FINANCE.hasCurrency, RDFS.domain, FINANCE.ETF))\n",
    "g.add((FINANCE.hasCurrency, RDFS.range, XSD.string))\n",
    "\n",
    "# company\n",
    "g.add((FINANCE.hasCompany, RDF.type, OWL.ObjectProperty))\n",
    "g.add((FINANCE.hasCompany, RDFS.domain, FINANCE.ETF))\n",
    "g.add((FINANCE.hasCompany, RDFS.range, FINANCE.Company))"
   ],
   "metadata": {
    "collapsed": false,
    "ExecuteTime": {
     "end_time": "2024-03-29T20:52:45.858127Z",
     "start_time": "2024-03-29T20:52:45.846500200Z"
    }
   },
   "id": "45d67e29e4f4690a",
   "execution_count": 5
  },
  {
   "cell_type": "markdown",
   "source": [
    "## company"
   ],
   "metadata": {
    "collapsed": false
   },
   "id": "744a4844dde7b50f"
  },
  {
   "cell_type": "code",
   "outputs": [
    {
     "data": {
      "text/plain": "<Graph identifier=N569ccb52709b4607834e33db72a24389 (<class 'rdflib.graph.Graph'>)>"
     },
     "execution_count": 6,
     "metadata": {},
     "output_type": "execute_result"
    }
   ],
   "source": [
    "# company\n",
    "## name\n",
    "g.add((FINANCE.hasName, RDF.type, OWL.DatatypeProperty))\n",
    "g.add((FINANCE.hasName, RDFS.domain, FINANCE.Company))\n",
    "g.add((FINANCE.hasName, RDFS.range, XSD.string))\n",
    "\n",
    "## symbol\n",
    "g.add((FINANCE.hasTicker, RDF.type, OWL.DatatypeProperty))\n",
    "g.add((FINANCE.hasTicker, RDFS.domain, FINANCE.Company))\n",
    "g.add((FINANCE.hasTicker, RDFS.range, XSD.string))\n",
    "\n",
    "# use schema.org employee as property for person in company\n",
    "#https://schema.org/employee\n",
    "## employee\n",
    "g.add((FINANCE.hasKeyExecutive, RDF.type, OWL.ObjectProperty))\n",
    "g.add((FINANCE.hasKeyExecutive, RDFS.domain, FINANCE.Company))\n",
    "g.add((FINANCE.hasKeyExecutive, RDFS.range, FINANCE.Person))\n",
    "\n",
    "## url or sameAs website for the company\n",
    "g.add((FINANCE.hasWebsite, RDF.type, OWL.DatatypeProperty))\n",
    "g.add((FINANCE.hasWebsite, RDFS.domain, FINANCE.Company))\n",
    "g.add((FINANCE.hasWebsite, RDFS.range, XSD.string))\n",
    "\n",
    "## full time employees\n",
    "g.add((FINANCE.hasFullTimeEmployees, RDF.type, OWL.DatatypeProperty))\n",
    "g.add((FINANCE.hasFullTimeEmployees, RDFS.domain, FINANCE.Company))\n",
    "g.add((FINANCE.hasFullTimeEmployees, RDFS.range, XSD.integer))\n",
    "\n",
    "## industry\n",
    "g.add((FINANCE.hasIndustry, RDF.type, OWL.ObjectProperty))\n",
    "g.add((FINANCE.hasIndustry, RDFS.domain, FINANCE.Company))\n",
    "g.add((FINANCE.hasIndustry, RDFS.range, FINANCE.Industry))\n",
    "\n",
    "## earnings date\n",
    "g.add((FINANCE.hasEarningsDate, RDF.type, OWL.ObjectProperty))\n",
    "g.add((FINANCE.hasEarningsDate, RDFS.domain, FINANCE.Company))\n",
    "g.add((FINANCE.hasEarningsDate, RDFS.range, FINANCE.EarningsDate))\n",
    "\n",
    "# recommendation\n",
    "g.add((FINANCE.hasRecommendation, RDF.type, OWL.ObjectProperty))\n",
    "g.add((FINANCE.hasRecommendation, RDFS.domain, FINANCE.Company))\n",
    "g.add((FINANCE.hasRecommendation, RDFS.range, FINANCE.Recommendation))\n",
    "\n",
    "# address\n",
    "# TODO\n",
    "g.add((FINANCE.hasAddress, RDF.type, OWL.ObjectProperty))\n",
    "g.add((FINANCE.hasAddress, RDFS.domain, FINANCE.Company))\n",
    "g.add((FINANCE.hasAddress, RDFS.range, FINANCE.Address))\n",
    "\n",
    "# currency\n",
    "g.add((FINANCE.hasCurrency, RDF.type, OWL.DatatypeProperty))\n",
    "g.add((FINANCE.hasCurrency, RDFS.domain, FINANCE.Company))\n",
    "g.add((FINANCE.hasCurrency, RDFS.range, XSD.string))\n",
    "\n",
    "# # contact information\n",
    "# # TODO\n",
    "# g.add((FINANCE.hasContactInformation, RDF.type, OWL.ObjectProperty))\n",
    "# g.add((FINANCE.hasContactInformation, RDFS.domain, FINANCE.Company))\n",
    "# g.add((FINANCE.hasContactInformation, RDFS.range, FINANCE.ContactInformation))\n",
    "\n",
    "# financial data\n",
    "# g.add((FINANCE.hasFinancialData, RDF.type, OWL.ObjectProperty))\n",
    "# g.add((FINANCE.hasFinancialData, RDFS.domain, FINANCE.Company))\n",
    "# g.add((FINANCE.hasFinancialData, RDFS.range, FINANCE.FinancialData))\n",
    "\n",
    "#g.add((finance.hasJob, RDF.type, OWL.ObjectProperty))"
   ],
   "metadata": {
    "collapsed": false,
    "ExecuteTime": {
     "end_time": "2024-03-29T20:52:45.886251200Z",
     "start_time": "2024-03-29T20:52:45.851534700Z"
    }
   },
   "id": "cd377dc0f83644ea",
   "execution_count": 6
  },
  {
   "cell_type": "markdown",
   "source": [
    "## earning date"
   ],
   "metadata": {
    "collapsed": false
   },
   "id": "afc8b73e6a05d2de"
  },
  {
   "cell_type": "code",
   "outputs": [
    {
     "data": {
      "text/plain": "<Graph identifier=N569ccb52709b4607834e33db72a24389 (<class 'rdflib.graph.Graph'>)>"
     },
     "execution_count": 7,
     "metadata": {},
     "output_type": "execute_result"
    }
   ],
   "source": [
    "# earnings date has  ['EPS Estimate', 'Reported EPS', 'Surprise(%)']\n",
    "# EPS Estimate\n",
    "g.add((FINANCE.hasEstimatedEPS, RDF.type, OWL.DatatypeProperty))\n",
    "g.add((FINANCE.hasEstimatedEPS, RDFS.domain, FINANCE.EarningsDate))\n",
    "g.add((FINANCE.hasEstimatedEPS, RDFS.range, XSD.float))\n",
    "\n",
    "# Reported EPS\n",
    "g.add((FINANCE.hasReportedEPS, RDF.type, OWL.DatatypeProperty))\n",
    "g.add((FINANCE.hasReportedEPS, RDFS.domain, FINANCE.EarningsDate))\n",
    "g.add((FINANCE.hasReportedEPS, RDFS.range, XSD.float))\n",
    "\n",
    "# Surprise(%)\n",
    "g.add((FINANCE.hasSurprise, RDF.type, OWL.DatatypeProperty))\n",
    "g.add((FINANCE.hasSurprise, RDFS.domain, FINANCE.EarningsDate))\n",
    "g.add((FINANCE.hasSurprise, RDFS.range, XSD.float))\n",
    "\n",
    "# date\n",
    "g.add((FINANCE.hasDate, RDF.type, OWL.DatatypeProperty))\n",
    "g.add((FINANCE.hasDate, RDFS.domain, FINANCE.EarningsDate))\n",
    "g.add((FINANCE.hasDate, RDFS.range, XSD.date))"
   ],
   "metadata": {
    "collapsed": false,
    "ExecuteTime": {
     "end_time": "2024-03-29T20:52:45.886251200Z",
     "start_time": "2024-03-29T20:52:45.860126200Z"
    }
   },
   "id": "395d335039044288",
   "execution_count": 7
  },
  {
   "cell_type": "markdown",
   "source": [
    "## recommendation"
   ],
   "metadata": {
    "collapsed": false
   },
   "id": "98391dc4c49b18e6"
  },
  {
   "cell_type": "code",
   "outputs": [
    {
     "data": {
      "text/plain": "<Graph identifier=N569ccb52709b4607834e33db72a24389 (<class 'rdflib.graph.Graph'>)>"
     },
     "execution_count": 8,
     "metadata": {},
     "output_type": "execute_result"
    }
   ],
   "source": [
    "# recommendation\n",
    "\n",
    "# date\n",
    "g.add((FINANCE.hasDate, RDF.type, OWL.DatatypeProperty))\n",
    "g.add((FINANCE.hasDate, RDFS.domain, FINANCE.Recommendation))\n",
    "g.add((FINANCE.hasDate, RDFS.range, XSD.date))\n",
    "\n",
    "# strongbuycount\n",
    "g.add((FINANCE.hasStrongBuyCount, RDF.type, OWL.DatatypeProperty))\n",
    "g.add((FINANCE.hasStrongBuyCount, RDFS.domain, FINANCE.Recommendation))\n",
    "g.add((FINANCE.hasStrongBuyCount, RDFS.range, XSD.integer))\n",
    "\n",
    "# buycount\n",
    "g.add((FINANCE.hasBuyCount, RDF.type, OWL.DatatypeProperty))\n",
    "g.add((FINANCE.hasBuyCount, RDFS.domain, FINANCE.Recommendation))\n",
    "g.add((FINANCE.hasBuyCount, RDFS.range, XSD.integer))\n",
    "\n",
    "# holdcount\n",
    "g.add((FINANCE.hasHoldCount, RDF.type, OWL.DatatypeProperty))\n",
    "g.add((FINANCE.hasHoldCount, RDFS.domain, FINANCE.Recommendation))\n",
    "g.add((FINANCE.hasHoldCount, RDFS.range, XSD.integer))\n",
    "\n",
    "# sellcount\n",
    "g.add((FINANCE.hasSellCount, RDF.type, OWL.DatatypeProperty))\n",
    "g.add((FINANCE.hasSellCount, RDFS.domain, FINANCE.Recommendation))\n",
    "g.add((FINANCE.hasSellCount, RDFS.range, XSD.integer))\n",
    "\n",
    "# strongsellcount\n",
    "g.add((FINANCE.hasStrongSellCount, RDF.type, OWL.DatatypeProperty))\n",
    "g.add((FINANCE.hasStrongSellCount, RDFS.domain, FINANCE.Recommendation))\n",
    "g.add((FINANCE.hasStrongSellCount, RDFS.range, XSD.integer))"
   ],
   "metadata": {
    "collapsed": false,
    "ExecuteTime": {
     "end_time": "2024-03-29T20:52:45.887249400Z",
     "start_time": "2024-03-29T20:52:45.864909200Z"
    }
   },
   "id": "1f9afc07c4b10577",
   "execution_count": 8
  },
  {
   "cell_type": "markdown",
   "source": [
    "## financial data"
   ],
   "metadata": {
    "collapsed": false
   },
   "id": "85cd3c8481f4cca5"
  },
  {
   "cell_type": "code",
   "outputs": [],
   "source": [
    "# earnings date class has to be created\n",
    "\n"
   ],
   "metadata": {
    "collapsed": false,
    "ExecuteTime": {
     "end_time": "2024-03-29T20:52:45.888251400Z",
     "start_time": "2024-03-29T20:52:45.871993800Z"
    }
   },
   "id": "e4b4f07c4ef43fb9",
   "execution_count": 9
  },
  {
   "cell_type": "code",
   "outputs": [],
   "source": [
    "# quarterly figures\n",
    "# g.add((FINANCE.hasQuarterlyFigures, RDF.type, OWL.ObjectProperty))\n",
    "# g.add((FINANCE.hasQuarterlyFigures, RDFS.domain, FINANCE.FinancialData))\n",
    "# g.add((FINANCE.hasQuarterlyFigures, RDFS.range, FINANCE.QuarterlyFigures))\n",
    "\n"
   ],
   "metadata": {
    "collapsed": false,
    "ExecuteTime": {
     "end_time": "2024-03-29T20:52:45.904919200Z",
     "start_time": "2024-03-29T20:52:45.876970400Z"
    }
   },
   "id": "c2e69e95ff42be54",
   "execution_count": 10
  },
  {
   "cell_type": "markdown",
   "source": [
    "## quarterly figures"
   ],
   "metadata": {
    "collapsed": false
   },
   "id": "2e8dabab70e8c13a"
  },
  {
   "cell_type": "code",
   "outputs": [],
   "source": [
    "# # net income\n",
    "# g.add((FINANCE.hasNetIncome, RDF.type, OWL.DatatypeProperty))\n",
    "# g.add((FINANCE.hasNetIncome, RDFS.domain, FINANCE.QuarterlyFigures))\n",
    "# g.add((FINANCE.hasNetIncome, RDFS.range, XSD.float))\n",
    "# \n",
    "# # Net Income From Continuing Operations\n",
    "# g.add((FINANCE.hasNetIncomeFromContinuingOperations, RDF.type, OWL.DatatypeProperty))\n",
    "# g.add((FINANCE.hasNetIncomeFromContinuingOperations, RDFS.domain, FINANCE.QuarterlyFigures))\n",
    "# g.add((FINANCE.hasNetIncomeFromContinuingOperations, RDFS.range, XSD.float))\n",
    "# \n",
    "# # total revenue\n",
    "# g.add((FINANCE.hasTotalRevenue, RDF.type, OWL.DatatypeProperty))\n",
    "# g.add((FINANCE.hasTotalRevenue, RDFS.domain, FINANCE.QuarterlyFigures))\n",
    "# g.add((FINANCE.hasTotalRevenue, RDFS.range, XSD.float))\n",
    "# \n",
    "# # cost of revenue\n",
    "# g.add((FINANCE.hasCostOfRevenue, RDF.type, OWL.DatatypeProperty))\n",
    "# g.add((FINANCE.hasCostOfRevenue, RDFS.domain, FINANCE.QuarterlyFigures))\n",
    "# g.add((FINANCE.hasCostOfRevenue, RDFS.range, XSD.float))\n",
    "# \n",
    "# # gross profit\n",
    "# g.add((FINANCE.hasGrossProfit, RDF.type, OWL.DatatypeProperty))\n",
    "# g.add((FINANCE.hasGrossProfit, RDFS.domain, FINANCE.QuarterlyFigures))\n",
    "# g.add((FINANCE.hasGrossProfit, RDFS.range, XSD.float))\n",
    "# \n",
    "# # operating income\n",
    "# g.add((FINANCE.hasOperatingIncome, RDF.type, OWL.DatatypeProperty))\n",
    "# g.add((FINANCE.hasOperatingIncome, RDFS.domain, FINANCE.QuarterlyFigures))\n",
    "# g.add((FINANCE.hasOperatingIncome, RDFS.range, XSD.float))\n",
    "# \n",
    "# # Operating Expenses (including Research and Development, Selling General and Administration)\n",
    "# g.add((FINANCE.hasOperatingExpense, RDF.type, OWL.DatatypeProperty))\n",
    "# g.add((FINANCE.hasOperatingExpense, RDFS.domain, FINANCE.QuarterlyFigures))\n",
    "# g.add((FINANCE.hasOperatingExpense, RDFS.range, XSD.float))\n",
    "# \n",
    "# # pretax income\n",
    "# g.add((FINANCE.hasPretaxIncome, RDF.type, OWL.DatatypeProperty))\n",
    "# g.add((FINANCE.hasPretaxIncome, RDFS.domain, FINANCE.QuarterlyFigures))\n",
    "# g.add((FINANCE.hasPretaxIncome, RDFS.range, XSD.float))\n",
    "# \n",
    "# # net income available to common shareholders\n",
    "# g.add((FINANCE.hasNetIncomeAvailableToCommonStockholders, RDF.type, OWL.DatatypeProperty))\n",
    "# g.add((FINANCE.hasNetIncomeAvailableToCommonStockholders, RDFS.domain, FINANCE.QuarterlyFigures))\n",
    "# g.add((FINANCE.hasNetIncomeAvailableToCommonStockholders, RDFS.range, XSD.float))\n",
    "# \n",
    "# # Diluted EPS\n",
    "# g.add((FINANCE.hasDilutedEPS, RDF.type, OWL.DatatypeProperty))\n",
    "# g.add((FINANCE.hasDilutedEPS, RDFS.domain, FINANCE.QuarterlyFigures))\n",
    "# g.add((FINANCE.hasDilutedEPS, RDFS.range, XSD.float))\n",
    "# \n",
    "# # Basic EPS\n",
    "# g.add((FINANCE.hasBasicEPS, RDF.type, OWL.DatatypeProperty))\n",
    "# g.add((FINANCE.hasBasicEPS, RDFS.domain, FINANCE.QuarterlyFigures))\n",
    "# g.add((FINANCE.hasBasicEPS, RDFS.range, XSD.float))\n",
    "# \n",
    "# # diluted average shares\n",
    "# g.add((FINANCE.hasDilutedAverageShares, RDF.type, OWL.DatatypeProperty))\n",
    "# g.add((FINANCE.hasDilutedAverageShares, RDFS.domain, FINANCE.QuarterlyFigures))\n",
    "# g.add((FINANCE.hasDilutedAverageShares, RDFS.range, XSD.float))\n",
    "# \n",
    "# # basic average shares\n",
    "# g.add((FINANCE.hasBasicAverageShares, RDF.type, OWL.DatatypeProperty))\n",
    "# g.add((FINANCE.hasBasicAverageShares, RDFS.domain, FINANCE.QuarterlyFigures))\n",
    "# g.add((FINANCE.hasBasicAverageShares, RDFS.range, XSD.float))\n",
    "# \n",
    "# # date\n",
    "# g.add((FINANCE.hasDate, RDF.type, OWL.DatatypeProperty))\n",
    "# g.add((FINANCE.hasDate, RDFS.domain, FINANCE.QuarterlyFigures))\n",
    "# g.add((FINANCE.hasDate, RDFS.range, XSD.date))"
   ],
   "metadata": {
    "collapsed": false,
    "ExecuteTime": {
     "end_time": "2024-03-29T20:52:45.965216100Z",
     "start_time": "2024-03-29T20:52:45.881976900Z"
    }
   },
   "id": "1f9020d0dc9e495e",
   "execution_count": 11
  },
  {
   "cell_type": "markdown",
   "source": [
    "## industry"
   ],
   "metadata": {
    "collapsed": false
   },
   "id": "88ce59cb1b955d55"
  },
  {
   "cell_type": "code",
   "outputs": [
    {
     "data": {
      "text/plain": "<Graph identifier=N569ccb52709b4607834e33db72a24389 (<class 'rdflib.graph.Graph'>)>"
     },
     "execution_count": 12,
     "metadata": {},
     "output_type": "execute_result"
    }
   ],
   "source": [
    "# industry\n",
    "## name\n",
    "g.add((FINANCE.hasName, RDF.type, OWL.DatatypeProperty))\n",
    "g.add((FINANCE.hasName, RDFS.domain, FINANCE.Industry))\n",
    "g.add((FINANCE.hasName, RDFS.range, XSD.string))"
   ],
   "metadata": {
    "collapsed": false,
    "ExecuteTime": {
     "end_time": "2024-03-29T20:52:45.985259900Z",
     "start_time": "2024-03-29T20:52:45.887249400Z"
    }
   },
   "id": "bc6db0ec46ac712c",
   "execution_count": 12
  },
  {
   "cell_type": "markdown",
   "source": [
    "## sector"
   ],
   "metadata": {
    "collapsed": false
   },
   "id": "22a8009301a406f8"
  },
  {
   "cell_type": "code",
   "outputs": [
    {
     "data": {
      "text/plain": "<Graph identifier=N569ccb52709b4607834e33db72a24389 (<class 'rdflib.graph.Graph'>)>"
     },
     "execution_count": 13,
     "metadata": {},
     "output_type": "execute_result"
    }
   ],
   "source": [
    "# industry to sector\n",
    "g.add((FINANCE.belongsToSector, RDF.type, OWL.ObjectProperty))\n",
    "g.add((FINANCE.belongsToSector, RDFS.domain, FINANCE.Industry))\n",
    "g.add((FINANCE.belongsToSector, RDFS.range, FINANCE.Sector))"
   ],
   "metadata": {
    "collapsed": false,
    "ExecuteTime": {
     "end_time": "2024-03-29T20:52:45.985259900Z",
     "start_time": "2024-03-29T20:52:45.893751800Z"
    }
   },
   "id": "ce39d75ab5f5de86",
   "execution_count": 13
  },
  {
   "cell_type": "markdown",
   "source": [
    "## person"
   ],
   "metadata": {
    "collapsed": false
   },
   "id": "24513a05c55bdf50"
  },
  {
   "cell_type": "code",
   "outputs": [
    {
     "data": {
      "text/plain": "<Graph identifier=N569ccb52709b4607834e33db72a24389 (<class 'rdflib.graph.Graph'>)>"
     },
     "execution_count": 14,
     "metadata": {},
     "output_type": "execute_result"
    }
   ],
   "source": [
    "# person\n",
    "## name\n",
    "g.add((FINANCE.hasName, RDF.type, OWL.DatatypeProperty))\n",
    "g.add((FINANCE.hasName, RDFS.domain, FINANCE.Person))\n",
    "g.add((FINANCE.hasName, RDFS.range, XSD.string))\n",
    "\n",
    "## gender\n",
    "g.add((FINANCE.hasGender, RDF.type, OWL.DatatypeProperty))\n",
    "g.add((FINANCE.hasGender, RDFS.domain, FINANCE.Person))\n",
    "g.add((FINANCE.hasGender, RDFS.range, XSD.string))\n",
    "\n",
    "## job title\n",
    "g.add((FINANCE.hasJobTitle, RDF.type, OWL.DatatypeProperty))\n",
    "g.add((FINANCE.hasJobTitle, RDFS.domain, FINANCE.Person))\n",
    "g.add((FINANCE.hasJobTitle, RDFS.range, XSD.string))\n",
    "\n",
    "## age\n",
    "g.add((FINANCE.hasAge, RDF.type, OWL.DatatypeProperty))\n",
    "g.add((FINANCE.hasAge, RDFS.domain, FINANCE.Person))\n",
    "g.add((FINANCE.hasAge, RDFS.range, XSD.integer))\n",
    "\n",
    "## yearborn\n",
    "g.add((FINANCE.hasYearBorn, RDF.type, OWL.DatatypeProperty))\n",
    "g.add((FINANCE.hasYearBorn, RDFS.domain, FINANCE.Person))\n",
    "g.add((FINANCE.hasYearBorn, RDFS.range, XSD.integer))\n",
    "\n",
    "## totalPay\n",
    "g.add((FINANCE.hasTotalPay, RDF.type, OWL.DatatypeProperty))\n",
    "g.add((FINANCE.hasTotalPay, RDFS.domain, FINANCE.Person))\n",
    "g.add((FINANCE.hasTotalPay, RDFS.range, XSD.float))\n",
    "\n",
    "## exercisedValue\n",
    "g.add((FINANCE.hasExercisedValue, RDF.type, OWL.DatatypeProperty))\n",
    "g.add((FINANCE.hasExercisedValue, RDFS.domain, FINANCE.Person))\n",
    "g.add((FINANCE.hasExercisedValue, RDFS.range, XSD.float))\n",
    "\n",
    "## unexercisedValue\n",
    "g.add((FINANCE.hasUnexercisedValue, RDF.type, OWL.DatatypeProperty))\n",
    "g.add((FINANCE.hasUnexercisedValue, RDFS.domain, FINANCE.Person))\n",
    "g.add((FINANCE.hasUnexercisedValue, RDFS.range, XSD.float))"
   ],
   "metadata": {
    "collapsed": false,
    "ExecuteTime": {
     "end_time": "2024-03-29T20:52:45.987261600Z",
     "start_time": "2024-03-29T20:52:45.900878400Z"
    }
   },
   "id": "51deb75e96119455",
   "execution_count": 14
  },
  {
   "cell_type": "code",
   "outputs": [
    {
     "data": {
      "text/plain": "<Graph identifier=N569ccb52709b4607834e33db72a24389 (<class 'rdflib.graph.Graph'>)>"
     },
     "execution_count": 15,
     "metadata": {},
     "output_type": "execute_result"
    }
   ],
   "source": [
    "# address\n",
    "## street\n",
    "g.add((FINANCE.hasStreet, RDF.type, OWL.DatatypeProperty))\n",
    "g.add((FINANCE.hasStreet, RDFS.domain, FINANCE.Address))\n",
    "g.add((FINANCE.hasStreet, RDFS.range, XSD.string))\n",
    "\n",
    "## city\n",
    "g.add((FINANCE.hasCity, RDF.type, OWL.DatatypeProperty))\n",
    "g.add((FINANCE.hasCity, RDFS.domain, FINANCE.Address))\n",
    "g.add((FINANCE.hasCity, RDFS.range, XSD.string))\n",
    "\n",
    "## postal code\n",
    "g.add((FINANCE.hasPostalCode, RDF.type, OWL.DatatypeProperty))\n",
    "g.add((FINANCE.hasPostalCode, RDFS.domain, FINANCE.Address))\n",
    "g.add((FINANCE.hasPostalCode, RDFS.range, XSD.string))\n",
    "\n",
    "## country\n",
    "g.add((FINANCE.hasCountry, RDF.type, OWL.DatatypeProperty))\n",
    "g.add((FINANCE.hasCountry, RDFS.domain, FINANCE.Address))\n",
    "g.add((FINANCE.hasCountry, RDFS.range, XSD.string))\n",
    "\n",
    "## state\n",
    "g.add((FINANCE.hasState, RDF.type, OWL.DatatypeProperty))\n",
    "g.add((FINANCE.hasState, RDFS.domain, FINANCE.Address))\n",
    "g.add((FINANCE.hasState, RDFS.range, XSD.string))"
   ],
   "metadata": {
    "collapsed": false,
    "ExecuteTime": {
     "end_time": "2024-03-29T20:52:45.988262500Z",
     "start_time": "2024-03-29T20:52:45.909019600Z"
    }
   },
   "id": "f29b1add7b8f5c5d",
   "execution_count": 15
  },
  {
   "cell_type": "code",
   "outputs": [],
   "source": [
    "# contact information\n",
    "## phone\n",
    "# #TODO put to company\n",
    "# g.add((FINANCE.hasPhone, RDF.type, OWL.DatatypeProperty))\n",
    "# g.add((FINANCE.hasPhone, RDFS.domain, FINANCE.ContactInformation))\n",
    "# g.add((FINANCE.hasPhone, RDFS.range, XSD.string))\n",
    "\n",
    "\n"
   ],
   "metadata": {
    "collapsed": false,
    "ExecuteTime": {
     "end_time": "2024-03-29T20:52:45.989264100Z",
     "start_time": "2024-03-29T20:52:45.915203200Z"
    }
   },
   "id": "2eb96fe5ba8320",
   "execution_count": 16
  },
  {
   "cell_type": "code",
   "outputs": [
    {
     "data": {
      "text/plain": "<Graph identifier=N569ccb52709b4607834e33db72a24389 (<class 'rdflib.graph.Graph'>)>"
     },
     "execution_count": 17,
     "metadata": {},
     "output_type": "execute_result"
    }
   ],
   "source": [
    "# safe ontology\n",
    "g.serialize(destination='data/ontology.ttl', format='turtle')"
   ],
   "metadata": {
    "collapsed": false,
    "ExecuteTime": {
     "end_time": "2024-03-29T20:52:46.060031800Z",
     "start_time": "2024-03-29T20:52:45.920007800Z"
    }
   },
   "id": "76b2b5363aee4140",
   "execution_count": 17
  },
  {
   "cell_type": "markdown",
   "source": [
    "# insert data"
   ],
   "metadata": {
    "collapsed": false
   },
   "id": "219d0af641478d63"
  },
  {
   "cell_type": "code",
   "outputs": [],
   "source": [
    "import yfinance as yf\n",
    "import pandas as pd\n",
    "import regex as re"
   ],
   "metadata": {
    "collapsed": false,
    "ExecuteTime": {
     "end_time": "2024-03-29T20:52:46.142708300Z",
     "start_time": "2024-03-29T20:52:45.930648200Z"
    }
   },
   "id": "63b67bcd0aa954a1",
   "execution_count": 18
  },
  {
   "cell_type": "code",
   "outputs": [],
   "source": [
    "def prep_uri(namespace: Namespace, clazz: str):\n",
    "    \"\"\"\n",
    "    This function prepares a URI for a given class. It removes special chars like & and -.\n",
    "    After that it removes any amount of whitespaces and replaces them with a dash.\n",
    "    :param namespace: \n",
    "    :param clazz: \n",
    "    :return: \n",
    "    \"\"\"\n",
    "    return namespace[quote(re.sub(r'\\s+', '-', clazz.replace('&', '').replace('-', '').replace('.', '').lower()))]"
   ],
   "metadata": {
    "collapsed": false,
    "ExecuteTime": {
     "end_time": "2024-03-29T20:52:46.156600300Z",
     "start_time": "2024-03-29T20:52:46.143387100Z"
    }
   },
   "id": "b3d1575851f94022",
   "execution_count": 19
  },
  {
   "cell_type": "code",
   "outputs": [],
   "source": [
    "# insert etf data\n"
   ],
   "metadata": {
    "collapsed": false,
    "ExecuteTime": {
     "end_time": "2024-03-29T20:52:46.156600300Z",
     "start_time": "2024-03-29T20:52:46.145890Z"
    }
   },
   "id": "337d49c4f22f1a3f",
   "execution_count": 20
  },
  {
   "cell_type": "markdown",
   "source": [
    "## industry and sector data"
   ],
   "metadata": {
    "collapsed": false
   },
   "id": "848ee75ac262d3be"
  },
  {
   "cell_type": "code",
   "outputs": [
    {
     "data": {
      "text/plain": "                        Technology   Financial Services  \\\n0        Software - Infrastructure  Banks - Diversified   \n1                   Semiconductors      Credit Services   \n2             Consumer Electronics     Asset Management   \n3           Software - Application     Banks - Regional   \n4  Information Technology Services      Capital Markets   \n\n                     Healthcare        Consumer Cyclical  \\\n0  Drug Manufacturers - General          Internet Retail   \n1              Healthcare Plans       Auto Manufacturers   \n2               Medical Devices              Restaurants   \n3                 Biotechnology  Home Improvement Retail   \n4        Diagnostics & Research          Travel Services   \n\n                           Industrials          Communication Services  \\\n0       Specialty Industrial Machinery  Internet Content & Information   \n1                  Aerospace & Defense                Telecom Services   \n2                            Railroads                   Entertainment   \n3  Farm & Heavy Construction Machinery  Electronic Gaming & Multimedia   \n4        Building Products & Equipment            Advertising Agencies   \n\n              Consumer Defensive                          Energy  \\\n0                Discount Stores            Oil & Gas Integrated   \n1      Beverages - Non-Alcoholic                   Oil & Gas E&P   \n2  Household & Personal Products             Oil & Gas Midstream   \n3                 Packaged Foods  Oil & Gas Refining & Marketing   \n4                        Tobacco  Oil & Gas Equipment & Services   \n\n       Basic Materials           Real Estate                       Utilities  \n0  Specialty Chemicals      REIT - Specialty  Utilities - Regulated Electric  \n1                 Gold     REIT - Industrial           Utilities - Renewable  \n2   Building Materials         REIT - Retail         Utilities - Diversified  \n3               Copper    REIT - Residential       Utilities - Regulated Gas  \n4                Steel  Real Estate Services     Utilities - Regulated Water  ",
      "text/html": "<div>\n<style scoped>\n    .dataframe tbody tr th:only-of-type {\n        vertical-align: middle;\n    }\n\n    .dataframe tbody tr th {\n        vertical-align: top;\n    }\n\n    .dataframe thead th {\n        text-align: right;\n    }\n</style>\n<table border=\"1\" class=\"dataframe\">\n  <thead>\n    <tr style=\"text-align: right;\">\n      <th></th>\n      <th>Technology</th>\n      <th>Financial Services</th>\n      <th>Healthcare</th>\n      <th>Consumer Cyclical</th>\n      <th>Industrials</th>\n      <th>Communication Services</th>\n      <th>Consumer Defensive</th>\n      <th>Energy</th>\n      <th>Basic Materials</th>\n      <th>Real Estate</th>\n      <th>Utilities</th>\n    </tr>\n  </thead>\n  <tbody>\n    <tr>\n      <th>0</th>\n      <td>Software - Infrastructure</td>\n      <td>Banks - Diversified</td>\n      <td>Drug Manufacturers - General</td>\n      <td>Internet Retail</td>\n      <td>Specialty Industrial Machinery</td>\n      <td>Internet Content &amp; Information</td>\n      <td>Discount Stores</td>\n      <td>Oil &amp; Gas Integrated</td>\n      <td>Specialty Chemicals</td>\n      <td>REIT - Specialty</td>\n      <td>Utilities - Regulated Electric</td>\n    </tr>\n    <tr>\n      <th>1</th>\n      <td>Semiconductors</td>\n      <td>Credit Services</td>\n      <td>Healthcare Plans</td>\n      <td>Auto Manufacturers</td>\n      <td>Aerospace &amp; Defense</td>\n      <td>Telecom Services</td>\n      <td>Beverages - Non-Alcoholic</td>\n      <td>Oil &amp; Gas E&amp;P</td>\n      <td>Gold</td>\n      <td>REIT - Industrial</td>\n      <td>Utilities - Renewable</td>\n    </tr>\n    <tr>\n      <th>2</th>\n      <td>Consumer Electronics</td>\n      <td>Asset Management</td>\n      <td>Medical Devices</td>\n      <td>Restaurants</td>\n      <td>Railroads</td>\n      <td>Entertainment</td>\n      <td>Household &amp; Personal Products</td>\n      <td>Oil &amp; Gas Midstream</td>\n      <td>Building Materials</td>\n      <td>REIT - Retail</td>\n      <td>Utilities - Diversified</td>\n    </tr>\n    <tr>\n      <th>3</th>\n      <td>Software - Application</td>\n      <td>Banks - Regional</td>\n      <td>Biotechnology</td>\n      <td>Home Improvement Retail</td>\n      <td>Farm &amp; Heavy Construction Machinery</td>\n      <td>Electronic Gaming &amp; Multimedia</td>\n      <td>Packaged Foods</td>\n      <td>Oil &amp; Gas Refining &amp; Marketing</td>\n      <td>Copper</td>\n      <td>REIT - Residential</td>\n      <td>Utilities - Regulated Gas</td>\n    </tr>\n    <tr>\n      <th>4</th>\n      <td>Information Technology Services</td>\n      <td>Capital Markets</td>\n      <td>Diagnostics &amp; Research</td>\n      <td>Travel Services</td>\n      <td>Building Products &amp; Equipment</td>\n      <td>Advertising Agencies</td>\n      <td>Tobacco</td>\n      <td>Oil &amp; Gas Equipment &amp; Services</td>\n      <td>Steel</td>\n      <td>Real Estate Services</td>\n      <td>Utilities - Regulated Water</td>\n    </tr>\n  </tbody>\n</table>\n</div>"
     },
     "execution_count": 21,
     "metadata": {},
     "output_type": "execute_result"
    }
   ],
   "source": [
    "# read industry data\n",
    "sectors_industries_df = pd.read_excel('data/sectors-industries.xlsx')\n",
    "sectors_industries_df.head()"
   ],
   "metadata": {
    "collapsed": false,
    "ExecuteTime": {
     "end_time": "2024-03-29T20:52:46.376635800Z",
     "start_time": "2024-03-29T20:52:46.151597700Z"
    }
   },
   "id": "30e404136ffb039a",
   "execution_count": 21
  },
  {
   "cell_type": "code",
   "outputs": [],
   "source": [
    "# create industry and sector triples\n",
    "\n",
    "# create industry uri and add to dataframe\n",
    "industry_uri_df = pd.DataFrame(columns=['industry', 'uri'])\n",
    "\n",
    "for sector in sectors_industries_df.columns:\n",
    "\n",
    "    sector_uri = prep_uri(SECTOR, sector)\n",
    "\n",
    "    g.add((sector_uri, RDF.type, FINANCE.Sector))\n",
    "    g.add((sector_uri, RDFS.label, Literal(sector, datatype=XSD.string)))\n",
    "\n",
    "    for industry in sectors_industries_df[sector]:\n",
    "        if pd.isna(industry):\n",
    "            continue\n",
    "\n",
    "        industry_uri = prep_uri(Namespace(sector_uri + '/'), industry)\n",
    "        # add industry uri to dataframe\n",
    "        row = pd.Series({'industry': industry, 'uri': industry_uri})\n",
    "        industry_uri_df = pd.concat([industry_uri_df, pd.DataFrame([row], columns=row.index)]).reset_index(drop=True)\n",
    "\n",
    "        g.add((industry_uri, RDF.type, FINANCE.Industry))\n",
    "        g.add((industry_uri, RDFS.label, Literal(industry, datatype=XSD.string)))\n",
    "        g.add((industry_uri, FINANCE.belongsToSector, sector_uri))"
   ],
   "metadata": {
    "collapsed": false,
    "ExecuteTime": {
     "end_time": "2024-03-29T20:52:46.466583Z",
     "start_time": "2024-03-29T20:52:46.375634800Z"
    }
   },
   "id": "6e34af72f48e0a0b",
   "execution_count": 22
  },
  {
   "cell_type": "code",
   "outputs": [
    {
     "data": {
      "text/plain": "                                    industry  \\\n0                  Software - Infrastructure   \n1                             Semiconductors   \n2                       Consumer Electronics   \n3                     Software - Application   \n4            Information Technology Services   \n..                                       ...   \n140                    Utilities - Renewable   \n141                  Utilities - Diversified   \n142                Utilities - Regulated Gas   \n143              Utilities - Regulated Water   \n144  Utilities - Independent Power Producers   \n\n                                                   uri  \n0    https://finance.yahoo.com/sectors/technology/s...  \n1    https://finance.yahoo.com/sectors/technology/s...  \n2    https://finance.yahoo.com/sectors/technology/c...  \n3    https://finance.yahoo.com/sectors/technology/s...  \n4    https://finance.yahoo.com/sectors/technology/i...  \n..                                                 ...  \n140  https://finance.yahoo.com/sectors/utilities/ut...  \n141  https://finance.yahoo.com/sectors/utilities/ut...  \n142  https://finance.yahoo.com/sectors/utilities/ut...  \n143  https://finance.yahoo.com/sectors/utilities/ut...  \n144  https://finance.yahoo.com/sectors/utilities/ut...  \n\n[145 rows x 2 columns]",
      "text/html": "<div>\n<style scoped>\n    .dataframe tbody tr th:only-of-type {\n        vertical-align: middle;\n    }\n\n    .dataframe tbody tr th {\n        vertical-align: top;\n    }\n\n    .dataframe thead th {\n        text-align: right;\n    }\n</style>\n<table border=\"1\" class=\"dataframe\">\n  <thead>\n    <tr style=\"text-align: right;\">\n      <th></th>\n      <th>industry</th>\n      <th>uri</th>\n    </tr>\n  </thead>\n  <tbody>\n    <tr>\n      <th>0</th>\n      <td>Software - Infrastructure</td>\n      <td>https://finance.yahoo.com/sectors/technology/s...</td>\n    </tr>\n    <tr>\n      <th>1</th>\n      <td>Semiconductors</td>\n      <td>https://finance.yahoo.com/sectors/technology/s...</td>\n    </tr>\n    <tr>\n      <th>2</th>\n      <td>Consumer Electronics</td>\n      <td>https://finance.yahoo.com/sectors/technology/c...</td>\n    </tr>\n    <tr>\n      <th>3</th>\n      <td>Software - Application</td>\n      <td>https://finance.yahoo.com/sectors/technology/s...</td>\n    </tr>\n    <tr>\n      <th>4</th>\n      <td>Information Technology Services</td>\n      <td>https://finance.yahoo.com/sectors/technology/i...</td>\n    </tr>\n    <tr>\n      <th>...</th>\n      <td>...</td>\n      <td>...</td>\n    </tr>\n    <tr>\n      <th>140</th>\n      <td>Utilities - Renewable</td>\n      <td>https://finance.yahoo.com/sectors/utilities/ut...</td>\n    </tr>\n    <tr>\n      <th>141</th>\n      <td>Utilities - Diversified</td>\n      <td>https://finance.yahoo.com/sectors/utilities/ut...</td>\n    </tr>\n    <tr>\n      <th>142</th>\n      <td>Utilities - Regulated Gas</td>\n      <td>https://finance.yahoo.com/sectors/utilities/ut...</td>\n    </tr>\n    <tr>\n      <th>143</th>\n      <td>Utilities - Regulated Water</td>\n      <td>https://finance.yahoo.com/sectors/utilities/ut...</td>\n    </tr>\n    <tr>\n      <th>144</th>\n      <td>Utilities - Independent Power Producers</td>\n      <td>https://finance.yahoo.com/sectors/utilities/ut...</td>\n    </tr>\n  </tbody>\n</table>\n<p>145 rows × 2 columns</p>\n</div>"
     },
     "execution_count": 23,
     "metadata": {},
     "output_type": "execute_result"
    }
   ],
   "source": [
    "industry_uri_df"
   ],
   "metadata": {
    "collapsed": false,
    "ExecuteTime": {
     "end_time": "2024-03-29T20:52:46.467584400Z",
     "start_time": "2024-03-29T20:52:46.447173600Z"
    }
   },
   "id": "dda69d3770f1f1d5",
   "execution_count": 23
  },
  {
   "cell_type": "markdown",
   "source": [
    "## company data"
   ],
   "metadata": {
    "collapsed": false
   },
   "id": "84e4938836ab3055"
  },
  {
   "cell_type": "code",
   "outputs": [],
   "source": [
    "def is_valid_ticker(ticker: yf):\n",
    "    \"\"\"\n",
    "    This function checks if a given ticker symbol is valid.\n",
    "    :param ticker: \n",
    "    :return: boolean\n",
    "    \"\"\"\n",
    "    try:\n",
    "        if str(ticker.get_info()) == \"{'trailingPegRatio': None}\":\n",
    "            return False\n",
    "        return True\n",
    "    except Exception as e:\n",
    "        #print(e)\n",
    "        return False"
   ],
   "metadata": {
    "collapsed": false,
    "ExecuteTime": {
     "end_time": "2024-03-29T20:52:46.467584400Z",
     "start_time": "2024-03-29T20:52:46.452224300Z"
    }
   },
   "id": "5233ed1c14f31c38",
   "execution_count": 24
  },
  {
   "cell_type": "code",
   "outputs": [],
   "source": [
    "def grep_ticker_data(tickers: pd.Series, etf_uri: str):\n",
    "    \"\"\"\n",
    "    This function accumulates relevant stock data from yahoo finance with the corresponding ticker symbol.\n",
    "    :param tickers: column of ticker symbols\n",
    "    :return: TODO\n",
    "    \"\"\"\n",
    "    i = 0  # TODO remove\n",
    "    invalid_tickers = []\n",
    "\n",
    "    # get possible info data\n",
    "    tickers_metadata_df = pd.DataFrame()  #columns=yf.Ticker('').get_fast_info())\n",
    "    for ticker_value in tickers:\n",
    "        ticker = yf.Ticker(str(ticker_value))\n",
    "\n",
    "        if not is_valid_ticker(ticker):\n",
    "            # handling ticker like 'BRK/B', 'BF/B', 'HEI/A', 'UHAL/B'\n",
    "            if '/' in ticker_value:\n",
    "                ticker = yf.Ticker(str(ticker_value.replace('/', '-')))\n",
    "                if not is_valid_ticker(ticker):\n",
    "                    invalid_tickers.append(ticker_value)\n",
    "                    continue\n",
    "            else:\n",
    "                invalid_tickers.append(ticker_value)\n",
    "                continue\n",
    "        # deprecated\n",
    "        # tickers_metadata_df.append(ticker.get_info(), ignore_index=True)\n",
    "\n",
    "        #tickers_metadata_df = pd.concat([tickers_metadata_df, pd.DataFrame(ticker.get_info())])\n",
    "\n",
    "        handle_info_data(ticker, etf_uri)\n",
    "\n",
    "        # TODO remove\n",
    "        # i = i + 1\n",
    "        # if i == 2:\n",
    "        #     break\n",
    "\n",
    "    print(f\"a total of {len(invalid_tickers)} invalid tickers. \\n\"\n",
    "          f\"{invalid_tickers}\")\n",
    "\n",
    "    return tickers_metadata_df"
   ],
   "metadata": {
    "collapsed": false,
    "ExecuteTime": {
     "end_time": "2024-03-29T20:52:46.468585300Z",
     "start_time": "2024-03-29T20:52:46.456546800Z"
    }
   },
   "id": "642388289c921ca3",
   "execution_count": 25
  },
  {
   "cell_type": "code",
   "outputs": [],
   "source": [
    "def handle_info_data(ticker: yf.Ticker, etf_uri: str):\n",
    "    \"\"\"\n",
    "    This function handles the info data of a given ticker.\n",
    "    :param ticker: \n",
    "    :return: \n",
    "    \"\"\"\n",
    "    info = ticker.get_info()\n",
    "    # if shortname is not available, skip and print shortname\n",
    "    if 'shortName' not in info:\n",
    "        print(f\"shortName not available for {ticker}\")\n",
    "        return\n",
    "    company_uri = URIRef(COMPANY + quote(info['symbol']))\n",
    "    g.add((etf_uri, FINANCE.hasCompany, company_uri))\n",
    "    g.add((company_uri, RDF.type, FINANCE.Company))\n",
    "    \n",
    "    g.add((company_uri, FINANCE.hasName, Literal(info['shortName'], datatype=XSD.string)))\n",
    "    g.add((company_uri, FINANCE.hasTicker, Literal(info['symbol'], datatype=XSD.string),))\n",
    "    if 'website' in info:\n",
    "        g.add((company_uri, FINANCE.hasWebsite, Literal(info['website'], datatype=XSD.string)))\n",
    "    if 'industry' in info:\n",
    "        if info['industry'] in industry_uri_df['industry'].values:\n",
    "            g.add((company_uri, FINANCE.hasIndustry, industry_uri_df[industry_uri_df['industry'] == info['industry']]['uri'].values[0]))\n",
    "    if 'fullTimeEmployees' in info:\n",
    "        g.add((company_uri, FINANCE.hasFullTimeEmployees, Literal(info['fullTimeEmployees'], datatype=XSD.integer)))\n",
    "    if 'currency' in info:\n",
    "        g.add((company_uri, FINANCE.hasCurrency, Literal(info['currency'], datatype=XSD.string)))\n",
    "    # add financial data to company\n",
    "    \n",
    "\n",
    "    # add earnings\n",
    "    base_earnings_uri = company_uri + '/earnings/'\n",
    "    try:\n",
    "        earnings_df = ticker.earnings_dates\n",
    "        if earnings_df is not None:\n",
    "            for time in earnings_df.index:\n",
    "                date = time.date()\n",
    "                earnings_uri = base_earnings_uri + quote(str(date))\n",
    "                g.add((company_uri, FINANCE.hasEarningsDate, earnings_uri))\n",
    "                g.add((earnings_uri, RDF.type, FINANCE.EarningDate,))\n",
    "                for key in earnings_df.loc[time].keys():\n",
    "                    if key == 'EPS Estimate':\n",
    "                        g.add((earnings_uri, FINANCE.hasEstimatedEPS, Literal(earnings_df.loc[time][key], datatype=XSD.float)))\n",
    "                    if key == 'Reported EPS':\n",
    "                        g.add((earnings_uri, FINANCE.hasReportedEPS, Literal(earnings_df.loc[time][key], datatype=XSD.float)))\n",
    "                    if key == 'Surprise(%)':\n",
    "                        g.add((earnings_uri, FINANCE.hasSurprise, Literal(earnings_df.loc[time][key], datatype=XSD.float)))\n",
    "    except KeyError as e:\n",
    "        print(f\"skipping earnings_dates for {company_uri}\")\n",
    "        \n",
    "        \n",
    "    ## done adding earnings\n",
    "\n",
    "    # add recommendation\n",
    "    base_recommendation_uri = company_uri + '/recommendation/'\n",
    "    recommendation_df = ticker.get_recommendations()\n",
    "    for idx in recommendation_df.index:\n",
    "        keys = recommendation_df.loc[idx].keys()\n",
    "        if 'period' in keys:\n",
    "            recommendation_uri = base_recommendation_uri + quote(str(idx))\n",
    "            g.add((company_uri, FINANCE.hasRecommendation, recommendation_uri))\n",
    "            g.add((recommendation_uri, RDF.type, FINANCE.Recommendation))\n",
    "            if 'Strong Buy' in keys:\n",
    "                g.add((recommendation_uri, FINANCE.hasStrongBuyCount, Literal(recommendation_df.loc[idx]['Strong Buy'], datatype=XSD.integer)))\n",
    "            if 'Buy' in keys:\n",
    "                g.add((recommendation_uri, FINANCE.hasBuyCount, Literal(recommendation_df.loc[idx]['Buy'], datatype=XSD.integer)))\n",
    "            if 'Hold' in keys:\n",
    "                g.add((recommendation_uri, FINANCE.hasHoldCount, Literal(recommendation_df.loc[idx]['Hold'], datatype=XSD.integer)))\n",
    "            if 'Sell' in keys:\n",
    "                g.add((recommendation_uri, FINANCE.hasSellCount, Literal(recommendation_df.loc[idx]['Sell'], datatype=XSD.integer)))\n",
    "            if 'Strong Sell' in keys:\n",
    "                g.add((recommendation_uri, FINANCE.hasStrongSellCount, Literal(recommendation_df.loc[idx]['Strong Sell'], datatype=XSD.integer)))\n",
    "    ## done adding recommendation\n",
    "\n",
    "    for key in info.keys():\n",
    "        # company officers\n",
    "        if key == 'companyOfficers':\n",
    "            for employee in info['companyOfficers']:\n",
    "                name = re.sub(r'Mr. |Mrs. |Ms. ', '', employee['name'])\n",
    "\n",
    "                person_uri = prep_uri(PERSON, name.lower().replace(' ', '-'))\n",
    "                g.add((person_uri, RDF.type, FINANCE.Person))\n",
    "\n",
    "                # remove Mr. and Mrs. from name\n",
    "                g.add((person_uri, FINANCE.hasName, Literal(name, datatype=XSD.string)))\n",
    "                # filter gender\n",
    "                if 'Mr.' in employee['name']:\n",
    "                    g.add((person_uri, FINANCE.hasGender, Literal('m', datatype=XSD.string)))\n",
    "                if 'Mrs.' in employee['name'] or 'Ms.' in employee['name']:\n",
    "                    g.add((person_uri, FINANCE.hasGender, Literal('w', datatype=XSD.string)))\n",
    "                if 'title' in employee:\n",
    "                    g.add((person_uri, FINANCE.hasJobTitle, Literal(employee['title'], datatype=XSD.string)))\n",
    "                if 'totalPay' in employee:\n",
    "                    g.add((person_uri, FINANCE.hasTotalPay, Literal(employee['totalPay'], datatype=XSD.float)))\n",
    "                if 'exercisedValue' in employee:\n",
    "                    g.add((person_uri, FINANCE.hasExercisedValue,\n",
    "                           Literal(employee['exercisedValue'], datatype=XSD.float)))\n",
    "                if 'unexercisedValue' in employee:\n",
    "                    g.add((person_uri, FINANCE.hasUnexercisedValue,\n",
    "                           Literal(employee['unexercisedValue'], datatype=XSD.float)))\n",
    "                if 'yearBorn' in employee:\n",
    "                    g.add((person_uri, FINANCE.hasYearBorn, Literal(employee['yearBorn'], datatype=XSD.integer)))\n",
    "                if 'age' in employee:\n",
    "                    g.add((person_uri, FINANCE.hasAge, Literal(employee['age'], datatype=XSD.integer)))\n",
    "                # add employee to company\n",
    "                g.add((company_uri, FINANCE.hasKeyExecutive, person_uri))\n",
    "        ## done adding company officers\n",
    "        # address\n",
    "        address_uri = company_uri + '/address/'\n",
    "        g.add((company_uri, FINANCE.hasAddress, address_uri))\n",
    "        g.add((address_uri, RDF.type, FINANCE.Address))\n",
    "        if 'address1' in info:\n",
    "            g.add((address_uri, FINANCE.hasStreet, Literal(info['address1'], datatype=XSD.string)))\n",
    "        if 'city' in info:\n",
    "            g.add((address_uri, FINANCE.hasCity, Literal(info['city'], datatype=XSD.string)))\n",
    "        if 'zip' in info:\n",
    "            g.add((address_uri, FINANCE.hasPostalCode, Literal(info['zip'], datatype=XSD.string)))\n",
    "        if 'country' in info:\n",
    "            g.add((address_uri, FINANCE.hasCountry, Literal(info['country'], datatype=XSD.string)))\n",
    "        if 'state' in info:\n",
    "            g.add((address_uri, FINANCE.hasState, Literal(info['state'], datatype=XSD.string)))\n",
    "        # done adding address\n",
    "pass"
   ],
   "metadata": {
    "collapsed": false,
    "ExecuteTime": {
     "end_time": "2024-03-29T20:52:46.478917200Z",
     "start_time": "2024-03-29T20:52:46.461578200Z"
    }
   },
   "id": "7e0850934199c148",
   "execution_count": 26
  },
  {
   "cell_type": "code",
   "outputs": [],
   "source": [
    "# # add quarterly figures\n",
    "# quarterly_figures_df = ticker.quarterly_income_stmt\n",
    "# if quarterly_figures_df is not None:\n",
    "#     for time in quarterly_figures_df.columns:\n",
    "#         date = time.date()\n",
    "#         quarterly_figures_uri = financial_data_uri + quote(str(date))\n",
    "# \n",
    "#         g.add((financial_data_uri, FINANCE.hasQuarterlyFigures, quarterly_figures_uri))\n",
    "# \n",
    "#         g.add((quarterly_figures_uri, RDF.type, FINANCE.QuarterlyFigures))\n",
    "#         g.add((quarterly_figures_uri, FINANCE.hasDate, Literal(date, datatype=XSD.date)))\n",
    "# \n",
    "#         for key in quarterly_figures_df[time].keys():\n",
    "#             if key == 'Net Income':\n",
    "#                 g.add((quarterly_figures_uri, FINANCE.hasNetIncome, Literal(quarterly_figures_df[time][key], datatype=XSD.float)))\n",
    "#             if key == 'Net Income From Continuing Operations':\n",
    "#                 g.add((quarterly_figures_uri, FINANCE.hasNetIncomeFromContinuingOperations, Literal(quarterly_figures_df[time][key], datatype=XSD.float)))\n",
    "#             if key == 'Total Revenue':\n",
    "#                 g.add((quarterly_figures_uri, FINANCE.hasTotalRevenue, Literal(quarterly_figures_df[time][key], datatype=XSD.float)))\n",
    "#             if key == 'Cost Of Revenue':\n",
    "#                 g.add((quarterly_figures_uri, FINANCE.hasCostOfRevenue, Literal(quarterly_figures_df[time][key], datatype=XSD.float)))\n",
    "#             if key == 'Gross Profit':\n",
    "#                 g.add((quarterly_figures_uri, FINANCE.hasGrossProfit, Literal(quarterly_figures_df[time][key], datatype=XSD.float)))\n",
    "#             if key == 'Operating Income':\n",
    "#                 g.add((quarterly_figures_uri, FINANCE.hasOperatingIncome, Literal(quarterly_figures_df[time][key], datatype=XSD.float)))\n",
    "#             if key == 'Operating Expense':\n",
    "#                 g.add((quarterly_figures_uri, FINANCE.hasOperatingExpense, Literal(quarterly_figures_df[time][key], datatype=XSD.float)))\n",
    "#             if key == 'Pretax Income':\n",
    "#                 g.add((quarterly_figures_uri, FINANCE.hasPretaxIncome, Literal(quarterly_figures_df[time][key], datatype=XSD.float)))\n",
    "#             if key == 'Tax Provision':\n",
    "#                 g.add((quarterly_figures_uri, FINANCE.hasTaxProvision, Literal(quarterly_figures_df[time][key], datatype=XSD.float)))\n",
    "#             if key == 'Net Income Common Stockholders':\n",
    "#                 g.add((quarterly_figures_uri, FINANCE.hasNetIncomeAvailableToCommonStockholders, Literal(quarterly_figures_df[time][key], datatype=XSD.float)))\n",
    "#             if key == 'Diluted EPS':\n",
    "#                 g.add((quarterly_figures_uri, FINANCE.hasDilutedEPS, Literal(quarterly_figures_df[time][key], datatype=XSD.float)))\n",
    "#             if key == 'Basic EPS':\n",
    "#                 g.add((quarterly_figures_uri, FINANCE.hasBasicEPS, Literal(quarterly_figures_df[time][key], datatype=XSD.float)))\n",
    "#             if key == 'Diluted Average Shares':\n",
    "#                 g.add((quarterly_figures_uri, FINANCE.hasDilutedAverageShares, Literal(quarterly_figures_df[time][key], datatype=XSD.float)))\n",
    "#             if key == 'Basic Average Shares':\n",
    "#                 g.add((quarterly_figures_uri, FINANCE.hasBasicAverageShares, Literal(quarterly_figures_df[time][key], datatype=XSD.float)))\n",
    "# ## done adding quarterly figures\n"
   ],
   "metadata": {
    "collapsed": false,
    "ExecuteTime": {
     "end_time": "2024-03-29T20:52:46.498498800Z",
     "start_time": "2024-03-29T20:52:46.476030400Z"
    }
   },
   "id": "9baba2d59e2c3631",
   "execution_count": 27
  },
  {
   "cell_type": "code",
   "outputs": [],
   "source": [
    "# read companies in the msci world\n",
    "msci_world_companies_df = pd.read_excel('data/msci-world-updated.xlsx')\n",
    "sp_500_companies_df = pd.read_excel('data/sp-500-updated.xlsx')"
   ],
   "metadata": {
    "collapsed": false,
    "ExecuteTime": {
     "end_time": "2024-03-29T20:52:46.803182600Z",
     "start_time": "2024-03-29T20:52:46.480423200Z"
    }
   },
   "id": "5d5f5f6dbb9b932",
   "execution_count": 28
  },
  {
   "cell_type": "code",
   "outputs": [],
   "source": [
    "def add_etf(ticker: str):\n",
    "    \"\"\"\n",
    "    This function adds an ETF to the knowledge graph.\n",
    "    :param ticker: \n",
    "    :return: \n",
    "    \"\"\"\n",
    "    etf = yf.Ticker(ticker)\n",
    "    info = etf.get_info()\n",
    "    etf_uri = prep_uri(ETF, info['longName'])\n",
    "    g.add((etf_uri, RDF.type, FINANCE.ETF))\n",
    "    g.add((etf_uri, FINANCE.hasName, Literal(info['longName'], datatype=XSD.string))\n",
    "    )\n",
    "    g.add((etf_uri, FINANCE.hasTicker, Literal(info['symbol'], datatype=XSD.string))\n",
    "    )\n",
    "    if 'currency' in info:\n",
    "        g.add((etf_uri, FINANCE.hasCurrency, Literal(info['currency'], datatype=XSD.string))\n",
    "        )\n",
    "    return etf_uri"
   ],
   "metadata": {
    "collapsed": false,
    "ExecuteTime": {
     "end_time": "2024-03-29T20:52:46.818752500Z",
     "start_time": "2024-03-29T20:52:46.803182600Z"
    }
   },
   "id": "6b4deb68b362a43a",
   "execution_count": 29
  },
  {
   "cell_type": "code",
   "outputs": [
    {
     "name": "stdout",
     "output_type": "stream",
     "text": [
      "skipping earnings_dates for https://finance.yahoo.com/quote/MSFT\n",
      "skipping earnings_dates for https://finance.yahoo.com/quote/AAPL\n",
      "skipping earnings_dates for https://finance.yahoo.com/quote/NVDA\n",
      "skipping earnings_dates for https://finance.yahoo.com/quote/AMZN\n"
     ]
    },
    {
     "ename": "KeyboardInterrupt",
     "evalue": "",
     "output_type": "error",
     "traceback": [
      "\u001B[1;31m---------------------------------------------------------------------------\u001B[0m",
      "\u001B[1;31mKeyboardInterrupt\u001B[0m                         Traceback (most recent call last)",
      "Cell \u001B[1;32mIn[30], line 3\u001B[0m\n\u001B[0;32m      1\u001B[0m \u001B[38;5;66;03m# https://www.ishares.com/us/products/239696/\u001B[39;00m\n\u001B[0;32m      2\u001B[0m msci_world_uri \u001B[38;5;241m=\u001B[39m add_etf(\u001B[38;5;124m'\u001B[39m\u001B[38;5;124mURTH\u001B[39m\u001B[38;5;124m'\u001B[39m)\n\u001B[1;32m----> 3\u001B[0m \u001B[43mgrep_ticker_data\u001B[49m\u001B[43m(\u001B[49m\u001B[43mmsci_world_companies_df\u001B[49m\u001B[43m[\u001B[49m\u001B[38;5;124;43m'\u001B[39;49m\u001B[38;5;124;43mTicker\u001B[39;49m\u001B[38;5;124;43m'\u001B[39;49m\u001B[43m]\u001B[49m\u001B[43m,\u001B[49m\u001B[43m \u001B[49m\u001B[43mmsci_world_uri\u001B[49m\u001B[43m)\u001B[49m\n",
      "Cell \u001B[1;32mIn[25], line 30\u001B[0m, in \u001B[0;36mgrep_ticker_data\u001B[1;34m(tickers, etf_uri)\u001B[0m\n\u001B[0;32m     24\u001B[0m             \u001B[38;5;28;01mcontinue\u001B[39;00m\n\u001B[0;32m     25\u001B[0m     \u001B[38;5;66;03m# deprecated\u001B[39;00m\n\u001B[0;32m     26\u001B[0m     \u001B[38;5;66;03m# tickers_metadata_df.append(ticker.get_info(), ignore_index=True)\u001B[39;00m\n\u001B[0;32m     27\u001B[0m \n\u001B[0;32m     28\u001B[0m     \u001B[38;5;66;03m#tickers_metadata_df = pd.concat([tickers_metadata_df, pd.DataFrame(ticker.get_info())])\u001B[39;00m\n\u001B[1;32m---> 30\u001B[0m     \u001B[43mhandle_info_data\u001B[49m\u001B[43m(\u001B[49m\u001B[43mticker\u001B[49m\u001B[43m,\u001B[49m\u001B[43m \u001B[49m\u001B[43metf_uri\u001B[49m\u001B[43m)\u001B[49m\n\u001B[0;32m     32\u001B[0m     \u001B[38;5;66;03m# TODO remove\u001B[39;00m\n\u001B[0;32m     33\u001B[0m     \u001B[38;5;66;03m# i = i + 1\u001B[39;00m\n\u001B[0;32m     34\u001B[0m     \u001B[38;5;66;03m# if i == 2:\u001B[39;00m\n\u001B[0;32m     35\u001B[0m     \u001B[38;5;66;03m#     break\u001B[39;00m\n\u001B[0;32m     37\u001B[0m \u001B[38;5;28mprint\u001B[39m(\u001B[38;5;124mf\u001B[39m\u001B[38;5;124m\"\u001B[39m\u001B[38;5;124ma total of \u001B[39m\u001B[38;5;132;01m{\u001B[39;00m\u001B[38;5;28mlen\u001B[39m(invalid_tickers)\u001B[38;5;132;01m}\u001B[39;00m\u001B[38;5;124m invalid tickers. \u001B[39m\u001B[38;5;130;01m\\n\u001B[39;00m\u001B[38;5;124m\"\u001B[39m\n\u001B[0;32m     38\u001B[0m       \u001B[38;5;124mf\u001B[39m\u001B[38;5;124m\"\u001B[39m\u001B[38;5;132;01m{\u001B[39;00minvalid_tickers\u001B[38;5;132;01m}\u001B[39;00m\u001B[38;5;124m\"\u001B[39m)\n",
      "Cell \u001B[1;32mIn[26], line 33\u001B[0m, in \u001B[0;36mhandle_info_data\u001B[1;34m(ticker, etf_uri)\u001B[0m\n\u001B[0;32m     31\u001B[0m base_earnings_uri \u001B[38;5;241m=\u001B[39m company_uri \u001B[38;5;241m+\u001B[39m \u001B[38;5;124m'\u001B[39m\u001B[38;5;124m/earnings/\u001B[39m\u001B[38;5;124m'\u001B[39m\n\u001B[0;32m     32\u001B[0m \u001B[38;5;28;01mtry\u001B[39;00m:\n\u001B[1;32m---> 33\u001B[0m     earnings_df \u001B[38;5;241m=\u001B[39m \u001B[43mticker\u001B[49m\u001B[38;5;241;43m.\u001B[39;49m\u001B[43mearnings_dates\u001B[49m\n\u001B[0;32m     34\u001B[0m     \u001B[38;5;28;01mif\u001B[39;00m earnings_df \u001B[38;5;129;01mis\u001B[39;00m \u001B[38;5;129;01mnot\u001B[39;00m \u001B[38;5;28;01mNone\u001B[39;00m:\n\u001B[0;32m     35\u001B[0m         \u001B[38;5;28;01mfor\u001B[39;00m time \u001B[38;5;129;01min\u001B[39;00m earnings_df\u001B[38;5;241m.\u001B[39mindex:\n",
      "File \u001B[1;32m~\\AppData\\Local\\Programs\\Python\\Python312\\Lib\\site-packages\\yfinance\\ticker.py:276\u001B[0m, in \u001B[0;36mTicker.earnings_dates\u001B[1;34m(self)\u001B[0m\n\u001B[0;32m    274\u001B[0m \u001B[38;5;129m@property\u001B[39m\n\u001B[0;32m    275\u001B[0m \u001B[38;5;28;01mdef\u001B[39;00m \u001B[38;5;21mearnings_dates\u001B[39m(\u001B[38;5;28mself\u001B[39m) \u001B[38;5;241m-\u001B[39m\u001B[38;5;241m>\u001B[39m _pd\u001B[38;5;241m.\u001B[39mDataFrame:\n\u001B[1;32m--> 276\u001B[0m     \u001B[38;5;28;01mreturn\u001B[39;00m \u001B[38;5;28;43mself\u001B[39;49m\u001B[38;5;241;43m.\u001B[39;49m\u001B[43mget_earnings_dates\u001B[49m\u001B[43m(\u001B[49m\u001B[43m)\u001B[49m\n",
      "File \u001B[1;32m~\\AppData\\Local\\Programs\\Python\\Python312\\Lib\\site-packages\\yfinance\\utils.py:103\u001B[0m, in \u001B[0;36mlog_indent_decorator.<locals>.wrapper\u001B[1;34m(*args, **kwargs)\u001B[0m\n\u001B[0;32m    100\u001B[0m logger\u001B[38;5;241m.\u001B[39mdebug(\u001B[38;5;124mf\u001B[39m\u001B[38;5;124m'\u001B[39m\u001B[38;5;124mEntering \u001B[39m\u001B[38;5;132;01m{\u001B[39;00mfunc\u001B[38;5;241m.\u001B[39m\u001B[38;5;18m__name__\u001B[39m\u001B[38;5;132;01m}\u001B[39;00m\u001B[38;5;124m()\u001B[39m\u001B[38;5;124m'\u001B[39m)\n\u001B[0;32m    102\u001B[0m \u001B[38;5;28;01mwith\u001B[39;00m IndentationContext():\n\u001B[1;32m--> 103\u001B[0m     result \u001B[38;5;241m=\u001B[39m \u001B[43mfunc\u001B[49m\u001B[43m(\u001B[49m\u001B[38;5;241;43m*\u001B[39;49m\u001B[43margs\u001B[49m\u001B[43m,\u001B[49m\u001B[43m \u001B[49m\u001B[38;5;241;43m*\u001B[39;49m\u001B[38;5;241;43m*\u001B[39;49m\u001B[43mkwargs\u001B[49m\u001B[43m)\u001B[49m\n\u001B[0;32m    105\u001B[0m logger\u001B[38;5;241m.\u001B[39mdebug(\u001B[38;5;124mf\u001B[39m\u001B[38;5;124m'\u001B[39m\u001B[38;5;124mExiting \u001B[39m\u001B[38;5;132;01m{\u001B[39;00mfunc\u001B[38;5;241m.\u001B[39m\u001B[38;5;18m__name__\u001B[39m\u001B[38;5;132;01m}\u001B[39;00m\u001B[38;5;124m()\u001B[39m\u001B[38;5;124m'\u001B[39m)\n\u001B[0;32m    106\u001B[0m \u001B[38;5;28;01mreturn\u001B[39;00m result\n",
      "File \u001B[1;32m~\\AppData\\Local\\Programs\\Python\\Python312\\Lib\\site-packages\\yfinance\\base.py:539\u001B[0m, in \u001B[0;36mTickerBase.get_earnings_dates\u001B[1;34m(self, limit, proxy)\u001B[0m\n\u001B[0;32m    537\u001B[0m \u001B[38;5;28;01mwhile\u001B[39;00m \u001B[38;5;28;01mTrue\u001B[39;00m:\n\u001B[0;32m    538\u001B[0m     url \u001B[38;5;241m=\u001B[39m \u001B[38;5;124mf\u001B[39m\u001B[38;5;124m\"\u001B[39m\u001B[38;5;132;01m{\u001B[39;00m_ROOT_URL_\u001B[38;5;132;01m}\u001B[39;00m\u001B[38;5;124m/calendar/earnings?symbol=\u001B[39m\u001B[38;5;132;01m{\u001B[39;00m\u001B[38;5;28mself\u001B[39m\u001B[38;5;241m.\u001B[39mticker\u001B[38;5;132;01m}\u001B[39;00m\u001B[38;5;124m&offset=\u001B[39m\u001B[38;5;132;01m{\u001B[39;00mpage_offset\u001B[38;5;132;01m}\u001B[39;00m\u001B[38;5;124m&size=\u001B[39m\u001B[38;5;132;01m{\u001B[39;00mpage_size\u001B[38;5;132;01m}\u001B[39;00m\u001B[38;5;124m\"\u001B[39m\n\u001B[1;32m--> 539\u001B[0m     data \u001B[38;5;241m=\u001B[39m \u001B[38;5;28;43mself\u001B[39;49m\u001B[38;5;241;43m.\u001B[39;49m\u001B[43m_data\u001B[49m\u001B[38;5;241;43m.\u001B[39;49m\u001B[43mcache_get\u001B[49m\u001B[43m(\u001B[49m\u001B[43murl\u001B[49m\u001B[38;5;241;43m=\u001B[39;49m\u001B[43murl\u001B[49m\u001B[43m,\u001B[49m\u001B[43m \u001B[49m\u001B[43mproxy\u001B[49m\u001B[38;5;241;43m=\u001B[39;49m\u001B[43mproxy\u001B[49m\u001B[43m)\u001B[49m\u001B[38;5;241m.\u001B[39mtext\n\u001B[0;32m    541\u001B[0m     \u001B[38;5;28;01mif\u001B[39;00m \u001B[38;5;124m\"\u001B[39m\u001B[38;5;124mWill be right back\u001B[39m\u001B[38;5;124m\"\u001B[39m \u001B[38;5;129;01min\u001B[39;00m data:\n\u001B[0;32m    542\u001B[0m         \u001B[38;5;28;01mraise\u001B[39;00m \u001B[38;5;167;01mRuntimeError\u001B[39;00m(\u001B[38;5;124m\"\u001B[39m\u001B[38;5;124m*** YAHOO! FINANCE IS CURRENTLY DOWN! ***\u001B[39m\u001B[38;5;130;01m\\n\u001B[39;00m\u001B[38;5;124m\"\u001B[39m\n\u001B[0;32m    543\u001B[0m                            \u001B[38;5;124m\"\u001B[39m\u001B[38;5;124mOur engineers are working quickly to resolve \u001B[39m\u001B[38;5;124m\"\u001B[39m\n\u001B[0;32m    544\u001B[0m                            \u001B[38;5;124m\"\u001B[39m\u001B[38;5;124mthe issue. Thank you for your patience.\u001B[39m\u001B[38;5;124m\"\u001B[39m)\n",
      "File \u001B[1;32m~\\AppData\\Local\\Programs\\Python\\Python312\\Lib\\site-packages\\yfinance\\data.py:28\u001B[0m, in \u001B[0;36mlru_cache_freezeargs.<locals>.wrapped\u001B[1;34m(*args, **kwargs)\u001B[0m\n\u001B[0;32m     26\u001B[0m args \u001B[38;5;241m=\u001B[39m \u001B[38;5;28mtuple\u001B[39m([\u001B[38;5;28mtuple\u001B[39m(arg) \u001B[38;5;28;01mif\u001B[39;00m \u001B[38;5;28misinstance\u001B[39m(arg, \u001B[38;5;28mlist\u001B[39m) \u001B[38;5;28;01melse\u001B[39;00m arg \u001B[38;5;28;01mfor\u001B[39;00m arg \u001B[38;5;129;01min\u001B[39;00m args])\n\u001B[0;32m     27\u001B[0m kwargs \u001B[38;5;241m=\u001B[39m {k: \u001B[38;5;28mtuple\u001B[39m(v) \u001B[38;5;28;01mif\u001B[39;00m \u001B[38;5;28misinstance\u001B[39m(v, \u001B[38;5;28mlist\u001B[39m) \u001B[38;5;28;01melse\u001B[39;00m v \u001B[38;5;28;01mfor\u001B[39;00m k, v \u001B[38;5;129;01min\u001B[39;00m kwargs\u001B[38;5;241m.\u001B[39mitems()}\n\u001B[1;32m---> 28\u001B[0m \u001B[38;5;28;01mreturn\u001B[39;00m \u001B[43mfunc\u001B[49m\u001B[43m(\u001B[49m\u001B[38;5;241;43m*\u001B[39;49m\u001B[43margs\u001B[49m\u001B[43m,\u001B[49m\u001B[43m \u001B[49m\u001B[38;5;241;43m*\u001B[39;49m\u001B[38;5;241;43m*\u001B[39;49m\u001B[43mkwargs\u001B[49m\u001B[43m)\u001B[49m\n",
      "File \u001B[1;32m~\\AppData\\Local\\Programs\\Python\\Python312\\Lib\\site-packages\\yfinance\\data.py:387\u001B[0m, in \u001B[0;36mYfData.cache_get\u001B[1;34m(self, url, user_agent_headers, params, proxy, timeout)\u001B[0m\n\u001B[0;32m    384\u001B[0m \u001B[38;5;129m@lru_cache_freezeargs\u001B[39m\n\u001B[0;32m    385\u001B[0m \u001B[38;5;129m@lru_cache\u001B[39m(maxsize\u001B[38;5;241m=\u001B[39mcache_maxsize)\n\u001B[0;32m    386\u001B[0m \u001B[38;5;28;01mdef\u001B[39;00m \u001B[38;5;21mcache_get\u001B[39m(\u001B[38;5;28mself\u001B[39m, url, user_agent_headers\u001B[38;5;241m=\u001B[39m\u001B[38;5;28;01mNone\u001B[39;00m, params\u001B[38;5;241m=\u001B[39m\u001B[38;5;28;01mNone\u001B[39;00m, proxy\u001B[38;5;241m=\u001B[39m\u001B[38;5;28;01mNone\u001B[39;00m, timeout\u001B[38;5;241m=\u001B[39m\u001B[38;5;241m30\u001B[39m):\n\u001B[1;32m--> 387\u001B[0m     \u001B[38;5;28;01mreturn\u001B[39;00m \u001B[38;5;28;43mself\u001B[39;49m\u001B[38;5;241;43m.\u001B[39;49m\u001B[43mget\u001B[49m\u001B[43m(\u001B[49m\u001B[43murl\u001B[49m\u001B[43m,\u001B[49m\u001B[43m \u001B[49m\u001B[43muser_agent_headers\u001B[49m\u001B[43m,\u001B[49m\u001B[43m \u001B[49m\u001B[43mparams\u001B[49m\u001B[43m,\u001B[49m\u001B[43m \u001B[49m\u001B[43mproxy\u001B[49m\u001B[43m,\u001B[49m\u001B[43m \u001B[49m\u001B[43mtimeout\u001B[49m\u001B[43m)\u001B[49m\n",
      "File \u001B[1;32m~\\AppData\\Local\\Programs\\Python\\Python312\\Lib\\site-packages\\yfinance\\utils.py:103\u001B[0m, in \u001B[0;36mlog_indent_decorator.<locals>.wrapper\u001B[1;34m(*args, **kwargs)\u001B[0m\n\u001B[0;32m    100\u001B[0m logger\u001B[38;5;241m.\u001B[39mdebug(\u001B[38;5;124mf\u001B[39m\u001B[38;5;124m'\u001B[39m\u001B[38;5;124mEntering \u001B[39m\u001B[38;5;132;01m{\u001B[39;00mfunc\u001B[38;5;241m.\u001B[39m\u001B[38;5;18m__name__\u001B[39m\u001B[38;5;132;01m}\u001B[39;00m\u001B[38;5;124m()\u001B[39m\u001B[38;5;124m'\u001B[39m)\n\u001B[0;32m    102\u001B[0m \u001B[38;5;28;01mwith\u001B[39;00m IndentationContext():\n\u001B[1;32m--> 103\u001B[0m     result \u001B[38;5;241m=\u001B[39m \u001B[43mfunc\u001B[49m\u001B[43m(\u001B[49m\u001B[38;5;241;43m*\u001B[39;49m\u001B[43margs\u001B[49m\u001B[43m,\u001B[49m\u001B[43m \u001B[49m\u001B[38;5;241;43m*\u001B[39;49m\u001B[38;5;241;43m*\u001B[39;49m\u001B[43mkwargs\u001B[49m\u001B[43m)\u001B[49m\n\u001B[0;32m    105\u001B[0m logger\u001B[38;5;241m.\u001B[39mdebug(\u001B[38;5;124mf\u001B[39m\u001B[38;5;124m'\u001B[39m\u001B[38;5;124mExiting \u001B[39m\u001B[38;5;132;01m{\u001B[39;00mfunc\u001B[38;5;241m.\u001B[39m\u001B[38;5;18m__name__\u001B[39m\u001B[38;5;132;01m}\u001B[39;00m\u001B[38;5;124m()\u001B[39m\u001B[38;5;124m'\u001B[39m)\n\u001B[0;32m    106\u001B[0m \u001B[38;5;28;01mreturn\u001B[39;00m result\n",
      "File \u001B[1;32m~\\AppData\\Local\\Programs\\Python\\Python312\\Lib\\site-packages\\yfinance\\data.py:367\u001B[0m, in \u001B[0;36mYfData.get\u001B[1;34m(self, url, user_agent_headers, params, proxy, timeout)\u001B[0m\n\u001B[0;32m    357\u001B[0m     cookies \u001B[38;5;241m=\u001B[39m \u001B[38;5;28;01mNone\u001B[39;00m\n\u001B[0;32m    359\u001B[0m request_args \u001B[38;5;241m=\u001B[39m {\n\u001B[0;32m    360\u001B[0m     \u001B[38;5;124m'\u001B[39m\u001B[38;5;124murl\u001B[39m\u001B[38;5;124m'\u001B[39m: url,\n\u001B[0;32m    361\u001B[0m     \u001B[38;5;124m'\u001B[39m\u001B[38;5;124mparams\u001B[39m\u001B[38;5;124m'\u001B[39m: {\u001B[38;5;241m*\u001B[39m\u001B[38;5;241m*\u001B[39mparams, \u001B[38;5;241m*\u001B[39m\u001B[38;5;241m*\u001B[39mcrumbs},\n\u001B[1;32m   (...)\u001B[0m\n\u001B[0;32m    365\u001B[0m     \u001B[38;5;124m'\u001B[39m\u001B[38;5;124mheaders\u001B[39m\u001B[38;5;124m'\u001B[39m: user_agent_headers \u001B[38;5;129;01mor\u001B[39;00m \u001B[38;5;28mself\u001B[39m\u001B[38;5;241m.\u001B[39muser_agent_headers\n\u001B[0;32m    366\u001B[0m }\n\u001B[1;32m--> 367\u001B[0m response \u001B[38;5;241m=\u001B[39m \u001B[38;5;28;43mself\u001B[39;49m\u001B[38;5;241;43m.\u001B[39;49m\u001B[43m_session\u001B[49m\u001B[38;5;241;43m.\u001B[39;49m\u001B[43mget\u001B[49m\u001B[43m(\u001B[49m\u001B[38;5;241;43m*\u001B[39;49m\u001B[38;5;241;43m*\u001B[39;49m\u001B[43mrequest_args\u001B[49m\u001B[43m)\u001B[49m\n\u001B[0;32m    368\u001B[0m utils\u001B[38;5;241m.\u001B[39mget_yf_logger()\u001B[38;5;241m.\u001B[39mdebug(\u001B[38;5;124mf\u001B[39m\u001B[38;5;124m'\u001B[39m\u001B[38;5;124mresponse code=\u001B[39m\u001B[38;5;132;01m{\u001B[39;00mresponse\u001B[38;5;241m.\u001B[39mstatus_code\u001B[38;5;132;01m}\u001B[39;00m\u001B[38;5;124m'\u001B[39m)\n\u001B[0;32m    369\u001B[0m \u001B[38;5;28;01mif\u001B[39;00m response\u001B[38;5;241m.\u001B[39mstatus_code \u001B[38;5;241m>\u001B[39m\u001B[38;5;241m=\u001B[39m \u001B[38;5;241m400\u001B[39m:\n\u001B[0;32m    370\u001B[0m     \u001B[38;5;66;03m# Retry with other cookie strategy\u001B[39;00m\n",
      "File \u001B[1;32m~\\AppData\\Local\\Programs\\Python\\Python312\\Lib\\site-packages\\requests\\sessions.py:602\u001B[0m, in \u001B[0;36mSession.get\u001B[1;34m(self, url, **kwargs)\u001B[0m\n\u001B[0;32m    594\u001B[0m \u001B[38;5;250m\u001B[39m\u001B[38;5;124mr\u001B[39m\u001B[38;5;124;03m\"\"\"Sends a GET request. Returns :class:`Response` object.\u001B[39;00m\n\u001B[0;32m    595\u001B[0m \n\u001B[0;32m    596\u001B[0m \u001B[38;5;124;03m:param url: URL for the new :class:`Request` object.\u001B[39;00m\n\u001B[0;32m    597\u001B[0m \u001B[38;5;124;03m:param \\*\\*kwargs: Optional arguments that ``request`` takes.\u001B[39;00m\n\u001B[0;32m    598\u001B[0m \u001B[38;5;124;03m:rtype: requests.Response\u001B[39;00m\n\u001B[0;32m    599\u001B[0m \u001B[38;5;124;03m\"\"\"\u001B[39;00m\n\u001B[0;32m    601\u001B[0m kwargs\u001B[38;5;241m.\u001B[39msetdefault(\u001B[38;5;124m\"\u001B[39m\u001B[38;5;124mallow_redirects\u001B[39m\u001B[38;5;124m\"\u001B[39m, \u001B[38;5;28;01mTrue\u001B[39;00m)\n\u001B[1;32m--> 602\u001B[0m \u001B[38;5;28;01mreturn\u001B[39;00m \u001B[38;5;28;43mself\u001B[39;49m\u001B[38;5;241;43m.\u001B[39;49m\u001B[43mrequest\u001B[49m\u001B[43m(\u001B[49m\u001B[38;5;124;43m\"\u001B[39;49m\u001B[38;5;124;43mGET\u001B[39;49m\u001B[38;5;124;43m\"\u001B[39;49m\u001B[43m,\u001B[49m\u001B[43m \u001B[49m\u001B[43murl\u001B[49m\u001B[43m,\u001B[49m\u001B[43m \u001B[49m\u001B[38;5;241;43m*\u001B[39;49m\u001B[38;5;241;43m*\u001B[39;49m\u001B[43mkwargs\u001B[49m\u001B[43m)\u001B[49m\n",
      "File \u001B[1;32m~\\AppData\\Local\\Programs\\Python\\Python312\\Lib\\site-packages\\requests\\sessions.py:589\u001B[0m, in \u001B[0;36mSession.request\u001B[1;34m(self, method, url, params, data, headers, cookies, files, auth, timeout, allow_redirects, proxies, hooks, stream, verify, cert, json)\u001B[0m\n\u001B[0;32m    584\u001B[0m send_kwargs \u001B[38;5;241m=\u001B[39m {\n\u001B[0;32m    585\u001B[0m     \u001B[38;5;124m\"\u001B[39m\u001B[38;5;124mtimeout\u001B[39m\u001B[38;5;124m\"\u001B[39m: timeout,\n\u001B[0;32m    586\u001B[0m     \u001B[38;5;124m\"\u001B[39m\u001B[38;5;124mallow_redirects\u001B[39m\u001B[38;5;124m\"\u001B[39m: allow_redirects,\n\u001B[0;32m    587\u001B[0m }\n\u001B[0;32m    588\u001B[0m send_kwargs\u001B[38;5;241m.\u001B[39mupdate(settings)\n\u001B[1;32m--> 589\u001B[0m resp \u001B[38;5;241m=\u001B[39m \u001B[38;5;28;43mself\u001B[39;49m\u001B[38;5;241;43m.\u001B[39;49m\u001B[43msend\u001B[49m\u001B[43m(\u001B[49m\u001B[43mprep\u001B[49m\u001B[43m,\u001B[49m\u001B[43m \u001B[49m\u001B[38;5;241;43m*\u001B[39;49m\u001B[38;5;241;43m*\u001B[39;49m\u001B[43msend_kwargs\u001B[49m\u001B[43m)\u001B[49m\n\u001B[0;32m    591\u001B[0m \u001B[38;5;28;01mreturn\u001B[39;00m resp\n",
      "File \u001B[1;32m~\\AppData\\Local\\Programs\\Python\\Python312\\Lib\\site-packages\\requests\\sessions.py:703\u001B[0m, in \u001B[0;36mSession.send\u001B[1;34m(self, request, **kwargs)\u001B[0m\n\u001B[0;32m    700\u001B[0m start \u001B[38;5;241m=\u001B[39m preferred_clock()\n\u001B[0;32m    702\u001B[0m \u001B[38;5;66;03m# Send the request\u001B[39;00m\n\u001B[1;32m--> 703\u001B[0m r \u001B[38;5;241m=\u001B[39m \u001B[43madapter\u001B[49m\u001B[38;5;241;43m.\u001B[39;49m\u001B[43msend\u001B[49m\u001B[43m(\u001B[49m\u001B[43mrequest\u001B[49m\u001B[43m,\u001B[49m\u001B[43m \u001B[49m\u001B[38;5;241;43m*\u001B[39;49m\u001B[38;5;241;43m*\u001B[39;49m\u001B[43mkwargs\u001B[49m\u001B[43m)\u001B[49m\n\u001B[0;32m    705\u001B[0m \u001B[38;5;66;03m# Total elapsed time of the request (approximately)\u001B[39;00m\n\u001B[0;32m    706\u001B[0m elapsed \u001B[38;5;241m=\u001B[39m preferred_clock() \u001B[38;5;241m-\u001B[39m start\n",
      "File \u001B[1;32m~\\AppData\\Local\\Programs\\Python\\Python312\\Lib\\site-packages\\requests\\adapters.py:486\u001B[0m, in \u001B[0;36mHTTPAdapter.send\u001B[1;34m(self, request, stream, timeout, verify, cert, proxies)\u001B[0m\n\u001B[0;32m    483\u001B[0m     timeout \u001B[38;5;241m=\u001B[39m TimeoutSauce(connect\u001B[38;5;241m=\u001B[39mtimeout, read\u001B[38;5;241m=\u001B[39mtimeout)\n\u001B[0;32m    485\u001B[0m \u001B[38;5;28;01mtry\u001B[39;00m:\n\u001B[1;32m--> 486\u001B[0m     resp \u001B[38;5;241m=\u001B[39m \u001B[43mconn\u001B[49m\u001B[38;5;241;43m.\u001B[39;49m\u001B[43murlopen\u001B[49m\u001B[43m(\u001B[49m\n\u001B[0;32m    487\u001B[0m \u001B[43m        \u001B[49m\u001B[43mmethod\u001B[49m\u001B[38;5;241;43m=\u001B[39;49m\u001B[43mrequest\u001B[49m\u001B[38;5;241;43m.\u001B[39;49m\u001B[43mmethod\u001B[49m\u001B[43m,\u001B[49m\n\u001B[0;32m    488\u001B[0m \u001B[43m        \u001B[49m\u001B[43murl\u001B[49m\u001B[38;5;241;43m=\u001B[39;49m\u001B[43murl\u001B[49m\u001B[43m,\u001B[49m\n\u001B[0;32m    489\u001B[0m \u001B[43m        \u001B[49m\u001B[43mbody\u001B[49m\u001B[38;5;241;43m=\u001B[39;49m\u001B[43mrequest\u001B[49m\u001B[38;5;241;43m.\u001B[39;49m\u001B[43mbody\u001B[49m\u001B[43m,\u001B[49m\n\u001B[0;32m    490\u001B[0m \u001B[43m        \u001B[49m\u001B[43mheaders\u001B[49m\u001B[38;5;241;43m=\u001B[39;49m\u001B[43mrequest\u001B[49m\u001B[38;5;241;43m.\u001B[39;49m\u001B[43mheaders\u001B[49m\u001B[43m,\u001B[49m\n\u001B[0;32m    491\u001B[0m \u001B[43m        \u001B[49m\u001B[43mredirect\u001B[49m\u001B[38;5;241;43m=\u001B[39;49m\u001B[38;5;28;43;01mFalse\u001B[39;49;00m\u001B[43m,\u001B[49m\n\u001B[0;32m    492\u001B[0m \u001B[43m        \u001B[49m\u001B[43massert_same_host\u001B[49m\u001B[38;5;241;43m=\u001B[39;49m\u001B[38;5;28;43;01mFalse\u001B[39;49;00m\u001B[43m,\u001B[49m\n\u001B[0;32m    493\u001B[0m \u001B[43m        \u001B[49m\u001B[43mpreload_content\u001B[49m\u001B[38;5;241;43m=\u001B[39;49m\u001B[38;5;28;43;01mFalse\u001B[39;49;00m\u001B[43m,\u001B[49m\n\u001B[0;32m    494\u001B[0m \u001B[43m        \u001B[49m\u001B[43mdecode_content\u001B[49m\u001B[38;5;241;43m=\u001B[39;49m\u001B[38;5;28;43;01mFalse\u001B[39;49;00m\u001B[43m,\u001B[49m\n\u001B[0;32m    495\u001B[0m \u001B[43m        \u001B[49m\u001B[43mretries\u001B[49m\u001B[38;5;241;43m=\u001B[39;49m\u001B[38;5;28;43mself\u001B[39;49m\u001B[38;5;241;43m.\u001B[39;49m\u001B[43mmax_retries\u001B[49m\u001B[43m,\u001B[49m\n\u001B[0;32m    496\u001B[0m \u001B[43m        \u001B[49m\u001B[43mtimeout\u001B[49m\u001B[38;5;241;43m=\u001B[39;49m\u001B[43mtimeout\u001B[49m\u001B[43m,\u001B[49m\n\u001B[0;32m    497\u001B[0m \u001B[43m        \u001B[49m\u001B[43mchunked\u001B[49m\u001B[38;5;241;43m=\u001B[39;49m\u001B[43mchunked\u001B[49m\u001B[43m,\u001B[49m\n\u001B[0;32m    498\u001B[0m \u001B[43m    \u001B[49m\u001B[43m)\u001B[49m\n\u001B[0;32m    500\u001B[0m \u001B[38;5;28;01mexcept\u001B[39;00m (ProtocolError, \u001B[38;5;167;01mOSError\u001B[39;00m) \u001B[38;5;28;01mas\u001B[39;00m err:\n\u001B[0;32m    501\u001B[0m     \u001B[38;5;28;01mraise\u001B[39;00m \u001B[38;5;167;01mConnectionError\u001B[39;00m(err, request\u001B[38;5;241m=\u001B[39mrequest)\n",
      "File \u001B[1;32m~\\AppData\\Local\\Programs\\Python\\Python312\\Lib\\site-packages\\urllib3\\connectionpool.py:793\u001B[0m, in \u001B[0;36mHTTPConnectionPool.urlopen\u001B[1;34m(self, method, url, body, headers, retries, redirect, assert_same_host, timeout, pool_timeout, release_conn, chunked, body_pos, preload_content, decode_content, **response_kw)\u001B[0m\n\u001B[0;32m    790\u001B[0m response_conn \u001B[38;5;241m=\u001B[39m conn \u001B[38;5;28;01mif\u001B[39;00m \u001B[38;5;129;01mnot\u001B[39;00m release_conn \u001B[38;5;28;01melse\u001B[39;00m \u001B[38;5;28;01mNone\u001B[39;00m\n\u001B[0;32m    792\u001B[0m \u001B[38;5;66;03m# Make the request on the HTTPConnection object\u001B[39;00m\n\u001B[1;32m--> 793\u001B[0m response \u001B[38;5;241m=\u001B[39m \u001B[38;5;28;43mself\u001B[39;49m\u001B[38;5;241;43m.\u001B[39;49m\u001B[43m_make_request\u001B[49m\u001B[43m(\u001B[49m\n\u001B[0;32m    794\u001B[0m \u001B[43m    \u001B[49m\u001B[43mconn\u001B[49m\u001B[43m,\u001B[49m\n\u001B[0;32m    795\u001B[0m \u001B[43m    \u001B[49m\u001B[43mmethod\u001B[49m\u001B[43m,\u001B[49m\n\u001B[0;32m    796\u001B[0m \u001B[43m    \u001B[49m\u001B[43murl\u001B[49m\u001B[43m,\u001B[49m\n\u001B[0;32m    797\u001B[0m \u001B[43m    \u001B[49m\u001B[43mtimeout\u001B[49m\u001B[38;5;241;43m=\u001B[39;49m\u001B[43mtimeout_obj\u001B[49m\u001B[43m,\u001B[49m\n\u001B[0;32m    798\u001B[0m \u001B[43m    \u001B[49m\u001B[43mbody\u001B[49m\u001B[38;5;241;43m=\u001B[39;49m\u001B[43mbody\u001B[49m\u001B[43m,\u001B[49m\n\u001B[0;32m    799\u001B[0m \u001B[43m    \u001B[49m\u001B[43mheaders\u001B[49m\u001B[38;5;241;43m=\u001B[39;49m\u001B[43mheaders\u001B[49m\u001B[43m,\u001B[49m\n\u001B[0;32m    800\u001B[0m \u001B[43m    \u001B[49m\u001B[43mchunked\u001B[49m\u001B[38;5;241;43m=\u001B[39;49m\u001B[43mchunked\u001B[49m\u001B[43m,\u001B[49m\n\u001B[0;32m    801\u001B[0m \u001B[43m    \u001B[49m\u001B[43mretries\u001B[49m\u001B[38;5;241;43m=\u001B[39;49m\u001B[43mretries\u001B[49m\u001B[43m,\u001B[49m\n\u001B[0;32m    802\u001B[0m \u001B[43m    \u001B[49m\u001B[43mresponse_conn\u001B[49m\u001B[38;5;241;43m=\u001B[39;49m\u001B[43mresponse_conn\u001B[49m\u001B[43m,\u001B[49m\n\u001B[0;32m    803\u001B[0m \u001B[43m    \u001B[49m\u001B[43mpreload_content\u001B[49m\u001B[38;5;241;43m=\u001B[39;49m\u001B[43mpreload_content\u001B[49m\u001B[43m,\u001B[49m\n\u001B[0;32m    804\u001B[0m \u001B[43m    \u001B[49m\u001B[43mdecode_content\u001B[49m\u001B[38;5;241;43m=\u001B[39;49m\u001B[43mdecode_content\u001B[49m\u001B[43m,\u001B[49m\n\u001B[0;32m    805\u001B[0m \u001B[43m    \u001B[49m\u001B[38;5;241;43m*\u001B[39;49m\u001B[38;5;241;43m*\u001B[39;49m\u001B[43mresponse_kw\u001B[49m\u001B[43m,\u001B[49m\n\u001B[0;32m    806\u001B[0m \u001B[43m\u001B[49m\u001B[43m)\u001B[49m\n\u001B[0;32m    808\u001B[0m \u001B[38;5;66;03m# Everything went great!\u001B[39;00m\n\u001B[0;32m    809\u001B[0m clean_exit \u001B[38;5;241m=\u001B[39m \u001B[38;5;28;01mTrue\u001B[39;00m\n",
      "File \u001B[1;32m~\\AppData\\Local\\Programs\\Python\\Python312\\Lib\\site-packages\\urllib3\\connectionpool.py:537\u001B[0m, in \u001B[0;36mHTTPConnectionPool._make_request\u001B[1;34m(self, conn, method, url, body, headers, retries, timeout, chunked, response_conn, preload_content, decode_content, enforce_content_length)\u001B[0m\n\u001B[0;32m    535\u001B[0m \u001B[38;5;66;03m# Receive the response from the server\u001B[39;00m\n\u001B[0;32m    536\u001B[0m \u001B[38;5;28;01mtry\u001B[39;00m:\n\u001B[1;32m--> 537\u001B[0m     response \u001B[38;5;241m=\u001B[39m \u001B[43mconn\u001B[49m\u001B[38;5;241;43m.\u001B[39;49m\u001B[43mgetresponse\u001B[49m\u001B[43m(\u001B[49m\u001B[43m)\u001B[49m\n\u001B[0;32m    538\u001B[0m \u001B[38;5;28;01mexcept\u001B[39;00m (BaseSSLError, \u001B[38;5;167;01mOSError\u001B[39;00m) \u001B[38;5;28;01mas\u001B[39;00m e:\n\u001B[0;32m    539\u001B[0m     \u001B[38;5;28mself\u001B[39m\u001B[38;5;241m.\u001B[39m_raise_timeout(err\u001B[38;5;241m=\u001B[39me, url\u001B[38;5;241m=\u001B[39murl, timeout_value\u001B[38;5;241m=\u001B[39mread_timeout)\n",
      "File \u001B[1;32m~\\AppData\\Local\\Programs\\Python\\Python312\\Lib\\site-packages\\urllib3\\connection.py:466\u001B[0m, in \u001B[0;36mHTTPConnection.getresponse\u001B[1;34m(self)\u001B[0m\n\u001B[0;32m    463\u001B[0m \u001B[38;5;28;01mfrom\u001B[39;00m \u001B[38;5;21;01m.\u001B[39;00m\u001B[38;5;21;01mresponse\u001B[39;00m \u001B[38;5;28;01mimport\u001B[39;00m HTTPResponse\n\u001B[0;32m    465\u001B[0m \u001B[38;5;66;03m# Get the response from http.client.HTTPConnection\u001B[39;00m\n\u001B[1;32m--> 466\u001B[0m httplib_response \u001B[38;5;241m=\u001B[39m \u001B[38;5;28;43msuper\u001B[39;49m\u001B[43m(\u001B[49m\u001B[43m)\u001B[49m\u001B[38;5;241;43m.\u001B[39;49m\u001B[43mgetresponse\u001B[49m\u001B[43m(\u001B[49m\u001B[43m)\u001B[49m\n\u001B[0;32m    468\u001B[0m \u001B[38;5;28;01mtry\u001B[39;00m:\n\u001B[0;32m    469\u001B[0m     assert_header_parsing(httplib_response\u001B[38;5;241m.\u001B[39mmsg)\n",
      "File \u001B[1;32m~\\AppData\\Local\\Programs\\Python\\Python312\\Lib\\http\\client.py:1423\u001B[0m, in \u001B[0;36mHTTPConnection.getresponse\u001B[1;34m(self)\u001B[0m\n\u001B[0;32m   1421\u001B[0m \u001B[38;5;28;01mtry\u001B[39;00m:\n\u001B[0;32m   1422\u001B[0m     \u001B[38;5;28;01mtry\u001B[39;00m:\n\u001B[1;32m-> 1423\u001B[0m         \u001B[43mresponse\u001B[49m\u001B[38;5;241;43m.\u001B[39;49m\u001B[43mbegin\u001B[49m\u001B[43m(\u001B[49m\u001B[43m)\u001B[49m\n\u001B[0;32m   1424\u001B[0m     \u001B[38;5;28;01mexcept\u001B[39;00m \u001B[38;5;167;01mConnectionError\u001B[39;00m:\n\u001B[0;32m   1425\u001B[0m         \u001B[38;5;28mself\u001B[39m\u001B[38;5;241m.\u001B[39mclose()\n",
      "File \u001B[1;32m~\\AppData\\Local\\Programs\\Python\\Python312\\Lib\\http\\client.py:331\u001B[0m, in \u001B[0;36mHTTPResponse.begin\u001B[1;34m(self)\u001B[0m\n\u001B[0;32m    329\u001B[0m \u001B[38;5;66;03m# read until we get a non-100 response\u001B[39;00m\n\u001B[0;32m    330\u001B[0m \u001B[38;5;28;01mwhile\u001B[39;00m \u001B[38;5;28;01mTrue\u001B[39;00m:\n\u001B[1;32m--> 331\u001B[0m     version, status, reason \u001B[38;5;241m=\u001B[39m \u001B[38;5;28;43mself\u001B[39;49m\u001B[38;5;241;43m.\u001B[39;49m\u001B[43m_read_status\u001B[49m\u001B[43m(\u001B[49m\u001B[43m)\u001B[49m\n\u001B[0;32m    332\u001B[0m     \u001B[38;5;28;01mif\u001B[39;00m status \u001B[38;5;241m!=\u001B[39m CONTINUE:\n\u001B[0;32m    333\u001B[0m         \u001B[38;5;28;01mbreak\u001B[39;00m\n",
      "File \u001B[1;32m~\\AppData\\Local\\Programs\\Python\\Python312\\Lib\\http\\client.py:292\u001B[0m, in \u001B[0;36mHTTPResponse._read_status\u001B[1;34m(self)\u001B[0m\n\u001B[0;32m    291\u001B[0m \u001B[38;5;28;01mdef\u001B[39;00m \u001B[38;5;21m_read_status\u001B[39m(\u001B[38;5;28mself\u001B[39m):\n\u001B[1;32m--> 292\u001B[0m     line \u001B[38;5;241m=\u001B[39m \u001B[38;5;28mstr\u001B[39m(\u001B[38;5;28;43mself\u001B[39;49m\u001B[38;5;241;43m.\u001B[39;49m\u001B[43mfp\u001B[49m\u001B[38;5;241;43m.\u001B[39;49m\u001B[43mreadline\u001B[49m\u001B[43m(\u001B[49m\u001B[43m_MAXLINE\u001B[49m\u001B[43m \u001B[49m\u001B[38;5;241;43m+\u001B[39;49m\u001B[43m \u001B[49m\u001B[38;5;241;43m1\u001B[39;49m\u001B[43m)\u001B[49m, \u001B[38;5;124m\"\u001B[39m\u001B[38;5;124miso-8859-1\u001B[39m\u001B[38;5;124m\"\u001B[39m)\n\u001B[0;32m    293\u001B[0m     \u001B[38;5;28;01mif\u001B[39;00m \u001B[38;5;28mlen\u001B[39m(line) \u001B[38;5;241m>\u001B[39m _MAXLINE:\n\u001B[0;32m    294\u001B[0m         \u001B[38;5;28;01mraise\u001B[39;00m LineTooLong(\u001B[38;5;124m\"\u001B[39m\u001B[38;5;124mstatus line\u001B[39m\u001B[38;5;124m\"\u001B[39m)\n",
      "File \u001B[1;32m~\\AppData\\Local\\Programs\\Python\\Python312\\Lib\\socket.py:707\u001B[0m, in \u001B[0;36mSocketIO.readinto\u001B[1;34m(self, b)\u001B[0m\n\u001B[0;32m    705\u001B[0m \u001B[38;5;28;01mwhile\u001B[39;00m \u001B[38;5;28;01mTrue\u001B[39;00m:\n\u001B[0;32m    706\u001B[0m     \u001B[38;5;28;01mtry\u001B[39;00m:\n\u001B[1;32m--> 707\u001B[0m         \u001B[38;5;28;01mreturn\u001B[39;00m \u001B[38;5;28;43mself\u001B[39;49m\u001B[38;5;241;43m.\u001B[39;49m\u001B[43m_sock\u001B[49m\u001B[38;5;241;43m.\u001B[39;49m\u001B[43mrecv_into\u001B[49m\u001B[43m(\u001B[49m\u001B[43mb\u001B[49m\u001B[43m)\u001B[49m\n\u001B[0;32m    708\u001B[0m     \u001B[38;5;28;01mexcept\u001B[39;00m timeout:\n\u001B[0;32m    709\u001B[0m         \u001B[38;5;28mself\u001B[39m\u001B[38;5;241m.\u001B[39m_timeout_occurred \u001B[38;5;241m=\u001B[39m \u001B[38;5;28;01mTrue\u001B[39;00m\n",
      "File \u001B[1;32m~\\AppData\\Local\\Programs\\Python\\Python312\\Lib\\ssl.py:1252\u001B[0m, in \u001B[0;36mSSLSocket.recv_into\u001B[1;34m(self, buffer, nbytes, flags)\u001B[0m\n\u001B[0;32m   1248\u001B[0m     \u001B[38;5;28;01mif\u001B[39;00m flags \u001B[38;5;241m!=\u001B[39m \u001B[38;5;241m0\u001B[39m:\n\u001B[0;32m   1249\u001B[0m         \u001B[38;5;28;01mraise\u001B[39;00m \u001B[38;5;167;01mValueError\u001B[39;00m(\n\u001B[0;32m   1250\u001B[0m           \u001B[38;5;124m\"\u001B[39m\u001B[38;5;124mnon-zero flags not allowed in calls to recv_into() on \u001B[39m\u001B[38;5;132;01m%s\u001B[39;00m\u001B[38;5;124m\"\u001B[39m \u001B[38;5;241m%\u001B[39m\n\u001B[0;32m   1251\u001B[0m           \u001B[38;5;28mself\u001B[39m\u001B[38;5;241m.\u001B[39m\u001B[38;5;18m__class__\u001B[39m)\n\u001B[1;32m-> 1252\u001B[0m     \u001B[38;5;28;01mreturn\u001B[39;00m \u001B[38;5;28;43mself\u001B[39;49m\u001B[38;5;241;43m.\u001B[39;49m\u001B[43mread\u001B[49m\u001B[43m(\u001B[49m\u001B[43mnbytes\u001B[49m\u001B[43m,\u001B[49m\u001B[43m \u001B[49m\u001B[43mbuffer\u001B[49m\u001B[43m)\u001B[49m\n\u001B[0;32m   1253\u001B[0m \u001B[38;5;28;01melse\u001B[39;00m:\n\u001B[0;32m   1254\u001B[0m     \u001B[38;5;28;01mreturn\u001B[39;00m \u001B[38;5;28msuper\u001B[39m()\u001B[38;5;241m.\u001B[39mrecv_into(buffer, nbytes, flags)\n",
      "File \u001B[1;32m~\\AppData\\Local\\Programs\\Python\\Python312\\Lib\\ssl.py:1104\u001B[0m, in \u001B[0;36mSSLSocket.read\u001B[1;34m(self, len, buffer)\u001B[0m\n\u001B[0;32m   1102\u001B[0m \u001B[38;5;28;01mtry\u001B[39;00m:\n\u001B[0;32m   1103\u001B[0m     \u001B[38;5;28;01mif\u001B[39;00m buffer \u001B[38;5;129;01mis\u001B[39;00m \u001B[38;5;129;01mnot\u001B[39;00m \u001B[38;5;28;01mNone\u001B[39;00m:\n\u001B[1;32m-> 1104\u001B[0m         \u001B[38;5;28;01mreturn\u001B[39;00m \u001B[38;5;28;43mself\u001B[39;49m\u001B[38;5;241;43m.\u001B[39;49m\u001B[43m_sslobj\u001B[49m\u001B[38;5;241;43m.\u001B[39;49m\u001B[43mread\u001B[49m\u001B[43m(\u001B[49m\u001B[38;5;28;43mlen\u001B[39;49m\u001B[43m,\u001B[49m\u001B[43m \u001B[49m\u001B[43mbuffer\u001B[49m\u001B[43m)\u001B[49m\n\u001B[0;32m   1105\u001B[0m     \u001B[38;5;28;01melse\u001B[39;00m:\n\u001B[0;32m   1106\u001B[0m         \u001B[38;5;28;01mreturn\u001B[39;00m \u001B[38;5;28mself\u001B[39m\u001B[38;5;241m.\u001B[39m_sslobj\u001B[38;5;241m.\u001B[39mread(\u001B[38;5;28mlen\u001B[39m)\n",
      "\u001B[1;31mKeyboardInterrupt\u001B[0m: "
     ]
    }
   ],
   "source": [
    "# https://www.ishares.com/us/products/239696/\n",
    "msci_world_uri = add_etf('URTH')\n",
    "grep_ticker_data(msci_world_companies_df['Ticker'], msci_world_uri)"
   ],
   "metadata": {
    "collapsed": false,
    "ExecuteTime": {
     "end_time": "2024-03-29T20:53:27.198477400Z",
     "start_time": "2024-03-29T20:52:46.807204Z"
    }
   },
   "id": "8be8df93c203cf9",
   "execution_count": 30
  },
  {
   "cell_type": "markdown",
   "source": [
    "managed to reduce from around 500 invalid tickers to less than 10 because of fetching tickers from a different API."
   ],
   "metadata": {
    "collapsed": false
   },
   "id": "d8861190e2cd0c5c"
  },
  {
   "cell_type": "code",
   "outputs": [],
   "source": [
    "# https://www.ishares.com/us/products/239726/  | TICKER IVV\n",
    "sp_500_uri = add_etf('IVV')\n",
    "grep_ticker_data(sp_500_companies_df['Ticker'], sp_500_uri)"
   ],
   "metadata": {
    "collapsed": false,
    "ExecuteTime": {
     "start_time": "2024-03-29T20:53:27.197476Z"
    }
   },
   "id": "76a26f6bffa3717c",
   "execution_count": null
  },
  {
   "cell_type": "code",
   "outputs": [],
   "source": [
    "# write code an api request to get the data"
   ],
   "metadata": {
    "collapsed": false,
    "ExecuteTime": {
     "end_time": "2024-03-29T20:53:27.205515100Z",
     "start_time": "2024-03-29T20:53:27.198477400Z"
    }
   },
   "id": "e2fd3b53b9f3ec66",
   "execution_count": null
  },
  {
   "cell_type": "code",
   "outputs": [],
   "source": [
    "# safe kg\n",
    "g.serialize(destination='data/finance-kg.ttl', format='turtle')"
   ],
   "metadata": {
    "collapsed": false,
    "ExecuteTime": {
     "start_time": "2024-03-29T20:53:27.200477800Z"
    }
   },
   "id": "f5cb8705bfed0081",
   "execution_count": null
  },
  {
   "cell_type": "code",
   "outputs": [],
   "source": [
    "test = yf.Ticker('AZNCF')\n",
    "# handle keyError for test.earnings_dates\n",
    "test.get_info()['']"
   ],
   "metadata": {
    "collapsed": false,
    "ExecuteTime": {
     "start_time": "2024-03-29T20:53:27.201512200Z"
    }
   },
   "id": "353478af1c00fe43",
   "execution_count": null
  },
  {
   "cell_type": "code",
   "outputs": [],
   "source": [
    "\n",
    "test.earnings_dates"
   ],
   "metadata": {
    "collapsed": false,
    "ExecuteTime": {
     "start_time": "2024-03-29T20:53:27.203512900Z"
    }
   },
   "id": "c87f34f84fdc4057"
  },
  {
   "cell_type": "code",
   "outputs": [],
   "source": [
    "test.get_info()"
   ],
   "metadata": {
    "collapsed": false,
    "ExecuteTime": {
     "start_time": "2024-03-29T20:53:27.203512900Z"
    }
   },
   "id": "bcd0f9cca521379d",
   "execution_count": null
  },
  {
   "cell_type": "code",
   "outputs": [],
   "source": [
    "test.get_"
   ],
   "metadata": {
    "collapsed": false,
    "ExecuteTime": {
     "start_time": "2024-03-29T20:53:27.204514Z"
    }
   },
   "id": "5af63b3e37eb305",
   "execution_count": null
  }
 ],
 "metadata": {
  "kernelspec": {
   "display_name": "Python 3",
   "language": "python",
   "name": "python3"
  },
  "language_info": {
   "codemirror_mode": {
    "name": "ipython",
    "version": 2
   },
   "file_extension": ".py",
   "mimetype": "text/x-python",
   "name": "python",
   "nbconvert_exporter": "python",
   "pygments_lexer": "ipython2",
   "version": "2.7.6"
  }
 },
 "nbformat": 4,
 "nbformat_minor": 5
}
