{
 "cells": [
  {
   "cell_type": "markdown",
   "source": [
    "# Finance Knowledge Graph creation\n"
   ],
   "metadata": {
    "collapsed": false
   },
   "id": "b0df9c7732cb48f0"
  },
  {
   "cell_type": "code",
   "execution_count": 39,
   "outputs": [],
   "source": [
    "# imports\n",
    "import pandas as pd\n",
    "from rdflib import Graph, URIRef, Namespace, Literal\n",
    "from rdflib.namespace import FOAF, DCTERMS, XSD, RDF, SDO, RDFS, OWL\n",
    "from urllib.parse import quote"
   ],
   "metadata": {
    "collapsed": false,
    "ExecuteTime": {
     "end_time": "2024-03-29T13:55:50.988644Z",
     "start_time": "2024-03-29T13:55:50.946711500Z"
    }
   },
   "id": "8241e43257f4444b"
  },
  {
   "cell_type": "code",
   "outputs": [],
   "source": [
    "g = Graph()\n",
    "\n",
    "# namespaces\n",
    "FINANCE = Namespace(\"https://w3id.org/finance/\")\n",
    "\n",
    "COMPANY = Namespace(\"https://finance.yahoo.com/quote/\")\n",
    "SECTOR = Namespace(\"https://finance.yahoo.com/sectors/\")\n",
    "INDUSTRY = Namespace(\"https://finance.yahoo.com/sectors/industry/\")\n",
    "\n",
    "JUSTETF = Namespace(\"https://www.justetf.com/en/\")\n",
    "# https://www.justetf.com/en/etf-profile.html?isin=\n",
    "\n",
    "PERSON = Namespace(\"https://schema.org/person/\")  # jobTitle (https://schema.org/jobTitle), name\n",
    "\n",
    "#schema = Namespace(\"http://schema.org/\")\n",
    "#organization = Namespace(\"https://schema.org/Organization\")\n",
    "\n",
    "#company = Namespace(\"https://dbpedia.org/ontology/Company\")\n",
    "#industry = Namespace(\"https://dbpedia.org/ontology/industry\")\n",
    "#sector = Namespace(\"https://dbpedia.org/ontology/sector\")\n",
    "# https://dbpedia.org/page/Stock\n",
    "\n",
    "\n",
    "# bind prefixes\n",
    "g.bind(\"finance\", FINANCE)\n",
    "g.bind(\"company\", COMPANY)\n",
    "g.bind(\"sector\", SECTOR)\n",
    "g.bind(\"industry\", INDUSTRY)\n",
    "g.bind(\"justetf\", JUSTETF)\n",
    "\n",
    "\n",
    "# https://schema.org/Person\n",
    "# https://schema.org/InvestmentFund\n",
    "# https://dbpedia.org/page/Stock\n",
    "# dbo:industy https://dbpedia.org/ontology/industry \n",
    "\n",
    "# https://schema.org/Organization"
   ],
   "metadata": {
    "collapsed": false,
    "ExecuteTime": {
     "end_time": "2024-03-29T13:55:51.036033700Z",
     "start_time": "2024-03-29T13:55:50.991646800Z"
    }
   },
   "id": "fb4645bf686ef372",
   "execution_count": 40
  },
  {
   "cell_type": "markdown",
   "source": [
    "# Binding"
   ],
   "metadata": {
    "collapsed": false
   },
   "id": "1aa73856d635e104"
  },
  {
   "cell_type": "code",
   "outputs": [
    {
     "data": {
      "text/plain": "<Graph identifier=Ndb0b390264c74f8984c6bb0726360950 (<class 'rdflib.graph.Graph'>)>"
     },
     "execution_count": 41,
     "metadata": {},
     "output_type": "execute_result"
    }
   ],
   "source": [
    "# bind classes\n",
    "\n",
    "g.add((FINANCE.Person, RDF.type, RDFS.Class))\n",
    "g.add((FINANCE.InvestmentFund, RDF.type, RDFS.Class))\n",
    "g.add((FINANCE.Company, RDF.type, RDFS.Class))\n",
    "g.add((FINANCE.Industry, RDF.type, RDFS.Class))\n",
    "g.add((FINANCE.Sector, RDF.type, RDFS.Class))\n",
    "g.add((FINANCE.Job, RDF.type, RDFS.Class))\n",
    "g.add((FINANCE.Address, RDF.type, RDFS.Class))\n",
    "g.add((FINANCE.ContactInformation, RDF.type, RDFS.Class))\n",
    "g.add((FINANCE.FinancialData, RDF.type, RDFS.Class))\n"
   ],
   "metadata": {
    "collapsed": false,
    "ExecuteTime": {
     "end_time": "2024-03-29T13:55:51.061383400Z",
     "start_time": "2024-03-29T13:55:51.037035400Z"
    }
   },
   "id": "4f074e1d1e0c884b",
   "execution_count": 41
  },
  {
   "cell_type": "code",
   "outputs": [
    {
     "data": {
      "text/plain": "<Graph identifier=Ndb0b390264c74f8984c6bb0726360950 (<class 'rdflib.graph.Graph'>)>"
     },
     "execution_count": 42,
     "metadata": {},
     "output_type": "execute_result"
    }
   ],
   "source": [
    "# bind properties\n",
    "\n",
    "# investmendfund\n",
    "## name\n",
    "g.add((FINANCE.hasName, RDF.type, OWL.DatatypeProperty))\n",
    "g.add((FINANCE.hasName, RDFS.domain, FINANCE.InvestmentFund))\n",
    "g.add((FINANCE.hasName, RDFS.range, XSD.string))\n",
    "\n",
    "## company is in investment fund\n",
    "\n",
    "\n",
    "# company\n",
    "## name\n",
    "g.add((FINANCE.hasName, RDF.type, OWL.DatatypeProperty))\n",
    "g.add((FINANCE.hasName, RDFS.domain, FINANCE.Company))\n",
    "g.add((FINANCE.hasName, RDFS.range, XSD.string))\n",
    "\n",
    "## symbol\n",
    "g.add((FINANCE.hasTicker, RDF.type, OWL.DatatypeProperty))\n",
    "g.add((FINANCE.hasTicker, RDFS.domain, FINANCE.Company))\n",
    "g.add((FINANCE.hasTicker, RDFS.range, XSD.string))\n",
    "\n",
    "# use schema.org employee as property for person in company\n",
    "#https://schema.org/employee\n",
    "## employee\n",
    "g.add((FINANCE.hasKeyExecutive, RDF.type, OWL.ObjectProperty))\n",
    "g.add((FINANCE.hasKeyExecutive, RDFS.domain, FINANCE.Company))\n",
    "g.add((FINANCE.hasKeyExecutive, RDFS.range, FINANCE.Person))\n",
    "\n",
    "## url or sameAs website for the company\n",
    "g.add((FINANCE.hasWebsite, RDF.type, OWL.DatatypeProperty))\n",
    "g.add((FINANCE.hasWebsite, RDFS.domain, FINANCE.Company))\n",
    "g.add((FINANCE.hasWebsite, RDFS.range, XSD.string))\n",
    "\n",
    "## industry\n",
    "g.add((FINANCE.hasIndustry, RDF.type, OWL.ObjectProperty))\n",
    "g.add((FINANCE.hasIndustry, RDFS.domain, FINANCE.Company))\n",
    "g.add((FINANCE.hasIndustry, RDFS.range, FINANCE.Industry))\n",
    "\n",
    "# address\n",
    "g.add((FINANCE.hasAddress, RDF.type, OWL.ObjectProperty))\n",
    "g.add((FINANCE.hasAddress, RDFS.domain, FINANCE.Company))\n",
    "g.add((FINANCE.hasAddress, RDFS.range, FINANCE.Address))\n",
    "\n",
    "# contact information\n",
    "g.add((FINANCE.hasContactInformation, RDF.type, OWL.ObjectProperty))\n",
    "g.add((FINANCE.hasContactInformation, RDFS.domain, FINANCE.Company))\n",
    "g.add((FINANCE.hasContactInformation, RDFS.range, FINANCE.ContactInformation))\n",
    "\n",
    "# financial data\n",
    "g.add((FINANCE.hasFinancialData, RDF.type, OWL.ObjectProperty))\n",
    "g.add((FINANCE.hasFinancialData, RDFS.domain, FINANCE.Company))\n",
    "g.add((FINANCE.hasFinancialData, RDFS.range, FINANCE.FinancialData))\n",
    "\n",
    "\n",
    "\n",
    "#g.add((finance.hasJob, RDF.type, OWL.ObjectProperty))"
   ],
   "metadata": {
    "collapsed": false,
    "ExecuteTime": {
     "end_time": "2024-03-29T13:55:51.106892900Z",
     "start_time": "2024-03-29T13:55:51.064386400Z"
    }
   },
   "id": "20d2dd76f1d24c75",
   "execution_count": 42
  },
  {
   "cell_type": "code",
   "outputs": [
    {
     "data": {
      "text/plain": "<Graph identifier=Ndb0b390264c74f8984c6bb0726360950 (<class 'rdflib.graph.Graph'>)>"
     },
     "execution_count": 43,
     "metadata": {},
     "output_type": "execute_result"
    }
   ],
   "source": [
    "# industry\n",
    "## name\n",
    "g.add((FINANCE.hasName, RDF.type, OWL.DatatypeProperty))\n",
    "g.add((FINANCE.hasName, RDFS.domain, FINANCE.Industry))\n",
    "g.add((FINANCE.hasName, RDFS.range, XSD.string))"
   ],
   "metadata": {
    "collapsed": false,
    "ExecuteTime": {
     "end_time": "2024-03-29T13:55:51.107893900Z",
     "start_time": "2024-03-29T13:55:51.070391300Z"
    }
   },
   "id": "bc6db0ec46ac712c",
   "execution_count": 43
  },
  {
   "cell_type": "code",
   "outputs": [
    {
     "data": {
      "text/plain": "<Graph identifier=Ndb0b390264c74f8984c6bb0726360950 (<class 'rdflib.graph.Graph'>)>"
     },
     "execution_count": 44,
     "metadata": {},
     "output_type": "execute_result"
    }
   ],
   "source": [
    "# industry to sector\n",
    "g.add((FINANCE.belongsToSector, RDF.type, OWL.ObjectProperty))\n",
    "g.add((FINANCE.belongsToSector, RDFS.domain, FINANCE.Industry))\n",
    "g.add((FINANCE.belongsToSector, RDFS.range, FINANCE.Sector))"
   ],
   "metadata": {
    "collapsed": false,
    "ExecuteTime": {
     "end_time": "2024-03-29T13:55:51.131452500Z",
     "start_time": "2024-03-29T13:55:51.108894900Z"
    }
   },
   "id": "ce39d75ab5f5de86",
   "execution_count": 44
  },
  {
   "cell_type": "code",
   "outputs": [
    {
     "data": {
      "text/plain": "<Graph identifier=Ndb0b390264c74f8984c6bb0726360950 (<class 'rdflib.graph.Graph'>)>"
     },
     "execution_count": 45,
     "metadata": {},
     "output_type": "execute_result"
    }
   ],
   "source": [
    "# person\n",
    "## name\n",
    "g.add((FINANCE.hasName, RDF.type, OWL.DatatypeProperty))\n",
    "g.add((FINANCE.hasName, RDFS.domain, FINANCE.Person))\n",
    "g.add((FINANCE.hasName, RDFS.range, XSD.string))\n",
    "\n",
    "## gender\n",
    "g.add((FINANCE.hasGender, RDF.type, OWL.DatatypeProperty))\n",
    "g.add((FINANCE.hasGender, RDFS.domain, FINANCE.Person))\n",
    "g.add((FINANCE.hasGender, RDFS.range, XSD.string))\n",
    "\n",
    "## job title\n",
    "g.add((FINANCE.hasJobTitle, RDF.type, OWL.DatatypeProperty))\n",
    "g.add((FINANCE.hasJobTitle, RDFS.domain, FINANCE.Person))\n",
    "g.add((FINANCE.hasJobTitle, RDFS.range, XSD.string))\n",
    "\n",
    "## age\n",
    "g.add((FINANCE.hasAge, RDF.type, OWL.DatatypeProperty))\n",
    "g.add((FINANCE.hasAge, RDFS.domain, FINANCE.Person))\n",
    "g.add((FINANCE.hasAge, RDFS.range, XSD.integer))\n",
    "\n",
    "## yearborn\n",
    "g.add((FINANCE.hasYearBorn, RDF.type, OWL.DatatypeProperty))\n",
    "g.add((FINANCE.hasYearBorn, RDFS.domain, FINANCE.Person))\n",
    "g.add((FINANCE.hasYearBorn, RDFS.range, XSD.integer))\n",
    "\n",
    "## totalPay\n",
    "g.add((FINANCE.hasTotalPay, RDF.type, OWL.DatatypeProperty))\n",
    "g.add((FINANCE.hasTotalPay, RDFS.domain, FINANCE.Person))\n",
    "g.add((FINANCE.hasTotalPay, RDFS.range, XSD.float))\n",
    "\n",
    "## exercisedValue\n",
    "g.add((FINANCE.hasExercisedValue, RDF.type, OWL.DatatypeProperty))\n",
    "g.add((FINANCE.hasExercisedValue, RDFS.domain, FINANCE.Person))\n",
    "g.add((FINANCE.hasExercisedValue, RDFS.range, XSD.float))\n",
    "\n",
    "## unexercisedValue\n",
    "g.add((FINANCE.hasUnexercisedValue, RDF.type, OWL.DatatypeProperty))\n",
    "g.add((FINANCE.hasUnexercisedValue, RDFS.domain, FINANCE.Person))\n",
    "g.add((FINANCE.hasUnexercisedValue, RDFS.range, XSD.float))"
   ],
   "metadata": {
    "collapsed": false,
    "ExecuteTime": {
     "end_time": "2024-03-29T13:55:51.131452500Z",
     "start_time": "2024-03-29T13:55:51.113425200Z"
    }
   },
   "id": "51deb75e96119455",
   "execution_count": 45
  },
  {
   "cell_type": "code",
   "outputs": [
    {
     "data": {
      "text/plain": "<Graph identifier=Ndb0b390264c74f8984c6bb0726360950 (<class 'rdflib.graph.Graph'>)>"
     },
     "execution_count": 46,
     "metadata": {},
     "output_type": "execute_result"
    }
   ],
   "source": [
    "# address\n",
    "## street\n",
    "g.add((FINANCE.hasStreet, RDF.type, OWL.DatatypeProperty))\n",
    "g.add((FINANCE.hasStreet, RDFS.domain, FINANCE.Address))\n",
    "g.add((FINANCE.hasStreet, RDFS.range, XSD.string))\n",
    "\n",
    "## city\n",
    "g.add((FINANCE.hasCity, RDF.type, OWL.DatatypeProperty))\n",
    "g.add((FINANCE.hasCity, RDFS.domain, FINANCE.Address))\n",
    "g.add((FINANCE.hasCity, RDFS.range, XSD.string))\n",
    "\n",
    "## postal code\n",
    "g.add((FINANCE.hasPostalCode, RDF.type, OWL.DatatypeProperty))\n",
    "g.add((FINANCE.hasPostalCode, RDFS.domain, FINANCE.Address))\n",
    "g.add((FINANCE.hasPostalCode, RDFS.range, XSD.string))\n",
    "\n",
    "## country\n",
    "g.add((FINANCE.hasCountry, RDF.type, OWL.DatatypeProperty))\n",
    "g.add((FINANCE.hasCountry, RDFS.domain, FINANCE.Address))\n",
    "g.add((FINANCE.hasCountry, RDFS.range, XSD.string))\n",
    "\n",
    "## state\n",
    "g.add((FINANCE.hasState, RDF.type, OWL.DatatypeProperty))\n",
    "g.add((FINANCE.hasState, RDFS.domain, FINANCE.Address))\n",
    "g.add((FINANCE.hasState, RDFS.range, XSD.string))"
   ],
   "metadata": {
    "collapsed": false,
    "ExecuteTime": {
     "end_time": "2024-03-29T13:55:51.172468Z",
     "start_time": "2024-03-29T13:55:51.134452800Z"
    }
   },
   "id": "f29b1add7b8f5c5d",
   "execution_count": 46
  },
  {
   "cell_type": "code",
   "outputs": [
    {
     "data": {
      "text/plain": "<Graph identifier=Ndb0b390264c74f8984c6bb0726360950 (<class 'rdflib.graph.Graph'>)>"
     },
     "execution_count": 47,
     "metadata": {},
     "output_type": "execute_result"
    }
   ],
   "source": [
    "# contact information\n",
    "## phone\n",
    "#TODO put to company\n",
    "g.add((FINANCE.hasPhone, RDF.type, OWL.DatatypeProperty))\n",
    "g.add((FINANCE.hasPhone, RDFS.domain, FINANCE.ContactInformation))\n",
    "g.add((FINANCE.hasPhone, RDFS.range, XSD.string))\n",
    "\n",
    "\n"
   ],
   "metadata": {
    "collapsed": false,
    "ExecuteTime": {
     "end_time": "2024-03-29T13:55:51.202045800Z",
     "start_time": "2024-03-29T13:55:51.159966300Z"
    }
   },
   "id": "2eb96fe5ba8320",
   "execution_count": 47
  },
  {
   "cell_type": "code",
   "outputs": [
    {
     "data": {
      "text/plain": "<Graph identifier=Ndb0b390264c74f8984c6bb0726360950 (<class 'rdflib.graph.Graph'>)>"
     },
     "execution_count": 48,
     "metadata": {},
     "output_type": "execute_result"
    }
   ],
   "source": [
    "# safe ontology\n",
    "g.serialize(destination='data/ontology.ttl', format='turtle')"
   ],
   "metadata": {
    "collapsed": false,
    "ExecuteTime": {
     "end_time": "2024-03-29T13:55:51.227536800Z",
     "start_time": "2024-03-29T13:55:51.202045800Z"
    }
   },
   "id": "76b2b5363aee4140",
   "execution_count": 48
  },
  {
   "cell_type": "markdown",
   "source": [
    "# insert data"
   ],
   "metadata": {
    "collapsed": false
   },
   "id": "219d0af641478d63"
  },
  {
   "cell_type": "code",
   "outputs": [],
   "source": [
    "import yfinance as yf\n",
    "import pandas as pd\n",
    "import regex as re"
   ],
   "metadata": {
    "collapsed": false,
    "ExecuteTime": {
     "end_time": "2024-03-29T13:55:51.249035100Z",
     "start_time": "2024-03-29T13:55:51.225534900Z"
    }
   },
   "id": "63b67bcd0aa954a1",
   "execution_count": 49
  },
  {
   "cell_type": "code",
   "outputs": [],
   "source": [
    "def prep_uri(namespace: Namespace, clazz: str):\n",
    "    \"\"\"\n",
    "    This function prepares a URI for a given class. It removes special chars like & and -.\n",
    "    After that it removes any amount of whitespaces and replaces them with a dash.\n",
    "    :param namespace: \n",
    "    :param clazz: \n",
    "    :return: \n",
    "    \"\"\"\n",
    "    return namespace[quote(re.sub(r'\\s+', '-', clazz.replace('&', '').replace('-', '').replace('.','').lower()))]"
   ],
   "metadata": {
    "collapsed": false,
    "ExecuteTime": {
     "end_time": "2024-03-29T13:55:51.282159900Z",
     "start_time": "2024-03-29T13:55:51.249035100Z"
    }
   },
   "id": "b3d1575851f94022",
   "execution_count": 50
  },
  {
   "cell_type": "markdown",
   "source": [
    "## industry and sector data"
   ],
   "metadata": {
    "collapsed": false
   },
   "id": "848ee75ac262d3be"
  },
  {
   "cell_type": "code",
   "outputs": [
    {
     "data": {
      "text/plain": "                        Technology  Financial Services  \\\n0        Software - Infrastructure  Bank - Diversified   \n1                   Semiconductors     Credit Services   \n2             Consumer Electronics    Asset Management   \n3           Software - Application    Banks - Regional   \n4  Information Technology Services     Capital Markets   \n\n                     Healthcare        Consumer Cyclical  \\\n0  Drug Manufacturers - General          Internet Retail   \n1              Healthcare Plans       Auto Manufacturers   \n2               Medical Devices              Restaurants   \n3                 Biotechnology  Home Improvement Retail   \n4        Diagnostics & Research          Travel Services   \n\n                           Industrials          Communication Services  \\\n0       Specialty Industrial Machinery  Internet Content & Information   \n1                  Aerospace & Defense                Telecom Services   \n2                            Railroads                   Entertainment   \n3  Farm & Heavy Construction Machinery  Electronic Gaming & Multimedia   \n4        Building Products & Equipment            Advertising Agencies   \n\n              Consumer Defensive                          Energy  \\\n0                Discount Stores            Oil & Gas Integrated   \n1      Beverages - Non-Alcoholic                   Oil & Gas E&P   \n2  Household & Personal Products             Oil & Gas Midstream   \n3                 Packaged Foods  Oil & Gas Refining & Marketing   \n4                        Tobacco  Oil & Gas Equipment & Services   \n\n       Basic Materials           Real Estate                       Utilities  \n0  Specialty Chemicals      REIT - Specialty  Utilities - Regulated Electric  \n1                 Gold     REIT - Industrial           Utilities - Renewable  \n2   Building Materials         REIT - Retail         Utilities - Diversified  \n3               Copper    REIT - Residential       Utilities - Regulated Gas  \n4                Steel  Real Estate Services     Utilities - Regulated Water  ",
      "text/html": "<div>\n<style scoped>\n    .dataframe tbody tr th:only-of-type {\n        vertical-align: middle;\n    }\n\n    .dataframe tbody tr th {\n        vertical-align: top;\n    }\n\n    .dataframe thead th {\n        text-align: right;\n    }\n</style>\n<table border=\"1\" class=\"dataframe\">\n  <thead>\n    <tr style=\"text-align: right;\">\n      <th></th>\n      <th>Technology</th>\n      <th>Financial Services</th>\n      <th>Healthcare</th>\n      <th>Consumer Cyclical</th>\n      <th>Industrials</th>\n      <th>Communication Services</th>\n      <th>Consumer Defensive</th>\n      <th>Energy</th>\n      <th>Basic Materials</th>\n      <th>Real Estate</th>\n      <th>Utilities</th>\n    </tr>\n  </thead>\n  <tbody>\n    <tr>\n      <th>0</th>\n      <td>Software - Infrastructure</td>\n      <td>Bank - Diversified</td>\n      <td>Drug Manufacturers - General</td>\n      <td>Internet Retail</td>\n      <td>Specialty Industrial Machinery</td>\n      <td>Internet Content &amp; Information</td>\n      <td>Discount Stores</td>\n      <td>Oil &amp; Gas Integrated</td>\n      <td>Specialty Chemicals</td>\n      <td>REIT - Specialty</td>\n      <td>Utilities - Regulated Electric</td>\n    </tr>\n    <tr>\n      <th>1</th>\n      <td>Semiconductors</td>\n      <td>Credit Services</td>\n      <td>Healthcare Plans</td>\n      <td>Auto Manufacturers</td>\n      <td>Aerospace &amp; Defense</td>\n      <td>Telecom Services</td>\n      <td>Beverages - Non-Alcoholic</td>\n      <td>Oil &amp; Gas E&amp;P</td>\n      <td>Gold</td>\n      <td>REIT - Industrial</td>\n      <td>Utilities - Renewable</td>\n    </tr>\n    <tr>\n      <th>2</th>\n      <td>Consumer Electronics</td>\n      <td>Asset Management</td>\n      <td>Medical Devices</td>\n      <td>Restaurants</td>\n      <td>Railroads</td>\n      <td>Entertainment</td>\n      <td>Household &amp; Personal Products</td>\n      <td>Oil &amp; Gas Midstream</td>\n      <td>Building Materials</td>\n      <td>REIT - Retail</td>\n      <td>Utilities - Diversified</td>\n    </tr>\n    <tr>\n      <th>3</th>\n      <td>Software - Application</td>\n      <td>Banks - Regional</td>\n      <td>Biotechnology</td>\n      <td>Home Improvement Retail</td>\n      <td>Farm &amp; Heavy Construction Machinery</td>\n      <td>Electronic Gaming &amp; Multimedia</td>\n      <td>Packaged Foods</td>\n      <td>Oil &amp; Gas Refining &amp; Marketing</td>\n      <td>Copper</td>\n      <td>REIT - Residential</td>\n      <td>Utilities - Regulated Gas</td>\n    </tr>\n    <tr>\n      <th>4</th>\n      <td>Information Technology Services</td>\n      <td>Capital Markets</td>\n      <td>Diagnostics &amp; Research</td>\n      <td>Travel Services</td>\n      <td>Building Products &amp; Equipment</td>\n      <td>Advertising Agencies</td>\n      <td>Tobacco</td>\n      <td>Oil &amp; Gas Equipment &amp; Services</td>\n      <td>Steel</td>\n      <td>Real Estate Services</td>\n      <td>Utilities - Regulated Water</td>\n    </tr>\n  </tbody>\n</table>\n</div>"
     },
     "execution_count": 51,
     "metadata": {},
     "output_type": "execute_result"
    }
   ],
   "source": [
    "# read industry data\n",
    "sectors_industries_df = pd.read_excel('data/sectors-industries.xlsx')\n",
    "sectors_industries_df.head()"
   ],
   "metadata": {
    "collapsed": false,
    "ExecuteTime": {
     "end_time": "2024-03-29T13:55:51.301513800Z",
     "start_time": "2024-03-29T13:55:51.282159900Z"
    }
   },
   "id": "30e404136ffb039a",
   "execution_count": 51
  },
  {
   "cell_type": "code",
   "outputs": [],
   "source": [
    "# create industry and sector triples\n",
    "for sector in sectors_industries_df.columns:\n",
    "\n",
    "    sector_uri = prep_uri(SECTOR, sector)\n",
    "\n",
    "    g.add((sector_uri, RDF.type, FINANCE.Sector))\n",
    "    g.add((sector_uri, RDFS.label, Literal(sector, datatype=XSD.string)))\n",
    "\n",
    "    for industry in sectors_industries_df[sector]:\n",
    "        if pd.isna(industry):\n",
    "            continue\n",
    "\n",
    "        industry_uri = prep_uri(Namespace(sector_uri + '/'), industry)\n",
    "\n",
    "        g.add((industry_uri, RDF.type, FINANCE.Industry))\n",
    "        g.add((industry_uri, RDFS.label, Literal(industry, datatype=XSD.string)))\n",
    "        g.add((industry_uri, FINANCE.belongsToSector, sector_uri))"
   ],
   "metadata": {
    "collapsed": false,
    "ExecuteTime": {
     "end_time": "2024-03-29T13:55:51.329904400Z",
     "start_time": "2024-03-29T13:55:51.300512500Z"
    }
   },
   "id": "6e34af72f48e0a0b",
   "execution_count": 52
  },
  {
   "cell_type": "markdown",
   "source": [
    "## company data"
   ],
   "metadata": {
    "collapsed": false
   },
   "id": "84e4938836ab3055"
  },
  {
   "cell_type": "code",
   "outputs": [],
   "source": [
    "def is_valid_ticker(ticker: yf):\n",
    "    \"\"\"\n",
    "    This function checks if a given ticker symbol is valid.\n",
    "    :param ticker: \n",
    "    :return: boolean\n",
    "    \"\"\"\n",
    "    try:\n",
    "        if str(ticker.get_info()) == \"{'trailingPegRatio': None}\":\n",
    "            return False\n",
    "        return True\n",
    "    except Exception as e:\n",
    "        #print(e)\n",
    "        return False"
   ],
   "metadata": {
    "collapsed": false,
    "ExecuteTime": {
     "end_time": "2024-03-29T13:55:51.369699900Z",
     "start_time": "2024-03-29T13:55:51.312049700Z"
    }
   },
   "id": "5233ed1c14f31c38",
   "execution_count": 53
  },
  {
   "cell_type": "code",
   "outputs": [],
   "source": [
    "def grep_ticker_data(tickers: pd.Series):\n",
    "    \"\"\"\n",
    "    This function accumulates relevant stock data from yahoo finance with the corresponding ticker symbol.\n",
    "    :param tickers: column of ticker symbols\n",
    "    :return: TODO\n",
    "    \"\"\"\n",
    "    i = 0  # TODO remove\n",
    "    invalid_tickers = []\n",
    "\n",
    "    # get possible info data\n",
    "    tickers_metadata_df = pd.DataFrame()  #columns=yf.Ticker('').get_fast_info())\n",
    "    for ticker_value in tickers:\n",
    "        ticker = yf.Ticker(str(ticker_value))\n",
    "\n",
    "        if not is_valid_ticker(ticker):\n",
    "            # handling ticker like 'BRK/B', 'BF/B', 'HEI/A', 'UHAL/B'\n",
    "            if '/' in ticker_value:\n",
    "                ticker = yf.Ticker(str(ticker_value.replace('/', '-')))\n",
    "                if not is_valid_ticker(ticker):\n",
    "                    invalid_tickers.append(ticker_value)\n",
    "                    continue\n",
    "            else:\n",
    "                invalid_tickers.append(ticker_value)\n",
    "                continue\n",
    "        # deprecated\n",
    "        # tickers_metadata_df.append(ticker.get_info(), ignore_index=True)\n",
    "\n",
    "        #tickers_metadata_df = pd.concat([tickers_metadata_df, pd.DataFrame(ticker.get_info())])\n",
    "        \n",
    "        handle_info_data(ticker)\n",
    "        \n",
    "        # ticker.get_info()  is a dict get its keys\n",
    "        #print(ticker.get_info().keys())\n",
    "\n",
    "        #tickers_metadata_df.loc[str(ticker_value)] = new_row_dict\n",
    "        # for info in ticker.get_fast_info():\n",
    "        #     #info_data_dict = yf.Ticker(str(info)).get_info()\n",
    "        #     tickers_metadata_df.append(info, ignore_index=True)\n",
    "\n",
    "        # TODO remove\n",
    "        # i = i + 1\n",
    "        # if i == 2:\n",
    "        #     break\n",
    "\n",
    "    print(f\"a total of {len(invalid_tickers)} invalid tickers. \\n\"\n",
    "          f\"{invalid_tickers}\")\n",
    "\n",
    "    return tickers_metadata_df"
   ],
   "metadata": {
    "collapsed": false,
    "ExecuteTime": {
     "end_time": "2024-03-29T13:55:51.370701600Z",
     "start_time": "2024-03-29T13:55:51.316027600Z"
    }
   },
   "id": "642388289c921ca3",
   "execution_count": 54
  },
  {
   "cell_type": "code",
   "outputs": [],
   "source": [
    "def handle_info_data(ticker: yf.Ticker):\n",
    "    \"\"\"\n",
    "    This function handles the info data of a given ticker.\n",
    "    :param ticker: \n",
    "    :return: \n",
    "    \"\"\"\n",
    "    ## handle persons\n",
    "    info = ticker.get_info()\n",
    "    # if shortname is not available, skip and print shortname\n",
    "    if 'shortName' not in info:\n",
    "        print(f\"shortName not available for {ticker}\")\n",
    "        return\n",
    "    company_uri = prep_uri(COMPANY, info['shortName'])\n",
    "    \n",
    "    g.add((company_uri, RDF.type, FINANCE.Company))\n",
    "    g.add((company_uri, FINANCE.hasName, Literal(info['shortName'], datatype=XSD.string)))\n",
    "    g.add((company_uri, FINANCE.hasTicker, Literal(info['symbol'], datatype=XSD.string),))\n",
    "    if 'website' in info:\n",
    "        g.add((company_uri, FINANCE.hasWebsite, Literal(info['website'], datatype=XSD.string)))\n",
    "    \n",
    "    \n",
    "    \n",
    "    for key in info.keys():\n",
    "        if key == 'companyOfficers':\n",
    "            for employee in info['companyOfficers']:\n",
    "                name = re.sub(r'Mr. |Mrs. |Ms. ', '', employee['name'])\n",
    "            \n",
    "                person_uri = prep_uri(PERSON, name.lower().replace(' ', '-'))\n",
    "                #print(person_uri)\n",
    "                g.add((person_uri, RDF.type, FINANCE.Person))\n",
    "                \n",
    "                # remove Mr. and Mrs. from name\n",
    "                g.add((person_uri, FINANCE.hasName, Literal(name, datatype=XSD.string)))\n",
    "                # filter gender\n",
    "                if 'Mr.' in employee['name']:\n",
    "                    g.add((person_uri, FINANCE.hasGender, Literal('m', datatype=XSD.string)))\n",
    "                if 'Mrs.' in employee['name'] or 'Ms.' in employee['name']:\n",
    "                    g.add((person_uri, FINANCE.hasGender, Literal('w', datatype=XSD.string)))\n",
    "                if 'title' in employee:\n",
    "                    g.add((person_uri, FINANCE.hasJobTitle, Literal(employee['title'], datatype=XSD.string)))\n",
    "                if 'totalPay' in employee:\n",
    "                    g.add((person_uri, FINANCE.hasTotalPay, Literal(employee['totalPay'], datatype=XSD.float)))\n",
    "                if 'exercisedValue' in employee:\n",
    "                    g.add((person_uri, FINANCE.hasExercisedValue, Literal(employee['exercisedValue'], datatype=XSD.float)))\n",
    "                if 'unexercisedValue' in employee:\n",
    "                    g.add((person_uri, FINANCE.hasUnexercisedValue, Literal(employee['unexercisedValue'], datatype=XSD.float)))\n",
    "                if 'yearBorn' in employee:\n",
    "                    g.add((person_uri, FINANCE.hasYearBorn, Literal(employee['yearBorn'], datatype=XSD.integer)))\n",
    "                if 'age' in employee:\n",
    "                    g.add((person_uri, FINANCE.hasAge, Literal(employee['age'], datatype=XSD.integer)))\n",
    "                # add employee to company\n",
    "                g.add((company_uri, FINANCE.hasKeyExecutive, person_uri))\n",
    "        \n",
    "        # address\n",
    "        # address_uri = prep_uri(FINANCE.Address, info['shortName'])\n",
    "        # g.add((address_uri, RDF.type, FINANCE.Address))\n",
    "        # if key == 'address1':\n",
    "        #     g.add((address_uri, FINANCE.hasStreet, Literal(info['address1'], datatype=XSD.string)))\n",
    "        # if key == 'city':\n",
    "        #     g.add((address_uri, FINANCE.hasCity, Literal(info['city'], datatype=XSD.string)))\n",
    "        # if key == 'zip':\n",
    "        #     g.add((address_uri, FINANCE.hasPostalCode, Literal(info['zip'], datatype=XSD.string)))\n",
    "        # if key == 'country':\n",
    "        #     g.add((address_uri, FINANCE.hasCountry, Literal(info['country'], datatype=XSD.string)))\n",
    "        # if key == 'state':\n",
    "        #     g.add((address_uri, FINANCE.hasState, Literal(info['state'], datatype=XSD.string)))\n",
    "        \n",
    "        \n",
    "    pass"
   ],
   "metadata": {
    "collapsed": false,
    "ExecuteTime": {
     "end_time": "2024-03-29T13:55:51.372702800Z",
     "start_time": "2024-03-29T13:55:51.334909Z"
    }
   },
   "id": "7e0850934199c148",
   "execution_count": 55
  },
  {
   "cell_type": "code",
   "outputs": [],
   "source": [
    "# read companies in the msci world\n",
    "msci_world_companies_df = pd.read_excel('data/msci-world-updated.xlsx')\n",
    "sp_500_companies_df = pd.read_excel('data/sp-500-updated.xlsx')"
   ],
   "metadata": {
    "collapsed": false,
    "ExecuteTime": {
     "end_time": "2024-03-29T13:55:51.705161800Z",
     "start_time": "2024-03-29T13:55:51.373703500Z"
    }
   },
   "id": "5d5f5f6dbb9b932",
   "execution_count": 56
  },
  {
   "cell_type": "code",
   "outputs": [
    {
     "name": "stderr",
     "output_type": "stream",
     "text": [
      "404 Client Error: Not Found for url: https://query2.finance.yahoo.com/v10/finance/quoteSummary/BRK/B?modules=financialData%2CquoteType%2CdefaultKeyStatistics%2CassetProfile%2CsummaryDetail&corsDomain=finance.yahoo.com&formatted=false&symbol=BRK%2FB&crumb=RvcHzk3Ziw6\n",
      "404 Client Error: Not Found for url: https://query2.finance.yahoo.com/v10/finance/quoteSummary/XTSLA?modules=financialData%2CquoteType%2CdefaultKeyStatistics%2CassetProfile%2CsummaryDetail&corsDomain=finance.yahoo.com&formatted=false&symbol=XTSLA&crumb=RvcHzk3Ziw6\n",
      "404 Client Error: Not Found for url: https://query2.finance.yahoo.com/v10/finance/quoteSummary/BF/B?modules=financialData%2CquoteType%2CdefaultKeyStatistics%2CassetProfile%2CsummaryDetail&corsDomain=finance.yahoo.com&formatted=false&symbol=BF%2FB&crumb=RvcHzk3Ziw6\n",
      "404 Client Error: Not Found for url: https://query2.finance.yahoo.com/v10/finance/quoteSummary/HEI/A?modules=financialData%2CquoteType%2CdefaultKeyStatistics%2CassetProfile%2CsummaryDetail&corsDomain=finance.yahoo.com&formatted=false&symbol=HEI%2FA&crumb=RvcHzk3Ziw6\n"
     ]
    },
    {
     "name": "stdout",
     "output_type": "stream",
     "text": [
      "shortName not available for yfinance.Ticker object <CRSLF>\n",
      "shortName not available for yfinance.Ticker object <ASRRF>\n"
     ]
    },
    {
     "name": "stderr",
     "output_type": "stream",
     "text": [
      "404 Client Error: Not Found for url: https://query2.finance.yahoo.com/v10/finance/quoteSummary/UHAL/B?modules=financialData%2CquoteType%2CdefaultKeyStatistics%2CassetProfile%2CsummaryDetail&corsDomain=finance.yahoo.com&formatted=false&symbol=UHAL%2FB&crumb=RvcHzk3Ziw6\n"
     ]
    },
    {
     "name": "stdout",
     "output_type": "stream",
     "text": [
      "shortName not available for yfinance.Ticker object <KDXRF>\n",
      "shortName not available for yfinance.Ticker object <LTSSF>\n",
      "a total of 1 invalid tickers. \n",
      "['XTSLA']\n"
     ]
    },
    {
     "data": {
      "text/plain": "Empty DataFrame\nColumns: []\nIndex: []",
      "text/html": "<div>\n<style scoped>\n    .dataframe tbody tr th:only-of-type {\n        vertical-align: middle;\n    }\n\n    .dataframe tbody tr th {\n        vertical-align: top;\n    }\n\n    .dataframe thead th {\n        text-align: right;\n    }\n</style>\n<table border=\"1\" class=\"dataframe\">\n  <thead>\n    <tr style=\"text-align: right;\">\n      <th></th>\n    </tr>\n  </thead>\n  <tbody>\n  </tbody>\n</table>\n</div>"
     },
     "execution_count": 57,
     "metadata": {},
     "output_type": "execute_result"
    }
   ],
   "source": [
    "grep_ticker_data(msci_world_companies_df['Ticker'])"
   ],
   "metadata": {
    "collapsed": false,
    "ExecuteTime": {
     "end_time": "2024-03-29T13:58:41.583558400Z",
     "start_time": "2024-03-29T13:55:51.705161800Z"
    }
   },
   "id": "8be8df93c203cf9",
   "execution_count": 57
  },
  {
   "cell_type": "markdown",
   "source": [
    "managed to reduce from around 500 invalid tickers to less than 10 because of fetching tickers from a different API."
   ],
   "metadata": {
    "collapsed": false
   },
   "id": "d8861190e2cd0c5c"
  },
  {
   "cell_type": "code",
   "outputs": [
    {
     "name": "stderr",
     "output_type": "stream",
     "text": [
      "404 Client Error: Not Found for url: https://query2.finance.yahoo.com/v10/finance/quoteSummary/BRK/B?modules=financialData%2CquoteType%2CdefaultKeyStatistics%2CassetProfile%2CsummaryDetail&corsDomain=finance.yahoo.com&formatted=false&symbol=BRK%2FB&crumb=RvcHzk3Ziw6\n",
      "404 Client Error: Not Found for url: https://query2.finance.yahoo.com/v10/finance/quoteSummary/XTSLA?modules=financialData%2CquoteType%2CdefaultKeyStatistics%2CassetProfile%2CsummaryDetail&corsDomain=finance.yahoo.com&formatted=false&symbol=XTSLA&crumb=RvcHzk3Ziw6\n",
      "404 Client Error: Not Found for url: https://query2.finance.yahoo.com/v10/finance/quoteSummary/BF/B?modules=financialData%2CquoteType%2CdefaultKeyStatistics%2CassetProfile%2CsummaryDetail&corsDomain=finance.yahoo.com&formatted=false&symbol=BF%2FB&crumb=RvcHzk3Ziw6\n"
     ]
    },
    {
     "name": "stdout",
     "output_type": "stream",
     "text": [
      "a total of 1 invalid tickers. \n",
      "['XTSLA']\n"
     ]
    },
    {
     "data": {
      "text/plain": "Empty DataFrame\nColumns: []\nIndex: []",
      "text/html": "<div>\n<style scoped>\n    .dataframe tbody tr th:only-of-type {\n        vertical-align: middle;\n    }\n\n    .dataframe tbody tr th {\n        vertical-align: top;\n    }\n\n    .dataframe thead th {\n        text-align: right;\n    }\n</style>\n<table border=\"1\" class=\"dataframe\">\n  <thead>\n    <tr style=\"text-align: right;\">\n      <th></th>\n    </tr>\n  </thead>\n  <tbody>\n  </tbody>\n</table>\n</div>"
     },
     "execution_count": 58,
     "metadata": {},
     "output_type": "execute_result"
    }
   ],
   "source": [
    "# for ticker of sp_500_companies_df not in msci_world companies df but remove duplicates\n",
    "grep_ticker_data(sp_500_companies_df['Ticker'])"
   ],
   "metadata": {
    "collapsed": false,
    "ExecuteTime": {
     "end_time": "2024-03-29T13:59:42.778340200Z",
     "start_time": "2024-03-29T13:58:41.583558400Z"
    }
   },
   "id": "76a26f6bffa3717c",
   "execution_count": 58
  },
  {
   "cell_type": "code",
   "outputs": [],
   "source": [],
   "metadata": {
    "collapsed": false,
    "ExecuteTime": {
     "end_time": "2024-03-29T13:59:42.787031100Z",
     "start_time": "2024-03-29T13:59:42.779341Z"
    }
   },
   "id": "ec3548a7d82d9d19",
   "execution_count": 58
  },
  {
   "cell_type": "code",
   "outputs": [],
   "source": [
    "# write code an api request to get the data"
   ],
   "metadata": {
    "collapsed": false,
    "ExecuteTime": {
     "end_time": "2024-03-29T13:59:42.788032300Z",
     "start_time": "2024-03-29T13:59:42.782025300Z"
    }
   },
   "id": "e2fd3b53b9f3ec66",
   "execution_count": 59
  },
  {
   "cell_type": "code",
   "outputs": [
    {
     "data": {
      "text/plain": "<Graph identifier=Ndb0b390264c74f8984c6bb0726360950 (<class 'rdflib.graph.Graph'>)>"
     },
     "execution_count": 60,
     "metadata": {},
     "output_type": "execute_result"
    }
   ],
   "source": [
    "# safe kg\n",
    "g.serialize(destination='data/finance-kg.ttl', format='turtle')"
   ],
   "metadata": {
    "collapsed": false,
    "ExecuteTime": {
     "end_time": "2024-03-29T13:59:46.122401500Z",
     "start_time": "2024-03-29T13:59:42.786030500Z"
    }
   },
   "id": "f5cb8705bfed0081",
   "execution_count": 60
  },
  {
   "cell_type": "code",
   "outputs": [
    {
     "data": {
      "text/plain": "{'Dividend Date': datetime.date(2024, 2, 15),\n 'Ex-Dividend Date': datetime.date(2024, 2, 9),\n 'Earnings Date': [datetime.date(2024, 5, 2), datetime.date(2024, 5, 6)],\n 'Earnings High': 1.49,\n 'Earnings Low': 1.35,\n 'Earnings Average': 1.4,\n 'Revenue High': 89331900000,\n 'Revenue Low': 81212400000,\n 'Revenue Average': 83961100000}"
     },
     "execution_count": 61,
     "metadata": {},
     "output_type": "execute_result"
    }
   ],
   "source": [
    "test = yf.Ticker('AAPL')\n",
    "test.get_calendar()"
   ],
   "metadata": {
    "collapsed": false,
    "ExecuteTime": {
     "end_time": "2024-03-29T13:59:46.170524500Z",
     "start_time": "2024-03-29T13:59:46.115889900Z"
    }
   },
   "id": "5ac10bea5c55fdec",
   "execution_count": 61
  },
  {
   "cell_type": "code",
   "outputs": [
    {
     "data": {
      "text/plain": "                Name         Position URL  \\\n0  ADAMS KATHERINE L  General Counsel       \n1       BELL JAMES A         Director       \n2   GORE ALBERT A JR         Director       \n3        GORSKY ALEX         Director       \n4        JUNG ANDREA         Director       \n5  KONDO CHRISTOPHER          Officer       \n6  LEVINSON ARTHUR D         Director       \n7   LOZANO MONICA C.         Director       \n8     SUGAR RONALD D         Director       \n9     WAGNER SUSAN L         Director       \n\n                         Most Recent Transaction Latest Transaction Date  \\\n0                                           Sale              2023-11-17   \n1  Conversion of Exercise of derivative security              2024-02-01   \n2  Conversion of Exercise of derivative security              2024-02-01   \n3  Conversion of Exercise of derivative security              2024-02-01   \n4  Conversion of Exercise of derivative security              2024-02-01   \n5                                           Sale              2023-11-29   \n6                                           Sale              2024-02-29   \n7  Conversion of Exercise of derivative security              2024-02-01   \n8  Conversion of Exercise of derivative security              2024-02-01   \n9  Conversion of Exercise of derivative security              2024-02-01   \n\n   Shares Owned Indirectly  Position Indirect Date  Shares Owned Directly  \\\n0                 293266.0            1.700179e+09                    NaN   \n1                      NaN                     NaN                38527.0   \n2                      NaN                     NaN               468995.0   \n3                      NaN                     NaN                 4023.0   \n4                      NaN                     NaN                74489.0   \n5                      NaN                     NaN                29174.0   \n6                      NaN                     NaN              4490580.0   \n7                      NaN                     NaN                 7091.0   \n8                      NaN                     NaN               107795.0   \n9                      NaN                     NaN                67375.0   \n\n  Position Direct Date  \n0                  NaT  \n1           2024-02-01  \n2           2024-02-01  \n3           2024-02-01  \n4           2024-02-01  \n5           2023-11-29  \n6           2024-02-29  \n7           2024-02-01  \n8           2024-02-01  \n9           2024-02-01  ",
      "text/html": "<div>\n<style scoped>\n    .dataframe tbody tr th:only-of-type {\n        vertical-align: middle;\n    }\n\n    .dataframe tbody tr th {\n        vertical-align: top;\n    }\n\n    .dataframe thead th {\n        text-align: right;\n    }\n</style>\n<table border=\"1\" class=\"dataframe\">\n  <thead>\n    <tr style=\"text-align: right;\">\n      <th></th>\n      <th>Name</th>\n      <th>Position</th>\n      <th>URL</th>\n      <th>Most Recent Transaction</th>\n      <th>Latest Transaction Date</th>\n      <th>Shares Owned Indirectly</th>\n      <th>Position Indirect Date</th>\n      <th>Shares Owned Directly</th>\n      <th>Position Direct Date</th>\n    </tr>\n  </thead>\n  <tbody>\n    <tr>\n      <th>0</th>\n      <td>ADAMS KATHERINE L</td>\n      <td>General Counsel</td>\n      <td></td>\n      <td>Sale</td>\n      <td>2023-11-17</td>\n      <td>293266.0</td>\n      <td>1.700179e+09</td>\n      <td>NaN</td>\n      <td>NaT</td>\n    </tr>\n    <tr>\n      <th>1</th>\n      <td>BELL JAMES A</td>\n      <td>Director</td>\n      <td></td>\n      <td>Conversion of Exercise of derivative security</td>\n      <td>2024-02-01</td>\n      <td>NaN</td>\n      <td>NaN</td>\n      <td>38527.0</td>\n      <td>2024-02-01</td>\n    </tr>\n    <tr>\n      <th>2</th>\n      <td>GORE ALBERT A JR</td>\n      <td>Director</td>\n      <td></td>\n      <td>Conversion of Exercise of derivative security</td>\n      <td>2024-02-01</td>\n      <td>NaN</td>\n      <td>NaN</td>\n      <td>468995.0</td>\n      <td>2024-02-01</td>\n    </tr>\n    <tr>\n      <th>3</th>\n      <td>GORSKY ALEX</td>\n      <td>Director</td>\n      <td></td>\n      <td>Conversion of Exercise of derivative security</td>\n      <td>2024-02-01</td>\n      <td>NaN</td>\n      <td>NaN</td>\n      <td>4023.0</td>\n      <td>2024-02-01</td>\n    </tr>\n    <tr>\n      <th>4</th>\n      <td>JUNG ANDREA</td>\n      <td>Director</td>\n      <td></td>\n      <td>Conversion of Exercise of derivative security</td>\n      <td>2024-02-01</td>\n      <td>NaN</td>\n      <td>NaN</td>\n      <td>74489.0</td>\n      <td>2024-02-01</td>\n    </tr>\n    <tr>\n      <th>5</th>\n      <td>KONDO CHRISTOPHER</td>\n      <td>Officer</td>\n      <td></td>\n      <td>Sale</td>\n      <td>2023-11-29</td>\n      <td>NaN</td>\n      <td>NaN</td>\n      <td>29174.0</td>\n      <td>2023-11-29</td>\n    </tr>\n    <tr>\n      <th>6</th>\n      <td>LEVINSON ARTHUR D</td>\n      <td>Director</td>\n      <td></td>\n      <td>Sale</td>\n      <td>2024-02-29</td>\n      <td>NaN</td>\n      <td>NaN</td>\n      <td>4490580.0</td>\n      <td>2024-02-29</td>\n    </tr>\n    <tr>\n      <th>7</th>\n      <td>LOZANO MONICA C.</td>\n      <td>Director</td>\n      <td></td>\n      <td>Conversion of Exercise of derivative security</td>\n      <td>2024-02-01</td>\n      <td>NaN</td>\n      <td>NaN</td>\n      <td>7091.0</td>\n      <td>2024-02-01</td>\n    </tr>\n    <tr>\n      <th>8</th>\n      <td>SUGAR RONALD D</td>\n      <td>Director</td>\n      <td></td>\n      <td>Conversion of Exercise of derivative security</td>\n      <td>2024-02-01</td>\n      <td>NaN</td>\n      <td>NaN</td>\n      <td>107795.0</td>\n      <td>2024-02-01</td>\n    </tr>\n    <tr>\n      <th>9</th>\n      <td>WAGNER SUSAN L</td>\n      <td>Director</td>\n      <td></td>\n      <td>Conversion of Exercise of derivative security</td>\n      <td>2024-02-01</td>\n      <td>NaN</td>\n      <td>NaN</td>\n      <td>67375.0</td>\n      <td>2024-02-01</td>\n    </tr>\n  </tbody>\n</table>\n</div>"
     },
     "execution_count": 62,
     "metadata": {},
     "output_type": "execute_result"
    }
   ],
   "source": [
    "test.get_insider_roster_holders()"
   ],
   "metadata": {
    "collapsed": false,
    "ExecuteTime": {
     "end_time": "2024-03-29T13:59:46.247371500Z",
     "start_time": "2024-03-29T13:59:46.170524500Z"
    }
   },
   "id": "9ade542333a7d907",
   "execution_count": 62
  },
  {
   "cell_type": "code",
   "outputs": [
    {
     "ename": "KeyError",
     "evalue": "'Earnings Date'",
     "output_type": "error",
     "traceback": [
      "\u001B[1;31m---------------------------------------------------------------------------\u001B[0m",
      "\u001B[1;31mKeyError\u001B[0m                                  Traceback (most recent call last)",
      "File \u001B[1;32m~\\AppData\\Local\\Programs\\Python\\Python312\\Lib\\site-packages\\pandas\\core\\indexes\\base.py:3805\u001B[0m, in \u001B[0;36mIndex.get_loc\u001B[1;34m(self, key)\u001B[0m\n\u001B[0;32m   3804\u001B[0m \u001B[38;5;28;01mtry\u001B[39;00m:\n\u001B[1;32m-> 3805\u001B[0m     \u001B[38;5;28;01mreturn\u001B[39;00m \u001B[38;5;28;43mself\u001B[39;49m\u001B[38;5;241;43m.\u001B[39;49m\u001B[43m_engine\u001B[49m\u001B[38;5;241;43m.\u001B[39;49m\u001B[43mget_loc\u001B[49m\u001B[43m(\u001B[49m\u001B[43mcasted_key\u001B[49m\u001B[43m)\u001B[49m\n\u001B[0;32m   3806\u001B[0m \u001B[38;5;28;01mexcept\u001B[39;00m \u001B[38;5;167;01mKeyError\u001B[39;00m \u001B[38;5;28;01mas\u001B[39;00m err:\n",
      "File \u001B[1;32mindex.pyx:167\u001B[0m, in \u001B[0;36mpandas._libs.index.IndexEngine.get_loc\u001B[1;34m()\u001B[0m\n",
      "File \u001B[1;32mindex.pyx:196\u001B[0m, in \u001B[0;36mpandas._libs.index.IndexEngine.get_loc\u001B[1;34m()\u001B[0m\n",
      "File \u001B[1;32mpandas\\\\_libs\\\\hashtable_class_helper.pxi:7081\u001B[0m, in \u001B[0;36mpandas._libs.hashtable.PyObjectHashTable.get_item\u001B[1;34m()\u001B[0m\n",
      "File \u001B[1;32mpandas\\\\_libs\\\\hashtable_class_helper.pxi:7089\u001B[0m, in \u001B[0;36mpandas._libs.hashtable.PyObjectHashTable.get_item\u001B[1;34m()\u001B[0m\n",
      "\u001B[1;31mKeyError\u001B[0m: 'Earnings Date'",
      "\nThe above exception was the direct cause of the following exception:\n",
      "\u001B[1;31mKeyError\u001B[0m                                  Traceback (most recent call last)",
      "Cell \u001B[1;32mIn[63], line 1\u001B[0m\n\u001B[1;32m----> 1\u001B[0m \u001B[43mtest\u001B[49m\u001B[38;5;241;43m.\u001B[39;49m\u001B[43mearnings_dates\u001B[49m\n",
      "File \u001B[1;32m~\\AppData\\Local\\Programs\\Python\\Python312\\Lib\\site-packages\\yfinance\\ticker.py:276\u001B[0m, in \u001B[0;36mTicker.earnings_dates\u001B[1;34m(self)\u001B[0m\n\u001B[0;32m    274\u001B[0m \u001B[38;5;129m@property\u001B[39m\n\u001B[0;32m    275\u001B[0m \u001B[38;5;28;01mdef\u001B[39;00m \u001B[38;5;21mearnings_dates\u001B[39m(\u001B[38;5;28mself\u001B[39m) \u001B[38;5;241m-\u001B[39m\u001B[38;5;241m>\u001B[39m _pd\u001B[38;5;241m.\u001B[39mDataFrame:\n\u001B[1;32m--> 276\u001B[0m     \u001B[38;5;28;01mreturn\u001B[39;00m \u001B[38;5;28;43mself\u001B[39;49m\u001B[38;5;241;43m.\u001B[39;49m\u001B[43mget_earnings_dates\u001B[49m\u001B[43m(\u001B[49m\u001B[43m)\u001B[49m\n",
      "File \u001B[1;32m~\\AppData\\Local\\Programs\\Python\\Python312\\Lib\\site-packages\\yfinance\\utils.py:103\u001B[0m, in \u001B[0;36mlog_indent_decorator.<locals>.wrapper\u001B[1;34m(*args, **kwargs)\u001B[0m\n\u001B[0;32m    100\u001B[0m logger\u001B[38;5;241m.\u001B[39mdebug(\u001B[38;5;124mf\u001B[39m\u001B[38;5;124m'\u001B[39m\u001B[38;5;124mEntering \u001B[39m\u001B[38;5;132;01m{\u001B[39;00mfunc\u001B[38;5;241m.\u001B[39m\u001B[38;5;18m__name__\u001B[39m\u001B[38;5;132;01m}\u001B[39;00m\u001B[38;5;124m()\u001B[39m\u001B[38;5;124m'\u001B[39m)\n\u001B[0;32m    102\u001B[0m \u001B[38;5;28;01mwith\u001B[39;00m IndentationContext():\n\u001B[1;32m--> 103\u001B[0m     result \u001B[38;5;241m=\u001B[39m \u001B[43mfunc\u001B[49m\u001B[43m(\u001B[49m\u001B[38;5;241;43m*\u001B[39;49m\u001B[43margs\u001B[49m\u001B[43m,\u001B[49m\u001B[43m \u001B[49m\u001B[38;5;241;43m*\u001B[39;49m\u001B[38;5;241;43m*\u001B[39;49m\u001B[43mkwargs\u001B[49m\u001B[43m)\u001B[49m\n\u001B[0;32m    105\u001B[0m logger\u001B[38;5;241m.\u001B[39mdebug(\u001B[38;5;124mf\u001B[39m\u001B[38;5;124m'\u001B[39m\u001B[38;5;124mExiting \u001B[39m\u001B[38;5;132;01m{\u001B[39;00mfunc\u001B[38;5;241m.\u001B[39m\u001B[38;5;18m__name__\u001B[39m\u001B[38;5;132;01m}\u001B[39;00m\u001B[38;5;124m()\u001B[39m\u001B[38;5;124m'\u001B[39m)\n\u001B[0;32m    106\u001B[0m \u001B[38;5;28;01mreturn\u001B[39;00m result\n",
      "File \u001B[1;32m~\\AppData\\Local\\Programs\\Python\\Python312\\Lib\\site-packages\\yfinance\\base.py:589\u001B[0m, in \u001B[0;36mTickerBase.get_earnings_dates\u001B[1;34m(self, limit, proxy)\u001B[0m\n\u001B[0;32m    587\u001B[0m cn \u001B[38;5;241m=\u001B[39m \u001B[38;5;124m\"\u001B[39m\u001B[38;5;124mEarnings Date\u001B[39m\u001B[38;5;124m\"\u001B[39m\n\u001B[0;32m    588\u001B[0m \u001B[38;5;66;03m# - remove AM/PM and timezone from date string\u001B[39;00m\n\u001B[1;32m--> 589\u001B[0m tzinfo \u001B[38;5;241m=\u001B[39m \u001B[43mdates\u001B[49m\u001B[43m[\u001B[49m\u001B[43mcn\u001B[49m\u001B[43m]\u001B[49m\u001B[38;5;241m.\u001B[39mstr\u001B[38;5;241m.\u001B[39mextract(\u001B[38;5;124m'\u001B[39m\u001B[38;5;124m([AP]M[a-zA-Z]*)$\u001B[39m\u001B[38;5;124m'\u001B[39m)\n\u001B[0;32m    590\u001B[0m dates[cn] \u001B[38;5;241m=\u001B[39m dates[cn]\u001B[38;5;241m.\u001B[39mreplace(\u001B[38;5;124m'\u001B[39m\u001B[38;5;124m [AP]M[a-zA-Z]*$\u001B[39m\u001B[38;5;124m'\u001B[39m, \u001B[38;5;124m'\u001B[39m\u001B[38;5;124m'\u001B[39m, regex\u001B[38;5;241m=\u001B[39m\u001B[38;5;28;01mTrue\u001B[39;00m)\n\u001B[0;32m    591\u001B[0m \u001B[38;5;66;03m# - split AM/PM from timezone\u001B[39;00m\n",
      "File \u001B[1;32m~\\AppData\\Local\\Programs\\Python\\Python312\\Lib\\site-packages\\pandas\\core\\frame.py:4090\u001B[0m, in \u001B[0;36mDataFrame.__getitem__\u001B[1;34m(self, key)\u001B[0m\n\u001B[0;32m   4088\u001B[0m \u001B[38;5;28;01mif\u001B[39;00m \u001B[38;5;28mself\u001B[39m\u001B[38;5;241m.\u001B[39mcolumns\u001B[38;5;241m.\u001B[39mnlevels \u001B[38;5;241m>\u001B[39m \u001B[38;5;241m1\u001B[39m:\n\u001B[0;32m   4089\u001B[0m     \u001B[38;5;28;01mreturn\u001B[39;00m \u001B[38;5;28mself\u001B[39m\u001B[38;5;241m.\u001B[39m_getitem_multilevel(key)\n\u001B[1;32m-> 4090\u001B[0m indexer \u001B[38;5;241m=\u001B[39m \u001B[38;5;28;43mself\u001B[39;49m\u001B[38;5;241;43m.\u001B[39;49m\u001B[43mcolumns\u001B[49m\u001B[38;5;241;43m.\u001B[39;49m\u001B[43mget_loc\u001B[49m\u001B[43m(\u001B[49m\u001B[43mkey\u001B[49m\u001B[43m)\u001B[49m\n\u001B[0;32m   4091\u001B[0m \u001B[38;5;28;01mif\u001B[39;00m is_integer(indexer):\n\u001B[0;32m   4092\u001B[0m     indexer \u001B[38;5;241m=\u001B[39m [indexer]\n",
      "File \u001B[1;32m~\\AppData\\Local\\Programs\\Python\\Python312\\Lib\\site-packages\\pandas\\core\\indexes\\base.py:3812\u001B[0m, in \u001B[0;36mIndex.get_loc\u001B[1;34m(self, key)\u001B[0m\n\u001B[0;32m   3807\u001B[0m     \u001B[38;5;28;01mif\u001B[39;00m \u001B[38;5;28misinstance\u001B[39m(casted_key, \u001B[38;5;28mslice\u001B[39m) \u001B[38;5;129;01mor\u001B[39;00m (\n\u001B[0;32m   3808\u001B[0m         \u001B[38;5;28misinstance\u001B[39m(casted_key, abc\u001B[38;5;241m.\u001B[39mIterable)\n\u001B[0;32m   3809\u001B[0m         \u001B[38;5;129;01mand\u001B[39;00m \u001B[38;5;28many\u001B[39m(\u001B[38;5;28misinstance\u001B[39m(x, \u001B[38;5;28mslice\u001B[39m) \u001B[38;5;28;01mfor\u001B[39;00m x \u001B[38;5;129;01min\u001B[39;00m casted_key)\n\u001B[0;32m   3810\u001B[0m     ):\n\u001B[0;32m   3811\u001B[0m         \u001B[38;5;28;01mraise\u001B[39;00m InvalidIndexError(key)\n\u001B[1;32m-> 3812\u001B[0m     \u001B[38;5;28;01mraise\u001B[39;00m \u001B[38;5;167;01mKeyError\u001B[39;00m(key) \u001B[38;5;28;01mfrom\u001B[39;00m \u001B[38;5;21;01merr\u001B[39;00m\n\u001B[0;32m   3813\u001B[0m \u001B[38;5;28;01mexcept\u001B[39;00m \u001B[38;5;167;01mTypeError\u001B[39;00m:\n\u001B[0;32m   3814\u001B[0m     \u001B[38;5;66;03m# If we have a listlike key, _check_indexing_error will raise\u001B[39;00m\n\u001B[0;32m   3815\u001B[0m     \u001B[38;5;66;03m#  InvalidIndexError. Otherwise we fall through and re-raise\u001B[39;00m\n\u001B[0;32m   3816\u001B[0m     \u001B[38;5;66;03m#  the TypeError.\u001B[39;00m\n\u001B[0;32m   3817\u001B[0m     \u001B[38;5;28mself\u001B[39m\u001B[38;5;241m.\u001B[39m_check_indexing_error(key)\n",
      "\u001B[1;31mKeyError\u001B[0m: 'Earnings Date'"
     ]
    }
   ],
   "source": [
    "test.earnings_dates"
   ],
   "metadata": {
    "collapsed": false,
    "ExecuteTime": {
     "end_time": "2024-03-29T13:59:54.307739400Z",
     "start_time": "2024-03-29T13:59:46.239363800Z"
    }
   },
   "id": "7ab9580c737636ac",
   "execution_count": 63
  },
  {
   "cell_type": "code",
   "outputs": [],
   "source": [
    "test.mutualfund_holders"
   ],
   "metadata": {
    "collapsed": false,
    "ExecuteTime": {
     "start_time": "2024-03-29T13:59:54.307739400Z"
    }
   },
   "id": "8b4d9ed397041628",
   "execution_count": null
  },
  {
   "cell_type": "code",
   "outputs": [],
   "source": [
    "test.sustainability"
   ],
   "metadata": {
    "collapsed": false,
    "ExecuteTime": {
     "end_time": "2024-03-29T13:59:54.309052300Z",
     "start_time": "2024-03-29T13:59:54.309052300Z"
    }
   },
   "id": "4178b32020142246",
   "execution_count": null
  },
  {
   "cell_type": "code",
   "outputs": [],
   "source": [
    "test."
   ],
   "metadata": {
    "collapsed": false,
    "ExecuteTime": {
     "start_time": "2024-03-29T13:59:54.309742100Z"
    }
   },
   "id": "ffabf83ffc397327"
  }
 ],
 "metadata": {
  "kernelspec": {
   "display_name": "Python 3",
   "language": "python",
   "name": "python3"
  },
  "language_info": {
   "codemirror_mode": {
    "name": "ipython",
    "version": 2
   },
   "file_extension": ".py",
   "mimetype": "text/x-python",
   "name": "python",
   "nbconvert_exporter": "python",
   "pygments_lexer": "ipython2",
   "version": "2.7.6"
  }
 },
 "nbformat": 4,
 "nbformat_minor": 5
}
